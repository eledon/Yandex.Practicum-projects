{
 "cells": [
  {
   "cell_type": "markdown",
   "metadata": {},
   "source": [
    "# Telecom prepaid plan analytics."
   ]
  },
  {
   "cell_type": "markdown",
   "metadata": {},
   "source": [
    "##  Project description:\n",
    "A telecom operator Megaline is looking at using insights from analytics to make adjustments in advertising budget. The company offers its clients two prepaid plans, Smart and Ultra. The commercial department wants to know which of the plans brings in more revenue in order to adjust the advertising budget.\n",
    "\n",
    "It is required to carry out a preliminary analysis of the plans based on a relatively small client selection. The data on 500 Megaline clients is available: who the clients are, where they're from, which plan they use, and the number of calls they made and text messages they sent in 2018. The objective is to analyze clients' behavior and determine which prepaid plan brings in more revenue.\n",
    "\n",
    "Prepaid plans:\n",
    "\n",
    "Smart\n",
    "\n",
    "Monthly charge: 550 rubles\n",
    "500 monthly minutes, 50 texts and 15 GB of data\n",
    "After exceeding the package limits:\n",
    "1 minute: 3 rubles (\"Megaline\" always rounds up the minute and megabyte values. If the call lasted just one second, it will be counted as one minute)\n",
    "1 text message: 3 rubles\n",
    "1 GB of data: 200 rubles.\n",
    "\n",
    "Ultra\n",
    "\n",
    "Monthly charge: $1950 rubles\n",
    "3000 monthly minutes, 1000 text messages, and 30 GB of data\n",
    "After exceeding the package limits:\n",
    "1 minute: 1 rubles\n",
    "1 text messgae: 1 rubles\n",
    "1 GB of web traffic: 150 rubles."
   ]
  },
  {
   "cell_type": "markdown",
   "metadata": {
    "toc": true
   },
   "source": [
    "<h1>Table of Contents<span class=\"tocSkip\"></span></h1>\n",
    "<div class=\"toc\"><ul class=\"toc-item\"><li><span><a href=\"#Project-description:\" data-toc-modified-id=\"Project-description:-1\"><span class=\"toc-item-num\">1&nbsp;&nbsp;</span>Project description:</a></span></li><li><span><a href=\"#Open-the-data-file-and-study-the-general-information\" data-toc-modified-id=\"Open-the-data-file-and-study-the-general-information-2\"><span class=\"toc-item-num\">2&nbsp;&nbsp;</span>Open the data file and study the general information</a></span></li><li><span><a href=\"#Data-preparation\" data-toc-modified-id=\"Data-preparation-3\"><span class=\"toc-item-num\">3&nbsp;&nbsp;</span>Data preparation</a></span></li><li><span><a href=\"#Data-analysis\" data-toc-modified-id=\"Data-analysis-4\"><span class=\"toc-item-num\">4&nbsp;&nbsp;</span>Data analysis</a></span></li><li><span><a href=\"#Hypotheses-testing.\" data-toc-modified-id=\"Hypotheses-testing.-5\"><span class=\"toc-item-num\">5&nbsp;&nbsp;</span>Hypotheses testing.</a></span></li><li><span><a href=\"#Conclusion:\" data-toc-modified-id=\"Conclusion:-6\"><span class=\"toc-item-num\">6&nbsp;&nbsp;</span>Conclusion:</a></span></li></ul></div>"
   ]
  },
  {
   "cell_type": "markdown",
   "metadata": {},
   "source": [
    "## Open the data file and study the general information"
   ]
  },
  {
   "cell_type": "markdown",
   "metadata": {},
   "source": [
    "First we need to import the libraries (pandas, numpy, matplotlib, seaborn)and warnings."
   ]
  },
  {
   "cell_type": "code",
   "execution_count": 1,
   "metadata": {},
   "outputs": [],
   "source": [
    "import warnings\n",
    "warnings.simplefilter('ignore')\n",
    "import pandas as pd\n",
    "import numpy as np\n",
    "from scipy import stats as st\n",
    "import matplotlib.pyplot as plt\n",
    "%matplotlib inline\n",
    "import seaborn as sns\n",
    "from pylab import rcParams"
   ]
  },
  {
   "cell_type": "markdown",
   "metadata": {},
   "source": [
    "Now we need to upload and read the data. "
   ]
  },
  {
   "cell_type": "code",
   "execution_count": 2,
   "metadata": {},
   "outputs": [
    {
     "data": {
      "text/html": [
       "<div>\n",
       "<style scoped>\n",
       "    .dataframe tbody tr th:only-of-type {\n",
       "        vertical-align: middle;\n",
       "    }\n",
       "\n",
       "    .dataframe tbody tr th {\n",
       "        vertical-align: top;\n",
       "    }\n",
       "\n",
       "    .dataframe thead th {\n",
       "        text-align: right;\n",
       "    }\n",
       "</style>\n",
       "<table border=\"1\" class=\"dataframe\">\n",
       "  <thead>\n",
       "    <tr style=\"text-align: right;\">\n",
       "      <th></th>\n",
       "      <th>id</th>\n",
       "      <th>call_date</th>\n",
       "      <th>duration</th>\n",
       "      <th>user_id</th>\n",
       "    </tr>\n",
       "  </thead>\n",
       "  <tbody>\n",
       "    <tr>\n",
       "      <th>0</th>\n",
       "      <td>1000_0</td>\n",
       "      <td>2018-07-25</td>\n",
       "      <td>0.00</td>\n",
       "      <td>1000</td>\n",
       "    </tr>\n",
       "    <tr>\n",
       "      <th>1</th>\n",
       "      <td>1000_1</td>\n",
       "      <td>2018-08-17</td>\n",
       "      <td>0.00</td>\n",
       "      <td>1000</td>\n",
       "    </tr>\n",
       "    <tr>\n",
       "      <th>2</th>\n",
       "      <td>1000_2</td>\n",
       "      <td>2018-06-11</td>\n",
       "      <td>2.85</td>\n",
       "      <td>1000</td>\n",
       "    </tr>\n",
       "    <tr>\n",
       "      <th>3</th>\n",
       "      <td>1000_3</td>\n",
       "      <td>2018-09-21</td>\n",
       "      <td>13.80</td>\n",
       "      <td>1000</td>\n",
       "    </tr>\n",
       "    <tr>\n",
       "      <th>4</th>\n",
       "      <td>1000_4</td>\n",
       "      <td>2018-12-15</td>\n",
       "      <td>5.18</td>\n",
       "      <td>1000</td>\n",
       "    </tr>\n",
       "  </tbody>\n",
       "</table>\n",
       "</div>"
      ],
      "text/plain": [
       "       id   call_date  duration  user_id\n",
       "0  1000_0  2018-07-25      0.00     1000\n",
       "1  1000_1  2018-08-17      0.00     1000\n",
       "2  1000_2  2018-06-11      2.85     1000\n",
       "3  1000_3  2018-09-21     13.80     1000\n",
       "4  1000_4  2018-12-15      5.18     1000"
      ]
     },
     "execution_count": 2,
     "metadata": {},
     "output_type": "execute_result"
    }
   ],
   "source": [
    "# <reading data and saving to df>') \n",
    "calls=pd.read_csv('Telecom project/calls.csv')\n",
    "internet=pd.read_csv('Telecom project/internet.csv')\n",
    "messages=pd.read_csv('Telecom project/messages.csv')\n",
    "tariffs=pd.read_csv('Telecom project/tariffs.csv')\n",
    "users=pd.read_csv('Telecom project/users.csv')\n",
    "pd.set_option('display.max_columns', None)#setting for displaying all dataframe columns\n",
    "calls.head()# reading first 5 lines of the dataset"
   ]
  },
  {
   "cell_type": "markdown",
   "metadata": {},
   "source": [
    "Let's use .info() method to print information about the dataframe and apply duplicate() method to check the data for duplicates."
   ]
  },
  {
   "cell_type": "code",
   "execution_count": 3,
   "metadata": {},
   "outputs": [
    {
     "name": "stdout",
     "output_type": "stream",
     "text": [
      "<class 'pandas.core.frame.DataFrame'>\n",
      "RangeIndex: 202607 entries, 0 to 202606\n",
      "Data columns (total 4 columns):\n",
      " #   Column     Non-Null Count   Dtype  \n",
      "---  ------     --------------   -----  \n",
      " 0   id         202607 non-null  object \n",
      " 1   call_date  202607 non-null  object \n",
      " 2   duration   202607 non-null  float64\n",
      " 3   user_id    202607 non-null  int64  \n",
      "dtypes: float64(1), int64(1), object(2)\n",
      "memory usage: 6.2+ MB\n"
     ]
    }
   ],
   "source": [
    "calls.info()"
   ]
  },
  {
   "cell_type": "code",
   "execution_count": 4,
   "metadata": {},
   "outputs": [
    {
     "data": {
      "text/plain": [
       "0"
      ]
     },
     "execution_count": 4,
     "metadata": {},
     "output_type": "execute_result"
    }
   ],
   "source": [
    "calls.duplicated().sum()"
   ]
  },
  {
   "cell_type": "markdown",
   "metadata": {},
   "source": [
    "We can see there are calls with 0 duration. Evidently these are calls missed by the subscriber. There are 202607 rows in the dataframe, there are no Nan values or duplicates. "
   ]
  },
  {
   "cell_type": "markdown",
   "metadata": {},
   "source": [
    "Now we can read and obtain general information about \"internet\" dataframe:"
   ]
  },
  {
   "cell_type": "code",
   "execution_count": 5,
   "metadata": {},
   "outputs": [
    {
     "data": {
      "text/html": [
       "<div>\n",
       "<style scoped>\n",
       "    .dataframe tbody tr th:only-of-type {\n",
       "        vertical-align: middle;\n",
       "    }\n",
       "\n",
       "    .dataframe tbody tr th {\n",
       "        vertical-align: top;\n",
       "    }\n",
       "\n",
       "    .dataframe thead th {\n",
       "        text-align: right;\n",
       "    }\n",
       "</style>\n",
       "<table border=\"1\" class=\"dataframe\">\n",
       "  <thead>\n",
       "    <tr style=\"text-align: right;\">\n",
       "      <th></th>\n",
       "      <th>Unnamed: 0</th>\n",
       "      <th>id</th>\n",
       "      <th>mb_used</th>\n",
       "      <th>session_date</th>\n",
       "      <th>user_id</th>\n",
       "    </tr>\n",
       "  </thead>\n",
       "  <tbody>\n",
       "    <tr>\n",
       "      <th>0</th>\n",
       "      <td>0</td>\n",
       "      <td>1000_0</td>\n",
       "      <td>112.95</td>\n",
       "      <td>2018-11-25</td>\n",
       "      <td>1000</td>\n",
       "    </tr>\n",
       "    <tr>\n",
       "      <th>1</th>\n",
       "      <td>1</td>\n",
       "      <td>1000_1</td>\n",
       "      <td>1052.81</td>\n",
       "      <td>2018-09-07</td>\n",
       "      <td>1000</td>\n",
       "    </tr>\n",
       "    <tr>\n",
       "      <th>2</th>\n",
       "      <td>2</td>\n",
       "      <td>1000_2</td>\n",
       "      <td>1197.26</td>\n",
       "      <td>2018-06-25</td>\n",
       "      <td>1000</td>\n",
       "    </tr>\n",
       "    <tr>\n",
       "      <th>3</th>\n",
       "      <td>3</td>\n",
       "      <td>1000_3</td>\n",
       "      <td>550.27</td>\n",
       "      <td>2018-08-22</td>\n",
       "      <td>1000</td>\n",
       "    </tr>\n",
       "    <tr>\n",
       "      <th>4</th>\n",
       "      <td>4</td>\n",
       "      <td>1000_4</td>\n",
       "      <td>302.56</td>\n",
       "      <td>2018-09-24</td>\n",
       "      <td>1000</td>\n",
       "    </tr>\n",
       "  </tbody>\n",
       "</table>\n",
       "</div>"
      ],
      "text/plain": [
       "   Unnamed: 0      id  mb_used session_date  user_id\n",
       "0           0  1000_0   112.95   2018-11-25     1000\n",
       "1           1  1000_1  1052.81   2018-09-07     1000\n",
       "2           2  1000_2  1197.26   2018-06-25     1000\n",
       "3           3  1000_3   550.27   2018-08-22     1000\n",
       "4           4  1000_4   302.56   2018-09-24     1000"
      ]
     },
     "execution_count": 5,
     "metadata": {},
     "output_type": "execute_result"
    }
   ],
   "source": [
    "internet.head()"
   ]
  },
  {
   "cell_type": "code",
   "execution_count": 6,
   "metadata": {},
   "outputs": [
    {
     "name": "stdout",
     "output_type": "stream",
     "text": [
      "<class 'pandas.core.frame.DataFrame'>\n",
      "RangeIndex: 149396 entries, 0 to 149395\n",
      "Data columns (total 5 columns):\n",
      " #   Column        Non-Null Count   Dtype  \n",
      "---  ------        --------------   -----  \n",
      " 0   Unnamed: 0    149396 non-null  int64  \n",
      " 1   id            149396 non-null  object \n",
      " 2   mb_used       149396 non-null  float64\n",
      " 3   session_date  149396 non-null  object \n",
      " 4   user_id       149396 non-null  int64  \n",
      "dtypes: float64(1), int64(2), object(2)\n",
      "memory usage: 5.7+ MB\n"
     ]
    }
   ],
   "source": [
    "internet.info()"
   ]
  },
  {
   "cell_type": "code",
   "execution_count": 7,
   "metadata": {},
   "outputs": [
    {
     "name": "stdout",
     "output_type": "stream",
     "text": [
      "number of 0 sessions:  19598 ; number of internet users:  149396\n"
     ]
    }
   ],
   "source": [
    "print(\"number of 0 sessions: \", internet.query('mb_used==0')['id'].count(), \"; \"\n",
    "\"number of internet users: \", internet['id'].count())"
   ]
  },
  {
   "cell_type": "markdown",
   "metadata": {},
   "source": [
    "We suppose these are sessions when there was internet connection but no sites were browsed. We'll keep these null sessions and null calls."
   ]
  },
  {
   "cell_type": "code",
   "execution_count": 8,
   "metadata": {},
   "outputs": [
    {
     "data": {
      "text/plain": [
       "0"
      ]
     },
     "execution_count": 8,
     "metadata": {},
     "output_type": "execute_result"
    }
   ],
   "source": [
    "internet.duplicated().sum()"
   ]
  },
  {
   "cell_type": "markdown",
   "metadata": {},
   "source": [
    "No Nan values are found. Now let's study 'messages':"
   ]
  },
  {
   "cell_type": "code",
   "execution_count": 9,
   "metadata": {},
   "outputs": [
    {
     "data": {
      "text/html": [
       "<div>\n",
       "<style scoped>\n",
       "    .dataframe tbody tr th:only-of-type {\n",
       "        vertical-align: middle;\n",
       "    }\n",
       "\n",
       "    .dataframe tbody tr th {\n",
       "        vertical-align: top;\n",
       "    }\n",
       "\n",
       "    .dataframe thead th {\n",
       "        text-align: right;\n",
       "    }\n",
       "</style>\n",
       "<table border=\"1\" class=\"dataframe\">\n",
       "  <thead>\n",
       "    <tr style=\"text-align: right;\">\n",
       "      <th></th>\n",
       "      <th>id</th>\n",
       "      <th>message_date</th>\n",
       "      <th>user_id</th>\n",
       "    </tr>\n",
       "  </thead>\n",
       "  <tbody>\n",
       "    <tr>\n",
       "      <th>0</th>\n",
       "      <td>1000_0</td>\n",
       "      <td>2018-06-27</td>\n",
       "      <td>1000</td>\n",
       "    </tr>\n",
       "    <tr>\n",
       "      <th>1</th>\n",
       "      <td>1000_1</td>\n",
       "      <td>2018-10-08</td>\n",
       "      <td>1000</td>\n",
       "    </tr>\n",
       "    <tr>\n",
       "      <th>2</th>\n",
       "      <td>1000_2</td>\n",
       "      <td>2018-08-04</td>\n",
       "      <td>1000</td>\n",
       "    </tr>\n",
       "    <tr>\n",
       "      <th>3</th>\n",
       "      <td>1000_3</td>\n",
       "      <td>2018-06-16</td>\n",
       "      <td>1000</td>\n",
       "    </tr>\n",
       "    <tr>\n",
       "      <th>4</th>\n",
       "      <td>1000_4</td>\n",
       "      <td>2018-12-05</td>\n",
       "      <td>1000</td>\n",
       "    </tr>\n",
       "  </tbody>\n",
       "</table>\n",
       "</div>"
      ],
      "text/plain": [
       "       id message_date  user_id\n",
       "0  1000_0   2018-06-27     1000\n",
       "1  1000_1   2018-10-08     1000\n",
       "2  1000_2   2018-08-04     1000\n",
       "3  1000_3   2018-06-16     1000\n",
       "4  1000_4   2018-12-05     1000"
      ]
     },
     "execution_count": 9,
     "metadata": {},
     "output_type": "execute_result"
    }
   ],
   "source": [
    "messages.head()"
   ]
  },
  {
   "cell_type": "code",
   "execution_count": 10,
   "metadata": {},
   "outputs": [
    {
     "name": "stdout",
     "output_type": "stream",
     "text": [
      "<class 'pandas.core.frame.DataFrame'>\n",
      "RangeIndex: 123036 entries, 0 to 123035\n",
      "Data columns (total 3 columns):\n",
      " #   Column        Non-Null Count   Dtype \n",
      "---  ------        --------------   ----- \n",
      " 0   id            123036 non-null  object\n",
      " 1   message_date  123036 non-null  object\n",
      " 2   user_id       123036 non-null  int64 \n",
      "dtypes: int64(1), object(2)\n",
      "memory usage: 2.8+ MB\n"
     ]
    }
   ],
   "source": [
    "messages.info()"
   ]
  },
  {
   "cell_type": "code",
   "execution_count": 11,
   "metadata": {},
   "outputs": [
    {
     "data": {
      "text/plain": [
       "0"
      ]
     },
     "execution_count": 11,
     "metadata": {},
     "output_type": "execute_result"
    }
   ],
   "source": [
    "messages.duplicated().sum()"
   ]
  },
  {
   "cell_type": "markdown",
   "metadata": {},
   "source": [
    "'tariffs' dataframe:"
   ]
  },
  {
   "cell_type": "code",
   "execution_count": 12,
   "metadata": {},
   "outputs": [
    {
     "data": {
      "text/html": [
       "<div>\n",
       "<style scoped>\n",
       "    .dataframe tbody tr th:only-of-type {\n",
       "        vertical-align: middle;\n",
       "    }\n",
       "\n",
       "    .dataframe tbody tr th {\n",
       "        vertical-align: top;\n",
       "    }\n",
       "\n",
       "    .dataframe thead th {\n",
       "        text-align: right;\n",
       "    }\n",
       "</style>\n",
       "<table border=\"1\" class=\"dataframe\">\n",
       "  <thead>\n",
       "    <tr style=\"text-align: right;\">\n",
       "      <th></th>\n",
       "      <th>messages_included</th>\n",
       "      <th>mb_per_month_included</th>\n",
       "      <th>minutes_included</th>\n",
       "      <th>rub_monthly_fee</th>\n",
       "      <th>rub_per_gb</th>\n",
       "      <th>rub_per_message</th>\n",
       "      <th>rub_per_minute</th>\n",
       "      <th>tariff_name</th>\n",
       "    </tr>\n",
       "  </thead>\n",
       "  <tbody>\n",
       "    <tr>\n",
       "      <th>0</th>\n",
       "      <td>50</td>\n",
       "      <td>15360</td>\n",
       "      <td>500</td>\n",
       "      <td>550</td>\n",
       "      <td>200</td>\n",
       "      <td>3</td>\n",
       "      <td>3</td>\n",
       "      <td>smart</td>\n",
       "    </tr>\n",
       "    <tr>\n",
       "      <th>1</th>\n",
       "      <td>1000</td>\n",
       "      <td>30720</td>\n",
       "      <td>3000</td>\n",
       "      <td>1950</td>\n",
       "      <td>150</td>\n",
       "      <td>1</td>\n",
       "      <td>1</td>\n",
       "      <td>ultra</td>\n",
       "    </tr>\n",
       "  </tbody>\n",
       "</table>\n",
       "</div>"
      ],
      "text/plain": [
       "   messages_included  mb_per_month_included  minutes_included  \\\n",
       "0                 50                  15360               500   \n",
       "1               1000                  30720              3000   \n",
       "\n",
       "   rub_monthly_fee  rub_per_gb  rub_per_message  rub_per_minute tariff_name  \n",
       "0              550         200                3               3       smart  \n",
       "1             1950         150                1               1       ultra  "
      ]
     },
     "execution_count": 12,
     "metadata": {},
     "output_type": "execute_result"
    }
   ],
   "source": [
    "tariffs.head()"
   ]
  },
  {
   "cell_type": "code",
   "execution_count": 13,
   "metadata": {},
   "outputs": [
    {
     "name": "stdout",
     "output_type": "stream",
     "text": [
      "<class 'pandas.core.frame.DataFrame'>\n",
      "RangeIndex: 2 entries, 0 to 1\n",
      "Data columns (total 8 columns):\n",
      " #   Column                 Non-Null Count  Dtype \n",
      "---  ------                 --------------  ----- \n",
      " 0   messages_included      2 non-null      int64 \n",
      " 1   mb_per_month_included  2 non-null      int64 \n",
      " 2   minutes_included       2 non-null      int64 \n",
      " 3   rub_monthly_fee        2 non-null      int64 \n",
      " 4   rub_per_gb             2 non-null      int64 \n",
      " 5   rub_per_message        2 non-null      int64 \n",
      " 6   rub_per_minute         2 non-null      int64 \n",
      " 7   tariff_name            2 non-null      object\n",
      "dtypes: int64(7), object(1)\n",
      "memory usage: 256.0+ bytes\n"
     ]
    }
   ],
   "source": [
    "tariffs.info()"
   ]
  },
  {
   "cell_type": "code",
   "execution_count": 14,
   "metadata": {},
   "outputs": [
    {
     "data": {
      "text/html": [
       "<div>\n",
       "<style scoped>\n",
       "    .dataframe tbody tr th:only-of-type {\n",
       "        vertical-align: middle;\n",
       "    }\n",
       "\n",
       "    .dataframe tbody tr th {\n",
       "        vertical-align: top;\n",
       "    }\n",
       "\n",
       "    .dataframe thead th {\n",
       "        text-align: right;\n",
       "    }\n",
       "</style>\n",
       "<table border=\"1\" class=\"dataframe\">\n",
       "  <thead>\n",
       "    <tr style=\"text-align: right;\">\n",
       "      <th></th>\n",
       "      <th>user_id</th>\n",
       "      <th>age</th>\n",
       "      <th>churn_date</th>\n",
       "      <th>city</th>\n",
       "      <th>first_name</th>\n",
       "      <th>last_name</th>\n",
       "      <th>reg_date</th>\n",
       "      <th>tariff</th>\n",
       "    </tr>\n",
       "  </thead>\n",
       "  <tbody>\n",
       "    <tr>\n",
       "      <th>0</th>\n",
       "      <td>1000</td>\n",
       "      <td>52</td>\n",
       "      <td>NaN</td>\n",
       "      <td>Краснодар</td>\n",
       "      <td>Рафаил</td>\n",
       "      <td>Верещагин</td>\n",
       "      <td>2018-05-25</td>\n",
       "      <td>ultra</td>\n",
       "    </tr>\n",
       "    <tr>\n",
       "      <th>1</th>\n",
       "      <td>1001</td>\n",
       "      <td>41</td>\n",
       "      <td>NaN</td>\n",
       "      <td>Москва</td>\n",
       "      <td>Иван</td>\n",
       "      <td>Ежов</td>\n",
       "      <td>2018-11-01</td>\n",
       "      <td>smart</td>\n",
       "    </tr>\n",
       "    <tr>\n",
       "      <th>2</th>\n",
       "      <td>1002</td>\n",
       "      <td>59</td>\n",
       "      <td>NaN</td>\n",
       "      <td>Стерлитамак</td>\n",
       "      <td>Евгений</td>\n",
       "      <td>Абрамович</td>\n",
       "      <td>2018-06-17</td>\n",
       "      <td>smart</td>\n",
       "    </tr>\n",
       "    <tr>\n",
       "      <th>3</th>\n",
       "      <td>1003</td>\n",
       "      <td>23</td>\n",
       "      <td>NaN</td>\n",
       "      <td>Москва</td>\n",
       "      <td>Белла</td>\n",
       "      <td>Белякова</td>\n",
       "      <td>2018-08-17</td>\n",
       "      <td>ultra</td>\n",
       "    </tr>\n",
       "    <tr>\n",
       "      <th>4</th>\n",
       "      <td>1004</td>\n",
       "      <td>68</td>\n",
       "      <td>NaN</td>\n",
       "      <td>Новокузнецк</td>\n",
       "      <td>Татьяна</td>\n",
       "      <td>Авдеенко</td>\n",
       "      <td>2018-05-14</td>\n",
       "      <td>ultra</td>\n",
       "    </tr>\n",
       "  </tbody>\n",
       "</table>\n",
       "</div>"
      ],
      "text/plain": [
       "   user_id  age churn_date         city first_name  last_name    reg_date  \\\n",
       "0     1000   52        NaN    Краснодар     Рафаил  Верещагин  2018-05-25   \n",
       "1     1001   41        NaN       Москва       Иван       Ежов  2018-11-01   \n",
       "2     1002   59        NaN  Стерлитамак    Евгений  Абрамович  2018-06-17   \n",
       "3     1003   23        NaN       Москва      Белла   Белякова  2018-08-17   \n",
       "4     1004   68        NaN  Новокузнецк    Татьяна   Авдеенко  2018-05-14   \n",
       "\n",
       "  tariff  \n",
       "0  ultra  \n",
       "1  smart  \n",
       "2  smart  \n",
       "3  ultra  \n",
       "4  ultra  "
      ]
     },
     "execution_count": 14,
     "metadata": {},
     "output_type": "execute_result"
    }
   ],
   "source": [
    "users.head()"
   ]
  },
  {
   "cell_type": "code",
   "execution_count": 15,
   "metadata": {},
   "outputs": [
    {
     "name": "stdout",
     "output_type": "stream",
     "text": [
      "<class 'pandas.core.frame.DataFrame'>\n",
      "RangeIndex: 500 entries, 0 to 499\n",
      "Data columns (total 8 columns):\n",
      " #   Column      Non-Null Count  Dtype \n",
      "---  ------      --------------  ----- \n",
      " 0   user_id     500 non-null    int64 \n",
      " 1   age         500 non-null    int64 \n",
      " 2   churn_date  38 non-null     object\n",
      " 3   city        500 non-null    object\n",
      " 4   first_name  500 non-null    object\n",
      " 5   last_name   500 non-null    object\n",
      " 6   reg_date    500 non-null    object\n",
      " 7   tariff      500 non-null    object\n",
      "dtypes: int64(2), object(6)\n",
      "memory usage: 31.4+ KB\n"
     ]
    }
   ],
   "source": [
    "users.info()"
   ]
  },
  {
   "cell_type": "code",
   "execution_count": 16,
   "metadata": {},
   "outputs": [
    {
     "data": {
      "text/plain": [
       "0"
      ]
     },
     "execution_count": 16,
     "metadata": {},
     "output_type": "execute_result"
    }
   ],
   "source": [
    "users.duplicated().sum()"
   ]
  },
  {
   "cell_type": "markdown",
   "metadata": {},
   "source": [
    "'churn' column in 'users' dataframe contains many Nan values. The data description says that \"churn_date is the date when the customer left the service. If the value is missing then the customer was using Megaline services. We leave the Nan values in this dataframe. "
   ]
  },
  {
   "cell_type": "markdown",
   "metadata": {},
   "source": [
    "## Data preparation"
   ]
  },
  {
   "cell_type": "markdown",
   "metadata": {},
   "source": [
    "From the general information about the dataset, we can see that the dataset contains different data with different datatype. We would need to change datatypes to the right format. For instance, call_date in the calls dataframe needs to be changed to datetime, reg_date and churn_date in the users need to be changed to datetime, message_date in the messages needs to be changed to datetime, session_date in the internet needs to be converted to datetime.  "
   ]
  },
  {
   "cell_type": "code",
   "execution_count": 17,
   "metadata": {},
   "outputs": [],
   "source": [
    "calls['call_date'] = pd.to_datetime(calls['call_date'])\n",
    "messages['message_date'] = pd.to_datetime(messages['message_date'])\n",
    "internet['session_date'] = pd.to_datetime(internet['session_date'])"
   ]
  },
  {
   "cell_type": "markdown",
   "metadata": {},
   "source": [
    "We need to create a separate column 'month' "
   ]
  },
  {
   "cell_type": "code",
   "execution_count": 18,
   "metadata": {},
   "outputs": [
    {
     "data": {
      "text/html": [
       "<div>\n",
       "<style scoped>\n",
       "    .dataframe tbody tr th:only-of-type {\n",
       "        vertical-align: middle;\n",
       "    }\n",
       "\n",
       "    .dataframe tbody tr th {\n",
       "        vertical-align: top;\n",
       "    }\n",
       "\n",
       "    .dataframe thead th {\n",
       "        text-align: right;\n",
       "    }\n",
       "</style>\n",
       "<table border=\"1\" class=\"dataframe\">\n",
       "  <thead>\n",
       "    <tr style=\"text-align: right;\">\n",
       "      <th></th>\n",
       "      <th>id</th>\n",
       "      <th>call_date</th>\n",
       "      <th>duration</th>\n",
       "      <th>user_id</th>\n",
       "      <th>month</th>\n",
       "    </tr>\n",
       "  </thead>\n",
       "  <tbody>\n",
       "    <tr>\n",
       "      <th>0</th>\n",
       "      <td>1000_0</td>\n",
       "      <td>2018-07-25</td>\n",
       "      <td>0.00</td>\n",
       "      <td>1000</td>\n",
       "      <td>July</td>\n",
       "    </tr>\n",
       "    <tr>\n",
       "      <th>1</th>\n",
       "      <td>1000_1</td>\n",
       "      <td>2018-08-17</td>\n",
       "      <td>0.00</td>\n",
       "      <td>1000</td>\n",
       "      <td>August</td>\n",
       "    </tr>\n",
       "    <tr>\n",
       "      <th>2</th>\n",
       "      <td>1000_2</td>\n",
       "      <td>2018-06-11</td>\n",
       "      <td>2.85</td>\n",
       "      <td>1000</td>\n",
       "      <td>June</td>\n",
       "    </tr>\n",
       "    <tr>\n",
       "      <th>3</th>\n",
       "      <td>1000_3</td>\n",
       "      <td>2018-09-21</td>\n",
       "      <td>13.80</td>\n",
       "      <td>1000</td>\n",
       "      <td>September</td>\n",
       "    </tr>\n",
       "    <tr>\n",
       "      <th>4</th>\n",
       "      <td>1000_4</td>\n",
       "      <td>2018-12-15</td>\n",
       "      <td>5.18</td>\n",
       "      <td>1000</td>\n",
       "      <td>December</td>\n",
       "    </tr>\n",
       "  </tbody>\n",
       "</table>\n",
       "</div>"
      ],
      "text/plain": [
       "       id  call_date  duration  user_id      month\n",
       "0  1000_0 2018-07-25      0.00     1000       July\n",
       "1  1000_1 2018-08-17      0.00     1000     August\n",
       "2  1000_2 2018-06-11      2.85     1000       June\n",
       "3  1000_3 2018-09-21     13.80     1000  September\n",
       "4  1000_4 2018-12-15      5.18     1000   December"
      ]
     },
     "execution_count": 18,
     "metadata": {},
     "output_type": "execute_result"
    }
   ],
   "source": [
    "month_type = pd.api.types.CategoricalDtype(categories=\n",
    "['January', 'February', 'March', 'April', 'May', 'June', 'July', 'August', 'September',\n",
    "       'October', 'November', 'December'], ordered=True)\n",
    "calls['month'] = calls['call_date'].dt.month_name()\n",
    "calls['month'] = calls['month'].astype(month_type)\n",
    "messages['month'] = messages['message_date'].dt.month_name()\n",
    "messages['month'] = messages['month'].astype(month_type)\n",
    "internet['month'] = internet['session_date'].dt.month_name()\n",
    "internet['month'] = internet['month'].astype(month_type)\n",
    "calls.head()"
   ]
  },
  {
   "cell_type": "markdown",
   "metadata": {},
   "source": [
    "From the project description we know that 'For calls, each individual call is rounded up: even if the call lasted just one second, it will be counted as one minute, for internet traffic, total Megabytes used per month are rounded up: if the subsciber uses 1025 megabytes per month, they will be charged for 2 Gigabytes. We need to consider this fact for data grouping. Let's group the data by users and months and join dataframes 'calls', 'internet', 'messages', 'products'. We'll call the new dataframe 'products_by_month' and rename the columns.  "
   ]
  },
  {
   "cell_type": "code",
   "execution_count": 19,
   "metadata": {},
   "outputs": [
    {
     "data": {
      "text/html": [
       "<div>\n",
       "<style scoped>\n",
       "    .dataframe tbody tr th:only-of-type {\n",
       "        vertical-align: middle;\n",
       "    }\n",
       "\n",
       "    .dataframe tbody tr th {\n",
       "        vertical-align: top;\n",
       "    }\n",
       "\n",
       "    .dataframe thead th {\n",
       "        text-align: right;\n",
       "    }\n",
       "</style>\n",
       "<table border=\"1\" class=\"dataframe\">\n",
       "  <thead>\n",
       "    <tr style=\"text-align: right;\">\n",
       "      <th></th>\n",
       "      <th>user_id</th>\n",
       "      <th>month</th>\n",
       "      <th>calls_num</th>\n",
       "      <th>calls_dur</th>\n",
       "      <th>mb_used</th>\n",
       "      <th>messages_num</th>\n",
       "    </tr>\n",
       "  </thead>\n",
       "  <tbody>\n",
       "    <tr>\n",
       "      <th>0</th>\n",
       "      <td>1000</td>\n",
       "      <td>August</td>\n",
       "      <td>52.0</td>\n",
       "      <td>408.0</td>\n",
       "      <td>14055.93</td>\n",
       "      <td>81.0</td>\n",
       "    </tr>\n",
       "    <tr>\n",
       "      <th>1</th>\n",
       "      <td>1000</td>\n",
       "      <td>December</td>\n",
       "      <td>46.0</td>\n",
       "      <td>333.0</td>\n",
       "      <td>9817.61</td>\n",
       "      <td>70.0</td>\n",
       "    </tr>\n",
       "    <tr>\n",
       "      <th>2</th>\n",
       "      <td>1000</td>\n",
       "      <td>July</td>\n",
       "      <td>47.0</td>\n",
       "      <td>340.0</td>\n",
       "      <td>14003.64</td>\n",
       "      <td>75.0</td>\n",
       "    </tr>\n",
       "    <tr>\n",
       "      <th>3</th>\n",
       "      <td>1000</td>\n",
       "      <td>June</td>\n",
       "      <td>43.0</td>\n",
       "      <td>172.0</td>\n",
       "      <td>23233.77</td>\n",
       "      <td>60.0</td>\n",
       "    </tr>\n",
       "    <tr>\n",
       "      <th>4</th>\n",
       "      <td>1000</td>\n",
       "      <td>May</td>\n",
       "      <td>22.0</td>\n",
       "      <td>159.0</td>\n",
       "      <td>2253.49</td>\n",
       "      <td>22.0</td>\n",
       "    </tr>\n",
       "  </tbody>\n",
       "</table>\n",
       "</div>"
      ],
      "text/plain": [
       "   user_id     month  calls_num  calls_dur   mb_used  messages_num\n",
       "0     1000    August       52.0      408.0  14055.93          81.0\n",
       "1     1000  December       46.0      333.0   9817.61          70.0\n",
       "2     1000      July       47.0      340.0  14003.64          75.0\n",
       "3     1000      June       43.0      172.0  23233.77          60.0\n",
       "4     1000       May       22.0      159.0   2253.49          22.0"
      ]
     },
     "execution_count": 19,
     "metadata": {},
     "output_type": "execute_result"
    }
   ],
   "source": [
    "calls['duration'] = calls['duration'].apply(np.ceil) # round up\n",
    "calls_by_month=calls.groupby(['user_id', 'month'], observed=True)['duration'].agg(['count', 'sum'])\n",
    "internet_by_month=internet.groupby(['user_id', 'month'], observed=True)['mb_used'].sum()\n",
    "messages_by_month=messages.groupby(['user_id', 'month'], observed=True)['id'].count()\n",
    "products_by_month = pd.concat([calls_by_month, internet_by_month, messages_by_month], axis=1).reset_index()\n",
    "products_by_month.columns =['user_id','month','calls_num','calls_dur','mb_used','messages_num']\n",
    "products_by_month.head()"
   ]
  },
  {
   "cell_type": "markdown",
   "metadata": {},
   "source": [
    "We can merge products_by_month with the dataframes 'users' and 'tariffs': "
   ]
  },
  {
   "cell_type": "code",
   "execution_count": 20,
   "metadata": {},
   "outputs": [
    {
     "data": {
      "text/html": [
       "<div>\n",
       "<style scoped>\n",
       "    .dataframe tbody tr th:only-of-type {\n",
       "        vertical-align: middle;\n",
       "    }\n",
       "\n",
       "    .dataframe tbody tr th {\n",
       "        vertical-align: top;\n",
       "    }\n",
       "\n",
       "    .dataframe thead th {\n",
       "        text-align: right;\n",
       "    }\n",
       "</style>\n",
       "<table border=\"1\" class=\"dataframe\">\n",
       "  <thead>\n",
       "    <tr style=\"text-align: right;\">\n",
       "      <th></th>\n",
       "      <th>user_id</th>\n",
       "      <th>month</th>\n",
       "      <th>calls_num</th>\n",
       "      <th>calls_dur</th>\n",
       "      <th>mb_used</th>\n",
       "      <th>messages_num</th>\n",
       "      <th>city</th>\n",
       "      <th>tariff</th>\n",
       "      <th>messages_included</th>\n",
       "      <th>mb_per_month_included</th>\n",
       "      <th>minutes_included</th>\n",
       "      <th>rub_monthly_fee</th>\n",
       "      <th>rub_per_gb</th>\n",
       "      <th>rub_per_message</th>\n",
       "      <th>rub_per_minute</th>\n",
       "      <th>tariff_name</th>\n",
       "    </tr>\n",
       "  </thead>\n",
       "  <tbody>\n",
       "    <tr>\n",
       "      <th>0</th>\n",
       "      <td>1000</td>\n",
       "      <td>August</td>\n",
       "      <td>52.0</td>\n",
       "      <td>408.0</td>\n",
       "      <td>14055.93</td>\n",
       "      <td>81.0</td>\n",
       "      <td>Краснодар</td>\n",
       "      <td>ultra</td>\n",
       "      <td>1000</td>\n",
       "      <td>30720</td>\n",
       "      <td>3000</td>\n",
       "      <td>1950</td>\n",
       "      <td>150</td>\n",
       "      <td>1</td>\n",
       "      <td>1</td>\n",
       "      <td>ultra</td>\n",
       "    </tr>\n",
       "    <tr>\n",
       "      <th>1</th>\n",
       "      <td>1000</td>\n",
       "      <td>December</td>\n",
       "      <td>46.0</td>\n",
       "      <td>333.0</td>\n",
       "      <td>9817.61</td>\n",
       "      <td>70.0</td>\n",
       "      <td>Краснодар</td>\n",
       "      <td>ultra</td>\n",
       "      <td>1000</td>\n",
       "      <td>30720</td>\n",
       "      <td>3000</td>\n",
       "      <td>1950</td>\n",
       "      <td>150</td>\n",
       "      <td>1</td>\n",
       "      <td>1</td>\n",
       "      <td>ultra</td>\n",
       "    </tr>\n",
       "    <tr>\n",
       "      <th>2</th>\n",
       "      <td>1000</td>\n",
       "      <td>July</td>\n",
       "      <td>47.0</td>\n",
       "      <td>340.0</td>\n",
       "      <td>14003.64</td>\n",
       "      <td>75.0</td>\n",
       "      <td>Краснодар</td>\n",
       "      <td>ultra</td>\n",
       "      <td>1000</td>\n",
       "      <td>30720</td>\n",
       "      <td>3000</td>\n",
       "      <td>1950</td>\n",
       "      <td>150</td>\n",
       "      <td>1</td>\n",
       "      <td>1</td>\n",
       "      <td>ultra</td>\n",
       "    </tr>\n",
       "    <tr>\n",
       "      <th>3</th>\n",
       "      <td>1000</td>\n",
       "      <td>June</td>\n",
       "      <td>43.0</td>\n",
       "      <td>172.0</td>\n",
       "      <td>23233.77</td>\n",
       "      <td>60.0</td>\n",
       "      <td>Краснодар</td>\n",
       "      <td>ultra</td>\n",
       "      <td>1000</td>\n",
       "      <td>30720</td>\n",
       "      <td>3000</td>\n",
       "      <td>1950</td>\n",
       "      <td>150</td>\n",
       "      <td>1</td>\n",
       "      <td>1</td>\n",
       "      <td>ultra</td>\n",
       "    </tr>\n",
       "    <tr>\n",
       "      <th>4</th>\n",
       "      <td>1000</td>\n",
       "      <td>May</td>\n",
       "      <td>22.0</td>\n",
       "      <td>159.0</td>\n",
       "      <td>2253.49</td>\n",
       "      <td>22.0</td>\n",
       "      <td>Краснодар</td>\n",
       "      <td>ultra</td>\n",
       "      <td>1000</td>\n",
       "      <td>30720</td>\n",
       "      <td>3000</td>\n",
       "      <td>1950</td>\n",
       "      <td>150</td>\n",
       "      <td>1</td>\n",
       "      <td>1</td>\n",
       "      <td>ultra</td>\n",
       "    </tr>\n",
       "  </tbody>\n",
       "</table>\n",
       "</div>"
      ],
      "text/plain": [
       "   user_id     month  calls_num  calls_dur   mb_used  messages_num       city  \\\n",
       "0     1000    August       52.0      408.0  14055.93          81.0  Краснодар   \n",
       "1     1000  December       46.0      333.0   9817.61          70.0  Краснодар   \n",
       "2     1000      July       47.0      340.0  14003.64          75.0  Краснодар   \n",
       "3     1000      June       43.0      172.0  23233.77          60.0  Краснодар   \n",
       "4     1000       May       22.0      159.0   2253.49          22.0  Краснодар   \n",
       "\n",
       "  tariff  messages_included  mb_per_month_included  minutes_included  \\\n",
       "0  ultra               1000                  30720              3000   \n",
       "1  ultra               1000                  30720              3000   \n",
       "2  ultra               1000                  30720              3000   \n",
       "3  ultra               1000                  30720              3000   \n",
       "4  ultra               1000                  30720              3000   \n",
       "\n",
       "   rub_monthly_fee  rub_per_gb  rub_per_message  rub_per_minute tariff_name  \n",
       "0             1950         150                1               1       ultra  \n",
       "1             1950         150                1               1       ultra  \n",
       "2             1950         150                1               1       ultra  \n",
       "3             1950         150                1               1       ultra  \n",
       "4             1950         150                1               1       ultra  "
      ]
     },
     "execution_count": 20,
     "metadata": {},
     "output_type": "execute_result"
    }
   ],
   "source": [
    "products_by_month_all = products_by_month.merge(users[['user_id','city','tariff']], on='user_id').merge(tariffs, left_on='tariff', right_on='tariff_name')\n",
    "products_by_month_all.head()"
   ]
  },
  {
   "cell_type": "code",
   "execution_count": 21,
   "metadata": {},
   "outputs": [
    {
     "name": "stdout",
     "output_type": "stream",
     "text": [
      "<class 'pandas.core.frame.DataFrame'>\n",
      "Int64Index: 3214 entries, 0 to 3213\n",
      "Data columns (total 16 columns):\n",
      " #   Column                 Non-Null Count  Dtype  \n",
      "---  ------                 --------------  -----  \n",
      " 0   user_id                3214 non-null   int64  \n",
      " 1   month                  3214 non-null   object \n",
      " 2   calls_num              3174 non-null   float64\n",
      " 3   calls_dur              3174 non-null   float64\n",
      " 4   mb_used                3203 non-null   float64\n",
      " 5   messages_num           2717 non-null   float64\n",
      " 6   city                   3214 non-null   object \n",
      " 7   tariff                 3214 non-null   object \n",
      " 8   messages_included      3214 non-null   int64  \n",
      " 9   mb_per_month_included  3214 non-null   int64  \n",
      " 10  minutes_included       3214 non-null   int64  \n",
      " 11  rub_monthly_fee        3214 non-null   int64  \n",
      " 12  rub_per_gb             3214 non-null   int64  \n",
      " 13  rub_per_message        3214 non-null   int64  \n",
      " 14  rub_per_minute         3214 non-null   int64  \n",
      " 15  tariff_name            3214 non-null   object \n",
      "dtypes: float64(4), int64(8), object(4)\n",
      "memory usage: 426.9+ KB\n"
     ]
    }
   ],
   "source": [
    "products_by_month_all.info()"
   ]
  },
  {
   "cell_type": "markdown",
   "metadata": {},
   "source": [
    "products_by_month_all contains Nan values. let's find out how many:"
   ]
  },
  {
   "cell_type": "code",
   "execution_count": 22,
   "metadata": {},
   "outputs": [
    {
     "data": {
      "text/plain": [
       "user_id                    0\n",
       "month                      0\n",
       "calls_num                 40\n",
       "calls_dur                 40\n",
       "mb_used                   11\n",
       "messages_num             497\n",
       "city                       0\n",
       "tariff                     0\n",
       "messages_included          0\n",
       "mb_per_month_included      0\n",
       "minutes_included           0\n",
       "rub_monthly_fee            0\n",
       "rub_per_gb                 0\n",
       "rub_per_message            0\n",
       "rub_per_minute             0\n",
       "tariff_name                0\n",
       "dtype: int64"
      ]
     },
     "execution_count": 22,
     "metadata": {},
     "output_type": "execute_result"
    }
   ],
   "source": [
    "products_by_month_all.isna().sum()"
   ]
  },
  {
   "cell_type": "markdown",
   "metadata": {},
   "source": [
    "We can leave Nan values in 'churn' column, in all other columns we replace Nan values with 0:"
   ]
  },
  {
   "cell_type": "code",
   "execution_count": 23,
   "metadata": {},
   "outputs": [],
   "source": [
    "products_by_month_all['messages_num']=products_by_month_all['messages_num'].fillna(0)\n",
    "products_by_month_all['calls_num']=products_by_month_all['calls_num'].fillna(0)\n",
    "products_by_month_all['calls_dur']=products_by_month_all['calls_dur'].fillna(0)\n",
    "products_by_month_all['mb_used']=products_by_month_all['mb_used'].fillna(0)"
   ]
  },
  {
   "cell_type": "markdown",
   "metadata": {},
   "source": [
    "We have been able to aggregate our data. Now we have to calculate the monthly revenue from each user for calls, messages and traffic above the limit. For these calculations we create columns 'extra calls', 'extra_messages' and 'extra_internet'. 'total_charge' column will show the total monthly revenue from each subscriber."
   ]
  },
  {
   "cell_type": "code",
   "execution_count": 24,
   "metadata": {},
   "outputs": [],
   "source": [
    "def extra_calls(row):\n",
    "    result = (row['calls_dur'] - row['minutes_included'])*row['rub_per_minute']\n",
    "    return np.where(result > 0, result, 0)\n",
    "    \n",
    "    \n",
    "def extra_sms(row):\n",
    "    result = (row['messages_num'] - row['messages_included'])*row['rub_per_message']\n",
    "    return np.where(result > 0, result, 0)\n",
    " \n",
    "def extra_internet(row):\n",
    "    result = np.ceil((row['mb_used'] - row['mb_per_month_included'])/1024) * row['rub_per_gb']\n",
    "    return np.where(result > 0, result, 0)\n",
    "    \n",
    "def total_charge(row):\n",
    "    return row['rub_monthly_fee']+row['extra_calls']*row['rub_per_minute']+row['extra_sms']+row['extra_internet']\n",
    "\n",
    "def convert_type(df, columns, typeName):\n",
    "    for column in columns:\n",
    "        df[column] = df[column].astype(typeName)\n"
   ]
  },
  {
   "cell_type": "code",
   "execution_count": 25,
   "metadata": {},
   "outputs": [],
   "source": [
    "products_by_month_all['extra_calls'] = products_by_month_all.apply(extra_calls, axis=1)\n",
    "products_by_month_all['extra_sms'] = products_by_month_all.apply(extra_sms, axis=1)\n",
    "products_by_month_all['extra_internet'] = products_by_month_all.apply(extra_internet, axis=1)\n",
    "products_by_month_all['total_charge'] = products_by_month_all.apply(total_charge, axis=1)\n",
    "convert_type(products_by_month_all, ['extra_calls', 'extra_internet'], 'float')\n",
    "convert_type(products_by_month_all, ['extra_sms', 'total_charge'], 'int')"
   ]
  },
  {
   "cell_type": "code",
   "execution_count": 26,
   "metadata": {},
   "outputs": [
    {
     "data": {
      "text/html": [
       "<div>\n",
       "<style scoped>\n",
       "    .dataframe tbody tr th:only-of-type {\n",
       "        vertical-align: middle;\n",
       "    }\n",
       "\n",
       "    .dataframe tbody tr th {\n",
       "        vertical-align: top;\n",
       "    }\n",
       "\n",
       "    .dataframe thead th {\n",
       "        text-align: right;\n",
       "    }\n",
       "</style>\n",
       "<table border=\"1\" class=\"dataframe\">\n",
       "  <thead>\n",
       "    <tr style=\"text-align: right;\">\n",
       "      <th></th>\n",
       "      <th>user_id</th>\n",
       "      <th>month</th>\n",
       "      <th>calls_num</th>\n",
       "      <th>calls_dur</th>\n",
       "      <th>mb_used</th>\n",
       "      <th>messages_num</th>\n",
       "      <th>city</th>\n",
       "      <th>tariff</th>\n",
       "      <th>messages_included</th>\n",
       "      <th>mb_per_month_included</th>\n",
       "      <th>minutes_included</th>\n",
       "      <th>rub_monthly_fee</th>\n",
       "      <th>rub_per_gb</th>\n",
       "      <th>rub_per_message</th>\n",
       "      <th>rub_per_minute</th>\n",
       "      <th>tariff_name</th>\n",
       "      <th>extra_calls</th>\n",
       "      <th>extra_sms</th>\n",
       "      <th>extra_internet</th>\n",
       "      <th>total_charge</th>\n",
       "    </tr>\n",
       "  </thead>\n",
       "  <tbody>\n",
       "    <tr>\n",
       "      <th>0</th>\n",
       "      <td>1000</td>\n",
       "      <td>August</td>\n",
       "      <td>52.0</td>\n",
       "      <td>408.0</td>\n",
       "      <td>14055.93</td>\n",
       "      <td>81.0</td>\n",
       "      <td>Краснодар</td>\n",
       "      <td>ultra</td>\n",
       "      <td>1000</td>\n",
       "      <td>30720</td>\n",
       "      <td>3000</td>\n",
       "      <td>1950</td>\n",
       "      <td>150</td>\n",
       "      <td>1</td>\n",
       "      <td>1</td>\n",
       "      <td>ultra</td>\n",
       "      <td>0.0</td>\n",
       "      <td>0</td>\n",
       "      <td>0.0</td>\n",
       "      <td>1950</td>\n",
       "    </tr>\n",
       "    <tr>\n",
       "      <th>1</th>\n",
       "      <td>1000</td>\n",
       "      <td>December</td>\n",
       "      <td>46.0</td>\n",
       "      <td>333.0</td>\n",
       "      <td>9817.61</td>\n",
       "      <td>70.0</td>\n",
       "      <td>Краснодар</td>\n",
       "      <td>ultra</td>\n",
       "      <td>1000</td>\n",
       "      <td>30720</td>\n",
       "      <td>3000</td>\n",
       "      <td>1950</td>\n",
       "      <td>150</td>\n",
       "      <td>1</td>\n",
       "      <td>1</td>\n",
       "      <td>ultra</td>\n",
       "      <td>0.0</td>\n",
       "      <td>0</td>\n",
       "      <td>0.0</td>\n",
       "      <td>1950</td>\n",
       "    </tr>\n",
       "    <tr>\n",
       "      <th>2</th>\n",
       "      <td>1000</td>\n",
       "      <td>July</td>\n",
       "      <td>47.0</td>\n",
       "      <td>340.0</td>\n",
       "      <td>14003.64</td>\n",
       "      <td>75.0</td>\n",
       "      <td>Краснодар</td>\n",
       "      <td>ultra</td>\n",
       "      <td>1000</td>\n",
       "      <td>30720</td>\n",
       "      <td>3000</td>\n",
       "      <td>1950</td>\n",
       "      <td>150</td>\n",
       "      <td>1</td>\n",
       "      <td>1</td>\n",
       "      <td>ultra</td>\n",
       "      <td>0.0</td>\n",
       "      <td>0</td>\n",
       "      <td>0.0</td>\n",
       "      <td>1950</td>\n",
       "    </tr>\n",
       "    <tr>\n",
       "      <th>3</th>\n",
       "      <td>1000</td>\n",
       "      <td>June</td>\n",
       "      <td>43.0</td>\n",
       "      <td>172.0</td>\n",
       "      <td>23233.77</td>\n",
       "      <td>60.0</td>\n",
       "      <td>Краснодар</td>\n",
       "      <td>ultra</td>\n",
       "      <td>1000</td>\n",
       "      <td>30720</td>\n",
       "      <td>3000</td>\n",
       "      <td>1950</td>\n",
       "      <td>150</td>\n",
       "      <td>1</td>\n",
       "      <td>1</td>\n",
       "      <td>ultra</td>\n",
       "      <td>0.0</td>\n",
       "      <td>0</td>\n",
       "      <td>0.0</td>\n",
       "      <td>1950</td>\n",
       "    </tr>\n",
       "    <tr>\n",
       "      <th>4</th>\n",
       "      <td>1000</td>\n",
       "      <td>May</td>\n",
       "      <td>22.0</td>\n",
       "      <td>159.0</td>\n",
       "      <td>2253.49</td>\n",
       "      <td>22.0</td>\n",
       "      <td>Краснодар</td>\n",
       "      <td>ultra</td>\n",
       "      <td>1000</td>\n",
       "      <td>30720</td>\n",
       "      <td>3000</td>\n",
       "      <td>1950</td>\n",
       "      <td>150</td>\n",
       "      <td>1</td>\n",
       "      <td>1</td>\n",
       "      <td>ultra</td>\n",
       "      <td>0.0</td>\n",
       "      <td>0</td>\n",
       "      <td>0.0</td>\n",
       "      <td>1950</td>\n",
       "    </tr>\n",
       "  </tbody>\n",
       "</table>\n",
       "</div>"
      ],
      "text/plain": [
       "   user_id     month  calls_num  calls_dur   mb_used  messages_num       city  \\\n",
       "0     1000    August       52.0      408.0  14055.93          81.0  Краснодар   \n",
       "1     1000  December       46.0      333.0   9817.61          70.0  Краснодар   \n",
       "2     1000      July       47.0      340.0  14003.64          75.0  Краснодар   \n",
       "3     1000      June       43.0      172.0  23233.77          60.0  Краснодар   \n",
       "4     1000       May       22.0      159.0   2253.49          22.0  Краснодар   \n",
       "\n",
       "  tariff  messages_included  mb_per_month_included  minutes_included  \\\n",
       "0  ultra               1000                  30720              3000   \n",
       "1  ultra               1000                  30720              3000   \n",
       "2  ultra               1000                  30720              3000   \n",
       "3  ultra               1000                  30720              3000   \n",
       "4  ultra               1000                  30720              3000   \n",
       "\n",
       "   rub_monthly_fee  rub_per_gb  rub_per_message  rub_per_minute tariff_name  \\\n",
       "0             1950         150                1               1       ultra   \n",
       "1             1950         150                1               1       ultra   \n",
       "2             1950         150                1               1       ultra   \n",
       "3             1950         150                1               1       ultra   \n",
       "4             1950         150                1               1       ultra   \n",
       "\n",
       "   extra_calls  extra_sms  extra_internet  total_charge  \n",
       "0          0.0          0             0.0          1950  \n",
       "1          0.0          0             0.0          1950  \n",
       "2          0.0          0             0.0          1950  \n",
       "3          0.0          0             0.0          1950  \n",
       "4          0.0          0             0.0          1950  "
      ]
     },
     "execution_count": 26,
     "metadata": {},
     "output_type": "execute_result"
    }
   ],
   "source": [
    "products_by_month_all.head()"
   ]
  },
  {
   "cell_type": "markdown",
   "metadata": {},
   "source": [
    "For further analysis it will be better to have 2 separate dataframes: 'smart' and 'ultra'. "
   ]
  },
  {
   "cell_type": "code",
   "execution_count": 27,
   "metadata": {},
   "outputs": [
    {
     "data": {
      "text/html": [
       "<div>\n",
       "<style scoped>\n",
       "    .dataframe tbody tr th:only-of-type {\n",
       "        vertical-align: middle;\n",
       "    }\n",
       "\n",
       "    .dataframe tbody tr th {\n",
       "        vertical-align: top;\n",
       "    }\n",
       "\n",
       "    .dataframe thead th {\n",
       "        text-align: right;\n",
       "    }\n",
       "</style>\n",
       "<table border=\"1\" class=\"dataframe\">\n",
       "  <thead>\n",
       "    <tr style=\"text-align: right;\">\n",
       "      <th></th>\n",
       "      <th>user_id</th>\n",
       "      <th>month</th>\n",
       "      <th>calls_num</th>\n",
       "      <th>calls_dur</th>\n",
       "      <th>mb_used</th>\n",
       "      <th>messages_num</th>\n",
       "      <th>city</th>\n",
       "      <th>tariff</th>\n",
       "      <th>messages_included</th>\n",
       "      <th>mb_per_month_included</th>\n",
       "      <th>minutes_included</th>\n",
       "      <th>rub_monthly_fee</th>\n",
       "      <th>rub_per_gb</th>\n",
       "      <th>rub_per_message</th>\n",
       "      <th>rub_per_minute</th>\n",
       "      <th>tariff_name</th>\n",
       "      <th>extra_calls</th>\n",
       "      <th>extra_sms</th>\n",
       "      <th>extra_internet</th>\n",
       "      <th>total_charge</th>\n",
       "    </tr>\n",
       "  </thead>\n",
       "  <tbody>\n",
       "    <tr>\n",
       "      <th>985</th>\n",
       "      <td>1001</td>\n",
       "      <td>December</td>\n",
       "      <td>63.00</td>\n",
       "      <td>414.00</td>\n",
       "      <td>14036.66</td>\n",
       "      <td>0.00</td>\n",
       "      <td>Москва</td>\n",
       "      <td>smart</td>\n",
       "      <td>50</td>\n",
       "      <td>15360</td>\n",
       "      <td>500</td>\n",
       "      <td>550</td>\n",
       "      <td>200</td>\n",
       "      <td>3</td>\n",
       "      <td>3</td>\n",
       "      <td>smart</td>\n",
       "      <td>0.00</td>\n",
       "      <td>0</td>\n",
       "      <td>0.00</td>\n",
       "      <td>550</td>\n",
       "    </tr>\n",
       "    <tr>\n",
       "      <th>986</th>\n",
       "      <td>1001</td>\n",
       "      <td>November</td>\n",
       "      <td>59.00</td>\n",
       "      <td>430.00</td>\n",
       "      <td>18429.34</td>\n",
       "      <td>0.00</td>\n",
       "      <td>Москва</td>\n",
       "      <td>smart</td>\n",
       "      <td>50</td>\n",
       "      <td>15360</td>\n",
       "      <td>500</td>\n",
       "      <td>550</td>\n",
       "      <td>200</td>\n",
       "      <td>3</td>\n",
       "      <td>3</td>\n",
       "      <td>smart</td>\n",
       "      <td>0.00</td>\n",
       "      <td>0</td>\n",
       "      <td>600.00</td>\n",
       "      <td>1150</td>\n",
       "    </tr>\n",
       "    <tr>\n",
       "      <th>987</th>\n",
       "      <td>1002</td>\n",
       "      <td>August</td>\n",
       "      <td>42.00</td>\n",
       "      <td>289.00</td>\n",
       "      <td>20319.26</td>\n",
       "      <td>13.00</td>\n",
       "      <td>Стерлитамак</td>\n",
       "      <td>smart</td>\n",
       "      <td>50</td>\n",
       "      <td>15360</td>\n",
       "      <td>500</td>\n",
       "      <td>550</td>\n",
       "      <td>200</td>\n",
       "      <td>3</td>\n",
       "      <td>3</td>\n",
       "      <td>smart</td>\n",
       "      <td>0.00</td>\n",
       "      <td>0</td>\n",
       "      <td>1000.00</td>\n",
       "      <td>1550</td>\n",
       "    </tr>\n",
       "    <tr>\n",
       "      <th>988</th>\n",
       "      <td>1002</td>\n",
       "      <td>December</td>\n",
       "      <td>33.00</td>\n",
       "      <td>236.00</td>\n",
       "      <td>18113.73</td>\n",
       "      <td>12.00</td>\n",
       "      <td>Стерлитамак</td>\n",
       "      <td>smart</td>\n",
       "      <td>50</td>\n",
       "      <td>15360</td>\n",
       "      <td>500</td>\n",
       "      <td>550</td>\n",
       "      <td>200</td>\n",
       "      <td>3</td>\n",
       "      <td>3</td>\n",
       "      <td>smart</td>\n",
       "      <td>0.00</td>\n",
       "      <td>0</td>\n",
       "      <td>600.00</td>\n",
       "      <td>1150</td>\n",
       "    </tr>\n",
       "    <tr>\n",
       "      <th>989</th>\n",
       "      <td>1002</td>\n",
       "      <td>July</td>\n",
       "      <td>26.00</td>\n",
       "      <td>214.00</td>\n",
       "      <td>17580.10</td>\n",
       "      <td>11.00</td>\n",
       "      <td>Стерлитамак</td>\n",
       "      <td>smart</td>\n",
       "      <td>50</td>\n",
       "      <td>15360</td>\n",
       "      <td>500</td>\n",
       "      <td>550</td>\n",
       "      <td>200</td>\n",
       "      <td>3</td>\n",
       "      <td>3</td>\n",
       "      <td>smart</td>\n",
       "      <td>0.00</td>\n",
       "      <td>0</td>\n",
       "      <td>600.00</td>\n",
       "      <td>1150</td>\n",
       "    </tr>\n",
       "  </tbody>\n",
       "</table>\n",
       "</div>"
      ],
      "text/plain": [
       "     user_id     month  calls_num  calls_dur  mb_used  messages_num  \\\n",
       "985     1001  December      63.00     414.00 14036.66          0.00   \n",
       "986     1001  November      59.00     430.00 18429.34          0.00   \n",
       "987     1002    August      42.00     289.00 20319.26         13.00   \n",
       "988     1002  December      33.00     236.00 18113.73         12.00   \n",
       "989     1002      July      26.00     214.00 17580.10         11.00   \n",
       "\n",
       "            city tariff  messages_included  mb_per_month_included  \\\n",
       "985       Москва  smart                 50                  15360   \n",
       "986       Москва  smart                 50                  15360   \n",
       "987  Стерлитамак  smart                 50                  15360   \n",
       "988  Стерлитамак  smart                 50                  15360   \n",
       "989  Стерлитамак  smart                 50                  15360   \n",
       "\n",
       "     minutes_included  rub_monthly_fee  rub_per_gb  rub_per_message  \\\n",
       "985               500              550         200                3   \n",
       "986               500              550         200                3   \n",
       "987               500              550         200                3   \n",
       "988               500              550         200                3   \n",
       "989               500              550         200                3   \n",
       "\n",
       "     rub_per_minute tariff_name  extra_calls  extra_sms  extra_internet  \\\n",
       "985               3       smart         0.00          0            0.00   \n",
       "986               3       smart         0.00          0          600.00   \n",
       "987               3       smart         0.00          0         1000.00   \n",
       "988               3       smart         0.00          0          600.00   \n",
       "989               3       smart         0.00          0          600.00   \n",
       "\n",
       "     total_charge  \n",
       "985           550  \n",
       "986          1150  \n",
       "987          1550  \n",
       "988          1150  \n",
       "989          1150  "
      ]
     },
     "execution_count": 27,
     "metadata": {},
     "output_type": "execute_result"
    }
   ],
   "source": [
    "smart_min = products_by_month_all.query('tariff==\"smart\"')\n",
    "ultra_min = products_by_month_all.query('tariff==\"ultra\"')\n",
    "pd.options.display.float_format = '{:.2f}'.format # suppressing scientific notation \n",
    "smart_min.head()"
   ]
  },
  {
   "cell_type": "code",
   "execution_count": 28,
   "metadata": {},
   "outputs": [
    {
     "data": {
      "text/plain": [
       "array([1950, 2850, 3900, 2700, 3300, 4800, 2400, 2550, 2250, 3150, 3750,\n",
       "       2100, 3000, 3450, 4650, 3600, 4200, 4050])"
      ]
     },
     "execution_count": 28,
     "metadata": {},
     "output_type": "execute_result"
    }
   ],
   "source": [
    "ultra_min['total_charge'].unique()"
   ]
  },
  {
   "cell_type": "code",
   "execution_count": 29,
   "metadata": {
    "scrolled": true
   },
   "outputs": [
    {
     "data": {
      "text/html": [
       "<div>\n",
       "<style scoped>\n",
       "    .dataframe tbody tr th:only-of-type {\n",
       "        vertical-align: middle;\n",
       "    }\n",
       "\n",
       "    .dataframe tbody tr th {\n",
       "        vertical-align: top;\n",
       "    }\n",
       "\n",
       "    .dataframe thead th {\n",
       "        text-align: right;\n",
       "    }\n",
       "</style>\n",
       "<table border=\"1\" class=\"dataframe\">\n",
       "  <thead>\n",
       "    <tr style=\"text-align: right;\">\n",
       "      <th></th>\n",
       "      <th>user_id</th>\n",
       "      <th>month</th>\n",
       "      <th>calls_num</th>\n",
       "      <th>calls_dur</th>\n",
       "      <th>mb_used</th>\n",
       "      <th>messages_num</th>\n",
       "      <th>city</th>\n",
       "      <th>tariff</th>\n",
       "      <th>messages_included</th>\n",
       "      <th>mb_per_month_included</th>\n",
       "      <th>minutes_included</th>\n",
       "      <th>rub_monthly_fee</th>\n",
       "      <th>rub_per_gb</th>\n",
       "      <th>rub_per_message</th>\n",
       "      <th>rub_per_minute</th>\n",
       "      <th>tariff_name</th>\n",
       "      <th>extra_calls</th>\n",
       "      <th>extra_sms</th>\n",
       "      <th>extra_internet</th>\n",
       "      <th>total_charge</th>\n",
       "    </tr>\n",
       "  </thead>\n",
       "  <tbody>\n",
       "    <tr>\n",
       "      <th>0</th>\n",
       "      <td>1000</td>\n",
       "      <td>August</td>\n",
       "      <td>52.00</td>\n",
       "      <td>408.00</td>\n",
       "      <td>14055.93</td>\n",
       "      <td>81.00</td>\n",
       "      <td>Краснодар</td>\n",
       "      <td>ultra</td>\n",
       "      <td>1000</td>\n",
       "      <td>30720</td>\n",
       "      <td>3000</td>\n",
       "      <td>1950</td>\n",
       "      <td>150</td>\n",
       "      <td>1</td>\n",
       "      <td>1</td>\n",
       "      <td>ultra</td>\n",
       "      <td>0.00</td>\n",
       "      <td>0</td>\n",
       "      <td>0.00</td>\n",
       "      <td>1950</td>\n",
       "    </tr>\n",
       "    <tr>\n",
       "      <th>1</th>\n",
       "      <td>1000</td>\n",
       "      <td>December</td>\n",
       "      <td>46.00</td>\n",
       "      <td>333.00</td>\n",
       "      <td>9817.61</td>\n",
       "      <td>70.00</td>\n",
       "      <td>Краснодар</td>\n",
       "      <td>ultra</td>\n",
       "      <td>1000</td>\n",
       "      <td>30720</td>\n",
       "      <td>3000</td>\n",
       "      <td>1950</td>\n",
       "      <td>150</td>\n",
       "      <td>1</td>\n",
       "      <td>1</td>\n",
       "      <td>ultra</td>\n",
       "      <td>0.00</td>\n",
       "      <td>0</td>\n",
       "      <td>0.00</td>\n",
       "      <td>1950</td>\n",
       "    </tr>\n",
       "    <tr>\n",
       "      <th>2</th>\n",
       "      <td>1000</td>\n",
       "      <td>July</td>\n",
       "      <td>47.00</td>\n",
       "      <td>340.00</td>\n",
       "      <td>14003.64</td>\n",
       "      <td>75.00</td>\n",
       "      <td>Краснодар</td>\n",
       "      <td>ultra</td>\n",
       "      <td>1000</td>\n",
       "      <td>30720</td>\n",
       "      <td>3000</td>\n",
       "      <td>1950</td>\n",
       "      <td>150</td>\n",
       "      <td>1</td>\n",
       "      <td>1</td>\n",
       "      <td>ultra</td>\n",
       "      <td>0.00</td>\n",
       "      <td>0</td>\n",
       "      <td>0.00</td>\n",
       "      <td>1950</td>\n",
       "    </tr>\n",
       "    <tr>\n",
       "      <th>3</th>\n",
       "      <td>1000</td>\n",
       "      <td>June</td>\n",
       "      <td>43.00</td>\n",
       "      <td>172.00</td>\n",
       "      <td>23233.77</td>\n",
       "      <td>60.00</td>\n",
       "      <td>Краснодар</td>\n",
       "      <td>ultra</td>\n",
       "      <td>1000</td>\n",
       "      <td>30720</td>\n",
       "      <td>3000</td>\n",
       "      <td>1950</td>\n",
       "      <td>150</td>\n",
       "      <td>1</td>\n",
       "      <td>1</td>\n",
       "      <td>ultra</td>\n",
       "      <td>0.00</td>\n",
       "      <td>0</td>\n",
       "      <td>0.00</td>\n",
       "      <td>1950</td>\n",
       "    </tr>\n",
       "    <tr>\n",
       "      <th>4</th>\n",
       "      <td>1000</td>\n",
       "      <td>May</td>\n",
       "      <td>22.00</td>\n",
       "      <td>159.00</td>\n",
       "      <td>2253.49</td>\n",
       "      <td>22.00</td>\n",
       "      <td>Краснодар</td>\n",
       "      <td>ultra</td>\n",
       "      <td>1000</td>\n",
       "      <td>30720</td>\n",
       "      <td>3000</td>\n",
       "      <td>1950</td>\n",
       "      <td>150</td>\n",
       "      <td>1</td>\n",
       "      <td>1</td>\n",
       "      <td>ultra</td>\n",
       "      <td>0.00</td>\n",
       "      <td>0</td>\n",
       "      <td>0.00</td>\n",
       "      <td>1950</td>\n",
       "    </tr>\n",
       "  </tbody>\n",
       "</table>\n",
       "</div>"
      ],
      "text/plain": [
       "   user_id     month  calls_num  calls_dur  mb_used  messages_num       city  \\\n",
       "0     1000    August      52.00     408.00 14055.93         81.00  Краснодар   \n",
       "1     1000  December      46.00     333.00  9817.61         70.00  Краснодар   \n",
       "2     1000      July      47.00     340.00 14003.64         75.00  Краснодар   \n",
       "3     1000      June      43.00     172.00 23233.77         60.00  Краснодар   \n",
       "4     1000       May      22.00     159.00  2253.49         22.00  Краснодар   \n",
       "\n",
       "  tariff  messages_included  mb_per_month_included  minutes_included  \\\n",
       "0  ultra               1000                  30720              3000   \n",
       "1  ultra               1000                  30720              3000   \n",
       "2  ultra               1000                  30720              3000   \n",
       "3  ultra               1000                  30720              3000   \n",
       "4  ultra               1000                  30720              3000   \n",
       "\n",
       "   rub_monthly_fee  rub_per_gb  rub_per_message  rub_per_minute tariff_name  \\\n",
       "0             1950         150                1               1       ultra   \n",
       "1             1950         150                1               1       ultra   \n",
       "2             1950         150                1               1       ultra   \n",
       "3             1950         150                1               1       ultra   \n",
       "4             1950         150                1               1       ultra   \n",
       "\n",
       "   extra_calls  extra_sms  extra_internet  total_charge  \n",
       "0         0.00          0            0.00          1950  \n",
       "1         0.00          0            0.00          1950  \n",
       "2         0.00          0            0.00          1950  \n",
       "3         0.00          0            0.00          1950  \n",
       "4         0.00          0            0.00          1950  "
      ]
     },
     "execution_count": 29,
     "metadata": {},
     "output_type": "execute_result"
    }
   ],
   "source": [
    "ultra_min.head()"
   ]
  },
  {
   "cell_type": "markdown",
   "metadata": {},
   "source": [
    "## Data analysis"
   ]
  },
  {
   "cell_type": "markdown",
   "metadata": {},
   "source": [
    "Let's find out how many subscribers we have on each plan:"
   ]
  },
  {
   "cell_type": "code",
   "execution_count": 30,
   "metadata": {},
   "outputs": [
    {
     "data": {
      "image/png": "[encoded data removed]",
      "text/plain": [
       "<Figure size 1440x360 with 1 Axes>"
      ]
     },
     "metadata": {},
     "output_type": "display_data"
    }
   ],
   "source": [
    "all_users = products_by_month_all['user_id'].count()\n",
    "\n",
    "\n",
    "def func_pct(pct):\n",
    "    value = float(pct/100.*all_users)\n",
    "    return \"{:.2f}%\\n({:.0f} users)\".format(pct, value)\n",
    "\n",
    "explode = (0.05, 0)  \n",
    "\n",
    "axes = products_by_month_all.groupby('tariff')['user_id'].count().plot(kind='pie', subplots=True, fontsize=15,\n",
    "                                                                     use_index=False, shadow=True, explode=explode,\n",
    "                                                                     title = 'Distribution by Clients', pctdistance=0.45,\n",
    "                                                                     figsize=(20,5), autopct=lambda pct: func_pct(pct))\n",
    "\n",
    "plt.tight_layout(pad=0)\n",
    "\n",
    "for ax in axes:\n",
    "    ax.legend(['Smart', 'Ultra'], bbox_to_anchor=(0.87,0.87), prop={'size':12})\n",
    "    ax.set_ylabel('')\n"
   ]
  },
  {
   "cell_type": "markdown",
   "metadata": {},
   "source": [
    "Most users choose the cheapest option."
   ]
  },
  {
   "cell_type": "markdown",
   "metadata": {},
   "source": [
    "We begin our analysis by calculating dispersion, standard deviation, mean and median."
   ]
  },
  {
   "cell_type": "code",
   "execution_count": 31,
   "metadata": {},
   "outputs": [
    {
     "data": {
      "text/html": [
       "<div>\n",
       "<style scoped>\n",
       "    .dataframe tbody tr th:only-of-type {\n",
       "        vertical-align: middle;\n",
       "    }\n",
       "\n",
       "    .dataframe tbody tr th {\n",
       "        vertical-align: top;\n",
       "    }\n",
       "\n",
       "    .dataframe thead tr th {\n",
       "        text-align: left;\n",
       "    }\n",
       "\n",
       "    .dataframe thead tr:last-of-type th {\n",
       "        text-align: right;\n",
       "    }\n",
       "</style>\n",
       "<table border=\"1\" class=\"dataframe\">\n",
       "  <thead>\n",
       "    <tr>\n",
       "      <th></th>\n",
       "      <th colspan=\"4\" halign=\"left\">calls_dur</th>\n",
       "      <th colspan=\"4\" halign=\"left\">mb_used</th>\n",
       "      <th colspan=\"4\" halign=\"left\">messages_num</th>\n",
       "    </tr>\n",
       "    <tr>\n",
       "      <th></th>\n",
       "      <th>mean</th>\n",
       "      <th>median</th>\n",
       "      <th>std</th>\n",
       "      <th>var</th>\n",
       "      <th>mean</th>\n",
       "      <th>median</th>\n",
       "      <th>std</th>\n",
       "      <th>var</th>\n",
       "      <th>mean</th>\n",
       "      <th>median</th>\n",
       "      <th>std</th>\n",
       "      <th>var</th>\n",
       "    </tr>\n",
       "    <tr>\n",
       "      <th>tariff</th>\n",
       "      <th></th>\n",
       "      <th></th>\n",
       "      <th></th>\n",
       "      <th></th>\n",
       "      <th></th>\n",
       "      <th></th>\n",
       "      <th></th>\n",
       "      <th></th>\n",
       "      <th></th>\n",
       "      <th></th>\n",
       "      <th></th>\n",
       "      <th></th>\n",
       "    </tr>\n",
       "  </thead>\n",
       "  <tbody>\n",
       "    <tr>\n",
       "      <th>smart</th>\n",
       "      <td>417.93</td>\n",
       "      <td>422.00</td>\n",
       "      <td>190.31</td>\n",
       "      <td>36219.32</td>\n",
       "      <td>16208.39</td>\n",
       "      <td>16506.84</td>\n",
       "      <td>5870.48</td>\n",
       "      <td>34462496.46</td>\n",
       "      <td>33.38</td>\n",
       "      <td>28.00</td>\n",
       "      <td>28.23</td>\n",
       "      <td>796.81</td>\n",
       "    </tr>\n",
       "    <tr>\n",
       "      <th>ultra</th>\n",
       "      <td>526.62</td>\n",
       "      <td>518.00</td>\n",
       "      <td>317.61</td>\n",
       "      <td>100873.63</td>\n",
       "      <td>19468.81</td>\n",
       "      <td>19308.01</td>\n",
       "      <td>10087.17</td>\n",
       "      <td>101751013.78</td>\n",
       "      <td>49.36</td>\n",
       "      <td>38.00</td>\n",
       "      <td>47.80</td>\n",
       "      <td>2285.27</td>\n",
       "    </tr>\n",
       "  </tbody>\n",
       "</table>\n",
       "</div>"
      ],
      "text/plain": [
       "       calls_dur                          mb_used                    \\\n",
       "            mean median    std       var     mean   median      std   \n",
       "tariff                                                                \n",
       "smart     417.93 422.00 190.31  36219.32 16208.39 16506.84  5870.48   \n",
       "ultra     526.62 518.00 317.61 100873.63 19468.81 19308.01 10087.17   \n",
       "\n",
       "                    messages_num                       \n",
       "                var         mean median   std     var  \n",
       "tariff                                                 \n",
       "smart   34462496.46        33.38  28.00 28.23  796.81  \n",
       "ultra  101751013.78        49.36  38.00 47.80 2285.27  "
      ]
     },
     "execution_count": 31,
     "metadata": {},
     "output_type": "execute_result"
    }
   ],
   "source": [
    "statistics = products_by_month_all.pivot_table(index=['tariff'], values=['calls_dur', 'mb_used', 'messages_num'], \n",
    "                    aggfunc={'calls_dur': [np.mean, np.median, np.var, np.std], \n",
    "                             'mb_used': [np.mean, np.median, np.var, np.std], \n",
    "                             'messages_num': [np.mean, np.median, np.var, np.std]})\n",
    "statistics"
   ]
  },
  {
   "cell_type": "markdown",
   "metadata": {},
   "source": [
    "From the table above we can see that both the tariffs have mean and median of almost the same value for each parameter. it means that the distribution is symmetric. Tariff Ultra has a wider dispersion for each parameter. It can be explained by the fact that Ultra subscibers have more minutes, messages and GB included in their package."
   ]
  },
  {
   "cell_type": "markdown",
   "metadata": {},
   "source": [
    "It's time to visualize the data. The best way to do it is to build boxplots for each tariff and for each parameter. "
   ]
  },
  {
   "cell_type": "code",
   "execution_count": 32,
   "metadata": {},
   "outputs": [
    {
     "data": {
      "image/png": "[encoded data removed]",
      "text/plain": [
       "<Figure size 1440x576 with 2 Axes>"
      ]
     },
     "metadata": {
      "needs_background": "light"
     },
     "output_type": "display_data"
    }
   ],
   "source": [
    "fig, (ultrax, smartx) = plt.subplots(1,2, figsize=(20,8))\n",
    "ultra_min.boxplot(column = 'calls_dur', ax=ultrax, boxprops=dict(linestyle='-', linewidth=5),\n",
    "                                         medianprops=dict(linestyle='-', linewidth=5),\n",
    "                                         whiskerprops=dict(linestyle='-', linewidth=5),\n",
    "                                         capprops=dict(linestyle='-', linewidth=5),\n",
    "                                         notch=True,)\n",
    "smart_min.boxplot(column='calls_dur', ax=smartx, boxprops=dict(linestyle='-', linewidth=5),\n",
    "                                         medianprops=dict(linestyle='-', linewidth=5),\n",
    "                                         whiskerprops=dict(linestyle='-', linewidth=5),\n",
    "                                         capprops=dict(linestyle='-', linewidth=5),\n",
    "                                         notch=True,)\n",
    "ultrax.set_title('Ultra')\n",
    "smartx.set_title('Smart')\n",
    "ultrax.set_ylabel('Calls duration, min')\n",
    "smartx.set_ylabel('Calls duration, min')\n",
    "#ultrax.set_xlabel('Длительность, звонков')\n",
    "#smartx.set_xlabel('Длительность, звонков')\n",
    "fig.suptitle('Calls duration', fontsize=16)\n",
    "ultrax.set_xticklabels([])\n",
    "smartx.set_xticklabels([])\n",
    "plt.show()"
   ]
  },
  {
   "cell_type": "markdown",
   "metadata": {},
   "source": [
    "Smart plan boxplot has more outliers. Its subscribers use more minutes and GBs than included in the package. Let's remove outliers and build histograms for each plan. Outliers are unusual values in the dataset, outliers affect on variance, and standard deviation of a data distribution. In a data distribution, with extreme outliers, the distribution is skewed in the direction of the outliers which makes it difficult to analyze the data."
   ]
  },
  {
   "cell_type": "code",
   "execution_count": 33,
   "metadata": {},
   "outputs": [],
   "source": [
    "def remove_outlier(df_in, col_name):\n",
    "    q1 = df_in[col_name].quantile(0.25)\n",
    "    q3 = df_in[col_name].quantile(0.75)\n",
    "    iqr = q3-q1 #Interquartile range\n",
    "    fence_low  = q1-1.5*iqr\n",
    "    fence_high = q3+1.5*iqr\n",
    "    df_out = df_in.loc[(df_in[col_name] >= fence_low) & (df_in[col_name] <= fence_high)]\n",
    "    return df_out"
   ]
  },
  {
   "cell_type": "code",
   "execution_count": 34,
   "metadata": {},
   "outputs": [
    {
     "data": {
      "image/png": "[encoded data removed]",
      "text/plain": [
       "<Figure size 1440x576 with 2 Axes>"
      ]
     },
     "metadata": {
      "needs_background": "light"
     },
     "output_type": "display_data"
    }
   ],
   "source": [
    "ultra_calls_no_outliers=remove_outlier(ultra_min, 'calls_dur')\n",
    "smart_calls_no_outliers=remove_outlier(smart_min, 'calls_dur')\n",
    "fig, (centerx, allx) = plt.subplots(1,2, figsize=(20,8))\n",
    "ultra_calls_no_outliers.hist('calls_dur', ax=centerx, bins=40, ec='black') \n",
    "smart_calls_no_outliers.hist('calls_dur', bins=40, ax=allx, ec='black')\n",
    "centerx.set_title('Ultra')\n",
    "centerx.set_xlabel('Calls, minutes')\n",
    "centerx.set_ylabel('Frequency')\n",
    "allx.set_title('Smart')\n",
    "allx.set_xlabel('Calls, minutes')\n",
    "allx.set_ylabel('Frequency')\n",
    "plt.show()"
   ]
  },
  {
   "cell_type": "markdown",
   "metadata": {},
   "source": [
    "Ultra package includes 3000 minutes talk, Smart - 500 minutes talk. We can see that ultra subscribers do not exceed the plan limits whereas Smart subscibers go over the plan's quota. "
   ]
  },
  {
   "cell_type": "markdown",
   "metadata": {},
   "source": [
    "Now let's study the internet usage:"
   ]
  },
  {
   "cell_type": "code",
   "execution_count": 35,
   "metadata": {},
   "outputs": [
    {
     "data": {
      "image/png": "[encoded data removed]",
      "text/plain": [
       "<Figure size 1440x576 with 2 Axes>"
      ]
     },
     "metadata": {
      "needs_background": "light"
     },
     "output_type": "display_data"
    }
   ],
   "source": [
    "fig, (ultrax, smartx) = plt.subplots(1,2, figsize=(20,8))\n",
    "ultra_min.boxplot(column = 'mb_used', ax=ultrax, boxprops=dict(linestyle='-', linewidth=5),\n",
    "                                         medianprops=dict(linestyle='-', linewidth=5),\n",
    "                                         whiskerprops=dict(linestyle='-', linewidth=5),\n",
    "                                         capprops=dict(linestyle='-', linewidth=5),\n",
    "                                         notch=True,)\n",
    "smart_min.boxplot(column='mb_used', ax=smartx, boxprops=dict(linestyle='-', linewidth=5),\n",
    "                                         medianprops=dict(linestyle='-', linewidth=5),\n",
    "                                         whiskerprops=dict(linestyle='-', linewidth=5),\n",
    "                                         capprops=dict(linestyle='-', linewidth=5),\n",
    "                                         notch=True,)\n",
    "ultrax.set_title('Plan Ultra')\n",
    "smartx.set_title('Plan Smart')\n",
    "ultrax.set_ylabel('Internet, Mb')\n",
    "smartx.set_ylabel('Internet, Mb')\n",
    "fig.suptitle('Internet traffic', fontsize=16)\n",
    "ultrax.set_xticklabels([])\n",
    "smartx.set_xticklabels([])\n",
    "plt.show()"
   ]
  },
  {
   "cell_type": "markdown",
   "metadata": {},
   "source": [
    "Again, we can see that Smart plan subscribers exceed their limit."
   ]
  },
  {
   "cell_type": "code",
   "execution_count": 36,
   "metadata": {},
   "outputs": [
    {
     "data": {
      "image/png": "[encoded data removed]",
      "text/plain": [
       "<Figure size 1440x576 with 2 Axes>"
      ]
     },
     "metadata": {
      "needs_background": "light"
     },
     "output_type": "display_data"
    }
   ],
   "source": [
    "ultra_mb_no_outliers=remove_outlier(ultra_min, 'mb_used')\n",
    "smart_mb_no_outliers=remove_outlier(smart_min, 'mb_used')\n",
    "fig, (centerx, allx) = plt.subplots(1,2, figsize=(20,8))\n",
    "ultra_mb_no_outliers.hist('mb_used', ax=centerx, bins=40, ec='black') \n",
    "smart_mb_no_outliers.hist('mb_used', bins=40, ax=allx, ec='black')\n",
    "centerx.set_title('Ultra')\n",
    "centerx.set_xlabel('Internet, MB')\n",
    "centerx.set_ylabel('Frequency')\n",
    "allx.set_title('Smart')\n",
    "allx.set_xlabel('Internet, MB')\n",
    "allx.set_ylabel('Frequency')\n",
    "plt.show()"
   ]
  },
  {
   "cell_type": "markdown",
   "metadata": {},
   "source": [
    "Ultra subscribers have 30 GB included in the package, Smart subscibers have 15 Gb in their package. All the subscribers are active internet users and many of them exceed the plan limits."
   ]
  },
  {
   "cell_type": "markdown",
   "metadata": {},
   "source": [
    "Now we have to study the text messages data:"
   ]
  },
  {
   "cell_type": "code",
   "execution_count": 37,
   "metadata": {},
   "outputs": [
    {
     "data": {
      "image/png": "[encoded data removed]",
      "text/plain": [
       "<Figure size 1440x576 with 2 Axes>"
      ]
     },
     "metadata": {
      "needs_background": "light"
     },
     "output_type": "display_data"
    }
   ],
   "source": [
    "fig, (ultrax, smartx) = plt.subplots(1,2, figsize=(20,8))\n",
    "ultra_min.boxplot(column = 'messages_num', ax=ultrax, boxprops=dict(linestyle='-', linewidth=5),\n",
    "                                         medianprops=dict(linestyle='-', linewidth=5),\n",
    "                                         whiskerprops=dict(linestyle='-', linewidth=5),\n",
    "                                         capprops=dict(linestyle='-', linewidth=5),\n",
    "                                         notch=True,)\n",
    "smart_min.boxplot(column='messages_num', ax=smartx, boxprops=dict(linestyle='-', linewidth=5),\n",
    "                                         medianprops=dict(linestyle='-', linewidth=5),\n",
    "                                         whiskerprops=dict(linestyle='-', linewidth=5),\n",
    "                                         capprops=dict(linestyle='-', linewidth=5),\n",
    "                                         notch=True,)\n",
    "ultrax.set_title('Ultra plan')\n",
    "smartx.set_title('Smart plan')\n",
    "ultrax.set_ylabel('text messages')\n",
    "smartx.set_ylabel('text messages')\n",
    "fig.suptitle('Text messages', fontsize=16)\n",
    "ultrax.set_xticklabels([])\n",
    "smartx.set_xticklabels([])\n",
    "plt.show()"
   ]
  },
  {
   "cell_type": "markdown",
   "metadata": {},
   "source": [
    "Let's remove the outliers using our function."
   ]
  },
  {
   "cell_type": "code",
   "execution_count": 38,
   "metadata": {},
   "outputs": [
    {
     "data": {
      "image/png": "[encoded data removed]",
      "text/plain": [
       "<Figure size 1440x576 with 2 Axes>"
      ]
     },
     "metadata": {
      "needs_background": "light"
     },
     "output_type": "display_data"
    }
   ],
   "source": [
    "ultra_text_no_outliers=remove_outlier(ultra_min, 'messages_num')\n",
    "smart_text_no_outliers=remove_outlier(smart_min, 'messages_num')\n",
    "fig, (centerx, allx) = plt.subplots(1,2, figsize=(20,8))\n",
    "ultra_text_no_outliers.hist('messages_num', ax=centerx, bins=40, ec='black') \n",
    "smart_text_no_outliers.hist('messages_num', bins=40, ax=allx, ec='black')\n",
    "centerx.set_title('Ultra')\n",
    "centerx.set_xlabel('Messages')\n",
    "centerx.set_ylabel('Frequency')\n",
    "allx.set_title('Smart')\n",
    "allx.set_xlabel('Messages')\n",
    "allx.set_ylabel('Frequency')\n",
    "plt.show()"
   ]
  },
  {
   "cell_type": "markdown",
   "metadata": {},
   "source": [
    "Ultra plan includes 1000 text messages per month, Smart plan includes 50 text messages. Again, Ultra subscribers do not exceed the limit, whereas some Smart subscribers go over the limit."
   ]
  },
  {
   "cell_type": "markdown",
   "metadata": {},
   "source": [
    "Revenue from each plan includes subscription fee and charges for extra calls, text messages and traffic used. It will be useful to group data by month for each plan and calculate median value for each revenue component. we can also visualize the results."
   ]
  },
  {
   "cell_type": "code",
   "execution_count": 39,
   "metadata": {},
   "outputs": [
    {
     "data": {
      "text/html": [
       "<div>\n",
       "<style scoped>\n",
       "    .dataframe tbody tr th:only-of-type {\n",
       "        vertical-align: middle;\n",
       "    }\n",
       "\n",
       "    .dataframe tbody tr th {\n",
       "        vertical-align: top;\n",
       "    }\n",
       "\n",
       "    .dataframe thead th {\n",
       "        text-align: right;\n",
       "    }\n",
       "</style>\n",
       "<table border=\"1\" class=\"dataframe\">\n",
       "  <thead>\n",
       "    <tr style=\"text-align: right;\">\n",
       "      <th></th>\n",
       "      <th>month</th>\n",
       "      <th>user_id</th>\n",
       "      <th>calls_num</th>\n",
       "      <th>calls_dur</th>\n",
       "      <th>mb_used</th>\n",
       "      <th>messages_num</th>\n",
       "      <th>messages_included</th>\n",
       "      <th>mb_per_month_included</th>\n",
       "      <th>minutes_included</th>\n",
       "      <th>rub_monthly_fee</th>\n",
       "      <th>rub_per_gb</th>\n",
       "      <th>rub_per_message</th>\n",
       "      <th>rub_per_minute</th>\n",
       "      <th>extra_calls</th>\n",
       "      <th>extra_sms</th>\n",
       "      <th>extra_internet</th>\n",
       "      <th>total_charge</th>\n",
       "    </tr>\n",
       "  </thead>\n",
       "  <tbody>\n",
       "    <tr>\n",
       "      <th>4</th>\n",
       "      <td>January</td>\n",
       "      <td>1290.50</td>\n",
       "      <td>20.50</td>\n",
       "      <td>162.50</td>\n",
       "      <td>7096.19</td>\n",
       "      <td>15.00</td>\n",
       "      <td>50.00</td>\n",
       "      <td>15360.00</td>\n",
       "      <td>500.00</td>\n",
       "      <td>550.00</td>\n",
       "      <td>200.00</td>\n",
       "      <td>3.00</td>\n",
       "      <td>3.00</td>\n",
       "      <td>0.00</td>\n",
       "      <td>0.00</td>\n",
       "      <td>0.00</td>\n",
       "      <td>550.00</td>\n",
       "    </tr>\n",
       "    <tr>\n",
       "      <th>3</th>\n",
       "      <td>February</td>\n",
       "      <td>1295.00</td>\n",
       "      <td>38.50</td>\n",
       "      <td>258.00</td>\n",
       "      <td>12553.71</td>\n",
       "      <td>20.00</td>\n",
       "      <td>50.00</td>\n",
       "      <td>15360.00</td>\n",
       "      <td>500.00</td>\n",
       "      <td>550.00</td>\n",
       "      <td>200.00</td>\n",
       "      <td>3.00</td>\n",
       "      <td>3.00</td>\n",
       "      <td>0.00</td>\n",
       "      <td>0.00</td>\n",
       "      <td>0.00</td>\n",
       "      <td>550.00</td>\n",
       "    </tr>\n",
       "    <tr>\n",
       "      <th>7</th>\n",
       "      <td>March</td>\n",
       "      <td>1262.00</td>\n",
       "      <td>59.00</td>\n",
       "      <td>409.00</td>\n",
       "      <td>15670.25</td>\n",
       "      <td>23.00</td>\n",
       "      <td>50.00</td>\n",
       "      <td>15360.00</td>\n",
       "      <td>500.00</td>\n",
       "      <td>550.00</td>\n",
       "      <td>200.00</td>\n",
       "      <td>3.00</td>\n",
       "      <td>3.00</td>\n",
       "      <td>0.00</td>\n",
       "      <td>0.00</td>\n",
       "      <td>200.00</td>\n",
       "      <td>973.00</td>\n",
       "    </tr>\n",
       "    <tr>\n",
       "      <th>0</th>\n",
       "      <td>April</td>\n",
       "      <td>1233.00</td>\n",
       "      <td>52.00</td>\n",
       "      <td>368.50</td>\n",
       "      <td>14087.65</td>\n",
       "      <td>28.00</td>\n",
       "      <td>50.00</td>\n",
       "      <td>15360.00</td>\n",
       "      <td>500.00</td>\n",
       "      <td>550.00</td>\n",
       "      <td>200.00</td>\n",
       "      <td>3.00</td>\n",
       "      <td>3.00</td>\n",
       "      <td>0.00</td>\n",
       "      <td>0.00</td>\n",
       "      <td>0.00</td>\n",
       "      <td>653.50</td>\n",
       "    </tr>\n",
       "    <tr>\n",
       "      <th>8</th>\n",
       "      <td>May</td>\n",
       "      <td>1238.00</td>\n",
       "      <td>59.00</td>\n",
       "      <td>433.00</td>\n",
       "      <td>16323.94</td>\n",
       "      <td>30.00</td>\n",
       "      <td>50.00</td>\n",
       "      <td>15360.00</td>\n",
       "      <td>500.00</td>\n",
       "      <td>550.00</td>\n",
       "      <td>200.00</td>\n",
       "      <td>3.00</td>\n",
       "      <td>3.00</td>\n",
       "      <td>0.00</td>\n",
       "      <td>0.00</td>\n",
       "      <td>200.00</td>\n",
       "      <td>1150.00</td>\n",
       "    </tr>\n",
       "    <tr>\n",
       "      <th>6</th>\n",
       "      <td>June</td>\n",
       "      <td>1220.00</td>\n",
       "      <td>59.00</td>\n",
       "      <td>400.00</td>\n",
       "      <td>16077.44</td>\n",
       "      <td>28.00</td>\n",
       "      <td>50.00</td>\n",
       "      <td>15360.00</td>\n",
       "      <td>500.00</td>\n",
       "      <td>550.00</td>\n",
       "      <td>200.00</td>\n",
       "      <td>3.00</td>\n",
       "      <td>3.00</td>\n",
       "      <td>0.00</td>\n",
       "      <td>0.00</td>\n",
       "      <td>200.00</td>\n",
       "      <td>973.00</td>\n",
       "    </tr>\n",
       "    <tr>\n",
       "      <th>5</th>\n",
       "      <td>July</td>\n",
       "      <td>1221.00</td>\n",
       "      <td>58.00</td>\n",
       "      <td>414.00</td>\n",
       "      <td>15925.29</td>\n",
       "      <td>29.00</td>\n",
       "      <td>50.00</td>\n",
       "      <td>15360.00</td>\n",
       "      <td>500.00</td>\n",
       "      <td>550.00</td>\n",
       "      <td>200.00</td>\n",
       "      <td>3.00</td>\n",
       "      <td>3.00</td>\n",
       "      <td>0.00</td>\n",
       "      <td>0.00</td>\n",
       "      <td>200.00</td>\n",
       "      <td>1219.00</td>\n",
       "    </tr>\n",
       "    <tr>\n",
       "      <th>1</th>\n",
       "      <td>August</td>\n",
       "      <td>1244.00</td>\n",
       "      <td>62.00</td>\n",
       "      <td>432.00</td>\n",
       "      <td>16833.49</td>\n",
       "      <td>27.00</td>\n",
       "      <td>50.00</td>\n",
       "      <td>15360.00</td>\n",
       "      <td>500.00</td>\n",
       "      <td>550.00</td>\n",
       "      <td>200.00</td>\n",
       "      <td>3.00</td>\n",
       "      <td>3.00</td>\n",
       "      <td>0.00</td>\n",
       "      <td>0.00</td>\n",
       "      <td>400.00</td>\n",
       "      <td>1344.00</td>\n",
       "    </tr>\n",
       "    <tr>\n",
       "      <th>11</th>\n",
       "      <td>September</td>\n",
       "      <td>1249.50</td>\n",
       "      <td>61.00</td>\n",
       "      <td>435.00</td>\n",
       "      <td>16028.43</td>\n",
       "      <td>30.00</td>\n",
       "      <td>50.00</td>\n",
       "      <td>15360.00</td>\n",
       "      <td>500.00</td>\n",
       "      <td>550.00</td>\n",
       "      <td>200.00</td>\n",
       "      <td>3.00</td>\n",
       "      <td>3.00</td>\n",
       "      <td>0.00</td>\n",
       "      <td>0.00</td>\n",
       "      <td>200.00</td>\n",
       "      <td>1150.00</td>\n",
       "    </tr>\n",
       "    <tr>\n",
       "      <th>10</th>\n",
       "      <td>October</td>\n",
       "      <td>1247.50</td>\n",
       "      <td>60.50</td>\n",
       "      <td>427.50</td>\n",
       "      <td>17225.33</td>\n",
       "      <td>30.00</td>\n",
       "      <td>50.00</td>\n",
       "      <td>15360.00</td>\n",
       "      <td>500.00</td>\n",
       "      <td>550.00</td>\n",
       "      <td>200.00</td>\n",
       "      <td>3.00</td>\n",
       "      <td>3.00</td>\n",
       "      <td>0.00</td>\n",
       "      <td>0.00</td>\n",
       "      <td>400.00</td>\n",
       "      <td>1277.00</td>\n",
       "    </tr>\n",
       "    <tr>\n",
       "      <th>9</th>\n",
       "      <td>November</td>\n",
       "      <td>1240.00</td>\n",
       "      <td>60.00</td>\n",
       "      <td>428.50</td>\n",
       "      <td>17013.80</td>\n",
       "      <td>28.00</td>\n",
       "      <td>50.00</td>\n",
       "      <td>15360.00</td>\n",
       "      <td>500.00</td>\n",
       "      <td>550.00</td>\n",
       "      <td>200.00</td>\n",
       "      <td>3.00</td>\n",
       "      <td>3.00</td>\n",
       "      <td>0.00</td>\n",
       "      <td>0.00</td>\n",
       "      <td>400.00</td>\n",
       "      <td>1350.00</td>\n",
       "    </tr>\n",
       "    <tr>\n",
       "      <th>2</th>\n",
       "      <td>December</td>\n",
       "      <td>1236.00</td>\n",
       "      <td>65.00</td>\n",
       "      <td>471.00</td>\n",
       "      <td>17713.51</td>\n",
       "      <td>29.00</td>\n",
       "      <td>50.00</td>\n",
       "      <td>15360.00</td>\n",
       "      <td>500.00</td>\n",
       "      <td>550.00</td>\n",
       "      <td>200.00</td>\n",
       "      <td>3.00</td>\n",
       "      <td>3.00</td>\n",
       "      <td>0.00</td>\n",
       "      <td>0.00</td>\n",
       "      <td>600.00</td>\n",
       "      <td>1549.00</td>\n",
       "    </tr>\n",
       "  </tbody>\n",
       "</table>\n",
       "</div>"
      ],
      "text/plain": [
       "        month  user_id  calls_num  calls_dur  mb_used  messages_num  \\\n",
       "4     January  1290.50      20.50     162.50  7096.19         15.00   \n",
       "3    February  1295.00      38.50     258.00 12553.71         20.00   \n",
       "7       March  1262.00      59.00     409.00 15670.25         23.00   \n",
       "0       April  1233.00      52.00     368.50 14087.65         28.00   \n",
       "8         May  1238.00      59.00     433.00 16323.94         30.00   \n",
       "6        June  1220.00      59.00     400.00 16077.44         28.00   \n",
       "5        July  1221.00      58.00     414.00 15925.29         29.00   \n",
       "1      August  1244.00      62.00     432.00 16833.49         27.00   \n",
       "11  September  1249.50      61.00     435.00 16028.43         30.00   \n",
       "10    October  1247.50      60.50     427.50 17225.33         30.00   \n",
       "9    November  1240.00      60.00     428.50 17013.80         28.00   \n",
       "2    December  1236.00      65.00     471.00 17713.51         29.00   \n",
       "\n",
       "    messages_included  mb_per_month_included  minutes_included  \\\n",
       "4               50.00               15360.00            500.00   \n",
       "3               50.00               15360.00            500.00   \n",
       "7               50.00               15360.00            500.00   \n",
       "0               50.00               15360.00            500.00   \n",
       "8               50.00               15360.00            500.00   \n",
       "6               50.00               15360.00            500.00   \n",
       "5               50.00               15360.00            500.00   \n",
       "1               50.00               15360.00            500.00   \n",
       "11              50.00               15360.00            500.00   \n",
       "10              50.00               15360.00            500.00   \n",
       "9               50.00               15360.00            500.00   \n",
       "2               50.00               15360.00            500.00   \n",
       "\n",
       "    rub_monthly_fee  rub_per_gb  rub_per_message  rub_per_minute  extra_calls  \\\n",
       "4            550.00      200.00             3.00            3.00         0.00   \n",
       "3            550.00      200.00             3.00            3.00         0.00   \n",
       "7            550.00      200.00             3.00            3.00         0.00   \n",
       "0            550.00      200.00             3.00            3.00         0.00   \n",
       "8            550.00      200.00             3.00            3.00         0.00   \n",
       "6            550.00      200.00             3.00            3.00         0.00   \n",
       "5            550.00      200.00             3.00            3.00         0.00   \n",
       "1            550.00      200.00             3.00            3.00         0.00   \n",
       "11           550.00      200.00             3.00            3.00         0.00   \n",
       "10           550.00      200.00             3.00            3.00         0.00   \n",
       "9            550.00      200.00             3.00            3.00         0.00   \n",
       "2            550.00      200.00             3.00            3.00         0.00   \n",
       "\n",
       "    extra_sms  extra_internet  total_charge  \n",
       "4        0.00            0.00        550.00  \n",
       "3        0.00            0.00        550.00  \n",
       "7        0.00          200.00        973.00  \n",
       "0        0.00            0.00        653.50  \n",
       "8        0.00          200.00       1150.00  \n",
       "6        0.00          200.00        973.00  \n",
       "5        0.00          200.00       1219.00  \n",
       "1        0.00          400.00       1344.00  \n",
       "11       0.00          200.00       1150.00  \n",
       "10       0.00          400.00       1277.00  \n",
       "9        0.00          400.00       1350.00  \n",
       "2        0.00          600.00       1549.00  "
      ]
     },
     "execution_count": 39,
     "metadata": {},
     "output_type": "execute_result"
    }
   ],
   "source": [
    "smart_month_median = smart_min.groupby('month').median().reset_index()\n",
    "ultra_month_median = ultra_min.groupby('month').median().reset_index()\n",
    "smart_month_median['month'] =smart_month_median['month'].astype(month_type) \n",
    "ultra_month_median['month'] =ultra_month_median['month'].astype(month_type) \n",
    "smart_month_median = smart_month_median.sort_values(by='month')\n",
    "ultra_month_median = ultra_month_median.sort_values(by='month')\n",
    "smart_month_median"
   ]
  },
  {
   "cell_type": "markdown",
   "metadata": {},
   "source": [
    "We'll plot bar charts for each plan, for each service (calls, messages, internet). The dashed line marks the plan limit. "
   ]
  },
  {
   "cell_type": "markdown",
   "metadata": {},
   "source": [
    "Below we build a bar chart with median call duration by months. We choose median to illustrate call duration because median is resistant to outliers."
   ]
  },
  {
   "cell_type": "code",
   "execution_count": 40,
   "metadata": {},
   "outputs": [
    {
     "data": {
      "image/png": "[encoded data removed]",
      "text/plain": [
       "<Figure size 1080x288 with 2 Axes>"
      ]
     },
     "metadata": {
      "needs_background": "light"
     },
     "output_type": "display_data"
    }
   ],
   "source": [
    "fig, (centerx, allx) = plt.subplots(1,2, figsize=(15,15))\n",
    "smart_month_median.plot(x='month', y='calls_dur', ax=centerx, kind='bar', fontsize=12, rot=45, figsize=(15,4), ec='black') \n",
    "ultra_month_median.plot(x='month', y='calls_dur', ax=allx, kind='bar', fontsize=12, rot=45, figsize=(15,4), ec='black') \n",
    "centerx.axhline(y=tariffs[tariffs['tariff_name']=='smart']['minutes_included'].min(),linewidth=3, color='#35B815', linestyle='--')\n",
    "allx.axhline(y=tariffs[tariffs['tariff_name']=='ultra']['minutes_included'].min(),linewidth=3, color='#35B815', linestyle='--')\n",
    "centerx.set_title('Smart')\n",
    "centerx.set_xlabel('month')\n",
    "centerx.set_ylabel('Median call duration')\n",
    "allx.set_title('Ultra')\n",
    "allx.set_xlabel('month')\n",
    "allx.set_ylabel('Median call duration')\n",
    "plt.show()"
   ]
  },
  {
   "cell_type": "markdown",
   "metadata": {},
   "source": [
    "As we can see from the chart above, median call duration is within limits for both the plans."
   ]
  },
  {
   "cell_type": "markdown",
   "metadata": {},
   "source": [
    "Internet used by months:"
   ]
  },
  {
   "cell_type": "code",
   "execution_count": 41,
   "metadata": {},
   "outputs": [
    {
     "data": {
      "image/png": "[encoded data removed]",
      "text/plain": [
       "<Figure size 1080x288 with 2 Axes>"
      ]
     },
     "metadata": {
      "needs_background": "light"
     },
     "output_type": "display_data"
    }
   ],
   "source": [
    "fig, (centerx, allx) = plt.subplots(1,2, figsize=(15,15))\n",
    "smart_month_median.plot(x='month', y='mb_used', ax=centerx, kind='bar', fontsize=12, rot=45, figsize=(15,4), ec='black') # строим гистограмму для цен в центре\n",
    "ultra_month_median.plot(x='month', y='mb_used', ax=allx, kind='bar', fontsize=12, rot=45, figsize=(15,4), ec='black') # и для цен в городе и области\n",
    "centerx.axhline(y=tariffs[tariffs['tariff_name']=='smart']['mb_per_month_included'].min(),linewidth=3, color='#35B815', linestyle='--')\n",
    "allx.axhline(y=tariffs[tariffs['tariff_name']=='ultra']['mb_per_month_included'].min(),linewidth=3, color='#35B815', linestyle='--')\n",
    "centerx.set_title('Smart')\n",
    "centerx.set_xlabel('month')\n",
    "centerx.set_ylabel('Median internet traffic used, Mb')\n",
    "allx.set_title('Ultra')\n",
    "allx.set_xlabel('month')\n",
    "allx.set_ylabel('Average internet traffic used, Mb')\n",
    "plt.show()"
   ]
  },
  {
   "cell_type": "markdown",
   "metadata": {},
   "source": [
    "Smart subscribers go over the limit with internet traffic whereas Ultra subscribers stay within the limits."
   ]
  },
  {
   "cell_type": "markdown",
   "metadata": {},
   "source": [
    "Text messages sent:"
   ]
  },
  {
   "cell_type": "code",
   "execution_count": 42,
   "metadata": {},
   "outputs": [
    {
     "data": {
      "image/png": "[encoded data removed]",
      "text/plain": [
       "<Figure size 1080x288 with 2 Axes>"
      ]
     },
     "metadata": {
      "needs_background": "light"
     },
     "output_type": "display_data"
    }
   ],
   "source": [
    "fig, (centerx, allx) = plt.subplots(1,2, figsize=(15,15))\n",
    "smart_month_median.plot(x='month', y='messages_num', ax=centerx, kind='bar', fontsize=12, rot=45, figsize=(15,4), ec='black') # строим гистограмму для цен в центре\n",
    "ultra_month_median.plot(x='month', y='messages_num', ax=allx, kind='bar', fontsize=12, rot=45, figsize=(15,4), ec='black') # и для цен в городе и области\n",
    "centerx.axhline(y=tariffs[tariffs['tariff_name']=='smart']['messages_included'].min(),linewidth=3, color='#35B815', linestyle='--')\n",
    "allx.axhline(y=tariffs[tariffs['tariff_name']=='ultra']['messages_included'].min(),linewidth=3, color='#35B815', linestyle='--')\n",
    "centerx.set_title('Smart')\n",
    "centerx.set_xlabel('month')\n",
    "centerx.set_ylabel('Median number of messages')\n",
    "allx.set_title('Ultra')\n",
    "allx.set_xlabel('month')\n",
    "allx.set_ylabel('Median number of messages')\n",
    "plt.show()"
   ]
  },
  {
   "cell_type": "markdown",
   "metadata": {},
   "source": [
    "Text messages are not in high demand."
   ]
  },
  {
   "cell_type": "markdown",
   "metadata": {},
   "source": [
    "We can also plot median monthly payment (subscription fee+extra charges) for each plan."
   ]
  },
  {
   "cell_type": "code",
   "execution_count": 43,
   "metadata": {},
   "outputs": [
    {
     "data": {
      "image/png": "[encoded data removed]",
      "text/plain": [
       "<Figure size 1080x288 with 2 Axes>"
      ]
     },
     "metadata": {
      "needs_background": "light"
     },
     "output_type": "display_data"
    }
   ],
   "source": [
    "fig, (centerx, allx) = plt.subplots(1,2, figsize=(15,15))\n",
    "smart_month_median.plot(x='month', y='total_charge', ax=centerx, kind='bar', fontsize=12, rot=45, figsize=(15,4), ec='black') # строим гистограмму для цен в центре\n",
    "ultra_month_median.plot(x='month', y='total_charge', ax=allx, kind='bar', fontsize=12, rot=45, figsize=(15,4), ec='black') # и для цен в городе и области\n",
    "centerx.axhline(y=tariffs[tariffs['tariff_name']=='smart']['rub_monthly_fee'].min(),linewidth=3, color='#35B815', linestyle='--')\n",
    "allx.axhline(y=tariffs[tariffs['tariff_name']=='ultra']['rub_monthly_fee'].min(),linewidth=3, color='#35B815', linestyle='--')\n",
    "centerx.set_title('Smart')\n",
    "centerx.set_xlabel('month')\n",
    "centerx.set_ylabel('Median bill')\n",
    "allx.set_title('Ultra')\n",
    "allx.set_xlabel('month')\n",
    "allx.set_ylabel('Median bill')\n",
    "plt.show()"
   ]
  },
  {
   "cell_type": "markdown",
   "metadata": {},
   "source": [
    "It was quite predictable, Ultra subscribers do not overpay that much but their subscruption fee is thrice higher than the Smart plan subscription fee. Smart plan subscribers overpay regurlarly and a lot. However, median total revenue from Smart subscibers is still lower than the median total revenue from Ultra subscribers. Then we plot total revenue for each tariff: "
   ]
  },
  {
   "cell_type": "code",
   "execution_count": 44,
   "metadata": {},
   "outputs": [
    {
     "data": {
      "image/png": "[encoded data removed]",
      "text/plain": [
       "<Figure size 1440x360 with 1 Axes>"
      ]
     },
     "metadata": {},
     "output_type": "display_data"
    }
   ],
   "source": [
    "total_revenue = products_by_month_all['total_charge'].sum()\n",
    "\n",
    "\n",
    "def func_pct(pct):\n",
    "    value = float(pct/100.*total_revenue)\n",
    "    return \"{:.2f}%\\n({:,.0f} rubles)\".format(pct, value)\n",
    "\n",
    "explode = (0.05, 0)  \n",
    "\n",
    "axes = products_by_month_all.groupby('tariff')['total_charge'].sum().plot(kind='pie', subplots=True, fontsize=15,\n",
    "                                                                     use_index=False, shadow=True, explode=explode,\n",
    "                                                                     title = 'Revenue', pctdistance=0.45,\n",
    "                                                                     startangle=20, figsize=(20,5),\n",
    "                                                                     autopct=lambda pct: func_pct(pct))\n",
    "\n",
    "for ax in axes:\n",
    "    ax.legend(['Smart', 'Ultra'], bbox_to_anchor=(0.87,0.87), framealpha=0.2, prop={'size':12})\n",
    "    ax.set_ylabel('')"
   ]
  },
  {
   "cell_type": "markdown",
   "metadata": {},
   "source": [
    "Revenue from 'Smart' plan is greater than revenue from 'Ultra' plan because there are more subscribers on 'Smart' plan than on 'Ultra' plan and many of them overpay for extra traffic and phone calls. We also found out that text messages are not very popular and most extra revenue comes from internet traffic. We calculated median revenue by months for each plan and came to the conclusion that 'Ultra' subscribers usually do not overpay whereas 'Smart' subscribers overpay for internet traffic and phone calls. Mean and median values are mostly the same for each parameter.    "
   ]
  },
  {
   "cell_type": "markdown",
   "metadata": {},
   "source": [
    "## Hypotheses testing."
   ]
  },
  {
   "cell_type": "markdown",
   "metadata": {},
   "source": [
    "As a part of our analysis we need to test 2 hypotheses: \n",
    "1. Average revenue from users of Ultra and Smart calling plans is different.\n",
    "2. Average revenue from Moscow subscribers is different from average revenue from regional subscribers.\n",
    "Let's test the first hypothesis. For this purpose we'll need scipy library and use stats.ttest_ind method. We also need to formulate 0 and 1 Hypothesis:\n",
    "H0 - Average revenue per month for Ultra users = average revenue per month for Smart users.\n",
    "H1 - Average revenue per month for Ultra users <> average revenue per month for Smart users.\n",
    "We use a significance level (or alpha) of 0.05, which means that only in 5% of the case will we reject the null hypothesis when it is true. If p-value < , then reject null hypothesis. If p-value > , fail to reject null hypothesis. We use a t-test to test the hypothesis because it is used to compare the means of two groups in order to determine whether two groups are different from one another."
   ]
  },
  {
   "cell_type": "code",
   "execution_count": 45,
   "metadata": {},
   "outputs": [
    {
     "name": "stdout",
     "output_type": "stream",
     "text": [
      "p-value: 5.150031377415166e-121\n",
      "We reject the null hypothesis\n"
     ]
    }
   ],
   "source": [
    "ultra_charge_no_outliers=remove_outlier(ultra_min, 'total_charge') # we remove outliers in 'total charge' column for each plan \n",
    "smart_charge_no_outliers=remove_outlier(smart_min, 'total_charge')\n",
    "smart = smart_charge_no_outliers['total_charge']\n",
    "ultra = ultra_charge_no_outliers['total_charge']\n",
    "\n",
    "alpha = 0.05\n",
    "\n",
    "results = st.ttest_ind(\n",
    "    ultra, \n",
    "    smart, \n",
    "    equal_var=False)\n",
    "\n",
    "print('p-value:', results.pvalue)\n",
    "\n",
    "if (results.pvalue < alpha):\n",
    "    print(\"We reject the null hypothesis\")\n",
    "else:\n",
    "    print(\"We fail to reject the null hypothesis\")"
   ]
  },
  {
   "cell_type": "markdown",
   "metadata": {},
   "source": [
    "We reject the null hypothesis. Our analysis suggests that average revenue from users of Ultra and Smart calling plans differs."
   ]
  },
  {
   "cell_type": "markdown",
   "metadata": {},
   "source": [
    "It's time to test the second hypothesis that revenue from Moscow subscribers and subscribers from other regions is different. Let's formulate  H0 and H1 hypotheses:\n",
    "H0  — average revenue from Moscow subscribers = average revenue from subscribers from other regions.\n",
    "H1  — average revenue from Moscow subscribers <> average revenue from subscribers from other regions."
   ]
  },
  {
   "cell_type": "markdown",
   "metadata": {},
   "source": [
    "First, we need to find outliers:"
   ]
  },
  {
   "cell_type": "code",
   "execution_count": 46,
   "metadata": {},
   "outputs": [
    {
     "data": {
      "image/png": "[encoded data removed]",
      "text/plain": [
       "<Figure size 1440x576 with 2 Axes>"
      ]
     },
     "metadata": {
      "needs_background": "light"
     },
     "output_type": "display_data"
    }
   ],
   "source": [
    "moscow_charge = products_by_month_all.query('city==\"Москва\"') # we need 2 tables: 1 for Moscow, 1 for other regions \n",
    "regions_charge = products_by_month_all.query('city!=\"Москва\"')#\n",
    "\n",
    "fig, (moscowx, regionx) = plt.subplots(1,2, figsize=(20,8))\n",
    "moscow_charge.boxplot(column = 'total_charge', ax=moscowx, boxprops=dict(linestyle='-', linewidth=5),\n",
    "                                         medianprops=dict(linestyle='-', linewidth=5),\n",
    "                                         whiskerprops=dict(linestyle='-', linewidth=5),\n",
    "                                         capprops=dict(linestyle='-', linewidth=5),\n",
    "                                         notch=True,)\n",
    "regions_charge.boxplot(column='total_charge', ax=regionx, boxprops=dict(linestyle='-', linewidth=5),\n",
    "                                         medianprops=dict(linestyle='-', linewidth=5),\n",
    "                                         whiskerprops=dict(linestyle='-', linewidth=5),\n",
    "                                         capprops=dict(linestyle='-', linewidth=5),\n",
    "                                         notch=True,)\n",
    "moscowx.set_title('Moscow')\n",
    "regionx.set_title('Other regions')\n",
    "moscowx.set_ylabel('Monthly revenue per subscriber')\n",
    "regionx.set_ylabel('Monthly revenue per subscriber')\n",
    "fig.suptitle('Monthly revenue per subscriber', fontsize=16)\n",
    "moscowx.set_xticklabels([])\n",
    "regionx.set_xticklabels([])\n",
    "plt.show()"
   ]
  },
  {
   "cell_type": "code",
   "execution_count": 47,
   "metadata": {},
   "outputs": [
    {
     "name": "stdout",
     "output_type": "stream",
     "text": [
      "p-value: 0.375527109224551\n",
      "We fail to reject the null hypothesis\n"
     ]
    }
   ],
   "source": [
    "moscow_revenue = remove_outlier(moscow_charge, 'total_charge') # we need 2 tables: 1 for Moscow, 1 for other regions\n",
    "regions_revenue = remove_outlier(regions_charge, 'total_charge')\n",
    "moscow_revenue = moscow_revenue['total_charge']\n",
    "regions_revenue = regions_revenue['total_charge']\n",
    "alpha = 0.05\n",
    "\n",
    "results = st.ttest_ind(\n",
    "    moscow_revenue, \n",
    "    regions_revenue, \n",
    "    equal_var=False)\n",
    "\n",
    "print('p-value:', results.pvalue)\n",
    "\n",
    "if (results.pvalue < alpha):\n",
    "    print(\"We reject the null hypothesis\")\n",
    "else:\n",
    "    print(\"We fail to reject the null hypothesis\")"
   ]
  },
  {
   "cell_type": "markdown",
   "metadata": {},
   "source": [
    "We fail to reject the null hypothesis, average revenue from Moscow subscribers is equal to the average revenur from subscribers from other regions."
   ]
  },
  {
   "cell_type": "markdown",
   "metadata": {},
   "source": [
    "## Conclusion:"
   ]
  },
  {
   "cell_type": "markdown",
   "metadata": {},
   "source": [
    "We read and studied the data and prepared it for further analysis. We detected and removed the outliers from the data, and used the filtered data to compute the statistics. We determined that both the tariffs have mean and median of almost the same value for each parameter. it means that the distribution is symmetric. Tariff Ultra has a wider dispersion for each parameter. It can be explained by the fact that Ultra subscibers have more minutes, messages and GB included in their package.\n",
    "\n",
    "We plotted the distribution and the frequency density of the plans per user and observed that, on the average, ultra users has more call duration per month, send more text messages, require more data volume than users in the smart plan. We also determined that users in the ultra plan brought in more revenue on the average than users in the smart plan. \n",
    "\n",
    "We formulated the null hypothesis by stating that there is no difference between the average revenue from users of ultra and smart calling plans. We used a significance level of 0.05 to calculate the p-value. From the hypothesis test, we determined that the group are different hence we reject the null hypothesis. The test suggested that average revenue from users of Ultra and Smart calling plans differs. We also tested the hypothesis by stating that there is no difference between the average revenue from users in Moscow, and users from other regions. Our hypothesis test shows that the average revenue from users in Moscow, and users from other regions are different.\n",
    "\n",
    "We can conclude from this analysis that:\n",
    "\n",
    "users on the ultra plan have more call duration per month, send more text messages, require more data volume, and bring in more average revenue than users on the smart plan.\n",
    "Users on the smart plan on the average make more calls and use more data volume than included in their plan package. When users regularly overpay they try to find better options and the Telecom company may lose these subscribers. We were not provided with information about other plans the Telecom company offers to its Clients. The subscription fee for Ultra pan is thrice as high as the Smart plan subscription fee and it's doubtful that unsatisfied Smart plan subscribers will switch to Ultra plan.  \n",
    "We also compared the average revenue from users in other regions and users from Moscow and found out that average revenue from Moscow subscribers is equal to the average revenur from subscribers from other regions.\n",
    "Our recommendation is that the commercial department should adjust advertising budget and advertise more calls, messaging and internet data offers to the user in the ultra plan.\n",
    "The ultra plan is more profitable than the smart plan even though the smart plan has more users overall than the ultra plan.\n",
    "We could carry out further analysis to determine the average revenue by age group. That will also inform Megaline telecom on which age group and advertising medium to target for marketing purposes. For instance, if we analyze that people in the age group 1 - 25 brings in more revenue, we can also determine whether marketing on social media apps like TikTok or Instagram will bring in more users and revenue than TV or billboard advertisement. It should be noted that we can consider these 2 plans inisolation. We lack data on other plans offered by Megaline and infomation about plans offered by the competitors.  "
   ]
  },
  {
   "cell_type": "code",
   "execution_count": null,
   "metadata": {},
   "outputs": [],
   "source": []
  }
 ],
 "metadata": {
  "ExecuteTimeLog": [
   {
    "duration": 550,
    "start_time": "2021-08-30T18:30:19.949Z"
   },
   {
    "duration": 211,
    "start_time": "2021-08-30T18:33:06.219Z"
   },
   {
    "duration": 303,
    "start_time": "2021-08-30T18:34:03.865Z"
   },
   {
    "duration": 1458,
    "start_time": "2021-08-30T18:34:08.314Z"
   },
   {
    "duration": 530,
    "start_time": "2021-08-30T18:34:09.996Z"
   },
   {
    "duration": 513,
    "start_time": "2021-08-30T18:34:38.893Z"
   },
   {
    "duration": 526,
    "start_time": "2021-08-30T18:36:20.137Z"
   },
   {
    "duration": 6,
    "start_time": "2021-08-30T18:39:37.516Z"
   },
   {
    "duration": 499,
    "start_time": "2021-08-30T18:39:39.004Z"
   },
   {
    "duration": 5,
    "start_time": "2021-08-30T18:40:56.956Z"
   },
   {
    "duration": 37,
    "start_time": "2021-08-30T20:40:14.461Z"
   },
   {
    "duration": 547,
    "start_time": "2021-08-30T20:40:44.682Z"
   },
   {
    "duration": 27,
    "start_time": "2021-08-30T20:41:16.325Z"
   },
   {
    "duration": 12,
    "start_time": "2021-08-30T20:42:06.745Z"
   },
   {
    "duration": 23,
    "start_time": "2021-08-30T20:42:22.575Z"
   },
   {
    "duration": 11,
    "start_time": "2021-08-30T20:43:36.180Z"
   },
   {
    "duration": 18,
    "start_time": "2021-08-30T20:43:56.915Z"
   },
   {
    "duration": 14,
    "start_time": "2021-08-30T20:44:32.164Z"
   },
   {
    "duration": 312,
    "start_time": "2021-08-30T20:56:05.228Z"
   },
   {
    "duration": 9,
    "start_time": "2021-08-30T20:56:11.497Z"
   },
   {
    "duration": 15,
    "start_time": "2021-08-30T20:58:02.505Z"
   },
   {
    "duration": 9,
    "start_time": "2021-08-30T20:58:19.587Z"
   },
   {
    "duration": 10,
    "start_time": "2021-08-30T21:09:11.098Z"
   },
   {
    "duration": 9,
    "start_time": "2021-08-30T21:09:30.472Z"
   },
   {
    "duration": 54,
    "start_time": "2021-08-30T21:09:52.095Z"
   },
   {
    "duration": 102,
    "start_time": "2021-08-30T21:10:11.508Z"
   },
   {
    "duration": 116,
    "start_time": "2021-08-30T21:10:31.928Z"
   },
   {
    "duration": 244,
    "start_time": "2021-08-30T21:29:16.712Z"
   },
   {
    "duration": 261,
    "start_time": "2021-08-30T21:30:33.065Z"
   },
   {
    "duration": 272,
    "start_time": "2021-08-30T21:30:57.831Z"
   },
   {
    "duration": 819,
    "start_time": "2021-08-30T21:31:35.081Z"
   },
   {
    "duration": 583,
    "start_time": "2021-08-30T21:31:35.903Z"
   },
   {
    "duration": 28,
    "start_time": "2021-08-30T21:31:36.489Z"
   },
   {
    "duration": 155,
    "start_time": "2021-08-30T21:31:36.520Z"
   },
   {
    "duration": 12,
    "start_time": "2021-08-30T21:31:36.677Z"
   },
   {
    "duration": 24,
    "start_time": "2021-08-30T21:31:36.691Z"
   },
   {
    "duration": 139,
    "start_time": "2021-08-30T21:31:36.718Z"
   },
   {
    "duration": 12,
    "start_time": "2021-08-30T21:31:36.860Z"
   },
   {
    "duration": 18,
    "start_time": "2021-08-30T21:31:36.875Z"
   },
   {
    "duration": 85,
    "start_time": "2021-08-30T21:31:36.896Z"
   },
   {
    "duration": 11,
    "start_time": "2021-08-30T21:31:36.984Z"
   },
   {
    "duration": 13,
    "start_time": "2021-08-30T21:31:36.998Z"
   },
   {
    "duration": 9,
    "start_time": "2021-08-30T21:31:37.013Z"
   },
   {
    "duration": 41,
    "start_time": "2021-08-30T21:31:37.026Z"
   },
   {
    "duration": 11,
    "start_time": "2021-08-30T21:31:37.071Z"
   },
   {
    "duration": 13,
    "start_time": "2021-08-30T21:31:37.085Z"
   },
   {
    "duration": 359,
    "start_time": "2021-08-30T21:31:37.100Z"
   },
   {
    "duration": 33,
    "start_time": "2021-08-30T21:46:58.973Z"
   },
   {
    "duration": 6054,
    "start_time": "2021-08-30T21:49:47.735Z"
   },
   {
    "duration": 77,
    "start_time": "2021-08-30T21:50:10.177Z"
   },
   {
    "duration": 328,
    "start_time": "2021-08-30T21:50:46.287Z"
   },
   {
    "duration": 14,
    "start_time": "2021-08-30T21:51:04.791Z"
   },
   {
    "duration": 355,
    "start_time": "2021-08-30T21:51:07.853Z"
   },
   {
    "duration": 5,
    "start_time": "2021-08-30T21:51:54.688Z"
   },
   {
    "duration": 573,
    "start_time": "2021-08-30T21:51:54.696Z"
   },
   {
    "duration": 27,
    "start_time": "2021-08-30T21:51:55.272Z"
   },
   {
    "duration": 132,
    "start_time": "2021-08-30T21:51:55.302Z"
   },
   {
    "duration": 11,
    "start_time": "2021-08-30T21:51:55.437Z"
   },
   {
    "duration": 30,
    "start_time": "2021-08-30T21:51:55.462Z"
   },
   {
    "duration": 121,
    "start_time": "2021-08-30T21:51:55.495Z"
   },
   {
    "duration": 10,
    "start_time": "2021-08-30T21:51:55.619Z"
   },
   {
    "duration": 52,
    "start_time": "2021-08-30T21:51:55.633Z"
   },
   {
    "duration": 54,
    "start_time": "2021-08-30T21:51:55.688Z"
   },
   {
    "duration": 14,
    "start_time": "2021-08-30T21:51:55.761Z"
   },
   {
    "duration": 11,
    "start_time": "2021-08-30T21:51:55.777Z"
   },
   {
    "duration": 11,
    "start_time": "2021-08-30T21:51:55.790Z"
   },
   {
    "duration": 17,
    "start_time": "2021-08-30T21:51:55.803Z"
   },
   {
    "duration": 47,
    "start_time": "2021-08-30T21:51:55.823Z"
   },
   {
    "duration": 39,
    "start_time": "2021-08-30T21:51:55.872Z"
   },
   {
    "duration": 619,
    "start_time": "2021-08-30T21:51:59.745Z"
   },
   {
    "duration": 5,
    "start_time": "2021-08-30T21:52:31.684Z"
   },
   {
    "duration": 21,
    "start_time": "2021-08-30T21:52:48.978Z"
   },
   {
    "duration": 128,
    "start_time": "2021-08-30T21:53:06.214Z"
   },
   {
    "duration": 121,
    "start_time": "2021-08-30T21:53:22.850Z"
   },
   {
    "duration": 318,
    "start_time": "2021-08-31T06:03:08.326Z"
   },
   {
    "duration": 863,
    "start_time": "2021-08-31T06:03:35.208Z"
   },
   {
    "duration": 556,
    "start_time": "2021-08-31T06:03:36.075Z"
   },
   {
    "duration": 28,
    "start_time": "2021-08-31T06:03:36.634Z"
   },
   {
    "duration": 149,
    "start_time": "2021-08-31T06:03:36.665Z"
   },
   {
    "duration": 13,
    "start_time": "2021-08-31T06:03:36.817Z"
   },
   {
    "duration": 43,
    "start_time": "2021-08-31T06:03:36.833Z"
   },
   {
    "duration": 130,
    "start_time": "2021-08-31T06:03:36.879Z"
   },
   {
    "duration": 12,
    "start_time": "2021-08-31T06:03:37.012Z"
   },
   {
    "duration": 40,
    "start_time": "2021-08-31T06:03:37.029Z"
   },
   {
    "duration": 79,
    "start_time": "2021-08-31T06:03:37.073Z"
   },
   {
    "duration": 13,
    "start_time": "2021-08-31T06:03:37.155Z"
   },
   {
    "duration": 20,
    "start_time": "2021-08-31T06:03:37.172Z"
   },
   {
    "duration": 27,
    "start_time": "2021-08-31T06:03:37.195Z"
   },
   {
    "duration": 40,
    "start_time": "2021-08-31T06:03:37.224Z"
   },
   {
    "duration": 37,
    "start_time": "2021-08-31T06:03:37.266Z"
   },
   {
    "duration": 82,
    "start_time": "2021-08-31T06:03:37.306Z"
   },
   {
    "duration": 121,
    "start_time": "2021-08-31T06:03:37.391Z"
   },
   {
    "duration": 126,
    "start_time": "2021-08-31T06:03:41.163Z"
   },
   {
    "duration": 8,
    "start_time": "2021-08-31T06:03:44.655Z"
   },
   {
    "duration": 9,
    "start_time": "2021-08-31T06:04:01.455Z"
   },
   {
    "duration": 42,
    "start_time": "2021-08-31T06:04:32.691Z"
   },
   {
    "duration": 27,
    "start_time": "2021-08-31T06:06:34.288Z"
   },
   {
    "duration": 91,
    "start_time": "2021-08-31T06:07:06.569Z"
   },
   {
    "duration": 32,
    "start_time": "2021-08-31T06:07:16.798Z"
   },
   {
    "duration": 90,
    "start_time": "2021-08-31T06:07:43.219Z"
   },
   {
    "duration": 96,
    "start_time": "2021-08-31T06:07:53.305Z"
   },
   {
    "duration": 33,
    "start_time": "2021-08-31T06:08:04.581Z"
   },
   {
    "duration": 6775,
    "start_time": "2021-08-31T06:08:27.827Z"
   },
   {
    "duration": 111,
    "start_time": "2021-08-31T06:08:41.884Z"
   },
   {
    "duration": 30,
    "start_time": "2021-08-31T06:08:48.318Z"
   },
   {
    "duration": 43,
    "start_time": "2021-08-31T06:09:01.453Z"
   },
   {
    "duration": 32,
    "start_time": "2021-08-31T06:09:14.970Z"
   },
   {
    "duration": 216,
    "start_time": "2021-08-31T06:13:43.502Z"
   },
   {
    "duration": 40,
    "start_time": "2021-08-31T06:16:35.530Z"
   },
   {
    "duration": 121,
    "start_time": "2021-08-31T15:33:10.441Z"
   },
   {
    "duration": 428,
    "start_time": "2021-08-31T15:33:58.106Z"
   },
   {
    "duration": 432,
    "start_time": "2021-08-31T15:34:12.380Z"
   },
   {
    "duration": 784,
    "start_time": "2021-08-31T15:34:32.058Z"
   },
   {
    "duration": 476,
    "start_time": "2021-08-31T15:34:32.844Z"
   },
   {
    "duration": 23,
    "start_time": "2021-08-31T15:34:33.322Z"
   },
   {
    "duration": 109,
    "start_time": "2021-08-31T15:34:33.347Z"
   },
   {
    "duration": 8,
    "start_time": "2021-08-31T15:34:33.458Z"
   },
   {
    "duration": 33,
    "start_time": "2021-08-31T15:34:33.468Z"
   },
   {
    "duration": 75,
    "start_time": "2021-08-31T15:34:33.503Z"
   },
   {
    "duration": 8,
    "start_time": "2021-08-31T15:34:33.580Z"
   },
   {
    "duration": 27,
    "start_time": "2021-08-31T15:34:33.590Z"
   },
   {
    "duration": 59,
    "start_time": "2021-08-31T15:34:33.619Z"
   },
   {
    "duration": 8,
    "start_time": "2021-08-31T15:34:33.680Z"
   },
   {
    "duration": 17,
    "start_time": "2021-08-31T15:34:33.690Z"
   },
   {
    "duration": 17,
    "start_time": "2021-08-31T15:34:33.709Z"
   },
   {
    "duration": 11,
    "start_time": "2021-08-31T15:34:33.728Z"
   },
   {
    "duration": 8,
    "start_time": "2021-08-31T15:34:33.741Z"
   },
   {
    "duration": 52,
    "start_time": "2021-08-31T15:34:33.751Z"
   },
   {
    "duration": 99,
    "start_time": "2021-08-31T15:34:33.805Z"
   },
   {
    "duration": 89,
    "start_time": "2021-08-31T15:34:37.730Z"
   },
   {
    "duration": 397,
    "start_time": "2021-08-31T15:34:40.120Z"
   },
   {
    "duration": 135,
    "start_time": "2021-08-31T15:36:37.504Z"
   },
   {
    "duration": 374,
    "start_time": "2021-08-31T15:36:47.065Z"
   },
   {
    "duration": 5,
    "start_time": "2021-08-31T15:39:15.787Z"
   },
   {
    "duration": 455,
    "start_time": "2021-08-31T15:39:15.793Z"
   },
   {
    "duration": 24,
    "start_time": "2021-08-31T15:39:16.251Z"
   },
   {
    "duration": 120,
    "start_time": "2021-08-31T15:39:16.278Z"
   },
   {
    "duration": 10,
    "start_time": "2021-08-31T15:39:16.401Z"
   },
   {
    "duration": 25,
    "start_time": "2021-08-31T15:39:16.413Z"
   },
   {
    "duration": 84,
    "start_time": "2021-08-31T15:39:16.440Z"
   },
   {
    "duration": 8,
    "start_time": "2021-08-31T15:39:16.526Z"
   },
   {
    "duration": 19,
    "start_time": "2021-08-31T15:39:16.536Z"
   },
   {
    "duration": 66,
    "start_time": "2021-08-31T15:39:16.557Z"
   },
   {
    "duration": 9,
    "start_time": "2021-08-31T15:39:16.625Z"
   },
   {
    "duration": 9,
    "start_time": "2021-08-31T15:39:16.636Z"
   },
   {
    "duration": 34,
    "start_time": "2021-08-31T15:39:16.646Z"
   },
   {
    "duration": 13,
    "start_time": "2021-08-31T15:39:16.682Z"
   },
   {
    "duration": 9,
    "start_time": "2021-08-31T15:39:16.697Z"
   },
   {
    "duration": 43,
    "start_time": "2021-08-31T15:39:16.708Z"
   },
   {
    "duration": 108,
    "start_time": "2021-08-31T15:39:16.752Z"
   },
   {
    "duration": 133,
    "start_time": "2021-08-31T15:39:22.162Z"
   },
   {
    "duration": 373,
    "start_time": "2021-08-31T15:39:48.565Z"
   },
   {
    "duration": 4,
    "start_time": "2021-08-31T15:40:30.340Z"
   },
   {
    "duration": 464,
    "start_time": "2021-08-31T15:40:30.347Z"
   },
   {
    "duration": 23,
    "start_time": "2021-08-31T15:40:30.813Z"
   },
   {
    "duration": 108,
    "start_time": "2021-08-31T15:40:30.838Z"
   },
   {
    "duration": 10,
    "start_time": "2021-08-31T15:40:30.948Z"
   },
   {
    "duration": 32,
    "start_time": "2021-08-31T15:40:30.960Z"
   },
   {
    "duration": 82,
    "start_time": "2021-08-31T15:40:30.995Z"
   },
   {
    "duration": 8,
    "start_time": "2021-08-31T15:40:31.079Z"
   },
   {
    "duration": 21,
    "start_time": "2021-08-31T15:40:31.089Z"
   },
   {
    "duration": 70,
    "start_time": "2021-08-31T15:40:31.112Z"
   },
   {
    "duration": 9,
    "start_time": "2021-08-31T15:40:31.184Z"
   },
   {
    "duration": 10,
    "start_time": "2021-08-31T15:40:31.195Z"
   },
   {
    "duration": 14,
    "start_time": "2021-08-31T15:40:31.207Z"
   },
   {
    "duration": 20,
    "start_time": "2021-08-31T15:40:31.223Z"
   },
   {
    "duration": 11,
    "start_time": "2021-08-31T15:40:31.245Z"
   },
   {
    "duration": 48,
    "start_time": "2021-08-31T15:40:31.258Z"
   },
   {
    "duration": 103,
    "start_time": "2021-08-31T15:40:31.308Z"
   },
   {
    "duration": 132,
    "start_time": "2021-08-31T15:40:36.083Z"
   },
   {
    "duration": 129,
    "start_time": "2021-08-31T15:48:49.700Z"
   },
   {
    "duration": 349,
    "start_time": "2021-08-31T15:52:49.557Z"
   },
   {
    "duration": 392,
    "start_time": "2021-08-31T15:53:07.470Z"
   },
   {
    "duration": 371,
    "start_time": "2021-08-31T15:53:45.192Z"
   },
   {
    "duration": 141,
    "start_time": "2021-08-31T15:53:51.827Z"
   },
   {
    "duration": 127,
    "start_time": "2021-08-31T15:54:17.342Z"
   },
   {
    "duration": 136,
    "start_time": "2021-08-31T15:55:56.583Z"
   },
   {
    "duration": 141,
    "start_time": "2021-08-31T15:56:22.992Z"
   },
   {
    "duration": 320,
    "start_time": "2021-08-31T21:31:44.649Z"
   },
   {
    "duration": 832,
    "start_time": "2021-08-31T21:31:52.915Z"
   },
   {
    "duration": 550,
    "start_time": "2021-08-31T21:31:53.750Z"
   },
   {
    "duration": 28,
    "start_time": "2021-08-31T21:31:54.304Z"
   },
   {
    "duration": 150,
    "start_time": "2021-08-31T21:31:54.336Z"
   },
   {
    "duration": 13,
    "start_time": "2021-08-31T21:31:54.489Z"
   },
   {
    "duration": 42,
    "start_time": "2021-08-31T21:31:54.504Z"
   },
   {
    "duration": 114,
    "start_time": "2021-08-31T21:31:54.549Z"
   },
   {
    "duration": 10,
    "start_time": "2021-08-31T21:31:54.668Z"
   },
   {
    "duration": 49,
    "start_time": "2021-08-31T21:31:54.681Z"
   },
   {
    "duration": 64,
    "start_time": "2021-08-31T21:31:54.734Z"
   },
   {
    "duration": 12,
    "start_time": "2021-08-31T21:31:54.801Z"
   },
   {
    "duration": 23,
    "start_time": "2021-08-31T21:31:54.816Z"
   },
   {
    "duration": 26,
    "start_time": "2021-08-31T21:31:54.842Z"
   },
   {
    "duration": 31,
    "start_time": "2021-08-31T21:31:54.871Z"
   },
   {
    "duration": 17,
    "start_time": "2021-08-31T21:31:54.904Z"
   },
   {
    "duration": 55,
    "start_time": "2021-08-31T21:31:54.923Z"
   },
   {
    "duration": 119,
    "start_time": "2021-08-31T21:31:54.981Z"
   },
   {
    "duration": 120,
    "start_time": "2021-08-31T21:31:57.952Z"
   },
   {
    "duration": 172,
    "start_time": "2021-08-31T21:32:04.013Z"
   },
   {
    "duration": 165,
    "start_time": "2021-08-31T21:39:04.170Z"
   },
   {
    "duration": 111,
    "start_time": "2021-08-31T21:39:43.097Z"
   },
   {
    "duration": 154,
    "start_time": "2021-08-31T21:39:46.668Z"
   },
   {
    "duration": 331,
    "start_time": "2021-08-31T21:48:00.114Z"
   },
   {
    "duration": 291,
    "start_time": "2021-08-31T21:48:33.138Z"
   },
   {
    "duration": 92,
    "start_time": "2021-08-31T21:49:15.740Z"
   },
   {
    "duration": 165,
    "start_time": "2021-08-31T21:49:49.100Z"
   },
   {
    "duration": 296,
    "start_time": "2021-08-31T21:50:06.173Z"
   },
   {
    "duration": 6,
    "start_time": "2021-08-31T21:51:16.909Z"
   },
   {
    "duration": 528,
    "start_time": "2021-08-31T21:51:16.917Z"
   },
   {
    "duration": 27,
    "start_time": "2021-08-31T21:51:17.447Z"
   },
   {
    "duration": 145,
    "start_time": "2021-08-31T21:51:17.477Z"
   },
   {
    "duration": 12,
    "start_time": "2021-08-31T21:51:17.624Z"
   },
   {
    "duration": 42,
    "start_time": "2021-08-31T21:51:17.638Z"
   },
   {
    "duration": 109,
    "start_time": "2021-08-31T21:51:17.682Z"
   },
   {
    "duration": 10,
    "start_time": "2021-08-31T21:51:17.794Z"
   },
   {
    "duration": 24,
    "start_time": "2021-08-31T21:51:17.807Z"
   },
   {
    "duration": 81,
    "start_time": "2021-08-31T21:51:17.833Z"
   },
   {
    "duration": 11,
    "start_time": "2021-08-31T21:51:17.916Z"
   },
   {
    "duration": 16,
    "start_time": "2021-08-31T21:51:17.930Z"
   },
   {
    "duration": 9,
    "start_time": "2021-08-31T21:51:17.963Z"
   },
   {
    "duration": 23,
    "start_time": "2021-08-31T21:51:17.975Z"
   },
   {
    "duration": 17,
    "start_time": "2021-08-31T21:51:18.001Z"
   },
   {
    "duration": 66,
    "start_time": "2021-08-31T21:51:18.021Z"
   },
   {
    "duration": 371,
    "start_time": "2021-08-31T21:51:18.090Z"
   },
   {
    "duration": -996,
    "start_time": "2021-08-31T21:51:19.459Z"
   },
   {
    "duration": 162,
    "start_time": "2021-08-31T21:51:20.249Z"
   },
   {
    "duration": 240,
    "start_time": "2021-08-31T21:51:21.652Z"
   },
   {
    "duration": 372,
    "start_time": "2021-08-31T21:51:46.193Z"
   },
   {
    "duration": 170,
    "start_time": "2021-08-31T21:53:15.082Z"
   },
   {
    "duration": 232,
    "start_time": "2021-08-31T21:54:22.641Z"
   },
   {
    "duration": 5,
    "start_time": "2021-08-31T21:54:30.014Z"
   },
   {
    "duration": 549,
    "start_time": "2021-08-31T21:54:30.022Z"
   },
   {
    "duration": 27,
    "start_time": "2021-08-31T21:54:30.574Z"
   },
   {
    "duration": 159,
    "start_time": "2021-08-31T21:54:30.604Z"
   },
   {
    "duration": 11,
    "start_time": "2021-08-31T21:54:30.766Z"
   },
   {
    "duration": 63,
    "start_time": "2021-08-31T21:54:30.780Z"
   },
   {
    "duration": 108,
    "start_time": "2021-08-31T21:54:30.846Z"
   },
   {
    "duration": 11,
    "start_time": "2021-08-31T21:54:30.963Z"
   },
   {
    "duration": 43,
    "start_time": "2021-08-31T21:54:30.977Z"
   },
   {
    "duration": 93,
    "start_time": "2021-08-31T21:54:31.023Z"
   },
   {
    "duration": 13,
    "start_time": "2021-08-31T21:54:31.118Z"
   },
   {
    "duration": 29,
    "start_time": "2021-08-31T21:54:31.133Z"
   },
   {
    "duration": 31,
    "start_time": "2021-08-31T21:54:31.164Z"
   },
   {
    "duration": 29,
    "start_time": "2021-08-31T21:54:31.198Z"
   },
   {
    "duration": 24,
    "start_time": "2021-08-31T21:54:31.229Z"
   },
   {
    "duration": 83,
    "start_time": "2021-08-31T21:54:31.255Z"
   },
   {
    "duration": 388,
    "start_time": "2021-08-31T21:54:31.340Z"
   },
   {
    "duration": -984,
    "start_time": "2021-08-31T21:54:32.715Z"
   },
   {
    "duration": 181,
    "start_time": "2021-08-31T21:54:36.163Z"
   },
   {
    "duration": 274,
    "start_time": "2021-08-31T21:54:37.229Z"
   },
   {
    "duration": 394,
    "start_time": "2021-08-31T21:55:10.920Z"
   },
   {
    "duration": 354,
    "start_time": "2021-08-31T21:58:47.794Z"
   },
   {
    "duration": 418,
    "start_time": "2021-08-31T21:59:22.850Z"
   },
   {
    "duration": 245,
    "start_time": "2021-08-31T22:01:00.423Z"
   },
   {
    "duration": 127,
    "start_time": "2021-08-31T22:01:59.492Z"
   },
   {
    "duration": 274,
    "start_time": "2021-08-31T22:02:07.107Z"
   },
   {
    "duration": 237,
    "start_time": "2021-08-31T22:36:24.536Z"
   },
   {
    "duration": 779,
    "start_time": "2021-08-31T22:36:43.792Z"
   },
   {
    "duration": 550,
    "start_time": "2021-08-31T22:36:44.574Z"
   },
   {
    "duration": 26,
    "start_time": "2021-08-31T22:36:45.127Z"
   },
   {
    "duration": 160,
    "start_time": "2021-08-31T22:36:45.156Z"
   },
   {
    "duration": 13,
    "start_time": "2021-08-31T22:36:45.318Z"
   },
   {
    "duration": 40,
    "start_time": "2021-08-31T22:36:45.334Z"
   },
   {
    "duration": 124,
    "start_time": "2021-08-31T22:36:45.376Z"
   },
   {
    "duration": 10,
    "start_time": "2021-08-31T22:36:45.506Z"
   },
   {
    "duration": 24,
    "start_time": "2021-08-31T22:36:45.519Z"
   },
   {
    "duration": 74,
    "start_time": "2021-08-31T22:36:45.545Z"
   },
   {
    "duration": 11,
    "start_time": "2021-08-31T22:36:45.621Z"
   },
   {
    "duration": 28,
    "start_time": "2021-08-31T22:36:45.634Z"
   },
   {
    "duration": 8,
    "start_time": "2021-08-31T22:36:45.664Z"
   },
   {
    "duration": 19,
    "start_time": "2021-08-31T22:36:45.674Z"
   },
   {
    "duration": 16,
    "start_time": "2021-08-31T22:36:45.696Z"
   },
   {
    "duration": 46,
    "start_time": "2021-08-31T22:36:45.715Z"
   },
   {
    "duration": 115,
    "start_time": "2021-08-31T22:36:45.763Z"
   },
   {
    "duration": 169,
    "start_time": "2021-08-31T22:36:45.880Z"
   },
   {
    "duration": 3,
    "start_time": "2021-08-31T22:36:46.051Z"
   },
   {
    "duration": 366,
    "start_time": "2021-08-31T22:36:46.061Z"
   },
   {
    "duration": -866,
    "start_time": "2021-08-31T22:36:47.295Z"
   },
   {
    "duration": 5768,
    "start_time": "2021-08-31T22:40:15.335Z"
   },
   {
    "duration": 5885,
    "start_time": "2021-08-31T22:41:43.197Z"
   },
   {
    "duration": 146,
    "start_time": "2021-08-31T22:42:02.140Z"
   },
   {
    "duration": 5830,
    "start_time": "2021-08-31T22:42:55.609Z"
   },
   {
    "duration": 249,
    "start_time": "2021-08-31T22:43:24.108Z"
   },
   {
    "duration": 111,
    "start_time": "2021-08-31T22:43:43.230Z"
   },
   {
    "duration": 121,
    "start_time": "2021-08-31T22:45:29.114Z"
   },
   {
    "duration": 130,
    "start_time": "2021-08-31T22:45:54.049Z"
   },
   {
    "duration": 334,
    "start_time": "2021-08-31T23:02:23.034Z"
   },
   {
    "duration": 845,
    "start_time": "2021-08-31T23:02:49.456Z"
   },
   {
    "duration": 514,
    "start_time": "2021-08-31T23:02:50.303Z"
   },
   {
    "duration": 26,
    "start_time": "2021-08-31T23:02:50.819Z"
   },
   {
    "duration": 133,
    "start_time": "2021-08-31T23:02:50.847Z"
   },
   {
    "duration": 12,
    "start_time": "2021-08-31T23:02:50.982Z"
   },
   {
    "duration": 29,
    "start_time": "2021-08-31T23:02:50.996Z"
   },
   {
    "duration": 119,
    "start_time": "2021-08-31T23:02:51.027Z"
   },
   {
    "duration": 16,
    "start_time": "2021-08-31T23:02:51.150Z"
   },
   {
    "duration": 22,
    "start_time": "2021-08-31T23:02:51.169Z"
   },
   {
    "duration": 77,
    "start_time": "2021-08-31T23:02:51.194Z"
   },
   {
    "duration": 12,
    "start_time": "2021-08-31T23:02:51.274Z"
   },
   {
    "duration": 17,
    "start_time": "2021-08-31T23:02:51.289Z"
   },
   {
    "duration": 18,
    "start_time": "2021-08-31T23:02:51.309Z"
   },
   {
    "duration": 35,
    "start_time": "2021-08-31T23:02:51.329Z"
   },
   {
    "duration": 25,
    "start_time": "2021-08-31T23:02:51.367Z"
   },
   {
    "duration": 50,
    "start_time": "2021-08-31T23:02:51.394Z"
   },
   {
    "duration": 130,
    "start_time": "2021-08-31T23:02:51.446Z"
   },
   {
    "duration": 168,
    "start_time": "2021-08-31T23:02:51.579Z"
   },
   {
    "duration": 127,
    "start_time": "2021-08-31T23:02:51.749Z"
   },
   {
    "duration": 155,
    "start_time": "2021-08-31T23:02:51.878Z"
   },
   {
    "duration": 34,
    "start_time": "2021-08-31T23:02:52.035Z"
   },
   {
    "duration": 830,
    "start_time": "2021-08-31T23:22:27.890Z"
   },
   {
    "duration": 528,
    "start_time": "2021-08-31T23:22:28.723Z"
   },
   {
    "duration": 26,
    "start_time": "2021-08-31T23:22:29.254Z"
   },
   {
    "duration": 148,
    "start_time": "2021-08-31T23:22:29.283Z"
   },
   {
    "duration": 27,
    "start_time": "2021-08-31T23:22:29.434Z"
   },
   {
    "duration": 23,
    "start_time": "2021-08-31T23:22:29.463Z"
   },
   {
    "duration": 119,
    "start_time": "2021-08-31T23:22:29.489Z"
   },
   {
    "duration": 11,
    "start_time": "2021-08-31T23:22:29.612Z"
   },
   {
    "duration": 38,
    "start_time": "2021-08-31T23:22:29.626Z"
   },
   {
    "duration": 71,
    "start_time": "2021-08-31T23:22:29.667Z"
   },
   {
    "duration": 23,
    "start_time": "2021-08-31T23:22:29.741Z"
   },
   {
    "duration": 10,
    "start_time": "2021-08-31T23:22:29.767Z"
   },
   {
    "duration": 11,
    "start_time": "2021-08-31T23:22:29.779Z"
   },
   {
    "duration": 16,
    "start_time": "2021-08-31T23:22:29.793Z"
   },
   {
    "duration": 13,
    "start_time": "2021-08-31T23:22:29.811Z"
   },
   {
    "duration": 76,
    "start_time": "2021-08-31T23:22:29.826Z"
   },
   {
    "duration": 130,
    "start_time": "2021-08-31T23:22:29.904Z"
   },
   {
    "duration": 183,
    "start_time": "2021-08-31T23:22:30.037Z"
   },
   {
    "duration": 129,
    "start_time": "2021-08-31T23:22:30.223Z"
   },
   {
    "duration": 152,
    "start_time": "2021-08-31T23:22:30.361Z"
   },
   {
    "duration": 310,
    "start_time": "2021-08-31T23:23:09.901Z"
   },
   {
    "duration": 800,
    "start_time": "2021-08-31T23:23:53.682Z"
   },
   {
    "duration": 532,
    "start_time": "2021-08-31T23:23:54.485Z"
   },
   {
    "duration": 29,
    "start_time": "2021-08-31T23:23:55.020Z"
   },
   {
    "duration": 133,
    "start_time": "2021-08-31T23:23:55.053Z"
   },
   {
    "duration": 12,
    "start_time": "2021-08-31T23:23:55.188Z"
   },
   {
    "duration": 24,
    "start_time": "2021-08-31T23:23:55.202Z"
   },
   {
    "duration": 138,
    "start_time": "2021-08-31T23:23:55.228Z"
   },
   {
    "duration": 11,
    "start_time": "2021-08-31T23:23:55.369Z"
   },
   {
    "duration": 22,
    "start_time": "2021-08-31T23:23:55.383Z"
   },
   {
    "duration": 80,
    "start_time": "2021-08-31T23:23:55.408Z"
   },
   {
    "duration": 12,
    "start_time": "2021-08-31T23:23:55.490Z"
   },
   {
    "duration": 13,
    "start_time": "2021-08-31T23:23:55.504Z"
   },
   {
    "duration": 11,
    "start_time": "2021-08-31T23:23:55.519Z"
   },
   {
    "duration": 40,
    "start_time": "2021-08-31T23:23:55.533Z"
   },
   {
    "duration": 9,
    "start_time": "2021-08-31T23:23:55.575Z"
   },
   {
    "duration": 44,
    "start_time": "2021-08-31T23:23:55.587Z"
   },
   {
    "duration": 155,
    "start_time": "2021-08-31T23:23:55.633Z"
   },
   {
    "duration": 173,
    "start_time": "2021-08-31T23:23:55.791Z"
   },
   {
    "duration": 121,
    "start_time": "2021-08-31T23:23:55.966Z"
   },
   {
    "duration": 162,
    "start_time": "2021-08-31T23:23:56.090Z"
   },
   {
    "duration": 278,
    "start_time": "2021-08-31T23:24:21.252Z"
   },
   {
    "duration": 884,
    "start_time": "2021-08-31T23:25:52.329Z"
   },
   {
    "duration": 528,
    "start_time": "2021-08-31T23:25:53.216Z"
   },
   {
    "duration": 27,
    "start_time": "2021-08-31T23:25:53.746Z"
   },
   {
    "duration": 135,
    "start_time": "2021-08-31T23:25:53.775Z"
   },
   {
    "duration": 11,
    "start_time": "2021-08-31T23:25:53.912Z"
   },
   {
    "duration": 43,
    "start_time": "2021-08-31T23:25:53.925Z"
   },
   {
    "duration": 100,
    "start_time": "2021-08-31T23:25:53.970Z"
   },
   {
    "duration": 10,
    "start_time": "2021-08-31T23:25:54.073Z"
   },
   {
    "duration": 28,
    "start_time": "2021-08-31T23:25:54.085Z"
   },
   {
    "duration": 77,
    "start_time": "2021-08-31T23:25:54.115Z"
   },
   {
    "duration": 13,
    "start_time": "2021-08-31T23:25:54.194Z"
   },
   {
    "duration": 31,
    "start_time": "2021-08-31T23:25:54.210Z"
   },
   {
    "duration": 18,
    "start_time": "2021-08-31T23:25:54.244Z"
   },
   {
    "duration": 23,
    "start_time": "2021-08-31T23:25:54.265Z"
   },
   {
    "duration": 29,
    "start_time": "2021-08-31T23:25:54.291Z"
   },
   {
    "duration": 50,
    "start_time": "2021-08-31T23:25:54.322Z"
   },
   {
    "duration": 127,
    "start_time": "2021-08-31T23:25:54.374Z"
   },
   {
    "duration": 125,
    "start_time": "2021-08-31T23:26:09.758Z"
   },
   {
    "duration": 158,
    "start_time": "2021-08-31T23:26:15.029Z"
   },
   {
    "duration": 115,
    "start_time": "2021-08-31T23:26:23.497Z"
   },
   {
    "duration": 154,
    "start_time": "2021-08-31T23:26:25.161Z"
   },
   {
    "duration": 20,
    "start_time": "2021-08-31T23:26:34.513Z"
   },
   {
    "duration": 298,
    "start_time": "2021-08-31T23:27:07.102Z"
   },
   {
    "duration": 797,
    "start_time": "2021-08-31T23:27:16.879Z"
   },
   {
    "duration": 536,
    "start_time": "2021-08-31T23:27:17.679Z"
   },
   {
    "duration": 25,
    "start_time": "2021-08-31T23:27:18.218Z"
   },
   {
    "duration": 142,
    "start_time": "2021-08-31T23:27:18.246Z"
   },
   {
    "duration": 11,
    "start_time": "2021-08-31T23:27:18.390Z"
   },
   {
    "duration": 25,
    "start_time": "2021-08-31T23:27:18.403Z"
   },
   {
    "duration": 132,
    "start_time": "2021-08-31T23:27:18.431Z"
   },
   {
    "duration": 10,
    "start_time": "2021-08-31T23:27:18.567Z"
   },
   {
    "duration": 25,
    "start_time": "2021-08-31T23:27:18.580Z"
   },
   {
    "duration": 90,
    "start_time": "2021-08-31T23:27:18.607Z"
   },
   {
    "duration": 12,
    "start_time": "2021-08-31T23:27:18.699Z"
   },
   {
    "duration": 21,
    "start_time": "2021-08-31T23:27:18.714Z"
   },
   {
    "duration": 15,
    "start_time": "2021-08-31T23:27:18.737Z"
   },
   {
    "duration": 27,
    "start_time": "2021-08-31T23:27:18.754Z"
   },
   {
    "duration": 20,
    "start_time": "2021-08-31T23:27:18.783Z"
   },
   {
    "duration": 51,
    "start_time": "2021-08-31T23:27:18.805Z"
   },
   {
    "duration": 121,
    "start_time": "2021-08-31T23:27:18.858Z"
   },
   {
    "duration": 162,
    "start_time": "2021-08-31T23:27:18.982Z"
   },
   {
    "duration": 119,
    "start_time": "2021-08-31T23:27:19.146Z"
   },
   {
    "duration": 147,
    "start_time": "2021-08-31T23:27:19.267Z"
   },
   {
    "duration": 22,
    "start_time": "2021-08-31T23:27:25.057Z"
   },
   {
    "duration": 294,
    "start_time": "2021-09-01T00:17:25.920Z"
   },
   {
    "duration": 227,
    "start_time": "2021-09-01T00:17:52.333Z"
   },
   {
    "duration": 335,
    "start_time": "2021-09-01T00:18:29.178Z"
   },
   {
    "duration": 294,
    "start_time": "2021-09-01T00:28:13.063Z"
   },
   {
    "duration": 829,
    "start_time": "2021-09-01T00:37:18.649Z"
   },
   {
    "duration": 511,
    "start_time": "2021-09-01T00:37:19.481Z"
   },
   {
    "duration": 27,
    "start_time": "2021-09-01T00:37:19.996Z"
   },
   {
    "duration": 149,
    "start_time": "2021-09-01T00:37:20.026Z"
   },
   {
    "duration": 13,
    "start_time": "2021-09-01T00:37:20.178Z"
   },
   {
    "duration": 30,
    "start_time": "2021-09-01T00:37:20.193Z"
   },
   {
    "duration": 120,
    "start_time": "2021-09-01T00:37:20.226Z"
   },
   {
    "duration": 20,
    "start_time": "2021-09-01T00:37:20.352Z"
   },
   {
    "duration": 31,
    "start_time": "2021-09-01T00:37:20.375Z"
   },
   {
    "duration": 87,
    "start_time": "2021-09-01T00:37:20.408Z"
   },
   {
    "duration": 13,
    "start_time": "2021-09-01T00:37:20.498Z"
   },
   {
    "duration": 12,
    "start_time": "2021-09-01T00:37:20.514Z"
   },
   {
    "duration": 40,
    "start_time": "2021-09-01T00:37:20.529Z"
   },
   {
    "duration": 25,
    "start_time": "2021-09-01T00:37:20.572Z"
   },
   {
    "duration": 31,
    "start_time": "2021-09-01T00:37:20.599Z"
   },
   {
    "duration": 60,
    "start_time": "2021-09-01T00:37:20.633Z"
   },
   {
    "duration": 111,
    "start_time": "2021-09-01T00:37:20.695Z"
   },
   {
    "duration": 183,
    "start_time": "2021-09-01T00:37:20.809Z"
   },
   {
    "duration": 120,
    "start_time": "2021-09-01T00:37:20.994Z"
   },
   {
    "duration": 163,
    "start_time": "2021-09-01T00:37:21.116Z"
   },
   {
    "duration": 176,
    "start_time": "2021-09-01T00:37:21.282Z"
   },
   {
    "duration": 375,
    "start_time": "2021-09-01T01:04:45.129Z"
   },
   {
    "duration": 77,
    "start_time": "2021-09-01T01:04:59.024Z"
   },
   {
    "duration": 275,
    "start_time": "2021-09-01T01:20:30.367Z"
   },
   {
    "duration": 76,
    "start_time": "2021-09-01T01:20:42.933Z"
   },
   {
    "duration": 194,
    "start_time": "2021-09-01T01:43:29.547Z"
   },
   {
    "duration": 105,
    "start_time": "2021-09-01T01:49:29.099Z"
   },
   {
    "duration": 86,
    "start_time": "2021-09-01T01:49:44.917Z"
   },
   {
    "duration": 156,
    "start_time": "2021-09-01T01:49:50.745Z"
   },
   {
    "duration": 5,
    "start_time": "2021-09-01T02:05:49.291Z"
   },
   {
    "duration": 467,
    "start_time": "2021-09-01T02:05:49.303Z"
   },
   {
    "duration": 25,
    "start_time": "2021-09-01T02:05:49.772Z"
   },
   {
    "duration": 131,
    "start_time": "2021-09-01T02:05:49.801Z"
   },
   {
    "duration": 13,
    "start_time": "2021-09-01T02:05:49.935Z"
   },
   {
    "duration": 23,
    "start_time": "2021-09-01T02:05:49.963Z"
   },
   {
    "duration": 114,
    "start_time": "2021-09-01T02:05:49.988Z"
   },
   {
    "duration": 10,
    "start_time": "2021-09-01T02:05:50.104Z"
   },
   {
    "duration": 28,
    "start_time": "2021-09-01T02:05:50.118Z"
   },
   {
    "duration": 54,
    "start_time": "2021-09-01T02:05:50.161Z"
   },
   {
    "duration": 11,
    "start_time": "2021-09-01T02:05:50.218Z"
   },
   {
    "duration": 36,
    "start_time": "2021-09-01T02:05:50.231Z"
   },
   {
    "duration": 8,
    "start_time": "2021-09-01T02:05:50.270Z"
   },
   {
    "duration": 20,
    "start_time": "2021-09-01T02:05:50.280Z"
   },
   {
    "duration": 14,
    "start_time": "2021-09-01T02:05:50.302Z"
   },
   {
    "duration": 50,
    "start_time": "2021-09-01T02:05:54.609Z"
   },
   {
    "duration": 19,
    "start_time": "2021-09-01T02:06:25.793Z"
   },
   {
    "duration": 18,
    "start_time": "2021-09-01T02:06:50.595Z"
   },
   {
    "duration": 152,
    "start_time": "2021-09-01T02:07:58.503Z"
   },
   {
    "duration": 35,
    "start_time": "2021-09-01T02:16:37.949Z"
   },
   {
    "duration": 31,
    "start_time": "2021-09-01T02:16:59.137Z"
   },
   {
    "duration": 6,
    "start_time": "2021-09-01T02:17:18.635Z"
   },
   {
    "duration": 485,
    "start_time": "2021-09-01T02:17:18.644Z"
   },
   {
    "duration": 26,
    "start_time": "2021-09-01T02:17:19.131Z"
   },
   {
    "duration": 103,
    "start_time": "2021-09-01T02:17:19.160Z"
   },
   {
    "duration": 12,
    "start_time": "2021-09-01T02:17:19.266Z"
   },
   {
    "duration": 27,
    "start_time": "2021-09-01T02:17:19.281Z"
   },
   {
    "duration": 112,
    "start_time": "2021-09-01T02:17:19.311Z"
   },
   {
    "duration": 9,
    "start_time": "2021-09-01T02:17:19.426Z"
   },
   {
    "duration": 35,
    "start_time": "2021-09-01T02:17:19.437Z"
   },
   {
    "duration": 53,
    "start_time": "2021-09-01T02:17:19.475Z"
   },
   {
    "duration": 11,
    "start_time": "2021-09-01T02:17:19.530Z"
   },
   {
    "duration": 9,
    "start_time": "2021-09-01T02:17:19.561Z"
   },
   {
    "duration": 13,
    "start_time": "2021-09-01T02:17:19.573Z"
   },
   {
    "duration": 18,
    "start_time": "2021-09-01T02:17:19.589Z"
   },
   {
    "duration": 12,
    "start_time": "2021-09-01T02:17:19.609Z"
   },
   {
    "duration": 93,
    "start_time": "2021-09-01T02:17:19.624Z"
   },
   {
    "duration": 388,
    "start_time": "2021-09-01T02:17:31.929Z"
   },
   {
    "duration": 5,
    "start_time": "2021-09-01T02:19:14.433Z"
   },
   {
    "duration": 508,
    "start_time": "2021-09-01T02:19:14.443Z"
   },
   {
    "duration": 27,
    "start_time": "2021-09-01T02:19:14.954Z"
   },
   {
    "duration": 133,
    "start_time": "2021-09-01T02:19:14.985Z"
   },
   {
    "duration": 11,
    "start_time": "2021-09-01T02:19:15.122Z"
   },
   {
    "duration": 43,
    "start_time": "2021-09-01T02:19:15.136Z"
   },
   {
    "duration": 104,
    "start_time": "2021-09-01T02:19:15.182Z"
   },
   {
    "duration": 11,
    "start_time": "2021-09-01T02:19:15.288Z"
   },
   {
    "duration": 32,
    "start_time": "2021-09-01T02:19:15.303Z"
   },
   {
    "duration": 71,
    "start_time": "2021-09-01T02:19:15.338Z"
   },
   {
    "duration": 13,
    "start_time": "2021-09-01T02:19:15.411Z"
   },
   {
    "duration": 36,
    "start_time": "2021-09-01T02:19:15.427Z"
   },
   {
    "duration": 16,
    "start_time": "2021-09-01T02:19:15.466Z"
   },
   {
    "duration": 27,
    "start_time": "2021-09-01T02:19:15.485Z"
   },
   {
    "duration": 16,
    "start_time": "2021-09-01T02:19:15.515Z"
   },
   {
    "duration": 99,
    "start_time": "2021-09-01T02:19:15.534Z"
   },
   {
    "duration": 5982,
    "start_time": "2021-09-01T02:19:19.555Z"
   },
   {
    "duration": 423,
    "start_time": "2021-09-01T02:19:50.549Z"
   },
   {
    "duration": 6238,
    "start_time": "2021-09-01T02:20:50.001Z"
   },
   {
    "duration": 39,
    "start_time": "2021-09-01T02:21:53.904Z"
   },
   {
    "duration": 13,
    "start_time": "2021-09-01T02:22:32.214Z"
   },
   {
    "duration": 6,
    "start_time": "2021-09-01T02:22:59.036Z"
   },
   {
    "duration": 518,
    "start_time": "2021-09-01T02:22:59.045Z"
   },
   {
    "duration": 25,
    "start_time": "2021-09-01T02:22:59.566Z"
   },
   {
    "duration": 127,
    "start_time": "2021-09-01T02:22:59.594Z"
   },
   {
    "duration": 11,
    "start_time": "2021-09-01T02:22:59.724Z"
   },
   {
    "duration": 42,
    "start_time": "2021-09-01T02:22:59.737Z"
   },
   {
    "duration": 98,
    "start_time": "2021-09-01T02:22:59.781Z"
   },
   {
    "duration": 10,
    "start_time": "2021-09-01T02:22:59.883Z"
   },
   {
    "duration": 34,
    "start_time": "2021-09-01T02:22:59.895Z"
   },
   {
    "duration": 63,
    "start_time": "2021-09-01T02:22:59.932Z"
   },
   {
    "duration": 11,
    "start_time": "2021-09-01T02:22:59.998Z"
   },
   {
    "duration": 22,
    "start_time": "2021-09-01T02:23:00.012Z"
   },
   {
    "duration": 25,
    "start_time": "2021-09-01T02:23:00.037Z"
   },
   {
    "duration": 83,
    "start_time": "2021-09-01T02:23:00.064Z"
   },
   {
    "duration": 13,
    "start_time": "2021-09-01T02:23:06.249Z"
   },
   {
    "duration": 97,
    "start_time": "2021-09-01T02:23:42.136Z"
   },
   {
    "duration": 242,
    "start_time": "2021-09-01T02:23:56.992Z"
   },
   {
    "duration": 147,
    "start_time": "2021-09-01T02:24:32.101Z"
   },
   {
    "duration": 142,
    "start_time": "2021-09-01T02:25:07.592Z"
   },
   {
    "duration": 9,
    "start_time": "2021-09-01T02:29:31.401Z"
   },
   {
    "duration": 37,
    "start_time": "2021-09-01T02:31:42.432Z"
   },
   {
    "duration": 235,
    "start_time": "2021-09-01T02:34:44.913Z"
   },
   {
    "duration": 16,
    "start_time": "2021-09-01T02:34:50.195Z"
   },
   {
    "duration": 298,
    "start_time": "2021-09-01T02:39:47.608Z"
   },
   {
    "duration": 297,
    "start_time": "2021-09-01T02:40:03.023Z"
   },
   {
    "duration": 136,
    "start_time": "2021-09-01T02:40:27.446Z"
   },
   {
    "duration": 175,
    "start_time": "2021-09-01T02:40:45.619Z"
   },
   {
    "duration": 140,
    "start_time": "2021-09-01T02:41:28.175Z"
   },
   {
    "duration": 144,
    "start_time": "2021-09-01T02:42:17.319Z"
   },
   {
    "duration": 30,
    "start_time": "2021-09-01T02:44:25.483Z"
   },
   {
    "duration": 92,
    "start_time": "2021-09-01T02:46:05.784Z"
   },
   {
    "duration": 98,
    "start_time": "2021-09-01T02:46:25.255Z"
   },
   {
    "duration": 87,
    "start_time": "2021-09-01T02:46:37.729Z"
   },
   {
    "duration": 158,
    "start_time": "2021-09-01T02:47:35.427Z"
   },
   {
    "duration": 196,
    "start_time": "2021-09-01T02:49:24.000Z"
   },
   {
    "duration": 115,
    "start_time": "2021-09-01T02:50:23.963Z"
   },
   {
    "duration": 139,
    "start_time": "2021-09-01T02:50:32.954Z"
   },
   {
    "duration": 142,
    "start_time": "2021-09-01T02:52:23.736Z"
   },
   {
    "duration": 145,
    "start_time": "2021-09-01T02:52:41.142Z"
   },
   {
    "duration": 182,
    "start_time": "2021-09-01T02:54:09.612Z"
   },
   {
    "duration": 149,
    "start_time": "2021-09-01T02:54:41.940Z"
   },
   {
    "duration": 140,
    "start_time": "2021-09-01T02:57:01.038Z"
   },
   {
    "duration": 8,
    "start_time": "2021-09-01T02:58:11.427Z"
   },
   {
    "duration": 139,
    "start_time": "2021-09-01T02:59:41.171Z"
   },
   {
    "duration": 133,
    "start_time": "2021-09-01T03:00:05.779Z"
   },
   {
    "duration": 193,
    "start_time": "2021-09-01T03:00:30.351Z"
   },
   {
    "duration": 136,
    "start_time": "2021-09-01T03:01:47.206Z"
   },
   {
    "duration": 399,
    "start_time": "2021-09-01T03:01:55.703Z"
   },
   {
    "duration": 132,
    "start_time": "2021-09-01T03:02:06.839Z"
   },
   {
    "duration": 136,
    "start_time": "2021-09-01T03:02:18.055Z"
   },
   {
    "duration": 186,
    "start_time": "2021-09-01T03:02:30.232Z"
   },
   {
    "duration": 140,
    "start_time": "2021-09-01T03:02:36.261Z"
   },
   {
    "duration": 147,
    "start_time": "2021-09-01T03:02:57.448Z"
   },
   {
    "duration": 133,
    "start_time": "2021-09-01T03:26:43.131Z"
   },
   {
    "duration": 425,
    "start_time": "2021-09-01T03:29:25.213Z"
   },
   {
    "duration": 767,
    "start_time": "2021-09-01T03:29:36.810Z"
   },
   {
    "duration": 520,
    "start_time": "2021-09-01T03:29:37.580Z"
   },
   {
    "duration": 25,
    "start_time": "2021-09-01T03:29:38.103Z"
   },
   {
    "duration": 148,
    "start_time": "2021-09-01T03:29:38.131Z"
   },
   {
    "duration": 11,
    "start_time": "2021-09-01T03:29:38.281Z"
   },
   {
    "duration": 36,
    "start_time": "2021-09-01T03:29:38.295Z"
   },
   {
    "duration": 106,
    "start_time": "2021-09-01T03:29:38.334Z"
   },
   {
    "duration": 20,
    "start_time": "2021-09-01T03:29:38.444Z"
   },
   {
    "duration": 32,
    "start_time": "2021-09-01T03:29:38.470Z"
   },
   {
    "duration": 65,
    "start_time": "2021-09-01T03:29:38.505Z"
   },
   {
    "duration": 12,
    "start_time": "2021-09-01T03:29:38.574Z"
   },
   {
    "duration": 19,
    "start_time": "2021-09-01T03:29:38.589Z"
   },
   {
    "duration": 23,
    "start_time": "2021-09-01T03:29:38.611Z"
   },
   {
    "duration": 37,
    "start_time": "2021-09-01T03:29:38.636Z"
   },
   {
    "duration": 27,
    "start_time": "2021-09-01T03:29:38.676Z"
   },
   {
    "duration": 116,
    "start_time": "2021-09-01T03:29:38.707Z"
   },
   {
    "duration": 261,
    "start_time": "2021-09-01T03:29:38.826Z"
   },
   {
    "duration": 29,
    "start_time": "2021-09-01T03:29:39.089Z"
   },
   {
    "duration": 538,
    "start_time": "2021-09-01T03:29:39.120Z"
   },
   {
    "duration": -116,
    "start_time": "2021-09-01T03:29:39.777Z"
   },
   {
    "duration": -117,
    "start_time": "2021-09-01T03:29:39.780Z"
   },
   {
    "duration": -302,
    "start_time": "2021-09-01T03:29:39.966Z"
   },
   {
    "duration": -309,
    "start_time": "2021-09-01T03:29:39.974Z"
   },
   {
    "duration": 134,
    "start_time": "2021-09-01T03:30:32.975Z"
   },
   {
    "duration": 140,
    "start_time": "2021-09-01T03:30:45.005Z"
   },
   {
    "duration": 144,
    "start_time": "2021-09-01T03:30:55.494Z"
   },
   {
    "duration": 138,
    "start_time": "2021-09-01T03:33:17.393Z"
   },
   {
    "duration": 9,
    "start_time": "2021-09-01T03:42:03.091Z"
   },
   {
    "duration": 7,
    "start_time": "2021-09-01T03:42:43.903Z"
   },
   {
    "duration": 471,
    "start_time": "2021-09-01T03:43:00.008Z"
   },
   {
    "duration": 217,
    "start_time": "2021-09-01T03:43:08.049Z"
   },
   {
    "duration": 9,
    "start_time": "2021-09-01T03:43:14.446Z"
   },
   {
    "duration": 13,
    "start_time": "2021-09-01T03:43:29.219Z"
   },
   {
    "duration": 273,
    "start_time": "2021-09-01T03:50:46.976Z"
   },
   {
    "duration": 28,
    "start_time": "2021-09-01T03:51:00.307Z"
   },
   {
    "duration": 12,
    "start_time": "2021-09-01T03:51:50.357Z"
   },
   {
    "duration": 288,
    "start_time": "2021-09-01T03:52:42.085Z"
   },
   {
    "duration": 15,
    "start_time": "2021-09-01T03:53:24.729Z"
   },
   {
    "duration": 223,
    "start_time": "2021-09-01T03:53:45.719Z"
   },
   {
    "duration": 5,
    "start_time": "2021-09-01T03:56:01.336Z"
   },
   {
    "duration": 510,
    "start_time": "2021-09-01T03:56:01.349Z"
   },
   {
    "duration": 24,
    "start_time": "2021-09-01T03:56:01.862Z"
   },
   {
    "duration": 140,
    "start_time": "2021-09-01T03:56:01.889Z"
   },
   {
    "duration": 11,
    "start_time": "2021-09-01T03:56:02.032Z"
   },
   {
    "duration": 40,
    "start_time": "2021-09-01T03:56:02.045Z"
   },
   {
    "duration": 109,
    "start_time": "2021-09-01T03:56:02.087Z"
   },
   {
    "duration": 10,
    "start_time": "2021-09-01T03:56:02.199Z"
   },
   {
    "duration": 21,
    "start_time": "2021-09-01T03:56:02.213Z"
   },
   {
    "duration": 73,
    "start_time": "2021-09-01T03:56:02.237Z"
   },
   {
    "duration": 11,
    "start_time": "2021-09-01T03:56:02.313Z"
   },
   {
    "duration": 36,
    "start_time": "2021-09-01T03:56:02.326Z"
   },
   {
    "duration": 9,
    "start_time": "2021-09-01T03:56:02.364Z"
   },
   {
    "duration": 26,
    "start_time": "2021-09-01T03:56:02.375Z"
   },
   {
    "duration": 23,
    "start_time": "2021-09-01T03:56:02.403Z"
   },
   {
    "duration": 121,
    "start_time": "2021-09-01T03:56:02.428Z"
   },
   {
    "duration": 252,
    "start_time": "2021-09-01T03:56:02.552Z"
   },
   {
    "duration": 27,
    "start_time": "2021-09-01T03:56:02.807Z"
   },
   {
    "duration": 187,
    "start_time": "2021-09-01T03:56:02.837Z"
   },
   {
    "duration": 15,
    "start_time": "2021-09-01T03:56:03.026Z"
   },
   {
    "duration": 269,
    "start_time": "2021-09-01T03:56:12.995Z"
   },
   {
    "duration": 5,
    "start_time": "2021-09-01T03:56:42.847Z"
   },
   {
    "duration": 491,
    "start_time": "2021-09-01T03:56:42.855Z"
   },
   {
    "duration": 25,
    "start_time": "2021-09-01T03:56:43.350Z"
   },
   {
    "duration": 144,
    "start_time": "2021-09-01T03:56:43.378Z"
   },
   {
    "duration": 12,
    "start_time": "2021-09-01T03:56:43.524Z"
   },
   {
    "duration": 38,
    "start_time": "2021-09-01T03:56:43.539Z"
   },
   {
    "duration": 115,
    "start_time": "2021-09-01T03:56:43.579Z"
   },
   {
    "duration": 10,
    "start_time": "2021-09-01T03:56:43.698Z"
   },
   {
    "duration": 23,
    "start_time": "2021-09-01T03:56:43.711Z"
   },
   {
    "duration": 73,
    "start_time": "2021-09-01T03:56:43.737Z"
   },
   {
    "duration": 11,
    "start_time": "2021-09-01T03:56:43.813Z"
   },
   {
    "duration": 41,
    "start_time": "2021-09-01T03:56:43.827Z"
   },
   {
    "duration": 9,
    "start_time": "2021-09-01T03:56:43.870Z"
   },
   {
    "duration": 17,
    "start_time": "2021-09-01T03:56:43.881Z"
   },
   {
    "duration": 21,
    "start_time": "2021-09-01T03:56:43.900Z"
   },
   {
    "duration": 124,
    "start_time": "2021-09-01T03:56:43.924Z"
   },
   {
    "duration": 261,
    "start_time": "2021-09-01T03:56:44.051Z"
   },
   {
    "duration": 29,
    "start_time": "2021-09-01T03:56:44.315Z"
   },
   {
    "duration": 140,
    "start_time": "2021-09-01T03:56:44.362Z"
   },
   {
    "duration": 14,
    "start_time": "2021-09-01T03:56:44.504Z"
   },
   {
    "duration": 36,
    "start_time": "2021-09-01T03:56:48.668Z"
   },
   {
    "duration": 5,
    "start_time": "2021-09-01T03:57:54.526Z"
   },
   {
    "duration": 500,
    "start_time": "2021-09-01T03:57:54.535Z"
   },
   {
    "duration": 29,
    "start_time": "2021-09-01T03:57:55.039Z"
   },
   {
    "duration": 157,
    "start_time": "2021-09-01T03:57:55.070Z"
   },
   {
    "duration": 11,
    "start_time": "2021-09-01T03:57:55.229Z"
   },
   {
    "duration": 34,
    "start_time": "2021-09-01T03:57:55.243Z"
   },
   {
    "duration": 119,
    "start_time": "2021-09-01T03:57:55.279Z"
   },
   {
    "duration": 10,
    "start_time": "2021-09-01T03:57:55.402Z"
   },
   {
    "duration": 21,
    "start_time": "2021-09-01T03:57:55.414Z"
   },
   {
    "duration": 89,
    "start_time": "2021-09-01T03:57:55.438Z"
   },
   {
    "duration": 11,
    "start_time": "2021-09-01T03:57:55.529Z"
   },
   {
    "duration": 9,
    "start_time": "2021-09-01T03:57:55.562Z"
   },
   {
    "duration": 12,
    "start_time": "2021-09-01T03:57:55.573Z"
   },
   {
    "duration": 16,
    "start_time": "2021-09-01T03:57:55.588Z"
   },
   {
    "duration": 15,
    "start_time": "2021-09-01T03:57:55.606Z"
   },
   {
    "duration": 127,
    "start_time": "2021-09-01T03:57:55.623Z"
   },
   {
    "duration": 255,
    "start_time": "2021-09-01T03:57:55.761Z"
   },
   {
    "duration": 30,
    "start_time": "2021-09-01T03:57:56.018Z"
   },
   {
    "duration": 142,
    "start_time": "2021-09-01T03:57:56.063Z"
   },
   {
    "duration": 15,
    "start_time": "2021-09-01T03:57:56.207Z"
   },
   {
    "duration": 34,
    "start_time": "2021-09-01T03:58:03.603Z"
   },
   {
    "duration": 10,
    "start_time": "2021-09-01T04:50:52.661Z"
   },
   {
    "duration": 13,
    "start_time": "2021-09-01T04:52:36.322Z"
   },
   {
    "duration": 266,
    "start_time": "2021-09-01T04:53:19.326Z"
   },
   {
    "duration": 270,
    "start_time": "2021-09-01T04:53:33.690Z"
   },
   {
    "duration": 94,
    "start_time": "2021-09-01T04:53:44.834Z"
   },
   {
    "duration": 81,
    "start_time": "2021-09-01T04:54:01.860Z"
   },
   {
    "duration": 80,
    "start_time": "2021-09-01T04:57:57.460Z"
   },
   {
    "duration": 612,
    "start_time": "2021-09-01T04:58:03.641Z"
   },
   {
    "duration": 271,
    "start_time": "2021-09-01T04:58:16.970Z"
   },
   {
    "duration": 6,
    "start_time": "2021-09-01T04:58:57.219Z"
   },
   {
    "duration": 37,
    "start_time": "2021-09-01T05:00:40.240Z"
   },
   {
    "duration": 56,
    "start_time": "2021-09-01T05:01:23.616Z"
   },
   {
    "duration": 6,
    "start_time": "2021-09-01T05:01:29.047Z"
   },
   {
    "duration": 28,
    "start_time": "2021-09-01T05:02:25.903Z"
   },
   {
    "duration": 368,
    "start_time": "2021-09-01T14:45:48.419Z"
   },
   {
    "duration": 630,
    "start_time": "2021-09-01T14:45:56.740Z"
   },
   {
    "duration": 408,
    "start_time": "2021-09-01T14:45:57.372Z"
   },
   {
    "duration": 20,
    "start_time": "2021-09-01T14:45:57.782Z"
   },
   {
    "duration": 106,
    "start_time": "2021-09-01T14:45:57.804Z"
   },
   {
    "duration": 8,
    "start_time": "2021-09-01T14:45:57.911Z"
   },
   {
    "duration": 21,
    "start_time": "2021-09-01T14:45:57.921Z"
   },
   {
    "duration": 69,
    "start_time": "2021-09-01T14:45:57.943Z"
   },
   {
    "duration": 6,
    "start_time": "2021-09-01T14:45:58.015Z"
   },
   {
    "duration": 19,
    "start_time": "2021-09-01T14:45:58.023Z"
   },
   {
    "duration": 49,
    "start_time": "2021-09-01T14:45:58.044Z"
   },
   {
    "duration": 8,
    "start_time": "2021-09-01T14:45:58.095Z"
   },
   {
    "duration": 9,
    "start_time": "2021-09-01T14:45:58.105Z"
   },
   {
    "duration": 7,
    "start_time": "2021-09-01T14:45:58.116Z"
   },
   {
    "duration": 12,
    "start_time": "2021-09-01T14:45:58.124Z"
   },
   {
    "duration": 10,
    "start_time": "2021-09-01T14:45:58.138Z"
   },
   {
    "duration": 101,
    "start_time": "2021-09-01T14:45:58.149Z"
   },
   {
    "duration": 180,
    "start_time": "2021-09-01T14:45:58.252Z"
   },
   {
    "duration": 24,
    "start_time": "2021-09-01T14:45:58.433Z"
   },
   {
    "duration": 159,
    "start_time": "2021-09-01T14:45:58.459Z"
   },
   {
    "duration": 11,
    "start_time": "2021-09-01T14:45:58.620Z"
   },
   {
    "duration": 27,
    "start_time": "2021-09-01T14:45:58.632Z"
   },
   {
    "duration": 37,
    "start_time": "2021-09-01T14:45:58.661Z"
   },
   {
    "duration": 4326,
    "start_time": "2021-09-01T14:45:58.701Z"
   },
   {
    "duration": 4322,
    "start_time": "2021-09-01T14:46:16.026Z"
   },
   {
    "duration": 4517,
    "start_time": "2021-09-01T14:59:52.892Z"
   },
   {
    "duration": 4,
    "start_time": "2021-09-01T15:00:24.813Z"
   },
   {
    "duration": 391,
    "start_time": "2021-09-01T15:00:24.821Z"
   },
   {
    "duration": 18,
    "start_time": "2021-09-01T15:00:25.214Z"
   },
   {
    "duration": 85,
    "start_time": "2021-09-01T15:00:25.234Z"
   },
   {
    "duration": 8,
    "start_time": "2021-09-01T15:00:25.321Z"
   },
   {
    "duration": 20,
    "start_time": "2021-09-01T15:00:25.330Z"
   },
   {
    "duration": 70,
    "start_time": "2021-09-01T15:00:25.351Z"
   },
   {
    "duration": 7,
    "start_time": "2021-09-01T15:00:25.423Z"
   },
   {
    "duration": 14,
    "start_time": "2021-09-01T15:00:25.433Z"
   },
   {
    "duration": 60,
    "start_time": "2021-09-01T15:00:25.450Z"
   },
   {
    "duration": 7,
    "start_time": "2021-09-01T15:00:25.512Z"
   },
   {
    "duration": 8,
    "start_time": "2021-09-01T15:00:25.521Z"
   },
   {
    "duration": 7,
    "start_time": "2021-09-01T15:00:25.531Z"
   },
   {
    "duration": 10,
    "start_time": "2021-09-01T15:00:25.540Z"
   },
   {
    "duration": 34,
    "start_time": "2021-09-01T15:00:25.551Z"
   },
   {
    "duration": 70,
    "start_time": "2021-09-01T15:00:25.587Z"
   },
   {
    "duration": 195,
    "start_time": "2021-09-01T15:00:25.659Z"
   },
   {
    "duration": 30,
    "start_time": "2021-09-01T15:00:25.856Z"
   },
   {
    "duration": 111,
    "start_time": "2021-09-01T15:00:25.887Z"
   },
   {
    "duration": 9,
    "start_time": "2021-09-01T15:00:25.999Z"
   },
   {
    "duration": 24,
    "start_time": "2021-09-01T15:00:26.010Z"
   },
   {
    "duration": 16,
    "start_time": "2021-09-01T15:00:26.036Z"
   },
   {
    "duration": 5,
    "start_time": "2021-09-01T15:00:26.053Z"
   },
   {
    "duration": 8085,
    "start_time": "2021-09-01T15:00:36.204Z"
   },
   {
    "duration": 8,
    "start_time": "2021-09-01T15:01:06.024Z"
   },
   {
    "duration": 16,
    "start_time": "2021-09-01T15:01:42.173Z"
   },
   {
    "duration": 393,
    "start_time": "2021-09-01T15:05:15.861Z"
   },
   {
    "duration": 325,
    "start_time": "2021-09-01T15:05:53.422Z"
   },
   {
    "duration": 471,
    "start_time": "2021-09-01T15:53:30.298Z"
   },
   {
    "duration": 658,
    "start_time": "2021-09-01T15:53:50.061Z"
   },
   {
    "duration": 391,
    "start_time": "2021-09-01T15:53:50.721Z"
   },
   {
    "duration": 18,
    "start_time": "2021-09-01T15:53:51.114Z"
   },
   {
    "duration": 92,
    "start_time": "2021-09-01T15:53:51.133Z"
   },
   {
    "duration": 8,
    "start_time": "2021-09-01T15:53:51.227Z"
   },
   {
    "duration": 38,
    "start_time": "2021-09-01T15:53:51.236Z"
   },
   {
    "duration": 54,
    "start_time": "2021-09-01T15:53:51.276Z"
   },
   {
    "duration": 7,
    "start_time": "2021-09-01T15:53:51.333Z"
   },
   {
    "duration": 15,
    "start_time": "2021-09-01T15:53:51.341Z"
   },
   {
    "duration": 53,
    "start_time": "2021-09-01T15:53:51.357Z"
   },
   {
    "duration": 7,
    "start_time": "2021-09-01T15:53:51.412Z"
   },
   {
    "duration": 7,
    "start_time": "2021-09-01T15:53:51.421Z"
   },
   {
    "duration": 7,
    "start_time": "2021-09-01T15:53:51.430Z"
   },
   {
    "duration": 10,
    "start_time": "2021-09-01T15:53:51.438Z"
   },
   {
    "duration": 12,
    "start_time": "2021-09-01T15:53:51.449Z"
   },
   {
    "duration": 88,
    "start_time": "2021-09-01T15:53:51.463Z"
   },
   {
    "duration": 180,
    "start_time": "2021-09-01T15:53:51.552Z"
   },
   {
    "duration": 21,
    "start_time": "2021-09-01T15:53:51.734Z"
   },
   {
    "duration": 154,
    "start_time": "2021-09-01T15:53:51.756Z"
   },
   {
    "duration": 9,
    "start_time": "2021-09-01T15:53:51.912Z"
   },
   {
    "duration": 24,
    "start_time": "2021-09-01T15:53:51.922Z"
   },
   {
    "duration": 16,
    "start_time": "2021-09-01T15:53:51.947Z"
   },
   {
    "duration": 20,
    "start_time": "2021-09-01T15:53:51.965Z"
   },
   {
    "duration": 378,
    "start_time": "2021-09-01T15:53:51.986Z"
   },
   {
    "duration": -257,
    "start_time": "2021-09-01T15:53:52.623Z"
   },
   {
    "duration": 13,
    "start_time": "2021-09-01T15:55:20.632Z"
   },
   {
    "duration": 7,
    "start_time": "2021-09-01T15:57:56.156Z"
   },
   {
    "duration": 7,
    "start_time": "2021-09-01T15:59:53.164Z"
   },
   {
    "duration": 8,
    "start_time": "2021-09-01T16:00:01.479Z"
   },
   {
    "duration": 16,
    "start_time": "2021-09-01T16:00:03.637Z"
   },
   {
    "duration": 101,
    "start_time": "2021-09-01T16:01:16.299Z"
   },
   {
    "duration": 21,
    "start_time": "2021-09-01T16:02:08.059Z"
   },
   {
    "duration": 7,
    "start_time": "2021-09-01T16:06:52.107Z"
   },
   {
    "duration": 18,
    "start_time": "2021-09-01T16:06:53.894Z"
   },
   {
    "duration": 9,
    "start_time": "2021-09-01T16:17:36.450Z"
   },
   {
    "duration": 8,
    "start_time": "2021-09-01T16:18:17.528Z"
   },
   {
    "duration": 17,
    "start_time": "2021-09-01T16:18:36.128Z"
   },
   {
    "duration": 7466,
    "start_time": "2021-09-01T17:31:51.350Z"
   },
   {
    "duration": 26,
    "start_time": "2021-09-01T17:32:33.968Z"
   },
   {
    "duration": 28,
    "start_time": "2021-09-01T17:36:07.013Z"
   },
   {
    "duration": 32,
    "start_time": "2021-09-01T17:38:27.932Z"
   },
   {
    "duration": 8056,
    "start_time": "2021-09-01T17:41:17.457Z"
   },
   {
    "duration": 32,
    "start_time": "2021-09-01T17:42:25.455Z"
   },
   {
    "duration": 312,
    "start_time": "2021-09-01T18:01:06.636Z"
   },
   {
    "duration": 7,
    "start_time": "2021-09-01T19:42:03.626Z"
   },
   {
    "duration": 282,
    "start_time": "2021-09-01T19:45:14.554Z"
   },
   {
    "duration": 27,
    "start_time": "2021-09-01T19:46:51.492Z"
   },
   {
    "duration": 22,
    "start_time": "2021-09-01T19:47:34.632Z"
   },
   {
    "duration": 30,
    "start_time": "2021-09-01T19:47:46.800Z"
   },
   {
    "duration": 10,
    "start_time": "2021-09-01T19:51:35.662Z"
   },
   {
    "duration": 101,
    "start_time": "2021-09-01T19:52:33.748Z"
   },
   {
    "duration": 14,
    "start_time": "2021-09-01T19:52:39.653Z"
   },
   {
    "duration": 729,
    "start_time": "2021-09-01T19:58:10.111Z"
   },
   {
    "duration": 337,
    "start_time": "2021-09-01T19:58:54.607Z"
   },
   {
    "duration": 669,
    "start_time": "2021-09-01T19:59:21.475Z"
   },
   {
    "duration": 424,
    "start_time": "2021-09-01T19:59:22.146Z"
   },
   {
    "duration": 19,
    "start_time": "2021-09-01T19:59:22.572Z"
   },
   {
    "duration": 101,
    "start_time": "2021-09-01T19:59:22.593Z"
   },
   {
    "duration": 7,
    "start_time": "2021-09-01T19:59:22.696Z"
   },
   {
    "duration": 19,
    "start_time": "2021-09-01T19:59:22.705Z"
   },
   {
    "duration": 74,
    "start_time": "2021-09-01T19:59:22.725Z"
   },
   {
    "duration": 7,
    "start_time": "2021-09-01T19:59:22.800Z"
   },
   {
    "duration": 17,
    "start_time": "2021-09-01T19:59:22.809Z"
   },
   {
    "duration": 58,
    "start_time": "2021-09-01T19:59:22.828Z"
   },
   {
    "duration": 8,
    "start_time": "2021-09-01T19:59:22.887Z"
   },
   {
    "duration": 9,
    "start_time": "2021-09-01T19:59:22.897Z"
   },
   {
    "duration": 7,
    "start_time": "2021-09-01T19:59:22.908Z"
   },
   {
    "duration": 11,
    "start_time": "2021-09-01T19:59:22.917Z"
   },
   {
    "duration": 8,
    "start_time": "2021-09-01T19:59:22.929Z"
   },
   {
    "duration": 97,
    "start_time": "2021-09-01T19:59:22.939Z"
   },
   {
    "duration": 177,
    "start_time": "2021-09-01T19:59:23.038Z"
   },
   {
    "duration": 22,
    "start_time": "2021-09-01T19:59:23.216Z"
   },
   {
    "duration": 147,
    "start_time": "2021-09-01T19:59:23.239Z"
   },
   {
    "duration": 9,
    "start_time": "2021-09-01T19:59:23.387Z"
   },
   {
    "duration": 23,
    "start_time": "2021-09-01T19:59:23.398Z"
   },
   {
    "duration": 15,
    "start_time": "2021-09-01T19:59:23.423Z"
   },
   {
    "duration": 8,
    "start_time": "2021-09-01T19:59:23.440Z"
   },
   {
    "duration": 65,
    "start_time": "2021-09-01T19:59:23.450Z"
   },
   {
    "duration": 15,
    "start_time": "2021-09-01T19:59:23.517Z"
   },
   {
    "duration": 7953,
    "start_time": "2021-09-01T19:59:23.534Z"
   },
   {
    "duration": 7505,
    "start_time": "2021-09-01T20:01:19.715Z"
   },
   {
    "duration": 7668,
    "start_time": "2021-09-01T20:04:19.249Z"
   },
   {
    "duration": 322,
    "start_time": "2021-09-01T20:05:26.850Z"
   },
   {
    "duration": 7394,
    "start_time": "2021-09-01T20:12:09.791Z"
   },
   {
    "duration": 7434,
    "start_time": "2021-09-01T20:13:06.267Z"
   },
   {
    "duration": 7373,
    "start_time": "2021-09-01T20:13:20.414Z"
   },
   {
    "duration": 7532,
    "start_time": "2021-09-01T20:14:26.595Z"
   },
   {
    "duration": 9,
    "start_time": "2021-09-01T20:15:01.186Z"
   },
   {
    "duration": 353,
    "start_time": "2021-09-01T20:16:07.223Z"
   },
   {
    "duration": 7560,
    "start_time": "2021-09-01T20:16:30.924Z"
   },
   {
    "duration": 306,
    "start_time": "2021-09-01T20:21:14.604Z"
   },
   {
    "duration": 807,
    "start_time": "2021-09-01T20:21:35.740Z"
   },
   {
    "duration": 269,
    "start_time": "2021-09-01T20:21:57.531Z"
   },
   {
    "duration": 16,
    "start_time": "2021-09-01T20:24:17.495Z"
   },
   {
    "duration": 235,
    "start_time": "2021-09-01T20:24:24.163Z"
   },
   {
    "duration": 261,
    "start_time": "2021-09-01T20:24:45.185Z"
   },
   {
    "duration": 11,
    "start_time": "2021-09-01T20:26:58.662Z"
   },
   {
    "duration": 250,
    "start_time": "2021-09-01T20:27:02.824Z"
   },
   {
    "duration": 17,
    "start_time": "2021-09-01T20:28:16.055Z"
   },
   {
    "duration": 287,
    "start_time": "2021-09-01T20:28:24.198Z"
   },
   {
    "duration": 296,
    "start_time": "2021-09-01T20:29:21.687Z"
   },
   {
    "duration": 250,
    "start_time": "2021-09-01T20:29:38.600Z"
   },
   {
    "duration": 246,
    "start_time": "2021-09-01T21:35:47.671Z"
   },
   {
    "duration": 524,
    "start_time": "2021-09-01T21:36:17.389Z"
   },
   {
    "duration": 441,
    "start_time": "2021-09-01T21:36:35.199Z"
   },
   {
    "duration": 143,
    "start_time": "2021-09-01T21:39:57.428Z"
   },
   {
    "duration": 194,
    "start_time": "2021-09-01T21:41:19.722Z"
   },
   {
    "duration": 301,
    "start_time": "2021-09-01T21:44:34.551Z"
   },
   {
    "duration": 893,
    "start_time": "2021-09-01T21:44:50.412Z"
   },
   {
    "duration": 99,
    "start_time": "2021-09-01T21:45:26.940Z"
   },
   {
    "duration": 318,
    "start_time": "2021-09-01T21:45:32.481Z"
   },
   {
    "duration": 368,
    "start_time": "2021-09-01T21:45:52.019Z"
   },
   {
    "duration": 331,
    "start_time": "2021-09-01T21:48:10.568Z"
   },
   {
    "duration": 357,
    "start_time": "2021-09-01T21:51:02.449Z"
   },
   {
    "duration": 209,
    "start_time": "2021-09-01T21:51:20.352Z"
   },
   {
    "duration": 190,
    "start_time": "2021-09-01T21:52:26.652Z"
   },
   {
    "duration": 349,
    "start_time": "2021-09-01T21:55:14.689Z"
   },
   {
    "duration": 347,
    "start_time": "2021-09-01T21:55:55.335Z"
   },
   {
    "duration": 738,
    "start_time": "2021-09-01T22:01:53.805Z"
   },
   {
    "duration": 715,
    "start_time": "2021-09-01T22:02:10.049Z"
   },
   {
    "duration": 337,
    "start_time": "2021-09-01T22:12:02.122Z"
   },
   {
    "duration": 327,
    "start_time": "2021-09-01T22:13:46.484Z"
   },
   {
    "duration": 299,
    "start_time": "2021-09-01T22:14:12.445Z"
   },
   {
    "duration": 224,
    "start_time": "2021-09-01T22:14:41.894Z"
   },
   {
    "duration": 7659,
    "start_time": "2021-09-01T22:16:52.774Z"
   },
   {
    "duration": 256,
    "start_time": "2021-09-01T22:17:17.057Z"
   },
   {
    "duration": 367,
    "start_time": "2021-09-01T22:20:28.457Z"
   },
   {
    "duration": 360,
    "start_time": "2021-09-01T22:20:40.996Z"
   },
   {
    "duration": 927,
    "start_time": "2021-09-01T22:23:20.600Z"
   },
   {
    "duration": 702,
    "start_time": "2021-09-01T22:24:09.734Z"
   },
   {
    "duration": 580,
    "start_time": "2021-09-01T22:24:45.245Z"
   },
   {
    "duration": 576,
    "start_time": "2021-09-01T22:28:25.103Z"
   },
   {
    "duration": 590,
    "start_time": "2021-09-01T22:29:33.154Z"
   },
   {
    "duration": 203,
    "start_time": "2021-09-01T22:40:43.317Z"
   },
   {
    "duration": 194,
    "start_time": "2021-09-01T22:41:43.136Z"
   },
   {
    "duration": 109,
    "start_time": "2021-09-01T22:44:50.390Z"
   },
   {
    "duration": 105,
    "start_time": "2021-09-01T22:44:55.707Z"
   },
   {
    "duration": 561,
    "start_time": "2021-09-01T22:47:06.593Z"
   },
   {
    "duration": 790,
    "start_time": "2021-09-01T22:48:44.332Z"
   },
   {
    "duration": 642,
    "start_time": "2021-09-01T22:49:27.050Z"
   },
   {
    "duration": 332,
    "start_time": "2021-09-01T23:00:39.741Z"
   },
   {
    "duration": 197,
    "start_time": "2021-09-01T23:01:04.713Z"
   },
   {
    "duration": 712,
    "start_time": "2021-09-01T23:12:13.887Z"
   },
   {
    "duration": 830,
    "start_time": "2021-09-01T23:12:23.908Z"
   },
   {
    "duration": 949,
    "start_time": "2021-09-01T23:12:55.942Z"
   },
   {
    "duration": 819,
    "start_time": "2021-09-01T23:13:51.738Z"
   },
   {
    "duration": 824,
    "start_time": "2021-09-01T23:15:11.420Z"
   },
   {
    "duration": 944,
    "start_time": "2021-09-01T23:16:02.126Z"
   },
   {
    "duration": 641,
    "start_time": "2021-09-01T23:16:37.337Z"
   },
   {
    "duration": 49,
    "start_time": "2021-09-01T23:18:02.959Z"
   },
   {
    "duration": 53,
    "start_time": "2021-09-01T23:20:32.815Z"
   },
   {
    "duration": 49,
    "start_time": "2021-09-01T23:20:55.384Z"
   },
   {
    "duration": 619,
    "start_time": "2021-09-01T23:25:19.543Z"
   },
   {
    "duration": 624,
    "start_time": "2021-09-01T23:27:00.970Z"
   },
   {
    "duration": 652,
    "start_time": "2021-09-01T23:30:46.841Z"
   },
   {
    "duration": 896,
    "start_time": "2021-09-01T23:32:40.491Z"
   },
   {
    "duration": 728,
    "start_time": "2021-09-01T23:32:59.871Z"
   },
   {
    "duration": 714,
    "start_time": "2021-09-01T23:35:14.768Z"
   },
   {
    "duration": 18,
    "start_time": "2021-09-02T00:09:18.624Z"
   },
   {
    "duration": 6,
    "start_time": "2021-09-02T00:10:25.031Z"
   },
   {
    "duration": 308,
    "start_time": "2021-09-02T00:10:59.556Z"
   },
   {
    "duration": 5,
    "start_time": "2021-09-02T00:11:18.182Z"
   },
   {
    "duration": 284,
    "start_time": "2021-09-02T06:22:33.901Z"
   },
   {
    "duration": 895,
    "start_time": "2021-09-02T06:23:32.147Z"
   },
   {
    "duration": 514,
    "start_time": "2021-09-02T06:23:33.045Z"
   },
   {
    "duration": 27,
    "start_time": "2021-09-02T06:23:33.562Z"
   },
   {
    "duration": 143,
    "start_time": "2021-09-02T06:23:33.592Z"
   },
   {
    "duration": 11,
    "start_time": "2021-09-02T06:23:33.738Z"
   },
   {
    "duration": 40,
    "start_time": "2021-09-02T06:23:33.751Z"
   },
   {
    "duration": 122,
    "start_time": "2021-09-02T06:23:33.793Z"
   },
   {
    "duration": 11,
    "start_time": "2021-09-02T06:23:33.921Z"
   },
   {
    "duration": 50,
    "start_time": "2021-09-02T06:23:33.936Z"
   },
   {
    "duration": 63,
    "start_time": "2021-09-02T06:23:33.989Z"
   },
   {
    "duration": 38,
    "start_time": "2021-09-02T06:23:34.055Z"
   },
   {
    "duration": 11,
    "start_time": "2021-09-02T06:23:34.096Z"
   },
   {
    "duration": 10,
    "start_time": "2021-09-02T06:23:34.110Z"
   },
   {
    "duration": 61,
    "start_time": "2021-09-02T06:23:34.123Z"
   },
   {
    "duration": 14,
    "start_time": "2021-09-02T06:23:34.187Z"
   },
   {
    "duration": 124,
    "start_time": "2021-09-02T06:23:34.204Z"
   },
   {
    "duration": 251,
    "start_time": "2021-09-02T06:23:34.331Z"
   },
   {
    "duration": 30,
    "start_time": "2021-09-02T06:23:34.584Z"
   },
   {
    "duration": 198,
    "start_time": "2021-09-02T06:23:34.616Z"
   },
   {
    "duration": 14,
    "start_time": "2021-09-02T06:23:34.816Z"
   },
   {
    "duration": 54,
    "start_time": "2021-09-02T06:23:34.833Z"
   },
   {
    "duration": 26,
    "start_time": "2021-09-02T06:23:34.889Z"
   },
   {
    "duration": 14,
    "start_time": "2021-09-02T06:23:34.921Z"
   },
   {
    "duration": 87,
    "start_time": "2021-09-02T06:23:34.938Z"
   },
   {
    "duration": 111,
    "start_time": "2021-09-02T06:23:35.028Z"
   },
   {
    "duration": 101,
    "start_time": "2021-09-02T06:23:35.142Z"
   },
   {
    "duration": 41,
    "start_time": "2021-09-02T06:23:35.245Z"
   },
   {
    "duration": 814,
    "start_time": "2021-09-02T06:23:35.288Z"
   },
   {
    "duration": 340,
    "start_time": "2021-09-02T06:23:36.105Z"
   },
   {
    "duration": 405,
    "start_time": "2021-09-02T06:23:36.448Z"
   },
   {
    "duration": 336,
    "start_time": "2021-09-02T06:23:36.856Z"
   },
   {
    "duration": 1119,
    "start_time": "2021-09-02T06:23:37.195Z"
   },
   {
    "duration": 447,
    "start_time": "2021-09-02T06:23:38.316Z"
   },
   {
    "duration": 1220,
    "start_time": "2021-09-02T06:23:38.766Z"
   },
   {
    "duration": 8,
    "start_time": "2021-09-02T06:23:39.989Z"
   },
   {
    "duration": 16,
    "start_time": "2021-09-02T06:23:39.999Z"
   },
   {
    "duration": 366,
    "start_time": "2021-09-02T06:26:08.657Z"
   },
   {
    "duration": 344,
    "start_time": "2021-09-02T06:27:21.153Z"
   },
   {
    "duration": 371,
    "start_time": "2021-09-02T06:29:11.911Z"
   },
   {
    "duration": 411,
    "start_time": "2021-09-02T06:29:20.089Z"
   },
   {
    "duration": 4,
    "start_time": "2021-09-02T06:35:07.607Z"
   },
   {
    "duration": 6,
    "start_time": "2021-09-02T06:35:27.983Z"
   },
   {
    "duration": 96,
    "start_time": "2021-09-02T06:42:37.524Z"
   },
   {
    "duration": 1275,
    "start_time": "2021-09-02T06:42:48.934Z"
   },
   {
    "duration": 1099,
    "start_time": "2021-09-02T06:43:12.722Z"
   },
   {
    "duration": 1081,
    "start_time": "2021-09-02T06:43:21.330Z"
   },
   {
    "duration": 7659,
    "start_time": "2021-09-02T06:45:16.177Z"
   },
   {
    "duration": 8025,
    "start_time": "2021-09-02T06:46:48.914Z"
   },
   {
    "duration": 871,
    "start_time": "2021-09-02T06:47:04.965Z"
   },
   {
    "duration": 537,
    "start_time": "2021-09-02T06:47:05.838Z"
   },
   {
    "duration": 28,
    "start_time": "2021-09-02T06:47:06.378Z"
   },
   {
    "duration": 161,
    "start_time": "2021-09-02T06:47:06.409Z"
   },
   {
    "duration": 12,
    "start_time": "2021-09-02T06:47:06.583Z"
   },
   {
    "duration": 26,
    "start_time": "2021-09-02T06:47:06.597Z"
   },
   {
    "duration": 105,
    "start_time": "2021-09-02T06:47:06.625Z"
   },
   {
    "duration": 10,
    "start_time": "2021-09-02T06:47:06.734Z"
   },
   {
    "duration": 22,
    "start_time": "2021-09-02T06:47:06.747Z"
   },
   {
    "duration": 60,
    "start_time": "2021-09-02T06:47:06.771Z"
   },
   {
    "duration": 12,
    "start_time": "2021-09-02T06:47:06.834Z"
   },
   {
    "duration": 12,
    "start_time": "2021-09-02T06:47:06.849Z"
   },
   {
    "duration": 11,
    "start_time": "2021-09-02T06:47:06.864Z"
   },
   {
    "duration": 14,
    "start_time": "2021-09-02T06:47:06.881Z"
   },
   {
    "duration": 14,
    "start_time": "2021-09-02T06:47:06.897Z"
   },
   {
    "duration": 111,
    "start_time": "2021-09-02T06:47:06.913Z"
   },
   {
    "duration": 260,
    "start_time": "2021-09-02T06:47:07.026Z"
   },
   {
    "duration": 32,
    "start_time": "2021-09-02T06:47:07.288Z"
   },
   {
    "duration": 329,
    "start_time": "2021-09-02T06:47:07.322Z"
   },
   {
    "duration": 21,
    "start_time": "2021-09-02T06:47:07.683Z"
   },
   {
    "duration": 88,
    "start_time": "2021-09-02T06:47:07.707Z"
   },
   {
    "duration": 39,
    "start_time": "2021-09-02T06:47:07.798Z"
   },
   {
    "duration": 51,
    "start_time": "2021-09-02T06:47:07.844Z"
   },
   {
    "duration": 192,
    "start_time": "2021-09-02T06:47:07.898Z"
   },
   {
    "duration": 172,
    "start_time": "2021-09-02T06:47:08.093Z"
   },
   {
    "duration": 152,
    "start_time": "2021-09-02T06:47:08.268Z"
   },
   {
    "duration": 42,
    "start_time": "2021-09-02T06:47:08.423Z"
   },
   {
    "duration": 901,
    "start_time": "2021-09-02T06:47:08.483Z"
   },
   {
    "duration": 386,
    "start_time": "2021-09-02T06:47:09.387Z"
   },
   {
    "duration": 576,
    "start_time": "2021-09-02T06:47:09.783Z"
   },
   {
    "duration": 329,
    "start_time": "2021-09-02T06:47:10.362Z"
   },
   {
    "duration": 355,
    "start_time": "2021-09-02T06:47:10.693Z"
   },
   {
    "duration": 325,
    "start_time": "2021-09-02T06:47:11.052Z"
   },
   {
    "duration": 1046,
    "start_time": "2021-09-02T06:47:11.379Z"
   },
   {
    "duration": 581,
    "start_time": "2021-09-02T06:47:12.428Z"
   },
   {
    "duration": 6936,
    "start_time": "2021-09-02T06:47:13.012Z"
   },
   {
    "duration": 9,
    "start_time": "2021-09-02T06:47:19.950Z"
   },
   {
    "duration": 26,
    "start_time": "2021-09-02T06:47:19.961Z"
   },
   {
    "duration": 7,
    "start_time": "2021-09-02T06:47:19.990Z"
   },
   {
    "duration": 1436,
    "start_time": "2021-09-02T19:47:09.812Z"
   },
   {
    "duration": 594,
    "start_time": "2021-09-02T19:47:11.251Z"
   },
   {
    "duration": 32,
    "start_time": "2021-09-02T19:47:11.849Z"
   },
   {
    "duration": 157,
    "start_time": "2021-09-02T19:47:11.883Z"
   },
   {
    "duration": 23,
    "start_time": "2021-09-02T19:47:12.043Z"
   },
   {
    "duration": 28,
    "start_time": "2021-09-02T19:47:12.069Z"
   },
   {
    "duration": 126,
    "start_time": "2021-09-02T19:47:12.100Z"
   },
   {
    "duration": 11,
    "start_time": "2021-09-02T19:47:12.229Z"
   },
   {
    "duration": 37,
    "start_time": "2021-09-02T19:47:12.244Z"
   },
   {
    "duration": 65,
    "start_time": "2021-09-02T19:47:12.283Z"
   },
   {
    "duration": 26,
    "start_time": "2021-09-02T19:47:12.351Z"
   },
   {
    "duration": 14,
    "start_time": "2021-09-02T19:47:12.380Z"
   },
   {
    "duration": 12,
    "start_time": "2021-09-02T19:47:12.397Z"
   },
   {
    "duration": 20,
    "start_time": "2021-09-02T19:47:12.412Z"
   },
   {
    "duration": 40,
    "start_time": "2021-09-02T19:47:12.435Z"
   },
   {
    "duration": 130,
    "start_time": "2021-09-02T19:47:12.477Z"
   },
   {
    "duration": 280,
    "start_time": "2021-09-02T19:47:12.609Z"
   },
   {
    "duration": 33,
    "start_time": "2021-09-02T19:47:12.891Z"
   },
   {
    "duration": 184,
    "start_time": "2021-09-02T19:47:12.926Z"
   },
   {
    "duration": 16,
    "start_time": "2021-09-02T19:47:13.112Z"
   },
   {
    "duration": 63,
    "start_time": "2021-09-02T19:47:13.130Z"
   },
   {
    "duration": 28,
    "start_time": "2021-09-02T19:47:13.195Z"
   },
   {
    "duration": 41,
    "start_time": "2021-09-02T19:47:13.230Z"
   },
   {
    "duration": 63,
    "start_time": "2021-09-02T19:47:13.275Z"
   },
   {
    "duration": 117,
    "start_time": "2021-09-02T19:47:13.341Z"
   },
   {
    "duration": 110,
    "start_time": "2021-09-02T19:47:13.466Z"
   },
   {
    "duration": 31,
    "start_time": "2021-09-02T19:47:13.578Z"
   },
   {
    "duration": 11,
    "start_time": "2021-09-02T19:48:10.179Z"
   },
   {
    "duration": 561,
    "start_time": "2021-09-02T19:48:10.192Z"
   },
   {
    "duration": 29,
    "start_time": "2021-09-02T19:48:10.757Z"
   },
   {
    "duration": 129,
    "start_time": "2021-09-02T19:48:10.789Z"
   },
   {
    "duration": 13,
    "start_time": "2021-09-02T19:48:10.921Z"
   },
   {
    "duration": 48,
    "start_time": "2021-09-02T19:48:10.937Z"
   },
   {
    "duration": 110,
    "start_time": "2021-09-02T19:48:10.988Z"
   },
   {
    "duration": 11,
    "start_time": "2021-09-02T19:48:11.103Z"
   },
   {
    "duration": 49,
    "start_time": "2021-09-02T19:48:11.118Z"
   },
   {
    "duration": 56,
    "start_time": "2021-09-02T19:48:11.169Z"
   },
   {
    "duration": 13,
    "start_time": "2021-09-02T19:48:11.228Z"
   },
   {
    "duration": 9,
    "start_time": "2021-09-02T19:48:11.268Z"
   },
   {
    "duration": 9,
    "start_time": "2021-09-02T19:48:11.280Z"
   },
   {
    "duration": 16,
    "start_time": "2021-09-02T19:48:11.292Z"
   },
   {
    "duration": 12,
    "start_time": "2021-09-02T19:48:11.311Z"
   },
   {
    "duration": 154,
    "start_time": "2021-09-02T19:48:11.325Z"
   },
   {
    "duration": 262,
    "start_time": "2021-09-02T19:48:11.482Z"
   },
   {
    "duration": 43,
    "start_time": "2021-09-02T19:48:11.746Z"
   },
   {
    "duration": 226,
    "start_time": "2021-09-02T19:48:11.791Z"
   },
   {
    "duration": 14,
    "start_time": "2021-09-02T19:48:12.020Z"
   },
   {
    "duration": 60,
    "start_time": "2021-09-02T19:48:12.037Z"
   },
   {
    "duration": 28,
    "start_time": "2021-09-02T19:48:12.099Z"
   },
   {
    "duration": 37,
    "start_time": "2021-09-02T19:48:12.131Z"
   },
   {
    "duration": 56,
    "start_time": "2021-09-02T19:48:12.171Z"
   },
   {
    "duration": 124,
    "start_time": "2021-09-02T19:48:12.230Z"
   },
   {
    "duration": 112,
    "start_time": "2021-09-02T19:48:12.357Z"
   },
   {
    "duration": 31,
    "start_time": "2021-09-02T19:48:12.472Z"
   },
   {
    "duration": 245,
    "start_time": "2021-09-02T19:48:17.370Z"
   },
   {
    "duration": 226,
    "start_time": "2021-09-02T19:48:39.778Z"
   },
   {
    "duration": 256,
    "start_time": "2021-09-02T19:50:28.844Z"
   },
   {
    "duration": 218,
    "start_time": "2021-09-02T19:50:58.262Z"
   },
   {
    "duration": 5,
    "start_time": "2021-09-02T19:52:44.681Z"
   },
   {
    "duration": 578,
    "start_time": "2021-09-02T19:52:44.690Z"
   },
   {
    "duration": 30,
    "start_time": "2021-09-02T19:52:45.271Z"
   },
   {
    "duration": 152,
    "start_time": "2021-09-02T19:52:45.305Z"
   },
   {
    "duration": 21,
    "start_time": "2021-09-02T19:52:45.459Z"
   },
   {
    "duration": 25,
    "start_time": "2021-09-02T19:52:45.490Z"
   },
   {
    "duration": 137,
    "start_time": "2021-09-02T19:52:45.519Z"
   },
   {
    "duration": 15,
    "start_time": "2021-09-02T19:52:45.659Z"
   },
   {
    "duration": 22,
    "start_time": "2021-09-02T19:52:45.677Z"
   },
   {
    "duration": 89,
    "start_time": "2021-09-02T19:52:45.702Z"
   },
   {
    "duration": 12,
    "start_time": "2021-09-02T19:52:45.793Z"
   },
   {
    "duration": 11,
    "start_time": "2021-09-02T19:52:45.807Z"
   },
   {
    "duration": 11,
    "start_time": "2021-09-02T19:52:45.820Z"
   },
   {
    "duration": 50,
    "start_time": "2021-09-02T19:52:45.833Z"
   },
   {
    "duration": 13,
    "start_time": "2021-09-02T19:52:45.885Z"
   },
   {
    "duration": 136,
    "start_time": "2021-09-02T19:52:45.901Z"
   },
   {
    "duration": 289,
    "start_time": "2021-09-02T19:52:46.039Z"
   },
   {
    "duration": 56,
    "start_time": "2021-09-02T19:52:46.330Z"
   },
   {
    "duration": 158,
    "start_time": "2021-09-02T19:52:46.390Z"
   },
   {
    "duration": 31,
    "start_time": "2021-09-02T19:52:46.551Z"
   },
   {
    "duration": 49,
    "start_time": "2021-09-02T19:52:46.585Z"
   },
   {
    "duration": 71,
    "start_time": "2021-09-02T19:52:46.637Z"
   },
   {
    "duration": 19,
    "start_time": "2021-09-02T19:52:46.711Z"
   },
   {
    "duration": 97,
    "start_time": "2021-09-02T19:52:46.733Z"
   },
   {
    "duration": 125,
    "start_time": "2021-09-02T19:52:46.833Z"
   },
   {
    "duration": 117,
    "start_time": "2021-09-02T19:52:46.960Z"
   },
   {
    "duration": 31,
    "start_time": "2021-09-02T19:52:47.079Z"
   },
   {
    "duration": 1429,
    "start_time": "2021-09-02T19:57:37.201Z"
   },
   {
    "duration": 672,
    "start_time": "2021-09-02T19:58:55.268Z"
   },
   {
    "duration": 633,
    "start_time": "2021-09-02T19:59:28.744Z"
   },
   {
    "duration": 774,
    "start_time": "2021-09-02T19:59:51.638Z"
   },
   {
    "duration": 702,
    "start_time": "2021-09-02T20:01:54.669Z"
   },
   {
    "duration": 6,
    "start_time": "2021-09-02T20:03:26.215Z"
   },
   {
    "duration": 581,
    "start_time": "2021-09-02T20:03:26.226Z"
   },
   {
    "duration": 29,
    "start_time": "2021-09-02T20:03:26.810Z"
   },
   {
    "duration": 150,
    "start_time": "2021-09-02T20:03:26.843Z"
   },
   {
    "duration": 13,
    "start_time": "2021-09-02T20:03:26.997Z"
   },
   {
    "duration": 26,
    "start_time": "2021-09-02T20:03:27.013Z"
   },
   {
    "duration": 143,
    "start_time": "2021-09-02T20:03:27.042Z"
   },
   {
    "duration": 10,
    "start_time": "2021-09-02T20:03:27.188Z"
   },
   {
    "duration": 22,
    "start_time": "2021-09-02T20:03:27.201Z"
   },
   {
    "duration": 91,
    "start_time": "2021-09-02T20:03:27.226Z"
   },
   {
    "duration": 13,
    "start_time": "2021-09-02T20:03:27.319Z"
   },
   {
    "duration": 10,
    "start_time": "2021-09-02T20:03:27.334Z"
   },
   {
    "duration": 10,
    "start_time": "2021-09-02T20:03:27.368Z"
   },
   {
    "duration": 28,
    "start_time": "2021-09-02T20:03:27.381Z"
   },
   {
    "duration": 14,
    "start_time": "2021-09-02T20:03:27.412Z"
   },
   {
    "duration": 183,
    "start_time": "2021-09-02T20:03:27.429Z"
   },
   {
    "duration": 289,
    "start_time": "2021-09-02T20:03:27.615Z"
   },
   {
    "duration": 31,
    "start_time": "2021-09-02T20:03:27.907Z"
   },
   {
    "duration": 181,
    "start_time": "2021-09-02T20:03:27.940Z"
   },
   {
    "duration": 17,
    "start_time": "2021-09-02T20:03:28.124Z"
   },
   {
    "duration": 60,
    "start_time": "2021-09-02T20:03:28.144Z"
   },
   {
    "duration": 28,
    "start_time": "2021-09-02T20:03:28.207Z"
   },
   {
    "duration": 39,
    "start_time": "2021-09-02T20:03:28.237Z"
   },
   {
    "duration": 58,
    "start_time": "2021-09-02T20:03:28.282Z"
   },
   {
    "duration": 153,
    "start_time": "2021-09-02T20:03:28.342Z"
   },
   {
    "duration": 117,
    "start_time": "2021-09-02T20:03:28.497Z"
   },
   {
    "duration": 32,
    "start_time": "2021-09-02T20:03:28.617Z"
   },
   {
    "duration": 686,
    "start_time": "2021-09-02T20:03:31.963Z"
   },
   {
    "duration": 702,
    "start_time": "2021-09-02T20:08:29.073Z"
   },
   {
    "duration": 694,
    "start_time": "2021-09-02T20:17:00.268Z"
   },
   {
    "duration": 713,
    "start_time": "2021-09-02T20:17:14.122Z"
   },
   {
    "duration": 772,
    "start_time": "2021-09-02T20:17:38.519Z"
   },
   {
    "duration": 1095,
    "start_time": "2021-09-02T20:17:55.800Z"
   },
   {
    "duration": 693,
    "start_time": "2021-09-02T20:19:25.805Z"
   },
   {
    "duration": 658,
    "start_time": "2021-09-02T20:19:53.845Z"
   },
   {
    "duration": 661,
    "start_time": "2021-09-02T20:42:03.355Z"
   },
   {
    "duration": 643,
    "start_time": "2021-09-02T20:42:37.019Z"
   },
   {
    "duration": 747,
    "start_time": "2021-09-02T20:45:04.482Z"
   },
   {
    "duration": 740,
    "start_time": "2021-09-02T20:45:31.282Z"
   },
   {
    "duration": 62,
    "start_time": "2021-09-02T20:48:51.788Z"
   },
   {
    "duration": 10,
    "start_time": "2021-09-02T20:49:51.648Z"
   },
   {
    "duration": 98,
    "start_time": "2021-09-02T20:50:09.686Z"
   },
   {
    "duration": 11,
    "start_time": "2021-09-02T20:50:37.200Z"
   },
   {
    "duration": 14,
    "start_time": "2021-09-02T21:03:53.200Z"
   },
   {
    "duration": 17940,
    "start_time": "2021-09-02T21:18:16.968Z"
   },
   {
    "duration": 18542,
    "start_time": "2021-09-02T21:18:53.854Z"
   },
   {
    "duration": 18273,
    "start_time": "2021-09-02T21:20:13.824Z"
   },
   {
    "duration": 33230,
    "start_time": "2021-09-02T21:29:37.722Z"
   },
   {
    "duration": 34652,
    "start_time": "2021-09-02T21:30:47.365Z"
   },
   {
    "duration": 68407,
    "start_time": "2021-09-02T21:31:33.312Z"
   },
   {
    "duration": 10,
    "start_time": "2021-09-02T21:35:21.777Z"
   },
   {
    "duration": 224,
    "start_time": "2021-09-02T21:35:42.560Z"
   },
   {
    "duration": 6,
    "start_time": "2021-09-02T21:35:47.894Z"
   },
   {
    "duration": 20,
    "start_time": "2021-09-02T21:39:12.206Z"
   },
   {
    "duration": 27,
    "start_time": "2021-09-02T21:40:26.289Z"
   },
   {
    "duration": 27,
    "start_time": "2021-09-02T21:41:29.153Z"
   },
   {
    "duration": 22,
    "start_time": "2021-09-02T21:43:26.534Z"
   },
   {
    "duration": 2046,
    "start_time": "2021-09-02T21:44:11.583Z"
   },
   {
    "duration": 2197,
    "start_time": "2021-09-02T21:44:39.427Z"
   },
   {
    "duration": 2870,
    "start_time": "2021-09-02T21:44:56.830Z"
   },
   {
    "duration": 2182,
    "start_time": "2021-09-02T21:46:05.029Z"
   },
   {
    "duration": 2050,
    "start_time": "2021-09-02T21:49:50.885Z"
   },
   {
    "duration": 716,
    "start_time": "2021-09-02T21:50:45.671Z"
   },
   {
    "duration": 835,
    "start_time": "2021-09-02T21:51:08.397Z"
   },
   {
    "duration": 747,
    "start_time": "2021-09-02T21:56:31.490Z"
   },
   {
    "duration": 7511,
    "start_time": "2021-09-03T01:29:54.262Z"
   },
   {
    "duration": 1394,
    "start_time": "2021-09-03T01:30:30.133Z"
   },
   {
    "duration": 1062,
    "start_time": "2021-09-03T01:30:55.453Z"
   },
   {
    "duration": 1169,
    "start_time": "2021-09-03T01:31:04.824Z"
   },
   {
    "duration": 971,
    "start_time": "2021-09-03T01:31:23.156Z"
   },
   {
    "duration": 695,
    "start_time": "2021-09-03T01:33:43.977Z"
   },
   {
    "duration": 784,
    "start_time": "2021-09-03T01:34:35.920Z"
   },
   {
    "duration": 797,
    "start_time": "2021-09-03T01:35:05.696Z"
   },
   {
    "duration": 9,
    "start_time": "2021-09-03T01:36:40.080Z"
   },
   {
    "duration": 829,
    "start_time": "2021-09-03T01:39:36.366Z"
   },
   {
    "duration": 1278,
    "start_time": "2021-09-03T01:46:11.309Z"
   },
   {
    "duration": 1034,
    "start_time": "2021-09-03T01:46:29.467Z"
   },
   {
    "duration": 276,
    "start_time": "2021-09-03T16:24:32.437Z"
   },
   {
    "duration": 1469,
    "start_time": "2021-09-03T16:24:42.550Z"
   },
   {
    "duration": 513,
    "start_time": "2021-09-03T16:24:44.022Z"
   },
   {
    "duration": 29,
    "start_time": "2021-09-03T16:24:44.539Z"
   },
   {
    "duration": 161,
    "start_time": "2021-09-03T16:24:44.571Z"
   },
   {
    "duration": 12,
    "start_time": "2021-09-03T16:24:44.734Z"
   },
   {
    "duration": 22,
    "start_time": "2021-09-03T16:24:44.762Z"
   },
   {
    "duration": 127,
    "start_time": "2021-09-03T16:24:44.786Z"
   },
   {
    "duration": 10,
    "start_time": "2021-09-03T16:24:44.916Z"
   },
   {
    "duration": 35,
    "start_time": "2021-09-03T16:24:44.928Z"
   },
   {
    "duration": 69,
    "start_time": "2021-09-03T16:24:44.966Z"
   },
   {
    "duration": 52,
    "start_time": "2021-09-03T16:24:45.037Z"
   },
   {
    "duration": 21,
    "start_time": "2021-09-03T16:24:45.092Z"
   },
   {
    "duration": 19,
    "start_time": "2021-09-03T16:24:45.116Z"
   },
   {
    "duration": 10,
    "start_time": "2021-09-03T16:24:45.137Z"
   },
   {
    "duration": 8,
    "start_time": "2021-09-03T16:24:52.948Z"
   },
   {
    "duration": 7,
    "start_time": "2021-09-03T16:25:04.360Z"
   },
   {
    "duration": 8,
    "start_time": "2021-09-03T16:26:44.863Z"
   },
   {
    "duration": 122,
    "start_time": "2021-09-03T16:37:34.995Z"
   },
   {
    "duration": 341,
    "start_time": "2021-09-03T16:39:37.653Z"
   },
   {
    "duration": 271,
    "start_time": "2021-09-03T16:39:56.675Z"
   },
   {
    "duration": 84,
    "start_time": "2021-09-03T16:40:12.951Z"
   },
   {
    "duration": 238,
    "start_time": "2021-09-03T16:40:23.199Z"
   },
   {
    "duration": 277,
    "start_time": "2021-09-03T16:42:06.301Z"
   },
   {
    "duration": 261,
    "start_time": "2021-09-03T16:42:19.799Z"
   },
   {
    "duration": 318,
    "start_time": "2021-09-03T16:42:52.821Z"
   },
   {
    "duration": 288,
    "start_time": "2021-09-03T16:43:10.612Z"
   },
   {
    "duration": 251,
    "start_time": "2021-09-03T16:44:26.241Z"
   },
   {
    "duration": 7,
    "start_time": "2021-09-03T16:44:33.464Z"
   },
   {
    "duration": 517,
    "start_time": "2021-09-03T16:44:33.474Z"
   },
   {
    "duration": 32,
    "start_time": "2021-09-03T16:44:33.995Z"
   },
   {
    "duration": 162,
    "start_time": "2021-09-03T16:44:34.030Z"
   },
   {
    "duration": 295,
    "start_time": "2021-09-03T16:44:38.943Z"
   },
   {
    "duration": 273,
    "start_time": "2021-09-03T16:44:53.266Z"
   },
   {
    "duration": 6,
    "start_time": "2021-09-03T16:45:23.648Z"
   },
   {
    "duration": 550,
    "start_time": "2021-09-03T16:45:23.657Z"
   },
   {
    "duration": 26,
    "start_time": "2021-09-03T16:45:24.210Z"
   },
   {
    "duration": 141,
    "start_time": "2021-09-03T16:45:24.238Z"
   },
   {
    "duration": 276,
    "start_time": "2021-09-03T16:45:27.120Z"
   },
   {
    "duration": 314,
    "start_time": "2021-09-03T16:49:46.064Z"
   },
   {
    "duration": 12,
    "start_time": "2021-09-03T16:51:09.012Z"
   },
   {
    "duration": 22,
    "start_time": "2021-09-03T16:51:22.644Z"
   },
   {
    "duration": 18,
    "start_time": "2021-09-03T16:52:06.237Z"
   },
   {
    "duration": 22,
    "start_time": "2021-09-03T16:52:21.496Z"
   },
   {
    "duration": 379,
    "start_time": "2021-09-03T16:52:40.789Z"
   },
   {
    "duration": 23,
    "start_time": "2021-09-03T16:52:51.051Z"
   },
   {
    "duration": 90,
    "start_time": "2021-09-03T17:11:21.255Z"
   },
   {
    "duration": 234,
    "start_time": "2021-09-03T17:21:32.299Z"
   },
   {
    "duration": 7,
    "start_time": "2021-09-03T17:21:37.989Z"
   },
   {
    "duration": 552,
    "start_time": "2021-09-03T17:21:37.999Z"
   },
   {
    "duration": 26,
    "start_time": "2021-09-03T17:21:38.554Z"
   },
   {
    "duration": 152,
    "start_time": "2021-09-03T17:21:38.583Z"
   },
   {
    "duration": 32,
    "start_time": "2021-09-03T17:21:38.737Z"
   },
   {
    "duration": 237,
    "start_time": "2021-09-03T17:21:38.771Z"
   },
   {
    "duration": -232,
    "start_time": "2021-09-03T17:21:39.243Z"
   },
   {
    "duration": -240,
    "start_time": "2021-09-03T17:21:39.252Z"
   },
   {
    "duration": -246,
    "start_time": "2021-09-03T17:21:39.260Z"
   },
   {
    "duration": -257,
    "start_time": "2021-09-03T17:21:39.272Z"
   },
   {
    "duration": -261,
    "start_time": "2021-09-03T17:21:39.278Z"
   },
   {
    "duration": -265,
    "start_time": "2021-09-03T17:21:39.283Z"
   },
   {
    "duration": -269,
    "start_time": "2021-09-03T17:21:39.288Z"
   },
   {
    "duration": -273,
    "start_time": "2021-09-03T17:21:39.294Z"
   },
   {
    "duration": -277,
    "start_time": "2021-09-03T17:21:39.299Z"
   },
   {
    "duration": -436,
    "start_time": "2021-09-03T17:21:39.460Z"
   },
   {
    "duration": -448,
    "start_time": "2021-09-03T17:21:39.473Z"
   },
   {
    "duration": -450,
    "start_time": "2021-09-03T17:21:39.477Z"
   },
   {
    "duration": -456,
    "start_time": "2021-09-03T17:21:39.484Z"
   },
   {
    "duration": -460,
    "start_time": "2021-09-03T17:21:39.490Z"
   },
   {
    "duration": 742,
    "start_time": "2021-09-03T17:21:52.827Z"
   },
   {
    "duration": 284,
    "start_time": "2021-09-03T17:21:56.755Z"
   },
   {
    "duration": 289,
    "start_time": "2021-09-03T17:23:35.142Z"
   },
   {
    "duration": 1437,
    "start_time": "2021-09-03T17:23:47.196Z"
   },
   {
    "duration": 537,
    "start_time": "2021-09-03T17:23:48.635Z"
   },
   {
    "duration": 28,
    "start_time": "2021-09-03T17:23:49.176Z"
   },
   {
    "duration": 156,
    "start_time": "2021-09-03T17:23:49.207Z"
   },
   {
    "duration": 28,
    "start_time": "2021-09-03T17:23:49.365Z"
   },
   {
    "duration": 389,
    "start_time": "2021-09-03T17:23:49.395Z"
   },
   {
    "duration": -261,
    "start_time": "2021-09-03T17:23:50.050Z"
   },
   {
    "duration": -264,
    "start_time": "2021-09-03T17:23:50.054Z"
   },
   {
    "duration": -266,
    "start_time": "2021-09-03T17:23:50.058Z"
   },
   {
    "duration": -271,
    "start_time": "2021-09-03T17:23:50.064Z"
   },
   {
    "duration": -274,
    "start_time": "2021-09-03T17:23:50.068Z"
   },
   {
    "duration": -277,
    "start_time": "2021-09-03T17:23:50.073Z"
   },
   {
    "duration": -282,
    "start_time": "2021-09-03T17:23:50.079Z"
   },
   {
    "duration": -285,
    "start_time": "2021-09-03T17:23:50.083Z"
   },
   {
    "duration": -287,
    "start_time": "2021-09-03T17:23:50.087Z"
   },
   {
    "duration": -290,
    "start_time": "2021-09-03T17:23:50.091Z"
   },
   {
    "duration": -295,
    "start_time": "2021-09-03T17:23:50.097Z"
   },
   {
    "duration": -297,
    "start_time": "2021-09-03T17:23:50.100Z"
   },
   {
    "duration": -300,
    "start_time": "2021-09-03T17:23:50.105Z"
   },
   {
    "duration": -303,
    "start_time": "2021-09-03T17:23:50.109Z"
   },
   {
    "duration": -514,
    "start_time": "2021-09-03T17:23:50.322Z"
   },
   {
    "duration": -528,
    "start_time": "2021-09-03T17:23:50.337Z"
   },
   {
    "duration": -533,
    "start_time": "2021-09-03T17:23:50.343Z"
   },
   {
    "duration": -536,
    "start_time": "2021-09-03T17:23:50.347Z"
   },
   {
    "duration": -537,
    "start_time": "2021-09-03T17:23:50.350Z"
   },
   {
    "duration": -539,
    "start_time": "2021-09-03T17:23:50.353Z"
   },
   {
    "duration": -537,
    "start_time": "2021-09-03T17:23:50.354Z"
   },
   {
    "duration": -538,
    "start_time": "2021-09-03T17:23:50.356Z"
   },
   {
    "duration": -539,
    "start_time": "2021-09-03T17:23:50.358Z"
   },
   {
    "duration": -541,
    "start_time": "2021-09-03T17:23:50.361Z"
   },
   {
    "duration": -543,
    "start_time": "2021-09-03T17:23:50.365Z"
   },
   {
    "duration": -546,
    "start_time": "2021-09-03T17:23:50.369Z"
   },
   {
    "duration": -550,
    "start_time": "2021-09-03T17:23:50.374Z"
   },
   {
    "duration": -517,
    "start_time": "2021-09-03T17:23:50.379Z"
   },
   {
    "duration": -521,
    "start_time": "2021-09-03T17:23:50.384Z"
   },
   {
    "duration": -523,
    "start_time": "2021-09-03T17:23:50.388Z"
   },
   {
    "duration": -525,
    "start_time": "2021-09-03T17:23:50.392Z"
   },
   {
    "duration": -528,
    "start_time": "2021-09-03T17:23:50.396Z"
   },
   {
    "duration": -529,
    "start_time": "2021-09-03T17:23:50.399Z"
   },
   {
    "duration": -530,
    "start_time": "2021-09-03T17:23:50.401Z"
   },
   {
    "duration": -530,
    "start_time": "2021-09-03T17:23:50.403Z"
   },
   {
    "duration": -532,
    "start_time": "2021-09-03T17:23:50.406Z"
   },
   {
    "duration": 274,
    "start_time": "2021-09-03T17:27:40.218Z"
   },
   {
    "duration": 275,
    "start_time": "2021-09-03T17:27:53.991Z"
   },
   {
    "duration": 26,
    "start_time": "2021-09-03T17:28:12.811Z"
   },
   {
    "duration": 1504,
    "start_time": "2021-09-03T17:28:27.319Z"
   },
   {
    "duration": 513,
    "start_time": "2021-09-03T17:28:28.825Z"
   },
   {
    "duration": 29,
    "start_time": "2021-09-03T17:28:29.342Z"
   },
   {
    "duration": 154,
    "start_time": "2021-09-03T17:28:29.374Z"
   },
   {
    "duration": 43,
    "start_time": "2021-09-03T17:28:29.531Z"
   },
   {
    "duration": 24,
    "start_time": "2021-09-03T17:28:29.577Z"
   },
   {
    "duration": 12,
    "start_time": "2021-09-03T17:28:29.604Z"
   },
   {
    "duration": 52,
    "start_time": "2021-09-03T17:28:29.620Z"
   },
   {
    "duration": 116,
    "start_time": "2021-09-03T17:28:29.675Z"
   },
   {
    "duration": 10,
    "start_time": "2021-09-03T17:28:29.793Z"
   },
   {
    "duration": 36,
    "start_time": "2021-09-03T17:28:29.805Z"
   },
   {
    "duration": 72,
    "start_time": "2021-09-03T17:28:29.843Z"
   },
   {
    "duration": 11,
    "start_time": "2021-09-03T17:28:29.918Z"
   },
   {
    "duration": 32,
    "start_time": "2021-09-03T17:28:29.932Z"
   },
   {
    "duration": 31,
    "start_time": "2021-09-03T17:28:29.966Z"
   },
   {
    "duration": 14,
    "start_time": "2021-09-03T17:28:30.000Z"
   },
   {
    "duration": 41,
    "start_time": "2021-09-03T17:28:30.016Z"
   },
   {
    "duration": 21,
    "start_time": "2021-09-03T17:28:30.059Z"
   },
   {
    "duration": 110,
    "start_time": "2021-09-03T17:28:30.083Z"
   },
   {
    "duration": 267,
    "start_time": "2021-09-03T17:28:30.196Z"
   },
   {
    "duration": 161,
    "start_time": "2021-09-03T17:28:30.466Z"
   },
   {
    "duration": 13,
    "start_time": "2021-09-03T17:28:30.629Z"
   },
   {
    "duration": 36,
    "start_time": "2021-09-03T17:28:30.647Z"
   },
   {
    "duration": 68,
    "start_time": "2021-09-03T17:28:30.686Z"
   },
   {
    "duration": 25,
    "start_time": "2021-09-03T17:28:30.757Z"
   },
   {
    "duration": 86,
    "start_time": "2021-09-03T17:28:30.785Z"
   },
   {
    "duration": 104,
    "start_time": "2021-09-03T17:28:30.873Z"
   },
   {
    "duration": 99,
    "start_time": "2021-09-03T17:28:30.980Z"
   },
   {
    "duration": 28,
    "start_time": "2021-09-03T17:28:31.081Z"
   },
   {
    "duration": 650,
    "start_time": "2021-09-03T17:28:31.112Z"
   },
   {
    "duration": 629,
    "start_time": "2021-09-03T17:28:31.765Z"
   },
   {
    "duration": 668,
    "start_time": "2021-09-03T17:28:32.397Z"
   },
   {
    "duration": 1200,
    "start_time": "2021-09-03T17:28:33.067Z"
   },
   {
    "duration": 12,
    "start_time": "2021-09-03T17:28:34.270Z"
   },
   {
    "duration": 551,
    "start_time": "2021-09-03T17:28:34.286Z"
   },
   {
    "duration": 974,
    "start_time": "2021-09-03T17:28:34.839Z"
   },
   {
    "duration": 355,
    "start_time": "2021-09-03T17:28:35.815Z"
   },
   {
    "duration": -350,
    "start_time": "2021-09-03T17:28:36.523Z"
   },
   {
    "duration": -359,
    "start_time": "2021-09-03T17:28:36.535Z"
   },
   {
    "duration": -362,
    "start_time": "2021-09-03T17:28:36.540Z"
   },
   {
    "duration": -366,
    "start_time": "2021-09-03T17:28:36.546Z"
   },
   {
    "duration": -367,
    "start_time": "2021-09-03T17:28:36.550Z"
   },
   {
    "duration": 91,
    "start_time": "2021-09-03T17:29:06.023Z"
   },
   {
    "duration": 32,
    "start_time": "2021-09-03T17:29:24.137Z"
   },
   {
    "duration": 33,
    "start_time": "2021-09-03T17:29:41.597Z"
   },
   {
    "duration": 31,
    "start_time": "2021-09-03T17:30:17.803Z"
   },
   {
    "duration": 6,
    "start_time": "2021-09-03T17:30:23.451Z"
   },
   {
    "duration": 513,
    "start_time": "2021-09-03T17:30:23.460Z"
   },
   {
    "duration": 27,
    "start_time": "2021-09-03T17:30:23.976Z"
   },
   {
    "duration": 147,
    "start_time": "2021-09-03T17:30:24.006Z"
   },
   {
    "duration": 25,
    "start_time": "2021-09-03T17:30:24.155Z"
   },
   {
    "duration": 25,
    "start_time": "2021-09-03T17:30:24.182Z"
   },
   {
    "duration": 28,
    "start_time": "2021-09-03T17:30:27.943Z"
   },
   {
    "duration": 6,
    "start_time": "2021-09-03T17:42:00.089Z"
   },
   {
    "duration": 531,
    "start_time": "2021-09-03T17:42:00.098Z"
   },
   {
    "duration": 26,
    "start_time": "2021-09-03T17:42:00.632Z"
   },
   {
    "duration": 121,
    "start_time": "2021-09-03T17:42:00.660Z"
   },
   {
    "duration": 23,
    "start_time": "2021-09-03T17:42:00.783Z"
   },
   {
    "duration": 27,
    "start_time": "2021-09-03T17:42:05.635Z"
   },
   {
    "duration": 109,
    "start_time": "2021-09-03T17:42:27.422Z"
   },
   {
    "duration": 42,
    "start_time": "2021-09-03T17:43:01.387Z"
   },
   {
    "duration": 85,
    "start_time": "2021-09-03T17:43:23.076Z"
   },
   {
    "duration": 28,
    "start_time": "2021-09-03T17:43:34.082Z"
   },
   {
    "duration": 22,
    "start_time": "2021-09-03T17:45:15.241Z"
   },
   {
    "duration": 26,
    "start_time": "2021-09-03T17:45:36.535Z"
   },
   {
    "duration": 27,
    "start_time": "2021-09-03T17:45:58.648Z"
   },
   {
    "duration": 50,
    "start_time": "2021-09-03T17:48:19.976Z"
   },
   {
    "duration": 54,
    "start_time": "2021-09-03T17:48:34.833Z"
   },
   {
    "duration": 42,
    "start_time": "2021-09-03T17:49:27.871Z"
   },
   {
    "duration": 48,
    "start_time": "2021-09-03T17:49:56.874Z"
   },
   {
    "duration": 38,
    "start_time": "2021-09-03T17:50:37.636Z"
   },
   {
    "duration": 48,
    "start_time": "2021-09-03T17:50:46.679Z"
   },
   {
    "duration": 26,
    "start_time": "2021-09-03T17:51:19.488Z"
   },
   {
    "duration": 25,
    "start_time": "2021-09-03T18:35:55.632Z"
   },
   {
    "duration": 103,
    "start_time": "2021-09-03T18:36:38.804Z"
   },
   {
    "duration": 240,
    "start_time": "2021-09-03T18:37:13.451Z"
   },
   {
    "duration": 37,
    "start_time": "2021-09-03T18:45:42.236Z"
   },
   {
    "duration": 16,
    "start_time": "2021-09-03T18:46:16.176Z"
   },
   {
    "duration": 11,
    "start_time": "2021-09-03T18:47:42.414Z"
   },
   {
    "duration": 11,
    "start_time": "2021-09-03T18:47:57.177Z"
   },
   {
    "duration": 9,
    "start_time": "2021-09-03T18:49:17.591Z"
   },
   {
    "duration": 54,
    "start_time": "2021-09-03T19:01:49.842Z"
   },
   {
    "duration": 294,
    "start_time": "2021-09-03T19:15:37.384Z"
   },
   {
    "duration": 96,
    "start_time": "2021-09-03T19:15:53.766Z"
   },
   {
    "duration": 1422,
    "start_time": "2021-09-03T19:16:26.810Z"
   },
   {
    "duration": 515,
    "start_time": "2021-09-03T19:16:28.234Z"
   },
   {
    "duration": 29,
    "start_time": "2021-09-03T19:16:28.753Z"
   },
   {
    "duration": 167,
    "start_time": "2021-09-03T19:16:28.785Z"
   },
   {
    "duration": 45,
    "start_time": "2021-09-03T19:16:28.963Z"
   },
   {
    "duration": 24,
    "start_time": "2021-09-03T19:16:29.011Z"
   },
   {
    "duration": 31,
    "start_time": "2021-09-03T19:16:29.037Z"
   },
   {
    "duration": 41,
    "start_time": "2021-09-03T19:16:29.070Z"
   },
   {
    "duration": 108,
    "start_time": "2021-09-03T19:16:29.115Z"
   },
   {
    "duration": 10,
    "start_time": "2021-09-03T19:16:29.226Z"
   },
   {
    "duration": 36,
    "start_time": "2021-09-03T19:16:29.238Z"
   },
   {
    "duration": 59,
    "start_time": "2021-09-03T19:16:29.277Z"
   },
   {
    "duration": 28,
    "start_time": "2021-09-03T19:16:29.339Z"
   },
   {
    "duration": 10,
    "start_time": "2021-09-03T19:16:29.369Z"
   },
   {
    "duration": 18,
    "start_time": "2021-09-03T19:16:29.381Z"
   },
   {
    "duration": 11,
    "start_time": "2021-09-03T19:16:29.401Z"
   },
   {
    "duration": 10,
    "start_time": "2021-09-03T19:16:29.414Z"
   },
   {
    "duration": 7,
    "start_time": "2021-09-03T19:16:29.463Z"
   },
   {
    "duration": 132,
    "start_time": "2021-09-03T19:16:29.472Z"
   },
   {
    "duration": 259,
    "start_time": "2021-09-03T19:16:29.606Z"
   },
   {
    "duration": 176,
    "start_time": "2021-09-03T19:16:29.869Z"
   },
   {
    "duration": 46,
    "start_time": "2021-09-03T19:16:30.048Z"
   },
   {
    "duration": 15,
    "start_time": "2021-09-03T19:16:30.097Z"
   },
   {
    "duration": 12,
    "start_time": "2021-09-03T19:16:30.115Z"
   },
   {
    "duration": 37,
    "start_time": "2021-09-03T19:16:30.129Z"
   },
   {
    "duration": 41,
    "start_time": "2021-09-03T19:16:30.169Z"
   },
   {
    "duration": 67,
    "start_time": "2021-09-03T19:16:30.215Z"
   },
   {
    "duration": 114,
    "start_time": "2021-09-03T19:16:30.285Z"
   },
   {
    "duration": 104,
    "start_time": "2021-09-03T19:16:30.402Z"
   },
   {
    "duration": 28,
    "start_time": "2021-09-03T19:16:30.509Z"
   },
   {
    "duration": 649,
    "start_time": "2021-09-03T19:16:30.539Z"
   },
   {
    "duration": 634,
    "start_time": "2021-09-03T19:16:31.191Z"
   },
   {
    "duration": 642,
    "start_time": "2021-09-03T19:16:31.828Z"
   },
   {
    "duration": 1062,
    "start_time": "2021-09-03T19:16:32.473Z"
   },
   {
    "duration": 12,
    "start_time": "2021-09-03T19:16:33.537Z"
   },
   {
    "duration": 409,
    "start_time": "2021-09-03T19:16:33.562Z"
   },
   {
    "duration": 990,
    "start_time": "2021-09-03T19:16:33.973Z"
   },
   {
    "duration": 370,
    "start_time": "2021-09-03T19:16:34.965Z"
   },
   {
    "duration": -164,
    "start_time": "2021-09-03T19:16:35.501Z"
   },
   {
    "duration": -166,
    "start_time": "2021-09-03T19:16:35.505Z"
   },
   {
    "duration": -170,
    "start_time": "2021-09-03T19:16:35.510Z"
   },
   {
    "duration": -170,
    "start_time": "2021-09-03T19:16:35.512Z"
   },
   {
    "duration": -172,
    "start_time": "2021-09-03T19:16:35.515Z"
   },
   {
    "duration": 97,
    "start_time": "2021-09-03T19:17:25.486Z"
   },
   {
    "duration": 1499,
    "start_time": "2021-09-03T19:17:59.854Z"
   },
   {
    "duration": 521,
    "start_time": "2021-09-03T19:18:01.356Z"
   },
   {
    "duration": 31,
    "start_time": "2021-09-03T19:18:01.880Z"
   },
   {
    "duration": 152,
    "start_time": "2021-09-03T19:18:01.914Z"
   },
   {
    "duration": 48,
    "start_time": "2021-09-03T19:18:02.069Z"
   },
   {
    "duration": 46,
    "start_time": "2021-09-03T19:18:02.120Z"
   },
   {
    "duration": 12,
    "start_time": "2021-09-03T19:18:02.169Z"
   },
   {
    "duration": 39,
    "start_time": "2021-09-03T19:18:02.185Z"
   },
   {
    "duration": 127,
    "start_time": "2021-09-03T19:18:02.227Z"
   },
   {
    "duration": 10,
    "start_time": "2021-09-03T19:18:02.361Z"
   },
   {
    "duration": 58,
    "start_time": "2021-09-03T19:18:02.373Z"
   },
   {
    "duration": 75,
    "start_time": "2021-09-03T19:18:02.433Z"
   },
   {
    "duration": 12,
    "start_time": "2021-09-03T19:18:02.511Z"
   },
   {
    "duration": 24,
    "start_time": "2021-09-03T19:18:02.525Z"
   },
   {
    "duration": 24,
    "start_time": "2021-09-03T19:18:02.552Z"
   },
   {
    "duration": 20,
    "start_time": "2021-09-03T19:18:02.579Z"
   },
   {
    "duration": 19,
    "start_time": "2021-09-03T19:18:02.602Z"
   },
   {
    "duration": 17,
    "start_time": "2021-09-03T19:18:02.624Z"
   },
   {
    "duration": 138,
    "start_time": "2021-09-03T19:18:02.643Z"
   },
   {
    "duration": 260,
    "start_time": "2021-09-03T19:18:02.783Z"
   },
   {
    "duration": 168,
    "start_time": "2021-09-03T19:18:03.045Z"
   },
   {
    "duration": 48,
    "start_time": "2021-09-03T19:18:03.215Z"
   },
   {
    "duration": 12,
    "start_time": "2021-09-03T19:18:03.268Z"
   },
   {
    "duration": 14,
    "start_time": "2021-09-03T19:18:03.284Z"
   },
   {
    "duration": 21,
    "start_time": "2021-09-03T19:18:03.301Z"
   },
   {
    "duration": 48,
    "start_time": "2021-09-03T19:18:03.325Z"
   },
   {
    "duration": 89,
    "start_time": "2021-09-03T19:18:03.376Z"
   },
   {
    "duration": 115,
    "start_time": "2021-09-03T19:18:03.467Z"
   },
   {
    "duration": 99,
    "start_time": "2021-09-03T19:18:03.585Z"
   },
   {
    "duration": 29,
    "start_time": "2021-09-03T19:18:03.686Z"
   },
   {
    "duration": 683,
    "start_time": "2021-09-03T19:18:03.718Z"
   },
   {
    "duration": 629,
    "start_time": "2021-09-03T19:18:04.403Z"
   },
   {
    "duration": 680,
    "start_time": "2021-09-03T19:18:05.035Z"
   },
   {
    "duration": 1105,
    "start_time": "2021-09-03T19:18:05.718Z"
   },
   {
    "duration": 13,
    "start_time": "2021-09-03T19:18:06.826Z"
   },
   {
    "duration": 439,
    "start_time": "2021-09-03T19:18:06.842Z"
   },
   {
    "duration": 1008,
    "start_time": "2021-09-03T19:18:07.284Z"
   },
   {
    "duration": 414,
    "start_time": "2021-09-03T19:18:08.295Z"
   },
   {
    "duration": -158,
    "start_time": "2021-09-03T19:18:08.871Z"
   },
   {
    "duration": -163,
    "start_time": "2021-09-03T19:18:08.878Z"
   },
   {
    "duration": -165,
    "start_time": "2021-09-03T19:18:08.881Z"
   },
   {
    "duration": -180,
    "start_time": "2021-09-03T19:18:08.897Z"
   },
   {
    "duration": -182,
    "start_time": "2021-09-03T19:18:08.901Z"
   },
   {
    "duration": 84,
    "start_time": "2021-09-03T19:19:56.165Z"
   },
   {
    "duration": 6,
    "start_time": "2021-09-03T19:20:50.159Z"
   },
   {
    "duration": 566,
    "start_time": "2021-09-03T19:20:50.168Z"
   },
   {
    "duration": 27,
    "start_time": "2021-09-03T19:20:50.738Z"
   },
   {
    "duration": 139,
    "start_time": "2021-09-03T19:20:50.768Z"
   },
   {
    "duration": 52,
    "start_time": "2021-09-03T19:20:50.910Z"
   },
   {
    "duration": 24,
    "start_time": "2021-09-03T19:20:50.965Z"
   },
   {
    "duration": 13,
    "start_time": "2021-09-03T19:20:50.992Z"
   },
   {
    "duration": 56,
    "start_time": "2021-09-03T19:20:51.009Z"
   },
   {
    "duration": 110,
    "start_time": "2021-09-03T19:20:51.068Z"
   },
   {
    "duration": 11,
    "start_time": "2021-09-03T19:20:51.181Z"
   },
   {
    "duration": 20,
    "start_time": "2021-09-03T19:20:51.195Z"
   },
   {
    "duration": 94,
    "start_time": "2021-09-03T19:20:51.218Z"
   },
   {
    "duration": 13,
    "start_time": "2021-09-03T19:20:51.314Z"
   },
   {
    "duration": 10,
    "start_time": "2021-09-03T19:20:51.329Z"
   },
   {
    "duration": 34,
    "start_time": "2021-09-03T19:20:51.341Z"
   },
   {
    "duration": 15,
    "start_time": "2021-09-03T19:20:51.378Z"
   },
   {
    "duration": 11,
    "start_time": "2021-09-03T19:20:51.395Z"
   },
   {
    "duration": 9,
    "start_time": "2021-09-03T19:20:51.408Z"
   },
   {
    "duration": 154,
    "start_time": "2021-09-03T19:20:51.419Z"
   },
   {
    "duration": 256,
    "start_time": "2021-09-03T19:20:51.576Z"
   },
   {
    "duration": 249,
    "start_time": "2021-09-03T19:20:51.835Z"
   },
   {
    "duration": 31,
    "start_time": "2021-09-03T19:20:52.086Z"
   },
   {
    "duration": 39,
    "start_time": "2021-09-03T19:20:52.123Z"
   },
   {
    "duration": 11,
    "start_time": "2021-09-03T19:20:52.165Z"
   },
   {
    "duration": 17,
    "start_time": "2021-09-03T19:20:52.178Z"
   },
   {
    "duration": 30,
    "start_time": "2021-09-03T19:20:52.198Z"
   },
   {
    "duration": 78,
    "start_time": "2021-09-03T19:20:52.230Z"
   },
   {
    "duration": 118,
    "start_time": "2021-09-03T19:20:56.209Z"
   },
   {
    "duration": 77,
    "start_time": "2021-09-03T19:21:08.675Z"
   },
   {
    "duration": 23,
    "start_time": "2021-09-03T19:35:30.073Z"
   },
   {
    "duration": 27,
    "start_time": "2021-09-03T19:36:04.947Z"
   },
   {
    "duration": 39,
    "start_time": "2021-09-03T19:36:48.030Z"
   },
   {
    "duration": 302,
    "start_time": "2021-09-03T19:38:13.045Z"
   },
   {
    "duration": 56,
    "start_time": "2021-09-03T19:38:52.936Z"
   },
   {
    "duration": 83,
    "start_time": "2021-09-03T19:39:21.827Z"
   },
   {
    "duration": 45,
    "start_time": "2021-09-03T19:39:40.575Z"
   },
   {
    "duration": 45,
    "start_time": "2021-09-03T19:40:43.013Z"
   },
   {
    "duration": 1477,
    "start_time": "2021-09-03T19:43:30.937Z"
   },
   {
    "duration": 502,
    "start_time": "2021-09-03T19:43:32.417Z"
   },
   {
    "duration": 25,
    "start_time": "2021-09-03T19:43:32.922Z"
   },
   {
    "duration": 123,
    "start_time": "2021-09-03T19:43:32.950Z"
   },
   {
    "duration": 45,
    "start_time": "2021-09-03T19:43:33.075Z"
   },
   {
    "duration": 46,
    "start_time": "2021-09-03T19:43:33.123Z"
   },
   {
    "duration": 11,
    "start_time": "2021-09-03T19:43:33.172Z"
   },
   {
    "duration": 31,
    "start_time": "2021-09-03T19:43:33.187Z"
   },
   {
    "duration": 121,
    "start_time": "2021-09-03T19:43:33.221Z"
   },
   {
    "duration": 19,
    "start_time": "2021-09-03T19:43:33.344Z"
   },
   {
    "duration": 27,
    "start_time": "2021-09-03T19:43:33.366Z"
   },
   {
    "duration": 71,
    "start_time": "2021-09-03T19:43:33.395Z"
   },
   {
    "duration": 11,
    "start_time": "2021-09-03T19:43:33.468Z"
   },
   {
    "duration": 21,
    "start_time": "2021-09-03T19:43:33.482Z"
   },
   {
    "duration": 30,
    "start_time": "2021-09-03T19:43:33.505Z"
   },
   {
    "duration": 13,
    "start_time": "2021-09-03T19:43:33.538Z"
   },
   {
    "duration": 10,
    "start_time": "2021-09-03T19:43:33.561Z"
   },
   {
    "duration": 6,
    "start_time": "2021-09-03T19:43:33.573Z"
   },
   {
    "duration": 143,
    "start_time": "2021-09-03T19:43:33.582Z"
   },
   {
    "duration": 244,
    "start_time": "2021-09-03T19:43:33.728Z"
   },
   {
    "duration": 172,
    "start_time": "2021-09-03T19:43:33.974Z"
   },
   {
    "duration": 42,
    "start_time": "2021-09-03T19:43:34.148Z"
   },
   {
    "duration": 12,
    "start_time": "2021-09-03T19:43:34.196Z"
   },
   {
    "duration": 16,
    "start_time": "2021-09-03T19:43:34.211Z"
   },
   {
    "duration": 36,
    "start_time": "2021-09-03T19:43:34.230Z"
   },
   {
    "duration": 33,
    "start_time": "2021-09-03T19:43:34.268Z"
   },
   {
    "duration": 70,
    "start_time": "2021-09-03T19:43:34.303Z"
   },
   {
    "duration": 103,
    "start_time": "2021-09-03T19:43:34.376Z"
   },
   {
    "duration": 90,
    "start_time": "2021-09-03T19:43:34.482Z"
   },
   {
    "duration": 55,
    "start_time": "2021-09-03T19:43:34.574Z"
   },
   {
    "duration": 62,
    "start_time": "2021-09-03T19:43:34.631Z"
   },
   {
    "duration": 651,
    "start_time": "2021-09-03T19:43:34.695Z"
   },
   {
    "duration": 614,
    "start_time": "2021-09-03T19:43:35.348Z"
   },
   {
    "duration": 645,
    "start_time": "2021-09-03T19:43:35.964Z"
   },
   {
    "duration": 1049,
    "start_time": "2021-09-03T19:43:36.612Z"
   },
   {
    "duration": 11,
    "start_time": "2021-09-03T19:43:37.664Z"
   },
   {
    "duration": 422,
    "start_time": "2021-09-03T19:43:37.677Z"
   },
   {
    "duration": -161,
    "start_time": "2021-09-03T19:43:38.263Z"
   },
   {
    "duration": -169,
    "start_time": "2021-09-03T19:43:38.272Z"
   },
   {
    "duration": -170,
    "start_time": "2021-09-03T19:43:38.274Z"
   },
   {
    "duration": -171,
    "start_time": "2021-09-03T19:43:38.277Z"
   },
   {
    "duration": -344,
    "start_time": "2021-09-03T19:43:38.451Z"
   },
   {
    "duration": -351,
    "start_time": "2021-09-03T19:43:38.459Z"
   },
   {
    "duration": -352,
    "start_time": "2021-09-03T19:43:38.462Z"
   },
   {
    "duration": 91,
    "start_time": "2021-09-03T19:50:59.624Z"
   },
   {
    "duration": 56,
    "start_time": "2021-09-03T19:52:39.444Z"
   },
   {
    "duration": 34,
    "start_time": "2021-09-03T19:59:30.388Z"
   },
   {
    "duration": 17,
    "start_time": "2021-09-03T20:03:16.004Z"
   },
   {
    "duration": 6,
    "start_time": "2021-09-03T20:35:43.239Z"
   },
   {
    "duration": 528,
    "start_time": "2021-09-03T20:35:43.249Z"
   },
   {
    "duration": 28,
    "start_time": "2021-09-03T20:35:43.780Z"
   },
   {
    "duration": 143,
    "start_time": "2021-09-03T20:35:43.812Z"
   },
   {
    "duration": 42,
    "start_time": "2021-09-03T20:35:43.958Z"
   },
   {
    "duration": 25,
    "start_time": "2021-09-03T20:35:44.003Z"
   },
   {
    "duration": 42,
    "start_time": "2021-09-03T20:35:44.031Z"
   },
   {
    "duration": 25,
    "start_time": "2021-09-03T20:35:44.077Z"
   },
   {
    "duration": 137,
    "start_time": "2021-09-03T20:35:44.106Z"
   },
   {
    "duration": 18,
    "start_time": "2021-09-03T20:35:44.245Z"
   },
   {
    "duration": 24,
    "start_time": "2021-09-03T20:35:44.265Z"
   },
   {
    "duration": 52,
    "start_time": "2021-09-03T20:35:44.292Z"
   },
   {
    "duration": 13,
    "start_time": "2021-09-03T20:35:44.362Z"
   },
   {
    "duration": 10,
    "start_time": "2021-09-03T20:35:44.378Z"
   },
   {
    "duration": 14,
    "start_time": "2021-09-03T20:35:44.391Z"
   },
   {
    "duration": 9,
    "start_time": "2021-09-03T20:35:44.408Z"
   },
   {
    "duration": 48,
    "start_time": "2021-09-03T20:35:44.419Z"
   },
   {
    "duration": 7,
    "start_time": "2021-09-03T20:35:44.469Z"
   },
   {
    "duration": 131,
    "start_time": "2021-09-03T20:35:44.480Z"
   },
   {
    "duration": 248,
    "start_time": "2021-09-03T20:35:44.613Z"
   },
   {
    "duration": 155,
    "start_time": "2021-09-03T20:35:44.863Z"
   },
   {
    "duration": 45,
    "start_time": "2021-09-03T20:35:45.020Z"
   },
   {
    "duration": 12,
    "start_time": "2021-09-03T20:35:45.067Z"
   },
   {
    "duration": 19,
    "start_time": "2021-09-03T20:35:45.081Z"
   },
   {
    "duration": 22,
    "start_time": "2021-09-03T20:35:45.102Z"
   },
   {
    "duration": 38,
    "start_time": "2021-09-03T20:35:45.126Z"
   },
   {
    "duration": 61,
    "start_time": "2021-09-03T20:35:45.166Z"
   },
   {
    "duration": 93,
    "start_time": "2021-09-03T20:35:45.229Z"
   },
   {
    "duration": 274,
    "start_time": "2021-09-03T20:36:24.612Z"
   },
   {
    "duration": 284,
    "start_time": "2021-09-03T20:36:35.663Z"
   },
   {
    "duration": 11,
    "start_time": "2021-09-03T20:37:40.869Z"
   },
   {
    "duration": 33,
    "start_time": "2021-09-03T20:38:44.372Z"
   },
   {
    "duration": 48,
    "start_time": "2021-09-03T21:21:54.568Z"
   },
   {
    "duration": 1453,
    "start_time": "2021-09-03T21:22:12.665Z"
   },
   {
    "duration": 521,
    "start_time": "2021-09-03T21:22:14.121Z"
   },
   {
    "duration": 27,
    "start_time": "2021-09-03T21:22:14.645Z"
   },
   {
    "duration": 135,
    "start_time": "2021-09-03T21:22:14.675Z"
   },
   {
    "duration": 52,
    "start_time": "2021-09-03T21:22:14.813Z"
   },
   {
    "duration": 26,
    "start_time": "2021-09-03T21:22:14.867Z"
   },
   {
    "duration": 16,
    "start_time": "2021-09-03T21:22:14.895Z"
   },
   {
    "duration": 50,
    "start_time": "2021-09-03T21:22:14.915Z"
   },
   {
    "duration": 121,
    "start_time": "2021-09-03T21:22:14.968Z"
   },
   {
    "duration": 10,
    "start_time": "2021-09-03T21:22:15.091Z"
   },
   {
    "duration": 21,
    "start_time": "2021-09-03T21:22:15.104Z"
   },
   {
    "duration": 98,
    "start_time": "2021-09-03T21:22:15.127Z"
   },
   {
    "duration": 12,
    "start_time": "2021-09-03T21:22:15.228Z"
   },
   {
    "duration": 25,
    "start_time": "2021-09-03T21:22:15.243Z"
   },
   {
    "duration": 20,
    "start_time": "2021-09-03T21:22:15.271Z"
   },
   {
    "duration": 11,
    "start_time": "2021-09-03T21:22:15.293Z"
   },
   {
    "duration": 11,
    "start_time": "2021-09-03T21:22:15.307Z"
   },
   {
    "duration": 43,
    "start_time": "2021-09-03T21:22:15.321Z"
   },
   {
    "duration": 137,
    "start_time": "2021-09-03T21:22:15.367Z"
   },
   {
    "duration": 245,
    "start_time": "2021-09-03T21:22:15.506Z"
   },
   {
    "duration": 167,
    "start_time": "2021-09-03T21:22:15.753Z"
   },
   {
    "duration": 47,
    "start_time": "2021-09-03T21:22:15.922Z"
   },
   {
    "duration": 14,
    "start_time": "2021-09-03T21:22:15.974Z"
   },
   {
    "duration": 10,
    "start_time": "2021-09-03T21:22:15.991Z"
   },
   {
    "duration": 7,
    "start_time": "2021-09-03T21:22:16.004Z"
   },
   {
    "duration": 63,
    "start_time": "2021-09-03T21:22:16.014Z"
   },
   {
    "duration": 57,
    "start_time": "2021-09-03T21:22:16.080Z"
   },
   {
    "duration": 132,
    "start_time": "2021-09-03T21:22:16.140Z"
   },
   {
    "duration": 42,
    "start_time": "2021-09-03T21:22:16.275Z"
   },
   {
    "duration": 97,
    "start_time": "2021-09-03T21:22:16.319Z"
   },
   {
    "duration": 66,
    "start_time": "2021-09-03T21:22:16.418Z"
   },
   {
    "duration": 16,
    "start_time": "2021-09-03T21:22:16.486Z"
   },
   {
    "duration": 67,
    "start_time": "2021-09-03T21:22:16.504Z"
   },
   {
    "duration": 635,
    "start_time": "2021-09-03T21:22:16.574Z"
   },
   {
    "duration": 650,
    "start_time": "2021-09-03T21:22:17.213Z"
   },
   {
    "duration": 673,
    "start_time": "2021-09-03T21:22:17.866Z"
   },
   {
    "duration": 1089,
    "start_time": "2021-09-03T21:22:18.543Z"
   },
   {
    "duration": 27,
    "start_time": "2021-09-03T21:22:19.635Z"
   },
   {
    "duration": 370,
    "start_time": "2021-09-03T21:22:19.665Z"
   },
   {
    "duration": -510,
    "start_time": "2021-09-03T21:22:20.549Z"
   },
   {
    "duration": -511,
    "start_time": "2021-09-03T21:22:20.552Z"
   },
   {
    "duration": -512,
    "start_time": "2021-09-03T21:22:20.556Z"
   },
   {
    "duration": -515,
    "start_time": "2021-09-03T21:22:20.561Z"
   },
   {
    "duration": -515,
    "start_time": "2021-09-03T21:22:20.564Z"
   },
   {
    "duration": -516,
    "start_time": "2021-09-03T21:22:20.567Z"
   },
   {
    "duration": -518,
    "start_time": "2021-09-03T21:22:20.571Z"
   },
   {
    "duration": 204,
    "start_time": "2021-09-03T21:22:55.514Z"
   },
   {
    "duration": 6,
    "start_time": "2021-09-03T21:23:00.708Z"
   },
   {
    "duration": 1514,
    "start_time": "2021-09-03T21:23:10.613Z"
   },
   {
    "duration": 543,
    "start_time": "2021-09-03T21:23:12.130Z"
   },
   {
    "duration": 29,
    "start_time": "2021-09-03T21:23:12.678Z"
   },
   {
    "duration": 190,
    "start_time": "2021-09-03T21:23:12.711Z"
   },
   {
    "duration": 46,
    "start_time": "2021-09-03T21:23:12.903Z"
   },
   {
    "duration": 27,
    "start_time": "2021-09-03T21:23:12.962Z"
   },
   {
    "duration": 12,
    "start_time": "2021-09-03T21:23:12.991Z"
   },
   {
    "duration": 24,
    "start_time": "2021-09-03T21:23:13.006Z"
   },
   {
    "duration": 137,
    "start_time": "2021-09-03T21:23:13.063Z"
   },
   {
    "duration": 10,
    "start_time": "2021-09-03T21:23:13.203Z"
   },
   {
    "duration": 35,
    "start_time": "2021-09-03T21:23:13.216Z"
   },
   {
    "duration": 74,
    "start_time": "2021-09-03T21:23:13.262Z"
   },
   {
    "duration": 27,
    "start_time": "2021-09-03T21:23:13.338Z"
   },
   {
    "duration": 23,
    "start_time": "2021-09-03T21:23:13.367Z"
   },
   {
    "duration": 29,
    "start_time": "2021-09-03T21:23:13.392Z"
   },
   {
    "duration": 12,
    "start_time": "2021-09-03T21:23:13.424Z"
   },
   {
    "duration": 28,
    "start_time": "2021-09-03T21:23:13.439Z"
   },
   {
    "duration": 7,
    "start_time": "2021-09-03T21:23:13.470Z"
   },
   {
    "duration": 139,
    "start_time": "2021-09-03T21:23:13.480Z"
   },
   {
    "duration": 244,
    "start_time": "2021-09-03T21:23:13.622Z"
   },
   {
    "duration": 162,
    "start_time": "2021-09-03T21:23:13.869Z"
   },
   {
    "duration": 48,
    "start_time": "2021-09-03T21:23:14.034Z"
   },
   {
    "duration": 13,
    "start_time": "2021-09-03T21:23:14.087Z"
   },
   {
    "duration": 9,
    "start_time": "2021-09-03T21:23:14.104Z"
   },
   {
    "duration": 7,
    "start_time": "2021-09-03T21:23:14.116Z"
   },
   {
    "duration": 59,
    "start_time": "2021-09-03T21:23:14.125Z"
   },
   {
    "duration": 53,
    "start_time": "2021-09-03T21:23:14.187Z"
   },
   {
    "duration": 98,
    "start_time": "2021-09-03T21:23:14.263Z"
   },
   {
    "duration": 33,
    "start_time": "2021-09-03T21:23:14.364Z"
   },
   {
    "duration": 98,
    "start_time": "2021-09-03T21:23:14.399Z"
   },
   {
    "duration": 70,
    "start_time": "2021-09-03T21:23:14.499Z"
   },
   {
    "duration": 15,
    "start_time": "2021-09-03T21:23:14.572Z"
   },
   {
    "duration": 57,
    "start_time": "2021-09-03T21:23:14.590Z"
   },
   {
    "duration": 632,
    "start_time": "2021-09-03T21:23:14.650Z"
   },
   {
    "duration": 633,
    "start_time": "2021-09-03T21:23:15.285Z"
   },
   {
    "duration": 667,
    "start_time": "2021-09-03T21:23:15.920Z"
   },
   {
    "duration": 1088,
    "start_time": "2021-09-03T21:23:16.589Z"
   },
   {
    "duration": 12,
    "start_time": "2021-09-03T21:23:17.679Z"
   },
   {
    "duration": 351,
    "start_time": "2021-09-03T21:23:17.693Z"
   },
   {
    "duration": -529,
    "start_time": "2021-09-03T21:23:18.576Z"
   },
   {
    "duration": -533,
    "start_time": "2021-09-03T21:23:18.582Z"
   },
   {
    "duration": -536,
    "start_time": "2021-09-03T21:23:18.586Z"
   },
   {
    "duration": -551,
    "start_time": "2021-09-03T21:23:18.602Z"
   },
   {
    "duration": -559,
    "start_time": "2021-09-03T21:23:18.612Z"
   },
   {
    "duration": -561,
    "start_time": "2021-09-03T21:23:18.615Z"
   },
   {
    "duration": -566,
    "start_time": "2021-09-03T21:23:18.621Z"
   },
   {
    "duration": 49,
    "start_time": "2021-09-03T21:26:28.679Z"
   },
   {
    "duration": 45,
    "start_time": "2021-09-03T21:27:36.915Z"
   },
   {
    "duration": 1532,
    "start_time": "2021-09-03T21:27:49.496Z"
   },
   {
    "duration": 526,
    "start_time": "2021-09-03T21:27:51.030Z"
   },
   {
    "duration": 27,
    "start_time": "2021-09-03T21:27:51.559Z"
   },
   {
    "duration": 153,
    "start_time": "2021-09-03T21:27:51.589Z"
   },
   {
    "duration": 57,
    "start_time": "2021-09-03T21:27:51.745Z"
   },
   {
    "duration": 26,
    "start_time": "2021-09-03T21:27:51.804Z"
   },
   {
    "duration": 11,
    "start_time": "2021-09-03T21:27:51.832Z"
   },
   {
    "duration": 36,
    "start_time": "2021-09-03T21:27:51.847Z"
   },
   {
    "duration": 129,
    "start_time": "2021-09-03T21:27:51.886Z"
   },
   {
    "duration": 10,
    "start_time": "2021-09-03T21:27:52.018Z"
   },
   {
    "duration": 40,
    "start_time": "2021-09-03T21:27:52.030Z"
   },
   {
    "duration": 57,
    "start_time": "2021-09-03T21:27:52.072Z"
   },
   {
    "duration": 11,
    "start_time": "2021-09-03T21:27:52.131Z"
   },
   {
    "duration": 9,
    "start_time": "2021-09-03T21:27:52.163Z"
   },
   {
    "duration": 22,
    "start_time": "2021-09-03T21:27:52.174Z"
   },
   {
    "duration": 15,
    "start_time": "2021-09-03T21:27:52.199Z"
   },
   {
    "duration": 13,
    "start_time": "2021-09-03T21:27:52.216Z"
   },
   {
    "duration": 36,
    "start_time": "2021-09-03T21:27:52.231Z"
   },
   {
    "duration": 134,
    "start_time": "2021-09-03T21:27:52.270Z"
   },
   {
    "duration": 240,
    "start_time": "2021-09-03T21:27:52.407Z"
   },
   {
    "duration": 165,
    "start_time": "2021-09-03T21:27:52.650Z"
   },
   {
    "duration": 47,
    "start_time": "2021-09-03T21:27:52.818Z"
   },
   {
    "duration": 12,
    "start_time": "2021-09-03T21:27:52.869Z"
   },
   {
    "duration": 9,
    "start_time": "2021-09-03T21:27:52.884Z"
   },
   {
    "duration": 9,
    "start_time": "2021-09-03T21:27:52.896Z"
   },
   {
    "duration": 59,
    "start_time": "2021-09-03T21:27:52.907Z"
   },
   {
    "duration": 63,
    "start_time": "2021-09-03T21:27:52.968Z"
   },
   {
    "duration": 95,
    "start_time": "2021-09-03T21:27:53.033Z"
   },
   {
    "duration": 42,
    "start_time": "2021-09-03T21:27:53.130Z"
   },
   {
    "duration": 72,
    "start_time": "2021-09-03T21:27:53.175Z"
   },
   {
    "duration": 50,
    "start_time": "2021-09-03T21:27:53.262Z"
   },
   {
    "duration": 15,
    "start_time": "2021-09-03T21:27:53.315Z"
   },
   {
    "duration": 63,
    "start_time": "2021-09-03T21:27:53.332Z"
   },
   {
    "duration": 643,
    "start_time": "2021-09-03T21:27:53.397Z"
   },
   {
    "duration": 647,
    "start_time": "2021-09-03T21:27:54.042Z"
   },
   {
    "duration": 645,
    "start_time": "2021-09-03T21:27:54.692Z"
   },
   {
    "duration": 1086,
    "start_time": "2021-09-03T21:27:55.339Z"
   },
   {
    "duration": 12,
    "start_time": "2021-09-03T21:27:56.428Z"
   },
   {
    "duration": 355,
    "start_time": "2021-09-03T21:27:56.463Z"
   },
   {
    "duration": -523,
    "start_time": "2021-09-03T21:27:57.344Z"
   },
   {
    "duration": -525,
    "start_time": "2021-09-03T21:27:57.348Z"
   },
   {
    "duration": -526,
    "start_time": "2021-09-03T21:27:57.350Z"
   },
   {
    "duration": -525,
    "start_time": "2021-09-03T21:27:57.352Z"
   },
   {
    "duration": -527,
    "start_time": "2021-09-03T21:27:57.356Z"
   },
   {
    "duration": -530,
    "start_time": "2021-09-03T21:27:57.360Z"
   },
   {
    "duration": -531,
    "start_time": "2021-09-03T21:27:57.363Z"
   },
   {
    "duration": 57,
    "start_time": "2021-09-03T21:30:12.002Z"
   },
   {
    "duration": 1476,
    "start_time": "2021-09-03T21:30:21.739Z"
   },
   {
    "duration": 510,
    "start_time": "2021-09-03T21:30:23.218Z"
   },
   {
    "duration": 29,
    "start_time": "2021-09-03T21:30:23.732Z"
   },
   {
    "duration": 146,
    "start_time": "2021-09-03T21:30:23.763Z"
   },
   {
    "duration": 54,
    "start_time": "2021-09-03T21:30:23.911Z"
   },
   {
    "duration": 25,
    "start_time": "2021-09-03T21:30:23.968Z"
   },
   {
    "duration": 12,
    "start_time": "2021-09-03T21:30:23.995Z"
   },
   {
    "duration": 56,
    "start_time": "2021-09-03T21:30:24.009Z"
   },
   {
    "duration": 114,
    "start_time": "2021-09-03T21:30:24.068Z"
   },
   {
    "duration": 10,
    "start_time": "2021-09-03T21:30:24.185Z"
   },
   {
    "duration": 23,
    "start_time": "2021-09-03T21:30:24.197Z"
   },
   {
    "duration": 86,
    "start_time": "2021-09-03T21:30:24.222Z"
   },
   {
    "duration": 10,
    "start_time": "2021-09-03T21:30:24.311Z"
   },
   {
    "duration": 14,
    "start_time": "2021-09-03T21:30:24.324Z"
   },
   {
    "duration": 15,
    "start_time": "2021-09-03T21:30:24.361Z"
   },
   {
    "duration": 18,
    "start_time": "2021-09-03T21:30:24.378Z"
   },
   {
    "duration": 20,
    "start_time": "2021-09-03T21:30:24.399Z"
   },
   {
    "duration": 13,
    "start_time": "2021-09-03T21:30:24.421Z"
   },
   {
    "duration": 128,
    "start_time": "2021-09-03T21:30:24.437Z"
   },
   {
    "duration": 234,
    "start_time": "2021-09-03T21:30:24.567Z"
   },
   {
    "duration": 173,
    "start_time": "2021-09-03T21:30:24.804Z"
   },
   {
    "duration": 35,
    "start_time": "2021-09-03T21:30:24.979Z"
   },
   {
    "duration": 12,
    "start_time": "2021-09-03T21:30:25.016Z"
   },
   {
    "duration": 35,
    "start_time": "2021-09-03T21:30:25.030Z"
   },
   {
    "duration": 11,
    "start_time": "2021-09-03T21:30:25.068Z"
   },
   {
    "duration": 30,
    "start_time": "2021-09-03T21:30:25.081Z"
   },
   {
    "duration": 80,
    "start_time": "2021-09-03T21:30:25.115Z"
   },
   {
    "duration": 102,
    "start_time": "2021-09-03T21:30:25.198Z"
   },
   {
    "duration": 34,
    "start_time": "2021-09-03T21:30:25.303Z"
   },
   {
    "duration": 96,
    "start_time": "2021-09-03T21:30:25.339Z"
   },
   {
    "duration": 70,
    "start_time": "2021-09-03T21:30:25.437Z"
   },
   {
    "duration": 16,
    "start_time": "2021-09-03T21:30:25.509Z"
   },
   {
    "duration": 61,
    "start_time": "2021-09-03T21:30:25.527Z"
   },
   {
    "duration": 642,
    "start_time": "2021-09-03T21:30:25.590Z"
   },
   {
    "duration": 609,
    "start_time": "2021-09-03T21:30:26.234Z"
   },
   {
    "duration": 661,
    "start_time": "2021-09-03T21:30:26.846Z"
   },
   {
    "duration": 1113,
    "start_time": "2021-09-03T21:30:27.510Z"
   },
   {
    "duration": 12,
    "start_time": "2021-09-03T21:30:28.625Z"
   },
   {
    "duration": 444,
    "start_time": "2021-09-03T21:30:28.640Z"
   },
   {
    "duration": -520,
    "start_time": "2021-09-03T21:30:29.606Z"
   },
   {
    "duration": -521,
    "start_time": "2021-09-03T21:30:29.609Z"
   },
   {
    "duration": -526,
    "start_time": "2021-09-03T21:30:29.615Z"
   },
   {
    "duration": -526,
    "start_time": "2021-09-03T21:30:29.617Z"
   },
   {
    "duration": -528,
    "start_time": "2021-09-03T21:30:29.620Z"
   },
   {
    "duration": -529,
    "start_time": "2021-09-03T21:30:29.623Z"
   },
   {
    "duration": -536,
    "start_time": "2021-09-03T21:30:29.631Z"
   },
   {
    "duration": 14,
    "start_time": "2021-09-03T21:50:15.903Z"
   },
   {
    "duration": 1476,
    "start_time": "2021-09-03T21:50:24.432Z"
   },
   {
    "duration": 575,
    "start_time": "2021-09-03T21:50:25.910Z"
   },
   {
    "duration": 28,
    "start_time": "2021-09-03T21:50:26.488Z"
   },
   {
    "duration": 148,
    "start_time": "2021-09-03T21:50:26.519Z"
   },
   {
    "duration": 11,
    "start_time": "2021-09-03T21:50:26.670Z"
   },
   {
    "duration": 26,
    "start_time": "2021-09-03T21:50:26.683Z"
   },
   {
    "duration": 125,
    "start_time": "2021-09-03T21:50:26.711Z"
   },
   {
    "duration": 9,
    "start_time": "2021-09-03T21:50:26.840Z"
   },
   {
    "duration": 18,
    "start_time": "2021-09-03T21:50:26.863Z"
   },
   {
    "duration": 79,
    "start_time": "2021-09-03T21:50:26.883Z"
   },
   {
    "duration": 11,
    "start_time": "2021-09-03T21:50:26.964Z"
   },
   {
    "duration": 13,
    "start_time": "2021-09-03T21:50:26.977Z"
   },
   {
    "duration": 16,
    "start_time": "2021-09-03T21:50:26.993Z"
   },
   {
    "duration": 12,
    "start_time": "2021-09-03T21:50:27.011Z"
   },
   {
    "duration": 40,
    "start_time": "2021-09-03T21:50:27.026Z"
   },
   {
    "duration": 7,
    "start_time": "2021-09-03T21:50:27.069Z"
   },
   {
    "duration": 395,
    "start_time": "2021-09-03T21:50:27.078Z"
   },
   {
    "duration": -518,
    "start_time": "2021-09-03T21:50:27.994Z"
   },
   {
    "duration": -519,
    "start_time": "2021-09-03T21:50:27.997Z"
   },
   {
    "duration": -522,
    "start_time": "2021-09-03T21:50:28.002Z"
   },
   {
    "duration": -524,
    "start_time": "2021-09-03T21:50:28.005Z"
   },
   {
    "duration": -525,
    "start_time": "2021-09-03T21:50:28.007Z"
   },
   {
    "duration": -525,
    "start_time": "2021-09-03T21:50:28.009Z"
   },
   {
    "duration": -525,
    "start_time": "2021-09-03T21:50:28.011Z"
   },
   {
    "duration": -525,
    "start_time": "2021-09-03T21:50:28.013Z"
   },
   {
    "duration": -525,
    "start_time": "2021-09-03T21:50:28.015Z"
   },
   {
    "duration": -529,
    "start_time": "2021-09-03T21:50:28.020Z"
   },
   {
    "duration": -531,
    "start_time": "2021-09-03T21:50:28.024Z"
   },
   {
    "duration": -533,
    "start_time": "2021-09-03T21:50:28.028Z"
   },
   {
    "duration": -535,
    "start_time": "2021-09-03T21:50:28.031Z"
   },
   {
    "duration": -538,
    "start_time": "2021-09-03T21:50:28.036Z"
   },
   {
    "duration": -542,
    "start_time": "2021-09-03T21:50:28.041Z"
   },
   {
    "duration": -551,
    "start_time": "2021-09-03T21:50:28.052Z"
   },
   {
    "duration": -559,
    "start_time": "2021-09-03T21:50:28.062Z"
   },
   {
    "duration": -562,
    "start_time": "2021-09-03T21:50:28.067Z"
   },
   {
    "duration": -564,
    "start_time": "2021-09-03T21:50:28.070Z"
   },
   {
    "duration": -566,
    "start_time": "2021-09-03T21:50:28.074Z"
   },
   {
    "duration": -566,
    "start_time": "2021-09-03T21:50:28.076Z"
   },
   {
    "duration": -568,
    "start_time": "2021-09-03T21:50:28.079Z"
   },
   {
    "duration": -577,
    "start_time": "2021-09-03T21:50:28.090Z"
   },
   {
    "duration": -532,
    "start_time": "2021-09-03T21:50:28.094Z"
   },
   {
    "duration": -533,
    "start_time": "2021-09-03T21:50:28.097Z"
   },
   {
    "duration": -534,
    "start_time": "2021-09-03T21:50:28.100Z"
   },
   {
    "duration": 86,
    "start_time": "2021-09-03T21:50:58.492Z"
   },
   {
    "duration": 918,
    "start_time": "2021-09-03T21:51:51.631Z"
   },
   {
    "duration": 6,
    "start_time": "2021-09-03T21:52:10.581Z"
   },
   {
    "duration": 535,
    "start_time": "2021-09-03T21:52:10.590Z"
   },
   {
    "duration": 26,
    "start_time": "2021-09-03T21:52:11.129Z"
   },
   {
    "duration": 133,
    "start_time": "2021-09-03T21:52:11.159Z"
   },
   {
    "duration": 12,
    "start_time": "2021-09-03T21:52:11.295Z"
   },
   {
    "duration": 32,
    "start_time": "2021-09-03T21:52:11.309Z"
   },
   {
    "duration": 107,
    "start_time": "2021-09-03T21:52:11.361Z"
   },
   {
    "duration": 12,
    "start_time": "2021-09-03T21:52:11.471Z"
   },
   {
    "duration": 39,
    "start_time": "2021-09-03T21:52:11.485Z"
   },
   {
    "duration": 69,
    "start_time": "2021-09-03T21:52:11.527Z"
   },
   {
    "duration": 12,
    "start_time": "2021-09-03T21:52:11.599Z"
   },
   {
    "duration": 14,
    "start_time": "2021-09-03T21:52:11.613Z"
   },
   {
    "duration": 44,
    "start_time": "2021-09-03T21:52:11.629Z"
   },
   {
    "duration": 9,
    "start_time": "2021-09-03T21:52:11.676Z"
   },
   {
    "duration": 15,
    "start_time": "2021-09-03T21:52:11.688Z"
   },
   {
    "duration": 10,
    "start_time": "2021-09-03T21:52:11.706Z"
   },
   {
    "duration": 115,
    "start_time": "2021-09-03T21:52:11.718Z"
   },
   {
    "duration": 264,
    "start_time": "2021-09-03T21:52:11.835Z"
   },
   {
    "duration": 228,
    "start_time": "2021-09-03T21:52:12.103Z"
   },
   {
    "duration": 51,
    "start_time": "2021-09-03T21:52:12.334Z"
   },
   {
    "duration": 15,
    "start_time": "2021-09-03T21:52:12.388Z"
   },
   {
    "duration": 28,
    "start_time": "2021-09-03T21:52:12.406Z"
   },
   {
    "duration": 25,
    "start_time": "2021-09-03T21:52:12.437Z"
   },
   {
    "duration": 37,
    "start_time": "2021-09-03T21:52:12.465Z"
   },
   {
    "duration": 70,
    "start_time": "2021-09-03T21:52:12.505Z"
   },
   {
    "duration": 99,
    "start_time": "2021-09-03T21:52:12.577Z"
   },
   {
    "duration": 31,
    "start_time": "2021-09-03T21:52:12.678Z"
   },
   {
    "duration": 101,
    "start_time": "2021-09-03T21:52:12.712Z"
   },
   {
    "duration": 63,
    "start_time": "2021-09-03T21:52:12.816Z"
   },
   {
    "duration": 43,
    "start_time": "2021-09-03T21:52:12.882Z"
   },
   {
    "duration": 652,
    "start_time": "2021-09-03T21:52:12.927Z"
   },
   {
    "duration": 621,
    "start_time": "2021-09-03T21:52:13.581Z"
   },
   {
    "duration": 596,
    "start_time": "2021-09-03T21:52:14.205Z"
   },
   {
    "duration": 584,
    "start_time": "2021-09-03T21:52:16.782Z"
   },
   {
    "duration": 1046,
    "start_time": "2021-09-03T21:52:17.849Z"
   },
   {
    "duration": 11,
    "start_time": "2021-09-03T21:52:18.898Z"
   },
   {
    "duration": 235,
    "start_time": "2021-09-03T21:52:20.440Z"
   },
   {
    "duration": 944,
    "start_time": "2021-09-03T21:52:21.690Z"
   },
   {
    "duration": 6,
    "start_time": "2021-09-03T21:52:39.710Z"
   },
   {
    "duration": 550,
    "start_time": "2021-09-03T21:52:39.718Z"
   },
   {
    "duration": 25,
    "start_time": "2021-09-03T21:52:40.272Z"
   },
   {
    "duration": 133,
    "start_time": "2021-09-03T21:52:40.299Z"
   },
   {
    "duration": 12,
    "start_time": "2021-09-03T21:52:40.435Z"
   },
   {
    "duration": 37,
    "start_time": "2021-09-03T21:52:40.450Z"
   },
   {
    "duration": 112,
    "start_time": "2021-09-03T21:52:40.491Z"
   },
   {
    "duration": 11,
    "start_time": "2021-09-03T21:52:40.606Z"
   },
   {
    "duration": 22,
    "start_time": "2021-09-03T21:52:40.619Z"
   },
   {
    "duration": 69,
    "start_time": "2021-09-03T21:52:40.643Z"
   },
   {
    "duration": 120,
    "start_time": "2021-09-03T21:52:40.714Z"
   },
   {
    "duration": 27,
    "start_time": "2021-09-03T21:52:40.836Z"
   },
   {
    "duration": 20,
    "start_time": "2021-09-03T21:52:40.866Z"
   },
   {
    "duration": 11,
    "start_time": "2021-09-03T21:52:40.889Z"
   },
   {
    "duration": 15,
    "start_time": "2021-09-03T21:52:40.903Z"
   },
   {
    "duration": 8,
    "start_time": "2021-09-03T21:52:40.921Z"
   },
   {
    "duration": 133,
    "start_time": "2021-09-03T21:52:40.931Z"
   },
   {
    "duration": 258,
    "start_time": "2021-09-03T21:52:41.067Z"
   },
   {
    "duration": 151,
    "start_time": "2021-09-03T21:52:41.331Z"
   },
   {
    "duration": 32,
    "start_time": "2021-09-03T21:52:41.485Z"
   },
   {
    "duration": 14,
    "start_time": "2021-09-03T21:52:41.519Z"
   },
   {
    "duration": 10,
    "start_time": "2021-09-03T21:52:41.562Z"
   },
   {
    "duration": 15,
    "start_time": "2021-09-03T21:52:41.574Z"
   },
   {
    "duration": 24,
    "start_time": "2021-09-03T21:52:41.592Z"
   },
   {
    "duration": 77,
    "start_time": "2021-09-03T21:52:41.619Z"
   },
   {
    "duration": 106,
    "start_time": "2021-09-03T21:52:41.698Z"
   },
   {
    "duration": 32,
    "start_time": "2021-09-03T21:52:41.807Z"
   },
   {
    "duration": 79,
    "start_time": "2021-09-03T21:52:41.862Z"
   },
   {
    "duration": 67,
    "start_time": "2021-09-03T21:52:41.944Z"
   },
   {
    "duration": 66,
    "start_time": "2021-09-03T21:52:42.014Z"
   },
   {
    "duration": 671,
    "start_time": "2021-09-03T21:52:42.082Z"
   },
   {
    "duration": 616,
    "start_time": "2021-09-03T21:52:42.755Z"
   },
   {
    "duration": 637,
    "start_time": "2021-09-03T21:52:43.374Z"
   },
   {
    "duration": 1103,
    "start_time": "2021-09-03T21:52:44.013Z"
   },
   {
    "duration": 16,
    "start_time": "2021-09-03T21:52:45.119Z"
   },
   {
    "duration": 261,
    "start_time": "2021-09-03T21:52:45.138Z"
   },
   {
    "duration": -630,
    "start_time": "2021-09-03T21:52:46.031Z"
   },
   {
    "duration": -631,
    "start_time": "2021-09-03T21:52:46.034Z"
   },
   {
    "duration": -633,
    "start_time": "2021-09-03T21:52:46.037Z"
   },
   {
    "duration": -634,
    "start_time": "2021-09-03T21:52:46.039Z"
   },
   {
    "duration": -635,
    "start_time": "2021-09-03T21:52:46.042Z"
   },
   {
    "duration": -636,
    "start_time": "2021-09-03T21:52:46.044Z"
   },
   {
    "duration": 8,
    "start_time": "2021-09-03T21:52:47.964Z"
   },
   {
    "duration": 6,
    "start_time": "2021-09-03T21:52:48.194Z"
   },
   {
    "duration": 8,
    "start_time": "2021-09-03T21:52:53.949Z"
   },
   {
    "duration": 247,
    "start_time": "2021-09-03T22:00:31.789Z"
   },
   {
    "duration": 1649,
    "start_time": "2021-09-03T22:05:50.374Z"
   },
   {
    "duration": 531,
    "start_time": "2021-09-03T22:05:52.026Z"
   },
   {
    "duration": 30,
    "start_time": "2021-09-03T22:05:52.560Z"
   },
   {
    "duration": 156,
    "start_time": "2021-09-03T22:05:52.593Z"
   },
   {
    "duration": 20,
    "start_time": "2021-09-03T22:05:52.752Z"
   },
   {
    "duration": 25,
    "start_time": "2021-09-03T22:05:52.776Z"
   },
   {
    "duration": 131,
    "start_time": "2021-09-03T22:05:52.803Z"
   },
   {
    "duration": 10,
    "start_time": "2021-09-03T22:05:52.938Z"
   },
   {
    "duration": 19,
    "start_time": "2021-09-03T22:05:52.962Z"
   },
   {
    "duration": 84,
    "start_time": "2021-09-03T22:05:52.983Z"
   },
   {
    "duration": 12,
    "start_time": "2021-09-03T22:05:53.070Z"
   },
   {
    "duration": 15,
    "start_time": "2021-09-03T22:05:53.084Z"
   },
   {
    "duration": 18,
    "start_time": "2021-09-03T22:05:53.102Z"
   },
   {
    "duration": 10,
    "start_time": "2021-09-03T22:05:53.123Z"
   },
   {
    "duration": 35,
    "start_time": "2021-09-03T22:05:53.135Z"
   },
   {
    "duration": 7,
    "start_time": "2021-09-03T22:05:53.173Z"
   },
   {
    "duration": 122,
    "start_time": "2021-09-03T22:05:53.183Z"
   },
   {
    "duration": 269,
    "start_time": "2021-09-03T22:05:53.308Z"
   },
   {
    "duration": 168,
    "start_time": "2021-09-03T22:05:53.580Z"
   },
   {
    "duration": 42,
    "start_time": "2021-09-03T22:05:53.750Z"
   },
   {
    "duration": 13,
    "start_time": "2021-09-03T22:05:53.794Z"
   },
   {
    "duration": 8,
    "start_time": "2021-09-03T22:05:53.809Z"
   },
   {
    "duration": 43,
    "start_time": "2021-09-03T22:05:53.822Z"
   },
   {
    "duration": 56,
    "start_time": "2021-09-03T22:05:53.868Z"
   },
   {
    "duration": 112,
    "start_time": "2021-09-03T22:05:53.927Z"
   },
   {
    "duration": 42,
    "start_time": "2021-09-03T22:05:54.041Z"
   },
   {
    "duration": 92,
    "start_time": "2021-09-03T22:05:54.086Z"
   },
   {
    "duration": 518,
    "start_time": "2021-09-03T22:05:54.181Z"
   },
   {
    "duration": -699,
    "start_time": "2021-09-03T22:05:55.400Z"
   },
   {
    "duration": -700,
    "start_time": "2021-09-03T22:05:55.403Z"
   },
   {
    "duration": -714,
    "start_time": "2021-09-03T22:05:55.418Z"
   },
   {
    "duration": -715,
    "start_time": "2021-09-03T22:05:55.421Z"
   },
   {
    "duration": -716,
    "start_time": "2021-09-03T22:05:55.423Z"
   },
   {
    "duration": -717,
    "start_time": "2021-09-03T22:05:55.426Z"
   },
   {
    "duration": -721,
    "start_time": "2021-09-03T22:05:55.431Z"
   },
   {
    "duration": -722,
    "start_time": "2021-09-03T22:05:55.434Z"
   },
   {
    "duration": -724,
    "start_time": "2021-09-03T22:05:55.437Z"
   },
   {
    "duration": -724,
    "start_time": "2021-09-03T22:05:55.439Z"
   },
   {
    "duration": -725,
    "start_time": "2021-09-03T22:05:55.441Z"
   },
   {
    "duration": -733,
    "start_time": "2021-09-03T22:05:55.451Z"
   },
   {
    "duration": -735,
    "start_time": "2021-09-03T22:05:55.454Z"
   },
   {
    "duration": -740,
    "start_time": "2021-09-03T22:05:55.461Z"
   },
   {
    "duration": 52,
    "start_time": "2021-09-03T22:06:49.303Z"
   },
   {
    "duration": 6,
    "start_time": "2021-09-03T22:08:29.623Z"
   },
   {
    "duration": 519,
    "start_time": "2021-09-03T22:08:29.632Z"
   },
   {
    "duration": 26,
    "start_time": "2021-09-03T22:08:30.154Z"
   },
   {
    "duration": 127,
    "start_time": "2021-09-03T22:08:30.183Z"
   },
   {
    "duration": 10,
    "start_time": "2021-09-03T22:08:30.312Z"
   },
   {
    "duration": 42,
    "start_time": "2021-09-03T22:08:30.325Z"
   },
   {
    "duration": 106,
    "start_time": "2021-09-03T22:08:30.371Z"
   },
   {
    "duration": 9,
    "start_time": "2021-09-03T22:08:30.480Z"
   },
   {
    "duration": 30,
    "start_time": "2021-09-03T22:08:30.491Z"
   },
   {
    "duration": 72,
    "start_time": "2021-09-03T22:08:30.524Z"
   },
   {
    "duration": 11,
    "start_time": "2021-09-03T22:08:30.598Z"
   },
   {
    "duration": 21,
    "start_time": "2021-09-03T22:08:30.611Z"
   },
   {
    "duration": 31,
    "start_time": "2021-09-03T22:08:30.635Z"
   },
   {
    "duration": 32,
    "start_time": "2021-09-03T22:08:30.669Z"
   },
   {
    "duration": 17,
    "start_time": "2021-09-03T22:08:30.703Z"
   },
   {
    "duration": 14,
    "start_time": "2021-09-03T22:08:30.723Z"
   },
   {
    "duration": 94,
    "start_time": "2021-09-03T22:08:30.740Z"
   },
   {
    "duration": 255,
    "start_time": "2021-09-03T22:08:30.837Z"
   },
   {
    "duration": 224,
    "start_time": "2021-09-03T22:08:31.099Z"
   },
   {
    "duration": 46,
    "start_time": "2021-09-03T22:08:31.326Z"
   },
   {
    "duration": 12,
    "start_time": "2021-09-03T22:08:31.375Z"
   },
   {
    "duration": 11,
    "start_time": "2021-09-03T22:08:31.390Z"
   },
   {
    "duration": 7,
    "start_time": "2021-09-03T22:08:31.404Z"
   },
   {
    "duration": 84,
    "start_time": "2021-09-03T22:08:31.413Z"
   },
   {
    "duration": 95,
    "start_time": "2021-09-03T22:08:31.499Z"
   },
   {
    "duration": 32,
    "start_time": "2021-09-03T22:08:31.596Z"
   },
   {
    "duration": 101,
    "start_time": "2021-09-03T22:08:31.631Z"
   },
   {
    "duration": 62,
    "start_time": "2021-09-03T22:08:31.734Z"
   },
   {
    "duration": 43,
    "start_time": "2021-09-03T22:08:31.799Z"
   },
   {
    "duration": 638,
    "start_time": "2021-09-03T22:08:31.862Z"
   },
   {
    "duration": 625,
    "start_time": "2021-09-03T22:08:32.502Z"
   },
   {
    "duration": 596,
    "start_time": "2021-09-03T22:08:33.130Z"
   },
   {
    "duration": 1062,
    "start_time": "2021-09-03T22:08:33.729Z"
   },
   {
    "duration": 11,
    "start_time": "2021-09-03T22:08:34.794Z"
   },
   {
    "duration": 244,
    "start_time": "2021-09-03T22:08:34.808Z"
   },
   {
    "duration": -641,
    "start_time": "2021-09-03T22:08:35.695Z"
   },
   {
    "duration": -641,
    "start_time": "2021-09-03T22:08:35.698Z"
   },
   {
    "duration": 1034,
    "start_time": "2021-09-03T22:08:37.977Z"
   },
   {
    "duration": 937,
    "start_time": "2021-09-03T22:12:50.479Z"
   },
   {
    "duration": 958,
    "start_time": "2021-09-03T22:13:04.815Z"
   },
   {
    "duration": 287,
    "start_time": "2021-09-04T22:22:01.351Z"
   },
   {
    "duration": 1259,
    "start_time": "2021-09-04T22:22:27.697Z"
   },
   {
    "duration": 415,
    "start_time": "2021-09-04T22:22:28.958Z"
   },
   {
    "duration": 24,
    "start_time": "2021-09-04T22:22:29.375Z"
   },
   {
    "duration": 112,
    "start_time": "2021-09-04T22:22:29.402Z"
   },
   {
    "duration": 9,
    "start_time": "2021-09-04T22:22:29.516Z"
   },
   {
    "duration": 22,
    "start_time": "2021-09-04T22:22:29.526Z"
   },
   {
    "duration": 87,
    "start_time": "2021-09-04T22:22:29.549Z"
   },
   {
    "duration": 7,
    "start_time": "2021-09-04T22:22:29.639Z"
   },
   {
    "duration": 16,
    "start_time": "2021-09-04T22:22:29.648Z"
   },
   {
    "duration": 63,
    "start_time": "2021-09-04T22:22:29.665Z"
   },
   {
    "duration": 7,
    "start_time": "2021-09-04T22:22:29.730Z"
   },
   {
    "duration": 9,
    "start_time": "2021-09-04T22:22:29.739Z"
   },
   {
    "duration": 13,
    "start_time": "2021-09-04T22:22:29.749Z"
   },
   {
    "duration": 30,
    "start_time": "2021-09-04T22:22:29.764Z"
   },
   {
    "duration": 8,
    "start_time": "2021-09-04T22:22:29.796Z"
   },
   {
    "duration": 5,
    "start_time": "2021-09-04T22:22:29.806Z"
   },
   {
    "duration": 83,
    "start_time": "2021-09-04T22:22:29.813Z"
   },
   {
    "duration": 188,
    "start_time": "2021-09-04T22:22:29.898Z"
   },
   {
    "duration": 113,
    "start_time": "2021-09-04T22:22:30.087Z"
   },
   {
    "duration": 21,
    "start_time": "2021-09-04T22:22:30.202Z"
   },
   {
    "duration": 9,
    "start_time": "2021-09-04T22:22:30.224Z"
   },
   {
    "duration": 6,
    "start_time": "2021-09-04T22:22:30.235Z"
   },
   {
    "duration": 7,
    "start_time": "2021-09-04T22:22:30.244Z"
   },
   {
    "duration": 65,
    "start_time": "2021-09-04T22:22:30.253Z"
   },
   {
    "duration": 59,
    "start_time": "2021-09-04T22:22:30.319Z"
   },
   {
    "duration": 28,
    "start_time": "2021-09-04T22:22:30.379Z"
   },
   {
    "duration": 336,
    "start_time": "2021-09-04T22:22:30.409Z"
   },
   {
    "duration": -930,
    "start_time": "2021-09-04T22:22:31.676Z"
   },
   {
    "duration": -934,
    "start_time": "2021-09-04T22:22:31.681Z"
   },
   {
    "duration": -939,
    "start_time": "2021-09-04T22:22:31.687Z"
   },
   {
    "duration": -943,
    "start_time": "2021-09-04T22:22:31.692Z"
   },
   {
    "duration": -948,
    "start_time": "2021-09-04T22:22:31.698Z"
   },
   {
    "duration": -951,
    "start_time": "2021-09-04T22:22:31.702Z"
   },
   {
    "duration": -956,
    "start_time": "2021-09-04T22:22:31.707Z"
   },
   {
    "duration": -959,
    "start_time": "2021-09-04T22:22:31.711Z"
   },
   {
    "duration": -963,
    "start_time": "2021-09-04T22:22:31.716Z"
   },
   {
    "duration": -966,
    "start_time": "2021-09-04T22:22:31.720Z"
   },
   {
    "duration": -971,
    "start_time": "2021-09-04T22:22:31.725Z"
   },
   {
    "duration": -974,
    "start_time": "2021-09-04T22:22:31.729Z"
   },
   {
    "duration": -978,
    "start_time": "2021-09-04T22:22:31.734Z"
   },
   {
    "duration": -981,
    "start_time": "2021-09-04T22:22:31.738Z"
   },
   {
    "duration": -987,
    "start_time": "2021-09-04T22:22:31.744Z"
   },
   {
    "duration": -990,
    "start_time": "2021-09-04T22:22:31.748Z"
   },
   {
    "duration": 6,
    "start_time": "2021-09-04T22:23:14.632Z"
   },
   {
    "duration": 27,
    "start_time": "2021-09-04T22:23:31.523Z"
   },
   {
    "duration": 11,
    "start_time": "2021-09-04T22:24:46.362Z"
   },
   {
    "duration": 7,
    "start_time": "2021-09-04T22:25:05.399Z"
   },
   {
    "duration": 300,
    "start_time": "2021-09-04T22:27:20.420Z"
   },
   {
    "duration": 267,
    "start_time": "2021-09-04T22:27:29.163Z"
   },
   {
    "duration": 269,
    "start_time": "2021-09-04T22:28:16.516Z"
   },
   {
    "duration": 283,
    "start_time": "2021-09-04T22:28:23.406Z"
   },
   {
    "duration": 248,
    "start_time": "2021-09-04T22:29:39.107Z"
   },
   {
    "duration": 5,
    "start_time": "2021-09-04T22:30:05.515Z"
   },
   {
    "duration": 422,
    "start_time": "2021-09-04T22:30:05.523Z"
   },
   {
    "duration": 20,
    "start_time": "2021-09-04T22:30:05.947Z"
   },
   {
    "duration": 110,
    "start_time": "2021-09-04T22:30:05.969Z"
   },
   {
    "duration": 17,
    "start_time": "2021-09-04T22:30:06.081Z"
   },
   {
    "duration": 19,
    "start_time": "2021-09-04T22:30:06.100Z"
   },
   {
    "duration": 82,
    "start_time": "2021-09-04T22:30:06.121Z"
   },
   {
    "duration": 7,
    "start_time": "2021-09-04T22:30:06.206Z"
   },
   {
    "duration": 18,
    "start_time": "2021-09-04T22:30:06.215Z"
   },
   {
    "duration": 66,
    "start_time": "2021-09-04T22:30:06.235Z"
   },
   {
    "duration": 9,
    "start_time": "2021-09-04T22:30:06.303Z"
   },
   {
    "duration": 9,
    "start_time": "2021-09-04T22:30:06.315Z"
   },
   {
    "duration": 10,
    "start_time": "2021-09-04T22:30:06.326Z"
   },
   {
    "duration": 8,
    "start_time": "2021-09-04T22:30:06.338Z"
   },
   {
    "duration": 44,
    "start_time": "2021-09-04T22:30:06.348Z"
   },
   {
    "duration": 6,
    "start_time": "2021-09-04T22:30:06.394Z"
   },
   {
    "duration": 63,
    "start_time": "2021-09-04T22:30:06.402Z"
   },
   {
    "duration": 201,
    "start_time": "2021-09-04T22:30:06.467Z"
   },
   {
    "duration": 175,
    "start_time": "2021-09-04T22:30:06.670Z"
   },
   {
    "duration": 20,
    "start_time": "2021-09-04T22:30:06.846Z"
   },
   {
    "duration": 25,
    "start_time": "2021-09-04T22:30:06.867Z"
   },
   {
    "duration": 7,
    "start_time": "2021-09-04T22:30:06.894Z"
   },
   {
    "duration": 5,
    "start_time": "2021-09-04T22:30:06.904Z"
   },
   {
    "duration": 32,
    "start_time": "2021-09-04T22:30:06.911Z"
   },
   {
    "duration": 75,
    "start_time": "2021-09-04T22:30:06.945Z"
   },
   {
    "duration": 20,
    "start_time": "2021-09-04T22:30:07.022Z"
   },
   {
    "duration": 19,
    "start_time": "2021-09-04T22:30:09.259Z"
   },
   {
    "duration": 260,
    "start_time": "2021-09-04T22:30:11.514Z"
   },
   {
    "duration": 26,
    "start_time": "2021-09-04T22:31:51.974Z"
   },
   {
    "duration": 246,
    "start_time": "2021-09-04T22:32:42.130Z"
   },
   {
    "duration": 7,
    "start_time": "2021-09-04T22:32:53.105Z"
   },
   {
    "duration": 418,
    "start_time": "2021-09-04T22:32:53.114Z"
   },
   {
    "duration": 20,
    "start_time": "2021-09-04T22:32:53.534Z"
   },
   {
    "duration": 103,
    "start_time": "2021-09-04T22:32:53.556Z"
   },
   {
    "duration": 8,
    "start_time": "2021-09-04T22:32:53.661Z"
   },
   {
    "duration": 31,
    "start_time": "2021-09-04T22:32:53.670Z"
   },
   {
    "duration": 60,
    "start_time": "2021-09-04T22:32:53.703Z"
   },
   {
    "duration": 7,
    "start_time": "2021-09-04T22:32:53.765Z"
   },
   {
    "duration": 24,
    "start_time": "2021-09-04T22:32:53.792Z"
   },
   {
    "duration": 77,
    "start_time": "2021-09-04T22:32:53.819Z"
   },
   {
    "duration": 11,
    "start_time": "2021-09-04T22:32:53.899Z"
   },
   {
    "duration": 8,
    "start_time": "2021-09-04T22:32:53.912Z"
   },
   {
    "duration": 13,
    "start_time": "2021-09-04T22:32:53.921Z"
   },
   {
    "duration": 9,
    "start_time": "2021-09-04T22:32:53.936Z"
   },
   {
    "duration": 8,
    "start_time": "2021-09-04T22:32:53.947Z"
   },
   {
    "duration": 5,
    "start_time": "2021-09-04T22:32:53.956Z"
   },
   {
    "duration": 86,
    "start_time": "2021-09-04T22:32:53.963Z"
   },
   {
    "duration": 193,
    "start_time": "2021-09-04T22:32:54.051Z"
   },
   {
    "duration": 113,
    "start_time": "2021-09-04T22:32:54.245Z"
   },
   {
    "duration": 19,
    "start_time": "2021-09-04T22:32:54.360Z"
   },
   {
    "duration": 17,
    "start_time": "2021-09-04T22:32:54.381Z"
   },
   {
    "duration": 6,
    "start_time": "2021-09-04T22:32:54.400Z"
   },
   {
    "duration": 6,
    "start_time": "2021-09-04T22:32:54.408Z"
   },
   {
    "duration": 34,
    "start_time": "2021-09-04T22:32:54.416Z"
   },
   {
    "duration": 98,
    "start_time": "2021-09-04T22:32:54.452Z"
   },
   {
    "duration": 27,
    "start_time": "2021-09-04T22:32:54.552Z"
   },
   {
    "duration": 20,
    "start_time": "2021-09-04T22:32:57.077Z"
   },
   {
    "duration": 247,
    "start_time": "2021-09-04T22:33:01.514Z"
   },
   {
    "duration": 7,
    "start_time": "2021-09-04T22:33:17.441Z"
   },
   {
    "duration": 246,
    "start_time": "2021-09-04T22:43:51.435Z"
   },
   {
    "duration": 256,
    "start_time": "2021-09-04T22:43:57.749Z"
   },
   {
    "duration": 245,
    "start_time": "2021-09-04T22:44:07.048Z"
   },
   {
    "duration": 9,
    "start_time": "2021-09-04T22:44:23.231Z"
   },
   {
    "duration": 7,
    "start_time": "2021-09-04T22:45:23.632Z"
   },
   {
    "duration": 6,
    "start_time": "2021-09-04T22:45:29.946Z"
   },
   {
    "duration": 18,
    "start_time": "2021-09-04T22:45:55.188Z"
   },
   {
    "duration": 6292,
    "start_time": "2021-09-04T22:51:13.120Z"
   },
   {
    "duration": 1142,
    "start_time": "2021-09-04T22:51:30.126Z"
   },
   {
    "duration": 425,
    "start_time": "2021-09-04T22:51:31.270Z"
   },
   {
    "duration": 34,
    "start_time": "2021-09-04T22:51:31.698Z"
   },
   {
    "duration": 151,
    "start_time": "2021-09-04T22:51:31.735Z"
   },
   {
    "duration": 11,
    "start_time": "2021-09-04T22:51:31.891Z"
   },
   {
    "duration": 30,
    "start_time": "2021-09-04T22:51:31.904Z"
   },
   {
    "duration": 111,
    "start_time": "2021-09-04T22:51:31.936Z"
   },
   {
    "duration": 9,
    "start_time": "2021-09-04T22:51:32.050Z"
   },
   {
    "duration": 37,
    "start_time": "2021-09-04T22:51:32.061Z"
   },
   {
    "duration": 65,
    "start_time": "2021-09-04T22:51:32.101Z"
   },
   {
    "duration": 25,
    "start_time": "2021-09-04T22:51:32.168Z"
   },
   {
    "duration": 18,
    "start_time": "2021-09-04T22:51:32.194Z"
   },
   {
    "duration": 18,
    "start_time": "2021-09-04T22:51:32.213Z"
   },
   {
    "duration": 12,
    "start_time": "2021-09-04T22:51:32.232Z"
   },
   {
    "duration": 13,
    "start_time": "2021-09-04T22:51:32.245Z"
   },
   {
    "duration": 6,
    "start_time": "2021-09-04T22:51:32.259Z"
   },
   {
    "duration": 69,
    "start_time": "2021-09-04T22:51:32.266Z"
   },
   {
    "duration": 191,
    "start_time": "2021-09-04T22:51:32.337Z"
   },
   {
    "duration": 120,
    "start_time": "2021-09-04T22:51:32.529Z"
   },
   {
    "duration": 22,
    "start_time": "2021-09-04T22:51:32.651Z"
   },
   {
    "duration": 10,
    "start_time": "2021-09-04T22:51:32.691Z"
   },
   {
    "duration": 7,
    "start_time": "2021-09-04T22:51:32.702Z"
   },
   {
    "duration": 5,
    "start_time": "2021-09-04T22:51:32.713Z"
   },
   {
    "duration": 38,
    "start_time": "2021-09-04T22:51:32.721Z"
   },
   {
    "duration": 77,
    "start_time": "2021-09-04T22:51:32.761Z"
   },
   {
    "duration": 20,
    "start_time": "2021-09-04T22:51:32.840Z"
   },
   {
    "duration": 34,
    "start_time": "2021-09-04T22:51:32.861Z"
   },
   {
    "duration": 44,
    "start_time": "2021-09-04T22:51:32.897Z"
   },
   {
    "duration": 50,
    "start_time": "2021-09-04T22:51:32.942Z"
   },
   {
    "duration": 27,
    "start_time": "2021-09-04T22:51:32.994Z"
   },
   {
    "duration": 387,
    "start_time": "2021-09-04T22:51:33.022Z"
   },
   {
    "duration": 358,
    "start_time": "2021-09-04T22:51:33.411Z"
   },
   {
    "duration": 421,
    "start_time": "2021-09-04T22:51:33.770Z"
   },
   {
    "duration": 643,
    "start_time": "2021-09-04T22:51:34.193Z"
   },
   {
    "duration": 9,
    "start_time": "2021-09-04T22:51:34.838Z"
   },
   {
    "duration": 325,
    "start_time": "2021-09-04T22:51:34.849Z"
   },
   {
    "duration": -900,
    "start_time": "2021-09-04T22:51:36.076Z"
   },
   {
    "duration": -906,
    "start_time": "2021-09-04T22:51:36.083Z"
   },
   {
    "duration": -911,
    "start_time": "2021-09-04T22:51:36.089Z"
   },
   {
    "duration": -917,
    "start_time": "2021-09-04T22:51:36.096Z"
   },
   {
    "duration": -923,
    "start_time": "2021-09-04T22:51:36.103Z"
   },
   {
    "duration": -926,
    "start_time": "2021-09-04T22:51:36.107Z"
   },
   {
    "duration": -931,
    "start_time": "2021-09-04T22:51:36.113Z"
   },
   {
    "duration": -935,
    "start_time": "2021-09-04T22:51:36.118Z"
   },
   {
    "duration": -939,
    "start_time": "2021-09-04T22:51:36.123Z"
   },
   {
    "duration": 1494,
    "start_time": "2021-09-04T22:52:44.670Z"
   },
   {
    "duration": 585,
    "start_time": "2021-09-04T22:52:46.166Z"
   },
   {
    "duration": 34,
    "start_time": "2021-09-04T22:52:46.753Z"
   },
   {
    "duration": 140,
    "start_time": "2021-09-04T22:52:46.789Z"
   },
   {
    "duration": 11,
    "start_time": "2021-09-04T22:52:46.931Z"
   },
   {
    "duration": 34,
    "start_time": "2021-09-04T22:52:46.943Z"
   },
   {
    "duration": 100,
    "start_time": "2021-09-04T22:52:46.978Z"
   },
   {
    "duration": 10,
    "start_time": "2021-09-04T22:52:47.093Z"
   },
   {
    "duration": 25,
    "start_time": "2021-09-04T22:52:47.105Z"
   },
   {
    "duration": 81,
    "start_time": "2021-09-04T22:52:47.132Z"
   },
   {
    "duration": 10,
    "start_time": "2021-09-04T22:52:47.215Z"
   },
   {
    "duration": 10,
    "start_time": "2021-09-04T22:52:47.227Z"
   },
   {
    "duration": 14,
    "start_time": "2021-09-04T22:52:47.239Z"
   },
   {
    "duration": 7,
    "start_time": "2021-09-04T22:52:47.255Z"
   },
   {
    "duration": 31,
    "start_time": "2021-09-04T22:52:47.264Z"
   },
   {
    "duration": 5,
    "start_time": "2021-09-04T22:52:47.297Z"
   },
   {
    "duration": 63,
    "start_time": "2021-09-04T22:52:47.304Z"
   },
   {
    "duration": 197,
    "start_time": "2021-09-04T22:52:47.369Z"
   },
   {
    "duration": 111,
    "start_time": "2021-09-04T22:52:47.568Z"
   },
   {
    "duration": 26,
    "start_time": "2021-09-04T22:52:47.680Z"
   },
   {
    "duration": 9,
    "start_time": "2021-09-04T22:52:47.707Z"
   },
   {
    "duration": 6,
    "start_time": "2021-09-04T22:52:47.717Z"
   },
   {
    "duration": 5,
    "start_time": "2021-09-04T22:52:47.727Z"
   },
   {
    "duration": 61,
    "start_time": "2021-09-04T22:52:47.734Z"
   },
   {
    "duration": 49,
    "start_time": "2021-09-04T22:52:47.797Z"
   },
   {
    "duration": 18,
    "start_time": "2021-09-04T22:52:47.847Z"
   },
   {
    "duration": 30,
    "start_time": "2021-09-04T22:52:47.867Z"
   },
   {
    "duration": 44,
    "start_time": "2021-09-04T22:52:47.899Z"
   },
   {
    "duration": 48,
    "start_time": "2021-09-04T22:52:47.944Z"
   },
   {
    "duration": 27,
    "start_time": "2021-09-04T22:52:47.993Z"
   },
   {
    "duration": 388,
    "start_time": "2021-09-04T22:52:48.022Z"
   },
   {
    "duration": 359,
    "start_time": "2021-09-04T22:52:48.412Z"
   },
   {
    "duration": 421,
    "start_time": "2021-09-04T22:52:48.773Z"
   },
   {
    "duration": 738,
    "start_time": "2021-09-04T22:52:49.195Z"
   },
   {
    "duration": 8,
    "start_time": "2021-09-04T22:52:49.934Z"
   },
   {
    "duration": 7,
    "start_time": "2021-09-04T22:52:49.944Z"
   },
   {
    "duration": 6,
    "start_time": "2021-09-04T22:52:49.953Z"
   },
   {
    "duration": 332,
    "start_time": "2021-09-04T22:52:49.960Z"
   },
   {
    "duration": -944,
    "start_time": "2021-09-04T22:52:51.238Z"
   },
   {
    "duration": -947,
    "start_time": "2021-09-04T22:52:51.242Z"
   },
   {
    "duration": -951,
    "start_time": "2021-09-04T22:52:51.247Z"
   },
   {
    "duration": -956,
    "start_time": "2021-09-04T22:52:51.253Z"
   },
   {
    "duration": -960,
    "start_time": "2021-09-04T22:52:51.258Z"
   },
   {
    "duration": -966,
    "start_time": "2021-09-04T22:52:51.264Z"
   },
   {
    "duration": -971,
    "start_time": "2021-09-04T22:52:51.270Z"
   },
   {
    "duration": 1147,
    "start_time": "2021-09-04T22:53:27.897Z"
   },
   {
    "duration": 414,
    "start_time": "2021-09-04T22:53:29.046Z"
   },
   {
    "duration": 21,
    "start_time": "2021-09-04T22:53:29.462Z"
   },
   {
    "duration": 109,
    "start_time": "2021-09-04T22:53:29.485Z"
   },
   {
    "duration": 8,
    "start_time": "2021-09-04T22:53:29.596Z"
   },
   {
    "duration": 19,
    "start_time": "2021-09-04T22:53:29.606Z"
   },
   {
    "duration": 84,
    "start_time": "2021-09-04T22:53:29.626Z"
   },
   {
    "duration": 7,
    "start_time": "2021-09-04T22:53:29.713Z"
   },
   {
    "duration": 17,
    "start_time": "2021-09-04T22:53:29.722Z"
   },
   {
    "duration": 67,
    "start_time": "2021-09-04T22:53:29.741Z"
   },
   {
    "duration": 8,
    "start_time": "2021-09-04T22:53:29.810Z"
   },
   {
    "duration": 8,
    "start_time": "2021-09-04T22:53:29.820Z"
   },
   {
    "duration": 12,
    "start_time": "2021-09-04T22:53:29.829Z"
   },
   {
    "duration": 11,
    "start_time": "2021-09-04T22:53:29.842Z"
   },
   {
    "duration": 8,
    "start_time": "2021-09-04T22:53:29.855Z"
   },
   {
    "duration": 31,
    "start_time": "2021-09-04T22:53:29.864Z"
   },
   {
    "duration": 64,
    "start_time": "2021-09-04T22:53:29.897Z"
   },
   {
    "duration": 262,
    "start_time": "2021-09-04T22:53:29.963Z"
   },
   {
    "duration": 183,
    "start_time": "2021-09-04T22:53:30.226Z"
   },
   {
    "duration": 30,
    "start_time": "2021-09-04T22:53:30.411Z"
   },
   {
    "duration": 12,
    "start_time": "2021-09-04T22:53:30.444Z"
   },
   {
    "duration": 10,
    "start_time": "2021-09-04T22:53:30.458Z"
   },
   {
    "duration": 8,
    "start_time": "2021-09-04T22:53:30.495Z"
   },
   {
    "duration": 61,
    "start_time": "2021-09-04T22:53:30.505Z"
   },
   {
    "duration": 92,
    "start_time": "2021-09-04T22:53:30.568Z"
   },
   {
    "duration": 33,
    "start_time": "2021-09-04T22:53:30.663Z"
   },
   {
    "duration": 8,
    "start_time": "2021-09-04T22:53:30.699Z"
   },
   {
    "duration": 86,
    "start_time": "2021-09-04T22:53:30.709Z"
   },
   {
    "duration": 50,
    "start_time": "2021-09-04T22:53:30.797Z"
   },
   {
    "duration": 61,
    "start_time": "2021-09-04T22:53:30.849Z"
   },
   {
    "duration": 561,
    "start_time": "2021-09-04T22:53:30.912Z"
   },
   {
    "duration": 532,
    "start_time": "2021-09-04T22:53:31.475Z"
   },
   {
    "duration": 593,
    "start_time": "2021-09-04T22:53:32.009Z"
   },
   {
    "duration": 963,
    "start_time": "2021-09-04T22:53:32.604Z"
   },
   {
    "duration": 12,
    "start_time": "2021-09-04T22:53:33.569Z"
   },
   {
    "duration": 3,
    "start_time": "2021-09-04T22:53:33.592Z"
   },
   {
    "duration": 5,
    "start_time": "2021-09-04T22:53:33.597Z"
   },
   {
    "duration": 1043,
    "start_time": "2021-09-04T22:53:33.604Z"
   },
   {
    "duration": -844,
    "start_time": "2021-09-04T22:53:35.493Z"
   },
   {
    "duration": -857,
    "start_time": "2021-09-04T22:53:35.507Z"
   },
   {
    "duration": -1020,
    "start_time": "2021-09-04T22:53:35.671Z"
   },
   {
    "duration": -1024,
    "start_time": "2021-09-04T22:53:35.676Z"
   },
   {
    "duration": -1027,
    "start_time": "2021-09-04T22:53:35.680Z"
   },
   {
    "duration": -1031,
    "start_time": "2021-09-04T22:53:35.685Z"
   },
   {
    "duration": 6590,
    "start_time": "2021-09-04T22:55:27.133Z"
   },
   {
    "duration": 5,
    "start_time": "2021-09-04T22:55:40.103Z"
   },
   {
    "duration": 422,
    "start_time": "2021-09-04T22:55:40.110Z"
   },
   {
    "duration": 21,
    "start_time": "2021-09-04T22:55:40.534Z"
   },
   {
    "duration": 106,
    "start_time": "2021-09-04T22:55:40.558Z"
   },
   {
    "duration": 8,
    "start_time": "2021-09-04T22:55:40.666Z"
   },
   {
    "duration": 28,
    "start_time": "2021-09-04T22:55:40.676Z"
   },
   {
    "duration": 60,
    "start_time": "2021-09-04T22:55:40.706Z"
   },
   {
    "duration": 25,
    "start_time": "2021-09-04T22:55:40.768Z"
   },
   {
    "duration": 16,
    "start_time": "2021-09-04T22:55:40.795Z"
   },
   {
    "duration": 47,
    "start_time": "2021-09-04T22:55:40.813Z"
   },
   {
    "duration": 9,
    "start_time": "2021-09-04T22:55:40.861Z"
   },
   {
    "duration": 26,
    "start_time": "2021-09-04T22:55:40.871Z"
   },
   {
    "duration": 16,
    "start_time": "2021-09-04T22:55:40.899Z"
   },
   {
    "duration": 7,
    "start_time": "2021-09-04T22:55:40.917Z"
   },
   {
    "duration": 7,
    "start_time": "2021-09-04T22:55:40.926Z"
   },
   {
    "duration": 6,
    "start_time": "2021-09-04T22:55:40.934Z"
   },
   {
    "duration": 86,
    "start_time": "2021-09-04T22:55:40.941Z"
   },
   {
    "duration": 191,
    "start_time": "2021-09-04T22:55:41.029Z"
   },
   {
    "duration": 140,
    "start_time": "2021-09-04T22:55:41.223Z"
   },
   {
    "duration": 30,
    "start_time": "2021-09-04T22:55:41.365Z"
   },
   {
    "duration": 9,
    "start_time": "2021-09-04T22:55:41.397Z"
   },
   {
    "duration": 7,
    "start_time": "2021-09-04T22:55:41.408Z"
   },
   {
    "duration": 6,
    "start_time": "2021-09-04T22:55:41.416Z"
   },
   {
    "duration": 31,
    "start_time": "2021-09-04T22:55:41.424Z"
   },
   {
    "duration": 83,
    "start_time": "2021-09-04T22:55:41.457Z"
   },
   {
    "duration": 20,
    "start_time": "2021-09-04T22:55:41.541Z"
   },
   {
    "duration": 29,
    "start_time": "2021-09-04T22:55:41.563Z"
   },
   {
    "duration": 48,
    "start_time": "2021-09-04T22:55:41.594Z"
   },
   {
    "duration": 52,
    "start_time": "2021-09-04T22:55:41.643Z"
   },
   {
    "duration": 32,
    "start_time": "2021-09-04T22:55:41.697Z"
   },
   {
    "duration": 391,
    "start_time": "2021-09-04T22:55:41.730Z"
   },
   {
    "duration": 464,
    "start_time": "2021-09-04T22:55:42.123Z"
   },
   {
    "duration": 354,
    "start_time": "2021-09-04T22:55:42.591Z"
   },
   {
    "duration": 636,
    "start_time": "2021-09-04T22:55:42.947Z"
   },
   {
    "duration": 6324,
    "start_time": "2021-09-04T22:55:50.102Z"
   },
   {
    "duration": 18,
    "start_time": "2021-09-04T22:56:36.751Z"
   },
   {
    "duration": 20,
    "start_time": "2021-09-04T22:58:07.717Z"
   },
   {
    "duration": 340,
    "start_time": "2021-09-04T22:58:37.790Z"
   },
   {
    "duration": 32,
    "start_time": "2021-09-04T23:01:48.419Z"
   },
   {
    "duration": 525,
    "start_time": "2021-09-04T23:01:56.838Z"
   },
   {
    "duration": 1172,
    "start_time": "2021-09-04T23:03:07.577Z"
   },
   {
    "duration": 419,
    "start_time": "2021-09-04T23:03:08.752Z"
   },
   {
    "duration": 19,
    "start_time": "2021-09-04T23:03:09.173Z"
   },
   {
    "duration": 114,
    "start_time": "2021-09-04T23:03:09.194Z"
   },
   {
    "duration": 9,
    "start_time": "2021-09-04T23:03:09.310Z"
   },
   {
    "duration": 21,
    "start_time": "2021-09-04T23:03:09.321Z"
   },
   {
    "duration": 94,
    "start_time": "2021-09-04T23:03:09.344Z"
   },
   {
    "duration": 7,
    "start_time": "2021-09-04T23:03:09.440Z"
   },
   {
    "duration": 18,
    "start_time": "2021-09-04T23:03:09.449Z"
   },
   {
    "duration": 68,
    "start_time": "2021-09-04T23:03:09.469Z"
   },
   {
    "duration": 8,
    "start_time": "2021-09-04T23:03:09.539Z"
   },
   {
    "duration": 9,
    "start_time": "2021-09-04T23:03:09.549Z"
   },
   {
    "duration": 13,
    "start_time": "2021-09-04T23:03:09.560Z"
   },
   {
    "duration": 7,
    "start_time": "2021-09-04T23:03:09.591Z"
   },
   {
    "duration": 9,
    "start_time": "2021-09-04T23:03:09.600Z"
   },
   {
    "duration": 5,
    "start_time": "2021-09-04T23:03:09.611Z"
   },
   {
    "duration": 86,
    "start_time": "2021-09-04T23:03:09.618Z"
   },
   {
    "duration": 186,
    "start_time": "2021-09-04T23:03:09.706Z"
   },
   {
    "duration": 115,
    "start_time": "2021-09-04T23:03:09.894Z"
   },
   {
    "duration": 22,
    "start_time": "2021-09-04T23:03:10.011Z"
   },
   {
    "duration": 9,
    "start_time": "2021-09-04T23:03:10.035Z"
   },
   {
    "duration": 7,
    "start_time": "2021-09-04T23:03:10.045Z"
   },
   {
    "duration": 5,
    "start_time": "2021-09-04T23:03:10.057Z"
   },
   {
    "duration": 38,
    "start_time": "2021-09-04T23:03:10.093Z"
   },
   {
    "duration": 62,
    "start_time": "2021-09-04T23:03:10.133Z"
   },
   {
    "duration": 20,
    "start_time": "2021-09-04T23:03:10.197Z"
   },
   {
    "duration": 9,
    "start_time": "2021-09-04T23:03:10.219Z"
   },
   {
    "duration": 68,
    "start_time": "2021-09-04T23:03:10.229Z"
   },
   {
    "duration": 33,
    "start_time": "2021-09-04T23:03:10.298Z"
   },
   {
    "duration": 27,
    "start_time": "2021-09-04T23:03:10.333Z"
   },
   {
    "duration": 401,
    "start_time": "2021-09-04T23:03:10.362Z"
   },
   {
    "duration": 360,
    "start_time": "2021-09-04T23:03:10.765Z"
   },
   {
    "duration": 442,
    "start_time": "2021-09-04T23:03:11.127Z"
   },
   {
    "duration": 675,
    "start_time": "2021-09-04T23:03:11.572Z"
   },
   {
    "duration": 23,
    "start_time": "2021-09-04T23:03:12.250Z"
   },
   {
    "duration": 378,
    "start_time": "2021-09-04T23:03:12.275Z"
   },
   {
    "duration": 9,
    "start_time": "2021-09-04T23:03:12.655Z"
   },
   {
    "duration": 4,
    "start_time": "2021-09-04T23:03:12.666Z"
   },
   {
    "duration": 19,
    "start_time": "2021-09-04T23:03:12.672Z"
   },
   {
    "duration": 785,
    "start_time": "2021-09-04T23:03:12.693Z"
   },
   {
    "duration": -867,
    "start_time": "2021-09-04T23:03:14.347Z"
   },
   {
    "duration": -873,
    "start_time": "2021-09-04T23:03:14.354Z"
   },
   {
    "duration": -884,
    "start_time": "2021-09-04T23:03:14.366Z"
   },
   {
    "duration": -892,
    "start_time": "2021-09-04T23:03:14.382Z"
   },
   {
    "duration": -904,
    "start_time": "2021-09-04T23:03:14.395Z"
   },
   {
    "duration": -909,
    "start_time": "2021-09-04T23:03:14.401Z"
   },
   {
    "duration": 347,
    "start_time": "2021-09-04T23:03:25.570Z"
   },
   {
    "duration": 359,
    "start_time": "2021-09-04T23:04:00.262Z"
   },
   {
    "duration": 475,
    "start_time": "2021-09-04T23:04:21.599Z"
   },
   {
    "duration": 661,
    "start_time": "2021-09-04T23:12:45.813Z"
   },
   {
    "duration": 664,
    "start_time": "2021-09-04T23:14:30.440Z"
   },
   {
    "duration": 647,
    "start_time": "2021-09-04T23:15:09.665Z"
   },
   {
    "duration": 1462,
    "start_time": "2021-09-04T23:16:01.521Z"
   },
   {
    "duration": 608,
    "start_time": "2021-09-04T23:16:02.986Z"
   },
   {
    "duration": 35,
    "start_time": "2021-09-04T23:16:03.597Z"
   },
   {
    "duration": 159,
    "start_time": "2021-09-04T23:16:03.635Z"
   },
   {
    "duration": 11,
    "start_time": "2021-09-04T23:16:03.796Z"
   },
   {
    "duration": 18,
    "start_time": "2021-09-04T23:16:03.809Z"
   },
   {
    "duration": 86,
    "start_time": "2021-09-04T23:16:03.829Z"
   },
   {
    "duration": 8,
    "start_time": "2021-09-04T23:16:03.917Z"
   },
   {
    "duration": 16,
    "start_time": "2021-09-04T23:16:03.927Z"
   },
   {
    "duration": 66,
    "start_time": "2021-09-04T23:16:03.945Z"
   },
   {
    "duration": 8,
    "start_time": "2021-09-04T23:16:04.013Z"
   },
   {
    "duration": 9,
    "start_time": "2021-09-04T23:16:04.022Z"
   },
   {
    "duration": 11,
    "start_time": "2021-09-04T23:16:04.032Z"
   },
   {
    "duration": 7,
    "start_time": "2021-09-04T23:16:04.045Z"
   },
   {
    "duration": 38,
    "start_time": "2021-09-04T23:16:04.054Z"
   },
   {
    "duration": 5,
    "start_time": "2021-09-04T23:16:04.094Z"
   },
   {
    "duration": 65,
    "start_time": "2021-09-04T23:16:04.101Z"
   },
   {
    "duration": 194,
    "start_time": "2021-09-04T23:16:04.168Z"
   },
   {
    "duration": 112,
    "start_time": "2021-09-04T23:16:04.364Z"
   },
   {
    "duration": 30,
    "start_time": "2021-09-04T23:16:04.478Z"
   },
   {
    "duration": 8,
    "start_time": "2021-09-04T23:16:04.510Z"
   },
   {
    "duration": 8,
    "start_time": "2021-09-04T23:16:04.520Z"
   },
   {
    "duration": 6,
    "start_time": "2021-09-04T23:16:04.533Z"
   },
   {
    "duration": 74,
    "start_time": "2021-09-04T23:16:04.542Z"
   },
   {
    "duration": 77,
    "start_time": "2021-09-04T23:16:04.619Z"
   },
   {
    "duration": 19,
    "start_time": "2021-09-04T23:16:04.698Z"
   },
   {
    "duration": 6,
    "start_time": "2021-09-04T23:16:04.718Z"
   },
   {
    "duration": 67,
    "start_time": "2021-09-04T23:16:04.726Z"
   },
   {
    "duration": 34,
    "start_time": "2021-09-04T23:16:04.794Z"
   },
   {
    "duration": 25,
    "start_time": "2021-09-04T23:16:04.830Z"
   },
   {
    "duration": 392,
    "start_time": "2021-09-04T23:16:04.857Z"
   },
   {
    "duration": 359,
    "start_time": "2021-09-04T23:16:05.251Z"
   },
   {
    "duration": 417,
    "start_time": "2021-09-04T23:16:05.612Z"
   },
   {
    "duration": 643,
    "start_time": "2021-09-04T23:16:06.031Z"
   },
   {
    "duration": 32,
    "start_time": "2021-09-04T23:16:06.675Z"
   },
   {
    "duration": 772,
    "start_time": "2021-09-04T23:16:06.708Z"
   },
   {
    "duration": -867,
    "start_time": "2021-09-04T23:16:08.349Z"
   },
   {
    "duration": -878,
    "start_time": "2021-09-04T23:16:08.361Z"
   },
   {
    "duration": -885,
    "start_time": "2021-09-04T23:16:08.375Z"
   },
   {
    "duration": -889,
    "start_time": "2021-09-04T23:16:08.380Z"
   },
   {
    "duration": -899,
    "start_time": "2021-09-04T23:16:08.391Z"
   },
   {
    "duration": -1055,
    "start_time": "2021-09-04T23:16:08.548Z"
   },
   {
    "duration": -1067,
    "start_time": "2021-09-04T23:16:08.561Z"
   },
   {
    "duration": -1076,
    "start_time": "2021-09-04T23:16:08.571Z"
   },
   {
    "duration": -1081,
    "start_time": "2021-09-04T23:16:08.577Z"
   },
   {
    "duration": -1092,
    "start_time": "2021-09-04T23:16:08.589Z"
   },
   {
    "duration": 377,
    "start_time": "2021-09-04T23:16:17.972Z"
   },
   {
    "duration": 497,
    "start_time": "2021-09-04T23:18:00.658Z"
   },
   {
    "duration": 2023,
    "start_time": "2021-09-04T23:19:10.661Z"
   },
   {
    "duration": 598,
    "start_time": "2021-09-04T23:20:20.669Z"
   },
   {
    "duration": 250,
    "start_time": "2021-09-04T23:33:41.179Z"
   },
   {
    "duration": 27,
    "start_time": "2021-09-04T23:33:49.409Z"
   },
   {
    "duration": 78,
    "start_time": "2021-09-04T23:35:38.105Z"
   },
   {
    "duration": 32,
    "start_time": "2021-09-04T23:35:50.171Z"
   },
   {
    "duration": 27,
    "start_time": "2021-09-04T23:36:07.896Z"
   },
   {
    "duration": 19,
    "start_time": "2021-09-04T23:36:28.707Z"
   },
   {
    "duration": 6,
    "start_time": "2021-09-04T23:38:14.438Z"
   },
   {
    "duration": 506,
    "start_time": "2021-09-04T23:38:43.428Z"
   },
   {
    "duration": 511,
    "start_time": "2021-09-04T23:39:17.494Z"
   },
   {
    "duration": 532,
    "start_time": "2021-09-04T23:42:00.388Z"
   },
   {
    "duration": 530,
    "start_time": "2021-09-04T23:42:30.745Z"
   },
   {
    "duration": 4,
    "start_time": "2021-09-04T23:44:06.180Z"
   },
   {
    "duration": 435,
    "start_time": "2021-09-04T23:44:06.186Z"
   },
   {
    "duration": 19,
    "start_time": "2021-09-04T23:44:06.623Z"
   },
   {
    "duration": 97,
    "start_time": "2021-09-04T23:44:06.644Z"
   },
   {
    "duration": 8,
    "start_time": "2021-09-04T23:44:06.743Z"
   },
   {
    "duration": 20,
    "start_time": "2021-09-04T23:44:06.753Z"
   },
   {
    "duration": 75,
    "start_time": "2021-09-04T23:44:06.775Z"
   },
   {
    "duration": 7,
    "start_time": "2021-09-04T23:44:06.852Z"
   },
   {
    "duration": 35,
    "start_time": "2021-09-04T23:44:06.861Z"
   },
   {
    "duration": 46,
    "start_time": "2021-09-04T23:44:06.897Z"
   },
   {
    "duration": 123,
    "start_time": "2021-09-04T23:44:06.945Z"
   },
   {
    "duration": 22,
    "start_time": "2021-09-04T23:44:07.069Z"
   },
   {
    "duration": 18,
    "start_time": "2021-09-04T23:44:07.094Z"
   },
   {
    "duration": 13,
    "start_time": "2021-09-04T23:44:07.114Z"
   },
   {
    "duration": 10,
    "start_time": "2021-09-04T23:44:07.129Z"
   },
   {
    "duration": 5,
    "start_time": "2021-09-04T23:44:07.142Z"
   },
   {
    "duration": 120,
    "start_time": "2021-09-04T23:44:07.149Z"
   },
   {
    "duration": 280,
    "start_time": "2021-09-04T23:44:07.271Z"
   },
   {
    "duration": 176,
    "start_time": "2021-09-04T23:44:07.556Z"
   },
   {
    "duration": 32,
    "start_time": "2021-09-04T23:44:07.734Z"
   },
   {
    "duration": 27,
    "start_time": "2021-09-04T23:44:07.768Z"
   },
   {
    "duration": 7,
    "start_time": "2021-09-04T23:44:07.797Z"
   },
   {
    "duration": 8,
    "start_time": "2021-09-04T23:44:07.806Z"
   },
   {
    "duration": 31,
    "start_time": "2021-09-04T23:44:07.816Z"
   },
   {
    "duration": 86,
    "start_time": "2021-09-04T23:44:07.849Z"
   },
   {
    "duration": 20,
    "start_time": "2021-09-04T23:44:07.937Z"
   },
   {
    "duration": 9,
    "start_time": "2021-09-04T23:44:07.959Z"
   },
   {
    "duration": 65,
    "start_time": "2021-09-04T23:44:07.971Z"
   },
   {
    "duration": 53,
    "start_time": "2021-09-04T23:44:08.038Z"
   },
   {
    "duration": 29,
    "start_time": "2021-09-04T23:44:08.093Z"
   },
   {
    "duration": 492,
    "start_time": "2021-09-04T23:44:08.123Z"
   },
   {
    "duration": 370,
    "start_time": "2021-09-04T23:44:08.616Z"
   },
   {
    "duration": 355,
    "start_time": "2021-09-04T23:44:08.988Z"
   },
   {
    "duration": 641,
    "start_time": "2021-09-04T23:44:09.345Z"
   },
   {
    "duration": 272,
    "start_time": "2021-09-04T23:44:16.901Z"
   },
   {
    "duration": 14,
    "start_time": "2021-09-04T23:46:26.081Z"
   },
   {
    "duration": 6,
    "start_time": "2021-09-04T23:46:32.104Z"
   },
   {
    "duration": 623,
    "start_time": "2021-09-04T23:46:43.014Z"
   },
   {
    "duration": 610,
    "start_time": "2021-09-04T23:46:58.452Z"
   },
   {
    "duration": 11,
    "start_time": "2021-09-04T23:47:27.916Z"
   },
   {
    "duration": 724,
    "start_time": "2021-09-05T01:25:45.494Z"
   },
   {
    "duration": 500,
    "start_time": "2021-09-05T01:30:33.257Z"
   },
   {
    "duration": 95,
    "start_time": "2021-09-05T01:37:51.024Z"
   },
   {
    "duration": 355,
    "start_time": "2021-09-05T01:38:29.626Z"
   },
   {
    "duration": 356,
    "start_time": "2021-09-05T01:38:44.507Z"
   },
   {
    "duration": 347,
    "start_time": "2021-09-05T01:39:27.071Z"
   },
   {
    "duration": 370,
    "start_time": "2021-09-05T01:40:00.174Z"
   },
   {
    "duration": 593,
    "start_time": "2021-09-05T02:09:12.639Z"
   },
   {
    "duration": 495,
    "start_time": "2021-09-05T02:11:01.687Z"
   },
   {
    "duration": 522,
    "start_time": "2021-09-05T02:11:21.825Z"
   },
   {
    "duration": 1175,
    "start_time": "2021-09-05T02:11:28.865Z"
   },
   {
    "duration": 792,
    "start_time": "2021-09-05T02:11:34.701Z"
   },
   {
    "duration": 852,
    "start_time": "2021-09-05T03:01:29.101Z"
   },
   {
    "duration": 652,
    "start_time": "2021-09-05T03:07:02.209Z"
   },
   {
    "duration": 536,
    "start_time": "2021-09-05T03:10:15.493Z"
   },
   {
    "duration": 365,
    "start_time": "2021-09-05T03:14:00.324Z"
   },
   {
    "duration": 24,
    "start_time": "2021-09-05T03:29:35.953Z"
   },
   {
    "duration": 13,
    "start_time": "2021-09-05T03:30:48.657Z"
   },
   {
    "duration": 1170,
    "start_time": "2021-09-05T03:31:17.083Z"
   },
   {
    "duration": 412,
    "start_time": "2021-09-05T03:31:18.255Z"
   },
   {
    "duration": 20,
    "start_time": "2021-09-05T03:31:18.669Z"
   },
   {
    "duration": 107,
    "start_time": "2021-09-05T03:31:18.691Z"
   },
   {
    "duration": 7,
    "start_time": "2021-09-05T03:31:18.800Z"
   },
   {
    "duration": 18,
    "start_time": "2021-09-05T03:31:18.809Z"
   },
   {
    "duration": 84,
    "start_time": "2021-09-05T03:31:18.828Z"
   },
   {
    "duration": 7,
    "start_time": "2021-09-05T03:31:18.915Z"
   },
   {
    "duration": 16,
    "start_time": "2021-09-05T03:31:18.924Z"
   },
   {
    "duration": 63,
    "start_time": "2021-09-05T03:31:18.942Z"
   },
   {
    "duration": 8,
    "start_time": "2021-09-05T03:31:19.007Z"
   },
   {
    "duration": 14,
    "start_time": "2021-09-05T03:31:19.016Z"
   },
   {
    "duration": 18,
    "start_time": "2021-09-05T03:31:19.032Z"
   },
   {
    "duration": 7,
    "start_time": "2021-09-05T03:31:19.052Z"
   },
   {
    "duration": 19,
    "start_time": "2021-09-05T03:31:19.060Z"
   },
   {
    "duration": 18,
    "start_time": "2021-09-05T03:31:19.080Z"
   },
   {
    "duration": 76,
    "start_time": "2021-09-05T03:31:19.099Z"
   },
   {
    "duration": 179,
    "start_time": "2021-09-05T03:31:19.177Z"
   },
   {
    "duration": 114,
    "start_time": "2021-09-05T03:31:19.358Z"
   },
   {
    "duration": 25,
    "start_time": "2021-09-05T03:31:19.474Z"
   },
   {
    "duration": 8,
    "start_time": "2021-09-05T03:31:19.501Z"
   },
   {
    "duration": 6,
    "start_time": "2021-09-05T03:31:19.511Z"
   },
   {
    "duration": 7,
    "start_time": "2021-09-05T03:31:19.521Z"
   },
   {
    "duration": 41,
    "start_time": "2021-09-05T03:31:19.530Z"
   },
   {
    "duration": 49,
    "start_time": "2021-09-05T03:31:19.592Z"
   },
   {
    "duration": 21,
    "start_time": "2021-09-05T03:31:19.643Z"
   },
   {
    "duration": 31,
    "start_time": "2021-09-05T03:31:19.666Z"
   },
   {
    "duration": 43,
    "start_time": "2021-09-05T03:31:19.698Z"
   },
   {
    "duration": 53,
    "start_time": "2021-09-05T03:31:19.743Z"
   },
   {
    "duration": 25,
    "start_time": "2021-09-05T03:31:19.797Z"
   },
   {
    "duration": 379,
    "start_time": "2021-09-05T03:31:19.824Z"
   },
   {
    "duration": 629,
    "start_time": "2021-09-05T03:31:20.205Z"
   },
   {
    "duration": 367,
    "start_time": "2021-09-05T03:31:20.836Z"
   },
   {
    "duration": 555,
    "start_time": "2021-09-05T03:31:21.205Z"
   },
   {
    "duration": 356,
    "start_time": "2021-09-05T03:31:21.762Z"
   },
   {
    "duration": 557,
    "start_time": "2021-09-05T03:31:22.120Z"
   },
   {
    "duration": 23,
    "start_time": "2021-09-05T03:31:22.679Z"
   },
   {
    "duration": 542,
    "start_time": "2021-09-05T03:31:22.703Z"
   },
   {
    "duration": 525,
    "start_time": "2021-09-05T03:31:23.246Z"
   },
   {
    "duration": 621,
    "start_time": "2021-09-05T03:31:23.773Z"
   },
   {
    "duration": 8,
    "start_time": "2021-09-05T03:31:24.396Z"
   },
   {
    "duration": 8,
    "start_time": "2021-09-05T03:31:24.406Z"
   },
   {
    "duration": 7,
    "start_time": "2021-09-05T03:31:24.415Z"
   },
   {
    "duration": 778,
    "start_time": "2021-09-05T03:31:24.424Z"
   },
   {
    "duration": -769,
    "start_time": "2021-09-05T03:31:25.973Z"
   },
   {
    "duration": -771,
    "start_time": "2021-09-05T03:31:25.976Z"
   },
   {
    "duration": -775,
    "start_time": "2021-09-05T03:31:25.980Z"
   },
   {
    "duration": -777,
    "start_time": "2021-09-05T03:31:25.983Z"
   },
   {
    "duration": -779,
    "start_time": "2021-09-05T03:31:25.986Z"
   },
   {
    "duration": -781,
    "start_time": "2021-09-05T03:31:25.989Z"
   },
   {
    "duration": 27,
    "start_time": "2021-09-05T03:33:46.779Z"
   },
   {
    "duration": 5,
    "start_time": "2021-09-05T07:08:54.752Z"
   },
   {
    "duration": 89,
    "start_time": "2021-09-05T07:16:25.813Z"
   },
   {
    "duration": 264,
    "start_time": "2021-09-05T07:18:40.795Z"
   },
   {
    "duration": 7,
    "start_time": "2021-09-05T07:19:21.184Z"
   },
   {
    "duration": 7,
    "start_time": "2021-09-05T07:19:35.184Z"
   },
   {
    "duration": 83,
    "start_time": "2021-09-05T07:33:00.551Z"
   },
   {
    "duration": 76,
    "start_time": "2021-09-05T07:34:29.958Z"
   },
   {
    "duration": 86,
    "start_time": "2021-09-05T07:34:40.336Z"
   },
   {
    "duration": 94,
    "start_time": "2021-09-05T07:35:44.232Z"
   },
   {
    "duration": 242,
    "start_time": "2021-09-05T07:37:35.849Z"
   },
   {
    "duration": 238,
    "start_time": "2021-09-05T07:37:50.449Z"
   },
   {
    "duration": 323,
    "start_time": "2021-09-06T02:22:57.975Z"
   },
   {
    "duration": 1421,
    "start_time": "2021-09-06T02:23:31.661Z"
   },
   {
    "duration": 494,
    "start_time": "2021-09-06T02:23:33.085Z"
   },
   {
    "duration": 25,
    "start_time": "2021-09-06T02:23:33.582Z"
   },
   {
    "duration": 153,
    "start_time": "2021-09-06T02:23:33.610Z"
   },
   {
    "duration": 11,
    "start_time": "2021-09-06T02:23:33.765Z"
   },
   {
    "duration": 23,
    "start_time": "2021-09-06T02:23:33.783Z"
   },
   {
    "duration": 119,
    "start_time": "2021-09-06T02:23:33.808Z"
   },
   {
    "duration": 11,
    "start_time": "2021-09-06T02:23:33.930Z"
   },
   {
    "duration": 41,
    "start_time": "2021-09-06T02:23:33.943Z"
   },
   {
    "duration": 55,
    "start_time": "2021-09-06T02:23:33.986Z"
   },
   {
    "duration": 11,
    "start_time": "2021-09-06T02:23:34.043Z"
   },
   {
    "duration": 30,
    "start_time": "2021-09-06T02:23:34.056Z"
   },
   {
    "duration": 15,
    "start_time": "2021-09-06T02:23:34.088Z"
   },
   {
    "duration": 12,
    "start_time": "2021-09-06T02:23:34.105Z"
   },
   {
    "duration": 9,
    "start_time": "2021-09-06T02:23:34.119Z"
   },
   {
    "duration": 7,
    "start_time": "2021-09-06T02:23:34.130Z"
   },
   {
    "duration": 85,
    "start_time": "2021-09-06T02:23:34.183Z"
   },
   {
    "duration": 255,
    "start_time": "2021-09-06T02:23:34.270Z"
   },
   {
    "duration": 155,
    "start_time": "2021-09-06T02:23:34.527Z"
   },
   {
    "duration": 35,
    "start_time": "2021-09-06T02:23:34.684Z"
   },
   {
    "duration": 12,
    "start_time": "2021-09-06T02:23:34.721Z"
   },
   {
    "duration": 8,
    "start_time": "2021-09-06T02:23:34.736Z"
   },
   {
    "duration": 7,
    "start_time": "2021-09-06T02:23:34.781Z"
   },
   {
    "duration": 57,
    "start_time": "2021-09-06T02:23:34.791Z"
   },
   {
    "duration": 106,
    "start_time": "2021-09-06T02:23:34.850Z"
   },
   {
    "duration": 46,
    "start_time": "2021-09-06T02:23:34.959Z"
   },
   {
    "duration": 11,
    "start_time": "2021-09-06T02:23:35.007Z"
   },
   {
    "duration": 101,
    "start_time": "2021-09-06T02:23:35.020Z"
   },
   {
    "duration": 67,
    "start_time": "2021-09-06T02:23:35.123Z"
   },
   {
    "duration": 43,
    "start_time": "2021-09-06T02:23:35.192Z"
   },
   {
    "duration": 651,
    "start_time": "2021-09-06T02:23:35.238Z"
   },
   {
    "duration": 1049,
    "start_time": "2021-09-06T02:23:35.892Z"
   },
   {
    "duration": 599,
    "start_time": "2021-09-06T02:23:36.944Z"
   },
   {
    "duration": 870,
    "start_time": "2021-09-06T02:23:37.546Z"
   },
   {
    "duration": 586,
    "start_time": "2021-09-06T02:23:38.419Z"
   },
   {
    "duration": 874,
    "start_time": "2021-09-06T02:23:39.008Z"
   },
   {
    "duration": 35,
    "start_time": "2021-09-06T02:23:39.884Z"
   },
   {
    "duration": 813,
    "start_time": "2021-09-06T02:23:39.921Z"
   },
   {
    "duration": 801,
    "start_time": "2021-09-06T02:23:40.736Z"
   },
   {
    "duration": 766,
    "start_time": "2021-09-06T02:23:42.441Z"
   },
   {
    "duration": 26,
    "start_time": "2021-09-06T02:23:43.209Z"
   },
   {
    "duration": 111,
    "start_time": "2021-09-06T02:24:59.823Z"
   },
   {
    "duration": 30,
    "start_time": "2021-09-06T02:25:52.882Z"
   },
   {
    "duration": 30,
    "start_time": "2021-09-06T02:28:21.439Z"
   },
   {
    "duration": 316,
    "start_time": "2021-09-06T02:28:39.929Z"
   },
   {
    "duration": 238,
    "start_time": "2021-09-06T02:28:49.067Z"
   },
   {
    "duration": 47,
    "start_time": "2021-09-06T02:29:13.300Z"
   },
   {
    "duration": 6,
    "start_time": "2021-09-06T02:29:31.070Z"
   },
   {
    "duration": 524,
    "start_time": "2021-09-06T02:29:31.078Z"
   },
   {
    "duration": 41,
    "start_time": "2021-09-06T02:29:31.606Z"
   },
   {
    "duration": 139,
    "start_time": "2021-09-06T02:29:31.656Z"
   },
   {
    "duration": 12,
    "start_time": "2021-09-06T02:29:31.799Z"
   },
   {
    "duration": 23,
    "start_time": "2021-09-06T02:29:31.814Z"
   },
   {
    "duration": 121,
    "start_time": "2021-09-06T02:29:31.843Z"
   },
   {
    "duration": 22,
    "start_time": "2021-09-06T02:29:31.968Z"
   },
   {
    "duration": 22,
    "start_time": "2021-09-06T02:29:31.993Z"
   },
   {
    "duration": 88,
    "start_time": "2021-09-06T02:29:32.018Z"
   },
   {
    "duration": 13,
    "start_time": "2021-09-06T02:29:32.109Z"
   },
   {
    "duration": 20,
    "start_time": "2021-09-06T02:29:32.125Z"
   },
   {
    "duration": 36,
    "start_time": "2021-09-06T02:29:32.148Z"
   },
   {
    "duration": 16,
    "start_time": "2021-09-06T02:29:32.187Z"
   },
   {
    "duration": 15,
    "start_time": "2021-09-06T02:29:32.205Z"
   },
   {
    "duration": 27,
    "start_time": "2021-09-06T02:29:32.222Z"
   },
   {
    "duration": 92,
    "start_time": "2021-09-06T02:29:32.251Z"
   },
   {
    "duration": 243,
    "start_time": "2021-09-06T02:29:32.346Z"
   },
   {
    "duration": 161,
    "start_time": "2021-09-06T02:29:32.594Z"
   },
   {
    "duration": 45,
    "start_time": "2021-09-06T02:29:32.758Z"
   },
   {
    "duration": 13,
    "start_time": "2021-09-06T02:29:32.805Z"
   },
   {
    "duration": 8,
    "start_time": "2021-09-06T02:29:32.820Z"
   },
   {
    "duration": 7,
    "start_time": "2021-09-06T02:29:32.831Z"
   },
   {
    "duration": 82,
    "start_time": "2021-09-06T02:29:32.840Z"
   },
   {
    "duration": 91,
    "start_time": "2021-09-06T02:29:32.924Z"
   },
   {
    "duration": 29,
    "start_time": "2021-09-06T02:29:33.018Z"
   },
   {
    "duration": 8,
    "start_time": "2021-09-06T02:29:33.049Z"
   },
   {
    "duration": 89,
    "start_time": "2021-09-06T02:29:33.058Z"
   },
   {
    "duration": 72,
    "start_time": "2021-09-06T02:29:33.149Z"
   },
   {
    "duration": 39,
    "start_time": "2021-09-06T02:29:33.224Z"
   },
   {
    "duration": 626,
    "start_time": "2021-09-06T02:29:33.265Z"
   },
   {
    "duration": 995,
    "start_time": "2021-09-06T02:29:33.894Z"
   },
   {
    "duration": 631,
    "start_time": "2021-09-06T02:29:34.893Z"
   },
   {
    "duration": 925,
    "start_time": "2021-09-06T02:29:35.527Z"
   },
   {
    "duration": 583,
    "start_time": "2021-09-06T02:29:36.456Z"
   },
   {
    "duration": 956,
    "start_time": "2021-09-06T02:29:37.042Z"
   },
   {
    "duration": 38,
    "start_time": "2021-09-06T02:29:38.002Z"
   },
   {
    "duration": 800,
    "start_time": "2021-09-06T02:29:38.044Z"
   },
   {
    "duration": 801,
    "start_time": "2021-09-06T02:29:38.847Z"
   },
   {
    "duration": 799,
    "start_time": "2021-09-06T02:29:40.544Z"
   },
   {
    "duration": 57,
    "start_time": "2021-09-06T02:29:41.346Z"
   },
   {
    "duration": 20026,
    "start_time": "2021-09-06T02:35:45.004Z"
   },
   {
    "duration": 9,
    "start_time": "2021-09-06T02:36:12.739Z"
   },
   {
    "duration": 546,
    "start_time": "2021-09-06T02:36:12.751Z"
   },
   {
    "duration": 25,
    "start_time": "2021-09-06T02:36:13.300Z"
   },
   {
    "duration": 133,
    "start_time": "2021-09-06T02:36:13.329Z"
   },
   {
    "duration": 19,
    "start_time": "2021-09-06T02:36:13.465Z"
   },
   {
    "duration": 22,
    "start_time": "2021-09-06T02:36:13.486Z"
   },
   {
    "duration": 120,
    "start_time": "2021-09-06T02:36:13.511Z"
   },
   {
    "duration": 10,
    "start_time": "2021-09-06T02:36:13.636Z"
   },
   {
    "duration": 35,
    "start_time": "2021-09-06T02:36:13.649Z"
   },
   {
    "duration": 59,
    "start_time": "2021-09-06T02:36:13.686Z"
   },
   {
    "duration": 11,
    "start_time": "2021-09-06T02:36:13.748Z"
   },
   {
    "duration": 28,
    "start_time": "2021-09-06T02:36:13.761Z"
   },
   {
    "duration": 15,
    "start_time": "2021-09-06T02:36:13.791Z"
   },
   {
    "duration": 12,
    "start_time": "2021-09-06T02:36:13.808Z"
   },
   {
    "duration": 11,
    "start_time": "2021-09-06T02:36:13.822Z"
   },
   {
    "duration": 49,
    "start_time": "2021-09-06T02:36:13.835Z"
   },
   {
    "duration": 95,
    "start_time": "2021-09-06T02:36:13.887Z"
   },
   {
    "duration": 247,
    "start_time": "2021-09-06T02:36:13.984Z"
   },
   {
    "duration": 153,
    "start_time": "2021-09-06T02:36:14.234Z"
   },
   {
    "duration": 30,
    "start_time": "2021-09-06T02:36:14.390Z"
   },
   {
    "duration": 12,
    "start_time": "2021-09-06T02:36:14.423Z"
   },
   {
    "duration": 9,
    "start_time": "2021-09-06T02:36:14.438Z"
   },
   {
    "duration": 8,
    "start_time": "2021-09-06T02:36:14.485Z"
   },
   {
    "duration": 49,
    "start_time": "2021-09-06T02:36:14.496Z"
   },
   {
    "duration": 105,
    "start_time": "2021-09-06T02:36:14.547Z"
   },
   {
    "duration": 44,
    "start_time": "2021-09-06T02:36:14.655Z"
   },
   {
    "duration": 14,
    "start_time": "2021-09-06T02:36:14.702Z"
   },
   {
    "duration": 100,
    "start_time": "2021-09-06T02:36:14.718Z"
   },
   {
    "duration": 65,
    "start_time": "2021-09-06T02:36:14.820Z"
   },
   {
    "duration": 41,
    "start_time": "2021-09-06T02:36:14.888Z"
   },
   {
    "duration": 654,
    "start_time": "2021-09-06T02:36:14.932Z"
   },
   {
    "duration": 894,
    "start_time": "2021-09-06T02:36:15.588Z"
   },
   {
    "duration": 610,
    "start_time": "2021-09-06T02:36:16.484Z"
   },
   {
    "duration": 977,
    "start_time": "2021-09-06T02:36:17.096Z"
   },
   {
    "duration": 598,
    "start_time": "2021-09-06T02:36:18.075Z"
   },
   {
    "duration": 887,
    "start_time": "2021-09-06T02:36:18.683Z"
   },
   {
    "duration": 40,
    "start_time": "2021-09-06T02:36:19.572Z"
   },
   {
    "duration": 781,
    "start_time": "2021-09-06T02:36:19.615Z"
   },
   {
    "duration": 1132,
    "start_time": "2021-09-06T02:36:20.399Z"
   },
   {
    "duration": 794,
    "start_time": "2021-09-06T02:36:21.534Z"
   },
   {
    "duration": 56,
    "start_time": "2021-09-06T02:36:22.330Z"
   },
   {
    "duration": 47,
    "start_time": "2021-09-06T02:36:30.824Z"
   },
   {
    "duration": 60221,
    "start_time": "2021-09-06T02:36:33.296Z"
   },
   {
    "duration": 46,
    "start_time": "2021-09-06T05:32:52.908Z"
   },
   {
    "duration": 47,
    "start_time": "2021-09-06T05:33:03.835Z"
   },
   {
    "duration": 28,
    "start_time": "2021-09-06T05:33:26.072Z"
   },
   {
    "duration": 34,
    "start_time": "2021-09-06T05:33:42.169Z"
   },
   {
    "duration": 34,
    "start_time": "2021-09-06T05:36:34.298Z"
   },
   {
    "duration": 64,
    "start_time": "2021-09-06T05:36:47.673Z"
   },
   {
    "duration": 44,
    "start_time": "2021-09-06T05:37:01.894Z"
   },
   {
    "duration": 42,
    "start_time": "2021-09-06T05:39:05.062Z"
   },
   {
    "duration": 1041,
    "start_time": "2021-09-06T20:00:57.096Z"
   },
   {
    "duration": 830,
    "start_time": "2021-09-06T20:01:06.957Z"
   },
   {
    "duration": 542,
    "start_time": "2021-09-06T20:01:07.791Z"
   },
   {
    "duration": 29,
    "start_time": "2021-09-06T20:01:08.336Z"
   },
   {
    "duration": 158,
    "start_time": "2021-09-06T20:01:08.368Z"
   },
   {
    "duration": 12,
    "start_time": "2021-09-06T20:01:08.528Z"
   },
   {
    "duration": 47,
    "start_time": "2021-09-06T20:01:08.543Z"
   },
   {
    "duration": 133,
    "start_time": "2021-09-06T20:01:08.593Z"
   },
   {
    "duration": 25,
    "start_time": "2021-09-06T20:01:08.730Z"
   },
   {
    "duration": 32,
    "start_time": "2021-09-06T20:01:08.759Z"
   },
   {
    "duration": 102,
    "start_time": "2021-09-06T20:01:08.794Z"
   },
   {
    "duration": 18,
    "start_time": "2021-09-06T20:01:08.899Z"
   },
   {
    "duration": 20,
    "start_time": "2021-09-06T20:01:08.920Z"
   },
   {
    "duration": 18,
    "start_time": "2021-09-06T20:01:08.955Z"
   },
   {
    "duration": 19,
    "start_time": "2021-09-06T20:01:08.975Z"
   },
   {
    "duration": 10,
    "start_time": "2021-09-06T20:01:08.997Z"
   },
   {
    "duration": 8,
    "start_time": "2021-09-06T20:01:09.009Z"
   },
   {
    "duration": 120,
    "start_time": "2021-09-06T20:01:09.020Z"
   },
   {
    "duration": 328,
    "start_time": "2021-09-06T20:01:09.142Z"
   },
   {
    "duration": 161,
    "start_time": "2021-09-06T20:01:09.472Z"
   },
   {
    "duration": 44,
    "start_time": "2021-09-06T20:01:09.635Z"
   },
   {
    "duration": 13,
    "start_time": "2021-09-06T20:01:09.681Z"
   },
   {
    "duration": 9,
    "start_time": "2021-09-06T20:01:09.696Z"
   },
   {
    "duration": 44,
    "start_time": "2021-09-06T20:01:09.710Z"
   },
   {
    "duration": 59,
    "start_time": "2021-09-06T20:01:09.757Z"
   },
   {
    "duration": 98,
    "start_time": "2021-09-06T20:01:09.818Z"
   },
   {
    "duration": 47,
    "start_time": "2021-09-06T20:01:09.920Z"
   },
   {
    "duration": 8,
    "start_time": "2021-09-06T20:01:09.969Z"
   },
   {
    "duration": 93,
    "start_time": "2021-09-06T20:01:09.979Z"
   },
   {
    "duration": 62,
    "start_time": "2021-09-06T20:01:10.074Z"
   },
   {
    "duration": 53,
    "start_time": "2021-09-06T20:01:10.154Z"
   },
   {
    "duration": 639,
    "start_time": "2021-09-06T20:01:10.209Z"
   },
   {
    "duration": 989,
    "start_time": "2021-09-06T20:01:10.855Z"
   },
   {
    "duration": 636,
    "start_time": "2021-09-06T20:01:11.846Z"
   },
   {
    "duration": 958,
    "start_time": "2021-09-06T20:01:12.485Z"
   },
   {
    "duration": 712,
    "start_time": "2021-09-06T20:01:13.446Z"
   },
   {
    "duration": 964,
    "start_time": "2021-09-06T20:01:14.160Z"
   },
   {
    "duration": 49,
    "start_time": "2021-09-06T20:01:15.126Z"
   },
   {
    "duration": 937,
    "start_time": "2021-09-06T20:01:15.177Z"
   },
   {
    "duration": 932,
    "start_time": "2021-09-06T20:01:16.117Z"
   },
   {
    "duration": 957,
    "start_time": "2021-09-06T20:01:17.054Z"
   },
   {
    "duration": 41,
    "start_time": "2021-09-06T20:01:18.074Z"
   },
   {
    "duration": 314,
    "start_time": "2021-09-06T20:01:18.117Z"
   },
   {
    "duration": 7,
    "start_time": "2021-09-06T20:02:35.956Z"
   },
   {
    "duration": 8,
    "start_time": "2021-09-06T20:32:12.728Z"
   },
   {
    "duration": 8,
    "start_time": "2021-09-06T20:32:15.602Z"
   },
   {
    "duration": 8,
    "start_time": "2021-09-06T20:43:45.835Z"
   },
   {
    "duration": 17,
    "start_time": "2021-09-06T20:44:53.979Z"
   },
   {
    "duration": 31,
    "start_time": "2021-09-06T20:45:09.059Z"
   },
   {
    "duration": 31,
    "start_time": "2021-09-06T20:46:25.503Z"
   },
   {
    "duration": 49,
    "start_time": "2021-09-06T20:46:30.977Z"
   },
   {
    "duration": 36,
    "start_time": "2021-09-06T20:49:21.665Z"
   },
   {
    "duration": 36,
    "start_time": "2021-09-06T20:57:08.562Z"
   },
   {
    "duration": 9,
    "start_time": "2021-09-06T20:57:08.600Z"
   },
   {
    "duration": 8,
    "start_time": "2021-09-06T20:57:08.612Z"
   },
   {
    "duration": 34,
    "start_time": "2021-09-06T20:57:08.622Z"
   },
   {
    "duration": 8,
    "start_time": "2021-09-06T20:58:20.041Z"
   },
   {
    "duration": 11,
    "start_time": "2021-09-06T21:11:58.406Z"
   },
   {
    "duration": 11,
    "start_time": "2021-09-06T21:12:28.642Z"
   },
   {
    "duration": 11,
    "start_time": "2021-09-06T21:12:54.684Z"
   },
   {
    "duration": 35,
    "start_time": "2021-09-06T21:13:38.264Z"
   },
   {
    "duration": 15,
    "start_time": "2021-09-06T21:14:19.606Z"
   },
   {
    "duration": 9,
    "start_time": "2021-09-06T21:14:58.646Z"
   },
   {
    "duration": 11,
    "start_time": "2021-09-06T22:08:51.463Z"
   },
   {
    "duration": 17,
    "start_time": "2021-09-06T22:30:56.373Z"
   },
   {
    "duration": 19,
    "start_time": "2021-09-06T23:05:01.474Z"
   },
   {
    "duration": 92,
    "start_time": "2021-09-06T23:25:54.557Z"
   },
   {
    "duration": 1335,
    "start_time": "2021-09-06T23:26:16.041Z"
   },
   {
    "duration": 907,
    "start_time": "2021-09-06T23:26:45.538Z"
   },
   {
    "duration": 276,
    "start_time": "2021-09-06T23:34:51.760Z"
   },
   {
    "duration": 276,
    "start_time": "2021-09-06T23:35:15.983Z"
   },
   {
    "duration": 272,
    "start_time": "2021-09-06T23:36:10.279Z"
   },
   {
    "duration": 266,
    "start_time": "2021-09-06T23:36:56.726Z"
   },
   {
    "duration": 42,
    "start_time": "2021-09-06T23:37:29.441Z"
   },
   {
    "duration": 77,
    "start_time": "2021-09-06T23:44:10.151Z"
   },
   {
    "duration": 96,
    "start_time": "2021-09-06T23:45:06.977Z"
   },
   {
    "duration": 78,
    "start_time": "2021-09-06T23:45:15.351Z"
   },
   {
    "duration": 43,
    "start_time": "2021-09-06T23:46:42.841Z"
   },
   {
    "duration": 31,
    "start_time": "2021-09-07T03:33:57.606Z"
   },
   {
    "duration": 25,
    "start_time": "2021-09-07T03:35:26.719Z"
   },
   {
    "duration": 42,
    "start_time": "2021-09-07T03:38:54.701Z"
   },
   {
    "duration": 44,
    "start_time": "2021-09-07T03:40:50.444Z"
   },
   {
    "duration": 9,
    "start_time": "2021-09-07T04:47:55.121Z"
   },
   {
    "duration": 806,
    "start_time": "2021-09-07T05:02:52.158Z"
   },
   {
    "duration": 813,
    "start_time": "2021-09-07T05:06:47.528Z"
   },
   {
    "duration": 12,
    "start_time": "2021-09-07T05:22:28.394Z"
   },
   {
    "duration": 12,
    "start_time": "2021-09-07T05:22:35.151Z"
   },
   {
    "duration": 13,
    "start_time": "2021-09-07T05:22:57.730Z"
   },
   {
    "duration": 676,
    "start_time": "2021-09-07T05:28:34.600Z"
   },
   {
    "duration": 18,
    "start_time": "2021-09-07T05:30:25.646Z"
   },
   {
    "duration": 6,
    "start_time": "2021-09-07T05:32:36.036Z"
   },
   {
    "duration": 559,
    "start_time": "2021-09-07T05:32:36.045Z"
   },
   {
    "duration": 27,
    "start_time": "2021-09-07T05:32:36.607Z"
   },
   {
    "duration": 154,
    "start_time": "2021-09-07T05:32:36.637Z"
   },
   {
    "duration": 10,
    "start_time": "2021-09-07T05:32:36.794Z"
   },
   {
    "duration": 45,
    "start_time": "2021-09-07T05:32:36.807Z"
   },
   {
    "duration": 102,
    "start_time": "2021-09-07T05:32:36.855Z"
   },
   {
    "duration": 10,
    "start_time": "2021-09-07T05:32:36.960Z"
   },
   {
    "duration": 35,
    "start_time": "2021-09-07T05:32:36.973Z"
   },
   {
    "duration": 78,
    "start_time": "2021-09-07T05:32:37.011Z"
   },
   {
    "duration": 13,
    "start_time": "2021-09-07T05:32:37.092Z"
   },
   {
    "duration": 31,
    "start_time": "2021-09-07T05:32:37.107Z"
   },
   {
    "duration": 42,
    "start_time": "2021-09-07T05:32:37.140Z"
   },
   {
    "duration": 39,
    "start_time": "2021-09-07T05:32:37.184Z"
   },
   {
    "duration": 20,
    "start_time": "2021-09-07T05:32:37.226Z"
   },
   {
    "duration": 100,
    "start_time": "2021-09-07T05:32:37.249Z"
   },
   {
    "duration": 265,
    "start_time": "2021-09-07T05:32:37.352Z"
   },
   {
    "duration": 179,
    "start_time": "2021-09-07T05:32:37.620Z"
   },
   {
    "duration": 31,
    "start_time": "2021-09-07T05:32:37.804Z"
   },
   {
    "duration": 25,
    "start_time": "2021-09-07T05:32:37.839Z"
   },
   {
    "duration": 8,
    "start_time": "2021-09-07T05:32:37.866Z"
   },
   {
    "duration": 13,
    "start_time": "2021-09-07T05:32:37.877Z"
   },
   {
    "duration": 82,
    "start_time": "2021-09-07T05:32:37.893Z"
   },
   {
    "duration": 33,
    "start_time": "2021-09-07T05:32:37.978Z"
   },
   {
    "duration": 45,
    "start_time": "2021-09-07T05:32:38.014Z"
   },
   {
    "duration": 50,
    "start_time": "2021-09-07T05:32:38.062Z"
   },
   {
    "duration": 647,
    "start_time": "2021-09-07T05:32:38.115Z"
   },
   {
    "duration": 969,
    "start_time": "2021-09-07T05:32:38.764Z"
   },
   {
    "duration": 735,
    "start_time": "2021-09-07T05:32:39.735Z"
   },
   {
    "duration": 1032,
    "start_time": "2021-09-07T05:32:40.473Z"
   },
   {
    "duration": 594,
    "start_time": "2021-09-07T05:32:41.508Z"
   },
   {
    "duration": 954,
    "start_time": "2021-09-07T05:32:42.105Z"
   },
   {
    "duration": 38,
    "start_time": "2021-09-07T05:32:43.061Z"
   },
   {
    "duration": 833,
    "start_time": "2021-09-07T05:32:43.101Z"
   },
   {
    "duration": 818,
    "start_time": "2021-09-07T05:32:43.937Z"
   },
   {
    "duration": 87,
    "start_time": "2021-09-07T05:32:44.758Z"
   },
   {
    "duration": -1287,
    "start_time": "2021-09-07T05:32:46.135Z"
   },
   {
    "duration": -1293,
    "start_time": "2021-09-07T05:32:46.143Z"
   },
   {
    "duration": -1299,
    "start_time": "2021-09-07T05:32:46.150Z"
   },
   {
    "duration": -1303,
    "start_time": "2021-09-07T05:32:46.156Z"
   },
   {
    "duration": -1308,
    "start_time": "2021-09-07T05:32:46.163Z"
   },
   {
    "duration": 1441,
    "start_time": "2021-09-07T05:34:05.182Z"
   },
   {
    "duration": 535,
    "start_time": "2021-09-07T05:34:06.625Z"
   },
   {
    "duration": 27,
    "start_time": "2021-09-07T05:34:07.163Z"
   },
   {
    "duration": 156,
    "start_time": "2021-09-07T05:34:07.194Z"
   },
   {
    "duration": 12,
    "start_time": "2021-09-07T05:34:07.355Z"
   },
   {
    "duration": 53,
    "start_time": "2021-09-07T05:34:07.369Z"
   },
   {
    "duration": 106,
    "start_time": "2021-09-07T05:34:07.425Z"
   },
   {
    "duration": 10,
    "start_time": "2021-09-07T05:34:07.535Z"
   },
   {
    "duration": 37,
    "start_time": "2021-09-07T05:34:07.556Z"
   },
   {
    "duration": 61,
    "start_time": "2021-09-07T05:34:07.595Z"
   },
   {
    "duration": 11,
    "start_time": "2021-09-07T05:34:07.659Z"
   },
   {
    "duration": 30,
    "start_time": "2021-09-07T05:34:07.672Z"
   },
   {
    "duration": 22,
    "start_time": "2021-09-07T05:34:07.704Z"
   },
   {
    "duration": 29,
    "start_time": "2021-09-07T05:34:07.729Z"
   },
   {
    "duration": 26,
    "start_time": "2021-09-07T05:34:07.761Z"
   },
   {
    "duration": 89,
    "start_time": "2021-09-07T05:34:07.789Z"
   },
   {
    "duration": 254,
    "start_time": "2021-09-07T05:34:07.881Z"
   },
   {
    "duration": 161,
    "start_time": "2021-09-07T05:34:08.138Z"
   },
   {
    "duration": 35,
    "start_time": "2021-09-07T05:34:08.301Z"
   },
   {
    "duration": 26,
    "start_time": "2021-09-07T05:34:08.338Z"
   },
   {
    "duration": 21,
    "start_time": "2021-09-07T05:34:08.366Z"
   },
   {
    "duration": 15,
    "start_time": "2021-09-07T05:34:08.389Z"
   },
   {
    "duration": 68,
    "start_time": "2021-09-07T05:34:08.409Z"
   },
   {
    "duration": 32,
    "start_time": "2021-09-07T05:34:08.480Z"
   },
   {
    "duration": 44,
    "start_time": "2021-09-07T05:34:08.515Z"
   },
   {
    "duration": 47,
    "start_time": "2021-09-07T05:34:08.562Z"
   },
   {
    "duration": 660,
    "start_time": "2021-09-07T05:34:08.612Z"
   },
   {
    "duration": 1108,
    "start_time": "2021-09-07T05:34:09.274Z"
   },
   {
    "duration": 609,
    "start_time": "2021-09-07T05:34:10.385Z"
   },
   {
    "duration": 928,
    "start_time": "2021-09-07T05:34:10.996Z"
   },
   {
    "duration": 601,
    "start_time": "2021-09-07T05:34:11.927Z"
   },
   {
    "duration": 923,
    "start_time": "2021-09-07T05:34:12.531Z"
   },
   {
    "duration": 37,
    "start_time": "2021-09-07T05:34:13.456Z"
   },
   {
    "duration": 824,
    "start_time": "2021-09-07T05:34:13.496Z"
   },
   {
    "duration": 802,
    "start_time": "2021-09-07T05:34:14.323Z"
   },
   {
    "duration": 888,
    "start_time": "2021-09-07T05:34:15.128Z"
   },
   {
    "duration": 804,
    "start_time": "2021-09-07T05:34:16.019Z"
   },
   {
    "duration": 7,
    "start_time": "2021-09-07T05:34:16.826Z"
   },
   {
    "duration": 613,
    "start_time": "2021-09-07T05:34:16.835Z"
   },
   {
    "duration": 17,
    "start_time": "2021-09-07T05:34:17.455Z"
   },
   {
    "duration": 389,
    "start_time": "2021-09-07T05:41:25.596Z"
   },
   {
    "duration": 1450,
    "start_time": "2021-09-07T05:41:46.448Z"
   },
   {
    "duration": 525,
    "start_time": "2021-09-07T05:41:47.900Z"
   },
   {
    "duration": 26,
    "start_time": "2021-09-07T05:41:48.428Z"
   },
   {
    "duration": 141,
    "start_time": "2021-09-07T05:41:48.457Z"
   },
   {
    "duration": 16,
    "start_time": "2021-09-07T05:41:48.601Z"
   },
   {
    "duration": 42,
    "start_time": "2021-09-07T05:41:48.620Z"
   },
   {
    "duration": 118,
    "start_time": "2021-09-07T05:41:48.664Z"
   },
   {
    "duration": 9,
    "start_time": "2021-09-07T05:41:48.786Z"
   },
   {
    "duration": 25,
    "start_time": "2021-09-07T05:41:48.798Z"
   },
   {
    "duration": 84,
    "start_time": "2021-09-07T05:41:48.825Z"
   },
   {
    "duration": 12,
    "start_time": "2021-09-07T05:41:48.912Z"
   },
   {
    "duration": 29,
    "start_time": "2021-09-07T05:41:48.926Z"
   },
   {
    "duration": 17,
    "start_time": "2021-09-07T05:41:48.958Z"
   },
   {
    "duration": 19,
    "start_time": "2021-09-07T05:41:48.978Z"
   },
   {
    "duration": 26,
    "start_time": "2021-09-07T05:41:49.000Z"
   },
   {
    "duration": 90,
    "start_time": "2021-09-07T05:41:49.029Z"
   },
   {
    "duration": 254,
    "start_time": "2021-09-07T05:41:49.122Z"
   },
   {
    "duration": 166,
    "start_time": "2021-09-07T05:41:49.378Z"
   },
   {
    "duration": 40,
    "start_time": "2021-09-07T05:41:49.547Z"
   },
   {
    "duration": 14,
    "start_time": "2021-09-07T05:41:49.589Z"
   },
   {
    "duration": 8,
    "start_time": "2021-09-07T05:41:49.605Z"
   },
   {
    "duration": 38,
    "start_time": "2021-09-07T05:41:49.616Z"
   },
   {
    "duration": 65,
    "start_time": "2021-09-07T05:41:49.659Z"
   },
   {
    "duration": 50,
    "start_time": "2021-09-07T05:41:49.726Z"
   },
   {
    "duration": 25,
    "start_time": "2021-09-07T05:41:49.778Z"
   },
   {
    "duration": 66,
    "start_time": "2021-09-07T05:41:49.805Z"
   },
   {
    "duration": 642,
    "start_time": "2021-09-07T05:41:49.873Z"
   },
   {
    "duration": 1003,
    "start_time": "2021-09-07T05:41:50.518Z"
   },
   {
    "duration": 629,
    "start_time": "2021-09-07T05:41:51.524Z"
   },
   {
    "duration": 956,
    "start_time": "2021-09-07T05:41:52.156Z"
   },
   {
    "duration": 633,
    "start_time": "2021-09-07T05:41:53.115Z"
   },
   {
    "duration": 954,
    "start_time": "2021-09-07T05:41:53.754Z"
   },
   {
    "duration": 50,
    "start_time": "2021-09-07T05:41:54.711Z"
   },
   {
    "duration": 778,
    "start_time": "2021-09-07T05:41:54.764Z"
   },
   {
    "duration": 813,
    "start_time": "2021-09-07T05:41:55.544Z"
   },
   {
    "duration": 885,
    "start_time": "2021-09-07T05:41:56.359Z"
   },
   {
    "duration": 800,
    "start_time": "2021-09-07T05:41:57.254Z"
   },
   {
    "duration": 9,
    "start_time": "2021-09-07T05:41:58.057Z"
   },
   {
    "duration": 607,
    "start_time": "2021-09-07T05:41:58.069Z"
   },
   {
    "duration": 18,
    "start_time": "2021-09-07T05:41:58.678Z"
   },
   {
    "duration": 1510,
    "start_time": "2021-09-07T06:29:30.432Z"
   },
   {
    "duration": 524,
    "start_time": "2021-09-07T06:29:31.944Z"
   },
   {
    "duration": 26,
    "start_time": "2021-09-07T06:29:32.471Z"
   },
   {
    "duration": 150,
    "start_time": "2021-09-07T06:29:32.500Z"
   },
   {
    "duration": 13,
    "start_time": "2021-09-07T06:29:32.654Z"
   },
   {
    "duration": 28,
    "start_time": "2021-09-07T06:29:32.670Z"
   },
   {
    "duration": 128,
    "start_time": "2021-09-07T06:29:32.701Z"
   },
   {
    "duration": 11,
    "start_time": "2021-09-07T06:29:32.831Z"
   },
   {
    "duration": 24,
    "start_time": "2021-09-07T06:29:32.854Z"
   },
   {
    "duration": 82,
    "start_time": "2021-09-07T06:29:32.882Z"
   },
   {
    "duration": 12,
    "start_time": "2021-09-07T06:29:32.967Z"
   },
   {
    "duration": 21,
    "start_time": "2021-09-07T06:29:32.982Z"
   },
   {
    "duration": 36,
    "start_time": "2021-09-07T06:29:33.005Z"
   },
   {
    "duration": 36,
    "start_time": "2021-09-07T06:29:33.043Z"
   },
   {
    "duration": 21,
    "start_time": "2021-09-07T06:29:33.082Z"
   },
   {
    "duration": 96,
    "start_time": "2021-09-07T06:29:33.106Z"
   },
   {
    "duration": 276,
    "start_time": "2021-09-07T06:29:33.204Z"
   },
   {
    "duration": 159,
    "start_time": "2021-09-07T06:29:33.482Z"
   },
   {
    "duration": 45,
    "start_time": "2021-09-07T06:29:33.643Z"
   },
   {
    "duration": 12,
    "start_time": "2021-09-07T06:29:33.691Z"
   },
   {
    "duration": 9,
    "start_time": "2021-09-07T06:29:33.706Z"
   },
   {
    "duration": 41,
    "start_time": "2021-09-07T06:29:33.717Z"
   },
   {
    "duration": 71,
    "start_time": "2021-09-07T06:29:33.760Z"
   },
   {
    "duration": 47,
    "start_time": "2021-09-07T06:29:33.834Z"
   },
   {
    "duration": 30,
    "start_time": "2021-09-07T06:29:33.883Z"
   },
   {
    "duration": 66,
    "start_time": "2021-09-07T06:29:33.916Z"
   },
   {
    "duration": 767,
    "start_time": "2021-09-07T06:29:33.987Z"
   },
   {
    "duration": 1043,
    "start_time": "2021-09-07T06:29:34.757Z"
   },
   {
    "duration": 660,
    "start_time": "2021-09-07T06:29:35.803Z"
   },
   {
    "duration": 993,
    "start_time": "2021-09-07T06:29:36.465Z"
   },
   {
    "duration": 633,
    "start_time": "2021-09-07T06:29:37.462Z"
   },
   {
    "duration": 1022,
    "start_time": "2021-09-07T06:29:38.098Z"
   },
   {
    "duration": 64,
    "start_time": "2021-09-07T06:29:39.123Z"
   },
   {
    "duration": 896,
    "start_time": "2021-09-07T06:29:39.190Z"
   },
   {
    "duration": 806,
    "start_time": "2021-09-07T06:29:40.089Z"
   },
   {
    "duration": 914,
    "start_time": "2021-09-07T06:29:40.897Z"
   },
   {
    "duration": 824,
    "start_time": "2021-09-07T06:29:41.813Z"
   },
   {
    "duration": 18,
    "start_time": "2021-09-07T06:29:42.639Z"
   },
   {
    "duration": 634,
    "start_time": "2021-09-07T06:29:42.660Z"
   },
   {
    "duration": 19,
    "start_time": "2021-09-07T06:29:43.298Z"
   },
   {
    "duration": 1508,
    "start_time": "2021-09-07T06:30:51.425Z"
   },
   {
    "duration": 537,
    "start_time": "2021-09-07T06:30:52.935Z"
   },
   {
    "duration": 29,
    "start_time": "2021-09-07T06:30:53.476Z"
   },
   {
    "duration": 161,
    "start_time": "2021-09-07T06:30:53.508Z"
   },
   {
    "duration": 11,
    "start_time": "2021-09-07T06:30:53.672Z"
   },
   {
    "duration": 34,
    "start_time": "2021-09-07T06:30:53.686Z"
   },
   {
    "duration": 131,
    "start_time": "2021-09-07T06:30:53.723Z"
   },
   {
    "duration": 11,
    "start_time": "2021-09-07T06:30:53.858Z"
   },
   {
    "duration": 36,
    "start_time": "2021-09-07T06:30:53.872Z"
   },
   {
    "duration": 82,
    "start_time": "2021-09-07T06:30:53.911Z"
   },
   {
    "duration": 12,
    "start_time": "2021-09-07T06:30:53.995Z"
   },
   {
    "duration": 33,
    "start_time": "2021-09-07T06:30:54.009Z"
   },
   {
    "duration": 39,
    "start_time": "2021-09-07T06:30:54.044Z"
   },
   {
    "duration": 30,
    "start_time": "2021-09-07T06:30:54.085Z"
   },
   {
    "duration": 43,
    "start_time": "2021-09-07T06:30:54.117Z"
   },
   {
    "duration": 111,
    "start_time": "2021-09-07T06:30:54.162Z"
   },
   {
    "duration": 259,
    "start_time": "2021-09-07T06:30:54.275Z"
   },
   {
    "duration": 168,
    "start_time": "2021-09-07T06:30:54.537Z"
   },
   {
    "duration": 47,
    "start_time": "2021-09-07T06:30:54.708Z"
   },
   {
    "duration": 12,
    "start_time": "2021-09-07T06:30:54.757Z"
   },
   {
    "duration": 18,
    "start_time": "2021-09-07T06:30:54.772Z"
   },
   {
    "duration": 30,
    "start_time": "2021-09-07T06:30:54.792Z"
   },
   {
    "duration": 80,
    "start_time": "2021-09-07T06:30:54.827Z"
   },
   {
    "duration": 47,
    "start_time": "2021-09-07T06:30:54.911Z"
   },
   {
    "duration": 24,
    "start_time": "2021-09-07T06:30:54.961Z"
   },
   {
    "duration": 69,
    "start_time": "2021-09-07T06:30:54.987Z"
   },
   {
    "duration": 644,
    "start_time": "2021-09-07T06:30:55.058Z"
   },
   {
    "duration": 1035,
    "start_time": "2021-09-07T06:30:55.704Z"
   },
   {
    "duration": 641,
    "start_time": "2021-09-07T06:30:56.742Z"
   },
   {
    "duration": 975,
    "start_time": "2021-09-07T06:30:57.386Z"
   },
   {
    "duration": 611,
    "start_time": "2021-09-07T06:30:58.364Z"
   },
   {
    "duration": 946,
    "start_time": "2021-09-07T06:30:58.979Z"
   },
   {
    "duration": 55,
    "start_time": "2021-09-07T06:30:59.928Z"
   },
   {
    "duration": 825,
    "start_time": "2021-09-07T06:30:59.987Z"
   },
   {
    "duration": 828,
    "start_time": "2021-09-07T06:31:00.815Z"
   },
   {
    "duration": 893,
    "start_time": "2021-09-07T06:31:01.646Z"
   },
   {
    "duration": 819,
    "start_time": "2021-09-07T06:31:02.541Z"
   },
   {
    "duration": 8,
    "start_time": "2021-09-07T06:31:03.363Z"
   },
   {
    "duration": 652,
    "start_time": "2021-09-07T06:31:03.374Z"
   },
   {
    "duration": 31,
    "start_time": "2021-09-07T06:31:04.029Z"
   },
   {
    "duration": 1395,
    "start_time": "2021-09-07T06:31:45.005Z"
   },
   {
    "duration": 521,
    "start_time": "2021-09-07T06:31:46.403Z"
   },
   {
    "duration": 27,
    "start_time": "2021-09-07T06:31:46.927Z"
   },
   {
    "duration": 139,
    "start_time": "2021-09-07T06:31:46.957Z"
   },
   {
    "duration": 14,
    "start_time": "2021-09-07T06:31:47.099Z"
   },
   {
    "duration": 53,
    "start_time": "2021-09-07T06:31:47.115Z"
   },
   {
    "duration": 111,
    "start_time": "2021-09-07T06:31:47.170Z"
   },
   {
    "duration": 11,
    "start_time": "2021-09-07T06:31:47.283Z"
   },
   {
    "duration": 35,
    "start_time": "2021-09-07T06:31:47.298Z"
   },
   {
    "duration": 72,
    "start_time": "2021-09-07T06:31:47.337Z"
   },
   {
    "duration": 11,
    "start_time": "2021-09-07T06:31:47.412Z"
   },
   {
    "duration": 30,
    "start_time": "2021-09-07T06:31:47.426Z"
   },
   {
    "duration": 31,
    "start_time": "2021-09-07T06:31:47.459Z"
   },
   {
    "duration": 22,
    "start_time": "2021-09-07T06:31:47.493Z"
   },
   {
    "duration": 32,
    "start_time": "2021-09-07T06:31:47.517Z"
   },
   {
    "duration": 97,
    "start_time": "2021-09-07T06:31:47.551Z"
   },
   {
    "duration": 261,
    "start_time": "2021-09-07T06:31:47.650Z"
   },
   {
    "duration": 156,
    "start_time": "2021-09-07T06:31:47.914Z"
   },
   {
    "duration": 36,
    "start_time": "2021-09-07T06:31:48.072Z"
   },
   {
    "duration": 43,
    "start_time": "2021-09-07T06:31:48.111Z"
   },
   {
    "duration": 9,
    "start_time": "2021-09-07T06:31:48.157Z"
   },
   {
    "duration": 27,
    "start_time": "2021-09-07T06:31:48.168Z"
   },
   {
    "duration": 75,
    "start_time": "2021-09-07T06:31:48.197Z"
   },
   {
    "duration": 36,
    "start_time": "2021-09-07T06:31:48.275Z"
   },
   {
    "duration": 43,
    "start_time": "2021-09-07T06:31:48.313Z"
   },
   {
    "duration": 71,
    "start_time": "2021-09-07T06:31:48.359Z"
   },
   {
    "duration": 629,
    "start_time": "2021-09-07T06:31:48.435Z"
   },
   {
    "duration": 1046,
    "start_time": "2021-09-07T06:31:49.066Z"
   },
   {
    "duration": 619,
    "start_time": "2021-09-07T06:31:50.114Z"
   },
   {
    "duration": 928,
    "start_time": "2021-09-07T06:31:50.736Z"
   },
   {
    "duration": 610,
    "start_time": "2021-09-07T06:31:51.667Z"
   },
   {
    "duration": 922,
    "start_time": "2021-09-07T06:31:52.280Z"
   },
   {
    "duration": 54,
    "start_time": "2021-09-07T06:31:53.205Z"
   },
   {
    "duration": 787,
    "start_time": "2021-09-07T06:31:53.262Z"
   },
   {
    "duration": 790,
    "start_time": "2021-09-07T06:31:54.051Z"
   },
   {
    "duration": 887,
    "start_time": "2021-09-07T06:31:54.843Z"
   },
   {
    "duration": 804,
    "start_time": "2021-09-07T06:31:55.733Z"
   },
   {
    "duration": 15,
    "start_time": "2021-09-07T06:31:56.540Z"
   },
   {
    "duration": 615,
    "start_time": "2021-09-07T06:31:56.557Z"
   },
   {
    "duration": 17,
    "start_time": "2021-09-07T06:31:57.174Z"
   },
   {
    "duration": 2416,
    "start_time": "2021-09-07T14:55:31.110Z"
   },
   {
    "duration": 591,
    "start_time": "2021-09-07T14:55:33.529Z"
   },
   {
    "duration": 27,
    "start_time": "2021-09-07T14:55:34.123Z"
   },
   {
    "duration": 150,
    "start_time": "2021-09-07T14:55:34.153Z"
   },
   {
    "duration": 12,
    "start_time": "2021-09-07T14:55:34.305Z"
   },
   {
    "duration": 27,
    "start_time": "2021-09-07T14:55:34.320Z"
   },
   {
    "duration": 106,
    "start_time": "2021-09-07T14:55:34.366Z"
   },
   {
    "duration": 10,
    "start_time": "2021-09-07T14:55:34.476Z"
   },
   {
    "duration": 30,
    "start_time": "2021-09-07T14:55:34.489Z"
   },
   {
    "duration": 78,
    "start_time": "2021-09-07T14:55:34.521Z"
   },
   {
    "duration": 12,
    "start_time": "2021-09-07T14:55:34.601Z"
   },
   {
    "duration": 24,
    "start_time": "2021-09-07T14:55:34.615Z"
   },
   {
    "duration": 40,
    "start_time": "2021-09-07T14:55:34.641Z"
   },
   {
    "duration": 24,
    "start_time": "2021-09-07T14:55:34.683Z"
   },
   {
    "duration": 15,
    "start_time": "2021-09-07T14:55:34.709Z"
   },
   {
    "duration": 92,
    "start_time": "2021-09-07T14:55:34.726Z"
   },
   {
    "duration": 268,
    "start_time": "2021-09-07T14:55:34.820Z"
   },
   {
    "duration": 177,
    "start_time": "2021-09-07T14:55:35.090Z"
   },
   {
    "duration": 35,
    "start_time": "2021-09-07T14:55:35.269Z"
   },
   {
    "duration": 13,
    "start_time": "2021-09-07T14:55:35.306Z"
   },
   {
    "duration": 47,
    "start_time": "2021-09-07T14:55:35.322Z"
   },
   {
    "duration": 7,
    "start_time": "2021-09-07T14:55:35.371Z"
   },
   {
    "duration": 70,
    "start_time": "2021-09-07T14:55:35.383Z"
   },
   {
    "duration": 43,
    "start_time": "2021-09-07T14:55:35.456Z"
   },
   {
    "duration": 25,
    "start_time": "2021-09-07T14:55:35.501Z"
   },
   {
    "duration": 79,
    "start_time": "2021-09-07T14:55:35.529Z"
   },
   {
    "duration": 685,
    "start_time": "2021-09-07T14:55:35.610Z"
   },
   {
    "duration": 1069,
    "start_time": "2021-09-07T14:55:36.298Z"
   },
   {
    "duration": 664,
    "start_time": "2021-09-07T14:55:37.369Z"
   },
   {
    "duration": 993,
    "start_time": "2021-09-07T14:55:38.035Z"
   },
   {
    "duration": 630,
    "start_time": "2021-09-07T14:55:39.030Z"
   },
   {
    "duration": 1001,
    "start_time": "2021-09-07T14:55:39.666Z"
   },
   {
    "duration": 37,
    "start_time": "2021-09-07T14:55:40.669Z"
   },
   {
    "duration": 873,
    "start_time": "2021-09-07T14:55:40.709Z"
   },
   {
    "duration": 859,
    "start_time": "2021-09-07T14:55:41.584Z"
   },
   {
    "duration": 932,
    "start_time": "2021-09-07T14:55:42.446Z"
   },
   {
    "duration": 927,
    "start_time": "2021-09-07T14:55:43.380Z"
   },
   {
    "duration": 8,
    "start_time": "2021-09-07T14:55:44.309Z"
   },
   {
    "duration": 658,
    "start_time": "2021-09-07T14:55:44.320Z"
   },
   {
    "duration": 18,
    "start_time": "2021-09-07T14:55:44.980Z"
   },
   {
    "duration": 6,
    "start_time": "2021-09-07T15:08:10.333Z"
   },
   {
    "duration": 5,
    "start_time": "2021-09-07T15:08:22.183Z"
   },
   {
    "duration": 393,
    "start_time": "2021-09-08T15:58:02.677Z"
   },
   {
    "duration": 341,
    "start_time": "2021-09-08T16:02:32.802Z"
   },
   {
    "duration": 123,
    "start_time": "2021-09-08T16:02:51.079Z"
   },
   {
    "duration": -108,
    "start_time": "2021-09-08T16:02:51.313Z"
   },
   {
    "duration": -116,
    "start_time": "2021-09-08T16:02:51.322Z"
   },
   {
    "duration": -125,
    "start_time": "2021-09-08T16:02:51.334Z"
   },
   {
    "duration": -146,
    "start_time": "2021-09-08T16:02:51.357Z"
   },
   {
    "duration": -161,
    "start_time": "2021-09-08T16:02:51.374Z"
   },
   {
    "duration": -169,
    "start_time": "2021-09-08T16:02:51.384Z"
   },
   {
    "duration": 328,
    "start_time": "2021-09-08T16:02:55.857Z"
   },
   {
    "duration": 779,
    "start_time": "2021-09-08T16:02:57.214Z"
   },
   {
    "duration": 116,
    "start_time": "2021-09-08T16:05:48.800Z"
   },
   {
    "duration": -116,
    "start_time": "2021-09-08T16:05:49.036Z"
   },
   {
    "duration": -121,
    "start_time": "2021-09-08T16:05:49.043Z"
   },
   {
    "duration": -178,
    "start_time": "2021-09-08T16:05:49.102Z"
   },
   {
    "duration": -183,
    "start_time": "2021-09-08T16:05:49.109Z"
   },
   {
    "duration": -190,
    "start_time": "2021-09-08T16:05:49.118Z"
   },
   {
    "duration": -197,
    "start_time": "2021-09-08T16:05:49.127Z"
   },
   {
    "duration": -204,
    "start_time": "2021-09-08T16:05:49.136Z"
   },
   {
    "duration": -515,
    "start_time": "2021-09-08T16:05:49.450Z"
   },
   {
    "duration": -522,
    "start_time": "2021-09-08T16:05:49.459Z"
   },
   {
    "duration": -537,
    "start_time": "2021-09-08T16:05:49.476Z"
   },
   {
    "duration": -542,
    "start_time": "2021-09-08T16:05:49.484Z"
   },
   {
    "duration": -547,
    "start_time": "2021-09-08T16:05:49.491Z"
   },
   {
    "duration": -551,
    "start_time": "2021-09-08T16:05:49.497Z"
   },
   {
    "duration": -557,
    "start_time": "2021-09-08T16:05:49.505Z"
   },
   {
    "duration": -562,
    "start_time": "2021-09-08T16:05:49.512Z"
   },
   {
    "duration": -568,
    "start_time": "2021-09-08T16:05:49.520Z"
   },
   {
    "duration": -575,
    "start_time": "2021-09-08T16:05:49.529Z"
   },
   {
    "duration": 411,
    "start_time": "2021-09-08T16:05:48.958Z"
   },
   {
    "duration": -192,
    "start_time": "2021-09-08T16:05:49.564Z"
   },
   {
    "duration": -227,
    "start_time": "2021-09-08T16:05:49.600Z"
   },
   {
    "duration": -233,
    "start_time": "2021-09-08T16:05:49.608Z"
   },
   {
    "duration": -240,
    "start_time": "2021-09-08T16:05:49.616Z"
   },
   {
    "duration": -247,
    "start_time": "2021-09-08T16:05:49.624Z"
   },
   {
    "duration": -252,
    "start_time": "2021-09-08T16:05:49.631Z"
   },
   {
    "duration": -260,
    "start_time": "2021-09-08T16:05:49.640Z"
   },
   {
    "duration": -266,
    "start_time": "2021-09-08T16:05:49.647Z"
   },
   {
    "duration": -272,
    "start_time": "2021-09-08T16:05:49.655Z"
   },
   {
    "duration": -277,
    "start_time": "2021-09-08T16:05:49.661Z"
   },
   {
    "duration": -285,
    "start_time": "2021-09-08T16:05:49.670Z"
   },
   {
    "duration": -290,
    "start_time": "2021-09-08T16:05:49.676Z"
   },
   {
    "duration": -295,
    "start_time": "2021-09-08T16:05:49.683Z"
   },
   {
    "duration": -303,
    "start_time": "2021-09-08T16:05:49.692Z"
   },
   {
    "duration": -320,
    "start_time": "2021-09-08T16:05:49.710Z"
   },
   {
    "duration": -326,
    "start_time": "2021-09-08T16:05:49.717Z"
   },
   {
    "duration": -333,
    "start_time": "2021-09-08T16:05:49.726Z"
   },
   {
    "duration": -338,
    "start_time": "2021-09-08T16:05:49.732Z"
   },
   {
    "duration": -345,
    "start_time": "2021-09-08T16:05:49.740Z"
   },
   {
    "duration": -351,
    "start_time": "2021-09-08T16:05:49.747Z"
   },
   {
    "duration": -357,
    "start_time": "2021-09-08T16:05:49.755Z"
   },
   {
    "duration": -404,
    "start_time": "2021-09-08T16:05:49.803Z"
   },
   {
    "duration": -418,
    "start_time": "2021-09-08T16:05:49.818Z"
   },
   {
    "duration": 109,
    "start_time": "2021-09-08T16:08:16.472Z"
   },
   {
    "duration": 119,
    "start_time": "2021-09-08T16:09:18.796Z"
   },
   {
    "duration": 3,
    "start_time": "2021-09-08T16:10:12.879Z"
   },
   {
    "duration": 4,
    "start_time": "2021-09-08T16:10:22.324Z"
   },
   {
    "duration": 1488,
    "start_time": "2021-09-08T16:10:22.333Z"
   },
   {
    "duration": 547,
    "start_time": "2021-09-08T16:10:23.824Z"
   },
   {
    "duration": 30,
    "start_time": "2021-09-08T16:10:24.375Z"
   },
   {
    "duration": 160,
    "start_time": "2021-09-08T16:10:24.408Z"
   },
   {
    "duration": 12,
    "start_time": "2021-09-08T16:10:24.571Z"
   },
   {
    "duration": 27,
    "start_time": "2021-09-08T16:10:24.586Z"
   },
   {
    "duration": 41,
    "start_time": "2021-09-08T16:10:24.616Z"
   },
   {
    "duration": 121,
    "start_time": "2021-09-08T16:10:24.662Z"
   },
   {
    "duration": 10,
    "start_time": "2021-09-08T16:10:24.787Z"
   },
   {
    "duration": 25,
    "start_time": "2021-09-08T16:10:24.800Z"
   },
   {
    "duration": 79,
    "start_time": "2021-09-08T16:10:24.827Z"
   },
   {
    "duration": 14,
    "start_time": "2021-09-08T16:10:24.909Z"
   },
   {
    "duration": 37,
    "start_time": "2021-09-08T16:10:24.926Z"
   },
   {
    "duration": 17,
    "start_time": "2021-09-08T16:10:24.965Z"
   },
   {
    "duration": 13,
    "start_time": "2021-09-08T16:10:24.984Z"
   },
   {
    "duration": 13,
    "start_time": "2021-09-08T16:10:25.000Z"
   },
   {
    "duration": 120,
    "start_time": "2021-09-08T16:10:25.015Z"
   },
   {
    "duration": 278,
    "start_time": "2021-09-08T16:10:25.138Z"
   },
   {
    "duration": 162,
    "start_time": "2021-09-08T16:10:25.418Z"
   },
   {
    "duration": 34,
    "start_time": "2021-09-08T16:10:25.582Z"
   },
   {
    "duration": 12,
    "start_time": "2021-09-08T16:10:25.618Z"
   },
   {
    "duration": 29,
    "start_time": "2021-09-08T16:10:25.633Z"
   },
   {
    "duration": 8,
    "start_time": "2021-09-08T16:10:25.667Z"
   },
   {
    "duration": 92,
    "start_time": "2021-09-08T16:10:25.678Z"
   },
   {
    "duration": 36,
    "start_time": "2021-09-08T16:10:25.773Z"
   },
   {
    "duration": 44,
    "start_time": "2021-09-08T16:10:25.811Z"
   },
   {
    "duration": 42,
    "start_time": "2021-09-08T16:10:25.857Z"
   },
   {
    "duration": 658,
    "start_time": "2021-09-08T16:10:25.901Z"
   },
   {
    "duration": 994,
    "start_time": "2021-09-08T16:10:26.562Z"
   },
   {
    "duration": 630,
    "start_time": "2021-09-08T16:10:27.558Z"
   },
   {
    "duration": 920,
    "start_time": "2021-09-08T16:10:28.191Z"
   },
   {
    "duration": 599,
    "start_time": "2021-09-08T16:10:29.113Z"
   },
   {
    "duration": 937,
    "start_time": "2021-09-08T16:10:29.715Z"
   },
   {
    "duration": 37,
    "start_time": "2021-09-08T16:10:30.656Z"
   },
   {
    "duration": 825,
    "start_time": "2021-09-08T16:10:30.695Z"
   },
   {
    "duration": 816,
    "start_time": "2021-09-08T16:10:31.522Z"
   },
   {
    "duration": 879,
    "start_time": "2021-09-08T16:10:32.340Z"
   },
   {
    "duration": 816,
    "start_time": "2021-09-08T16:10:33.222Z"
   },
   {
    "duration": 17,
    "start_time": "2021-09-08T16:10:34.040Z"
   },
   {
    "duration": 616,
    "start_time": "2021-09-08T16:10:34.059Z"
   },
   {
    "duration": 16,
    "start_time": "2021-09-08T16:10:34.677Z"
   },
   {
    "duration": 903,
    "start_time": "2021-09-08T16:12:45.299Z"
   },
   {
    "duration": 356,
    "start_time": "2021-09-08T16:13:40.286Z"
   },
   {
    "duration": 359,
    "start_time": "2021-09-08T16:15:23.241Z"
   },
   {
    "duration": 362,
    "start_time": "2021-09-08T16:15:47.317Z"
   },
   {
    "duration": 382,
    "start_time": "2021-09-08T16:27:54.741Z"
   },
   {
    "duration": 4,
    "start_time": "2021-09-08T16:57:00.498Z"
   },
   {
    "duration": 4,
    "start_time": "2021-09-08T16:57:10.222Z"
   },
   {
    "duration": 1576,
    "start_time": "2021-09-08T16:57:10.234Z"
   },
   {
    "duration": 573,
    "start_time": "2021-09-08T16:57:11.813Z"
   },
   {
    "duration": 27,
    "start_time": "2021-09-08T16:57:12.389Z"
   },
   {
    "duration": 133,
    "start_time": "2021-09-08T16:57:12.419Z"
   },
   {
    "duration": 12,
    "start_time": "2021-09-08T16:57:12.556Z"
   },
   {
    "duration": 40,
    "start_time": "2021-09-08T16:57:12.570Z"
   },
   {
    "duration": 3,
    "start_time": "2021-09-08T16:57:12.613Z"
   },
   {
    "duration": 125,
    "start_time": "2021-09-08T16:57:12.620Z"
   },
   {
    "duration": 14,
    "start_time": "2021-09-08T16:57:12.749Z"
   },
   {
    "duration": 31,
    "start_time": "2021-09-08T16:57:12.765Z"
   },
   {
    "duration": 71,
    "start_time": "2021-09-08T16:57:12.798Z"
   },
   {
    "duration": 11,
    "start_time": "2021-09-08T16:57:12.872Z"
   },
   {
    "duration": 23,
    "start_time": "2021-09-08T16:57:12.885Z"
   },
   {
    "duration": 33,
    "start_time": "2021-09-08T16:57:12.910Z"
   },
   {
    "duration": 15,
    "start_time": "2021-09-08T16:57:12.946Z"
   },
   {
    "duration": 26,
    "start_time": "2021-09-08T16:57:12.963Z"
   },
   {
    "duration": 88,
    "start_time": "2021-09-08T16:57:12.991Z"
   },
   {
    "duration": 254,
    "start_time": "2021-09-08T16:57:13.082Z"
   },
   {
    "duration": 2874,
    "start_time": "2021-09-08T16:57:13.338Z"
   },
   {
    "duration": -256,
    "start_time": "2021-09-08T16:57:16.472Z"
   },
   {
    "duration": -263,
    "start_time": "2021-09-08T16:57:16.480Z"
   },
   {
    "duration": -271,
    "start_time": "2021-09-08T16:57:16.489Z"
   },
   {
    "duration": -276,
    "start_time": "2021-09-08T16:57:16.496Z"
   },
   {
    "duration": -284,
    "start_time": "2021-09-08T16:57:16.505Z"
   },
   {
    "duration": -290,
    "start_time": "2021-09-08T16:57:16.512Z"
   },
   {
    "duration": -297,
    "start_time": "2021-09-08T16:57:16.520Z"
   },
   {
    "duration": -302,
    "start_time": "2021-09-08T16:57:16.527Z"
   },
   {
    "duration": -310,
    "start_time": "2021-09-08T16:57:16.536Z"
   },
   {
    "duration": -316,
    "start_time": "2021-09-08T16:57:16.543Z"
   },
   {
    "duration": -323,
    "start_time": "2021-09-08T16:57:16.551Z"
   },
   {
    "duration": -328,
    "start_time": "2021-09-08T16:57:16.558Z"
   },
   {
    "duration": -349,
    "start_time": "2021-09-08T16:57:16.580Z"
   },
   {
    "duration": -356,
    "start_time": "2021-09-08T16:57:16.588Z"
   },
   {
    "duration": -363,
    "start_time": "2021-09-08T16:57:16.596Z"
   },
   {
    "duration": -368,
    "start_time": "2021-09-08T16:57:16.603Z"
   },
   {
    "duration": -375,
    "start_time": "2021-09-08T16:57:16.611Z"
   },
   {
    "duration": -380,
    "start_time": "2021-09-08T16:57:16.617Z"
   },
   {
    "duration": -388,
    "start_time": "2021-09-08T16:57:16.626Z"
   },
   {
    "duration": -459,
    "start_time": "2021-09-08T16:57:16.699Z"
   },
   {
    "duration": -488,
    "start_time": "2021-09-08T16:57:16.729Z"
   },
   {
    "duration": -495,
    "start_time": "2021-09-08T16:57:16.737Z"
   },
   {
    "duration": 5,
    "start_time": "2021-09-08T17:01:13.877Z"
   },
   {
    "duration": 149,
    "start_time": "2021-09-08T17:05:13.089Z"
   },
   {
    "duration": 153,
    "start_time": "2021-09-08T17:06:00.521Z"
   },
   {
    "duration": 3,
    "start_time": "2021-09-08T17:12:29.196Z"
   },
   {
    "duration": 1500,
    "start_time": "2021-09-08T17:12:29.205Z"
   },
   {
    "duration": 599,
    "start_time": "2021-09-08T17:12:30.708Z"
   },
   {
    "duration": 27,
    "start_time": "2021-09-08T17:12:31.310Z"
   },
   {
    "duration": 131,
    "start_time": "2021-09-08T17:12:31.340Z"
   },
   {
    "duration": 13,
    "start_time": "2021-09-08T17:12:31.473Z"
   },
   {
    "duration": 32,
    "start_time": "2021-09-08T17:12:31.489Z"
   },
   {
    "duration": 4,
    "start_time": "2021-09-08T17:12:31.523Z"
   },
   {
    "duration": 135,
    "start_time": "2021-09-08T17:12:31.530Z"
   },
   {
    "duration": 10,
    "start_time": "2021-09-08T17:12:31.668Z"
   },
   {
    "duration": 26,
    "start_time": "2021-09-08T17:12:31.681Z"
   },
   {
    "duration": 83,
    "start_time": "2021-09-08T17:12:31.710Z"
   },
   {
    "duration": 11,
    "start_time": "2021-09-08T17:12:31.795Z"
   },
   {
    "duration": 15,
    "start_time": "2021-09-08T17:12:31.809Z"
   },
   {
    "duration": 35,
    "start_time": "2021-09-08T17:12:31.826Z"
   },
   {
    "duration": 10,
    "start_time": "2021-09-08T17:12:31.864Z"
   },
   {
    "duration": 15,
    "start_time": "2021-09-08T17:12:31.876Z"
   },
   {
    "duration": 102,
    "start_time": "2021-09-08T17:12:31.893Z"
   },
   {
    "duration": 276,
    "start_time": "2021-09-08T17:12:31.997Z"
   },
   {
    "duration": 165,
    "start_time": "2021-09-08T17:12:32.276Z"
   },
   {
    "duration": 42,
    "start_time": "2021-09-08T17:12:32.444Z"
   },
   {
    "duration": 13,
    "start_time": "2021-09-08T17:12:32.489Z"
   },
   {
    "duration": 9,
    "start_time": "2021-09-08T17:12:32.505Z"
   },
   {
    "duration": 7,
    "start_time": "2021-09-08T17:12:32.556Z"
   },
   {
    "duration": 66,
    "start_time": "2021-09-08T17:12:32.567Z"
   },
   {
    "duration": 47,
    "start_time": "2021-09-08T17:12:32.636Z"
   },
   {
    "duration": 25,
    "start_time": "2021-09-08T17:12:32.685Z"
   },
   {
    "duration": 68,
    "start_time": "2021-09-08T17:12:32.712Z"
   },
   {
    "duration": 644,
    "start_time": "2021-09-08T17:12:32.782Z"
   },
   {
    "duration": 1010,
    "start_time": "2021-09-08T17:12:33.429Z"
   },
   {
    "duration": 654,
    "start_time": "2021-09-08T17:12:34.442Z"
   },
   {
    "duration": 961,
    "start_time": "2021-09-08T17:12:35.099Z"
   },
   {
    "duration": 643,
    "start_time": "2021-09-08T17:12:36.063Z"
   },
   {
    "duration": 957,
    "start_time": "2021-09-08T17:12:36.709Z"
   },
   {
    "duration": 41,
    "start_time": "2021-09-08T17:12:37.669Z"
   },
   {
    "duration": 820,
    "start_time": "2021-09-08T17:12:37.713Z"
   },
   {
    "duration": 811,
    "start_time": "2021-09-08T17:12:38.535Z"
   },
   {
    "duration": 892,
    "start_time": "2021-09-08T17:12:39.355Z"
   },
   {
    "duration": 857,
    "start_time": "2021-09-08T17:12:40.249Z"
   },
   {
    "duration": 9,
    "start_time": "2021-09-08T17:12:41.109Z"
   },
   {
    "duration": 610,
    "start_time": "2021-09-08T17:12:41.120Z"
   },
   {
    "duration": 26,
    "start_time": "2021-09-08T17:12:41.732Z"
   },
   {
    "duration": 498,
    "start_time": "2021-09-08T17:15:40.576Z"
   },
   {
    "duration": 126,
    "start_time": "2021-09-08T17:16:04.199Z"
   },
   {
    "duration": 121,
    "start_time": "2021-09-08T17:16:13.279Z"
   },
   {
    "duration": 162,
    "start_time": "2021-09-08T17:16:22.239Z"
   },
   {
    "duration": 120,
    "start_time": "2021-09-08T17:16:36.043Z"
   },
   {
    "duration": 116,
    "start_time": "2021-09-08T17:16:46.539Z"
   },
   {
    "duration": 29,
    "start_time": "2021-09-08T17:16:54.576Z"
   },
   {
    "duration": 31,
    "start_time": "2021-09-08T17:19:24.102Z"
   },
   {
    "duration": 4,
    "start_time": "2021-09-08T17:56:24.002Z"
   },
   {
    "duration": 1461,
    "start_time": "2021-09-08T17:56:24.009Z"
   },
   {
    "duration": 575,
    "start_time": "2021-09-08T17:56:25.474Z"
   },
   {
    "duration": 27,
    "start_time": "2021-09-08T17:56:26.052Z"
   },
   {
    "duration": 134,
    "start_time": "2021-09-08T17:56:26.082Z"
   },
   {
    "duration": 12,
    "start_time": "2021-09-08T17:56:26.218Z"
   },
   {
    "duration": 40,
    "start_time": "2021-09-08T17:56:26.233Z"
   },
   {
    "duration": 3,
    "start_time": "2021-09-08T17:56:26.276Z"
   },
   {
    "duration": 122,
    "start_time": "2021-09-08T17:56:26.282Z"
   },
   {
    "duration": 10,
    "start_time": "2021-09-08T17:56:26.407Z"
   },
   {
    "duration": 43,
    "start_time": "2021-09-08T17:56:26.419Z"
   },
   {
    "duration": 57,
    "start_time": "2021-09-08T17:56:26.465Z"
   },
   {
    "duration": 33,
    "start_time": "2021-09-08T17:56:26.525Z"
   },
   {
    "duration": 14,
    "start_time": "2021-09-08T17:56:26.560Z"
   },
   {
    "duration": 17,
    "start_time": "2021-09-08T17:56:26.576Z"
   },
   {
    "duration": 18,
    "start_time": "2021-09-08T17:56:26.595Z"
   },
   {
    "duration": 46,
    "start_time": "2021-09-08T17:56:26.615Z"
   },
   {
    "duration": 97,
    "start_time": "2021-09-08T17:56:26.664Z"
   },
   {
    "duration": 264,
    "start_time": "2021-09-08T17:56:26.768Z"
   },
   {
    "duration": 243,
    "start_time": "2021-09-08T17:56:27.034Z"
   },
   {
    "duration": 46,
    "start_time": "2021-09-08T17:56:27.280Z"
   },
   {
    "duration": 33,
    "start_time": "2021-09-08T17:56:27.329Z"
   },
   {
    "duration": 9,
    "start_time": "2021-09-08T17:56:27.365Z"
   },
   {
    "duration": 11,
    "start_time": "2021-09-08T17:56:27.376Z"
   },
   {
    "duration": 3,
    "start_time": "2021-09-08T17:56:27.390Z"
   },
   {
    "duration": 10,
    "start_time": "2021-09-08T17:56:27.396Z"
   },
   {
    "duration": 2103,
    "start_time": "2021-09-08T17:56:27.409Z"
   },
   {
    "duration": -79,
    "start_time": "2021-09-08T17:56:29.594Z"
   },
   {
    "duration": -86,
    "start_time": "2021-09-08T17:56:29.602Z"
   },
   {
    "duration": -370,
    "start_time": "2021-09-08T17:56:29.887Z"
   },
   {
    "duration": -378,
    "start_time": "2021-09-08T17:56:29.897Z"
   },
   {
    "duration": -385,
    "start_time": "2021-09-08T17:56:29.905Z"
   },
   {
    "duration": -394,
    "start_time": "2021-09-08T17:56:29.915Z"
   },
   {
    "duration": -399,
    "start_time": "2021-09-08T17:56:29.922Z"
   },
   {
    "duration": -409,
    "start_time": "2021-09-08T17:56:29.933Z"
   },
   {
    "duration": -416,
    "start_time": "2021-09-08T17:56:29.941Z"
   },
   {
    "duration": -426,
    "start_time": "2021-09-08T17:56:29.953Z"
   },
   {
    "duration": -433,
    "start_time": "2021-09-08T17:56:29.962Z"
   },
   {
    "duration": -442,
    "start_time": "2021-09-08T17:56:29.972Z"
   },
   {
    "duration": -448,
    "start_time": "2021-09-08T17:56:29.980Z"
   },
   {
    "duration": -468,
    "start_time": "2021-09-08T17:56:30.001Z"
   },
   {
    "duration": -474,
    "start_time": "2021-09-08T17:56:30.009Z"
   },
   {
    "duration": -482,
    "start_time": "2021-09-08T17:56:30.018Z"
   },
   {
    "duration": -488,
    "start_time": "2021-09-08T17:56:30.025Z"
   },
   {
    "duration": 2190,
    "start_time": "2021-09-08T17:57:29.434Z"
   },
   {
    "duration": 13962,
    "start_time": "2021-09-08T17:57:51.119Z"
   },
   {
    "duration": 373,
    "start_time": "2021-09-08T18:11:36.370Z"
   },
   {
    "duration": 22,
    "start_time": "2021-09-08T18:12:05.112Z"
   },
   {
    "duration": 20,
    "start_time": "2021-09-08T18:13:03.173Z"
   },
   {
    "duration": 503,
    "start_time": "2021-09-08T18:16:00.576Z"
   },
   {
    "duration": 155,
    "start_time": "2021-09-08T18:16:33.788Z"
   },
   {
    "duration": 554,
    "start_time": "2021-09-08T18:17:03.583Z"
   },
   {
    "duration": 548,
    "start_time": "2021-09-08T18:17:41.955Z"
   },
   {
    "duration": 230,
    "start_time": "2021-09-08T18:18:11.056Z"
   },
   {
    "duration": 590,
    "start_time": "2021-09-08T18:18:46.929Z"
   },
   {
    "duration": 188,
    "start_time": "2021-09-08T18:19:50.057Z"
   },
   {
    "duration": 193,
    "start_time": "2021-09-08T18:20:15.344Z"
   },
   {
    "duration": 190,
    "start_time": "2021-09-08T18:20:55.776Z"
   },
   {
    "duration": 25,
    "start_time": "2021-09-08T18:35:52.830Z"
   },
   {
    "duration": 502,
    "start_time": "2021-09-08T18:37:59.663Z"
   },
   {
    "duration": 23,
    "start_time": "2021-09-08T20:24:44.981Z"
   },
   {
    "duration": 142,
    "start_time": "2021-09-08T20:26:03.032Z"
   },
   {
    "duration": 23,
    "start_time": "2021-09-08T20:26:19.140Z"
   },
   {
    "duration": 31,
    "start_time": "2021-09-08T20:26:40.764Z"
   },
   {
    "duration": 24,
    "start_time": "2021-09-08T20:26:47.469Z"
   },
   {
    "duration": 22,
    "start_time": "2021-09-08T20:27:02.056Z"
   },
   {
    "duration": 7,
    "start_time": "2021-09-09T01:04:50.910Z"
   },
   {
    "duration": 2108,
    "start_time": "2021-09-09T01:05:46.262Z"
   },
   {
    "duration": 7,
    "start_time": "2021-09-09T01:06:18.092Z"
   },
   {
    "duration": 11480,
    "start_time": "2021-09-09T01:06:21.188Z"
   },
   {
    "duration": 2456,
    "start_time": "2021-09-09T01:09:30.826Z"
   },
   {
    "duration": 2468,
    "start_time": "2021-09-09T01:09:45.334Z"
   },
   {
    "duration": 6,
    "start_time": "2021-09-09T01:10:15.793Z"
   },
   {
    "duration": 2012,
    "start_time": "2021-09-09T01:10:18.378Z"
   },
   {
    "duration": 7,
    "start_time": "2021-09-09T01:15:43.796Z"
   },
   {
    "duration": 2261,
    "start_time": "2021-09-09T01:15:45.690Z"
   },
   {
    "duration": 25,
    "start_time": "2021-09-09T01:15:54.145Z"
   },
   {
    "duration": 36,
    "start_time": "2021-09-09T01:16:38.396Z"
   },
   {
    "duration": 41,
    "start_time": "2021-09-09T01:17:50.355Z"
   },
   {
    "duration": 2055,
    "start_time": "2021-09-09T01:20:32.736Z"
   },
   {
    "duration": 132,
    "start_time": "2021-09-09T01:23:49.588Z"
   },
   {
    "duration": 2454,
    "start_time": "2021-09-09T01:23:52.270Z"
   },
   {
    "duration": 8,
    "start_time": "2021-09-09T01:24:21.634Z"
   },
   {
    "duration": 2054,
    "start_time": "2021-09-09T01:24:24.530Z"
   },
   {
    "duration": 2023,
    "start_time": "2021-09-09T01:24:58.439Z"
   },
   {
    "duration": 27,
    "start_time": "2021-09-09T01:25:05.335Z"
   },
   {
    "duration": 7,
    "start_time": "2021-09-09T01:33:13.636Z"
   },
   {
    "duration": 610,
    "start_time": "2021-09-09T01:33:13.646Z"
   },
   {
    "duration": 27,
    "start_time": "2021-09-09T01:33:14.259Z"
   },
   {
    "duration": 162,
    "start_time": "2021-09-09T01:33:14.289Z"
   },
   {
    "duration": 12,
    "start_time": "2021-09-09T01:33:14.455Z"
   },
   {
    "duration": 35,
    "start_time": "2021-09-09T01:33:14.470Z"
   },
   {
    "duration": 22,
    "start_time": "2021-09-09T01:33:14.510Z"
   },
   {
    "duration": 134,
    "start_time": "2021-09-09T01:33:14.536Z"
   },
   {
    "duration": 11,
    "start_time": "2021-09-09T01:33:14.673Z"
   },
   {
    "duration": 33,
    "start_time": "2021-09-09T01:33:14.687Z"
   },
   {
    "duration": 88,
    "start_time": "2021-09-09T01:33:14.722Z"
   },
   {
    "duration": 12,
    "start_time": "2021-09-09T01:33:14.813Z"
   },
   {
    "duration": 28,
    "start_time": "2021-09-09T01:33:14.827Z"
   },
   {
    "duration": 28,
    "start_time": "2021-09-09T01:33:14.858Z"
   },
   {
    "duration": 19,
    "start_time": "2021-09-09T01:33:14.889Z"
   },
   {
    "duration": 23,
    "start_time": "2021-09-09T01:33:14.911Z"
   },
   {
    "duration": 117,
    "start_time": "2021-09-09T01:33:14.937Z"
   },
   {
    "duration": 261,
    "start_time": "2021-09-09T01:33:15.057Z"
   },
   {
    "duration": 170,
    "start_time": "2021-09-09T01:33:15.323Z"
   },
   {
    "duration": 31,
    "start_time": "2021-09-09T01:33:15.496Z"
   },
   {
    "duration": 36,
    "start_time": "2021-09-09T01:33:15.529Z"
   },
   {
    "duration": 12,
    "start_time": "2021-09-09T01:33:15.567Z"
   },
   {
    "duration": 12,
    "start_time": "2021-09-09T01:33:15.581Z"
   },
   {
    "duration": 17,
    "start_time": "2021-09-09T01:33:15.596Z"
   },
   {
    "duration": 2026,
    "start_time": "2021-09-09T01:33:15.616Z"
   },
   {
    "duration": 32,
    "start_time": "2021-09-09T01:33:17.644Z"
   },
   {
    "duration": 41,
    "start_time": "2021-09-09T01:33:17.679Z"
   },
   {
    "duration": 44,
    "start_time": "2021-09-09T01:33:17.723Z"
   },
   {
    "duration": 64,
    "start_time": "2021-09-09T01:33:17.769Z"
   },
   {
    "duration": 642,
    "start_time": "2021-09-09T01:33:17.835Z"
   },
   {
    "duration": 1014,
    "start_time": "2021-09-09T01:33:18.480Z"
   },
   {
    "duration": 630,
    "start_time": "2021-09-09T01:33:19.497Z"
   },
   {
    "duration": 953,
    "start_time": "2021-09-09T01:33:20.129Z"
   },
   {
    "duration": 609,
    "start_time": "2021-09-09T01:33:21.084Z"
   },
   {
    "duration": 944,
    "start_time": "2021-09-09T01:33:21.696Z"
   },
   {
    "duration": 45,
    "start_time": "2021-09-09T01:33:22.642Z"
   },
   {
    "duration": 841,
    "start_time": "2021-09-09T01:33:22.689Z"
   },
   {
    "duration": 812,
    "start_time": "2021-09-09T01:33:23.532Z"
   },
   {
    "duration": 889,
    "start_time": "2021-09-09T01:33:24.347Z"
   },
   {
    "duration": 825,
    "start_time": "2021-09-09T01:33:25.239Z"
   },
   {
    "duration": 8,
    "start_time": "2021-09-09T01:33:26.067Z"
   },
   {
    "duration": 633,
    "start_time": "2021-09-09T01:33:26.077Z"
   },
   {
    "duration": 16,
    "start_time": "2021-09-09T01:33:26.712Z"
   },
   {
    "duration": 1561,
    "start_time": "2021-09-09T03:46:20.431Z"
   },
   {
    "duration": 573,
    "start_time": "2021-09-09T03:46:21.995Z"
   },
   {
    "duration": 27,
    "start_time": "2021-09-09T03:46:22.571Z"
   },
   {
    "duration": 128,
    "start_time": "2021-09-09T03:46:22.601Z"
   },
   {
    "duration": 12,
    "start_time": "2021-09-09T03:46:22.731Z"
   },
   {
    "duration": 26,
    "start_time": "2021-09-09T03:46:22.745Z"
   },
   {
    "duration": 52,
    "start_time": "2021-09-09T03:46:22.774Z"
   },
   {
    "duration": 113,
    "start_time": "2021-09-09T03:46:22.829Z"
   },
   {
    "duration": 10,
    "start_time": "2021-09-09T03:46:22.945Z"
   },
   {
    "duration": 22,
    "start_time": "2021-09-09T03:46:22.957Z"
   },
   {
    "duration": 84,
    "start_time": "2021-09-09T03:46:22.982Z"
   },
   {
    "duration": 12,
    "start_time": "2021-09-09T03:46:23.068Z"
   },
   {
    "duration": 12,
    "start_time": "2021-09-09T03:46:23.082Z"
   },
   {
    "duration": 34,
    "start_time": "2021-09-09T03:46:23.097Z"
   },
   {
    "duration": 10,
    "start_time": "2021-09-09T03:46:23.133Z"
   },
   {
    "duration": 12,
    "start_time": "2021-09-09T03:46:23.145Z"
   },
   {
    "duration": 121,
    "start_time": "2021-09-09T03:46:23.159Z"
   },
   {
    "duration": 264,
    "start_time": "2021-09-09T03:46:23.283Z"
   },
   {
    "duration": 163,
    "start_time": "2021-09-09T03:46:23.549Z"
   },
   {
    "duration": 31,
    "start_time": "2021-09-09T03:46:23.716Z"
   },
   {
    "duration": 12,
    "start_time": "2021-09-09T03:46:23.749Z"
   },
   {
    "duration": 8,
    "start_time": "2021-09-09T03:46:23.763Z"
   },
   {
    "duration": 46,
    "start_time": "2021-09-09T03:46:23.777Z"
   },
   {
    "duration": 10,
    "start_time": "2021-09-09T03:46:23.827Z"
   },
   {
    "duration": 2079,
    "start_time": "2021-09-09T03:46:23.839Z"
   },
   {
    "duration": 28,
    "start_time": "2021-09-09T03:46:25.920Z"
   },
   {
    "duration": 65,
    "start_time": "2021-09-09T03:46:25.951Z"
   },
   {
    "duration": 22,
    "start_time": "2021-09-09T03:46:26.018Z"
   },
   {
    "duration": 47,
    "start_time": "2021-09-09T03:46:26.043Z"
   },
   {
    "duration": 768,
    "start_time": "2021-09-09T03:46:26.092Z"
   },
   {
    "duration": 997,
    "start_time": "2021-09-09T03:46:26.863Z"
   },
   {
    "duration": 642,
    "start_time": "2021-09-09T03:46:27.863Z"
   },
   {
    "duration": 940,
    "start_time": "2021-09-09T03:46:28.507Z"
   },
   {
    "duration": 681,
    "start_time": "2021-09-09T03:46:29.449Z"
   },
   {
    "duration": 969,
    "start_time": "2021-09-09T03:46:30.133Z"
   },
   {
    "duration": 44,
    "start_time": "2021-09-09T03:46:31.104Z"
   },
   {
    "duration": 843,
    "start_time": "2021-09-09T03:46:31.150Z"
   },
   {
    "duration": 907,
    "start_time": "2021-09-09T03:46:31.996Z"
   },
   {
    "duration": 797,
    "start_time": "2021-09-09T03:46:32.906Z"
   },
   {
    "duration": 801,
    "start_time": "2021-09-09T03:46:33.705Z"
   },
   {
    "duration": 12,
    "start_time": "2021-09-09T03:46:34.508Z"
   },
   {
    "duration": 624,
    "start_time": "2021-09-09T03:46:34.523Z"
   },
   {
    "duration": 16,
    "start_time": "2021-09-09T03:46:35.149Z"
   },
   {
    "duration": 1533,
    "start_time": "2021-09-09T04:09:28.261Z"
   },
   {
    "duration": 582,
    "start_time": "2021-09-09T04:09:29.797Z"
   },
   {
    "duration": 31,
    "start_time": "2021-09-09T04:09:30.382Z"
   },
   {
    "duration": 153,
    "start_time": "2021-09-09T04:09:30.417Z"
   },
   {
    "duration": 14,
    "start_time": "2021-09-09T04:09:30.573Z"
   },
   {
    "duration": 43,
    "start_time": "2021-09-09T04:09:30.590Z"
   },
   {
    "duration": 23,
    "start_time": "2021-09-09T04:09:30.637Z"
   },
   {
    "duration": 157,
    "start_time": "2021-09-09T04:09:30.666Z"
   },
   {
    "duration": 13,
    "start_time": "2021-09-09T04:09:30.827Z"
   },
   {
    "duration": 37,
    "start_time": "2021-09-09T04:09:30.842Z"
   },
   {
    "duration": 83,
    "start_time": "2021-09-09T04:09:30.881Z"
   },
   {
    "duration": 12,
    "start_time": "2021-09-09T04:09:30.966Z"
   },
   {
    "duration": 32,
    "start_time": "2021-09-09T04:09:30.981Z"
   },
   {
    "duration": 42,
    "start_time": "2021-09-09T04:09:31.016Z"
   },
   {
    "duration": 20,
    "start_time": "2021-09-09T04:09:31.061Z"
   },
   {
    "duration": 18,
    "start_time": "2021-09-09T04:09:31.084Z"
   },
   {
    "duration": 92,
    "start_time": "2021-09-09T04:09:31.105Z"
   },
   {
    "duration": 307,
    "start_time": "2021-09-09T04:09:31.200Z"
   },
   {
    "duration": 169,
    "start_time": "2021-09-09T04:09:31.509Z"
   },
   {
    "duration": 43,
    "start_time": "2021-09-09T04:09:31.680Z"
   },
   {
    "duration": 12,
    "start_time": "2021-09-09T04:09:31.725Z"
   },
   {
    "duration": 9,
    "start_time": "2021-09-09T04:09:31.739Z"
   },
   {
    "duration": 7,
    "start_time": "2021-09-09T04:09:31.753Z"
   },
   {
    "duration": 17,
    "start_time": "2021-09-09T04:09:31.763Z"
   },
   {
    "duration": 2320,
    "start_time": "2021-09-09T04:09:31.782Z"
   },
   {
    "duration": 29,
    "start_time": "2021-09-09T04:09:34.104Z"
   },
   {
    "duration": 30,
    "start_time": "2021-09-09T04:09:34.136Z"
   },
   {
    "duration": 47,
    "start_time": "2021-09-09T04:09:34.170Z"
   },
   {
    "duration": 44,
    "start_time": "2021-09-09T04:09:34.220Z"
   },
   {
    "duration": 1052,
    "start_time": "2021-09-09T04:09:34.267Z"
   },
   {
    "duration": 1541,
    "start_time": "2021-09-09T04:09:35.323Z"
   },
   {
    "duration": 638,
    "start_time": "2021-09-09T04:09:36.867Z"
   },
   {
    "duration": 970,
    "start_time": "2021-09-09T04:09:37.507Z"
   },
   {
    "duration": 620,
    "start_time": "2021-09-09T04:09:38.480Z"
   },
   {
    "duration": 1074,
    "start_time": "2021-09-09T04:09:39.104Z"
   },
   {
    "duration": 49,
    "start_time": "2021-09-09T04:09:40.180Z"
   },
   {
    "duration": 821,
    "start_time": "2021-09-09T04:09:40.231Z"
   },
   {
    "duration": 921,
    "start_time": "2021-09-09T04:09:41.054Z"
   },
   {
    "duration": 836,
    "start_time": "2021-09-09T04:09:41.978Z"
   },
   {
    "duration": 842,
    "start_time": "2021-09-09T04:09:42.817Z"
   },
   {
    "duration": 9,
    "start_time": "2021-09-09T04:09:43.661Z"
   },
   {
    "duration": 634,
    "start_time": "2021-09-09T04:09:43.672Z"
   },
   {
    "duration": 20,
    "start_time": "2021-09-09T04:09:44.308Z"
   },
   {
    "duration": 129,
    "start_time": "2021-09-09T04:19:16.768Z"
   },
   {
    "duration": 1651,
    "start_time": "2021-09-09T04:20:44.685Z"
   },
   {
    "duration": 584,
    "start_time": "2021-09-09T04:20:46.339Z"
   },
   {
    "duration": 29,
    "start_time": "2021-09-09T04:20:46.926Z"
   },
   {
    "duration": 164,
    "start_time": "2021-09-09T04:20:46.958Z"
   },
   {
    "duration": 14,
    "start_time": "2021-09-09T04:20:47.125Z"
   },
   {
    "duration": 26,
    "start_time": "2021-09-09T04:20:47.142Z"
   },
   {
    "duration": 62,
    "start_time": "2021-09-09T04:20:47.171Z"
   },
   {
    "duration": 125,
    "start_time": "2021-09-09T04:20:47.239Z"
   },
   {
    "duration": 11,
    "start_time": "2021-09-09T04:20:47.367Z"
   },
   {
    "duration": 41,
    "start_time": "2021-09-09T04:20:47.380Z"
   },
   {
    "duration": 63,
    "start_time": "2021-09-09T04:20:47.424Z"
   },
   {
    "duration": 29,
    "start_time": "2021-09-09T04:20:47.489Z"
   },
   {
    "duration": 10,
    "start_time": "2021-09-09T04:20:47.520Z"
   },
   {
    "duration": 15,
    "start_time": "2021-09-09T04:20:47.532Z"
   },
   {
    "duration": 11,
    "start_time": "2021-09-09T04:20:47.549Z"
   },
   {
    "duration": 54,
    "start_time": "2021-09-09T04:20:47.562Z"
   },
   {
    "duration": 85,
    "start_time": "2021-09-09T04:20:47.619Z"
   },
   {
    "duration": 275,
    "start_time": "2021-09-09T04:20:47.717Z"
   },
   {
    "duration": 173,
    "start_time": "2021-09-09T04:20:47.994Z"
   },
   {
    "duration": 49,
    "start_time": "2021-09-09T04:20:48.169Z"
   },
   {
    "duration": 11,
    "start_time": "2021-09-09T04:20:48.221Z"
   },
   {
    "duration": 9,
    "start_time": "2021-09-09T04:20:48.235Z"
   },
   {
    "duration": 7,
    "start_time": "2021-09-09T04:20:48.248Z"
   },
   {
    "duration": 8,
    "start_time": "2021-09-09T04:20:48.258Z"
   },
   {
    "duration": 2016,
    "start_time": "2021-09-09T04:20:48.317Z"
   },
   {
    "duration": 23,
    "start_time": "2021-09-09T04:20:50.336Z"
   },
   {
    "duration": 56,
    "start_time": "2021-09-09T04:20:50.362Z"
   },
   {
    "duration": 20,
    "start_time": "2021-09-09T04:20:50.421Z"
   },
   {
    "duration": 73,
    "start_time": "2021-09-09T04:20:50.444Z"
   },
   {
    "duration": 1047,
    "start_time": "2021-09-09T14:14:49.280Z"
   },
   {
    "duration": 392,
    "start_time": "2021-09-09T14:14:50.329Z"
   },
   {
    "duration": 20,
    "start_time": "2021-09-09T14:14:50.723Z"
   },
   {
    "duration": 88,
    "start_time": "2021-09-09T14:14:50.745Z"
   },
   {
    "duration": 7,
    "start_time": "2021-09-09T14:14:50.835Z"
   },
   {
    "duration": 18,
    "start_time": "2021-09-09T14:14:50.844Z"
   },
   {
    "duration": 27,
    "start_time": "2021-09-09T14:14:50.864Z"
   },
   {
    "duration": 63,
    "start_time": "2021-09-09T14:14:50.894Z"
   },
   {
    "duration": 6,
    "start_time": "2021-09-09T14:14:50.959Z"
   },
   {
    "duration": 30,
    "start_time": "2021-09-09T14:14:50.966Z"
   },
   {
    "duration": 41,
    "start_time": "2021-09-09T14:14:50.998Z"
   },
   {
    "duration": 7,
    "start_time": "2021-09-09T14:14:51.040Z"
   },
   {
    "duration": 8,
    "start_time": "2021-09-09T14:14:51.049Z"
   },
   {
    "duration": 31,
    "start_time": "2021-09-09T14:14:51.058Z"
   },
   {
    "duration": 10,
    "start_time": "2021-09-09T14:14:51.091Z"
   },
   {
    "duration": 8,
    "start_time": "2021-09-09T14:14:51.102Z"
   },
   {
    "duration": 55,
    "start_time": "2021-09-09T14:14:51.111Z"
   },
   {
    "duration": 189,
    "start_time": "2021-09-09T14:14:51.168Z"
   },
   {
    "duration": 109,
    "start_time": "2021-09-09T14:14:51.359Z"
   },
   {
    "duration": 26,
    "start_time": "2021-09-09T14:14:51.470Z"
   },
   {
    "duration": 6,
    "start_time": "2021-09-09T14:14:51.498Z"
   },
   {
    "duration": 5,
    "start_time": "2021-09-09T14:14:51.505Z"
   },
   {
    "duration": 5,
    "start_time": "2021-09-09T14:14:51.513Z"
   },
   {
    "duration": 5,
    "start_time": "2021-09-09T14:14:51.519Z"
   },
   {
    "duration": 978,
    "start_time": "2021-09-09T14:14:51.526Z"
   },
   {
    "duration": 14,
    "start_time": "2021-09-09T14:14:52.506Z"
   },
   {
    "duration": 17,
    "start_time": "2021-09-09T14:14:52.521Z"
   },
   {
    "duration": 12,
    "start_time": "2021-09-09T14:14:52.539Z"
   },
   {
    "duration": 49,
    "start_time": "2021-09-09T14:14:52.552Z"
   },
   {
    "duration": 452,
    "start_time": "2021-09-09T14:14:52.603Z"
   },
   {
    "duration": 583,
    "start_time": "2021-09-09T14:14:53.056Z"
   },
   {
    "duration": 389,
    "start_time": "2021-09-09T14:14:53.641Z"
   },
   {
    "duration": 593,
    "start_time": "2021-09-09T14:14:54.031Z"
   },
   {
    "duration": 373,
    "start_time": "2021-09-09T14:14:54.626Z"
   },
   {
    "duration": 601,
    "start_time": "2021-09-09T14:14:55.001Z"
   },
   {
    "duration": 22,
    "start_time": "2021-09-09T14:14:55.604Z"
   },
   {
    "duration": 549,
    "start_time": "2021-09-09T14:14:55.627Z"
   },
   {
    "duration": 616,
    "start_time": "2021-09-09T14:14:56.178Z"
   },
   {
    "duration": 568,
    "start_time": "2021-09-09T14:14:56.796Z"
   },
   {
    "duration": 529,
    "start_time": "2021-09-09T14:14:57.365Z"
   },
   {
    "duration": 5,
    "start_time": "2021-09-09T14:14:57.896Z"
   },
   {
    "duration": 400,
    "start_time": "2021-09-09T14:14:57.902Z"
   },
   {
    "duration": 11,
    "start_time": "2021-09-09T14:14:58.304Z"
   }
  ],
  "kernelspec": {
   "display_name": "Python 3",
   "language": "python",
   "name": "python3"
  },
  "language_info": {
   "codemirror_mode": {
    "name": "ipython",
    "version": 3
   },
   "file_extension": ".py",
   "mimetype": "text/x-python",
   "name": "python",
   "nbconvert_exporter": "python",
   "pygments_lexer": "ipython3",
   "version": "3.8.8"
  },
  "toc": {
   "base_numbering": 1,
   "nav_menu": {},
   "number_sections": true,
   "sideBar": true,
   "skip_h1_title": true,
   "title_cell": "Table of Contents",
   "title_sidebar": "Contents",
   "toc_cell": true,
   "toc_position": {},
   "toc_section_display": true,
   "toc_window_display": true
  }
 },
 "nbformat": 4,
 "nbformat_minor": 2
}
