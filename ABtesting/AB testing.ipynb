{
 "cells": [
  {
   "cell_type": "markdown",
   "metadata": {
    "toc": true
   },
   "source": [
    "<h1>Table of Contents<span class=\"tocSkip\"></span></h1>\n",
    "<div class=\"toc\"><ul class=\"toc-item\"><li><span><a href=\"#Комментарий-студента\" data-toc-modified-id=\"Комментарий-студента-1\"><span class=\"toc-item-num\">1&nbsp;&nbsp;</span>Комментарий студента</a></span></li><li><span><a href=\"#Описание-проекта:\" data-toc-modified-id=\"Описание-проекта:-2\"><span class=\"toc-item-num\">2&nbsp;&nbsp;</span>Описание проекта:</a></span></li><li><span><a href=\"#Изучение-и-обработка-данных-из-файла.\" data-toc-modified-id=\"Изучение-и-обработка-данных-из-файла.-3\"><span class=\"toc-item-num\">3&nbsp;&nbsp;</span>Изучение и обработка данных из файла.</a></span></li><li><span><a href=\"#Комментарий-студента\" data-toc-modified-id=\"Комментарий-студента-4\"><span class=\"toc-item-num\">4&nbsp;&nbsp;</span>Комментарий студента</a></span></li><li><span><a href=\"#Комментарий-студента\" data-toc-modified-id=\"Комментарий-студента-5\"><span class=\"toc-item-num\">5&nbsp;&nbsp;</span>Комментарий студента</a></span></li><li><span><a href=\"#Приоритизация-гипотез.\" data-toc-modified-id=\"Приоритизация-гипотез.-6\"><span class=\"toc-item-num\">6&nbsp;&nbsp;</span>Приоритизация гипотез.</a></span><ul class=\"toc-item\"><li><span><a href=\"#Фреймворк-ICE-и-приоритизация-гипотез.\" data-toc-modified-id=\"Фреймворк-ICE-и-приоритизация-гипотез.-6.1\"><span class=\"toc-item-num\">6.1&nbsp;&nbsp;</span>Фреймворк ICE и приоритизация гипотез.</a></span></li></ul></li><li><span><a href=\"#Комментарий-студента\" data-toc-modified-id=\"Комментарий-студента-7\"><span class=\"toc-item-num\">7&nbsp;&nbsp;</span>Комментарий студента</a></span><ul class=\"toc-item\"><li><span><a href=\"#Фреймворк-RICE-и-приоритизация-гипотез.\" data-toc-modified-id=\"Фреймворк-RICE-и-приоритизация-гипотез.-7.1\"><span class=\"toc-item-num\">7.1&nbsp;&nbsp;</span>Фреймворк RICE и приоритизация гипотез.</a></span></li><li><span><a href=\"#Как-изменилась-приоритизация-гипотез-при-применении-RICE-вместо-ICE?\" data-toc-modified-id=\"Как-изменилась-приоритизация-гипотез-при-применении-RICE-вместо-ICE?-7.2\"><span class=\"toc-item-num\">7.2&nbsp;&nbsp;</span>Как изменилась приоритизация гипотез при применении RICE вместо ICE?</a></span></li></ul></li><li><span><a href=\"#Анализ-А/B-теста.\" data-toc-modified-id=\"Анализ-А/B-теста.-8\"><span class=\"toc-item-num\">8&nbsp;&nbsp;</span>Анализ А/B теста.</a></span><ul class=\"toc-item\"><li><span><a href=\"#Постройте-график-кумулятивной-выручки-по-группам.\" data-toc-modified-id=\"Постройте-график-кумулятивной-выручки-по-группам.-8.1\"><span class=\"toc-item-num\">8.1&nbsp;&nbsp;</span>Постройте график кумулятивной выручки по группам.</a></span></li><li><span><a href=\"#Постройте-график-кумулятивного-среднего-чека-по-группам.\" data-toc-modified-id=\"Постройте-график-кумулятивного-среднего-чека-по-группам.-8.2\"><span class=\"toc-item-num\">8.2&nbsp;&nbsp;</span>Постройте график кумулятивного среднего чека по группам.</a></span></li><li><span><a href=\"#Постройте-график-относительного-изменения-кумулятивного-среднего-чека-группы-B-к-группе-A.-Сделайте-выводы-и-предположения.\" data-toc-modified-id=\"Постройте-график-относительного-изменения-кумулятивного-среднего-чека-группы-B-к-группе-A.-Сделайте-выводы-и-предположения.-8.3\"><span class=\"toc-item-num\">8.3&nbsp;&nbsp;</span>Постройте график относительного изменения кумулятивного среднего чека группы B к группе A. Сделайте выводы и предположения.</a></span></li><li><span><a href=\"#Постройте-график-кумулятивной-конверсии-по-группам.-Сделайте-выводы-и-предположения.\" data-toc-modified-id=\"Постройте-график-кумулятивной-конверсии-по-группам.-Сделайте-выводы-и-предположения.-8.4\"><span class=\"toc-item-num\">8.4&nbsp;&nbsp;</span>Постройте график кумулятивной конверсии по группам. Сделайте выводы и предположения.</a></span></li><li><span><a href=\"#Постройте-график-относительного-изменения-кумулятивной-конверсии-группы-B-к-группе-A.\" data-toc-modified-id=\"Постройте-график-относительного-изменения-кумулятивной-конверсии-группы-B-к-группе-A.-8.5\"><span class=\"toc-item-num\">8.5&nbsp;&nbsp;</span>Постройте график относительного изменения кумулятивной конверсии группы B к группе A.</a></span></li><li><span><a href=\"#Постройте-точечный-график-количества-заказов-по-пользователям.\" data-toc-modified-id=\"Постройте-точечный-график-количества-заказов-по-пользователям.-8.6\"><span class=\"toc-item-num\">8.6&nbsp;&nbsp;</span>Постройте точечный график количества заказов по пользователям.</a></span></li><li><span><a href=\"#Посчитайте-95-й-и-99-й-перцентили-количества-заказов-на-пользователя.-Выберите-границу-для-определения-аномальных-пользователей.\" data-toc-modified-id=\"Посчитайте-95-й-и-99-й-перцентили-количества-заказов-на-пользователя.-Выберите-границу-для-определения-аномальных-пользователей.-8.7\"><span class=\"toc-item-num\">8.7&nbsp;&nbsp;</span>Посчитайте 95-й и 99-й перцентили количества заказов на пользователя. Выберите границу для определения аномальных пользователей.</a></span></li><li><span><a href=\"#Постройте-точечный-график-стоимостей-заказов.-Сделайте-выводы-и-предположения.\" data-toc-modified-id=\"Постройте-точечный-график-стоимостей-заказов.-Сделайте-выводы-и-предположения.-8.8\"><span class=\"toc-item-num\">8.8&nbsp;&nbsp;</span>Постройте точечный график стоимостей заказов. Сделайте выводы и предположения.</a></span></li></ul></li><li><span><a href=\"#Комментарий-студента\" data-toc-modified-id=\"Комментарий-студента-9\"><span class=\"toc-item-num\">9&nbsp;&nbsp;</span>Комментарий студента</a></span><ul class=\"toc-item\"><li><span><a href=\"#Посчитайте-95-й-и-99-й-перцентили-стоимости-заказов.-Выберите-границу-для-определения-аномальных-заказов.\" data-toc-modified-id=\"Посчитайте-95-й-и-99-й-перцентили-стоимости-заказов.-Выберите-границу-для-определения-аномальных-заказов.-9.1\"><span class=\"toc-item-num\">9.1&nbsp;&nbsp;</span>Посчитайте 95-й и 99-й перцентили стоимости заказов. Выберите границу для определения аномальных заказов.</a></span></li><li><span><a href=\"#Посчитайте-статистическую-значимость-различий-в-конверсии-между-группами-по-«сырым»-данным.\" data-toc-modified-id=\"Посчитайте-статистическую-значимость-различий-в-конверсии-между-группами-по-«сырым»-данным.-9.2\"><span class=\"toc-item-num\">9.2&nbsp;&nbsp;</span>Посчитайте статистическую значимость различий в конверсии между группами по «сырым» данным.</a></span></li></ul></li><li><span><a href=\"#Комментарий-студента\" data-toc-modified-id=\"Комментарий-студента-10\"><span class=\"toc-item-num\">10&nbsp;&nbsp;</span>Комментарий студента</a></span><ul class=\"toc-item\"><li><span><a href=\"#Посчитайте-статистическую-значимость-различий-в-среднем-чеке-заказа-между-группами-по-«сырым»-данным.\" data-toc-modified-id=\"Посчитайте-статистическую-значимость-различий-в-среднем-чеке-заказа-между-группами-по-«сырым»-данным.-10.1\"><span class=\"toc-item-num\">10.1&nbsp;&nbsp;</span>Посчитайте статистическую значимость различий в среднем чеке заказа между группами по «сырым» данным.</a></span></li><li><span><a href=\"#Посчитайте-статистическую-значимость-различий-в-конверсии-между-группами-по-«очищенным»-данным.-Сделайте-выводы-и-предположения.\" data-toc-modified-id=\"Посчитайте-статистическую-значимость-различий-в-конверсии-между-группами-по-«очищенным»-данным.-Сделайте-выводы-и-предположения.-10.2\"><span class=\"toc-item-num\">10.2&nbsp;&nbsp;</span>Посчитайте статистическую значимость различий в конверсии между группами по «очищенным» данным. Сделайте выводы и предположения.</a></span></li><li><span><a href=\"#Посчитайте-статистическую-значимость-различий-в-среднем-чеке-заказа-между-группами-по-«очищенным»-данным.\" data-toc-modified-id=\"Посчитайте-статистическую-значимость-различий-в-среднем-чеке-заказа-между-группами-по-«очищенным»-данным.-10.3\"><span class=\"toc-item-num\">10.3&nbsp;&nbsp;</span>Посчитайте статистическую значимость различий в среднем чеке заказа между группами по «очищенным» данным.</a></span></li><li><span><a href=\"#Примите-решение-по-результатам-теста-и-объясните-его.\" data-toc-modified-id=\"Примите-решение-по-результатам-теста-и-объясните-его.-10.4\"><span class=\"toc-item-num\">10.4&nbsp;&nbsp;</span>Примите решение по результатам теста и объясните его.</a></span></li></ul></li><li><span><a href=\"#Общий-вывод:\" data-toc-modified-id=\"Общий-вывод:-11\"><span class=\"toc-item-num\">11&nbsp;&nbsp;</span>Общий вывод:</a></span></li><li><span><a href=\"#Комментарий-студента\" data-toc-modified-id=\"Комментарий-студента-12\"><span class=\"toc-item-num\">12&nbsp;&nbsp;</span>Комментарий студента</a></span></li></ul></div>"
   ]
  },
  {
   "cell_type": "markdown",
   "metadata": {},
   "source": [
    "# Hypotheses prioritization and A/B testing."
   ]
  },
  {
   "cell_type": "markdown",
   "metadata": {},
   "source": [
    "## Project description and objectives:"
   ]
  },
  {
   "cell_type": "markdown",
   "metadata": {},
   "source": [
    "A large online store need toincease revenue. The marketing department provides us with a hypotheses list. We need to prioritize the hypotheses, conduct A/B test and analyze the results."
   ]
  },
  {
   "cell_type": "markdown",
   "metadata": {},
   "source": [
    "## Data preprocessing."
   ]
  },
  {
   "cell_type": "markdown",
   "metadata": {},
   "source": [
    "Let's start with importing the libraries and reading the files:"
   ]
  },
  {
   "cell_type": "code",
   "execution_count": 1,
   "metadata": {},
   "outputs": [],
   "source": [
    "import warnings # hiding Anaconda warnings\n",
    "warnings.simplefilter('ignore')\n",
    "import scipy.stats as stats\n",
    "import pandas as pd\n",
    "import datetime as dt\n",
    "import numpy as np\n",
    "import matplotlib.pyplot as plt\n",
    "%matplotlib inline\n",
    "import seaborn as sns\n",
    "from pylab import rcParams\n",
    "pd.options.display.max_colwidth = 150\n",
    "pd.options.display.float_format = '{:.2f}'.format"
   ]
  },
  {
   "cell_type": "code",
   "execution_count": 2,
   "metadata": {},
   "outputs": [
    {
     "data": {
      "text/html": [
       "<div>\n",
       "<style scoped>\n",
       "    .dataframe tbody tr th:only-of-type {\n",
       "        vertical-align: middle;\n",
       "    }\n",
       "\n",
       "    .dataframe tbody tr th {\n",
       "        vertical-align: top;\n",
       "    }\n",
       "\n",
       "    .dataframe thead th {\n",
       "        text-align: right;\n",
       "    }\n",
       "</style>\n",
       "<table border=\"1\" class=\"dataframe\">\n",
       "  <thead>\n",
       "    <tr style=\"text-align: right;\">\n",
       "      <th></th>\n",
       "      <th>Hypothesis</th>\n",
       "      <th>Reach</th>\n",
       "      <th>Impact</th>\n",
       "      <th>Confidence</th>\n",
       "      <th>Efforts</th>\n",
       "    </tr>\n",
       "  </thead>\n",
       "  <tbody>\n",
       "    <tr>\n",
       "      <th>0</th>\n",
       "      <td>Add two new channels for attracting traffic.�</td>\n",
       "      <td>3</td>\n",
       "      <td>10</td>\n",
       "      <td>8</td>\n",
       "      <td>6</td>\n",
       "    </tr>\n",
       "    <tr>\n",
       "      <th>1</th>\n",
       "      <td>Launch your own delivery service. This will sh..</td>\n",
       "      <td>2</td>\n",
       "      <td>5</td>\n",
       "      <td>4</td>\n",
       "      <td>10</td>\n",
       "    </tr>\n",
       "    <tr>\n",
       "      <th>2</th>\n",
       "      <td>Add product recommendation blocks to the store.</td>\n",
       "      <td>8</td>\n",
       "      <td>3</td>\n",
       "      <td>7</td>\n",
       "      <td>3</td>\n",
       "    </tr>\n",
       "    <tr>\n",
       "      <th>3</th>\n",
       "      <td>Change the category structure. This will incre...</td>\n",
       "      <td>8</td>\n",
       "      <td>3</td>\n",
       "      <td>3</td>\n",
       "      <td>8</td>\n",
       "    </tr>\n",
       "    <tr>\n",
       "      <th>4</th>\n",
       "      <td>Change the background color on the main page.�</td>\n",
       "      <td>3</td>\n",
       "      <td>1</td>\n",
       "      <td>1</td>\n",
       "      <td>1</td>\n",
       "    </tr>\n",
       "    <tr>\n",
       "      <th>5</th>\n",
       "      <td>Add a customer review page. This will increase</td>\n",
       "      <td>3</td>\n",
       "      <td>2</td>\n",
       "      <td>2</td>\n",
       "      <td>3</td>\n",
       "    </tr>\n",
       "    <tr>\n",
       "      <th>6</th>\n",
       "      <td>Show banners with current offers and sales on�</td>\n",
       "      <td>5</td>\n",
       "      <td>3</td>\n",
       "      <td>8</td>\n",
       "      <td>3</td>\n",
       "    </tr>\n",
       "    <tr>\n",
       "      <th>7</th>\n",
       "      <td>Add a subscription form to all the main pages.</td>\n",
       "      <td>10</td>\n",
       "      <td>7</td>\n",
       "      <td>8</td>\n",
       "      <td>5</td>\n",
       "    </tr>\n",
       "    <tr>\n",
       "      <th>8</th>\n",
       "      <td>Launch a promotion that gives users discounts</td>\n",
       "      <td>1</td>\n",
       "      <td>9</td>\n",
       "      <td>9</td>\n",
       "      <td>5</td>\n",
       "    </tr>\n",
       "  </tbody>\n",
       "</table>\n",
       "</div>"
      ],
      "text/plain": [
       "                                          Hypothesis  Reach  Impact  \\\n",
       "0      Add two new channels for attracting traffic.�      3      10   \n",
       "1   Launch your own delivery service. This will sh..      2       5   \n",
       "2    Add product recommendation blocks to the store.      8       3   \n",
       "3  Change the category structure. This will incre...      8       3   \n",
       "4     Change the background color on the main page.�      3       1   \n",
       "5     Add a customer review page. This will increase      3       2   \n",
       "6     Show banners with current offers and sales on�      5       3   \n",
       "7     Add a subscription form to all the main pages.     10       7   \n",
       "8      Launch a promotion that gives users discounts      1       9   \n",
       "\n",
       "   Confidence  Efforts  \n",
       "0           8        6  \n",
       "1           4       10  \n",
       "2           7        3  \n",
       "3           3        8  \n",
       "4           1        1  \n",
       "5           2        3  \n",
       "6           8        3  \n",
       "7           8        5  \n",
       "8           9        5  "
      ]
     },
     "execution_count": 2,
     "metadata": {},
     "output_type": "execute_result"
    }
   ],
   "source": [
    "hypothesis = pd.read_csv('datasets/AB testing/hypothesis.csv') # <reading and saving the file \n",
    "hypothesis"
   ]
  },
  {
   "cell_type": "markdown",
   "metadata": {},
   "source": [
    "We can use info() method to study general information about the file:"
   ]
  },
  {
   "cell_type": "code",
   "execution_count": 3,
   "metadata": {},
   "outputs": [
    {
     "name": "stdout",
     "output_type": "stream",
     "text": [
      "<class 'pandas.core.frame.DataFrame'>\n",
      "RangeIndex: 9 entries, 0 to 8\n",
      "Data columns (total 5 columns):\n",
      " #   Column      Non-Null Count  Dtype \n",
      "---  ------      --------------  ----- \n",
      " 0   Hypothesis  9 non-null      object\n",
      " 1   Reach       9 non-null      int64 \n",
      " 2   Impact      9 non-null      int64 \n",
      " 3   Confidence  9 non-null      int64 \n",
      " 4   Efforts     9 non-null      int64 \n",
      "dtypes: int64(4), object(1)\n",
      "memory usage: 488.0+ bytes\n"
     ]
    }
   ],
   "source": [
    "hypothesis.info()"
   ]
  },
  {
   "cell_type": "markdown",
   "metadata": {},
   "source": [
    "The data type is correct. We can replace capital letters with lowercase letters."
   ]
  },
  {
   "cell_type": "code",
   "execution_count": 47,
   "metadata": {},
   "outputs": [
    {
     "data": {
      "text/html": [
       "<div>\n",
       "<style scoped>\n",
       "    .dataframe tbody tr th:only-of-type {\n",
       "        vertical-align: middle;\n",
       "    }\n",
       "\n",
       "    .dataframe tbody tr th {\n",
       "        vertical-align: top;\n",
       "    }\n",
       "\n",
       "    .dataframe thead th {\n",
       "        text-align: right;\n",
       "    }\n",
       "</style>\n",
       "<table border=\"1\" class=\"dataframe\">\n",
       "  <thead>\n",
       "    <tr style=\"text-align: right;\">\n",
       "      <th></th>\n",
       "      <th>hypothesis</th>\n",
       "      <th>reach</th>\n",
       "      <th>impact</th>\n",
       "      <th>confidence</th>\n",
       "      <th>efforts</th>\n",
       "      <th>ice</th>\n",
       "      <th>rice</th>\n",
       "    </tr>\n",
       "  </thead>\n",
       "  <tbody>\n",
       "    <tr>\n",
       "      <th>0</th>\n",
       "      <td>Add two new channels for attracting traffic.�</td>\n",
       "      <td>3</td>\n",
       "      <td>10</td>\n",
       "      <td>8</td>\n",
       "      <td>6</td>\n",
       "      <td>13.33</td>\n",
       "      <td>40.00</td>\n",
       "    </tr>\n",
       "    <tr>\n",
       "      <th>1</th>\n",
       "      <td>Launch your own delivery service. This will sh..</td>\n",
       "      <td>2</td>\n",
       "      <td>5</td>\n",
       "      <td>4</td>\n",
       "      <td>10</td>\n",
       "      <td>2.00</td>\n",
       "      <td>4.00</td>\n",
       "    </tr>\n",
       "    <tr>\n",
       "      <th>2</th>\n",
       "      <td>Add product recommendation blocks to the store.</td>\n",
       "      <td>8</td>\n",
       "      <td>3</td>\n",
       "      <td>7</td>\n",
       "      <td>3</td>\n",
       "      <td>7.00</td>\n",
       "      <td>56.00</td>\n",
       "    </tr>\n",
       "    <tr>\n",
       "      <th>3</th>\n",
       "      <td>Change the category structure. This will incre...</td>\n",
       "      <td>8</td>\n",
       "      <td>3</td>\n",
       "      <td>3</td>\n",
       "      <td>8</td>\n",
       "      <td>1.12</td>\n",
       "      <td>9.00</td>\n",
       "    </tr>\n",
       "    <tr>\n",
       "      <th>4</th>\n",
       "      <td>Change the background color on the main page.�</td>\n",
       "      <td>3</td>\n",
       "      <td>1</td>\n",
       "      <td>1</td>\n",
       "      <td>1</td>\n",
       "      <td>1.00</td>\n",
       "      <td>3.00</td>\n",
       "    </tr>\n",
       "    <tr>\n",
       "      <th>5</th>\n",
       "      <td>Add a customer review page. This will increase</td>\n",
       "      <td>3</td>\n",
       "      <td>2</td>\n",
       "      <td>2</td>\n",
       "      <td>3</td>\n",
       "      <td>1.33</td>\n",
       "      <td>4.00</td>\n",
       "    </tr>\n",
       "    <tr>\n",
       "      <th>6</th>\n",
       "      <td>Show banners with current offers and sales on�</td>\n",
       "      <td>5</td>\n",
       "      <td>3</td>\n",
       "      <td>8</td>\n",
       "      <td>3</td>\n",
       "      <td>8.00</td>\n",
       "      <td>40.00</td>\n",
       "    </tr>\n",
       "    <tr>\n",
       "      <th>7</th>\n",
       "      <td>Add a subscription form to all the main pages.</td>\n",
       "      <td>10</td>\n",
       "      <td>7</td>\n",
       "      <td>8</td>\n",
       "      <td>5</td>\n",
       "      <td>11.20</td>\n",
       "      <td>112.00</td>\n",
       "    </tr>\n",
       "    <tr>\n",
       "      <th>8</th>\n",
       "      <td>Launch a promotion that gives users discounts</td>\n",
       "      <td>1</td>\n",
       "      <td>9</td>\n",
       "      <td>9</td>\n",
       "      <td>5</td>\n",
       "      <td>16.20</td>\n",
       "      <td>16.20</td>\n",
       "    </tr>\n",
       "  </tbody>\n",
       "</table>\n",
       "</div>"
      ],
      "text/plain": [
       "                                          hypothesis  reach  impact  \\\n",
       "0      Add two new channels for attracting traffic.�      3      10   \n",
       "1   Launch your own delivery service. This will sh..      2       5   \n",
       "2    Add product recommendation blocks to the store.      8       3   \n",
       "3  Change the category structure. This will incre...      8       3   \n",
       "4     Change the background color on the main page.�      3       1   \n",
       "5     Add a customer review page. This will increase      3       2   \n",
       "6     Show banners with current offers and sales on�      5       3   \n",
       "7     Add a subscription form to all the main pages.     10       7   \n",
       "8      Launch a promotion that gives users discounts      1       9   \n",
       "\n",
       "   confidence  efforts   ice   rice  \n",
       "0           8        6 13.33  40.00  \n",
       "1           4       10  2.00   4.00  \n",
       "2           7        3  7.00  56.00  \n",
       "3           3        8  1.12   9.00  \n",
       "4           1        1  1.00   3.00  \n",
       "5           2        3  1.33   4.00  \n",
       "6           8        3  8.00  40.00  \n",
       "7           8        5 11.20 112.00  \n",
       "8           9        5 16.20  16.20  "
      ]
     },
     "execution_count": 47,
     "metadata": {},
     "output_type": "execute_result"
    }
   ],
   "source": [
    "hypothesis.columns = hypothesis.columns.str.lower()\n",
    "hypothesis.head(9)"
   ]
  },
  {
   "cell_type": "markdown",
   "metadata": {},
   "source": [
    "Now we have to read 'orders' daraframe. "
   ]
  },
  {
   "cell_type": "code",
   "execution_count": 5,
   "metadata": {},
   "outputs": [
    {
     "data": {
      "text/html": [
       "<div>\n",
       "<style scoped>\n",
       "    .dataframe tbody tr th:only-of-type {\n",
       "        vertical-align: middle;\n",
       "    }\n",
       "\n",
       "    .dataframe tbody tr th {\n",
       "        vertical-align: top;\n",
       "    }\n",
       "\n",
       "    .dataframe thead th {\n",
       "        text-align: right;\n",
       "    }\n",
       "</style>\n",
       "<table border=\"1\" class=\"dataframe\">\n",
       "  <thead>\n",
       "    <tr style=\"text-align: right;\">\n",
       "      <th></th>\n",
       "      <th>transactionId</th>\n",
       "      <th>visitorId</th>\n",
       "      <th>date</th>\n",
       "      <th>revenue</th>\n",
       "      <th>group</th>\n",
       "    </tr>\n",
       "  </thead>\n",
       "  <tbody>\n",
       "    <tr>\n",
       "      <th>0</th>\n",
       "      <td>3667963787</td>\n",
       "      <td>3312258926</td>\n",
       "      <td>2019-08-15</td>\n",
       "      <td>1650</td>\n",
       "      <td>B</td>\n",
       "    </tr>\n",
       "    <tr>\n",
       "      <th>1</th>\n",
       "      <td>2804400009</td>\n",
       "      <td>3642806036</td>\n",
       "      <td>2019-08-15</td>\n",
       "      <td>730</td>\n",
       "      <td>B</td>\n",
       "    </tr>\n",
       "    <tr>\n",
       "      <th>2</th>\n",
       "      <td>2961555356</td>\n",
       "      <td>4069496402</td>\n",
       "      <td>2019-08-15</td>\n",
       "      <td>400</td>\n",
       "      <td>A</td>\n",
       "    </tr>\n",
       "    <tr>\n",
       "      <th>3</th>\n",
       "      <td>3797467345</td>\n",
       "      <td>1196621759</td>\n",
       "      <td>2019-08-15</td>\n",
       "      <td>9759</td>\n",
       "      <td>B</td>\n",
       "    </tr>\n",
       "    <tr>\n",
       "      <th>4</th>\n",
       "      <td>2282983706</td>\n",
       "      <td>2322279887</td>\n",
       "      <td>2019-08-15</td>\n",
       "      <td>2308</td>\n",
       "      <td>B</td>\n",
       "    </tr>\n",
       "  </tbody>\n",
       "</table>\n",
       "</div>"
      ],
      "text/plain": [
       "   transactionId   visitorId        date  revenue group\n",
       "0     3667963787  3312258926  2019-08-15     1650     B\n",
       "1     2804400009  3642806036  2019-08-15      730     B\n",
       "2     2961555356  4069496402  2019-08-15      400     A\n",
       "3     3797467345  1196621759  2019-08-15     9759     B\n",
       "4     2282983706  2322279887  2019-08-15     2308     B"
      ]
     },
     "execution_count": 5,
     "metadata": {},
     "output_type": "execute_result"
    }
   ],
   "source": [
    "orders = pd.read_csv('datasets/AB testing/orders.csv')\n",
    "orders.head()"
   ]
  },
  {
   "cell_type": "markdown",
   "metadata": {},
   "source": [
    "and study the file:"
   ]
  },
  {
   "cell_type": "code",
   "execution_count": 6,
   "metadata": {},
   "outputs": [
    {
     "name": "stdout",
     "output_type": "stream",
     "text": [
      "<class 'pandas.core.frame.DataFrame'>\n",
      "RangeIndex: 1197 entries, 0 to 1196\n",
      "Data columns (total 5 columns):\n",
      " #   Column         Non-Null Count  Dtype \n",
      "---  ------         --------------  ----- \n",
      " 0   transactionId  1197 non-null   int64 \n",
      " 1   visitorId      1197 non-null   int64 \n",
      " 2   date           1197 non-null   object\n",
      " 3   revenue        1197 non-null   int64 \n",
      " 4   group          1197 non-null   object\n",
      "dtypes: int64(3), object(2)\n",
      "memory usage: 46.9+ KB\n"
     ]
    }
   ],
   "source": [
    "orders.info()"
   ]
  },
  {
   "cell_type": "markdown",
   "metadata": {},
   "source": [
    "Here we'll convert data type of 'date' column to datetime64"
   ]
  },
  {
   "cell_type": "code",
   "execution_count": 7,
   "metadata": {},
   "outputs": [],
   "source": [
    "orders['date'] = orders['date'].map(\n",
    "    lambda x: dt.datetime.strptime(x, '%Y-%m-%d')\n",
    ")"
   ]
  },
  {
   "cell_type": "markdown",
   "metadata": {},
   "source": [
    "Let's check for Nan values:"
   ]
  },
  {
   "cell_type": "code",
   "execution_count": 8,
   "metadata": {},
   "outputs": [
    {
     "data": {
      "text/plain": [
       "transactionId    0\n",
       "visitorId        0\n",
       "date             0\n",
       "revenue          0\n",
       "group            0\n",
       "dtype: int64"
      ]
     },
     "execution_count": 8,
     "metadata": {},
     "output_type": "execute_result"
    }
   ],
   "source": [
    "orders.isna().sum()"
   ]
  },
  {
   "cell_type": "markdown",
   "metadata": {},
   "source": [
    "and duplicates:"
   ]
  },
  {
   "cell_type": "code",
   "execution_count": 9,
   "metadata": {},
   "outputs": [
    {
     "data": {
      "text/plain": [
       "0"
      ]
     },
     "execution_count": 9,
     "metadata": {},
     "output_type": "execute_result"
    }
   ],
   "source": [
    "orders.duplicated().sum()"
   ]
  },
  {
   "cell_type": "markdown",
   "metadata": {},
   "source": [
    "Below we replace capital letters with lowercase letters:"
   ]
  },
  {
   "cell_type": "code",
   "execution_count": 10,
   "metadata": {},
   "outputs": [
    {
     "data": {
      "text/html": [
       "<div>\n",
       "<style scoped>\n",
       "    .dataframe tbody tr th:only-of-type {\n",
       "        vertical-align: middle;\n",
       "    }\n",
       "\n",
       "    .dataframe tbody tr th {\n",
       "        vertical-align: top;\n",
       "    }\n",
       "\n",
       "    .dataframe thead th {\n",
       "        text-align: right;\n",
       "    }\n",
       "</style>\n",
       "<table border=\"1\" class=\"dataframe\">\n",
       "  <thead>\n",
       "    <tr style=\"text-align: right;\">\n",
       "      <th></th>\n",
       "      <th>transactionid</th>\n",
       "      <th>visitorid</th>\n",
       "      <th>date</th>\n",
       "      <th>revenue</th>\n",
       "      <th>group</th>\n",
       "    </tr>\n",
       "  </thead>\n",
       "  <tbody>\n",
       "    <tr>\n",
       "      <th>0</th>\n",
       "      <td>3667963787</td>\n",
       "      <td>3312258926</td>\n",
       "      <td>2019-08-15</td>\n",
       "      <td>1650</td>\n",
       "      <td>B</td>\n",
       "    </tr>\n",
       "    <tr>\n",
       "      <th>1</th>\n",
       "      <td>2804400009</td>\n",
       "      <td>3642806036</td>\n",
       "      <td>2019-08-15</td>\n",
       "      <td>730</td>\n",
       "      <td>B</td>\n",
       "    </tr>\n",
       "    <tr>\n",
       "      <th>2</th>\n",
       "      <td>2961555356</td>\n",
       "      <td>4069496402</td>\n",
       "      <td>2019-08-15</td>\n",
       "      <td>400</td>\n",
       "      <td>A</td>\n",
       "    </tr>\n",
       "    <tr>\n",
       "      <th>3</th>\n",
       "      <td>3797467345</td>\n",
       "      <td>1196621759</td>\n",
       "      <td>2019-08-15</td>\n",
       "      <td>9759</td>\n",
       "      <td>B</td>\n",
       "    </tr>\n",
       "    <tr>\n",
       "      <th>4</th>\n",
       "      <td>2282983706</td>\n",
       "      <td>2322279887</td>\n",
       "      <td>2019-08-15</td>\n",
       "      <td>2308</td>\n",
       "      <td>B</td>\n",
       "    </tr>\n",
       "  </tbody>\n",
       "</table>\n",
       "</div>"
      ],
      "text/plain": [
       "   transactionid   visitorid       date  revenue group\n",
       "0     3667963787  3312258926 2019-08-15     1650     B\n",
       "1     2804400009  3642806036 2019-08-15      730     B\n",
       "2     2961555356  4069496402 2019-08-15      400     A\n",
       "3     3797467345  1196621759 2019-08-15     9759     B\n",
       "4     2282983706  2322279887 2019-08-15     2308     B"
      ]
     },
     "execution_count": 10,
     "metadata": {},
     "output_type": "execute_result"
    }
   ],
   "source": [
    "orders.columns = orders.columns.str.lower()\n",
    "orders.head()"
   ]
  },
  {
   "cell_type": "markdown",
   "metadata": {},
   "source": [
    "Let's save and read dataframe 'visitors'. "
   ]
  },
  {
   "cell_type": "code",
   "execution_count": 11,
   "metadata": {},
   "outputs": [
    {
     "data": {
      "text/html": [
       "<div>\n",
       "<style scoped>\n",
       "    .dataframe tbody tr th:only-of-type {\n",
       "        vertical-align: middle;\n",
       "    }\n",
       "\n",
       "    .dataframe tbody tr th {\n",
       "        vertical-align: top;\n",
       "    }\n",
       "\n",
       "    .dataframe thead th {\n",
       "        text-align: right;\n",
       "    }\n",
       "</style>\n",
       "<table border=\"1\" class=\"dataframe\">\n",
       "  <thead>\n",
       "    <tr style=\"text-align: right;\">\n",
       "      <th></th>\n",
       "      <th>date</th>\n",
       "      <th>group</th>\n",
       "      <th>visitors</th>\n",
       "    </tr>\n",
       "  </thead>\n",
       "  <tbody>\n",
       "    <tr>\n",
       "      <th>0</th>\n",
       "      <td>2019-08-01</td>\n",
       "      <td>A</td>\n",
       "      <td>719</td>\n",
       "    </tr>\n",
       "    <tr>\n",
       "      <th>1</th>\n",
       "      <td>2019-08-02</td>\n",
       "      <td>A</td>\n",
       "      <td>619</td>\n",
       "    </tr>\n",
       "    <tr>\n",
       "      <th>2</th>\n",
       "      <td>2019-08-03</td>\n",
       "      <td>A</td>\n",
       "      <td>507</td>\n",
       "    </tr>\n",
       "    <tr>\n",
       "      <th>3</th>\n",
       "      <td>2019-08-04</td>\n",
       "      <td>A</td>\n",
       "      <td>717</td>\n",
       "    </tr>\n",
       "    <tr>\n",
       "      <th>4</th>\n",
       "      <td>2019-08-05</td>\n",
       "      <td>A</td>\n",
       "      <td>756</td>\n",
       "    </tr>\n",
       "  </tbody>\n",
       "</table>\n",
       "</div>"
      ],
      "text/plain": [
       "         date group  visitors\n",
       "0  2019-08-01     A       719\n",
       "1  2019-08-02     A       619\n",
       "2  2019-08-03     A       507\n",
       "3  2019-08-04     A       717\n",
       "4  2019-08-05     A       756"
      ]
     },
     "execution_count": 11,
     "metadata": {},
     "output_type": "execute_result"
    }
   ],
   "source": [
    "visitors = pd.read_csv('datasets/AB testing/visitors.csv')\n",
    "visitors.head()"
   ]
  },
  {
   "cell_type": "markdown",
   "metadata": {},
   "source": [
    "We study the general information:"
   ]
  },
  {
   "cell_type": "code",
   "execution_count": 12,
   "metadata": {},
   "outputs": [
    {
     "name": "stdout",
     "output_type": "stream",
     "text": [
      "<class 'pandas.core.frame.DataFrame'>\n",
      "RangeIndex: 62 entries, 0 to 61\n",
      "Data columns (total 3 columns):\n",
      " #   Column    Non-Null Count  Dtype \n",
      "---  ------    --------------  ----- \n",
      " 0   date      62 non-null     object\n",
      " 1   group     62 non-null     object\n",
      " 2   visitors  62 non-null     int64 \n",
      "dtypes: int64(1), object(2)\n",
      "memory usage: 1.6+ KB\n"
     ]
    }
   ],
   "source": [
    "visitors.info()"
   ]
  },
  {
   "cell_type": "markdown",
   "metadata": {},
   "source": [
    "Then we convert datatype of 'date' column to datetime64"
   ]
  },
  {
   "cell_type": "code",
   "execution_count": 13,
   "metadata": {},
   "outputs": [],
   "source": [
    "visitors['date'] = visitors['date'].map(\n",
    "    lambda x: dt.datetime.strptime(x, '%Y-%m-%d')\n",
    ")"
   ]
  },
  {
   "cell_type": "markdown",
   "metadata": {},
   "source": [
    "Let's check for Nan values:"
   ]
  },
  {
   "cell_type": "code",
   "execution_count": 14,
   "metadata": {},
   "outputs": [
    {
     "data": {
      "text/plain": [
       "date        0\n",
       "group       0\n",
       "visitors    0\n",
       "dtype: int64"
      ]
     },
     "execution_count": 14,
     "metadata": {},
     "output_type": "execute_result"
    }
   ],
   "source": [
    "visitors.isna().sum()"
   ]
  },
  {
   "cell_type": "markdown",
   "metadata": {},
   "source": [
    "and duplicates:"
   ]
  },
  {
   "cell_type": "code",
   "execution_count": 15,
   "metadata": {},
   "outputs": [
    {
     "data": {
      "text/plain": [
       "0"
      ]
     },
     "execution_count": 15,
     "metadata": {},
     "output_type": "execute_result"
    }
   ],
   "source": [
    "visitors.duplicated().sum()"
   ]
  },
  {
   "cell_type": "markdown",
   "metadata": {},
   "source": [
    "It will be useful to check if there are any cases when one and the same client is in both the groups. For this purpose we divide orders dataframe into 2 groups: A and B. Then we merge these 2 groups on 'visitorid' "
   ]
  },
  {
   "cell_type": "code",
   "execution_count": 16,
   "metadata": {
    "scrolled": true
   },
   "outputs": [
    {
     "data": {
      "text/html": [
       "<div>\n",
       "<style scoped>\n",
       "    .dataframe tbody tr th:only-of-type {\n",
       "        vertical-align: middle;\n",
       "    }\n",
       "\n",
       "    .dataframe tbody tr th {\n",
       "        vertical-align: top;\n",
       "    }\n",
       "\n",
       "    .dataframe thead th {\n",
       "        text-align: right;\n",
       "    }\n",
       "</style>\n",
       "<table border=\"1\" class=\"dataframe\">\n",
       "  <thead>\n",
       "    <tr style=\"text-align: right;\">\n",
       "      <th></th>\n",
       "      <th>transactionid_x</th>\n",
       "      <th>visitorid</th>\n",
       "      <th>date_x</th>\n",
       "      <th>revenue_x</th>\n",
       "      <th>group_x</th>\n",
       "      <th>transactionid_y</th>\n",
       "      <th>date_y</th>\n",
       "      <th>revenue_y</th>\n",
       "      <th>group_y</th>\n",
       "    </tr>\n",
       "  </thead>\n",
       "  <tbody>\n",
       "    <tr>\n",
       "      <th>0</th>\n",
       "      <td>2961555356</td>\n",
       "      <td>4069496402</td>\n",
       "      <td>2019-08-15</td>\n",
       "      <td>400</td>\n",
       "      <td>A</td>\n",
       "      <td>1473132782</td>\n",
       "      <td>2019-08-12</td>\n",
       "      <td>640</td>\n",
       "      <td>B</td>\n",
       "    </tr>\n",
       "    <tr>\n",
       "      <th>1</th>\n",
       "      <td>2223239646</td>\n",
       "      <td>199603092</td>\n",
       "      <td>2019-08-15</td>\n",
       "      <td>3488</td>\n",
       "      <td>A</td>\n",
       "      <td>437656952</td>\n",
       "      <td>2019-08-02</td>\n",
       "      <td>3488</td>\n",
       "      <td>B</td>\n",
       "    </tr>\n",
       "    <tr>\n",
       "      <th>2</th>\n",
       "      <td>62794304</td>\n",
       "      <td>199603092</td>\n",
       "      <td>2019-08-22</td>\n",
       "      <td>6976</td>\n",
       "      <td>A</td>\n",
       "      <td>437656952</td>\n",
       "      <td>2019-08-02</td>\n",
       "      <td>3488</td>\n",
       "      <td>B</td>\n",
       "    </tr>\n",
       "    <tr>\n",
       "      <th>3</th>\n",
       "      <td>2971973105</td>\n",
       "      <td>199603092</td>\n",
       "      <td>2019-08-27</td>\n",
       "      <td>2790</td>\n",
       "      <td>A</td>\n",
       "      <td>437656952</td>\n",
       "      <td>2019-08-02</td>\n",
       "      <td>3488</td>\n",
       "      <td>B</td>\n",
       "    </tr>\n",
       "    <tr>\n",
       "      <th>4</th>\n",
       "      <td>1941707234</td>\n",
       "      <td>199603092</td>\n",
       "      <td>2019-08-12</td>\n",
       "      <td>6438</td>\n",
       "      <td>A</td>\n",
       "      <td>437656952</td>\n",
       "      <td>2019-08-02</td>\n",
       "      <td>3488</td>\n",
       "      <td>B</td>\n",
       "    </tr>\n",
       "  </tbody>\n",
       "</table>\n",
       "</div>"
      ],
      "text/plain": [
       "   transactionid_x   visitorid     date_x  revenue_x group_x  transactionid_y  \\\n",
       "0       2961555356  4069496402 2019-08-15        400       A       1473132782   \n",
       "1       2223239646   199603092 2019-08-15       3488       A        437656952   \n",
       "2         62794304   199603092 2019-08-22       6976       A        437656952   \n",
       "3       2971973105   199603092 2019-08-27       2790       A        437656952   \n",
       "4       1941707234   199603092 2019-08-12       6438       A        437656952   \n",
       "\n",
       "      date_y  revenue_y group_y  \n",
       "0 2019-08-12        640       B  \n",
       "1 2019-08-02       3488       B  \n",
       "2 2019-08-02       3488       B  \n",
       "3 2019-08-02       3488       B  \n",
       "4 2019-08-02       3488       B  "
      ]
     },
     "execution_count": 16,
     "metadata": {},
     "output_type": "execute_result"
    }
   ],
   "source": [
    "orders_a=orders.query('group==\"A\"')\n",
    "orders_b=orders.query('group==\"B\"')\n",
    "orders_a_b=orders_a.merge(orders_b, how='inner', on='visitorid' )\n",
    "orders_a_b.head()"
   ]
  },
  {
   "cell_type": "code",
   "execution_count": 17,
   "metadata": {},
   "outputs": [
    {
     "data": {
      "text/plain": [
       "0.15"
      ]
     },
     "execution_count": 17,
     "metadata": {},
     "output_type": "execute_result"
    }
   ],
   "source": [
    "wrong_data=round(len(orders_a_b)/len(orders),2)\n",
    "wrong_data"
   ]
  },
  {
   "cell_type": "markdown",
   "metadata": {},
   "source": [
    "In 'orders' dataframe we have 183 cases (or 15% of the dataframe ) when one and the same client is in both the groups, A and B. It's wrong and we should inform the colleagues providing us with the data about this issue."
   ]
  },
  {
   "cell_type": "markdown",
   "metadata": {},
   "source": [
    "In this part of our analysis we saved and read the data, studied the general information about the dataframes, checked for Nan valus and duplicates and made all the necessary conversions."
   ]
  },
  {
   "cell_type": "markdown",
   "metadata": {},
   "source": [
    "## Hypothesis prioritization."
   ]
  },
  {
   "cell_type": "markdown",
   "metadata": {},
   "source": [
    "### ICE framework and hypothesis prioritization."
   ]
  },
  {
   "cell_type": "markdown",
   "metadata": {},
   "source": [
    "Now we have to calculate ICE parameter:"
   ]
  },
  {
   "cell_type": "code",
   "execution_count": 18,
   "metadata": {},
   "outputs": [
    {
     "data": {
      "text/html": [
       "<div>\n",
       "<style scoped>\n",
       "    .dataframe tbody tr th:only-of-type {\n",
       "        vertical-align: middle;\n",
       "    }\n",
       "\n",
       "    .dataframe tbody tr th {\n",
       "        vertical-align: top;\n",
       "    }\n",
       "\n",
       "    .dataframe thead th {\n",
       "        text-align: right;\n",
       "    }\n",
       "</style>\n",
       "<table border=\"1\" class=\"dataframe\">\n",
       "  <thead>\n",
       "    <tr style=\"text-align: right;\">\n",
       "      <th></th>\n",
       "      <th>hypothesis</th>\n",
       "      <th>ICE</th>\n",
       "    </tr>\n",
       "  </thead>\n",
       "  <tbody>\n",
       "    <tr>\n",
       "      <th>8</th>\n",
       "      <td>Launch a promotion that gives users discounts</td>\n",
       "      <td>16.20</td>\n",
       "    </tr>\n",
       "    <tr>\n",
       "      <th>0</th>\n",
       "      <td>Add two new channels for attracting traffic.�</td>\n",
       "      <td>13.33</td>\n",
       "    </tr>\n",
       "    <tr>\n",
       "      <th>7</th>\n",
       "      <td>Add a subscription form to all the main pages.</td>\n",
       "      <td>11.20</td>\n",
       "    </tr>\n",
       "    <tr>\n",
       "      <th>6</th>\n",
       "      <td>Show banners with current offers and sales on�</td>\n",
       "      <td>8.00</td>\n",
       "    </tr>\n",
       "    <tr>\n",
       "      <th>2</th>\n",
       "      <td>Add product recommendation blocks to the store.</td>\n",
       "      <td>7.00</td>\n",
       "    </tr>\n",
       "    <tr>\n",
       "      <th>1</th>\n",
       "      <td>Launch your own delivery service. This will sh..</td>\n",
       "      <td>2.00</td>\n",
       "    </tr>\n",
       "    <tr>\n",
       "      <th>5</th>\n",
       "      <td>Add a customer review page. This will increase</td>\n",
       "      <td>1.33</td>\n",
       "    </tr>\n",
       "    <tr>\n",
       "      <th>3</th>\n",
       "      <td>Change the category structure. This will incre...</td>\n",
       "      <td>1.12</td>\n",
       "    </tr>\n",
       "    <tr>\n",
       "      <th>4</th>\n",
       "      <td>Change the background color on the main page.�</td>\n",
       "      <td>1.00</td>\n",
       "    </tr>\n",
       "  </tbody>\n",
       "</table>\n",
       "</div>"
      ],
      "text/plain": [
       "                                          hypothesis   ICE\n",
       "8      Launch a promotion that gives users discounts 16.20\n",
       "0      Add two new channels for attracting traffic.� 13.33\n",
       "7     Add a subscription form to all the main pages. 11.20\n",
       "6     Show banners with current offers and sales on�  8.00\n",
       "2    Add product recommendation blocks to the store.  7.00\n",
       "1   Launch your own delivery service. This will sh..  2.00\n",
       "5     Add a customer review page. This will increase  1.33\n",
       "3  Change the category structure. This will incre...  1.12\n",
       "4     Change the background color on the main page.�  1.00"
      ]
     },
     "execution_count": 18,
     "metadata": {},
     "output_type": "execute_result"
    }
   ],
   "source": [
    "hypothesis['ICE'] = ((hypothesis['impact']*hypothesis['confidence'])/hypothesis['efforts']).round(2)\n",
    "hypothesis[['hypothesis','ICE']].sort_values(by='ICE', ascending=False)"
   ]
  },
  {
   "cell_type": "markdown",
   "metadata": {},
   "source": [
    "It makes sense to test 8, 0 and 7 hypotheses."
   ]
  },
  {
   "cell_type": "markdown",
   "metadata": {},
   "source": [
    "### RICE framework and hypothesis prioritization."
   ]
  },
  {
   "cell_type": "markdown",
   "metadata": {},
   "source": [
    "Here we'll apply RICE method:"
   ]
  },
  {
   "cell_type": "code",
   "execution_count": 19,
   "metadata": {},
   "outputs": [
    {
     "data": {
      "text/html": [
       "<div>\n",
       "<style scoped>\n",
       "    .dataframe tbody tr th:only-of-type {\n",
       "        vertical-align: middle;\n",
       "    }\n",
       "\n",
       "    .dataframe tbody tr th {\n",
       "        vertical-align: top;\n",
       "    }\n",
       "\n",
       "    .dataframe thead th {\n",
       "        text-align: right;\n",
       "    }\n",
       "</style>\n",
       "<table border=\"1\" class=\"dataframe\">\n",
       "  <thead>\n",
       "    <tr style=\"text-align: right;\">\n",
       "      <th></th>\n",
       "      <th>hypothesis</th>\n",
       "      <th>RICE</th>\n",
       "    </tr>\n",
       "  </thead>\n",
       "  <tbody>\n",
       "    <tr>\n",
       "      <th>7</th>\n",
       "      <td>Add a subscription form to all the main pages.</td>\n",
       "      <td>112.00</td>\n",
       "    </tr>\n",
       "    <tr>\n",
       "      <th>2</th>\n",
       "      <td>Add product recommendation blocks to the store.</td>\n",
       "      <td>56.00</td>\n",
       "    </tr>\n",
       "    <tr>\n",
       "      <th>0</th>\n",
       "      <td>Add two new channels for attracting traffic.�</td>\n",
       "      <td>40.00</td>\n",
       "    </tr>\n",
       "    <tr>\n",
       "      <th>6</th>\n",
       "      <td>Show banners with current offers and sales on�</td>\n",
       "      <td>40.00</td>\n",
       "    </tr>\n",
       "    <tr>\n",
       "      <th>8</th>\n",
       "      <td>Launch a promotion that gives users discounts</td>\n",
       "      <td>16.20</td>\n",
       "    </tr>\n",
       "    <tr>\n",
       "      <th>3</th>\n",
       "      <td>Change the category structure. This will incre...</td>\n",
       "      <td>9.00</td>\n",
       "    </tr>\n",
       "    <tr>\n",
       "      <th>1</th>\n",
       "      <td>Launch your own delivery service. This will sh..</td>\n",
       "      <td>4.00</td>\n",
       "    </tr>\n",
       "    <tr>\n",
       "      <th>5</th>\n",
       "      <td>Add a customer review page. This will increase</td>\n",
       "      <td>4.00</td>\n",
       "    </tr>\n",
       "    <tr>\n",
       "      <th>4</th>\n",
       "      <td>Change the background color on the main page.�</td>\n",
       "      <td>3.00</td>\n",
       "    </tr>\n",
       "  </tbody>\n",
       "</table>\n",
       "</div>"
      ],
      "text/plain": [
       "                                          hypothesis   RICE\n",
       "7     Add a subscription form to all the main pages. 112.00\n",
       "2    Add product recommendation blocks to the store.  56.00\n",
       "0      Add two new channels for attracting traffic.�  40.00\n",
       "6     Show banners with current offers and sales on�  40.00\n",
       "8      Launch a promotion that gives users discounts  16.20\n",
       "3  Change the category structure. This will incre...   9.00\n",
       "1   Launch your own delivery service. This will sh..   4.00\n",
       "5     Add a customer review page. This will increase   4.00\n",
       "4     Change the background color on the main page.�   3.00"
      ]
     },
     "execution_count": 19,
     "metadata": {},
     "output_type": "execute_result"
    }
   ],
   "source": [
    "hypothesis['RICE']=(hypothesis['reach']*hypothesis['impact']*hypothesis['confidence'])/hypothesis['efforts']\n",
    "hypothesis[['hypothesis','RICE']].sort_values(by='RICE', ascending=False)"
   ]
  },
  {
   "cell_type": "markdown",
   "metadata": {},
   "source": [
    "According to Rice method, we should test 7, 2 and 0 hypotheses."
   ]
  },
  {
   "cell_type": "markdown",
   "metadata": {},
   "source": [
    "### Как изменилась приоритизация гипотез при применении RICE вместо ICE?"
   ]
  },
  {
   "cell_type": "markdown",
   "metadata": {},
   "source": [
    "When we apply ICE scoring model 8, 0 and 7 hypotheses show the best results. With  RICE method it makes sense to test 7, 2 and 0 hypotheses. The results are different because RICE method includes REACH reach parameter and hypothesis 7 has the highest REACH parameter of all."
   ]
  },
  {
   "cell_type": "markdown",
   "metadata": {},
   "source": [
    "## А/B test analysis."
   ]
  },
  {
   "cell_type": "markdown",
   "metadata": {},
   "source": [
    "### Cumulative revenue by groups."
   ]
  },
  {
   "cell_type": "markdown",
   "metadata": {},
   "source": [
    "1) Let's take unique pairs from 'date' and 'group' columns in 'orders' file and save them in datesGroups dataframe Создадим датафрейм datesGroups с уникальными парами значений 'date' и 'group', таблицы orders. \n",
    "2) Then we create ordersAggregated file containing date, A/B test group, number of unique orders for each group for a given date, number of unique users who placed at least 1 order by the given date. \n",
    "3) visitorsAggregated dataframe containing date, A/B test group, number of unique visitors in each group for the given date. \n",
    "Объявим переменную ordersAggregated, содержащую:\n",
    "дату;\n",
    "группу A/B-теста;\n",
    "число уникальных заказов в группе теста по указанную дату включительно;\n",
    "число уникальных пользователей, совершивших хотя бы 1 заказ в группе теста по указанную дату включительно;\n",
    "суммарную выручку заказов в группе теста по указанную дату включительно.\n",
    "3) Объявим переменную visitorsAggregated, содержащую:\n",
    "дату;\n",
    "группу A/B-теста;\n",
    "количество уникальных посетителей в группе теста по указанную дату включительно.\n",
    "4) ordersAggregated и visitorsAggregated отсортируем по столбцам 'date', 'group' в указанном порядке."
   ]
  },
  {
   "cell_type": "code",
   "execution_count": 20,
   "metadata": {},
   "outputs": [
    {
     "data": {
      "text/html": [
       "<div>\n",
       "<style scoped>\n",
       "    .dataframe tbody tr th:only-of-type {\n",
       "        vertical-align: middle;\n",
       "    }\n",
       "\n",
       "    .dataframe tbody tr th {\n",
       "        vertical-align: top;\n",
       "    }\n",
       "\n",
       "    .dataframe thead th {\n",
       "        text-align: right;\n",
       "    }\n",
       "</style>\n",
       "<table border=\"1\" class=\"dataframe\">\n",
       "  <thead>\n",
       "    <tr style=\"text-align: right;\">\n",
       "      <th></th>\n",
       "      <th>date</th>\n",
       "      <th>group</th>\n",
       "      <th>transactionid</th>\n",
       "      <th>visitorid</th>\n",
       "      <th>revenue</th>\n",
       "    </tr>\n",
       "  </thead>\n",
       "  <tbody>\n",
       "    <tr>\n",
       "      <th>55</th>\n",
       "      <td>2019-08-01</td>\n",
       "      <td>A</td>\n",
       "      <td>24</td>\n",
       "      <td>20</td>\n",
       "      <td>148579</td>\n",
       "    </tr>\n",
       "    <tr>\n",
       "      <th>66</th>\n",
       "      <td>2019-08-01</td>\n",
       "      <td>B</td>\n",
       "      <td>21</td>\n",
       "      <td>20</td>\n",
       "      <td>101217</td>\n",
       "    </tr>\n",
       "    <tr>\n",
       "      <th>175</th>\n",
       "      <td>2019-08-02</td>\n",
       "      <td>A</td>\n",
       "      <td>44</td>\n",
       "      <td>38</td>\n",
       "      <td>242401</td>\n",
       "    </tr>\n",
       "    <tr>\n",
       "      <th>173</th>\n",
       "      <td>2019-08-02</td>\n",
       "      <td>B</td>\n",
       "      <td>45</td>\n",
       "      <td>43</td>\n",
       "      <td>266748</td>\n",
       "    </tr>\n",
       "    <tr>\n",
       "      <th>291</th>\n",
       "      <td>2019-08-03</td>\n",
       "      <td>A</td>\n",
       "      <td>68</td>\n",
       "      <td>62</td>\n",
       "      <td>354874</td>\n",
       "    </tr>\n",
       "  </tbody>\n",
       "</table>\n",
       "</div>"
      ],
      "text/plain": [
       "          date group  transactionid  visitorid  revenue\n",
       "55  2019-08-01     A             24         20   148579\n",
       "66  2019-08-01     B             21         20   101217\n",
       "175 2019-08-02     A             44         38   242401\n",
       "173 2019-08-02     B             45         43   266748\n",
       "291 2019-08-03     A             68         62   354874"
      ]
     },
     "execution_count": 20,
     "metadata": {},
     "output_type": "execute_result"
    }
   ],
   "source": [
    "datesGroups = orders[['date','group']].drop_duplicates() \n",
    "ordersAggregated=datesGroups.apply(\n",
    "    lambda x: orders[np.logical_and(orders['date'] <= x['date'], orders['group'] == x['group'])].agg({\n",
    "'date' : 'max',\n",
    "'group' : 'max',\n",
    "'transactionid' : pd.Series.nunique,\n",
    "'visitorid' : pd.Series.nunique,\n",
    "'revenue' : 'sum'}), axis=1).sort_values(by=['date','group']) \n",
    "ordersAggregated.head()"
   ]
  },
  {
   "cell_type": "code",
   "execution_count": 21,
   "metadata": {},
   "outputs": [],
   "source": [
    "visitorsAggregated = datesGroups.apply(lambda x: visitors[np.logical_and(visitors['date'] <= x['date'], visitors['group'] == x['group'])].agg({'date' : 'max', 'group' : 'max', 'visitors' : 'sum'}), axis=1).sort_values(by=['date','group'])"
   ]
  },
  {
   "cell_type": "markdown",
   "metadata": {},
   "source": [
    "For further analysis we merge ordersAggregated and visitorsAggregated dataframes on 'date' and 'group' columns and save save this merged data as 'cumulativeData'. We also rename the columns: ['date', 'group', 'orders', 'buyers', 'revenue', 'visitors']"
   ]
  },
  {
   "cell_type": "code",
   "execution_count": 22,
   "metadata": {},
   "outputs": [
    {
     "name": "stdout",
     "output_type": "stream",
     "text": [
      "        date group  orders  buyers  revenue  visitors\n",
      "0 2019-08-01     A      24      20   148579       719\n",
      "1 2019-08-01     B      21      20   101217       713\n",
      "2 2019-08-02     A      44      38   242401      1338\n",
      "3 2019-08-02     B      45      43   266748      1294\n",
      "4 2019-08-03     A      68      62   354874      1845\n"
     ]
    }
   ],
   "source": [
    "cumulativeData = ordersAggregated.merge(visitorsAggregated, left_on=['date', 'group'], right_on=['date', 'group'])\n",
    "cumulativeData.columns = ['date', 'group', 'orders', 'buyers', 'revenue', 'visitors']\n",
    "print(cumulativeData.head(5)) "
   ]
  },
  {
   "cell_type": "markdown",
   "metadata": {},
   "source": [
    "Then we declare the variables 'cumulativeRevenueA' and 'cumulativeRevenueB'. These 2 new dataframes have 3 columns: data, revenue, number of orders for each group. After that we can build a graph showing cumulative revenue for each group. "
   ]
  },
  {
   "cell_type": "code",
   "execution_count": 23,
   "metadata": {},
   "outputs": [
    {
     "data": {
      "text/html": [
       "<div>\n",
       "<style scoped>\n",
       "    .dataframe tbody tr th:only-of-type {\n",
       "        vertical-align: middle;\n",
       "    }\n",
       "\n",
       "    .dataframe tbody tr th {\n",
       "        vertical-align: top;\n",
       "    }\n",
       "\n",
       "    .dataframe thead th {\n",
       "        text-align: right;\n",
       "    }\n",
       "</style>\n",
       "<table border=\"1\" class=\"dataframe\">\n",
       "  <thead>\n",
       "    <tr style=\"text-align: right;\">\n",
       "      <th></th>\n",
       "      <th>date</th>\n",
       "      <th>revenue</th>\n",
       "      <th>orders</th>\n",
       "    </tr>\n",
       "  </thead>\n",
       "  <tbody>\n",
       "    <tr>\n",
       "      <th>0</th>\n",
       "      <td>2019-08-01</td>\n",
       "      <td>148579</td>\n",
       "      <td>24</td>\n",
       "    </tr>\n",
       "    <tr>\n",
       "      <th>2</th>\n",
       "      <td>2019-08-02</td>\n",
       "      <td>242401</td>\n",
       "      <td>44</td>\n",
       "    </tr>\n",
       "    <tr>\n",
       "      <th>4</th>\n",
       "      <td>2019-08-03</td>\n",
       "      <td>354874</td>\n",
       "      <td>68</td>\n",
       "    </tr>\n",
       "    <tr>\n",
       "      <th>6</th>\n",
       "      <td>2019-08-04</td>\n",
       "      <td>425699</td>\n",
       "      <td>84</td>\n",
       "    </tr>\n",
       "    <tr>\n",
       "      <th>8</th>\n",
       "      <td>2019-08-05</td>\n",
       "      <td>549917</td>\n",
       "      <td>109</td>\n",
       "    </tr>\n",
       "  </tbody>\n",
       "</table>\n",
       "</div>"
      ],
      "text/plain": [
       "        date  revenue  orders\n",
       "0 2019-08-01   148579      24\n",
       "2 2019-08-02   242401      44\n",
       "4 2019-08-03   354874      68\n",
       "6 2019-08-04   425699      84\n",
       "8 2019-08-05   549917     109"
      ]
     },
     "execution_count": 23,
     "metadata": {},
     "output_type": "execute_result"
    }
   ],
   "source": [
    "cumulativeRevenueA = cumulativeData[cumulativeData['group']=='A'][['date','revenue', 'orders']]\n",
    "cumulativeRevenueA.head()"
   ]
  },
  {
   "cell_type": "code",
   "execution_count": 24,
   "metadata": {},
   "outputs": [
    {
     "data": {
      "text/html": [
       "<div>\n",
       "<style scoped>\n",
       "    .dataframe tbody tr th:only-of-type {\n",
       "        vertical-align: middle;\n",
       "    }\n",
       "\n",
       "    .dataframe tbody tr th {\n",
       "        vertical-align: top;\n",
       "    }\n",
       "\n",
       "    .dataframe thead th {\n",
       "        text-align: right;\n",
       "    }\n",
       "</style>\n",
       "<table border=\"1\" class=\"dataframe\">\n",
       "  <thead>\n",
       "    <tr style=\"text-align: right;\">\n",
       "      <th></th>\n",
       "      <th>date</th>\n",
       "      <th>revenue</th>\n",
       "      <th>orders</th>\n",
       "    </tr>\n",
       "  </thead>\n",
       "  <tbody>\n",
       "    <tr>\n",
       "      <th>1</th>\n",
       "      <td>2019-08-01</td>\n",
       "      <td>101217</td>\n",
       "      <td>21</td>\n",
       "    </tr>\n",
       "    <tr>\n",
       "      <th>3</th>\n",
       "      <td>2019-08-02</td>\n",
       "      <td>266748</td>\n",
       "      <td>45</td>\n",
       "    </tr>\n",
       "    <tr>\n",
       "      <th>5</th>\n",
       "      <td>2019-08-03</td>\n",
       "      <td>380996</td>\n",
       "      <td>61</td>\n",
       "    </tr>\n",
       "    <tr>\n",
       "      <th>7</th>\n",
       "      <td>2019-08-04</td>\n",
       "      <td>489567</td>\n",
       "      <td>78</td>\n",
       "    </tr>\n",
       "    <tr>\n",
       "      <th>9</th>\n",
       "      <td>2019-08-05</td>\n",
       "      <td>581995</td>\n",
       "      <td>101</td>\n",
       "    </tr>\n",
       "  </tbody>\n",
       "</table>\n",
       "</div>"
      ],
      "text/plain": [
       "        date  revenue  orders\n",
       "1 2019-08-01   101217      21\n",
       "3 2019-08-02   266748      45\n",
       "5 2019-08-03   380996      61\n",
       "7 2019-08-04   489567      78\n",
       "9 2019-08-05   581995     101"
      ]
     },
     "execution_count": 24,
     "metadata": {},
     "output_type": "execute_result"
    }
   ],
   "source": [
    "cumulativeRevenueB = cumulativeData[cumulativeData['group']=='B'][['date','revenue', 'orders']]\n",
    "cumulativeRevenueB.head()"
   ]
  },
  {
   "cell_type": "code",
   "execution_count": 25,
   "metadata": {},
   "outputs": [
    {
     "data": {
      "image/png": "[encoded data removed]",
      "text/plain": [
       "<Figure size 432x288 with 1 Axes>"
      ]
     },
     "metadata": {
      "needs_background": "light"
     },
     "output_type": "display_data"
    }
   ],
   "source": [
    "plt.plot(cumulativeRevenueA['date'], cumulativeRevenueA['revenue'], label='A')\n",
    "plt.plot(cumulativeRevenueB['date'], cumulativeRevenueB['revenue'], label='B')\n",
    "plt.xticks(rotation=45)\n",
    "plt.title('Cumulative revenue by groups')\n",
    "plt.ylabel(\"Revenue\")\n",
    "plt.legend() \n",
    "plt.show()"
   ]
  },
  {
   "cell_type": "markdown",
   "metadata": {},
   "source": [
    "As we can see, at the beginning both the gropus show similar results. However, over the time group B shows better results. Group B demonstrates a sharp rise 08.17-08.21. Evidently that group received big/bulky orders."
   ]
  },
  {
   "cell_type": "markdown",
   "metadata": {},
   "source": [
    "### Cumulative bill by groups."
   ]
  },
  {
   "cell_type": "markdown",
   "metadata": {},
   "source": [
    "We can calculate average bill by dividing cumulativeRevenueA['revenue']/cumulativeRevenueA['orders']. Now we have to build a graph by using plt.plot() setting parameters label='A' and label='B'. "
   ]
  },
  {
   "cell_type": "code",
   "execution_count": 26,
   "metadata": {},
   "outputs": [
    {
     "data": {
      "image/png": "[encoded data removed]",
      "text/plain": [
       "<Figure size 432x288 with 1 Axes>"
      ]
     },
     "metadata": {
      "needs_background": "light"
     },
     "output_type": "display_data"
    }
   ],
   "source": [
    "cumulativeRevenueA['average_check']=cumulativeRevenueA['revenue']/cumulativeRevenueA['orders']\n",
    "cumulativeRevenueB['average_check']=cumulativeRevenueB['revenue']/cumulativeRevenueB['orders']\n",
    "plt.plot(cumulativeRevenueA['date'], cumulativeRevenueA['average_check'], label='A')\n",
    "plt.plot(cumulativeRevenueB['date'], cumulativeRevenueB['average_check'], label='B')\n",
    "plt.title('Cumulative bill by groups')\n",
    "plt.ylabel(\"Cumulative bill\")\n",
    "plt.xticks(rotation=45)\n",
    "plt.legend() \n",
    "plt.show()"
   ]
  },
  {
   "cell_type": "markdown",
   "metadata": {},
   "source": [
    "Until 08.17 we see fluctuations in average bills. On 08.17 group B starts receiving bulky orders and demonstrates a sharp rise in the average bill."
   ]
  },
  {
   "cell_type": "markdown",
   "metadata": {},
   "source": [
    "### Relative difference for Group B cumulative average bill compared to group A."
   ]
  },
  {
   "cell_type": "markdown",
   "metadata": {},
   "source": [
    "To build the graph we merge 'cumulativeRevenueA' and 'cumulativeRevenueB' and save it as 'mergedCumulativeRevenue'.   "
   ]
  },
  {
   "cell_type": "code",
   "execution_count": 27,
   "metadata": {},
   "outputs": [
    {
     "data": {
      "image/png": "[encoded data removed]",
      "text/plain": [
       "<Figure size 432x288 with 1 Axes>"
      ]
     },
     "metadata": {
      "needs_background": "light"
     },
     "output_type": "display_data"
    }
   ],
   "source": [
    "mergedCumulativeRevenue = cumulativeRevenueA.merge(cumulativeRevenueB, left_on='date', right_on='date', how='left', suffixes=['A', 'B'])\n",
    "plt.plot(mergedCumulativeRevenue['date'], (mergedCumulativeRevenue['revenueB']/mergedCumulativeRevenue['ordersB'])/(mergedCumulativeRevenue['revenueA']/mergedCumulativeRevenue['ordersA'])-1)\n",
    "plt.axhline(y=0, color='black', linestyle='--') \n",
    "plt.axhline(y=0.5, color='green', linestyle='--') \n",
    "plt.title('Group B cumulative average bill/group A cumulative average bill')\n",
    "plt.xticks(rotation=45)\n",
    "plt.show()"
   ]
  },
  {
   "cell_type": "markdown",
   "metadata": {},
   "source": [
    "Again we can see a sharp rise probably related to abnormal purchases made by group B customers."
   ]
  },
  {
   "cell_type": "markdown",
   "metadata": {},
   "source": [
    "### Cumulative conversion rate by group. Постройте график кумулятивной конверсии по группам. Сделайте выводы и предположения."
   ]
  },
  {
   "cell_type": "markdown",
   "metadata": {},
   "source": [
    "We add 'cumulative conversion' column to our table and declare 'cumulativeDataA' and 'cumulativeDataB' variables. "
   ]
  },
  {
   "cell_type": "code",
   "execution_count": 28,
   "metadata": {},
   "outputs": [
    {
     "data": {
      "image/png": "[encoded data removed]",
      "text/plain": [
       "<Figure size 432x288 with 1 Axes>"
      ]
     },
     "metadata": {
      "needs_background": "light"
     },
     "output_type": "display_data"
    }
   ],
   "source": [
    "cumulativeData = ordersAggregated.merge(\n",
    "    visitorsAggregated, left_on=['date', 'group'], right_on=['date', 'group']\n",
    ")\n",
    "cumulativeData.columns = [\n",
    "    'date',\n",
    "    'group',\n",
    "    'orders',\n",
    "    'buyers',\n",
    "    'revenue',\n",
    "    'visitors',\n",
    "]\n",
    "cumulativeData['conversion'] = cumulativeData['orders']/cumulativeData['visitors']\n",
    "cumulativeDataA = cumulativeData[cumulativeData['group']=='A']\n",
    "cumulativeDataB = cumulativeData[cumulativeData['group']=='B']\n",
    "plt.plot(cumulativeDataA['date'], cumulativeDataA['conversion'], label='A')\n",
    "plt.plot(cumulativeDataB['date'], cumulativeDataB['conversion'], label='B')\n",
    "plt.xticks(rotation=45)\n",
    "plt.legend()\n",
    "plt.show()"
   ]
  },
  {
   "cell_type": "markdown",
   "metadata": {},
   "source": [
    "We can see that over the time B graph demonstrates better results. "
   ]
  },
  {
   "cell_type": "markdown",
   "metadata": {},
   "source": [
    "### Relative change in cumulative conversion (group B compared to group A) Постройте график относительного изменения кумулятивной конверсии группы B к группе A. "
   ]
  },
  {
   "cell_type": "markdown",
   "metadata": {},
   "source": [
    "We merge dataframes cumulativeDataA and cumulativeDataB and save them as mergedCumulativeConversions. Then we build a lineplot"
   ]
  },
  {
   "cell_type": "code",
   "execution_count": 29,
   "metadata": {},
   "outputs": [
    {
     "data": {
      "image/png": "[encoded data removed]",
      "text/plain": [
       "<Figure size 432x288 with 1 Axes>"
      ]
     },
     "metadata": {
      "needs_background": "light"
     },
     "output_type": "display_data"
    }
   ],
   "source": [
    "mergedCumulativeConversions = cumulativeDataA[['date','conversion']].merge(cumulativeDataB[['date','conversion']], left_on='date', right_on='date', how='left', suffixes=['A', 'B'])\n",
    "\n",
    "plt.plot(mergedCumulativeConversions['date'], mergedCumulativeConversions['conversionB']/mergedCumulativeConversions['conversionA']-1, label=\"Relative change in cumulative conversion (group B compared to group A)\")\n",
    "plt.legend()\n",
    "\n",
    "plt.axhline(y=0, color='black', linestyle='--')\n",
    "plt.axhline(y=0.2, color='green', linestyle='--')\n",
    "\n",
    "plt.title('Relative change in cumulative conversion (group B compared to group A)')\n",
    "plt.xticks(rotation=45)\n",
    "cumulativeDataB = cumulativeData[cumulativeData['group'] == 'B']"
   ]
  },
  {
   "cell_type": "markdown",
   "metadata": {},
   "source": [
    "Group B conversion is higher by 10-15% than group A conversion."
   ]
  },
  {
   "cell_type": "markdown",
   "metadata": {},
   "source": [
    "### Number of orders by customer."
   ]
  },
  {
   "cell_type": "markdown",
   "metadata": {},
   "source": [
    "To build a scatter plot we need to rearrange the data. Let's group dataframe 'ordrs' by customers and count the number of unique orders for each customer."
   ]
  },
  {
   "cell_type": "code",
   "execution_count": 30,
   "metadata": {},
   "outputs": [
    {
     "name": "stdout",
     "output_type": "stream",
     "text": [
      "          userid  orders\n",
      "1023  4256040402      11\n",
      "591   2458001652      11\n",
      "569   2378935119       9\n",
      "487   2038680547       8\n",
      "44     199603092       5\n",
      "744   3062433592       5\n",
      "55     237748145       5\n",
      "917   3803269165       5\n",
      "299   1230306981       5\n",
      "897   3717692402       5\n"
     ]
    }
   ],
   "source": [
    "ordersByUsers = (\n",
    "    orders.drop(['group', 'revenue', 'date'], axis=1)\n",
    "    .groupby('visitorid', as_index=False)\n",
    "    .agg({'transactionid': pd.Series.nunique})\n",
    ")\n",
    "\n",
    "ordersByUsers.columns = ['userid', 'orders']\n",
    "\n",
    "print(ordersByUsers.sort_values(by='orders', ascending=False).head(10)) "
   ]
  },
  {
   "cell_type": "code",
   "execution_count": 31,
   "metadata": {},
   "outputs": [
    {
     "data": {
      "text/plain": [
       "array([ 1,  2,  5,  3,  4,  8,  9, 11], dtype=int64)"
      ]
     },
     "execution_count": 31,
     "metadata": {},
     "output_type": "execute_result"
    }
   ],
   "source": [
    "ordersByUsers['orders'].unique()"
   ]
  },
  {
   "cell_type": "markdown",
   "metadata": {},
   "source": [
    "We applied method unique() to see the number of orders made customers. It varies from 1 to 11 orders."
   ]
  },
  {
   "cell_type": "code",
   "execution_count": 32,
   "metadata": {},
   "outputs": [
    {
     "data": {
      "text/html": [
       "<div>\n",
       "<style scoped>\n",
       "    .dataframe tbody tr th:only-of-type {\n",
       "        vertical-align: middle;\n",
       "    }\n",
       "\n",
       "    .dataframe tbody tr th {\n",
       "        vertical-align: top;\n",
       "    }\n",
       "\n",
       "    .dataframe thead th {\n",
       "        text-align: right;\n",
       "    }\n",
       "</style>\n",
       "<table border=\"1\" class=\"dataframe\">\n",
       "  <thead>\n",
       "    <tr style=\"text-align: right;\">\n",
       "      <th></th>\n",
       "      <th>visitorid</th>\n",
       "      <th>orders</th>\n",
       "    </tr>\n",
       "  </thead>\n",
       "  <tbody>\n",
       "    <tr>\n",
       "      <th>0</th>\n",
       "      <td>5114589</td>\n",
       "      <td>1</td>\n",
       "    </tr>\n",
       "    <tr>\n",
       "      <th>1</th>\n",
       "      <td>6958315</td>\n",
       "      <td>1</td>\n",
       "    </tr>\n",
       "    <tr>\n",
       "      <th>2</th>\n",
       "      <td>8300375</td>\n",
       "      <td>2</td>\n",
       "    </tr>\n",
       "    <tr>\n",
       "      <th>3</th>\n",
       "      <td>11685486</td>\n",
       "      <td>1</td>\n",
       "    </tr>\n",
       "    <tr>\n",
       "      <th>4</th>\n",
       "      <td>39475350</td>\n",
       "      <td>1</td>\n",
       "    </tr>\n",
       "  </tbody>\n",
       "</table>\n",
       "</div>"
      ],
      "text/plain": [
       "   visitorid  orders\n",
       "0    5114589       1\n",
       "1    6958315       1\n",
       "2    8300375       2\n",
       "3   11685486       1\n",
       "4   39475350       1"
      ]
     },
     "execution_count": 32,
     "metadata": {},
     "output_type": "execute_result"
    }
   ],
   "source": [
    "orders_users = orders.groupby('visitorid', as_index=False).agg({'transactionid':'nunique'})\n",
    "orders_users = orders_users.rename(columns={'transactionid': 'orders'})\n",
    "orders_users.head()"
   ]
  },
  {
   "cell_type": "code",
   "execution_count": 33,
   "metadata": {},
   "outputs": [
    {
     "data": {
      "image/png": "[encoded data removed]",
      "text/plain": [
       "<Figure size 432x288 with 1 Axes>"
      ]
     },
     "metadata": {
      "needs_background": "light"
     },
     "output_type": "display_data"
    }
   ],
   "source": [
    "x_values = pd.Series(range(0,len(ordersByUsers)))\n",
    "plt.scatter(x_values, ordersByUsers['orders']) \n",
    "plt.title('Number of orders by customers')\n",
    "plt.ylabel(\"Number of orders\")\n",
    "plt.show()"
   ]
  },
  {
   "cell_type": "markdown",
   "metadata": {},
   "source": [
    "Most customers made 1 or 2 orders and only few customers made 8 orders or more."
   ]
  },
  {
   "cell_type": "markdown",
   "metadata": {},
   "source": [
    "### Find 95th and 99th percentiles for number of orders per customer. "
   ]
  },
  {
   "cell_type": "markdown",
   "metadata": {},
   "source": [
    "Let's build a number of orders histogram. "
   ]
  },
  {
   "cell_type": "code",
   "execution_count": 34,
   "metadata": {},
   "outputs": [
    {
     "data": {
      "image/png": "[encoded data removed]",
      "text/plain": [
       "<Figure size 432x288 with 1 Axes>"
      ]
     },
     "metadata": {
      "needs_background": "light"
     },
     "output_type": "display_data"
    }
   ],
   "source": [
    "_=plt.hist(ordersByUsers['orders'])\n",
    "plt.title('Number of orders per user')\n",
    "plt.show()"
   ]
  },
  {
   "cell_type": "markdown",
   "metadata": {},
   "source": [
    "The histogram shows that most customers make 1 or 2 orders. We can use np.percentile() method to calculate 95th и 99th percentiles and also calculate 90th percentile for more information."
   ]
  },
  {
   "cell_type": "code",
   "execution_count": 35,
   "metadata": {},
   "outputs": [
    {
     "name": "stdout",
     "output_type": "stream",
     "text": [
      "[1. 2. 4.]\n"
     ]
    }
   ],
   "source": [
    "print(np.percentile(ordersByUsers['orders'], [90, 95, 99])) "
   ]
  },
  {
   "cell_type": "markdown",
   "metadata": {},
   "source": [
    "1% of customers made more than 4 orders, 5% placed more than 2 orders and 10% made more than 1 order."
   ]
  },
  {
   "cell_type": "markdown",
   "metadata": {},
   "source": [
    "### Scatter plot for order amounts."
   ]
  },
  {
   "cell_type": "markdown",
   "metadata": {},
   "source": [
    "We use dataframe 'orders' for building this scatter plot."
   ]
  },
  {
   "cell_type": "code",
   "execution_count": 36,
   "metadata": {},
   "outputs": [
    {
     "data": {
      "image/png": "[encoded data removed]",
      "text/plain": [
       "<Figure size 432x288 with 1 Axes>"
      ]
     },
     "metadata": {
      "needs_background": "light"
     },
     "output_type": "display_data"
    }
   ],
   "source": [
    "x_values = pd.Series(range(0,len(orders['revenue'])))\n",
    "plt.scatter(x_values, orders['revenue'])\n",
    "plt.title('Order amounts')\n",
    "plt.ylabel(\"order amount\")\n",
    "plt.show()"
   ]
  },
  {
   "cell_type": "markdown",
   "metadata": {},
   "source": [
    "There are orders of 20000 rubles and even of more than 1200000 rubles. These abnormally large order values affected the plots we built in the previous parts of our analysis (cumulative revenue and cumulative average bill plots). Let's use method describe() to study the data:"
   ]
  },
  {
   "cell_type": "code",
   "execution_count": 37,
   "metadata": {},
   "outputs": [
    {
     "data": {
      "text/plain": [
       "count      1197.00\n",
       "mean       8348.01\n",
       "std       39191.13\n",
       "min          50.00\n",
       "25%        1220.00\n",
       "50%        2978.00\n",
       "75%        8290.00\n",
       "max     1294500.00\n",
       "Name: revenue, dtype: float64"
      ]
     },
     "execution_count": 37,
     "metadata": {},
     "output_type": "execute_result"
    }
   ],
   "source": [
    "orders['revenue'].describe()"
   ]
  },
  {
   "cell_type": "markdown",
   "metadata": {},
   "source": [
    "The order amount varies from 50 rubles to 1294500 rubles. We Однако принято отсеивать от 1% до 5% наблюдений с крайними значениями."
   ]
  },
  {
   "cell_type": "markdown",
   "metadata": {},
   "source": [
    "### Find 95th and 99th percentiles for order amount per customer. "
   ]
  },
  {
   "cell_type": "markdown",
   "metadata": {},
   "source": [
    "We calculate percentiles using np.percentile() method. "
   ]
  },
  {
   "cell_type": "code",
   "execution_count": 38,
   "metadata": {},
   "outputs": [
    {
     "name": "stdout",
     "output_type": "stream",
     "text": [
      "[18168.  28000.  58233.2]\n"
     ]
    }
   ],
   "source": [
    "print(np.percentile(orders['revenue'], [90, 95, 99])) "
   ]
  },
  {
   "cell_type": "markdown",
   "metadata": {},
   "source": [
    "1% of customers made orders amounting to more than 58233 rubles, 5% of customers placed orders amounting to more than 28000 rubles and 10% of customers made orders amounting to more than 18168 rubles. Let's set the upper limit of 'normal' orders at 58233 rubles. "
   ]
  },
  {
   "cell_type": "markdown",
   "metadata": {},
   "source": [
    "### Compute the statistical significance of the difference in two conversion rates on raw data."
   ]
  },
  {
   "cell_type": "markdown",
   "metadata": {},
   "source": [
    "To test the hypothesis we need to formulate H0 and H1.\n",
    "H0: There is no difference in converion rates between groups.\n",
    "H1: There is difference in conversion rates between groups.\n",
    "alpha=0.05 - significance level.\n",
    "Hereinafter we'll use Wilcoxon Mann Whitney test because of its robustness to outliers. "
   ]
  },
  {
   "cell_type": "markdown",
   "metadata": {},
   "source": [
    "First we have to prepare the data. Let's arrange the data in 2 tables: visitorACumulative, visitorBCumulative. These tables show cumulative number of clients for each date. Then create 2 more tables: OrdersACumulative, OrdersBCumulative, they show number of orders and cumulative revenue for each date. We merge visitorACumulative, visitorBCumulative, ordersACumulative and ordersBCumulative dataframes."
   ]
  },
  {
   "cell_type": "code",
   "execution_count": 39,
   "metadata": {},
   "outputs": [
    {
     "data": {
      "text/html": [
       "<div>\n",
       "<style scoped>\n",
       "    .dataframe tbody tr th:only-of-type {\n",
       "        vertical-align: middle;\n",
       "    }\n",
       "\n",
       "    .dataframe tbody tr th {\n",
       "        vertical-align: top;\n",
       "    }\n",
       "\n",
       "    .dataframe thead th {\n",
       "        text-align: right;\n",
       "    }\n",
       "</style>\n",
       "<table border=\"1\" class=\"dataframe\">\n",
       "  <thead>\n",
       "    <tr style=\"text-align: right;\">\n",
       "      <th></th>\n",
       "      <th>date</th>\n",
       "      <th>ordersPerDateA</th>\n",
       "      <th>revenuePerDateA</th>\n",
       "      <th>ordersPerDateB</th>\n",
       "      <th>revenuePerDateB</th>\n",
       "      <th>ordersCummulativeA</th>\n",
       "      <th>revenueCummulativeA</th>\n",
       "      <th>ordersCummulativeB</th>\n",
       "      <th>revenueCummulativeB</th>\n",
       "      <th>visitorsPerDateA</th>\n",
       "      <th>visitorsPerDateB</th>\n",
       "      <th>visitorsCummulativeA</th>\n",
       "      <th>visitorsCummulativeB</th>\n",
       "    </tr>\n",
       "  </thead>\n",
       "  <tbody>\n",
       "    <tr>\n",
       "      <th>0</th>\n",
       "      <td>2019-08-01</td>\n",
       "      <td>24</td>\n",
       "      <td>148579</td>\n",
       "      <td>21</td>\n",
       "      <td>101217</td>\n",
       "      <td>24</td>\n",
       "      <td>148579</td>\n",
       "      <td>21</td>\n",
       "      <td>101217</td>\n",
       "      <td>719</td>\n",
       "      <td>713</td>\n",
       "      <td>719</td>\n",
       "      <td>713</td>\n",
       "    </tr>\n",
       "    <tr>\n",
       "      <th>1</th>\n",
       "      <td>2019-08-02</td>\n",
       "      <td>20</td>\n",
       "      <td>93822</td>\n",
       "      <td>24</td>\n",
       "      <td>165531</td>\n",
       "      <td>44</td>\n",
       "      <td>242401</td>\n",
       "      <td>45</td>\n",
       "      <td>266748</td>\n",
       "      <td>619</td>\n",
       "      <td>581</td>\n",
       "      <td>1338</td>\n",
       "      <td>1294</td>\n",
       "    </tr>\n",
       "    <tr>\n",
       "      <th>2</th>\n",
       "      <td>2019-08-03</td>\n",
       "      <td>24</td>\n",
       "      <td>112473</td>\n",
       "      <td>16</td>\n",
       "      <td>114248</td>\n",
       "      <td>68</td>\n",
       "      <td>354874</td>\n",
       "      <td>61</td>\n",
       "      <td>380996</td>\n",
       "      <td>507</td>\n",
       "      <td>509</td>\n",
       "      <td>1845</td>\n",
       "      <td>1803</td>\n",
       "    </tr>\n",
       "    <tr>\n",
       "      <th>3</th>\n",
       "      <td>2019-08-04</td>\n",
       "      <td>16</td>\n",
       "      <td>70825</td>\n",
       "      <td>17</td>\n",
       "      <td>108571</td>\n",
       "      <td>84</td>\n",
       "      <td>425699</td>\n",
       "      <td>78</td>\n",
       "      <td>489567</td>\n",
       "      <td>717</td>\n",
       "      <td>770</td>\n",
       "      <td>2562</td>\n",
       "      <td>2573</td>\n",
       "    </tr>\n",
       "    <tr>\n",
       "      <th>4</th>\n",
       "      <td>2019-08-05</td>\n",
       "      <td>25</td>\n",
       "      <td>124218</td>\n",
       "      <td>23</td>\n",
       "      <td>92428</td>\n",
       "      <td>109</td>\n",
       "      <td>549917</td>\n",
       "      <td>101</td>\n",
       "      <td>581995</td>\n",
       "      <td>756</td>\n",
       "      <td>707</td>\n",
       "      <td>3318</td>\n",
       "      <td>3280</td>\n",
       "    </tr>\n",
       "  </tbody>\n",
       "</table>\n",
       "</div>"
      ],
      "text/plain": [
       "        date  ordersPerDateA  revenuePerDateA  ordersPerDateB  \\\n",
       "0 2019-08-01              24           148579              21   \n",
       "1 2019-08-02              20            93822              24   \n",
       "2 2019-08-03              24           112473              16   \n",
       "3 2019-08-04              16            70825              17   \n",
       "4 2019-08-05              25           124218              23   \n",
       "\n",
       "   revenuePerDateB  ordersCummulativeA  revenueCummulativeA  \\\n",
       "0           101217                  24               148579   \n",
       "1           165531                  44               242401   \n",
       "2           114248                  68               354874   \n",
       "3           108571                  84               425699   \n",
       "4            92428                 109               549917   \n",
       "\n",
       "   ordersCummulativeB  revenueCummulativeB  visitorsPerDateA  \\\n",
       "0                  21               101217               719   \n",
       "1                  45               266748               619   \n",
       "2                  61               380996               507   \n",
       "3                  78               489567               717   \n",
       "4                 101               581995               756   \n",
       "\n",
       "   visitorsPerDateB  visitorsCummulativeA  visitorsCummulativeB  \n",
       "0               713                   719                   713  \n",
       "1               581                  1338                  1294  \n",
       "2               509                  1845                  1803  \n",
       "3               770                  2562                  2573  \n",
       "4               707                  3318                  3280  "
      ]
     },
     "execution_count": 39,
     "metadata": {},
     "output_type": "execute_result"
    }
   ],
   "source": [
    "visitorsADaily = visitors[visitors['group'] == 'A'][['date', 'visitors']]\n",
    "visitorsADaily.columns = ['date', 'visitorsPerDateA']\n",
    "\n",
    "visitorsACummulative = visitorsADaily.apply(\n",
    "    lambda x: visitorsADaily[visitorsADaily['date'] <= x['date']].agg(\n",
    "        {'date': 'max', 'visitorsPerDateA': 'sum'}\n",
    "    ),\n",
    "    axis=1,\n",
    ")\n",
    "visitorsACummulative.columns = ['date', 'visitorsCummulativeA']\n",
    "\n",
    "visitorsBDaily = visitors[visitors['group'] == 'B'][['date', 'visitors']]\n",
    "visitorsBDaily.columns = ['date', 'visitorsPerDateB']\n",
    "\n",
    "visitorsBCummulative = visitorsBDaily.apply(\n",
    "    lambda x: visitorsBDaily[visitorsBDaily['date'] <= x['date']].agg(\n",
    "        {'date': 'max', 'visitorsPerDateB': 'sum'}\n",
    "    ),\n",
    "    axis=1,\n",
    ")\n",
    "visitorsBCummulative.columns = ['date', 'visitorsCummulativeB']\n",
    "\n",
    "ordersADaily = (\n",
    "    orders[orders['group'] == 'A'][['date', 'transactionid', 'visitorid', 'revenue']]\n",
    "    .groupby('date', as_index=False)\n",
    "    .agg({'transactionid': pd.Series.nunique, 'revenue': 'sum'})\n",
    ")\n",
    "ordersADaily.columns = ['date', 'ordersPerDateA', 'revenuePerDateA']\n",
    "\n",
    "ordersACummulative = ordersADaily.apply(\n",
    "    lambda x: ordersADaily[ordersADaily['date'] <= x['date']].agg(\n",
    "        {'date': 'max', 'ordersPerDateA': 'sum', 'revenuePerDateA': 'sum'}\n",
    "    ),\n",
    "    axis=1,\n",
    ").sort_values(by=['date'])\n",
    "ordersACummulative.columns = [\n",
    "    'date',\n",
    "    'ordersCummulativeA',\n",
    "    'revenueCummulativeA',\n",
    "]\n",
    "\n",
    "ordersBDaily = (\n",
    "    orders[orders['group'] == 'B'][['date', 'transactionid', 'visitorid', 'revenue']]\n",
    "    .groupby('date', as_index=False)\n",
    "    .agg({'transactionid': pd.Series.nunique, 'revenue': 'sum'})\n",
    ")\n",
    "ordersBDaily.columns = ['date', 'ordersPerDateB', 'revenuePerDateB']\n",
    "\n",
    "ordersBCummulative = ordersBDaily.apply(\n",
    "    lambda x: ordersBDaily[ordersBDaily['date'] <= x['date']].agg(\n",
    "        {'date': 'max', 'ordersPerDateB': 'sum', 'revenuePerDateB': 'sum'}\n",
    "    ),\n",
    "    axis=1,\n",
    ").sort_values(by=['date'])\n",
    "ordersBCummulative.columns = [\n",
    "    'date',\n",
    "    'ordersCummulativeB',\n",
    "    'revenueCummulativeB',\n",
    "]\n",
    "\n",
    "data = (ordersADaily.merge(ordersBDaily, left_on='date', right_on='date', how='left')\n",
    "        .merge(ordersACummulative, left_on='date', right_on='date', how='left')\n",
    "        .merge(ordersBCummulative, left_on='date', right_on='date', how='left')\n",
    "    .merge(visitorsADaily, left_on='date', right_on='date', how='left')\n",
    "    .merge(visitorsBDaily, left_on='date', right_on='date', how='left')\n",
    "    .merge(visitorsACummulative, left_on='date', right_on='date', how='left')\n",
    "    .merge(visitorsBCummulative, left_on='date', right_on='date', how='left')\n",
    ")\n",
    "data.head(5)"
   ]
  },
  {
   "cell_type": "markdown",
   "metadata": {},
   "source": [
    "In 'orders' dataframe we calculate number of unique orders each customer made. Then we create 2 tables: sampleA and sampleB.  We apply Wilcoxon Mann Whitney test to check the hypothesis.  variables, которые будут состоять из 2 частей: Список с количеством заказов для каждого из пользователей: ordersByUsersA['orders'].\n",
    "Нули для пользователей, которые ничего не заказывали. С помощью функции pd.concat() соединим обе части. Чтобы получить конверсию в группе, поделим сумму заказов на число пользователей — найдём среднее в выборке sampleA методом mean(). Аналогично найдём конверсию группы B: SampleB.mean().\n",
    "Выведем относительный прирост конверсии группы B: конверсия группы B / конверсия группы A - 1. Округлим до трёх знаков после запятой."
   ]
  },
  {
   "cell_type": "code",
   "execution_count": 40,
   "metadata": {},
   "outputs": [
    {
     "name": "stdout",
     "output_type": "stream",
     "text": [
      "0.008\n",
      "0.138\n"
     ]
    }
   ],
   "source": [
    "ordersByUsersA = (\n",
    "    orders[orders['group'] == 'A']\n",
    "    .groupby('visitorid', as_index=False)\n",
    "    .agg({'transactionid': pd.Series.nunique})\n",
    ")\n",
    "ordersByUsersA.columns = ['userid', 'orders']\n",
    "\n",
    "ordersByUsersB = (\n",
    "    orders[orders['group'] == 'B']\n",
    "    .groupby('visitorid', as_index=False)\n",
    "    .agg({'transactionid': pd.Series.nunique})\n",
    ")\n",
    "ordersByUsersB.columns = ['userid', 'orders']\n",
    "\n",
    "sampleA = pd.concat(\n",
    "    [\n",
    "        ordersByUsersA['orders'],\n",
    "        pd.Series(\n",
    "            0,\n",
    "            index=np.arange(\n",
    "                data['visitorsPerDateA'].sum() - len(ordersByUsersA['orders'])\n",
    "            ),\n",
    "            name='orders',\n",
    "        ),\n",
    "    ],\n",
    "    axis=0,\n",
    ")\n",
    "\n",
    "sampleB = pd.concat(\n",
    "    [\n",
    "        ordersByUsersB['orders'],\n",
    "        pd.Series(\n",
    "            0,\n",
    "            index=np.arange(\n",
    "                data['visitorsPerDateB'].sum() - len(ordersByUsersB['orders'])\n",
    "            ),\n",
    "            name='orders',\n",
    "        ),\n",
    "    ],\n",
    "    axis=0,\n",
    ")\n",
    "\n",
    "print(\"{0:.3f}\".format(stats.mannwhitneyu(sampleA, sampleB)[1]))\n",
    "\n",
    "print(\"{0:.3f}\".format(sampleB.mean() / sampleA.mean() - 1))\n"
   ]
  },
  {
   "cell_type": "markdown",
   "metadata": {},
   "source": [
    "P-value<0.05, we reject H0 hypothesis. Raw data analysis shows that there is a difference in conversion rates and the relative conversion gain for group B compared to group A is 13.8%. "
   ]
  },
  {
   "cell_type": "markdown",
   "metadata": {},
   "source": [
    "<div style=\"border:solid green 2px; padding: 20px\"> \n",
    "    \n",
    "**Комментарий ревьюера - 2**\n",
    "\n",
    "Хорошо, теперь верно\n",
    "    \n",
    "</div>"
   ]
  },
  {
   "cell_type": "markdown",
   "metadata": {},
   "source": [
    "### Compute the statistical significance of the difference in the average bills between two groups on raw data. "
   ]
  },
  {
   "cell_type": "markdown",
   "metadata": {},
   "source": [
    "To test the hypothesis we need to formulate H0 and H1.\n",
    "H0: There is no difference in the average bills between 2 groups.\n",
    "H1: There is difference in the average bills between 2 groups.\n",
    "alpha=0.05 - significance level.\n",
    "We'll use Wilcoxon Mann Whitney test again because of its robustness to outliers. "
   ]
  },
  {
   "cell_type": "code",
   "execution_count": 41,
   "metadata": {},
   "outputs": [
    {
     "name": "stdout",
     "output_type": "stream",
     "text": [
      "0.365\n",
      "0.259\n"
     ]
    }
   ],
   "source": [
    "print('{0:.3f}'.format(stats.mannwhitneyu(orders[orders['group']=='A']['revenue'], orders[orders['group']=='B']['revenue'])[1]))\n",
    "print('{0:.3f}'.format(orders[orders['group']=='B']['revenue'].mean()/orders[orders['group']=='A']['revenue'].mean()-1))"
   ]
  },
  {
   "cell_type": "markdown",
   "metadata": {},
   "source": [
    "P-value is greater than 0.05. We fail to reject H0 hypothesis. The average bill of group B compared to group A is ~26% higher due to abnormal orders in group B."
   ]
  },
  {
   "cell_type": "markdown",
   "metadata": {},
   "source": [
    "### Compute the statistical significance of the difference in two conversion rates on cleansed data."
   ]
  },
  {
   "cell_type": "markdown",
   "metadata": {},
   "source": [
    "To test the hypothesis we need to formulate H0 and H1.\n",
    "H0: There is no difference in converion rates between groups.\n",
    "H1: There is difference in converion rates between groups.\n",
    "alpha=0.05 - significance level.\n",
    "We'll use Wilcoxon Mann Whitney test because of its robustness to outliers. "
   ]
  },
  {
   "cell_type": "markdown",
   "metadata": {},
   "source": [
    "In the previous parts of our analysis we identified users who placed an abnormal number or orders or made orders of abnormal value. Let's create abnormalUsers dataframe with users who made more than 4 orders or who placed orders with abnormal value (>58000 rubles).  "
   ]
  },
  {
   "cell_type": "code",
   "execution_count": 42,
   "metadata": {},
   "outputs": [
    {
     "name": "stdout",
     "output_type": "stream",
     "text": [
      "1099     148427295\n",
      "949      887908475\n",
      "744      888512513\n",
      "1103    1164614297\n",
      "1136    1307669133\n",
      "dtype: int64\n",
      "(15,)\n"
     ]
    }
   ],
   "source": [
    "usersWithManyOrders = pd.concat(\n",
    "    [\n",
    "        ordersByUsersA[ordersByUsersA['orders'] > 4]['userid'],\n",
    "        ordersByUsersB[ordersByUsersB['orders'] > 4]['userid'],\n",
    "    ],\n",
    "    axis=0,\n",
    ")\n",
    "usersWithExpensiveOrders = orders[orders['revenue'] > 58000]['visitorid']\n",
    "usersWithExpensiveOrders.colums = ['userid']\n",
    "abnormalUsers = (\n",
    "    pd.concat([usersWithManyOrders, usersWithExpensiveOrders], axis=0)\n",
    "    .drop_duplicates()\n",
    "    .sort_values()\n",
    ")\n",
    "print(abnormalUsers.head(5))\n",
    "print(abnormalUsers.shape)"
   ]
  },
  {
   "cell_type": "markdown",
   "metadata": {},
   "source": [
    "We used method shape() and found out we have 15 customers who placed abnormal orders. "
   ]
  },
  {
   "cell_type": "code",
   "execution_count": 43,
   "metadata": {},
   "outputs": [],
   "source": [
    "sampleAFiltered = pd.concat(\n",
    "    [\n",
    "        ordersByUsersA[\n",
    "            np.logical_not(ordersByUsersA['userid'].isin(abnormalUsers))\n",
    "        ]['orders'],\n",
    "        pd.Series(\n",
    "            0,\n",
    "            index=np.arange(\n",
    "                data['visitorsPerDateA'].sum() - len(ordersByUsersA['orders'])\n",
    "            ),\n",
    "            name='orders',\n",
    "        ),\n",
    "    ],\n",
    "    axis=0,\n",
    ")\n",
    "\n",
    "sampleBFiltered = pd.concat(\n",
    "    [\n",
    "        ordersByUsersB[\n",
    "            np.logical_not(ordersByUsersB['userid'].isin(abnormalUsers))\n",
    "        ]['orders'],\n",
    "        pd.Series(\n",
    "            0,\n",
    "            index=np.arange(\n",
    "                data['visitorsPerDateB'].sum() - len(ordersByUsersB['orders'])\n",
    "            ),\n",
    "            name='orders',\n",
    "        ),\n",
    "    ],\n",
    "    axis=0,\n",
    ")"
   ]
  },
  {
   "cell_type": "code",
   "execution_count": 44,
   "metadata": {},
   "outputs": [
    {
     "name": "stdout",
     "output_type": "stream",
     "text": [
      "0.007\n",
      "0.153\n"
     ]
    }
   ],
   "source": [
    "print('{0:.3f}'.format(stats.mannwhitneyu(sampleAFiltered, sampleBFiltered)[1]))\n",
    "print('{0:.3f}'.format(sampleBFiltered.mean()/sampleAFiltered.mean()-1))"
   ]
  },
  {
   "cell_type": "markdown",
   "metadata": {},
   "source": [
    "Data cleansing did not affect p-value significantly: before data cleansing p-value =0.008, after data cleansing it is 0.007. P-value<0.05, therefor we reject H0 hypothesis. Cleansed data analysis shows that the difference in conversion rates and the relative conversion gain for group B compared to group A is 15%. "
   ]
  },
  {
   "cell_type": "markdown",
   "metadata": {},
   "source": [
    "### Compute the statistical significance of the difference in the average bills between two groups on cleansed data."
   ]
  },
  {
   "cell_type": "markdown",
   "metadata": {},
   "source": [
    "To test the hypothesis we need to formulate H0 and H1.\n",
    "H0: There is no difference in the average bills between 2 groups.\n",
    "H1: There is difference in the average bills between 2 groups.\n",
    "alpha=0.05 - significance level."
   ]
  },
  {
   "cell_type": "code",
   "execution_count": 45,
   "metadata": {},
   "outputs": [
    {
     "name": "stdout",
     "output_type": "stream",
     "text": [
      "0.425\n",
      "-0.006\n"
     ]
    }
   ],
   "source": [
    "print(\n",
    "    '{0:.3f}'.format(\n",
    "        stats.mannwhitneyu(\n",
    "            orders[\n",
    "                np.logical_and(\n",
    "                    orders['group'] == 'A',\n",
    "                    np.logical_not(orders['visitorid'].isin(abnormalUsers)),\n",
    "                )\n",
    "            ]['revenue'],\n",
    "            orders[\n",
    "                np.logical_and(\n",
    "                    orders['group'] == 'B',\n",
    "                    np.logical_not(orders['visitorid'].isin(abnormalUsers)),\n",
    "                )\n",
    "            ]['revenue'],\n",
    "        )[1]\n",
    "    )\n",
    ")\n",
    "\n",
    "print(\n",
    "    \"{0:.3f}\".format(\n",
    "        orders[\n",
    "            np.logical_and(\n",
    "                orders['group'] == 'B',\n",
    "                np.logical_not(orders['visitorid'].isin(abnormalUsers)),\n",
    "            )\n",
    "        ]['revenue'].mean()\n",
    "        / orders[\n",
    "            np.logical_and(\n",
    "                orders['group'] == 'A',\n",
    "                np.logical_not(orders['visitorid'].isin(abnormalUsers)),\n",
    "            )\n",
    "        ]['revenue'].mean()\n",
    "        - 1\n",
    "    )\n",
    ")"
   ]
  },
  {
   "cell_type": "markdown",
   "metadata": {},
   "source": [
    "P-value > 0.05. A p-value higher than 0.05 is not statistically significant and indicates strong evidence for the null hypothesis. This means we retain the null hypothesis and reject the alternative hypothesis. The average bill of group B compared to group A is 6% lower after we removed outliers. "
   ]
  },
  {
   "cell_type": "markdown",
   "metadata": {},
   "source": [
    "### Make a decision based on the test results."
   ]
  },
  {
   "cell_type": "markdown",
   "metadata": {},
   "source": [
    "The tests carried out on raw and cleansed data show that there is difference in conversion rates between the 2 groups, group B conversion rate was better by almost 14% when tested on raw data and by 15% when tested on cleansed data. The test of average order size shows that there is no difference between the raw and cleansed data groups. The test carried out on raw data shows there is a relative revenue gain of 26% in group B compared to group A, the results for the cleansed data are opposite and show loss of 6%. Large relative revenue gain in group B calculated on raw data was probably due to abnormal order sizes. After we removed outliers the difference between average bills became statistically insignificant. We can stop the test, group B is the winner."
   ]
  },
  {
   "cell_type": "markdown",
   "metadata": {},
   "source": [
    "## Conclusion:"
   ]
  },
  {
   "cell_type": "markdown",
   "metadata": {},
   "source": [
    "We studied 'hypothesis', 'orders' и 'visits' dataframes. We processed the data and found many cases when the same customers were in both the groups. We informed the colleagues who provided the data to us about this issue. Nevertheless, we carried out the analysis and came to the conclusion that accroding to ICE framework, 8,0 and 7 hypotheses are the most promising. According to Rice framework, 7,2 and 0 hypotheses are worthy. As a part of our analysis we also conducted A/B testing. Group B was statistically better, it's the winner. We can consider the test completed."
   ]
  },
  {
   "cell_type": "code",
   "execution_count": null,
   "metadata": {},
   "outputs": [],
   "source": []
  }
 ],
 "metadata": {
  "ExecuteTimeLog": [
   {
    "duration": 388,
    "start_time": "2021-10-26T16:49:47.729Z"
   },
   {
    "duration": 304,
    "start_time": "2021-10-26T16:49:55.388Z"
   },
   {
    "duration": 114,
    "start_time": "2021-10-26T16:50:08.412Z"
   },
   {
    "duration": 343,
    "start_time": "2021-10-26T16:50:08.186Z"
   },
   {
    "duration": 1486,
    "start_time": "2021-10-26T16:50:44.265Z"
   },
   {
    "duration": 29,
    "start_time": "2021-10-26T16:50:47.802Z"
   },
   {
    "duration": 18,
    "start_time": "2021-10-26T16:51:37.527Z"
   },
   {
    "duration": 20,
    "start_time": "2021-10-26T16:51:45.185Z"
   },
   {
    "duration": 24,
    "start_time": "2021-10-26T16:51:57.038Z"
   },
   {
    "duration": 60,
    "start_time": "2021-10-26T17:00:39.438Z"
   },
   {
    "duration": 10,
    "start_time": "2021-10-26T17:01:00.727Z"
   },
   {
    "duration": 7,
    "start_time": "2021-10-26T17:06:38.558Z"
   },
   {
    "duration": 17,
    "start_time": "2021-10-26T17:06:57.990Z"
   },
   {
    "duration": 8,
    "start_time": "2021-10-26T17:07:34.299Z"
   },
   {
    "duration": 9,
    "start_time": "2021-10-26T17:09:01.887Z"
   },
   {
    "duration": 5,
    "start_time": "2021-10-26T17:11:23.728Z"
   },
   {
    "duration": 13,
    "start_time": "2021-10-26T17:17:42.463Z"
   },
   {
    "duration": 1508,
    "start_time": "2021-10-26T17:18:55.711Z"
   },
   {
    "duration": 29,
    "start_time": "2021-10-26T17:18:57.222Z"
   },
   {
    "duration": 76,
    "start_time": "2021-10-26T17:18:57.255Z"
   },
   {
    "duration": 9,
    "start_time": "2021-10-26T17:18:57.333Z"
   },
   {
    "duration": 9,
    "start_time": "2021-10-26T17:18:57.345Z"
   },
   {
    "duration": 9,
    "start_time": "2021-10-26T17:18:57.357Z"
   },
   {
    "duration": 14,
    "start_time": "2021-10-26T17:18:57.369Z"
   },
   {
    "duration": 12,
    "start_time": "2021-10-26T17:18:57.386Z"
   },
   {
    "duration": 59,
    "start_time": "2021-10-26T17:24:26.897Z"
   },
   {
    "duration": 46,
    "start_time": "2021-10-26T17:24:53.315Z"
   },
   {
    "duration": 652,
    "start_time": "2021-10-26T17:26:51.766Z"
   },
   {
    "duration": 8,
    "start_time": "2021-10-26T17:27:14.436Z"
   },
   {
    "duration": 7,
    "start_time": "2021-10-26T17:28:07.599Z"
   },
   {
    "duration": 8,
    "start_time": "2021-10-26T17:28:42.322Z"
   },
   {
    "duration": 8,
    "start_time": "2021-10-26T17:29:03.652Z"
   },
   {
    "duration": 8,
    "start_time": "2021-10-26T17:29:25.113Z"
   },
   {
    "duration": 26,
    "start_time": "2021-10-26T17:40:51.408Z"
   },
   {
    "duration": 9,
    "start_time": "2021-10-26T17:40:59.668Z"
   },
   {
    "duration": 12,
    "start_time": "2021-10-26T17:42:04.963Z"
   },
   {
    "duration": 19,
    "start_time": "2021-10-26T17:45:14.434Z"
   },
   {
    "duration": 16,
    "start_time": "2021-10-26T17:47:11.064Z"
   },
   {
    "duration": 14,
    "start_time": "2021-10-26T17:47:22.517Z"
   },
   {
    "duration": 494,
    "start_time": "2021-10-26T18:14:29.447Z"
   },
   {
    "duration": 8078,
    "start_time": "2021-10-26T18:16:07.455Z"
   },
   {
    "duration": 8045,
    "start_time": "2021-10-26T18:17:08.482Z"
   },
   {
    "duration": 8029,
    "start_time": "2021-10-26T18:19:48.334Z"
   },
   {
    "duration": 8358,
    "start_time": "2021-10-26T18:22:09.968Z"
   },
   {
    "duration": 7870,
    "start_time": "2021-10-26T18:22:37.320Z"
   },
   {
    "duration": 1412,
    "start_time": "2021-10-26T18:23:32.939Z"
   },
   {
    "duration": 30,
    "start_time": "2021-10-26T18:23:34.354Z"
   },
   {
    "duration": 10,
    "start_time": "2021-10-26T18:23:34.389Z"
   },
   {
    "duration": 13,
    "start_time": "2021-10-26T18:23:34.402Z"
   },
   {
    "duration": 46,
    "start_time": "2021-10-26T18:23:34.418Z"
   },
   {
    "duration": 8,
    "start_time": "2021-10-26T18:23:34.482Z"
   },
   {
    "duration": 9,
    "start_time": "2021-10-26T18:23:34.492Z"
   },
   {
    "duration": 8,
    "start_time": "2021-10-26T18:23:34.504Z"
   },
   {
    "duration": 8,
    "start_time": "2021-10-26T18:23:34.516Z"
   },
   {
    "duration": 63,
    "start_time": "2021-10-26T18:23:34.526Z"
   },
   {
    "duration": 21,
    "start_time": "2021-10-26T18:23:34.592Z"
   },
   {
    "duration": 10,
    "start_time": "2021-10-26T18:23:34.615Z"
   },
   {
    "duration": 6,
    "start_time": "2021-10-26T18:23:34.627Z"
   },
   {
    "duration": 51,
    "start_time": "2021-10-26T18:23:34.635Z"
   },
   {
    "duration": 10,
    "start_time": "2021-10-26T18:23:34.688Z"
   },
   {
    "duration": 23,
    "start_time": "2021-10-26T18:23:34.700Z"
   },
   {
    "duration": 16,
    "start_time": "2021-10-26T18:23:34.725Z"
   },
   {
    "duration": 406,
    "start_time": "2021-10-26T18:23:34.743Z"
   },
   {
    "duration": 266,
    "start_time": "2021-10-26T18:30:24.859Z"
   },
   {
    "duration": 16,
    "start_time": "2021-10-26T18:30:51.928Z"
   },
   {
    "duration": 16,
    "start_time": "2021-10-26T18:31:49.200Z"
   },
   {
    "duration": 14,
    "start_time": "2021-10-26T18:32:00.458Z"
   },
   {
    "duration": 15,
    "start_time": "2021-10-26T18:32:27.119Z"
   },
   {
    "duration": 527,
    "start_time": "2021-10-26T18:38:24.996Z"
   },
   {
    "duration": 14,
    "start_time": "2021-10-26T18:38:32.166Z"
   },
   {
    "duration": 363,
    "start_time": "2021-10-26T18:39:09.851Z"
   },
   {
    "duration": 308,
    "start_time": "2021-10-26T18:39:25.052Z"
   },
   {
    "duration": 976,
    "start_time": "2021-10-26T18:39:49.106Z"
   },
   {
    "duration": 306,
    "start_time": "2021-10-26T18:40:10.608Z"
   },
   {
    "duration": 5,
    "start_time": "2021-10-26T18:43:29.740Z"
   },
   {
    "duration": 366,
    "start_time": "2021-10-26T18:44:42.376Z"
   },
   {
    "duration": 466,
    "start_time": "2021-10-26T18:44:53.172Z"
   },
   {
    "duration": 436,
    "start_time": "2021-10-26T19:00:51.708Z"
   },
   {
    "duration": 437,
    "start_time": "2021-10-26T19:01:02.471Z"
   },
   {
    "duration": 635,
    "start_time": "2021-10-26T19:03:58.495Z"
   },
   {
    "duration": 270,
    "start_time": "2021-10-26T19:04:08.595Z"
   },
   {
    "duration": 323,
    "start_time": "2021-10-26T19:06:08.871Z"
   },
   {
    "duration": 331,
    "start_time": "2021-10-26T19:06:39.928Z"
   },
   {
    "duration": 446,
    "start_time": "2021-10-26T19:11:26.928Z"
   },
   {
    "duration": 451,
    "start_time": "2021-10-26T19:11:45.995Z"
   },
   {
    "duration": 599,
    "start_time": "2021-10-26T19:20:29.560Z"
   },
   {
    "duration": 330,
    "start_time": "2021-10-26T19:20:55.081Z"
   },
   {
    "duration": 384,
    "start_time": "2021-10-26T19:21:05.968Z"
   },
   {
    "duration": 324,
    "start_time": "2021-10-26T19:21:13.943Z"
   },
   {
    "duration": 1501,
    "start_time": "2021-10-27T16:35:24.848Z"
   },
   {
    "duration": 31,
    "start_time": "2021-10-27T16:35:26.352Z"
   },
   {
    "duration": 10,
    "start_time": "2021-10-27T16:35:26.386Z"
   },
   {
    "duration": 30,
    "start_time": "2021-10-27T16:35:26.399Z"
   },
   {
    "duration": 52,
    "start_time": "2021-10-27T16:35:26.432Z"
   },
   {
    "duration": 8,
    "start_time": "2021-10-27T16:35:26.486Z"
   },
   {
    "duration": 1414,
    "start_time": "2021-10-27T16:35:26.497Z"
   },
   {
    "duration": 306,
    "start_time": "2021-10-27T16:35:27.609Z"
   },
   {
    "duration": 304,
    "start_time": "2021-10-27T16:35:27.612Z"
   },
   {
    "duration": 274,
    "start_time": "2021-10-27T16:35:27.644Z"
   },
   {
    "duration": 268,
    "start_time": "2021-10-27T16:35:27.651Z"
   },
   {
    "duration": 266,
    "start_time": "2021-10-27T16:35:27.654Z"
   },
   {
    "duration": 265,
    "start_time": "2021-10-27T16:35:27.657Z"
   },
   {
    "duration": 264,
    "start_time": "2021-10-27T16:35:27.660Z"
   },
   {
    "duration": 263,
    "start_time": "2021-10-27T16:35:27.662Z"
   },
   {
    "duration": 260,
    "start_time": "2021-10-27T16:35:27.667Z"
   },
   {
    "duration": 258,
    "start_time": "2021-10-27T16:35:27.670Z"
   },
   {
    "duration": 255,
    "start_time": "2021-10-27T16:35:27.674Z"
   },
   {
    "duration": 123,
    "start_time": "2021-10-27T16:35:27.808Z"
   },
   {
    "duration": 100,
    "start_time": "2021-10-27T16:35:27.832Z"
   },
   {
    "duration": 100,
    "start_time": "2021-10-27T16:35:27.833Z"
   },
   {
    "duration": 99,
    "start_time": "2021-10-27T16:35:27.835Z"
   },
   {
    "duration": 100,
    "start_time": "2021-10-27T16:35:27.836Z"
   },
   {
    "duration": 99,
    "start_time": "2021-10-27T16:35:27.839Z"
   },
   {
    "duration": 98,
    "start_time": "2021-10-27T16:35:27.841Z"
   },
   {
    "duration": 98,
    "start_time": "2021-10-27T16:35:27.842Z"
   },
   {
    "duration": 97,
    "start_time": "2021-10-27T16:35:27.844Z"
   },
   {
    "duration": 1572,
    "start_time": "2021-10-27T16:39:50.444Z"
   },
   {
    "duration": 31,
    "start_time": "2021-10-27T16:39:52.019Z"
   },
   {
    "duration": 10,
    "start_time": "2021-10-27T16:39:52.054Z"
   },
   {
    "duration": 15,
    "start_time": "2021-10-27T16:39:52.067Z"
   },
   {
    "duration": 50,
    "start_time": "2021-10-27T16:39:52.084Z"
   },
   {
    "duration": 8,
    "start_time": "2021-10-27T16:39:52.136Z"
   },
   {
    "duration": 21,
    "start_time": "2021-10-27T16:39:52.147Z"
   },
   {
    "duration": 9,
    "start_time": "2021-10-27T16:39:52.172Z"
   },
   {
    "duration": 43,
    "start_time": "2021-10-27T16:39:52.184Z"
   },
   {
    "duration": 12,
    "start_time": "2021-10-27T16:39:52.230Z"
   },
   {
    "duration": 27,
    "start_time": "2021-10-27T16:39:52.245Z"
   },
   {
    "duration": 9,
    "start_time": "2021-10-27T16:39:52.275Z"
   },
   {
    "duration": 16,
    "start_time": "2021-10-27T16:39:52.286Z"
   },
   {
    "duration": 7,
    "start_time": "2021-10-27T16:39:52.323Z"
   },
   {
    "duration": 8,
    "start_time": "2021-10-27T16:39:52.333Z"
   },
   {
    "duration": 21,
    "start_time": "2021-10-27T16:39:52.343Z"
   },
   {
    "duration": 17,
    "start_time": "2021-10-27T16:39:52.366Z"
   },
   {
    "duration": 397,
    "start_time": "2021-10-27T16:39:52.385Z"
   },
   {
    "duration": 282,
    "start_time": "2021-10-27T16:39:52.784Z"
   },
   {
    "duration": 15,
    "start_time": "2021-10-27T16:39:53.068Z"
   },
   {
    "duration": 16,
    "start_time": "2021-10-27T16:39:53.085Z"
   },
   {
    "duration": 14,
    "start_time": "2021-10-27T16:39:53.123Z"
   },
   {
    "duration": 326,
    "start_time": "2021-10-27T16:39:53.141Z"
   },
   {
    "duration": 329,
    "start_time": "2021-10-27T16:39:53.470Z"
   },
   {
    "duration": 414,
    "start_time": "2021-10-27T16:39:53.803Z"
   },
   {
    "duration": 341,
    "start_time": "2021-10-27T16:39:54.223Z"
   },
   {
    "duration": 545,
    "start_time": "2021-10-27T16:39:54.567Z"
   },
   {
    "duration": 414,
    "start_time": "2021-10-27T16:46:26.869Z"
   },
   {
    "duration": 508,
    "start_time": "2021-10-27T16:46:39.346Z"
   },
   {
    "duration": 584,
    "start_time": "2021-10-27T16:46:57.330Z"
   },
   {
    "duration": 410,
    "start_time": "2021-10-27T16:47:02.395Z"
   },
   {
    "duration": 292,
    "start_time": "2021-10-27T17:15:05.601Z"
   },
   {
    "duration": 397,
    "start_time": "2021-10-27T17:15:37.164Z"
   },
   {
    "duration": 18,
    "start_time": "2021-10-27T17:15:59.454Z"
   },
   {
    "duration": 18,
    "start_time": "2021-10-27T17:26:16.668Z"
   },
   {
    "duration": 7535,
    "start_time": "2021-10-27T17:29:36.560Z"
   },
   {
    "duration": 346,
    "start_time": "2021-10-27T17:30:03.963Z"
   },
   {
    "duration": 18,
    "start_time": "2021-10-27T17:31:30.368Z"
   },
   {
    "duration": 394,
    "start_time": "2021-10-27T17:33:23.877Z"
   },
   {
    "duration": 376,
    "start_time": "2021-10-27T17:33:33.646Z"
   },
   {
    "duration": 478,
    "start_time": "2021-10-27T17:33:47.498Z"
   },
   {
    "duration": 1495,
    "start_time": "2021-10-27T17:34:31.821Z"
   },
   {
    "duration": 39,
    "start_time": "2021-10-27T17:34:33.318Z"
   },
   {
    "duration": 10,
    "start_time": "2021-10-27T17:34:33.360Z"
   },
   {
    "duration": 12,
    "start_time": "2021-10-27T17:34:33.372Z"
   },
   {
    "duration": 54,
    "start_time": "2021-10-27T17:34:33.387Z"
   },
   {
    "duration": 9,
    "start_time": "2021-10-27T17:34:33.444Z"
   },
   {
    "duration": 34,
    "start_time": "2021-10-27T17:34:33.455Z"
   },
   {
    "duration": 8,
    "start_time": "2021-10-27T17:34:33.493Z"
   },
   {
    "duration": 13,
    "start_time": "2021-10-27T17:34:33.525Z"
   },
   {
    "duration": 22,
    "start_time": "2021-10-27T17:34:33.541Z"
   },
   {
    "duration": 30,
    "start_time": "2021-10-27T17:34:33.566Z"
   },
   {
    "duration": 28,
    "start_time": "2021-10-27T17:34:33.599Z"
   },
   {
    "duration": 17,
    "start_time": "2021-10-27T17:34:33.630Z"
   },
   {
    "duration": 15,
    "start_time": "2021-10-27T17:34:33.652Z"
   },
   {
    "duration": 16,
    "start_time": "2021-10-27T17:34:33.670Z"
   },
   {
    "duration": 44,
    "start_time": "2021-10-27T17:34:33.689Z"
   },
   {
    "duration": 20,
    "start_time": "2021-10-27T17:34:33.744Z"
   },
   {
    "duration": 437,
    "start_time": "2021-10-27T17:34:33.767Z"
   },
   {
    "duration": 354,
    "start_time": "2021-10-27T17:34:34.207Z"
   },
   {
    "duration": 14,
    "start_time": "2021-10-27T17:34:34.564Z"
   },
   {
    "duration": 21,
    "start_time": "2021-10-27T17:34:34.581Z"
   },
   {
    "duration": 38,
    "start_time": "2021-10-27T17:34:34.605Z"
   },
   {
    "duration": 358,
    "start_time": "2021-10-27T17:34:34.648Z"
   },
   {
    "duration": 339,
    "start_time": "2021-10-27T17:34:35.009Z"
   },
   {
    "duration": 453,
    "start_time": "2021-10-27T17:34:35.351Z"
   },
   {
    "duration": 379,
    "start_time": "2021-10-27T17:34:35.806Z"
   },
   {
    "duration": 571,
    "start_time": "2021-10-27T17:34:36.188Z"
   },
   {
    "duration": 16,
    "start_time": "2021-10-27T17:34:36.762Z"
   },
   {
    "duration": 500,
    "start_time": "2021-10-27T17:34:36.780Z"
   },
   {
    "duration": 435,
    "start_time": "2021-10-27T17:34:37.283Z"
   },
   {
    "duration": 1468,
    "start_time": "2021-10-27T17:42:45.937Z"
   },
   {
    "duration": 37,
    "start_time": "2021-10-27T17:42:47.408Z"
   },
   {
    "duration": 9,
    "start_time": "2021-10-27T17:42:47.448Z"
   },
   {
    "duration": 13,
    "start_time": "2021-10-27T17:42:47.460Z"
   },
   {
    "duration": 54,
    "start_time": "2021-10-27T17:42:47.475Z"
   },
   {
    "duration": 9,
    "start_time": "2021-10-27T17:42:47.533Z"
   },
   {
    "duration": 23,
    "start_time": "2021-10-27T17:42:47.545Z"
   },
   {
    "duration": 8,
    "start_time": "2021-10-27T17:42:47.572Z"
   },
   {
    "duration": 40,
    "start_time": "2021-10-27T17:42:47.583Z"
   },
   {
    "duration": 12,
    "start_time": "2021-10-27T17:42:47.626Z"
   },
   {
    "duration": 26,
    "start_time": "2021-10-27T17:42:47.642Z"
   },
   {
    "duration": 14,
    "start_time": "2021-10-27T17:42:47.670Z"
   },
   {
    "duration": 41,
    "start_time": "2021-10-27T17:42:47.687Z"
   },
   {
    "duration": 12,
    "start_time": "2021-10-27T17:42:47.731Z"
   },
   {
    "duration": 9,
    "start_time": "2021-10-27T17:42:47.746Z"
   },
   {
    "duration": 19,
    "start_time": "2021-10-27T17:42:47.758Z"
   },
   {
    "duration": 61,
    "start_time": "2021-10-27T17:42:47.780Z"
   },
   {
    "duration": 404,
    "start_time": "2021-10-27T17:42:47.843Z"
   },
   {
    "duration": 299,
    "start_time": "2021-10-27T17:42:48.251Z"
   },
   {
    "duration": 13,
    "start_time": "2021-10-27T17:42:48.553Z"
   },
   {
    "duration": 15,
    "start_time": "2021-10-27T17:42:48.569Z"
   },
   {
    "duration": 44,
    "start_time": "2021-10-27T17:42:48.587Z"
   },
   {
    "duration": 381,
    "start_time": "2021-10-27T17:42:48.635Z"
   },
   {
    "duration": 338,
    "start_time": "2021-10-27T17:42:49.018Z"
   },
   {
    "duration": 407,
    "start_time": "2021-10-27T17:42:49.359Z"
   },
   {
    "duration": 366,
    "start_time": "2021-10-27T17:42:49.769Z"
   },
   {
    "duration": 524,
    "start_time": "2021-10-27T17:42:50.138Z"
   },
   {
    "duration": 15,
    "start_time": "2021-10-27T17:42:50.664Z"
   },
   {
    "duration": 433,
    "start_time": "2021-10-27T17:42:50.681Z"
   },
   {
    "duration": 375,
    "start_time": "2021-10-27T17:42:51.116Z"
   },
   {
    "duration": 6,
    "start_time": "2021-10-27T17:42:51.493Z"
   },
   {
    "duration": 314,
    "start_time": "2021-10-27T17:46:33.778Z"
   },
   {
    "duration": 315,
    "start_time": "2021-10-27T17:46:41.622Z"
   },
   {
    "duration": 32,
    "start_time": "2021-10-27T17:47:19.171Z"
   },
   {
    "duration": 14,
    "start_time": "2021-10-27T17:47:34.403Z"
   },
   {
    "duration": 6,
    "start_time": "2021-10-27T17:52:39.518Z"
   },
   {
    "duration": 477,
    "start_time": "2021-10-27T17:56:10.714Z"
   },
   {
    "duration": 323,
    "start_time": "2021-10-27T17:57:40.480Z"
   },
   {
    "duration": 11,
    "start_time": "2021-10-27T17:58:03.098Z"
   },
   {
    "duration": 7,
    "start_time": "2021-10-27T17:58:35.318Z"
   },
   {
    "duration": 676,
    "start_time": "2021-10-27T18:22:43.713Z"
   },
   {
    "duration": 1647,
    "start_time": "2021-10-27T18:28:40.337Z"
   },
   {
    "duration": 31,
    "start_time": "2021-10-27T18:28:41.987Z"
   },
   {
    "duration": 18,
    "start_time": "2021-10-27T18:28:42.023Z"
   },
   {
    "duration": 12,
    "start_time": "2021-10-27T18:28:42.045Z"
   },
   {
    "duration": 46,
    "start_time": "2021-10-27T18:28:42.059Z"
   },
   {
    "duration": 8,
    "start_time": "2021-10-27T18:28:42.108Z"
   },
   {
    "duration": 23,
    "start_time": "2021-10-27T18:28:42.118Z"
   },
   {
    "duration": 16,
    "start_time": "2021-10-27T18:28:42.147Z"
   },
   {
    "duration": 9,
    "start_time": "2021-10-27T18:28:42.167Z"
   },
   {
    "duration": 52,
    "start_time": "2021-10-27T18:28:42.179Z"
   },
   {
    "duration": 28,
    "start_time": "2021-10-27T18:28:42.234Z"
   },
   {
    "duration": 11,
    "start_time": "2021-10-27T18:28:42.265Z"
   },
   {
    "duration": 8,
    "start_time": "2021-10-27T18:28:42.279Z"
   },
   {
    "duration": 11,
    "start_time": "2021-10-27T18:28:42.322Z"
   },
   {
    "duration": 12,
    "start_time": "2021-10-27T18:28:42.337Z"
   },
   {
    "duration": 17,
    "start_time": "2021-10-27T18:28:42.351Z"
   },
   {
    "duration": 68,
    "start_time": "2021-10-27T18:28:42.371Z"
   },
   {
    "duration": 420,
    "start_time": "2021-10-27T18:28:42.442Z"
   },
   {
    "duration": 344,
    "start_time": "2021-10-27T18:28:42.865Z"
   },
   {
    "duration": 27,
    "start_time": "2021-10-27T18:28:43.211Z"
   },
   {
    "duration": 22,
    "start_time": "2021-10-27T18:28:43.242Z"
   },
   {
    "duration": 13,
    "start_time": "2021-10-27T18:28:43.267Z"
   },
   {
    "duration": 380,
    "start_time": "2021-10-27T18:28:43.284Z"
   },
   {
    "duration": 348,
    "start_time": "2021-10-27T18:28:43.668Z"
   },
   {
    "duration": 424,
    "start_time": "2021-10-27T18:28:44.024Z"
   },
   {
    "duration": 365,
    "start_time": "2021-10-27T18:28:44.451Z"
   },
   {
    "duration": 541,
    "start_time": "2021-10-27T18:28:44.822Z"
   },
   {
    "duration": 16,
    "start_time": "2021-10-27T18:28:45.366Z"
   },
   {
    "duration": 480,
    "start_time": "2021-10-27T18:28:45.384Z"
   },
   {
    "duration": 375,
    "start_time": "2021-10-27T18:28:45.866Z"
   },
   {
    "duration": 13,
    "start_time": "2021-10-27T18:28:46.245Z"
   },
   {
    "duration": 335,
    "start_time": "2021-10-27T18:28:46.260Z"
   },
   {
    "duration": 6,
    "start_time": "2021-10-27T18:28:46.597Z"
   },
   {
    "duration": 436,
    "start_time": "2021-10-27T18:28:46.606Z"
   },
   {
    "duration": 13,
    "start_time": "2021-10-27T18:28:47.045Z"
   },
   {
    "duration": 350,
    "start_time": "2021-10-27T18:28:47.060Z"
   },
   {
    "duration": 12,
    "start_time": "2021-10-27T18:28:47.413Z"
   },
   {
    "duration": 888,
    "start_time": "2021-10-27T18:28:47.435Z"
   },
   {
    "duration": 1548,
    "start_time": "2021-10-27T18:40:34.097Z"
   },
   {
    "duration": 32,
    "start_time": "2021-10-27T18:40:35.647Z"
   },
   {
    "duration": 11,
    "start_time": "2021-10-27T18:40:35.683Z"
   },
   {
    "duration": 27,
    "start_time": "2021-10-27T18:40:35.697Z"
   },
   {
    "duration": 49,
    "start_time": "2021-10-27T18:40:35.727Z"
   },
   {
    "duration": 23,
    "start_time": "2021-10-27T18:40:35.779Z"
   },
   {
    "duration": 35,
    "start_time": "2021-10-27T18:40:35.804Z"
   },
   {
    "duration": 11,
    "start_time": "2021-10-27T18:40:35.845Z"
   },
   {
    "duration": 14,
    "start_time": "2021-10-27T18:40:35.860Z"
   },
   {
    "duration": 15,
    "start_time": "2021-10-27T18:40:35.877Z"
   },
   {
    "duration": 61,
    "start_time": "2021-10-27T18:40:35.894Z"
   },
   {
    "duration": 11,
    "start_time": "2021-10-27T18:40:35.960Z"
   },
   {
    "duration": 7,
    "start_time": "2021-10-27T18:40:35.974Z"
   },
   {
    "duration": 22,
    "start_time": "2021-10-27T18:40:35.983Z"
   },
   {
    "duration": 29,
    "start_time": "2021-10-27T18:40:36.008Z"
   },
   {
    "duration": 22,
    "start_time": "2021-10-27T18:40:36.040Z"
   },
   {
    "duration": 16,
    "start_time": "2021-10-27T18:40:36.064Z"
   },
   {
    "duration": 490,
    "start_time": "2021-10-27T18:40:36.082Z"
   },
   {
    "duration": 314,
    "start_time": "2021-10-27T18:40:36.575Z"
   },
   {
    "duration": 54,
    "start_time": "2021-10-27T18:40:36.892Z"
   },
   {
    "duration": 15,
    "start_time": "2021-10-27T18:40:36.949Z"
   },
   {
    "duration": 22,
    "start_time": "2021-10-27T18:40:36.968Z"
   },
   {
    "duration": 465,
    "start_time": "2021-10-27T18:40:36.996Z"
   },
   {
    "duration": 420,
    "start_time": "2021-10-27T18:40:37.465Z"
   },
   {
    "duration": 470,
    "start_time": "2021-10-27T18:40:37.888Z"
   },
   {
    "duration": 392,
    "start_time": "2021-10-27T18:40:38.362Z"
   },
   {
    "duration": 589,
    "start_time": "2021-10-27T18:40:38.758Z"
   },
   {
    "duration": 18,
    "start_time": "2021-10-27T18:40:39.350Z"
   },
   {
    "duration": 459,
    "start_time": "2021-10-27T18:40:39.370Z"
   },
   {
    "duration": 439,
    "start_time": "2021-10-27T18:40:39.832Z"
   },
   {
    "duration": 16,
    "start_time": "2021-10-27T18:40:40.274Z"
   },
   {
    "duration": 377,
    "start_time": "2021-10-27T18:40:40.293Z"
   },
   {
    "duration": 7,
    "start_time": "2021-10-27T18:40:40.673Z"
   },
   {
    "duration": 557,
    "start_time": "2021-10-27T18:40:40.683Z"
   },
   {
    "duration": 15,
    "start_time": "2021-10-27T18:40:41.244Z"
   },
   {
    "duration": 438,
    "start_time": "2021-10-27T18:40:41.262Z"
   },
   {
    "duration": 6,
    "start_time": "2021-10-27T18:40:41.702Z"
   },
   {
    "duration": 157,
    "start_time": "2021-10-27T18:40:41.727Z"
   },
   {
    "duration": 510,
    "start_time": "2021-10-27T18:40:41.378Z"
   },
   {
    "duration": 107,
    "start_time": "2021-10-27T18:43:44.532Z"
   },
   {
    "duration": 103,
    "start_time": "2021-10-27T18:44:04.923Z"
   },
   {
    "duration": 735,
    "start_time": "2021-10-27T18:45:08.143Z"
   },
   {
    "duration": 1524,
    "start_time": "2021-10-27T18:46:09.245Z"
   },
   {
    "duration": 475,
    "start_time": "2021-10-27T18:47:38.605Z"
   },
   {
    "duration": 241,
    "start_time": "2021-10-27T18:47:46.363Z"
   },
   {
    "duration": 16,
    "start_time": "2021-10-27T19:04:59.529Z"
   },
   {
    "duration": 8055,
    "start_time": "2021-10-27T19:15:57.739Z"
   },
   {
    "duration": 6677,
    "start_time": "2021-10-27T19:17:09.388Z"
   },
   {
    "duration": 1539,
    "start_time": "2021-10-27T19:18:10.964Z"
   },
   {
    "duration": 30,
    "start_time": "2021-10-27T19:18:12.506Z"
   },
   {
    "duration": 22,
    "start_time": "2021-10-27T19:18:12.539Z"
   },
   {
    "duration": 25,
    "start_time": "2021-10-27T19:18:12.564Z"
   },
   {
    "duration": 52,
    "start_time": "2021-10-27T19:18:12.591Z"
   },
   {
    "duration": 8,
    "start_time": "2021-10-27T19:18:12.645Z"
   },
   {
    "duration": 36,
    "start_time": "2021-10-27T19:18:12.655Z"
   },
   {
    "duration": 16,
    "start_time": "2021-10-27T19:18:12.696Z"
   },
   {
    "duration": 11,
    "start_time": "2021-10-27T19:18:12.725Z"
   },
   {
    "duration": 14,
    "start_time": "2021-10-27T19:18:12.739Z"
   },
   {
    "duration": 36,
    "start_time": "2021-10-27T19:18:12.756Z"
   },
   {
    "duration": 28,
    "start_time": "2021-10-27T19:18:12.795Z"
   },
   {
    "duration": 6,
    "start_time": "2021-10-27T19:18:12.826Z"
   },
   {
    "duration": 21,
    "start_time": "2021-10-27T19:18:12.835Z"
   },
   {
    "duration": 9,
    "start_time": "2021-10-27T19:18:12.858Z"
   },
   {
    "duration": 34,
    "start_time": "2021-10-27T19:18:12.869Z"
   },
   {
    "duration": 29,
    "start_time": "2021-10-27T19:18:12.906Z"
   },
   {
    "duration": 366,
    "start_time": "2021-10-27T19:18:12.937Z"
   },
   {
    "duration": 282,
    "start_time": "2021-10-27T19:18:13.305Z"
   },
   {
    "duration": 15,
    "start_time": "2021-10-27T19:18:13.589Z"
   },
   {
    "duration": 27,
    "start_time": "2021-10-27T19:18:13.607Z"
   },
   {
    "duration": 20,
    "start_time": "2021-10-27T19:18:13.637Z"
   },
   {
    "duration": 346,
    "start_time": "2021-10-27T19:18:13.663Z"
   },
   {
    "duration": 325,
    "start_time": "2021-10-27T19:18:14.012Z"
   },
   {
    "duration": 386,
    "start_time": "2021-10-27T19:18:14.340Z"
   },
   {
    "duration": 348,
    "start_time": "2021-10-27T19:18:14.729Z"
   },
   {
    "duration": 539,
    "start_time": "2021-10-27T19:18:15.079Z"
   },
   {
    "duration": 16,
    "start_time": "2021-10-27T19:18:15.623Z"
   },
   {
    "duration": 453,
    "start_time": "2021-10-27T19:18:15.642Z"
   },
   {
    "duration": 384,
    "start_time": "2021-10-27T19:18:16.098Z"
   },
   {
    "duration": 10,
    "start_time": "2021-10-27T19:18:16.485Z"
   },
   {
    "duration": 291,
    "start_time": "2021-10-27T19:18:16.498Z"
   },
   {
    "duration": 5,
    "start_time": "2021-10-27T19:18:16.792Z"
   },
   {
    "duration": 398,
    "start_time": "2021-10-27T19:18:16.799Z"
   },
   {
    "duration": 23,
    "start_time": "2021-10-27T19:18:17.200Z"
   },
   {
    "duration": 318,
    "start_time": "2021-10-27T19:18:17.225Z"
   },
   {
    "duration": 6,
    "start_time": "2021-10-27T19:18:17.545Z"
   },
   {
    "duration": 464,
    "start_time": "2021-10-27T19:18:17.554Z"
   },
   {
    "duration": 248,
    "start_time": "2021-10-27T19:18:18.020Z"
   },
   {
    "duration": 15,
    "start_time": "2021-10-27T19:18:18.270Z"
   },
   {
    "duration": 6843,
    "start_time": "2021-10-27T19:18:18.288Z"
   },
   {
    "duration": 7073,
    "start_time": "2021-10-27T19:19:41.607Z"
   },
   {
    "duration": 6799,
    "start_time": "2021-10-27T19:20:16.778Z"
   },
   {
    "duration": 1450,
    "start_time": "2021-10-27T19:21:48.139Z"
   },
   {
    "duration": 33,
    "start_time": "2021-10-27T19:21:49.591Z"
   },
   {
    "duration": 10,
    "start_time": "2021-10-27T19:21:49.627Z"
   },
   {
    "duration": 11,
    "start_time": "2021-10-27T19:21:49.640Z"
   },
   {
    "duration": 51,
    "start_time": "2021-10-27T19:21:49.654Z"
   },
   {
    "duration": 8,
    "start_time": "2021-10-27T19:21:49.708Z"
   },
   {
    "duration": 32,
    "start_time": "2021-10-27T19:21:49.718Z"
   },
   {
    "duration": 16,
    "start_time": "2021-10-27T19:21:49.752Z"
   },
   {
    "duration": 10,
    "start_time": "2021-10-27T19:21:49.772Z"
   },
   {
    "duration": 12,
    "start_time": "2021-10-27T19:21:49.786Z"
   },
   {
    "duration": 25,
    "start_time": "2021-10-27T19:21:49.823Z"
   },
   {
    "duration": 13,
    "start_time": "2021-10-27T19:21:49.851Z"
   },
   {
    "duration": 7,
    "start_time": "2021-10-27T19:21:49.867Z"
   },
   {
    "duration": 19,
    "start_time": "2021-10-27T19:21:49.877Z"
   },
   {
    "duration": 29,
    "start_time": "2021-10-27T19:21:49.898Z"
   },
   {
    "duration": 22,
    "start_time": "2021-10-27T19:21:49.929Z"
   },
   {
    "duration": 16,
    "start_time": "2021-10-27T19:21:49.954Z"
   },
   {
    "duration": 374,
    "start_time": "2021-10-27T19:21:49.973Z"
   },
   {
    "duration": 282,
    "start_time": "2021-10-27T19:21:50.350Z"
   },
   {
    "duration": 15,
    "start_time": "2021-10-27T19:21:50.634Z"
   },
   {
    "duration": 16,
    "start_time": "2021-10-27T19:21:50.652Z"
   },
   {
    "duration": 51,
    "start_time": "2021-10-27T19:21:50.671Z"
   },
   {
    "duration": 347,
    "start_time": "2021-10-27T19:21:50.725Z"
   },
   {
    "duration": 315,
    "start_time": "2021-10-27T19:21:51.075Z"
   },
   {
    "duration": 426,
    "start_time": "2021-10-27T19:21:51.393Z"
   },
   {
    "duration": 349,
    "start_time": "2021-10-27T19:21:51.823Z"
   },
   {
    "duration": 546,
    "start_time": "2021-10-27T19:21:52.180Z"
   },
   {
    "duration": 18,
    "start_time": "2021-10-27T19:21:52.730Z"
   },
   {
    "duration": 459,
    "start_time": "2021-10-27T19:21:52.750Z"
   },
   {
    "duration": 378,
    "start_time": "2021-10-27T19:21:53.211Z"
   },
   {
    "duration": 11,
    "start_time": "2021-10-27T19:21:53.591Z"
   },
   {
    "duration": 300,
    "start_time": "2021-10-27T19:21:53.604Z"
   },
   {
    "duration": 6,
    "start_time": "2021-10-27T19:21:53.906Z"
   },
   {
    "duration": 393,
    "start_time": "2021-10-27T19:21:53.923Z"
   },
   {
    "duration": 11,
    "start_time": "2021-10-27T19:21:54.322Z"
   },
   {
    "duration": 324,
    "start_time": "2021-10-27T19:21:54.335Z"
   },
   {
    "duration": 6,
    "start_time": "2021-10-27T19:21:54.661Z"
   },
   {
    "duration": 480,
    "start_time": "2021-10-27T19:21:54.669Z"
   },
   {
    "duration": 258,
    "start_time": "2021-10-27T19:21:55.151Z"
   },
   {
    "duration": 19,
    "start_time": "2021-10-27T19:21:55.413Z"
   },
   {
    "duration": 7211,
    "start_time": "2021-10-27T19:21:55.435Z"
   },
   {
    "duration": 10,
    "start_time": "2021-10-27T19:28:48.128Z"
   },
   {
    "duration": 8,
    "start_time": "2021-10-27T19:29:36.339Z"
   },
   {
    "duration": 7224,
    "start_time": "2021-10-27T19:30:12.325Z"
   },
   {
    "duration": 9,
    "start_time": "2021-10-27T19:30:54.067Z"
   },
   {
    "duration": 16,
    "start_time": "2021-10-27T19:33:48.805Z"
   },
   {
    "duration": 8098,
    "start_time": "2021-10-27T20:01:37.672Z"
   },
   {
    "duration": 13,
    "start_time": "2021-10-27T20:02:12.579Z"
   },
   {
    "duration": 11,
    "start_time": "2021-10-27T20:02:37.448Z"
   },
   {
    "duration": 419,
    "start_time": "2021-10-27T20:49:05.295Z"
   },
   {
    "duration": 9,
    "start_time": "2021-10-27T20:49:48.746Z"
   },
   {
    "duration": 336,
    "start_time": "2021-10-27T22:52:36.363Z"
   },
   {
    "duration": 441,
    "start_time": "2021-10-27T22:52:59.848Z"
   },
   {
    "duration": 10,
    "start_time": "2021-10-27T22:53:21.331Z"
   },
   {
    "duration": 336,
    "start_time": "2021-10-28T03:51:22.512Z"
   },
   {
    "duration": 295,
    "start_time": "2021-10-28T03:51:55.872Z"
   },
   {
    "duration": 310,
    "start_time": "2021-10-28T03:52:14.470Z"
   },
   {
    "duration": 309,
    "start_time": "2021-10-28T03:53:00.184Z"
   },
   {
    "duration": 32,
    "start_time": "2021-10-28T03:53:19.769Z"
   },
   {
    "duration": 25,
    "start_time": "2021-10-28T04:00:34.404Z"
   },
   {
    "duration": 33,
    "start_time": "2021-10-28T04:01:04.960Z"
   },
   {
    "duration": 30,
    "start_time": "2021-10-28T04:01:20.159Z"
   },
   {
    "duration": 32,
    "start_time": "2021-10-28T04:10:31.409Z"
   },
   {
    "duration": 41,
    "start_time": "2021-10-28T04:10:39.369Z"
   },
   {
    "duration": 42,
    "start_time": "2021-10-28T04:11:38.002Z"
   },
   {
    "duration": 5,
    "start_time": "2021-10-28T04:15:09.308Z"
   },
   {
    "duration": 362,
    "start_time": "2021-10-28T04:57:11.943Z"
   },
   {
    "duration": 320,
    "start_time": "2021-10-28T05:04:56.448Z"
   },
   {
    "duration": 347,
    "start_time": "2021-10-28T05:14:08.261Z"
   },
   {
    "duration": 359,
    "start_time": "2021-10-28T05:14:26.434Z"
   },
   {
    "duration": 338,
    "start_time": "2021-10-28T05:15:21.121Z"
   },
   {
    "duration": 429,
    "start_time": "2021-10-28T05:16:33.273Z"
   },
   {
    "duration": 494,
    "start_time": "2021-10-28T05:17:40.080Z"
   },
   {
    "duration": 456,
    "start_time": "2021-10-28T06:23:32.102Z"
   },
   {
    "duration": 328,
    "start_time": "2021-10-28T17:28:03.338Z"
   },
   {
    "duration": 1082,
    "start_time": "2021-10-28T17:28:22.678Z"
   },
   {
    "duration": 24,
    "start_time": "2021-10-28T17:28:23.762Z"
   },
   {
    "duration": 6,
    "start_time": "2021-10-28T17:28:23.788Z"
   },
   {
    "duration": 22,
    "start_time": "2021-10-28T17:28:23.796Z"
   },
   {
    "duration": 53,
    "start_time": "2021-10-28T17:28:23.820Z"
   },
   {
    "duration": 21,
    "start_time": "2021-10-28T17:28:23.874Z"
   },
   {
    "duration": 20,
    "start_time": "2021-10-28T17:28:23.897Z"
   },
   {
    "duration": 18,
    "start_time": "2021-10-28T17:28:23.919Z"
   },
   {
    "duration": 18,
    "start_time": "2021-10-28T17:28:23.938Z"
   },
   {
    "duration": 15,
    "start_time": "2021-10-28T17:28:23.957Z"
   },
   {
    "duration": 30,
    "start_time": "2021-10-28T17:28:23.973Z"
   },
   {
    "duration": 19,
    "start_time": "2021-10-28T17:28:24.004Z"
   },
   {
    "duration": 14,
    "start_time": "2021-10-28T17:28:24.024Z"
   },
   {
    "duration": 12,
    "start_time": "2021-10-28T17:28:24.040Z"
   },
   {
    "duration": 23,
    "start_time": "2021-10-28T17:28:24.053Z"
   },
   {
    "duration": 33,
    "start_time": "2021-10-28T17:28:24.077Z"
   },
   {
    "duration": 3,
    "start_time": "2021-10-28T17:28:24.112Z"
   },
   {
    "duration": 23,
    "start_time": "2021-10-28T17:28:24.116Z"
   },
   {
    "duration": 15,
    "start_time": "2021-10-28T17:28:24.140Z"
   },
   {
    "duration": 209,
    "start_time": "2021-10-28T17:28:24.156Z"
   },
   {
    "duration": 161,
    "start_time": "2021-10-28T17:28:24.366Z"
   },
   {
    "duration": 18,
    "start_time": "2021-10-28T17:28:24.529Z"
   },
   {
    "duration": 12,
    "start_time": "2021-10-28T17:28:24.551Z"
   },
   {
    "duration": 19,
    "start_time": "2021-10-28T17:28:24.565Z"
   },
   {
    "duration": 214,
    "start_time": "2021-10-28T17:28:24.586Z"
   },
   {
    "duration": 194,
    "start_time": "2021-10-28T17:28:24.801Z"
   },
   {
    "duration": 312,
    "start_time": "2021-10-28T17:28:24.997Z"
   },
   {
    "duration": 196,
    "start_time": "2021-10-28T17:28:25.311Z"
   },
   {
    "duration": 359,
    "start_time": "2021-10-28T17:28:25.509Z"
   },
   {
    "duration": 9,
    "start_time": "2021-10-28T17:28:25.870Z"
   },
   {
    "duration": 327,
    "start_time": "2021-10-28T17:28:25.881Z"
   },
   {
    "duration": 250,
    "start_time": "2021-10-28T17:28:26.210Z"
   },
   {
    "duration": 7,
    "start_time": "2021-10-28T17:28:26.461Z"
   },
   {
    "duration": 169,
    "start_time": "2021-10-28T17:28:26.470Z"
   },
   {
    "duration": 4,
    "start_time": "2021-10-28T17:28:26.644Z"
   },
   {
    "duration": 274,
    "start_time": "2021-10-28T17:28:26.650Z"
   },
   {
    "duration": 20,
    "start_time": "2021-10-28T17:28:26.925Z"
   },
   {
    "duration": 176,
    "start_time": "2021-10-28T17:28:26.946Z"
   },
   {
    "duration": 3,
    "start_time": "2021-10-28T17:28:27.124Z"
   },
   {
    "duration": 258,
    "start_time": "2021-10-28T17:28:27.129Z"
   },
   {
    "duration": 122,
    "start_time": "2021-10-28T17:28:27.389Z"
   },
   {
    "duration": 9,
    "start_time": "2021-10-28T17:28:27.512Z"
   },
   {
    "duration": 22,
    "start_time": "2021-10-28T17:28:27.522Z"
   },
   {
    "duration": 8,
    "start_time": "2021-10-28T17:28:27.546Z"
   },
   {
    "duration": 8,
    "start_time": "2021-10-28T17:28:27.556Z"
   },
   {
    "duration": 351,
    "start_time": "2021-10-28T17:31:08.039Z"
   },
   {
    "duration": 362,
    "start_time": "2021-10-28T17:42:13.319Z"
   },
   {
    "duration": 324,
    "start_time": "2021-10-28T17:42:41.872Z"
   },
   {
    "duration": 243,
    "start_time": "2021-10-28T17:44:31.675Z"
   },
   {
    "duration": 378,
    "start_time": "2021-10-28T17:54:40.629Z"
   },
   {
    "duration": 266,
    "start_time": "2021-10-28T17:57:50.817Z"
   },
   {
    "duration": 107,
    "start_time": "2021-10-28T17:58:47.857Z"
   },
   {
    "duration": 5,
    "start_time": "2021-10-28T18:02:01.644Z"
   },
   {
    "duration": 264,
    "start_time": "2021-10-28T18:03:40.293Z"
   },
   {
    "duration": 167,
    "start_time": "2021-10-28T18:12:33.336Z"
   },
   {
    "duration": 4,
    "start_time": "2021-10-28T18:17:02.463Z"
   },
   {
    "duration": 357,
    "start_time": "2021-10-28T19:02:35.467Z"
   },
   {
    "duration": 311,
    "start_time": "2021-10-28T19:09:06.271Z"
   },
   {
    "duration": 717,
    "start_time": "2021-10-28T19:09:26.944Z"
   },
   {
    "duration": 342,
    "start_time": "2021-10-28T19:09:36.850Z"
   },
   {
    "duration": 478,
    "start_time": "2021-10-28T19:09:44.308Z"
   },
   {
    "duration": 8,
    "start_time": "2021-10-28T19:10:53.981Z"
   },
   {
    "duration": 7,
    "start_time": "2021-10-28T19:19:08.013Z"
   },
   {
    "duration": 6,
    "start_time": "2021-10-28T19:19:45.799Z"
   },
   {
    "duration": 265,
    "start_time": "2021-10-28T19:20:41.209Z"
   },
   {
    "duration": 4,
    "start_time": "2021-10-28T19:20:51.910Z"
   },
   {
    "duration": 296,
    "start_time": "2021-10-28T19:21:10.160Z"
   },
   {
    "duration": 5,
    "start_time": "2021-10-28T19:21:26.907Z"
   },
   {
    "duration": 297,
    "start_time": "2021-10-28T19:21:54.347Z"
   },
   {
    "duration": 6,
    "start_time": "2021-10-28T19:22:01.410Z"
   },
   {
    "duration": 7,
    "start_time": "2021-10-28T19:31:18.555Z"
   },
   {
    "duration": 7,
    "start_time": "2021-10-28T19:33:45.934Z"
   },
   {
    "duration": 167,
    "start_time": "2021-10-28T19:40:52.779Z"
   },
   {
    "duration": 200,
    "start_time": "2021-10-28T19:41:14.351Z"
   },
   {
    "duration": 258,
    "start_time": "2021-10-28T21:56:46.640Z"
   },
   {
    "duration": 9,
    "start_time": "2021-10-28T22:47:30.328Z"
   },
   {
    "duration": 255,
    "start_time": "2021-10-28T22:49:30.415Z"
   },
   {
    "duration": 8,
    "start_time": "2021-10-28T22:49:39.172Z"
   },
   {
    "duration": 8,
    "start_time": "2021-10-28T22:49:47.374Z"
   },
   {
    "duration": 7017,
    "start_time": "2021-10-29T04:34:09.075Z"
   },
   {
    "duration": 6820,
    "start_time": "2021-10-29T04:34:50.246Z"
   },
   {
    "duration": 12,
    "start_time": "2021-10-29T04:35:45.130Z"
   },
   {
    "duration": 18,
    "start_time": "2021-10-29T05:18:03.305Z"
   },
   {
    "duration": 1040,
    "start_time": "2021-10-29T05:18:11.666Z"
   },
   {
    "duration": 24,
    "start_time": "2021-10-29T05:18:12.708Z"
   },
   {
    "duration": 7,
    "start_time": "2021-10-29T05:18:12.734Z"
   },
   {
    "duration": 20,
    "start_time": "2021-10-29T05:18:12.743Z"
   },
   {
    "duration": 46,
    "start_time": "2021-10-29T05:18:12.765Z"
   },
   {
    "duration": 5,
    "start_time": "2021-10-29T05:18:12.813Z"
   },
   {
    "duration": 15,
    "start_time": "2021-10-29T05:18:12.819Z"
   },
   {
    "duration": 14,
    "start_time": "2021-10-29T05:18:12.837Z"
   },
   {
    "duration": 10,
    "start_time": "2021-10-29T05:18:12.853Z"
   },
   {
    "duration": 14,
    "start_time": "2021-10-29T05:18:12.864Z"
   },
   {
    "duration": 20,
    "start_time": "2021-10-29T05:18:12.879Z"
   },
   {
    "duration": 11,
    "start_time": "2021-10-29T05:18:12.900Z"
   },
   {
    "duration": 8,
    "start_time": "2021-10-29T05:18:12.912Z"
   },
   {
    "duration": 9,
    "start_time": "2021-10-29T05:18:12.921Z"
   },
   {
    "duration": 12,
    "start_time": "2021-10-29T05:18:12.931Z"
   },
   {
    "duration": 20,
    "start_time": "2021-10-29T05:18:12.945Z"
   },
   {
    "duration": 3,
    "start_time": "2021-10-29T05:18:12.967Z"
   },
   {
    "duration": 14,
    "start_time": "2021-10-29T05:18:12.971Z"
   },
   {
    "duration": 11,
    "start_time": "2021-10-29T05:18:12.986Z"
   },
   {
    "duration": 216,
    "start_time": "2021-10-29T05:18:12.998Z"
   },
   {
    "duration": 157,
    "start_time": "2021-10-29T05:18:13.216Z"
   },
   {
    "duration": 12,
    "start_time": "2021-10-29T05:18:13.375Z"
   },
   {
    "duration": 13,
    "start_time": "2021-10-29T05:18:13.390Z"
   },
   {
    "duration": 8,
    "start_time": "2021-10-29T05:18:13.405Z"
   },
   {
    "duration": 209,
    "start_time": "2021-10-29T05:18:13.415Z"
   },
   {
    "duration": 190,
    "start_time": "2021-10-29T05:18:13.625Z"
   },
   {
    "duration": 316,
    "start_time": "2021-10-29T05:18:13.817Z"
   },
   {
    "duration": 201,
    "start_time": "2021-10-29T05:18:14.136Z"
   },
   {
    "duration": 359,
    "start_time": "2021-10-29T05:18:14.339Z"
   },
   {
    "duration": 99,
    "start_time": "2021-10-29T05:18:14.700Z"
   },
   {
    "duration": 4,
    "start_time": "2021-10-29T05:18:14.801Z"
   },
   {
    "duration": 20,
    "start_time": "2021-10-29T05:18:14.807Z"
   },
   {
    "duration": 315,
    "start_time": "2021-10-29T05:18:14.829Z"
   },
   {
    "duration": 160,
    "start_time": "2021-10-29T05:18:15.146Z"
   },
   {
    "duration": 4,
    "start_time": "2021-10-29T05:18:15.308Z"
   },
   {
    "duration": 331,
    "start_time": "2021-10-29T05:18:15.313Z"
   },
   {
    "duration": 7,
    "start_time": "2021-10-29T05:18:15.646Z"
   },
   {
    "duration": 4,
    "start_time": "2021-10-29T05:18:16.316Z"
   },
   {
    "duration": 277,
    "start_time": "2021-10-29T05:18:17.109Z"
   },
   {
    "duration": 136,
    "start_time": "2021-10-29T05:18:17.592Z"
   },
   {
    "duration": 10,
    "start_time": "2021-10-29T05:18:17.958Z"
   },
   {
    "duration": 10,
    "start_time": "2021-10-29T05:18:18.323Z"
   },
   {
    "duration": 8,
    "start_time": "2021-10-29T05:18:18.711Z"
   },
   {
    "duration": 9,
    "start_time": "2021-10-29T05:18:18.721Z"
   },
   {
    "duration": 15,
    "start_time": "2021-10-29T05:18:19.471Z"
   },
   {
    "duration": 63,
    "start_time": "2021-10-29T10:23:40.494Z"
   },
   {
    "duration": 72,
    "start_time": "2021-10-29T10:25:43.917Z"
   },
   {
    "duration": 59,
    "start_time": "2021-10-29T10:28:36.404Z"
   },
   {
    "duration": 58,
    "start_time": "2021-10-29T10:30:43.277Z"
   },
   {
    "duration": 396,
    "start_time": "2021-10-29T14:46:18.867Z"
   },
   {
    "duration": 1561,
    "start_time": "2021-10-29T14:46:42.717Z"
   },
   {
    "duration": 30,
    "start_time": "2021-10-29T14:46:44.280Z"
   },
   {
    "duration": 11,
    "start_time": "2021-10-29T14:46:44.313Z"
   },
   {
    "duration": 13,
    "start_time": "2021-10-29T14:46:44.326Z"
   },
   {
    "duration": 70,
    "start_time": "2021-10-29T14:46:44.341Z"
   },
   {
    "duration": 8,
    "start_time": "2021-10-29T14:46:44.413Z"
   },
   {
    "duration": 25,
    "start_time": "2021-10-29T14:46:44.423Z"
   },
   {
    "duration": 12,
    "start_time": "2021-10-29T14:46:44.452Z"
   },
   {
    "duration": 9,
    "start_time": "2021-10-29T14:46:44.467Z"
   },
   {
    "duration": 12,
    "start_time": "2021-10-29T14:46:44.482Z"
   },
   {
    "duration": 41,
    "start_time": "2021-10-29T14:46:44.496Z"
   },
   {
    "duration": 7,
    "start_time": "2021-10-29T14:46:44.539Z"
   },
   {
    "duration": 7,
    "start_time": "2021-10-29T14:46:44.549Z"
   },
   {
    "duration": 24,
    "start_time": "2021-10-29T14:46:44.559Z"
   },
   {
    "duration": 7,
    "start_time": "2021-10-29T14:46:44.585Z"
   },
   {
    "duration": 36,
    "start_time": "2021-10-29T14:46:44.594Z"
   },
   {
    "duration": 5,
    "start_time": "2021-10-29T14:46:44.633Z"
   },
   {
    "duration": 46,
    "start_time": "2021-10-29T14:46:44.640Z"
   },
   {
    "duration": 17,
    "start_time": "2021-10-29T14:46:44.688Z"
   },
   {
    "duration": 376,
    "start_time": "2021-10-29T14:46:44.707Z"
   },
   {
    "duration": 276,
    "start_time": "2021-10-29T14:46:45.085Z"
   },
   {
    "duration": 27,
    "start_time": "2021-10-29T14:46:45.363Z"
   },
   {
    "duration": 13,
    "start_time": "2021-10-29T14:46:45.396Z"
   },
   {
    "duration": 16,
    "start_time": "2021-10-29T14:46:45.412Z"
   },
   {
    "duration": 368,
    "start_time": "2021-10-29T14:46:45.430Z"
   },
   {
    "duration": 338,
    "start_time": "2021-10-29T14:46:45.800Z"
   },
   {
    "duration": 480,
    "start_time": "2021-10-29T14:46:46.141Z"
   },
   {
    "duration": 391,
    "start_time": "2021-10-29T14:46:46.623Z"
   },
   {
    "duration": 566,
    "start_time": "2021-10-29T14:46:47.017Z"
   },
   {
    "duration": 241,
    "start_time": "2021-10-29T14:46:47.586Z"
   },
   {
    "duration": 6,
    "start_time": "2021-10-29T14:46:47.830Z"
   },
   {
    "duration": 17,
    "start_time": "2021-10-29T14:46:47.838Z"
   },
   {
    "duration": 486,
    "start_time": "2021-10-29T14:46:47.883Z"
   },
   {
    "duration": 281,
    "start_time": "2021-10-29T14:46:48.371Z"
   },
   {
    "duration": 6,
    "start_time": "2021-10-29T14:46:48.654Z"
   },
   {
    "duration": 416,
    "start_time": "2021-10-29T14:46:48.663Z"
   },
   {
    "duration": 11,
    "start_time": "2021-10-29T14:46:49.082Z"
   },
   {
    "duration": 36,
    "start_time": "2021-10-29T14:46:49.095Z"
   },
   {
    "duration": 455,
    "start_time": "2021-10-29T14:46:49.134Z"
   },
   {
    "duration": 226,
    "start_time": "2021-10-29T14:46:49.592Z"
   },
   {
    "duration": 15,
    "start_time": "2021-10-29T14:46:49.821Z"
   },
   {
    "duration": 14,
    "start_time": "2021-10-29T14:46:49.839Z"
   },
   {
    "duration": 15,
    "start_time": "2021-10-29T14:46:49.883Z"
   },
   {
    "duration": 12,
    "start_time": "2021-10-29T14:46:49.900Z"
   },
   {
    "duration": 21,
    "start_time": "2021-10-29T14:46:49.914Z"
   },
   {
    "duration": 5,
    "start_time": "2021-10-29T15:33:23.667Z"
   },
   {
    "duration": 6,
    "start_time": "2021-10-29T15:34:04.872Z"
   },
   {
    "duration": 16,
    "start_time": "2021-10-29T15:37:30.475Z"
   },
   {
    "duration": 1538,
    "start_time": "2021-10-29T15:37:43.447Z"
   },
   {
    "duration": 258,
    "start_time": "2021-10-29T15:37:44.988Z"
   },
   {
    "duration": 12,
    "start_time": "2021-10-29T15:37:45.249Z"
   },
   {
    "duration": 14,
    "start_time": "2021-10-29T15:37:45.264Z"
   },
   {
    "duration": 107,
    "start_time": "2021-10-29T15:37:45.281Z"
   },
   {
    "duration": 8,
    "start_time": "2021-10-29T15:37:45.391Z"
   },
   {
    "duration": 21,
    "start_time": "2021-10-29T15:37:45.401Z"
   },
   {
    "duration": 9,
    "start_time": "2021-10-29T15:37:45.426Z"
   },
   {
    "duration": 10,
    "start_time": "2021-10-29T15:37:45.438Z"
   },
   {
    "duration": 42,
    "start_time": "2021-10-29T15:37:45.451Z"
   },
   {
    "duration": 25,
    "start_time": "2021-10-29T15:37:45.497Z"
   },
   {
    "duration": 20,
    "start_time": "2021-10-29T15:37:45.525Z"
   },
   {
    "duration": 8,
    "start_time": "2021-10-29T15:37:45.548Z"
   },
   {
    "duration": 29,
    "start_time": "2021-10-29T15:37:45.558Z"
   },
   {
    "duration": 9,
    "start_time": "2021-10-29T15:37:45.589Z"
   },
   {
    "duration": 35,
    "start_time": "2021-10-29T15:37:45.600Z"
   },
   {
    "duration": 5,
    "start_time": "2021-10-29T15:37:45.638Z"
   },
   {
    "duration": 16,
    "start_time": "2021-10-29T15:37:45.682Z"
   },
   {
    "duration": 20,
    "start_time": "2021-10-29T15:37:45.701Z"
   },
   {
    "duration": 390,
    "start_time": "2021-10-29T15:37:45.723Z"
   },
   {
    "duration": 303,
    "start_time": "2021-10-29T15:37:46.115Z"
   },
   {
    "duration": 15,
    "start_time": "2021-10-29T15:37:46.420Z"
   },
   {
    "duration": 15,
    "start_time": "2021-10-29T15:37:46.440Z"
   },
   {
    "duration": 34,
    "start_time": "2021-10-29T15:37:46.458Z"
   },
   {
    "duration": 404,
    "start_time": "2021-10-29T15:37:46.495Z"
   },
   {
    "duration": 346,
    "start_time": "2021-10-29T15:37:46.902Z"
   },
   {
    "duration": 465,
    "start_time": "2021-10-29T15:37:47.251Z"
   },
   {
    "duration": 343,
    "start_time": "2021-10-29T15:37:47.719Z"
   },
   {
    "duration": 529,
    "start_time": "2021-10-29T15:37:48.065Z"
   },
   {
    "duration": 215,
    "start_time": "2021-10-29T15:37:48.596Z"
   },
   {
    "duration": 6,
    "start_time": "2021-10-29T15:37:48.814Z"
   },
   {
    "duration": 17,
    "start_time": "2021-10-29T15:37:48.822Z"
   },
   {
    "duration": 489,
    "start_time": "2021-10-29T15:37:48.842Z"
   },
   {
    "duration": 282,
    "start_time": "2021-10-29T15:37:49.333Z"
   },
   {
    "duration": 5,
    "start_time": "2021-10-29T15:37:49.618Z"
   },
   {
    "duration": 389,
    "start_time": "2021-10-29T15:37:49.625Z"
   },
   {
    "duration": 10,
    "start_time": "2021-10-29T15:37:50.016Z"
   },
   {
    "duration": 7,
    "start_time": "2021-10-29T15:37:50.028Z"
   },
   {
    "duration": 491,
    "start_time": "2021-10-29T15:37:50.038Z"
   },
   {
    "duration": 237,
    "start_time": "2021-10-29T15:37:50.532Z"
   },
   {
    "duration": 20,
    "start_time": "2021-10-29T15:37:50.773Z"
   },
   {
    "duration": 14,
    "start_time": "2021-10-29T15:37:50.796Z"
   },
   {
    "duration": 17,
    "start_time": "2021-10-29T15:37:50.813Z"
   },
   {
    "duration": 18,
    "start_time": "2021-10-29T15:37:50.832Z"
   },
   {
    "duration": 21,
    "start_time": "2021-10-29T15:37:50.883Z"
   },
   {
    "duration": 15,
    "start_time": "2021-10-29T15:38:47.061Z"
   },
   {
    "duration": 16,
    "start_time": "2021-10-29T15:39:07.868Z"
   },
   {
    "duration": 15,
    "start_time": "2021-10-29T15:39:19.574Z"
   },
   {
    "duration": 14,
    "start_time": "2021-10-29T15:39:33.666Z"
   },
   {
    "duration": 431,
    "start_time": "2021-10-29T17:05:15.378Z"
   },
   {
    "duration": 424,
    "start_time": "2021-10-29T17:14:45.928Z"
   },
   {
    "duration": 6,
    "start_time": "2021-10-29T17:14:58.317Z"
   },
   {
    "duration": 5,
    "start_time": "2021-10-29T17:15:33.402Z"
   },
   {
    "duration": 6,
    "start_time": "2021-10-29T17:16:35.073Z"
   },
   {
    "duration": 6,
    "start_time": "2021-10-29T17:16:49.089Z"
   },
   {
    "duration": 14,
    "start_time": "2021-10-29T17:19:11.165Z"
   },
   {
    "duration": 16,
    "start_time": "2021-10-29T17:19:22.014Z"
   },
   {
    "duration": 11,
    "start_time": "2021-10-29T17:27:32.761Z"
   },
   {
    "duration": 8,
    "start_time": "2021-10-29T17:28:10.106Z"
   },
   {
    "duration": 89,
    "start_time": "2021-10-29T17:28:26.868Z"
   },
   {
    "duration": 90,
    "start_time": "2021-10-29T17:28:37.092Z"
   },
   {
    "duration": 15,
    "start_time": "2021-10-29T17:29:14.546Z"
   },
   {
    "duration": 9,
    "start_time": "2021-10-29T17:29:37.778Z"
   },
   {
    "duration": 14,
    "start_time": "2021-10-29T17:29:55.148Z"
   },
   {
    "duration": 8,
    "start_time": "2021-10-29T17:30:56.138Z"
   },
   {
    "duration": 1448,
    "start_time": "2021-10-29T17:31:12.334Z"
   },
   {
    "duration": 33,
    "start_time": "2021-10-29T17:31:13.784Z"
   },
   {
    "duration": 12,
    "start_time": "2021-10-29T17:31:13.821Z"
   },
   {
    "duration": 47,
    "start_time": "2021-10-29T17:31:13.837Z"
   },
   {
    "duration": 46,
    "start_time": "2021-10-29T17:31:13.887Z"
   },
   {
    "duration": 9,
    "start_time": "2021-10-29T17:31:13.936Z"
   },
   {
    "duration": 33,
    "start_time": "2021-10-29T17:31:13.948Z"
   },
   {
    "duration": 10,
    "start_time": "2021-10-29T17:31:13.985Z"
   },
   {
    "duration": 8,
    "start_time": "2021-10-29T17:31:13.998Z"
   },
   {
    "duration": 12,
    "start_time": "2021-10-29T17:31:14.008Z"
   },
   {
    "duration": 26,
    "start_time": "2021-10-29T17:31:14.022Z"
   },
   {
    "duration": 40,
    "start_time": "2021-10-29T17:31:14.050Z"
   },
   {
    "duration": 9,
    "start_time": "2021-10-29T17:31:14.092Z"
   },
   {
    "duration": 17,
    "start_time": "2021-10-29T17:31:14.103Z"
   },
   {
    "duration": 8,
    "start_time": "2021-10-29T17:31:14.122Z"
   },
   {
    "duration": 58,
    "start_time": "2021-10-29T17:31:14.133Z"
   },
   {
    "duration": 5,
    "start_time": "2021-10-29T17:31:14.193Z"
   },
   {
    "duration": 16,
    "start_time": "2021-10-29T17:31:14.201Z"
   },
   {
    "duration": 16,
    "start_time": "2021-10-29T17:31:14.220Z"
   },
   {
    "duration": 393,
    "start_time": "2021-10-29T17:31:14.239Z"
   },
   {
    "duration": 279,
    "start_time": "2021-10-29T17:31:14.635Z"
   },
   {
    "duration": 14,
    "start_time": "2021-10-29T17:31:14.916Z"
   },
   {
    "duration": 14,
    "start_time": "2021-10-29T17:31:14.935Z"
   },
   {
    "duration": 33,
    "start_time": "2021-10-29T17:31:14.951Z"
   },
   {
    "duration": 359,
    "start_time": "2021-10-29T17:31:14.986Z"
   },
   {
    "duration": 347,
    "start_time": "2021-10-29T17:31:15.347Z"
   },
   {
    "duration": 440,
    "start_time": "2021-10-29T17:31:15.697Z"
   },
   {
    "duration": 346,
    "start_time": "2021-10-29T17:31:16.139Z"
   },
   {
    "duration": 523,
    "start_time": "2021-10-29T17:31:16.487Z"
   },
   {
    "duration": 195,
    "start_time": "2021-10-29T17:31:17.012Z"
   },
   {
    "duration": 5,
    "start_time": "2021-10-29T17:31:17.210Z"
   },
   {
    "duration": 17,
    "start_time": "2021-10-29T17:31:17.217Z"
   },
   {
    "duration": 479,
    "start_time": "2021-10-29T17:31:17.236Z"
   },
   {
    "duration": 274,
    "start_time": "2021-10-29T17:31:17.718Z"
   },
   {
    "duration": 7,
    "start_time": "2021-10-29T17:31:17.995Z"
   },
   {
    "duration": 395,
    "start_time": "2021-10-29T17:31:18.004Z"
   },
   {
    "duration": 10,
    "start_time": "2021-10-29T17:31:18.402Z"
   },
   {
    "duration": 12,
    "start_time": "2021-10-29T17:31:18.414Z"
   },
   {
    "duration": 473,
    "start_time": "2021-10-29T17:31:18.428Z"
   },
   {
    "duration": 244,
    "start_time": "2021-10-29T17:31:18.904Z"
   },
   {
    "duration": 15,
    "start_time": "2021-10-29T17:31:19.151Z"
   },
   {
    "duration": 27,
    "start_time": "2021-10-29T17:31:19.168Z"
   },
   {
    "duration": 13,
    "start_time": "2021-10-29T17:31:19.198Z"
   },
   {
    "duration": 10,
    "start_time": "2021-10-29T17:31:19.214Z"
   },
   {
    "duration": 62,
    "start_time": "2021-10-29T17:31:19.227Z"
   },
   {
    "duration": 1080,
    "start_time": "2021-11-02T21:06:52.608Z"
   },
   {
    "duration": 24,
    "start_time": "2021-11-02T21:06:53.692Z"
   },
   {
    "duration": 6,
    "start_time": "2021-11-02T21:06:53.718Z"
   },
   {
    "duration": 8,
    "start_time": "2021-11-02T21:06:53.726Z"
   },
   {
    "duration": 41,
    "start_time": "2021-11-02T21:06:53.735Z"
   },
   {
    "duration": 6,
    "start_time": "2021-11-02T21:06:53.777Z"
   },
   {
    "duration": 17,
    "start_time": "2021-11-02T21:06:53.785Z"
   },
   {
    "duration": 8,
    "start_time": "2021-11-02T21:06:53.804Z"
   },
   {
    "duration": 6,
    "start_time": "2021-11-02T21:06:53.814Z"
   },
   {
    "duration": 8,
    "start_time": "2021-11-02T21:06:53.822Z"
   },
   {
    "duration": 21,
    "start_time": "2021-11-02T21:06:53.832Z"
   },
   {
    "duration": 6,
    "start_time": "2021-11-02T21:06:53.892Z"
   },
   {
    "duration": 5,
    "start_time": "2021-11-02T21:06:53.900Z"
   },
   {
    "duration": 10,
    "start_time": "2021-11-02T21:06:53.906Z"
   },
   {
    "duration": 7,
    "start_time": "2021-11-02T21:06:53.917Z"
   },
   {
    "duration": 23,
    "start_time": "2021-11-02T21:06:53.925Z"
   },
   {
    "duration": 4,
    "start_time": "2021-11-02T21:06:53.949Z"
   },
   {
    "duration": 10,
    "start_time": "2021-11-02T21:06:53.992Z"
   },
   {
    "duration": 11,
    "start_time": "2021-11-02T21:06:54.004Z"
   },
   {
    "duration": 232,
    "start_time": "2021-11-02T21:06:54.016Z"
   },
   {
    "duration": 166,
    "start_time": "2021-11-02T21:06:54.249Z"
   },
   {
    "duration": 9,
    "start_time": "2021-11-02T21:06:54.416Z"
   },
   {
    "duration": 8,
    "start_time": "2021-11-02T21:06:54.429Z"
   },
   {
    "duration": 8,
    "start_time": "2021-11-02T21:06:54.439Z"
   },
   {
    "duration": 254,
    "start_time": "2021-11-02T21:06:54.449Z"
   },
   {
    "duration": 219,
    "start_time": "2021-11-02T21:06:54.705Z"
   },
   {
    "duration": 303,
    "start_time": "2021-11-02T21:06:54.926Z"
   },
   {
    "duration": 217,
    "start_time": "2021-11-02T21:06:55.231Z"
   },
   {
    "duration": 385,
    "start_time": "2021-11-02T21:06:55.450Z"
   },
   {
    "duration": 122,
    "start_time": "2021-11-02T21:06:55.836Z"
   },
   {
    "duration": 5,
    "start_time": "2021-11-02T21:06:55.960Z"
   },
   {
    "duration": 35,
    "start_time": "2021-11-02T21:06:55.967Z"
   },
   {
    "duration": 376,
    "start_time": "2021-11-02T21:06:56.004Z"
   },
   {
    "duration": 176,
    "start_time": "2021-11-02T21:06:56.381Z"
   },
   {
    "duration": 4,
    "start_time": "2021-11-02T21:06:56.559Z"
   },
   {
    "duration": 328,
    "start_time": "2021-11-02T21:06:56.564Z"
   },
   {
    "duration": 7,
    "start_time": "2021-11-02T21:06:56.893Z"
   },
   {
    "duration": 6,
    "start_time": "2021-11-02T21:06:56.902Z"
   },
   {
    "duration": 275,
    "start_time": "2021-11-02T21:06:56.910Z"
   },
   {
    "duration": 124,
    "start_time": "2021-11-02T21:06:57.186Z"
   },
   {
    "duration": 10,
    "start_time": "2021-11-02T21:06:57.312Z"
   },
   {
    "duration": 12,
    "start_time": "2021-11-02T21:06:57.324Z"
   },
   {
    "duration": 54,
    "start_time": "2021-11-02T21:06:57.338Z"
   },
   {
    "duration": 6,
    "start_time": "2021-11-02T21:06:57.394Z"
   },
   {
    "duration": 15,
    "start_time": "2021-11-02T21:06:57.402Z"
   }
  ],
  "kernelspec": {
   "display_name": "Python 3",
   "language": "python",
   "name": "python3"
  },
  "language_info": {
   "codemirror_mode": {
    "name": "ipython",
    "version": 3
   },
   "file_extension": ".py",
   "mimetype": "text/x-python",
   "name": "python",
   "nbconvert_exporter": "python",
   "pygments_lexer": "ipython3",
   "version": "3.8.8"
  },
  "toc": {
   "base_numbering": 1,
   "nav_menu": {},
   "number_sections": true,
   "sideBar": true,
   "skip_h1_title": true,
   "title_cell": "Table of Contents",
   "title_sidebar": "Contents",
   "toc_cell": true,
   "toc_position": {},
   "toc_section_display": true,
   "toc_window_display": true
  }
 },
 "nbformat": 4,
 "nbformat_minor": 2
}
