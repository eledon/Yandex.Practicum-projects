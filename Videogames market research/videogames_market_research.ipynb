{
 "cells": [
  {
   "cell_type": "markdown",
   "metadata": {},
   "source": [
    "# Videogames Market Research."
   ]
  },
  {
   "cell_type": "markdown",
   "metadata": {
    "toc": true
   },
   "source": [
    "<h1>Table of Contents<span class=\"tocSkip\"></span></h1>\n",
    "<div class=\"toc\"><ul class=\"toc-item\"><li><span><a href=\"#Project-objective-and-description:\" data-toc-modified-id=\"Project-objective-and-description:-1\"><span class=\"toc-item-num\">1&nbsp;&nbsp;</span>Project objective and description:</a></span></li><li><span><a href=\"#Datasource-description:\" data-toc-modified-id=\"Datasource-description:-2\"><span class=\"toc-item-num\">2&nbsp;&nbsp;</span>Datasource description:</a></span></li><li><span><a href=\"#Step-1---open-file-and-study-general-information\" data-toc-modified-id=\"Step-1---open-file-and-study-general-information-3\"><span class=\"toc-item-num\">3&nbsp;&nbsp;</span>Step 1 - open file and study general information</a></span></li><li><span><a href=\"#Data-preparation\" data-toc-modified-id=\"Data-preparation-4\"><span class=\"toc-item-num\">4&nbsp;&nbsp;</span>Data preparation</a></span></li><li><span><a href=\"#Analyze-the-data.\" data-toc-modified-id=\"Analyze-the-data.-5\"><span class=\"toc-item-num\">5&nbsp;&nbsp;</span>Analyze the data.</a></span><ul class=\"toc-item\"><li><span><a href=\"#Number-of-games-released-in-different-years.\" data-toc-modified-id=\"Number-of-games-released-in-different-years.-5.1\"><span class=\"toc-item-num\">5.1&nbsp;&nbsp;</span>Number of games released in different years.</a></span></li><li><span><a href=\"#Video-game-platform-lifespan.\" data-toc-modified-id=\"Video-game-platform-lifespan.-5.2\"><span class=\"toc-item-num\">5.2&nbsp;&nbsp;</span>Video game platform lifespan.</a></span></li><li><span><a href=\"#Total-sales-variations-from-platform-to-platform.\" data-toc-modified-id=\"Total-sales-variations-from-platform-to-platform.-5.3\"><span class=\"toc-item-num\">5.3&nbsp;&nbsp;</span>Total sales variations from platform to platform.</a></span></li><li><span><a href=\"#Which-platforms-are-growing-in-sales?-Which-ones-are-growing-or-shrinking?-Determine-several-potentially-profitable-platforms.\" data-toc-modified-id=\"Which-platforms-are-growing-in-sales?-Which-ones-are-growing-or-shrinking?-Determine-several-potentially-profitable-platforms.-5.4\"><span class=\"toc-item-num\">5.4&nbsp;&nbsp;</span>Which platforms are growing in sales? Which ones are growing or shrinking? Determine several potentially profitable platforms.</a></span></li><li><span><a href=\"#How-user-and-professional-reviews-affect-sales.\" data-toc-modified-id=\"How-user-and-professional-reviews-affect-sales.-5.5\"><span class=\"toc-item-num\">5.5&nbsp;&nbsp;</span>How user and professional reviews affect sales.</a></span></li><li><span><a href=\"#General-distribution-of-games-by-genre.-The-most-profitable-genres.\" data-toc-modified-id=\"General-distribution-of-games-by-genre.-The-most-profitable-genres.-5.6\"><span class=\"toc-item-num\">5.6&nbsp;&nbsp;</span>General distribution of games by genre. The most profitable genres.</a></span></li></ul></li><li><span><a href=\"#Create-a-user-profile-for-each-region.\" data-toc-modified-id=\"Create-a-user-profile-for-each-region.-6\"><span class=\"toc-item-num\">6&nbsp;&nbsp;</span>Create a user profile for each region.</a></span><ul class=\"toc-item\"><li><span><a href=\"#Top-5-most-popular-platforms-in-each-region.\" data-toc-modified-id=\"Top-5-most-popular-platforms-in-each-region.-6.1\"><span class=\"toc-item-num\">6.1&nbsp;&nbsp;</span>Top-5 most popular platforms in each region.</a></span></li><li><span><a href=\"#Top-genres.\" data-toc-modified-id=\"Top-genres.-6.2\"><span class=\"toc-item-num\">6.2&nbsp;&nbsp;</span>Top genres.</a></span></li><li><span><a href=\"#ESRB-influence-on-sales-in-individual-regions.\" data-toc-modified-id=\"ESRB-influence-on-sales-in-individual-regions.-6.3\"><span class=\"toc-item-num\">6.3&nbsp;&nbsp;</span>ESRB influence on sales in individual regions.</a></span></li></ul></li><li><span><a href=\"#Hypotheses-testing.\" data-toc-modified-id=\"Hypotheses-testing.-7\"><span class=\"toc-item-num\">7&nbsp;&nbsp;</span>Hypotheses testing.</a></span><ul class=\"toc-item\"><li><span><a href=\"#Test-1:-Average-user-ratings-of-the-Xbox-One-and-PC-platforms-are-the-same.\" data-toc-modified-id=\"Test-1:-Average-user-ratings-of-the-Xbox-One-and-PC-platforms-are-the-same.-7.1\"><span class=\"toc-item-num\">7.1&nbsp;&nbsp;</span>Test 1: Average user ratings of the Xbox One and PC platforms are the same.</a></span></li><li><span><a href=\"#Test-2:-Average-user-ratings-of-the-Action-and-Sports-genres-are-different.\" data-toc-modified-id=\"Test-2:-Average-user-ratings-of-the-Action-and-Sports-genres-are-different.-7.2\"><span class=\"toc-item-num\">7.2&nbsp;&nbsp;</span>Test 2: Average user ratings of the Action and Sports genres are different.</a></span></li></ul></li><li><span><a href=\"#General-conclusion.\" data-toc-modified-id=\"General-conclusion.-8\"><span class=\"toc-item-num\">8&nbsp;&nbsp;</span>General conclusion.</a></span></li></ul></div>"
   ]
  },
  {
   "cell_type": "markdown",
   "metadata": {},
   "source": [
    "## Project objective and description:"
   ]
  },
  {
   "cell_type": "markdown",
   "metadata": {},
   "source": [
    "Online store sells video games worldwide. User and expert reviews, genres, platforms, and historical data on game sales are available from open sources. It's needed to identify patterns that determine whether a game succeeds or not. This will allow the store managers to spot potential big winners and plan advertising campaigns.\n",
    "\n",
    "There is data going back to 2016. Let’s imagine that it’s December 2016 and we’re planning a campaign for 2017. The dataset contains the abbreviation ESRB. The Entertainment Software Rating Board evaluates a game's content and assigns an age rating such as Teen or Mature.\n",
    "\n",
    "The objective of this project is to:\n",
    "Identify patterns that determine whether a game succeeds or not.\n",
    "Spot potential big winners and plan advertising campaigns."
   ]
  },
  {
   "cell_type": "markdown",
   "metadata": {},
   "source": [
    "## Datasource description:"
   ]
  },
  {
   "cell_type": "markdown",
   "metadata": {},
   "source": [
    "The dataset contains the following fields:\n",
    "\n",
    "Name\n",
    "Platform\n",
    "Year_of_Release\n",
    "Genre\n",
    "NA_sales (North American sales in USD million)\n",
    "EU_sales (sales in Europe in USD million)\n",
    "JP_sales (sales in Japan in USD million)\n",
    "Other_sales (sales in other countries in USD million)\n",
    "Critic_Score (maximum of 100)\n",
    "User_Score (maximum of 10)\n",
    "Rating (ESRB) Data for 2016 may be incomplete."
   ]
  },
  {
   "cell_type": "markdown",
   "metadata": {},
   "source": [
    "## Step 1 - open file and study general information"
   ]
  },
  {
   "cell_type": "markdown",
   "metadata": {},
   "source": [
    "To get started, let's import the libraries and read first 5 lines from the file."
   ]
  },
  {
   "cell_type": "code",
   "execution_count": 1,
   "metadata": {},
   "outputs": [],
   "source": [
    "import warnings # disabling Anaconda warnings\n",
    "warnings.simplefilter('ignore')\n",
    "import pandas as pd\n",
    "import numpy as np\n",
    "import matplotlib.pyplot as plt\n",
    "%matplotlib inline\n",
    "import seaborn as sns\n",
    "from pylab import rcParams\n",
    "from functools import partialmethod\n",
    "import pandas as pd\n",
    "pd.DataFrame.query = partialmethod(pd.DataFrame.query, engine=\"python\")"
   ]
  },
  {
   "cell_type": "code",
   "execution_count": 3,
   "metadata": {},
   "outputs": [
    {
     "data": {
      "text/html": [
       "<div>\n",
       "<style scoped>\n",
       "    .dataframe tbody tr th:only-of-type {\n",
       "        vertical-align: middle;\n",
       "    }\n",
       "\n",
       "    .dataframe tbody tr th {\n",
       "        vertical-align: top;\n",
       "    }\n",
       "\n",
       "    .dataframe thead th {\n",
       "        text-align: right;\n",
       "    }\n",
       "</style>\n",
       "<table border=\"1\" class=\"dataframe\">\n",
       "  <thead>\n",
       "    <tr style=\"text-align: right;\">\n",
       "      <th></th>\n",
       "      <th>Name</th>\n",
       "      <th>Platform</th>\n",
       "      <th>Year_of_Release</th>\n",
       "      <th>Genre</th>\n",
       "      <th>NA_sales</th>\n",
       "      <th>EU_sales</th>\n",
       "      <th>JP_sales</th>\n",
       "      <th>Other_sales</th>\n",
       "      <th>Critic_Score</th>\n",
       "      <th>User_Score</th>\n",
       "      <th>Rating</th>\n",
       "    </tr>\n",
       "  </thead>\n",
       "  <tbody>\n",
       "    <tr>\n",
       "      <th>0</th>\n",
       "      <td>Wii Sports</td>\n",
       "      <td>Wii</td>\n",
       "      <td>2006.0</td>\n",
       "      <td>Sports</td>\n",
       "      <td>41.36</td>\n",
       "      <td>28.96</td>\n",
       "      <td>3.77</td>\n",
       "      <td>8.45</td>\n",
       "      <td>76.0</td>\n",
       "      <td>8</td>\n",
       "      <td>E</td>\n",
       "    </tr>\n",
       "    <tr>\n",
       "      <th>1</th>\n",
       "      <td>Super Mario Bros.</td>\n",
       "      <td>NES</td>\n",
       "      <td>1985.0</td>\n",
       "      <td>Platform</td>\n",
       "      <td>29.08</td>\n",
       "      <td>3.58</td>\n",
       "      <td>6.81</td>\n",
       "      <td>0.77</td>\n",
       "      <td>NaN</td>\n",
       "      <td>NaN</td>\n",
       "      <td>NaN</td>\n",
       "    </tr>\n",
       "    <tr>\n",
       "      <th>2</th>\n",
       "      <td>Mario Kart Wii</td>\n",
       "      <td>Wii</td>\n",
       "      <td>2008.0</td>\n",
       "      <td>Racing</td>\n",
       "      <td>15.68</td>\n",
       "      <td>12.76</td>\n",
       "      <td>3.79</td>\n",
       "      <td>3.29</td>\n",
       "      <td>82.0</td>\n",
       "      <td>8.3</td>\n",
       "      <td>E</td>\n",
       "    </tr>\n",
       "    <tr>\n",
       "      <th>3</th>\n",
       "      <td>Wii Sports Resort</td>\n",
       "      <td>Wii</td>\n",
       "      <td>2009.0</td>\n",
       "      <td>Sports</td>\n",
       "      <td>15.61</td>\n",
       "      <td>10.93</td>\n",
       "      <td>3.28</td>\n",
       "      <td>2.95</td>\n",
       "      <td>80.0</td>\n",
       "      <td>8</td>\n",
       "      <td>E</td>\n",
       "    </tr>\n",
       "    <tr>\n",
       "      <th>4</th>\n",
       "      <td>Pokemon Red/Pokemon Blue</td>\n",
       "      <td>GB</td>\n",
       "      <td>1996.0</td>\n",
       "      <td>Role-Playing</td>\n",
       "      <td>11.27</td>\n",
       "      <td>8.89</td>\n",
       "      <td>10.22</td>\n",
       "      <td>1.00</td>\n",
       "      <td>NaN</td>\n",
       "      <td>NaN</td>\n",
       "      <td>NaN</td>\n",
       "    </tr>\n",
       "  </tbody>\n",
       "</table>\n",
       "</div>"
      ],
      "text/plain": [
       "                       Name Platform  Year_of_Release         Genre  NA_sales  \\\n",
       "0                Wii Sports      Wii           2006.0        Sports     41.36   \n",
       "1         Super Mario Bros.      NES           1985.0      Platform     29.08   \n",
       "2            Mario Kart Wii      Wii           2008.0        Racing     15.68   \n",
       "3         Wii Sports Resort      Wii           2009.0        Sports     15.61   \n",
       "4  Pokemon Red/Pokemon Blue       GB           1996.0  Role-Playing     11.27   \n",
       "\n",
       "   EU_sales  JP_sales  Other_sales  Critic_Score User_Score Rating  \n",
       "0     28.96      3.77         8.45          76.0          8      E  \n",
       "1      3.58      6.81         0.77           NaN        NaN    NaN  \n",
       "2     12.76      3.79         3.29          82.0        8.3      E  \n",
       "3     10.93      3.28         2.95          80.0          8      E  \n",
       "4      8.89     10.22         1.00           NaN        NaN    NaN  "
      ]
     },
     "execution_count": 3,
     "metadata": {},
     "output_type": "execute_result"
    }
   ],
   "source": [
    "df = pd.read_csv('games.csv') # <reading data and saving to df>') \n",
    "df.head()"
   ]
  },
  {
   "cell_type": "markdown",
   "metadata": {},
   "source": [
    "We can see NaN values in Critic_score, User_score, Rating columns. Let's study the general information:"
   ]
  },
  {
   "cell_type": "code",
   "execution_count": 3,
   "metadata": {},
   "outputs": [
    {
     "name": "stdout",
     "output_type": "stream",
     "text": [
      "<class 'pandas.core.frame.DataFrame'>\n",
      "RangeIndex: 16715 entries, 0 to 16714\n",
      "Data columns (total 11 columns):\n",
      " #   Column           Non-Null Count  Dtype  \n",
      "---  ------           --------------  -----  \n",
      " 0   Name             16713 non-null  object \n",
      " 1   Platform         16715 non-null  object \n",
      " 2   Year_of_Release  16446 non-null  float64\n",
      " 3   Genre            16713 non-null  object \n",
      " 4   NA_sales         16715 non-null  float64\n",
      " 5   EU_sales         16715 non-null  float64\n",
      " 6   JP_sales         16715 non-null  float64\n",
      " 7   Other_sales      16715 non-null  float64\n",
      " 8   Critic_Score     8137 non-null   float64\n",
      " 9   User_Score       10014 non-null  object \n",
      " 10  Rating           9949 non-null   object \n",
      "dtypes: float64(6), object(5)\n",
      "memory usage: 1.4+ MB\n"
     ]
    }
   ],
   "source": [
    "df.info()"
   ]
  },
  {
   "cell_type": "markdown",
   "metadata": {},
   "source": [
    "## Data preparation"
   ]
  },
  {
   "cell_type": "markdown",
   "metadata": {},
   "source": [
    "Let's count the number of NaN values: "
   ]
  },
  {
   "cell_type": "code",
   "execution_count": 4,
   "metadata": {},
   "outputs": [
    {
     "data": {
      "text/plain": [
       "Name                  2\n",
       "Platform              0\n",
       "Year_of_Release     269\n",
       "Genre                 2\n",
       "NA_sales              0\n",
       "EU_sales              0\n",
       "JP_sales              0\n",
       "Other_sales           0\n",
       "Critic_Score       8578\n",
       "User_Score         6701\n",
       "Rating             6766\n",
       "dtype: int64"
      ]
     },
     "execution_count": 4,
     "metadata": {},
     "output_type": "execute_result"
    }
   ],
   "source": [
    "df.isna().sum()"
   ]
  },
  {
   "cell_type": "markdown",
   "metadata": {},
   "source": [
    "There are many Nan values in Year_of_Release, Critic_Score, User_score and Rating columns. Let's have a look at unique values in these columns:"
   ]
  },
  {
   "cell_type": "code",
   "execution_count": 5,
   "metadata": {},
   "outputs": [
    {
     "data": {
      "text/plain": [
       "array(['8', nan, '8.3', '8.5', '6.6', '8.4', '8.6', '7.7', '6.3', '7.4',\n",
       "       '8.2', '9', '7.9', '8.1', '8.7', '7.1', '3.4', '5.3', '4.8', '3.2',\n",
       "       '8.9', '6.4', '7.8', '7.5', '2.6', '7.2', '9.2', '7', '7.3', '4.3',\n",
       "       '7.6', '5.7', '5', '9.1', '6.5', 'tbd', '8.8', '6.9', '9.4', '6.8',\n",
       "       '6.1', '6.7', '5.4', '4', '4.9', '4.5', '9.3', '6.2', '4.2', '6',\n",
       "       '3.7', '4.1', '5.8', '5.6', '5.5', '4.4', '4.6', '5.9', '3.9',\n",
       "       '3.1', '2.9', '5.2', '3.3', '4.7', '5.1', '3.5', '2.5', '1.9', '3',\n",
       "       '2.7', '2.2', '2', '9.5', '2.1', '3.6', '2.8', '1.8', '3.8', '0',\n",
       "       '1.6', '9.6', '2.4', '1.7', '1.1', '0.3', '1.5', '0.7', '1.2',\n",
       "       '2.3', '0.5', '1.3', '0.2', '0.6', '1.4', '0.9', '1', '9.7'],\n",
       "      dtype=object)"
      ]
     },
     "execution_count": 5,
     "metadata": {},
     "output_type": "execute_result"
    }
   ],
   "source": [
    "df['User_Score'].unique()"
   ]
  },
  {
   "cell_type": "markdown",
   "metadata": {},
   "source": [
    "Here we can see 'tbd' abbreviation. It stands for 'to be determined' when speaking about game rating."
   ]
  },
  {
   "cell_type": "code",
   "execution_count": 6,
   "metadata": {},
   "outputs": [
    {
     "data": {
      "text/plain": [
       "array([76., nan, 82., 80., 89., 58., 87., 91., 61., 97., 95., 77., 88.,\n",
       "       83., 94., 93., 85., 86., 98., 96., 90., 84., 73., 74., 78., 92.,\n",
       "       71., 72., 68., 62., 49., 67., 81., 66., 56., 79., 70., 59., 64.,\n",
       "       75., 60., 63., 69., 50., 25., 42., 44., 55., 48., 57., 29., 47.,\n",
       "       65., 54., 20., 53., 37., 38., 33., 52., 30., 32., 43., 45., 51.,\n",
       "       40., 46., 39., 34., 35., 41., 36., 28., 31., 27., 26., 19., 23.,\n",
       "       24., 21., 17., 22., 13.])"
      ]
     },
     "execution_count": 6,
     "metadata": {},
     "output_type": "execute_result"
    }
   ],
   "source": [
    "df['Critic_Score'].unique()"
   ]
  },
  {
   "cell_type": "code",
   "execution_count": 7,
   "metadata": {},
   "outputs": [
    {
     "data": {
      "text/plain": [
       "array(['E', nan, 'M', 'T', 'E10+', 'K-A', 'AO', 'EC', 'RP'], dtype=object)"
      ]
     },
     "execution_count": 7,
     "metadata": {},
     "output_type": "execute_result"
    }
   ],
   "source": [
    "df['Rating'].unique()"
   ]
  },
  {
   "cell_type": "markdown",
   "metadata": {},
   "source": [
    "There are only 2 NaN values in 'genre' column, we can drop these rows without affecting our analysis"
   ]
  },
  {
   "cell_type": "code",
   "execution_count": 8,
   "metadata": {},
   "outputs": [
    {
     "data": {
      "text/plain": [
       "0"
      ]
     },
     "execution_count": 8,
     "metadata": {},
     "output_type": "execute_result"
    }
   ],
   "source": [
    "df.dropna(subset=['Genre'], inplace = True) # убираем пропуски \n",
    "df['Genre'].isna().sum()"
   ]
  },
  {
   "cell_type": "code",
   "execution_count": 9,
   "metadata": {},
   "outputs": [
    {
     "data": {
      "text/plain": [
       "array(['E', nan, 'M', 'T', 'E10+', 'K-A', 'AO', 'EC', 'RP'], dtype=object)"
      ]
     },
     "execution_count": 9,
     "metadata": {},
     "output_type": "execute_result"
    }
   ],
   "source": [
    "df['Rating'].unique()"
   ]
  },
  {
   "cell_type": "markdown",
   "metadata": {},
   "source": [
    "In all other cases it's better to replace NaN values with 101:"
   ]
  },
  {
   "cell_type": "code",
   "execution_count": 10,
   "metadata": {},
   "outputs": [
    {
     "data": {
      "text/plain": [
       "0"
      ]
     },
     "execution_count": 10,
     "metadata": {},
     "output_type": "execute_result"
    }
   ],
   "source": [
    "df['Rating'] =  df['Rating'].fillna(101)\n",
    "df['Rating'].isna().sum()"
   ]
  },
  {
   "cell_type": "code",
   "execution_count": 11,
   "metadata": {},
   "outputs": [
    {
     "data": {
      "text/plain": [
       "0"
      ]
     },
     "execution_count": 11,
     "metadata": {},
     "output_type": "execute_result"
    }
   ],
   "source": [
    "df['Critic_Score'] =  df['Critic_Score'].fillna(101)\n",
    "df['Critic_Score'].isna().sum()"
   ]
  },
  {
   "cell_type": "code",
   "execution_count": 12,
   "metadata": {},
   "outputs": [
    {
     "data": {
      "text/plain": [
       "0"
      ]
     },
     "execution_count": 12,
     "metadata": {},
     "output_type": "execute_result"
    }
   ],
   "source": [
    "df['User_Score'] =  df['User_Score'].fillna(101)\n",
    "df['User_Score'].isna().sum()"
   ]
  },
  {
   "cell_type": "markdown",
   "metadata": {},
   "source": [
    "Next thing we should do is to convert column names to lowercase."
   ]
  },
  {
   "cell_type": "code",
   "execution_count": 13,
   "metadata": {},
   "outputs": [
    {
     "data": {
      "text/html": [
       "<div>\n",
       "<style scoped>\n",
       "    .dataframe tbody tr th:only-of-type {\n",
       "        vertical-align: middle;\n",
       "    }\n",
       "\n",
       "    .dataframe tbody tr th {\n",
       "        vertical-align: top;\n",
       "    }\n",
       "\n",
       "    .dataframe thead th {\n",
       "        text-align: right;\n",
       "    }\n",
       "</style>\n",
       "<table border=\"1\" class=\"dataframe\">\n",
       "  <thead>\n",
       "    <tr style=\"text-align: right;\">\n",
       "      <th></th>\n",
       "      <th>name</th>\n",
       "      <th>platform</th>\n",
       "      <th>year_of_release</th>\n",
       "      <th>genre</th>\n",
       "      <th>na_sales</th>\n",
       "      <th>eu_sales</th>\n",
       "      <th>jp_sales</th>\n",
       "      <th>other_sales</th>\n",
       "      <th>critic_score</th>\n",
       "      <th>user_score</th>\n",
       "      <th>rating</th>\n",
       "    </tr>\n",
       "  </thead>\n",
       "  <tbody>\n",
       "    <tr>\n",
       "      <th>0</th>\n",
       "      <td>Wii Sports</td>\n",
       "      <td>Wii</td>\n",
       "      <td>2006.0</td>\n",
       "      <td>Sports</td>\n",
       "      <td>41.36</td>\n",
       "      <td>28.96</td>\n",
       "      <td>3.77</td>\n",
       "      <td>8.45</td>\n",
       "      <td>76.0</td>\n",
       "      <td>8</td>\n",
       "      <td>E</td>\n",
       "    </tr>\n",
       "    <tr>\n",
       "      <th>1</th>\n",
       "      <td>Super Mario Bros.</td>\n",
       "      <td>NES</td>\n",
       "      <td>1985.0</td>\n",
       "      <td>Platform</td>\n",
       "      <td>29.08</td>\n",
       "      <td>3.58</td>\n",
       "      <td>6.81</td>\n",
       "      <td>0.77</td>\n",
       "      <td>101.0</td>\n",
       "      <td>101</td>\n",
       "      <td>101</td>\n",
       "    </tr>\n",
       "    <tr>\n",
       "      <th>2</th>\n",
       "      <td>Mario Kart Wii</td>\n",
       "      <td>Wii</td>\n",
       "      <td>2008.0</td>\n",
       "      <td>Racing</td>\n",
       "      <td>15.68</td>\n",
       "      <td>12.76</td>\n",
       "      <td>3.79</td>\n",
       "      <td>3.29</td>\n",
       "      <td>82.0</td>\n",
       "      <td>8.3</td>\n",
       "      <td>E</td>\n",
       "    </tr>\n",
       "    <tr>\n",
       "      <th>3</th>\n",
       "      <td>Wii Sports Resort</td>\n",
       "      <td>Wii</td>\n",
       "      <td>2009.0</td>\n",
       "      <td>Sports</td>\n",
       "      <td>15.61</td>\n",
       "      <td>10.93</td>\n",
       "      <td>3.28</td>\n",
       "      <td>2.95</td>\n",
       "      <td>80.0</td>\n",
       "      <td>8</td>\n",
       "      <td>E</td>\n",
       "    </tr>\n",
       "    <tr>\n",
       "      <th>4</th>\n",
       "      <td>Pokemon Red/Pokemon Blue</td>\n",
       "      <td>GB</td>\n",
       "      <td>1996.0</td>\n",
       "      <td>Role-Playing</td>\n",
       "      <td>11.27</td>\n",
       "      <td>8.89</td>\n",
       "      <td>10.22</td>\n",
       "      <td>1.00</td>\n",
       "      <td>101.0</td>\n",
       "      <td>101</td>\n",
       "      <td>101</td>\n",
       "    </tr>\n",
       "  </tbody>\n",
       "</table>\n",
       "</div>"
      ],
      "text/plain": [
       "                       name platform  year_of_release         genre  na_sales  \\\n",
       "0                Wii Sports      Wii           2006.0        Sports     41.36   \n",
       "1         Super Mario Bros.      NES           1985.0      Platform     29.08   \n",
       "2            Mario Kart Wii      Wii           2008.0        Racing     15.68   \n",
       "3         Wii Sports Resort      Wii           2009.0        Sports     15.61   \n",
       "4  Pokemon Red/Pokemon Blue       GB           1996.0  Role-Playing     11.27   \n",
       "\n",
       "   eu_sales  jp_sales  other_sales  critic_score user_score rating  \n",
       "0     28.96      3.77         8.45          76.0          8      E  \n",
       "1      3.58      6.81         0.77         101.0        101    101  \n",
       "2     12.76      3.79         3.29          82.0        8.3      E  \n",
       "3     10.93      3.28         2.95          80.0          8      E  \n",
       "4      8.89     10.22         1.00         101.0        101    101  "
      ]
     },
     "execution_count": 13,
     "metadata": {},
     "output_type": "execute_result"
    }
   ],
   "source": [
    "df.columns = map(str.lower, df.columns)\n",
    "df.head()"
   ]
  },
  {
   "cell_type": "markdown",
   "metadata": {},
   "source": [
    "Now it's time to check the dataset for duplicates: "
   ]
  },
  {
   "cell_type": "code",
   "execution_count": 14,
   "metadata": {},
   "outputs": [
    {
     "name": "stdout",
     "output_type": "stream",
     "text": [
      "<class 'pandas.core.frame.DataFrame'>\n",
      "Int64Index: 16713 entries, 0 to 16714\n",
      "Data columns (total 11 columns):\n",
      " #   Column           Non-Null Count  Dtype  \n",
      "---  ------           --------------  -----  \n",
      " 0   name             16713 non-null  object \n",
      " 1   platform         16713 non-null  object \n",
      " 2   year_of_release  16444 non-null  float64\n",
      " 3   genre            16713 non-null  object \n",
      " 4   na_sales         16713 non-null  float64\n",
      " 5   eu_sales         16713 non-null  float64\n",
      " 6   jp_sales         16713 non-null  float64\n",
      " 7   other_sales      16713 non-null  float64\n",
      " 8   critic_score     16713 non-null  float64\n",
      " 9   user_score       16713 non-null  object \n",
      " 10  rating           16713 non-null  object \n",
      "dtypes: float64(6), object(5)\n",
      "memory usage: 1.5+ MB\n"
     ]
    }
   ],
   "source": [
    "df.duplicated().sum()\n",
    "df.info()"
   ]
  },
  {
   "cell_type": "markdown",
   "metadata": {},
   "source": [
    "Let's calculate total sales:"
   ]
  },
  {
   "cell_type": "code",
   "execution_count": 15,
   "metadata": {},
   "outputs": [],
   "source": [
    "df['year_of_release'] = df['year_of_release'].astype('Int64')"
   ]
  },
  {
   "cell_type": "code",
   "execution_count": 16,
   "metadata": {},
   "outputs": [
    {
     "data": {
      "text/html": [
       "<div>\n",
       "<style scoped>\n",
       "    .dataframe tbody tr th:only-of-type {\n",
       "        vertical-align: middle;\n",
       "    }\n",
       "\n",
       "    .dataframe tbody tr th {\n",
       "        vertical-align: top;\n",
       "    }\n",
       "\n",
       "    .dataframe thead th {\n",
       "        text-align: right;\n",
       "    }\n",
       "</style>\n",
       "<table border=\"1\" class=\"dataframe\">\n",
       "  <thead>\n",
       "    <tr style=\"text-align: right;\">\n",
       "      <th></th>\n",
       "      <th>name</th>\n",
       "      <th>platform</th>\n",
       "      <th>year_of_release</th>\n",
       "      <th>genre</th>\n",
       "      <th>na_sales</th>\n",
       "      <th>eu_sales</th>\n",
       "      <th>jp_sales</th>\n",
       "      <th>other_sales</th>\n",
       "      <th>critic_score</th>\n",
       "      <th>user_score</th>\n",
       "      <th>rating</th>\n",
       "      <th>total_sales</th>\n",
       "    </tr>\n",
       "  </thead>\n",
       "  <tbody>\n",
       "    <tr>\n",
       "      <th>0</th>\n",
       "      <td>Wii Sports</td>\n",
       "      <td>Wii</td>\n",
       "      <td>2006</td>\n",
       "      <td>Sports</td>\n",
       "      <td>41.36</td>\n",
       "      <td>28.96</td>\n",
       "      <td>3.77</td>\n",
       "      <td>8.45</td>\n",
       "      <td>76.0</td>\n",
       "      <td>8</td>\n",
       "      <td>E</td>\n",
       "      <td>82.54</td>\n",
       "    </tr>\n",
       "    <tr>\n",
       "      <th>1</th>\n",
       "      <td>Super Mario Bros.</td>\n",
       "      <td>NES</td>\n",
       "      <td>1985</td>\n",
       "      <td>Platform</td>\n",
       "      <td>29.08</td>\n",
       "      <td>3.58</td>\n",
       "      <td>6.81</td>\n",
       "      <td>0.77</td>\n",
       "      <td>101.0</td>\n",
       "      <td>101</td>\n",
       "      <td>101</td>\n",
       "      <td>40.24</td>\n",
       "    </tr>\n",
       "    <tr>\n",
       "      <th>2</th>\n",
       "      <td>Mario Kart Wii</td>\n",
       "      <td>Wii</td>\n",
       "      <td>2008</td>\n",
       "      <td>Racing</td>\n",
       "      <td>15.68</td>\n",
       "      <td>12.76</td>\n",
       "      <td>3.79</td>\n",
       "      <td>3.29</td>\n",
       "      <td>82.0</td>\n",
       "      <td>8.3</td>\n",
       "      <td>E</td>\n",
       "      <td>35.52</td>\n",
       "    </tr>\n",
       "    <tr>\n",
       "      <th>3</th>\n",
       "      <td>Wii Sports Resort</td>\n",
       "      <td>Wii</td>\n",
       "      <td>2009</td>\n",
       "      <td>Sports</td>\n",
       "      <td>15.61</td>\n",
       "      <td>10.93</td>\n",
       "      <td>3.28</td>\n",
       "      <td>2.95</td>\n",
       "      <td>80.0</td>\n",
       "      <td>8</td>\n",
       "      <td>E</td>\n",
       "      <td>32.77</td>\n",
       "    </tr>\n",
       "    <tr>\n",
       "      <th>4</th>\n",
       "      <td>Pokemon Red/Pokemon Blue</td>\n",
       "      <td>GB</td>\n",
       "      <td>1996</td>\n",
       "      <td>Role-Playing</td>\n",
       "      <td>11.27</td>\n",
       "      <td>8.89</td>\n",
       "      <td>10.22</td>\n",
       "      <td>1.00</td>\n",
       "      <td>101.0</td>\n",
       "      <td>101</td>\n",
       "      <td>101</td>\n",
       "      <td>31.38</td>\n",
       "    </tr>\n",
       "  </tbody>\n",
       "</table>\n",
       "</div>"
      ],
      "text/plain": [
       "                       name platform  year_of_release         genre  na_sales  \\\n",
       "0                Wii Sports      Wii             2006        Sports     41.36   \n",
       "1         Super Mario Bros.      NES             1985      Platform     29.08   \n",
       "2            Mario Kart Wii      Wii             2008        Racing     15.68   \n",
       "3         Wii Sports Resort      Wii             2009        Sports     15.61   \n",
       "4  Pokemon Red/Pokemon Blue       GB             1996  Role-Playing     11.27   \n",
       "\n",
       "   eu_sales  jp_sales  other_sales  critic_score user_score rating  \\\n",
       "0     28.96      3.77         8.45          76.0          8      E   \n",
       "1      3.58      6.81         0.77         101.0        101    101   \n",
       "2     12.76      3.79         3.29          82.0        8.3      E   \n",
       "3     10.93      3.28         2.95          80.0          8      E   \n",
       "4      8.89     10.22         1.00         101.0        101    101   \n",
       "\n",
       "   total_sales  \n",
       "0        82.54  \n",
       "1        40.24  \n",
       "2        35.52  \n",
       "3        32.77  \n",
       "4        31.38  "
      ]
     },
     "execution_count": 16,
     "metadata": {},
     "output_type": "execute_result"
    }
   ],
   "source": [
    "df['total_sales'] = df['na_sales']+df['eu_sales']+df['jp_sales']+df['other_sales']\n",
    "df.head()"
   ]
  },
  {
   "cell_type": "markdown",
   "metadata": {},
   "source": [
    "## Analyze the data."
   ]
  },
  {
   "cell_type": "markdown",
   "metadata": {},
   "source": [
    "### Number of games released in different years."
   ]
  },
  {
   "cell_type": "markdown",
   "metadata": {},
   "source": [
    "The histogram below will help us to visualize the data."
   ]
  },
  {
   "cell_type": "code",
   "execution_count": 17,
   "metadata": {},
   "outputs": [
    {
     "data": {
      "image/png": "[encoded data removed]",
      "text/plain": [
       "<Figure size 720x360 with 1 Axes>"
      ]
     },
     "metadata": {
      "needs_background": "light"
     },
     "output_type": "display_data"
    }
   ],
   "source": [
    "_= df['year_of_release'].hist(bins=100, figsize=(10,5), ec='black') # проиллюстрируем также гистограммой\n",
    "plt.title('Кол-во выпущенных игр в разные годы ')\n",
    "plt.ylabel('кол-во игр')\n",
    "plt.show()"
   ]
  },
  {
   "cell_type": "markdown",
   "metadata": {},
   "source": [
    "As we can see, an active growth of this industry started in 1995 and continued up to 2007-2008. The decrease in the number of games released after year 2008 can be attributed to the rise of mobile gaming from 2008 onwards"
   ]
  },
  {
   "cell_type": "code",
   "execution_count": 18,
   "metadata": {},
   "outputs": [],
   "source": [
    "games_by_years = df.groupby(['platform'], observed=True)['name'].count()\n",
    "pd.set_option('display.max_rows', None)#настроим таблицу, чтобы отображались все колонки\n",
    "games_by_years = games_by_years.sort_values(ascending=False)"
   ]
  },
  {
   "cell_type": "code",
   "execution_count": 19,
   "metadata": {},
   "outputs": [
    {
     "data": {
      "image/png": "[encoded data removed]",
      "text/plain": [
       "<Figure size 1080x432 with 1 Axes>"
      ]
     },
     "metadata": {
      "needs_background": "light"
     },
     "output_type": "display_data"
    }
   ],
   "source": [
    "_= games_by_years.plot(y='count', kind='bar', ec='black', fontsize=12, rot=90, figsize=(15,6))"
   ]
  },
  {
   "cell_type": "markdown",
   "metadata": {},
   "source": [
    "Top platforms by number of games released in the period 1985-2015 were  platforms PS2 и DS."
   ]
  },
  {
   "cell_type": "markdown",
   "metadata": {},
   "source": [
    "### Video game platform lifespan."
   ]
  },
  {
   "cell_type": "markdown",
   "metadata": {},
   "source": [
    "Let's find out what platforms had greatest total sales. For this purpose we should droup data by platforms and calculate total sales for the period under consideration. Then we'll sort platforms by total sales."
   ]
  },
  {
   "cell_type": "code",
   "execution_count": 20,
   "metadata": {},
   "outputs": [
    {
     "data": {
      "text/html": [
       "<div>\n",
       "<style scoped>\n",
       "    .dataframe tbody tr th:only-of-type {\n",
       "        vertical-align: middle;\n",
       "    }\n",
       "\n",
       "    .dataframe tbody tr th {\n",
       "        vertical-align: top;\n",
       "    }\n",
       "\n",
       "    .dataframe thead th {\n",
       "        text-align: right;\n",
       "    }\n",
       "</style>\n",
       "<table border=\"1\" class=\"dataframe\">\n",
       "  <thead>\n",
       "    <tr style=\"text-align: right;\">\n",
       "      <th></th>\n",
       "      <th>platform</th>\n",
       "      <th>total_sales</th>\n",
       "    </tr>\n",
       "  </thead>\n",
       "  <tbody>\n",
       "    <tr>\n",
       "      <th>16</th>\n",
       "      <td>PS2</td>\n",
       "      <td>1255.77</td>\n",
       "    </tr>\n",
       "    <tr>\n",
       "      <th>28</th>\n",
       "      <td>X360</td>\n",
       "      <td>971.42</td>\n",
       "    </tr>\n",
       "    <tr>\n",
       "      <th>17</th>\n",
       "      <td>PS3</td>\n",
       "      <td>939.65</td>\n",
       "    </tr>\n",
       "    <tr>\n",
       "      <th>26</th>\n",
       "      <td>Wii</td>\n",
       "      <td>907.51</td>\n",
       "    </tr>\n",
       "    <tr>\n",
       "      <th>4</th>\n",
       "      <td>DS</td>\n",
       "      <td>806.12</td>\n",
       "    </tr>\n",
       "    <tr>\n",
       "      <th>15</th>\n",
       "      <td>PS</td>\n",
       "      <td>730.86</td>\n",
       "    </tr>\n",
       "    <tr>\n",
       "      <th>6</th>\n",
       "      <td>GBA</td>\n",
       "      <td>317.85</td>\n",
       "    </tr>\n",
       "    <tr>\n",
       "      <th>18</th>\n",
       "      <td>PS4</td>\n",
       "      <td>314.14</td>\n",
       "    </tr>\n",
       "    <tr>\n",
       "      <th>19</th>\n",
       "      <td>PSP</td>\n",
       "      <td>294.05</td>\n",
       "    </tr>\n",
       "    <tr>\n",
       "      <th>13</th>\n",
       "      <td>PC</td>\n",
       "      <td>259.52</td>\n",
       "    </tr>\n",
       "    <tr>\n",
       "      <th>2</th>\n",
       "      <td>3DS</td>\n",
       "      <td>259.00</td>\n",
       "    </tr>\n",
       "    <tr>\n",
       "      <th>29</th>\n",
       "      <td>XB</td>\n",
       "      <td>257.74</td>\n",
       "    </tr>\n",
       "    <tr>\n",
       "      <th>5</th>\n",
       "      <td>GB</td>\n",
       "      <td>255.46</td>\n",
       "    </tr>\n",
       "    <tr>\n",
       "      <th>11</th>\n",
       "      <td>NES</td>\n",
       "      <td>251.05</td>\n",
       "    </tr>\n",
       "    <tr>\n",
       "      <th>10</th>\n",
       "      <td>N64</td>\n",
       "      <td>218.68</td>\n",
       "    </tr>\n",
       "    <tr>\n",
       "      <th>23</th>\n",
       "      <td>SNES</td>\n",
       "      <td>200.04</td>\n",
       "    </tr>\n",
       "    <tr>\n",
       "      <th>7</th>\n",
       "      <td>GC</td>\n",
       "      <td>198.93</td>\n",
       "    </tr>\n",
       "    <tr>\n",
       "      <th>30</th>\n",
       "      <td>XOne</td>\n",
       "      <td>159.32</td>\n",
       "    </tr>\n",
       "    <tr>\n",
       "      <th>0</th>\n",
       "      <td>2600</td>\n",
       "      <td>96.98</td>\n",
       "    </tr>\n",
       "    <tr>\n",
       "      <th>27</th>\n",
       "      <td>WiiU</td>\n",
       "      <td>82.19</td>\n",
       "    </tr>\n",
       "  </tbody>\n",
       "</table>\n",
       "</div>"
      ],
      "text/plain": [
       "   platform  total_sales\n",
       "16      PS2      1255.77\n",
       "28     X360       971.42\n",
       "17      PS3       939.65\n",
       "26      Wii       907.51\n",
       "4        DS       806.12\n",
       "15       PS       730.86\n",
       "6       GBA       317.85\n",
       "18      PS4       314.14\n",
       "19      PSP       294.05\n",
       "13       PC       259.52\n",
       "2       3DS       259.00\n",
       "29       XB       257.74\n",
       "5        GB       255.46\n",
       "11      NES       251.05\n",
       "10      N64       218.68\n",
       "23     SNES       200.04\n",
       "7        GC       198.93\n",
       "30     XOne       159.32\n",
       "0      2600        96.98\n",
       "27     WiiU        82.19"
      ]
     },
     "execution_count": 20,
     "metadata": {},
     "output_type": "execute_result"
    }
   ],
   "source": [
    "sales_by_years = df.groupby('platform', observed=True)['total_sales'].sum().reset_index()\n",
    "pd.set_option('display.max_rows', None)#настроим таблицу, чтобы отображались все колонки\n",
    "sales_by_years = sales_by_years.sort_values(by='total_sales', ascending=False)\n",
    "sales_by_years.head(20)"
   ]
  },
  {
   "cell_type": "markdown",
   "metadata": {},
   "source": [
    "There were 6 leading platforms: PS2, X360, PS3, Wii, DS, PS. Let's build a line chart to visualize the data:"
   ]
  },
  {
   "cell_type": "code",
   "execution_count": 21,
   "metadata": {},
   "outputs": [
    {
     "data": {
      "image/png": "[encoded data removed]",
      "text/plain": [
       "<Figure size 1080x576 with 1 Axes>"
      ]
     },
     "metadata": {},
     "output_type": "display_data"
    }
   ],
   "source": [
    "sales_rating = df.query('platform==\"PS2\" or platform==\"X360\" or platform==\"PS3\" or platform==\"Wii\" or platform==\"DS\" or platform==\"PS\"')\n",
    "sales = sales_rating.groupby(['platform','year_of_release'])['total_sales'].sum().reset_index()\n",
    "sns.set(style='darkgrid',)\n",
    "plt.figure(figsize=(15, 8))\n",
    "sns.lineplot(x='year_of_release', y='total_sales', hue='platform', data=sales)\n",
    "plt.title(\"Platform life\", fontsize = 20)\n",
    "plt.xlabel('year',fontsize=16)\n",
    "plt.ylabel('Sales',fontsize=16)\n",
    "plt.show()"
   ]
  },
  {
   "cell_type": "markdown",
   "metadata": {},
   "source": [
    "Now we can find the lifespan for each  Найдем для каждой из 6 leading platforms: "
   ]
  },
  {
   "cell_type": "code",
   "execution_count": 22,
   "metadata": {},
   "outputs": [
    {
     "data": {
      "text/html": [
       "<div>\n",
       "<style scoped>\n",
       "    .dataframe tbody tr th:only-of-type {\n",
       "        vertical-align: middle;\n",
       "    }\n",
       "\n",
       "    .dataframe tbody tr th {\n",
       "        vertical-align: top;\n",
       "    }\n",
       "\n",
       "    .dataframe thead th {\n",
       "        text-align: right;\n",
       "    }\n",
       "</style>\n",
       "<table border=\"1\" class=\"dataframe\">\n",
       "  <thead>\n",
       "    <tr style=\"text-align: right;\">\n",
       "      <th></th>\n",
       "      <th>platform</th>\n",
       "      <th>max</th>\n",
       "      <th>min</th>\n",
       "      <th>platform_life</th>\n",
       "    </tr>\n",
       "  </thead>\n",
       "  <tbody>\n",
       "    <tr>\n",
       "      <th>0</th>\n",
       "      <td>DS</td>\n",
       "      <td>2013</td>\n",
       "      <td>1985</td>\n",
       "      <td>28</td>\n",
       "    </tr>\n",
       "    <tr>\n",
       "      <th>1</th>\n",
       "      <td>PS</td>\n",
       "      <td>2003</td>\n",
       "      <td>1994</td>\n",
       "      <td>9</td>\n",
       "    </tr>\n",
       "    <tr>\n",
       "      <th>2</th>\n",
       "      <td>PS2</td>\n",
       "      <td>2011</td>\n",
       "      <td>2000</td>\n",
       "      <td>11</td>\n",
       "    </tr>\n",
       "    <tr>\n",
       "      <th>3</th>\n",
       "      <td>PS3</td>\n",
       "      <td>2016</td>\n",
       "      <td>2006</td>\n",
       "      <td>10</td>\n",
       "    </tr>\n",
       "    <tr>\n",
       "      <th>4</th>\n",
       "      <td>Wii</td>\n",
       "      <td>2016</td>\n",
       "      <td>2006</td>\n",
       "      <td>10</td>\n",
       "    </tr>\n",
       "    <tr>\n",
       "      <th>5</th>\n",
       "      <td>X360</td>\n",
       "      <td>2016</td>\n",
       "      <td>2005</td>\n",
       "      <td>11</td>\n",
       "    </tr>\n",
       "  </tbody>\n",
       "</table>\n",
       "</div>"
      ],
      "text/plain": [
       "  platform   max   min  platform_life\n",
       "0       DS  2013  1985             28\n",
       "1       PS  2003  1994              9\n",
       "2      PS2  2011  2000             11\n",
       "3      PS3  2016  2006             10\n",
       "4      Wii  2016  2006             10\n",
       "5     X360  2016  2005             11"
      ]
     },
     "execution_count": 22,
     "metadata": {},
     "output_type": "execute_result"
    }
   ],
   "source": [
    "sales_rating = sales_rating.groupby('platform').agg(max=('year_of_release','max'), min=('year_of_release','min')).reset_index()\n",
    "sales_rating['platform_life'] = sales_rating['max']-sales_rating['min'] \n",
    "sales_rating"
   ]
  },
  {
   "cell_type": "markdown",
   "metadata": {},
   "source": [
    "The average lifespan of a platform is 10 years. The only longest-lived platform was DS with the lifespan 1985-2013. Evidently, it makes sense to choose a 10-year period for further analysis. We can drill down our analysis by choosing year 2005 as the year that is relevant to our analysis and disregard platforms and sales before then. In 2015 3 leading platforms were PS3, X360 and Wii."
   ]
  },
  {
   "cell_type": "markdown",
   "metadata": {},
   "source": [
    "### Total sales variations from platform to platform."
   ]
  },
  {
   "cell_type": "markdown",
   "metadata": {},
   "source": [
    "A good idea is to build boxplots for the leading platforms. First, we should make a pivot where each column will correspond to a platform and rows to years. Cells will contain information about yearly sales for each platform."
   ]
  },
  {
   "cell_type": "code",
   "execution_count": 23,
   "metadata": {},
   "outputs": [
    {
     "data": {
      "text/html": [
       "<div>\n",
       "<style scoped>\n",
       "    .dataframe tbody tr th:only-of-type {\n",
       "        vertical-align: middle;\n",
       "    }\n",
       "\n",
       "    .dataframe tbody tr th {\n",
       "        vertical-align: top;\n",
       "    }\n",
       "\n",
       "    .dataframe thead th {\n",
       "        text-align: right;\n",
       "    }\n",
       "</style>\n",
       "<table border=\"1\" class=\"dataframe\">\n",
       "  <thead>\n",
       "    <tr style=\"text-align: right;\">\n",
       "      <th>platform</th>\n",
       "      <th>DS</th>\n",
       "      <th>PS</th>\n",
       "      <th>PS2</th>\n",
       "      <th>PS3</th>\n",
       "      <th>Wii</th>\n",
       "      <th>X360</th>\n",
       "    </tr>\n",
       "    <tr>\n",
       "      <th>year_of_release</th>\n",
       "      <th></th>\n",
       "      <th></th>\n",
       "      <th></th>\n",
       "      <th></th>\n",
       "      <th></th>\n",
       "      <th></th>\n",
       "    </tr>\n",
       "  </thead>\n",
       "  <tbody>\n",
       "    <tr>\n",
       "      <th>1985</th>\n",
       "      <td>0.02</td>\n",
       "      <td>NaN</td>\n",
       "      <td>NaN</td>\n",
       "      <td>NaN</td>\n",
       "      <td>NaN</td>\n",
       "      <td>NaN</td>\n",
       "    </tr>\n",
       "    <tr>\n",
       "      <th>1994</th>\n",
       "      <td>NaN</td>\n",
       "      <td>6.03</td>\n",
       "      <td>NaN</td>\n",
       "      <td>NaN</td>\n",
       "      <td>NaN</td>\n",
       "      <td>NaN</td>\n",
       "    </tr>\n",
       "    <tr>\n",
       "      <th>1995</th>\n",
       "      <td>NaN</td>\n",
       "      <td>35.96</td>\n",
       "      <td>NaN</td>\n",
       "      <td>NaN</td>\n",
       "      <td>NaN</td>\n",
       "      <td>NaN</td>\n",
       "    </tr>\n",
       "    <tr>\n",
       "      <th>1996</th>\n",
       "      <td>NaN</td>\n",
       "      <td>94.70</td>\n",
       "      <td>NaN</td>\n",
       "      <td>NaN</td>\n",
       "      <td>NaN</td>\n",
       "      <td>NaN</td>\n",
       "    </tr>\n",
       "    <tr>\n",
       "      <th>1997</th>\n",
       "      <td>NaN</td>\n",
       "      <td>136.17</td>\n",
       "      <td>NaN</td>\n",
       "      <td>NaN</td>\n",
       "      <td>NaN</td>\n",
       "      <td>NaN</td>\n",
       "    </tr>\n",
       "    <tr>\n",
       "      <th>1998</th>\n",
       "      <td>NaN</td>\n",
       "      <td>169.49</td>\n",
       "      <td>NaN</td>\n",
       "      <td>NaN</td>\n",
       "      <td>NaN</td>\n",
       "      <td>NaN</td>\n",
       "    </tr>\n",
       "    <tr>\n",
       "      <th>1999</th>\n",
       "      <td>NaN</td>\n",
       "      <td>144.53</td>\n",
       "      <td>NaN</td>\n",
       "      <td>NaN</td>\n",
       "      <td>NaN</td>\n",
       "      <td>NaN</td>\n",
       "    </tr>\n",
       "    <tr>\n",
       "      <th>2000</th>\n",
       "      <td>NaN</td>\n",
       "      <td>96.37</td>\n",
       "      <td>39.17</td>\n",
       "      <td>NaN</td>\n",
       "      <td>NaN</td>\n",
       "      <td>NaN</td>\n",
       "    </tr>\n",
       "    <tr>\n",
       "      <th>2001</th>\n",
       "      <td>NaN</td>\n",
       "      <td>35.59</td>\n",
       "      <td>166.43</td>\n",
       "      <td>NaN</td>\n",
       "      <td>NaN</td>\n",
       "      <td>NaN</td>\n",
       "    </tr>\n",
       "    <tr>\n",
       "      <th>2002</th>\n",
       "      <td>NaN</td>\n",
       "      <td>6.67</td>\n",
       "      <td>205.38</td>\n",
       "      <td>NaN</td>\n",
       "      <td>NaN</td>\n",
       "      <td>NaN</td>\n",
       "    </tr>\n",
       "    <tr>\n",
       "      <th>2003</th>\n",
       "      <td>NaN</td>\n",
       "      <td>2.07</td>\n",
       "      <td>184.31</td>\n",
       "      <td>NaN</td>\n",
       "      <td>NaN</td>\n",
       "      <td>NaN</td>\n",
       "    </tr>\n",
       "    <tr>\n",
       "      <th>2004</th>\n",
       "      <td>17.27</td>\n",
       "      <td>NaN</td>\n",
       "      <td>211.81</td>\n",
       "      <td>NaN</td>\n",
       "      <td>NaN</td>\n",
       "      <td>NaN</td>\n",
       "    </tr>\n",
       "    <tr>\n",
       "      <th>2005</th>\n",
       "      <td>130.14</td>\n",
       "      <td>NaN</td>\n",
       "      <td>160.66</td>\n",
       "      <td>NaN</td>\n",
       "      <td>NaN</td>\n",
       "      <td>8.25</td>\n",
       "    </tr>\n",
       "    <tr>\n",
       "      <th>2006</th>\n",
       "      <td>119.81</td>\n",
       "      <td>NaN</td>\n",
       "      <td>103.42</td>\n",
       "      <td>20.96</td>\n",
       "      <td>137.15</td>\n",
       "      <td>51.62</td>\n",
       "    </tr>\n",
       "    <tr>\n",
       "      <th>2007</th>\n",
       "      <td>146.94</td>\n",
       "      <td>NaN</td>\n",
       "      <td>75.99</td>\n",
       "      <td>73.19</td>\n",
       "      <td>152.77</td>\n",
       "      <td>95.41</td>\n",
       "    </tr>\n",
       "    <tr>\n",
       "      <th>2008</th>\n",
       "      <td>145.31</td>\n",
       "      <td>NaN</td>\n",
       "      <td>53.90</td>\n",
       "      <td>118.52</td>\n",
       "      <td>171.32</td>\n",
       "      <td>135.26</td>\n",
       "    </tr>\n",
       "    <tr>\n",
       "      <th>2009</th>\n",
       "      <td>119.54</td>\n",
       "      <td>NaN</td>\n",
       "      <td>26.40</td>\n",
       "      <td>130.93</td>\n",
       "      <td>206.97</td>\n",
       "      <td>120.29</td>\n",
       "    </tr>\n",
       "    <tr>\n",
       "      <th>2010</th>\n",
       "      <td>85.02</td>\n",
       "      <td>NaN</td>\n",
       "      <td>5.64</td>\n",
       "      <td>142.17</td>\n",
       "      <td>127.95</td>\n",
       "      <td>170.03</td>\n",
       "    </tr>\n",
       "    <tr>\n",
       "      <th>2011</th>\n",
       "      <td>26.18</td>\n",
       "      <td>NaN</td>\n",
       "      <td>0.45</td>\n",
       "      <td>156.78</td>\n",
       "      <td>59.65</td>\n",
       "      <td>143.84</td>\n",
       "    </tr>\n",
       "    <tr>\n",
       "      <th>2012</th>\n",
       "      <td>11.01</td>\n",
       "      <td>NaN</td>\n",
       "      <td>NaN</td>\n",
       "      <td>107.36</td>\n",
       "      <td>21.71</td>\n",
       "      <td>99.74</td>\n",
       "    </tr>\n",
       "    <tr>\n",
       "      <th>2013</th>\n",
       "      <td>1.54</td>\n",
       "      <td>NaN</td>\n",
       "      <td>NaN</td>\n",
       "      <td>113.25</td>\n",
       "      <td>8.59</td>\n",
       "      <td>88.58</td>\n",
       "    </tr>\n",
       "    <tr>\n",
       "      <th>2014</th>\n",
       "      <td>NaN</td>\n",
       "      <td>NaN</td>\n",
       "      <td>NaN</td>\n",
       "      <td>47.76</td>\n",
       "      <td>3.75</td>\n",
       "      <td>34.74</td>\n",
       "    </tr>\n",
       "    <tr>\n",
       "      <th>2015</th>\n",
       "      <td>NaN</td>\n",
       "      <td>NaN</td>\n",
       "      <td>NaN</td>\n",
       "      <td>16.82</td>\n",
       "      <td>1.14</td>\n",
       "      <td>11.96</td>\n",
       "    </tr>\n",
       "    <tr>\n",
       "      <th>2016</th>\n",
       "      <td>NaN</td>\n",
       "      <td>NaN</td>\n",
       "      <td>NaN</td>\n",
       "      <td>3.60</td>\n",
       "      <td>0.18</td>\n",
       "      <td>1.52</td>\n",
       "    </tr>\n",
       "  </tbody>\n",
       "</table>\n",
       "</div>"
      ],
      "text/plain": [
       "platform             DS      PS     PS2     PS3     Wii    X360\n",
       "year_of_release                                                \n",
       "1985               0.02     NaN     NaN     NaN     NaN     NaN\n",
       "1994                NaN    6.03     NaN     NaN     NaN     NaN\n",
       "1995                NaN   35.96     NaN     NaN     NaN     NaN\n",
       "1996                NaN   94.70     NaN     NaN     NaN     NaN\n",
       "1997                NaN  136.17     NaN     NaN     NaN     NaN\n",
       "1998                NaN  169.49     NaN     NaN     NaN     NaN\n",
       "1999                NaN  144.53     NaN     NaN     NaN     NaN\n",
       "2000                NaN   96.37   39.17     NaN     NaN     NaN\n",
       "2001                NaN   35.59  166.43     NaN     NaN     NaN\n",
       "2002                NaN    6.67  205.38     NaN     NaN     NaN\n",
       "2003                NaN    2.07  184.31     NaN     NaN     NaN\n",
       "2004              17.27     NaN  211.81     NaN     NaN     NaN\n",
       "2005             130.14     NaN  160.66     NaN     NaN    8.25\n",
       "2006             119.81     NaN  103.42   20.96  137.15   51.62\n",
       "2007             146.94     NaN   75.99   73.19  152.77   95.41\n",
       "2008             145.31     NaN   53.90  118.52  171.32  135.26\n",
       "2009             119.54     NaN   26.40  130.93  206.97  120.29\n",
       "2010              85.02     NaN    5.64  142.17  127.95  170.03\n",
       "2011              26.18     NaN    0.45  156.78   59.65  143.84\n",
       "2012              11.01     NaN     NaN  107.36   21.71   99.74\n",
       "2013               1.54     NaN     NaN  113.25    8.59   88.58\n",
       "2014                NaN     NaN     NaN   47.76    3.75   34.74\n",
       "2015                NaN     NaN     NaN   16.82    1.14   11.96\n",
       "2016                NaN     NaN     NaN    3.60    0.18    1.52"
      ]
     },
     "execution_count": 23,
     "metadata": {},
     "output_type": "execute_result"
    }
   ],
   "source": [
    "sales_pivot=sales.pivot(values='total_sales', index='year_of_release', columns='platform')\n",
    "sales_pivot"
   ]
  },
  {
   "cell_type": "markdown",
   "metadata": {},
   "source": [
    "Cells with NaN values mean the corresponding platform didn't release new games that year. In our boxplot chart we'll consider the 10-year period. PS3, Wii, X360 were leading platforms at that time."
   ]
  },
  {
   "cell_type": "code",
   "execution_count": 24,
   "metadata": {},
   "outputs": [
    {
     "data": {
      "image/png": "[encoded data removed]",
      "text/plain": [
       "<Figure size 864x648 with 1 Axes>"
      ]
     },
     "metadata": {},
     "output_type": "display_data"
    }
   ],
   "source": [
    "profitable_platforms = sales.query('platform==\"X360\" or platform==\"PS3\" or platform==\"Wii\"')\n",
    "plt.figure(figsize=(12, 9))\n",
    "sns.boxplot(x='platform', y='total_sales', data = profitable_platforms)\n",
    "plt.show()"
   ]
  },
  {
   "cell_type": "markdown",
   "metadata": {},
   "source": [
    "### Which platforms are growing in sales? Which ones are growing or shrinking? Determine several potentially profitable platforms."
   ]
  },
  {
   "cell_type": "markdown",
   "metadata": {},
   "source": [
    "In this part of our analysis we'll consider a 10-year period and buils a pivot with rows corresponding to years, columns  to platforms and cells containing information about yearly sales. Nan values mean there were no sales in that year."
   ]
  },
  {
   "cell_type": "code",
   "execution_count": 25,
   "metadata": {},
   "outputs": [],
   "source": [
    "sales_leaders = df.query('year_of_release>2005 and total_sales>0', engine='python')\n",
    "sales_leaders = sales_leaders.groupby(['platform','year_of_release'])['total_sales'].sum().reset_index()"
   ]
  },
  {
   "cell_type": "code",
   "execution_count": 26,
   "metadata": {},
   "outputs": [
    {
     "data": {
      "text/html": [
       "<div>\n",
       "<style scoped>\n",
       "    .dataframe tbody tr th:only-of-type {\n",
       "        vertical-align: middle;\n",
       "    }\n",
       "\n",
       "    .dataframe tbody tr th {\n",
       "        vertical-align: top;\n",
       "    }\n",
       "\n",
       "    .dataframe thead th {\n",
       "        text-align: right;\n",
       "    }\n",
       "</style>\n",
       "<table border=\"1\" class=\"dataframe\">\n",
       "  <thead>\n",
       "    <tr style=\"text-align: right;\">\n",
       "      <th>platform</th>\n",
       "      <th>3DS</th>\n",
       "      <th>DC</th>\n",
       "      <th>DS</th>\n",
       "      <th>GBA</th>\n",
       "      <th>GC</th>\n",
       "      <th>PC</th>\n",
       "      <th>PS2</th>\n",
       "      <th>PS3</th>\n",
       "      <th>PS4</th>\n",
       "      <th>PSP</th>\n",
       "      <th>PSV</th>\n",
       "      <th>Wii</th>\n",
       "      <th>WiiU</th>\n",
       "      <th>X360</th>\n",
       "      <th>XB</th>\n",
       "      <th>XOne</th>\n",
       "    </tr>\n",
       "    <tr>\n",
       "      <th>year_of_release</th>\n",
       "      <th></th>\n",
       "      <th></th>\n",
       "      <th></th>\n",
       "      <th></th>\n",
       "      <th></th>\n",
       "      <th></th>\n",
       "      <th></th>\n",
       "      <th></th>\n",
       "      <th></th>\n",
       "      <th></th>\n",
       "      <th></th>\n",
       "      <th></th>\n",
       "      <th></th>\n",
       "      <th></th>\n",
       "      <th></th>\n",
       "      <th></th>\n",
       "    </tr>\n",
       "  </thead>\n",
       "  <tbody>\n",
       "    <tr>\n",
       "      <th>2006</th>\n",
       "      <td>NaN</td>\n",
       "      <td>NaN</td>\n",
       "      <td>119.81</td>\n",
       "      <td>5.28</td>\n",
       "      <td>11.26</td>\n",
       "      <td>2.85</td>\n",
       "      <td>103.42</td>\n",
       "      <td>20.96</td>\n",
       "      <td>NaN</td>\n",
       "      <td>55.32</td>\n",
       "      <td>NaN</td>\n",
       "      <td>137.15</td>\n",
       "      <td>NaN</td>\n",
       "      <td>51.62</td>\n",
       "      <td>10.04</td>\n",
       "      <td>NaN</td>\n",
       "    </tr>\n",
       "    <tr>\n",
       "      <th>2007</th>\n",
       "      <td>NaN</td>\n",
       "      <td>0.02</td>\n",
       "      <td>146.94</td>\n",
       "      <td>3.40</td>\n",
       "      <td>0.27</td>\n",
       "      <td>9.28</td>\n",
       "      <td>75.99</td>\n",
       "      <td>73.19</td>\n",
       "      <td>NaN</td>\n",
       "      <td>46.93</td>\n",
       "      <td>NaN</td>\n",
       "      <td>152.77</td>\n",
       "      <td>NaN</td>\n",
       "      <td>95.41</td>\n",
       "      <td>0.55</td>\n",
       "      <td>NaN</td>\n",
       "    </tr>\n",
       "    <tr>\n",
       "      <th>2008</th>\n",
       "      <td>NaN</td>\n",
       "      <td>0.04</td>\n",
       "      <td>145.31</td>\n",
       "      <td>NaN</td>\n",
       "      <td>NaN</td>\n",
       "      <td>12.42</td>\n",
       "      <td>53.90</td>\n",
       "      <td>118.52</td>\n",
       "      <td>NaN</td>\n",
       "      <td>34.55</td>\n",
       "      <td>NaN</td>\n",
       "      <td>171.32</td>\n",
       "      <td>NaN</td>\n",
       "      <td>135.26</td>\n",
       "      <td>0.18</td>\n",
       "      <td>NaN</td>\n",
       "    </tr>\n",
       "    <tr>\n",
       "      <th>2009</th>\n",
       "      <td>NaN</td>\n",
       "      <td>NaN</td>\n",
       "      <td>119.54</td>\n",
       "      <td>NaN</td>\n",
       "      <td>NaN</td>\n",
       "      <td>16.91</td>\n",
       "      <td>26.40</td>\n",
       "      <td>130.93</td>\n",
       "      <td>NaN</td>\n",
       "      <td>37.78</td>\n",
       "      <td>NaN</td>\n",
       "      <td>206.97</td>\n",
       "      <td>NaN</td>\n",
       "      <td>120.29</td>\n",
       "      <td>NaN</td>\n",
       "      <td>NaN</td>\n",
       "    </tr>\n",
       "    <tr>\n",
       "      <th>2010</th>\n",
       "      <td>NaN</td>\n",
       "      <td>NaN</td>\n",
       "      <td>85.02</td>\n",
       "      <td>NaN</td>\n",
       "      <td>NaN</td>\n",
       "      <td>24.28</td>\n",
       "      <td>5.64</td>\n",
       "      <td>142.17</td>\n",
       "      <td>NaN</td>\n",
       "      <td>35.04</td>\n",
       "      <td>NaN</td>\n",
       "      <td>127.95</td>\n",
       "      <td>NaN</td>\n",
       "      <td>170.03</td>\n",
       "      <td>NaN</td>\n",
       "      <td>NaN</td>\n",
       "    </tr>\n",
       "    <tr>\n",
       "      <th>2011</th>\n",
       "      <td>63.20</td>\n",
       "      <td>NaN</td>\n",
       "      <td>26.18</td>\n",
       "      <td>NaN</td>\n",
       "      <td>NaN</td>\n",
       "      <td>35.03</td>\n",
       "      <td>0.45</td>\n",
       "      <td>156.78</td>\n",
       "      <td>NaN</td>\n",
       "      <td>17.82</td>\n",
       "      <td>4.63</td>\n",
       "      <td>59.65</td>\n",
       "      <td>NaN</td>\n",
       "      <td>143.84</td>\n",
       "      <td>NaN</td>\n",
       "      <td>NaN</td>\n",
       "    </tr>\n",
       "    <tr>\n",
       "      <th>2012</th>\n",
       "      <td>51.36</td>\n",
       "      <td>NaN</td>\n",
       "      <td>11.01</td>\n",
       "      <td>NaN</td>\n",
       "      <td>NaN</td>\n",
       "      <td>23.22</td>\n",
       "      <td>NaN</td>\n",
       "      <td>107.36</td>\n",
       "      <td>NaN</td>\n",
       "      <td>7.69</td>\n",
       "      <td>16.19</td>\n",
       "      <td>21.71</td>\n",
       "      <td>17.56</td>\n",
       "      <td>99.74</td>\n",
       "      <td>NaN</td>\n",
       "      <td>NaN</td>\n",
       "    </tr>\n",
       "    <tr>\n",
       "      <th>2013</th>\n",
       "      <td>56.57</td>\n",
       "      <td>NaN</td>\n",
       "      <td>1.54</td>\n",
       "      <td>NaN</td>\n",
       "      <td>NaN</td>\n",
       "      <td>12.38</td>\n",
       "      <td>NaN</td>\n",
       "      <td>113.25</td>\n",
       "      <td>25.99</td>\n",
       "      <td>3.14</td>\n",
       "      <td>10.59</td>\n",
       "      <td>8.59</td>\n",
       "      <td>21.65</td>\n",
       "      <td>88.58</td>\n",
       "      <td>NaN</td>\n",
       "      <td>18.96</td>\n",
       "    </tr>\n",
       "    <tr>\n",
       "      <th>2014</th>\n",
       "      <td>43.76</td>\n",
       "      <td>NaN</td>\n",
       "      <td>NaN</td>\n",
       "      <td>NaN</td>\n",
       "      <td>NaN</td>\n",
       "      <td>13.28</td>\n",
       "      <td>NaN</td>\n",
       "      <td>47.76</td>\n",
       "      <td>100.00</td>\n",
       "      <td>0.24</td>\n",
       "      <td>11.90</td>\n",
       "      <td>3.75</td>\n",
       "      <td>22.03</td>\n",
       "      <td>34.74</td>\n",
       "      <td>NaN</td>\n",
       "      <td>54.07</td>\n",
       "    </tr>\n",
       "    <tr>\n",
       "      <th>2015</th>\n",
       "      <td>27.78</td>\n",
       "      <td>NaN</td>\n",
       "      <td>NaN</td>\n",
       "      <td>NaN</td>\n",
       "      <td>NaN</td>\n",
       "      <td>8.52</td>\n",
       "      <td>NaN</td>\n",
       "      <td>16.82</td>\n",
       "      <td>118.90</td>\n",
       "      <td>0.12</td>\n",
       "      <td>6.25</td>\n",
       "      <td>1.14</td>\n",
       "      <td>16.35</td>\n",
       "      <td>11.96</td>\n",
       "      <td>NaN</td>\n",
       "      <td>60.14</td>\n",
       "    </tr>\n",
       "    <tr>\n",
       "      <th>2016</th>\n",
       "      <td>15.14</td>\n",
       "      <td>NaN</td>\n",
       "      <td>NaN</td>\n",
       "      <td>NaN</td>\n",
       "      <td>NaN</td>\n",
       "      <td>5.25</td>\n",
       "      <td>NaN</td>\n",
       "      <td>3.60</td>\n",
       "      <td>69.25</td>\n",
       "      <td>NaN</td>\n",
       "      <td>4.25</td>\n",
       "      <td>0.18</td>\n",
       "      <td>4.60</td>\n",
       "      <td>1.52</td>\n",
       "      <td>NaN</td>\n",
       "      <td>26.15</td>\n",
       "    </tr>\n",
       "  </tbody>\n",
       "</table>\n",
       "</div>"
      ],
      "text/plain": [
       "platform           3DS    DC      DS   GBA     GC     PC     PS2     PS3  \\\n",
       "year_of_release                                                            \n",
       "2006               NaN   NaN  119.81  5.28  11.26   2.85  103.42   20.96   \n",
       "2007               NaN  0.02  146.94  3.40   0.27   9.28   75.99   73.19   \n",
       "2008               NaN  0.04  145.31   NaN    NaN  12.42   53.90  118.52   \n",
       "2009               NaN   NaN  119.54   NaN    NaN  16.91   26.40  130.93   \n",
       "2010               NaN   NaN   85.02   NaN    NaN  24.28    5.64  142.17   \n",
       "2011             63.20   NaN   26.18   NaN    NaN  35.03    0.45  156.78   \n",
       "2012             51.36   NaN   11.01   NaN    NaN  23.22     NaN  107.36   \n",
       "2013             56.57   NaN    1.54   NaN    NaN  12.38     NaN  113.25   \n",
       "2014             43.76   NaN     NaN   NaN    NaN  13.28     NaN   47.76   \n",
       "2015             27.78   NaN     NaN   NaN    NaN   8.52     NaN   16.82   \n",
       "2016             15.14   NaN     NaN   NaN    NaN   5.25     NaN    3.60   \n",
       "\n",
       "platform            PS4    PSP    PSV     Wii   WiiU    X360     XB   XOne  \n",
       "year_of_release                                                             \n",
       "2006                NaN  55.32    NaN  137.15    NaN   51.62  10.04    NaN  \n",
       "2007                NaN  46.93    NaN  152.77    NaN   95.41   0.55    NaN  \n",
       "2008                NaN  34.55    NaN  171.32    NaN  135.26   0.18    NaN  \n",
       "2009                NaN  37.78    NaN  206.97    NaN  120.29    NaN    NaN  \n",
       "2010                NaN  35.04    NaN  127.95    NaN  170.03    NaN    NaN  \n",
       "2011                NaN  17.82   4.63   59.65    NaN  143.84    NaN    NaN  \n",
       "2012                NaN   7.69  16.19   21.71  17.56   99.74    NaN    NaN  \n",
       "2013              25.99   3.14  10.59    8.59  21.65   88.58    NaN  18.96  \n",
       "2014             100.00   0.24  11.90    3.75  22.03   34.74    NaN  54.07  \n",
       "2015             118.90   0.12   6.25    1.14  16.35   11.96    NaN  60.14  \n",
       "2016              69.25    NaN   4.25    0.18   4.60    1.52    NaN  26.15  "
      ]
     },
     "execution_count": 26,
     "metadata": {},
     "output_type": "execute_result"
    }
   ],
   "source": [
    "sales_leaders_pivot=sales_leaders.pivot(values='total_sales', index='year_of_release', columns='platform')\n",
    "sales_leaders_pivot"
   ]
  },
  {
   "cell_type": "markdown",
   "metadata": {},
   "source": [
    "as we can see, some platforms seized to exist. Let's plot the data for those platforms that had sales over the last years:"
   ]
  },
  {
   "cell_type": "code",
   "execution_count": 27,
   "metadata": {},
   "outputs": [
    {
     "data": {
      "image/png": "[encoded data removed]",
      "text/plain": [
       "<Figure size 1440x648 with 1 Axes>"
      ]
     },
     "metadata": {},
     "output_type": "display_data"
    }
   ],
   "source": [
    "platform_leaders = sales_leaders.query('year_of_release==2016 and total_sales!=0')['platform'].tolist()\n",
    "platform_leaders\n",
    "sales_leaders = sales_leaders.query('platform in @platform_leaders')\n",
    "plt.figure(figsize=(20, 9))\n",
    "sns.boxplot(x='platform', y='total_sales', data = sales_leaders)\n",
    "plt.show()"
   ]
  },
  {
   "cell_type": "markdown",
   "metadata": {},
   "source": [
    "Leaders in term of total sales were PS3, Wii, X360, PS4 and XOne.   "
   ]
  },
  {
   "cell_type": "markdown",
   "metadata": {},
   "source": [
    "Scatter plot with linear regression will provide us with more information:"
   ]
  },
  {
   "cell_type": "code",
   "execution_count": 28,
   "metadata": {},
   "outputs": [
    {
     "data": {
      "image/png": "[encoded data removed]",
      "text/plain": [
       "<Figure size 950.4x864 with 9 Axes>"
      ]
     },
     "metadata": {},
     "output_type": "display_data"
    }
   ],
   "source": [
    "sns.lmplot(x='year_of_release',\n",
    "           y='total_sales',\n",
    "           col='platform',\n",
    "           ci=None,\n",
    "           col_wrap=3,\n",
    "           height=4,\n",
    "           aspect=1.1,\n",
    "           data=sales_leaders);"
   ]
  },
  {
   "cell_type": "markdown",
   "metadata": {},
   "source": [
    "Potentialy profitable platforms are XOne и PS4. These 2 platforms will be used for further analysis. PC platform shows stable sales level and can be used as a base for comparison. All the other platforms demonstrate shrinking in sales."
   ]
  },
  {
   "cell_type": "markdown",
   "metadata": {},
   "source": [
    "### How user and professional reviews affect sales."
   ]
  },
  {
   "cell_type": "markdown",
   "metadata": {},
   "source": [
    "Earlier we noticed that some games have \"tbd\" abbreviation in \"user_score\" column. Let's find out if these games have critic_score."
   ]
  },
  {
   "cell_type": "code",
   "execution_count": 29,
   "metadata": {},
   "outputs": [
    {
     "data": {
      "text/html": [
       "<div>\n",
       "<style scoped>\n",
       "    .dataframe tbody tr th:only-of-type {\n",
       "        vertical-align: middle;\n",
       "    }\n",
       "\n",
       "    .dataframe tbody tr th {\n",
       "        vertical-align: top;\n",
       "    }\n",
       "\n",
       "    .dataframe thead th {\n",
       "        text-align: right;\n",
       "    }\n",
       "</style>\n",
       "<table border=\"1\" class=\"dataframe\">\n",
       "  <thead>\n",
       "    <tr style=\"text-align: right;\">\n",
       "      <th></th>\n",
       "      <th>name</th>\n",
       "      <th>platform</th>\n",
       "      <th>year_of_release</th>\n",
       "      <th>genre</th>\n",
       "      <th>na_sales</th>\n",
       "      <th>eu_sales</th>\n",
       "      <th>jp_sales</th>\n",
       "      <th>other_sales</th>\n",
       "      <th>critic_score</th>\n",
       "      <th>user_score</th>\n",
       "      <th>rating</th>\n",
       "      <th>total_sales</th>\n",
       "    </tr>\n",
       "  </thead>\n",
       "  <tbody>\n",
       "    <tr>\n",
       "      <th>9447</th>\n",
       "      <td>Hasbro Family Fun Pack</td>\n",
       "      <td>XOne</td>\n",
       "      <td>2015</td>\n",
       "      <td>Misc</td>\n",
       "      <td>0.10</td>\n",
       "      <td>0.02</td>\n",
       "      <td>0.0</td>\n",
       "      <td>0.01</td>\n",
       "      <td>101.0</td>\n",
       "      <td>tbd</td>\n",
       "      <td>E10+</td>\n",
       "      <td>0.13</td>\n",
       "    </tr>\n",
       "    <tr>\n",
       "      <th>9805</th>\n",
       "      <td>Destiny: The Collection</td>\n",
       "      <td>XOne</td>\n",
       "      <td>2016</td>\n",
       "      <td>Shooter</td>\n",
       "      <td>0.05</td>\n",
       "      <td>0.06</td>\n",
       "      <td>0.0</td>\n",
       "      <td>0.01</td>\n",
       "      <td>101.0</td>\n",
       "      <td>tbd</td>\n",
       "      <td>T</td>\n",
       "      <td>0.12</td>\n",
       "    </tr>\n",
       "    <tr>\n",
       "      <th>9813</th>\n",
       "      <td>Farming Simulator 17</td>\n",
       "      <td>XOne</td>\n",
       "      <td>2016</td>\n",
       "      <td>Simulation</td>\n",
       "      <td>0.04</td>\n",
       "      <td>0.07</td>\n",
       "      <td>0.0</td>\n",
       "      <td>0.01</td>\n",
       "      <td>65.0</td>\n",
       "      <td>tbd</td>\n",
       "      <td>E</td>\n",
       "      <td>0.12</td>\n",
       "    </tr>\n",
       "    <tr>\n",
       "      <th>11958</th>\n",
       "      <td>Just Dance: Disney Party 2</td>\n",
       "      <td>XOne</td>\n",
       "      <td>2015</td>\n",
       "      <td>Action</td>\n",
       "      <td>0.05</td>\n",
       "      <td>0.01</td>\n",
       "      <td>0.0</td>\n",
       "      <td>0.01</td>\n",
       "      <td>101.0</td>\n",
       "      <td>tbd</td>\n",
       "      <td>E</td>\n",
       "      <td>0.07</td>\n",
       "    </tr>\n",
       "    <tr>\n",
       "      <th>14294</th>\n",
       "      <td>Just Dance 2017</td>\n",
       "      <td>PS4</td>\n",
       "      <td>2016</td>\n",
       "      <td>Misc</td>\n",
       "      <td>0.02</td>\n",
       "      <td>0.00</td>\n",
       "      <td>0.0</td>\n",
       "      <td>0.01</td>\n",
       "      <td>73.0</td>\n",
       "      <td>tbd</td>\n",
       "      <td>E10+</td>\n",
       "      <td>0.03</td>\n",
       "    </tr>\n",
       "    <tr>\n",
       "      <th>14301</th>\n",
       "      <td>Let's Sing 2016</td>\n",
       "      <td>PS4</td>\n",
       "      <td>2015</td>\n",
       "      <td>Action</td>\n",
       "      <td>0.03</td>\n",
       "      <td>0.00</td>\n",
       "      <td>0.0</td>\n",
       "      <td>0.01</td>\n",
       "      <td>101.0</td>\n",
       "      <td>tbd</td>\n",
       "      <td>T</td>\n",
       "      <td>0.04</td>\n",
       "    </tr>\n",
       "    <tr>\n",
       "      <th>14866</th>\n",
       "      <td>MX vs. ATV Supercross Encore</td>\n",
       "      <td>XOne</td>\n",
       "      <td>2015</td>\n",
       "      <td>Sports</td>\n",
       "      <td>0.02</td>\n",
       "      <td>0.00</td>\n",
       "      <td>0.0</td>\n",
       "      <td>0.00</td>\n",
       "      <td>45.0</td>\n",
       "      <td>tbd</td>\n",
       "      <td>101</td>\n",
       "      <td>0.02</td>\n",
       "    </tr>\n",
       "    <tr>\n",
       "      <th>14944</th>\n",
       "      <td>Atari Flashback Classics: Volume 1</td>\n",
       "      <td>PS4</td>\n",
       "      <td>2016</td>\n",
       "      <td>Misc</td>\n",
       "      <td>0.02</td>\n",
       "      <td>0.00</td>\n",
       "      <td>0.0</td>\n",
       "      <td>0.00</td>\n",
       "      <td>101.0</td>\n",
       "      <td>tbd</td>\n",
       "      <td>E</td>\n",
       "      <td>0.02</td>\n",
       "    </tr>\n",
       "    <tr>\n",
       "      <th>14982</th>\n",
       "      <td>Duke Nukem 3D: 20th Anniversary World Tour</td>\n",
       "      <td>XOne</td>\n",
       "      <td>2016</td>\n",
       "      <td>Shooter</td>\n",
       "      <td>0.02</td>\n",
       "      <td>0.00</td>\n",
       "      <td>0.0</td>\n",
       "      <td>0.00</td>\n",
       "      <td>70.0</td>\n",
       "      <td>tbd</td>\n",
       "      <td>M</td>\n",
       "      <td>0.02</td>\n",
       "    </tr>\n",
       "    <tr>\n",
       "      <th>15021</th>\n",
       "      <td>Assault Suit Leynos</td>\n",
       "      <td>PS4</td>\n",
       "      <td>2016</td>\n",
       "      <td>Shooter</td>\n",
       "      <td>0.02</td>\n",
       "      <td>0.00</td>\n",
       "      <td>0.0</td>\n",
       "      <td>0.00</td>\n",
       "      <td>67.0</td>\n",
       "      <td>tbd</td>\n",
       "      <td>E10+</td>\n",
       "      <td>0.02</td>\n",
       "    </tr>\n",
       "  </tbody>\n",
       "</table>\n",
       "</div>"
      ],
      "text/plain": [
       "                                             name platform  year_of_release  \\\n",
       "9447                       Hasbro Family Fun Pack     XOne             2015   \n",
       "9805                      Destiny: The Collection     XOne             2016   \n",
       "9813                         Farming Simulator 17     XOne             2016   \n",
       "11958                  Just Dance: Disney Party 2     XOne             2015   \n",
       "14294                             Just Dance 2017      PS4             2016   \n",
       "14301                             Let's Sing 2016      PS4             2015   \n",
       "14866                MX vs. ATV Supercross Encore     XOne             2015   \n",
       "14944          Atari Flashback Classics: Volume 1      PS4             2016   \n",
       "14982  Duke Nukem 3D: 20th Anniversary World Tour     XOne             2016   \n",
       "15021                         Assault Suit Leynos      PS4             2016   \n",
       "\n",
       "            genre  na_sales  eu_sales  jp_sales  other_sales  critic_score  \\\n",
       "9447         Misc      0.10      0.02       0.0         0.01         101.0   \n",
       "9805      Shooter      0.05      0.06       0.0         0.01         101.0   \n",
       "9813   Simulation      0.04      0.07       0.0         0.01          65.0   \n",
       "11958      Action      0.05      0.01       0.0         0.01         101.0   \n",
       "14294        Misc      0.02      0.00       0.0         0.01          73.0   \n",
       "14301      Action      0.03      0.00       0.0         0.01         101.0   \n",
       "14866      Sports      0.02      0.00       0.0         0.00          45.0   \n",
       "14944        Misc      0.02      0.00       0.0         0.00         101.0   \n",
       "14982     Shooter      0.02      0.00       0.0         0.00          70.0   \n",
       "15021     Shooter      0.02      0.00       0.0         0.00          67.0   \n",
       "\n",
       "      user_score rating  total_sales  \n",
       "9447         tbd   E10+         0.13  \n",
       "9805         tbd      T         0.12  \n",
       "9813         tbd      E         0.12  \n",
       "11958        tbd      E         0.07  \n",
       "14294        tbd   E10+         0.03  \n",
       "14301        tbd      T         0.04  \n",
       "14866        tbd    101         0.02  \n",
       "14944        tbd      E         0.02  \n",
       "14982        tbd      M         0.02  \n",
       "15021        tbd   E10+         0.02  "
      ]
     },
     "execution_count": 29,
     "metadata": {},
     "output_type": "execute_result"
    }
   ],
   "source": [
    "df_analysis = df.query('(platform ==\"XOne\" or platform == \"PS4\")and user_score==\"tbd\"')\n",
    "df_analysis.head(10)"
   ]
  },
  {
   "cell_type": "markdown",
   "metadata": {},
   "source": [
    "As we observe, some games have critic_score, others don't."
   ]
  },
  {
   "cell_type": "markdown",
   "metadata": {},
   "source": [
    "Now we can filter the dataframe by XOne and PS4 platforms and build a scatter plot to demonstrate if there is dependency between user_score and sales. We'll exclude \"tbd\" games from the data. "
   ]
  },
  {
   "cell_type": "code",
   "execution_count": 30,
   "metadata": {},
   "outputs": [
    {
     "data": {
      "image/png": "[encoded data removed]",
      "text/plain": [
       "<Figure size 864x432 with 2 Axes>"
      ]
     },
     "metadata": {},
     "output_type": "display_data"
    }
   ],
   "source": [
    "df_current = df.query('platform ==\"XOne\" or platform == \"PS4\"')\n",
    "df_current['user_score'] = df_current['user_score'].apply(lambda x: 102 if x=='tbd' else x)\n",
    "df_current['user_score'] = df_current['user_score'].astype('float')\n",
    "user_score_df = df_current.query('0<user_score<101')\n",
    "grid = sns.FacetGrid(user_score_df, col = \"platform\", hue = \"platform\", col_wrap=2, height=6)\n",
    "grid.map(sns.scatterplot, \"user_score\", \"total_sales\")\n",
    "plt.show()"
   ]
  },
  {
   "cell_type": "markdown",
   "metadata": {},
   "source": [
    "There are many games with high user_score. However, high user_score does not influence sales."
   ]
  },
  {
   "cell_type": "markdown",
   "metadata": {},
   "source": [
    "Then we'll build a similar plot for critic_score and sales"
   ]
  },
  {
   "cell_type": "code",
   "execution_count": 31,
   "metadata": {},
   "outputs": [
    {
     "data": {
      "image/png": "[encoded data removed]",
      "text/plain": [
       "<Figure size 864x432 with 2 Axes>"
      ]
     },
     "metadata": {},
     "output_type": "display_data"
    }
   ],
   "source": [
    "critic_score_df = df_current.query('0<critic_score<101')\n",
    "grid = sns.FacetGrid(critic_score_df, col = \"platform\", hue = \"platform\", col_wrap=2, height=6)\n",
    "grid.map(sns.scatterplot, \"critic_score\", \"total_sales\")\n",
    "plt.show()"
   ]
  },
  {
   "cell_type": "markdown",
   "metadata": {},
   "source": [
    "Here we observe how high critic_score boosts the sales. Heatmaps can also be useful in this part of our analysis."
   ]
  },
  {
   "cell_type": "code",
   "execution_count": 32,
   "metadata": {},
   "outputs": [
    {
     "data": {
      "image/png": "[encoded data removed]",
      "text/plain": [
       "<Figure size 1440x576 with 4 Axes>"
      ]
     },
     "metadata": {},
     "output_type": "display_data"
    }
   ],
   "source": [
    "PS4=df_current.query('platform ==\"PS4\" and 0<user_score<101 and 0<critic_score<101')\n",
    "XOne=df_current.query('platform ==\"XOne\" and 0<user_score<101 and 0<critic_score<101')\n",
    "fig, axes = plt.subplots(ncols=2, figsize=(20, 8))\n",
    "ax1, ax2 = axes\n",
    "\n",
    "im1 = sns.heatmap(PS4.corr(), ax=ax1, annot=True, cmap=\"Blues\")\n",
    "im2 = sns.heatmap(XOne.corr(),  ax=ax2, annot=True, cmap=\"Blues\")\n",
    "ax1.set_title('PS4')\n",
    "ax2.set_title('XOne')\n",
    "ax1.tick_params(axis='y', labelrotation=0)\n",
    "ax2.tick_params(axis='y', labelrotation=0)\n",
    "ax1.tick_params(axis='x', labelrotation=45)\n",
    "ax2.tick_params(axis='x', labelrotation=45)\n",
    "plt.show()"
   ]
  },
  {
   "cell_type": "code",
   "execution_count": 33,
   "metadata": {},
   "outputs": [
    {
     "name": "stdout",
     "output_type": "stream",
     "text": [
      "0.40656790206178123\n"
     ]
    }
   ],
   "source": [
    "PS4_critic=df_current.query('platform ==\"PS4\" and critic_score<100')\n",
    "print(PS4_critic['critic_score'].corr(PS4_critic['total_sales']))"
   ]
  },
  {
   "cell_type": "code",
   "execution_count": 34,
   "metadata": {},
   "outputs": [
    {
     "name": "stdout",
     "output_type": "stream",
     "text": [
      "-0.03195711020455644\n"
     ]
    }
   ],
   "source": [
    "PS4_user=df_current.query('platform ==\"PS4\" and user_score<100')\n",
    "print(PS4_user['user_score'].corr(PS4_user['total_sales']))"
   ]
  },
  {
   "cell_type": "code",
   "execution_count": 35,
   "metadata": {},
   "outputs": [
    {
     "name": "stdout",
     "output_type": "stream",
     "text": [
      "0.41699832800840153\n"
     ]
    }
   ],
   "source": [
    "XOne_critic=df_current.query('platform ==\"XOne\" and critic_score<100')\n",
    "print(XOne_critic['critic_score'].corr(XOne_critic['total_sales']))"
   ]
  },
  {
   "cell_type": "code",
   "execution_count": 36,
   "metadata": {},
   "outputs": [
    {
     "name": "stdout",
     "output_type": "stream",
     "text": [
      "-0.06892505328279418\n"
     ]
    }
   ],
   "source": [
    "XOne_user=df_current.query('platform ==\"XOne\" and user_score<100')\n",
    "print(XOne_user['user_score'].corr(XOne_user['total_sales']))"
   ]
  },
  {
   "cell_type": "markdown",
   "metadata": {},
   "source": [
    "Such disparity between user reviews and metacritic scores can be explained by several factors: 1) developer. Companies like EA, Activision will be criticized due to a subjective decrease in quality, especially in franchise games. 2) Sociopolitical leanings 3) Gameplay controversy—lootboxes, bugs (many sports/competitive games), poor support, too hard or too easy. These are issues which game critics may overlook but which plague the ordinary gamer."
   ]
  },
  {
   "cell_type": "markdown",
   "metadata": {},
   "source": [
    "### General distribution of games by genre. The most profitable genres."
   ]
  },
  {
   "cell_type": "markdown",
   "metadata": {},
   "source": [
    "In the table below we group the data by genres and calculate sales for each genre."
   ]
  },
  {
   "cell_type": "code",
   "execution_count": 37,
   "metadata": {},
   "outputs": [
    {
     "data": {
      "text/html": [
       "<div>\n",
       "<style scoped>\n",
       "    .dataframe tbody tr th:only-of-type {\n",
       "        vertical-align: middle;\n",
       "    }\n",
       "\n",
       "    .dataframe tbody tr th {\n",
       "        vertical-align: top;\n",
       "    }\n",
       "\n",
       "    .dataframe thead th {\n",
       "        text-align: right;\n",
       "    }\n",
       "</style>\n",
       "<table border=\"1\" class=\"dataframe\">\n",
       "  <thead>\n",
       "    <tr style=\"text-align: right;\">\n",
       "      <th></th>\n",
       "      <th>genre</th>\n",
       "      <th>count</th>\n",
       "      <th>sum</th>\n",
       "      <th>av_revenue</th>\n",
       "    </tr>\n",
       "  </thead>\n",
       "  <tbody>\n",
       "    <tr>\n",
       "      <th>0</th>\n",
       "      <td>Action</td>\n",
       "      <td>3369</td>\n",
       "      <td>1744.17</td>\n",
       "      <td>0.517711</td>\n",
       "    </tr>\n",
       "    <tr>\n",
       "      <th>10</th>\n",
       "      <td>Sports</td>\n",
       "      <td>2348</td>\n",
       "      <td>1331.27</td>\n",
       "      <td>0.566980</td>\n",
       "    </tr>\n",
       "    <tr>\n",
       "      <th>8</th>\n",
       "      <td>Shooter</td>\n",
       "      <td>1323</td>\n",
       "      <td>1052.45</td>\n",
       "      <td>0.795503</td>\n",
       "    </tr>\n",
       "    <tr>\n",
       "      <th>7</th>\n",
       "      <td>Role-Playing</td>\n",
       "      <td>1498</td>\n",
       "      <td>934.56</td>\n",
       "      <td>0.623872</td>\n",
       "    </tr>\n",
       "    <tr>\n",
       "      <th>4</th>\n",
       "      <td>Platform</td>\n",
       "      <td>888</td>\n",
       "      <td>827.77</td>\n",
       "      <td>0.932173</td>\n",
       "    </tr>\n",
       "    <tr>\n",
       "      <th>3</th>\n",
       "      <td>Misc</td>\n",
       "      <td>1750</td>\n",
       "      <td>802.51</td>\n",
       "      <td>0.458577</td>\n",
       "    </tr>\n",
       "    <tr>\n",
       "      <th>6</th>\n",
       "      <td>Racing</td>\n",
       "      <td>1249</td>\n",
       "      <td>728.67</td>\n",
       "      <td>0.583403</td>\n",
       "    </tr>\n",
       "    <tr>\n",
       "      <th>2</th>\n",
       "      <td>Fighting</td>\n",
       "      <td>849</td>\n",
       "      <td>447.53</td>\n",
       "      <td>0.527126</td>\n",
       "    </tr>\n",
       "    <tr>\n",
       "      <th>9</th>\n",
       "      <td>Simulation</td>\n",
       "      <td>873</td>\n",
       "      <td>389.97</td>\n",
       "      <td>0.446701</td>\n",
       "    </tr>\n",
       "    <tr>\n",
       "      <th>5</th>\n",
       "      <td>Puzzle</td>\n",
       "      <td>580</td>\n",
       "      <td>242.57</td>\n",
       "      <td>0.418224</td>\n",
       "    </tr>\n",
       "    <tr>\n",
       "      <th>1</th>\n",
       "      <td>Adventure</td>\n",
       "      <td>1303</td>\n",
       "      <td>237.59</td>\n",
       "      <td>0.182341</td>\n",
       "    </tr>\n",
       "    <tr>\n",
       "      <th>11</th>\n",
       "      <td>Strategy</td>\n",
       "      <td>683</td>\n",
       "      <td>174.23</td>\n",
       "      <td>0.255095</td>\n",
       "    </tr>\n",
       "  </tbody>\n",
       "</table>\n",
       "</div>"
      ],
      "text/plain": [
       "           genre  count      sum  av_revenue\n",
       "0         Action   3369  1744.17    0.517711\n",
       "10        Sports   2348  1331.27    0.566980\n",
       "8        Shooter   1323  1052.45    0.795503\n",
       "7   Role-Playing   1498   934.56    0.623872\n",
       "4       Platform    888   827.77    0.932173\n",
       "3           Misc   1750   802.51    0.458577\n",
       "6         Racing   1249   728.67    0.583403\n",
       "2       Fighting    849   447.53    0.527126\n",
       "9     Simulation    873   389.97    0.446701\n",
       "5         Puzzle    580   242.57    0.418224\n",
       "1      Adventure   1303   237.59    0.182341\n",
       "11      Strategy    683   174.23    0.255095"
      ]
     },
     "execution_count": 37,
     "metadata": {},
     "output_type": "execute_result"
    }
   ],
   "source": [
    "genre = df.groupby('genre').agg(count=('name','count'), sum=('total_sales','sum')).reset_index()\n",
    "genre['av_revenue'] = genre['sum']/genre['count']\n",
    "genre = genre.sort_values(by=\"sum\", ascending=False)\n",
    "genre"
   ]
  },
  {
   "cell_type": "markdown",
   "metadata": {},
   "source": [
    "Top genres in term of sales are action, sports, shooter, role-playing. We can plot a bar chart to support our conclusions."
   ]
  },
  {
   "cell_type": "code",
   "execution_count": 38,
   "metadata": {},
   "outputs": [
    {
     "data": {
      "image/png": "[encoded data removed]",
      "text/plain": [
       "<Figure size 1080x360 with 1 Axes>"
      ]
     },
     "metadata": {},
     "output_type": "display_data"
    }
   ],
   "source": [
    "ax = plt.gca()\n",
    "\n",
    "pivot = df.groupby('genre').agg({'name': 'count', 'total_sales': 'sum'}).sort_values(by='name', ascending=False)\n",
    "\n",
    "plot1 = pivot['name']\n",
    "plot1.plot(kind='bar', figsize=(15,5), ec='black', ax=ax, width=0.2, position=1)\n",
    "\n",
    "plot2 = pivot['total_sales']\n",
    "plot2.plot(kind='bar', figsize=(15,5), ec='black', ax=ax, width=0.2, color='#cea125', position=0)\n",
    "\n",
    "ax.legend(['Количество продаж', 'Общая сумма продаж'])\n",
    "plt.show()"
   ]
  },
  {
   "cell_type": "markdown",
   "metadata": {},
   "source": [
    "## Create a user profile for each region."
   ]
  },
  {
   "cell_type": "markdown",
   "metadata": {},
   "source": [
    "### Top-5 most popular platforms in each region. "
   ]
  },
  {
   "cell_type": "markdown",
   "metadata": {},
   "source": [
    "We can determine the total sales by platform in each region and write a function for building bar charts.  "
   ]
  },
  {
   "cell_type": "code",
   "execution_count": 39,
   "metadata": {},
   "outputs": [],
   "source": [
    "region = ['eu_sales','jp_sales','na_sales', 'other_sales']\n",
    "    \n",
    "def sales_by_region(df, column):\n",
    "    region = ['eu_sales','jp_sales','na_sales', 'other_sales']\n",
    "    regional_sales = df.query('year_of_release>2005 and total_sales>0' )\n",
    "    regional_sales = regional_sales.groupby(column).agg(na_sales=('na_sales', sum),eu_sales=('eu_sales', sum), jp_sales=('jp_sales', sum), other_sales=('other_sales', sum)).reset_index()\n",
    "    for r in region: #пройдем по списку месяцев\n",
    "        sum_column = regional_sales[r].sum()\n",
    "        regional_sales[r+'_shares'] = regional_sales[r]/sum_column*100\n",
    "    return regional_sales\n",
    "def sales_by_region_plot(regional_sales, column):\n",
    "    fig, axes = plt.subplots(1, 4, figsize = (18,4))\n",
    "    i = 0\n",
    "    for r in region: #пройдем по списку месяцев\n",
    "        r_share = r + '_shares'\n",
    "        regional_sales_top = regional_sales.sort_values(by=r_share, axis=0, ascending=False).head(5)\n",
    "        regional_sales_top.plot(x = column, y = r_share, kind='bar', ax = axes[i])\n",
    "        axes[i].set_xlabel(column)\n",
    "        axes[i].set_ylabel('%')\n",
    "        i+=1"
   ]
  },
  {
   "cell_type": "code",
   "execution_count": 40,
   "metadata": {},
   "outputs": [
    {
     "data": {
      "text/html": [
       "<div>\n",
       "<style scoped>\n",
       "    .dataframe tbody tr th:only-of-type {\n",
       "        vertical-align: middle;\n",
       "    }\n",
       "\n",
       "    .dataframe tbody tr th {\n",
       "        vertical-align: top;\n",
       "    }\n",
       "\n",
       "    .dataframe thead th {\n",
       "        text-align: right;\n",
       "    }\n",
       "</style>\n",
       "<table border=\"1\" class=\"dataframe\">\n",
       "  <thead>\n",
       "    <tr style=\"text-align: right;\">\n",
       "      <th></th>\n",
       "      <th>platform</th>\n",
       "      <th>na_sales</th>\n",
       "      <th>eu_sales</th>\n",
       "      <th>jp_sales</th>\n",
       "      <th>other_sales</th>\n",
       "      <th>eu_sales_shares</th>\n",
       "      <th>jp_sales_shares</th>\n",
       "      <th>na_sales_shares</th>\n",
       "      <th>other_sales_shares</th>\n",
       "    </tr>\n",
       "  </thead>\n",
       "  <tbody>\n",
       "    <tr>\n",
       "      <th>0</th>\n",
       "      <td>3DS</td>\n",
       "      <td>82.65</td>\n",
       "      <td>61.27</td>\n",
       "      <td>100.62</td>\n",
       "      <td>13.27</td>\n",
       "      <td>4.095588</td>\n",
       "      <td>17.925923</td>\n",
       "      <td>3.462984</td>\n",
       "      <td>2.399465</td>\n",
       "    </tr>\n",
       "    <tr>\n",
       "      <th>1</th>\n",
       "      <td>DC</td>\n",
       "      <td>0.00</td>\n",
       "      <td>0.00</td>\n",
       "      <td>0.06</td>\n",
       "      <td>0.00</td>\n",
       "      <td>0.000000</td>\n",
       "      <td>0.010689</td>\n",
       "      <td>0.000000</td>\n",
       "      <td>0.000000</td>\n",
       "    </tr>\n",
       "    <tr>\n",
       "      <th>2</th>\n",
       "      <td>DS</td>\n",
       "      <td>323.99</td>\n",
       "      <td>142.99</td>\n",
       "      <td>141.49</td>\n",
       "      <td>46.88</td>\n",
       "      <td>9.558155</td>\n",
       "      <td>25.207105</td>\n",
       "      <td>13.574981</td>\n",
       "      <td>8.476783</td>\n",
       "    </tr>\n",
       "    <tr>\n",
       "      <th>3</th>\n",
       "      <td>GBA</td>\n",
       "      <td>5.15</td>\n",
       "      <td>1.88</td>\n",
       "      <td>1.51</td>\n",
       "      <td>0.14</td>\n",
       "      <td>0.125668</td>\n",
       "      <td>0.269014</td>\n",
       "      <td>0.215782</td>\n",
       "      <td>0.025315</td>\n",
       "    </tr>\n",
       "    <tr>\n",
       "      <th>4</th>\n",
       "      <td>GC</td>\n",
       "      <td>8.72</td>\n",
       "      <td>2.34</td>\n",
       "      <td>0.21</td>\n",
       "      <td>0.26</td>\n",
       "      <td>0.156417</td>\n",
       "      <td>0.037412</td>\n",
       "      <td>0.365363</td>\n",
       "      <td>0.047013</td>\n",
       "    </tr>\n",
       "  </tbody>\n",
       "</table>\n",
       "</div>"
      ],
      "text/plain": [
       "  platform  na_sales  eu_sales  jp_sales  other_sales  eu_sales_shares  \\\n",
       "0      3DS     82.65     61.27    100.62        13.27         4.095588   \n",
       "1       DC      0.00      0.00      0.06         0.00         0.000000   \n",
       "2       DS    323.99    142.99    141.49        46.88         9.558155   \n",
       "3      GBA      5.15      1.88      1.51         0.14         0.125668   \n",
       "4       GC      8.72      2.34      0.21         0.26         0.156417   \n",
       "\n",
       "   jp_sales_shares  na_sales_shares  other_sales_shares  \n",
       "0        17.925923         3.462984            2.399465  \n",
       "1         0.010689         0.000000            0.000000  \n",
       "2        25.207105        13.574981            8.476783  \n",
       "3         0.269014         0.215782            0.025315  \n",
       "4         0.037412         0.365363            0.047013  "
      ]
     },
     "execution_count": 40,
     "metadata": {},
     "output_type": "execute_result"
    }
   ],
   "source": [
    "regional_sales = sales_by_region(df, 'platform')\n",
    "regional_sales.head()"
   ]
  },
  {
   "cell_type": "code",
   "execution_count": 41,
   "metadata": {
    "scrolled": true
   },
   "outputs": [
    {
     "data": {
      "image/png": "[encoded data removed]",
      "text/plain": [
       "<Figure size 1296x288 with 4 Axes>"
      ]
     },
     "metadata": {},
     "output_type": "display_data"
    }
   ],
   "source": [
    "sales_by_region_plot(regional_sales, 'platform')"
   ]
  },
  {
   "cell_type": "markdown",
   "metadata": {},
   "source": [
    "We can observe that leading platforms are the same but regional sales vary from market to market. For example, PS3 is # 1 platform in Europe whereas in Japan and North America this platform in the 3d place. DS platform is # 1 in Japan but it's in the 4th place in Europe and North America. "
   ]
  },
  {
   "cell_type": "markdown",
   "metadata": {},
   "source": [
    "### Top genres. "
   ]
  },
  {
   "cell_type": "markdown",
   "metadata": {},
   "source": [
    "Let's calculate sales for each genre in region and plot a bar chart."
   ]
  },
  {
   "cell_type": "code",
   "execution_count": 42,
   "metadata": {},
   "outputs": [
    {
     "data": {
      "text/html": [
       "<div>\n",
       "<style scoped>\n",
       "    .dataframe tbody tr th:only-of-type {\n",
       "        vertical-align: middle;\n",
       "    }\n",
       "\n",
       "    .dataframe tbody tr th {\n",
       "        vertical-align: top;\n",
       "    }\n",
       "\n",
       "    .dataframe thead th {\n",
       "        text-align: right;\n",
       "    }\n",
       "</style>\n",
       "<table border=\"1\" class=\"dataframe\">\n",
       "  <thead>\n",
       "    <tr style=\"text-align: right;\">\n",
       "      <th></th>\n",
       "      <th>genre</th>\n",
       "      <th>na_sales</th>\n",
       "      <th>eu_sales</th>\n",
       "      <th>jp_sales</th>\n",
       "      <th>other_sales</th>\n",
       "      <th>eu_sales_shares</th>\n",
       "      <th>jp_sales_shares</th>\n",
       "      <th>na_sales_shares</th>\n",
       "      <th>other_sales_shares</th>\n",
       "    </tr>\n",
       "  </thead>\n",
       "  <tbody>\n",
       "    <tr>\n",
       "      <th>0</th>\n",
       "      <td>Action</td>\n",
       "      <td>530.44</td>\n",
       "      <td>350.70</td>\n",
       "      <td>102.07</td>\n",
       "      <td>133.44</td>\n",
       "      <td>23.442513</td>\n",
       "      <td>18.184248</td>\n",
       "      <td>22.225109</td>\n",
       "      <td>24.128454</td>\n",
       "    </tr>\n",
       "    <tr>\n",
       "      <th>1</th>\n",
       "      <td>Adventure</td>\n",
       "      <td>61.52</td>\n",
       "      <td>37.90</td>\n",
       "      <td>29.53</td>\n",
       "      <td>12.40</td>\n",
       "      <td>2.533422</td>\n",
       "      <td>5.260908</td>\n",
       "      <td>2.577650</td>\n",
       "      <td>2.242152</td>\n",
       "    </tr>\n",
       "    <tr>\n",
       "      <th>2</th>\n",
       "      <td>Fighting</td>\n",
       "      <td>94.31</td>\n",
       "      <td>42.63</td>\n",
       "      <td>28.61</td>\n",
       "      <td>22.87</td>\n",
       "      <td>2.849599</td>\n",
       "      <td>5.097005</td>\n",
       "      <td>3.951531</td>\n",
       "      <td>4.135325</td>\n",
       "    </tr>\n",
       "    <tr>\n",
       "      <th>3</th>\n",
       "      <td>Misc</td>\n",
       "      <td>285.06</td>\n",
       "      <td>146.88</td>\n",
       "      <td>64.53</td>\n",
       "      <td>58.39</td>\n",
       "      <td>9.818182</td>\n",
       "      <td>11.496321</td>\n",
       "      <td>11.943838</td>\n",
       "      <td>10.558007</td>\n",
       "    </tr>\n",
       "    <tr>\n",
       "      <th>4</th>\n",
       "      <td>Platform</td>\n",
       "      <td>134.25</td>\n",
       "      <td>81.62</td>\n",
       "      <td>35.20</td>\n",
       "      <td>28.67</td>\n",
       "      <td>5.455882</td>\n",
       "      <td>6.271045</td>\n",
       "      <td>5.624992</td>\n",
       "      <td>5.184073</td>\n",
       "    </tr>\n",
       "  </tbody>\n",
       "</table>\n",
       "</div>"
      ],
      "text/plain": [
       "       genre  na_sales  eu_sales  jp_sales  other_sales  eu_sales_shares  \\\n",
       "0     Action    530.44    350.70    102.07       133.44        23.442513   \n",
       "1  Adventure     61.52     37.90     29.53        12.40         2.533422   \n",
       "2   Fighting     94.31     42.63     28.61        22.87         2.849599   \n",
       "3       Misc    285.06    146.88     64.53        58.39         9.818182   \n",
       "4   Platform    134.25     81.62     35.20        28.67         5.455882   \n",
       "\n",
       "   jp_sales_shares  na_sales_shares  other_sales_shares  \n",
       "0        18.184248        22.225109           24.128454  \n",
       "1         5.260908         2.577650            2.242152  \n",
       "2         5.097005         3.951531            4.135325  \n",
       "3        11.496321        11.943838           10.558007  \n",
       "4         6.271045         5.624992            5.184073  "
      ]
     },
     "execution_count": 42,
     "metadata": {},
     "output_type": "execute_result"
    }
   ],
   "source": [
    "popular_genres = sales_by_region(df, 'genre')\n",
    "popular_genres.head()"
   ]
  },
  {
   "cell_type": "code",
   "execution_count": 43,
   "metadata": {
    "scrolled": true
   },
   "outputs": [
    {
     "data": {
      "image/png": "[encoded data removed]",
      "text/plain": [
       "<Figure size 1296x288 with 4 Axes>"
      ]
     },
     "metadata": {},
     "output_type": "display_data"
    }
   ],
   "source": [
    "sales_by_region_plot(popular_genres, 'genre')"
   ]
  },
  {
   "cell_type": "markdown",
   "metadata": {},
   "source": [
    "Action, sports and shooting genres are popular in Europe and North America. In Japan gamers prefer role-playing, action and miscelaneous genres."
   ]
  },
  {
   "cell_type": "markdown",
   "metadata": {},
   "source": [
    "### ESRB influence on sales in individual regions. "
   ]
  },
  {
   "cell_type": "markdown",
   "metadata": {},
   "source": [
    "In the table below we present sales for each ESRB rating broken down by regions. "
   ]
  },
  {
   "cell_type": "code",
   "execution_count": 44,
   "metadata": {
    "scrolled": true
   },
   "outputs": [
    {
     "data": {
      "text/html": [
       "<div>\n",
       "<style scoped>\n",
       "    .dataframe tbody tr th:only-of-type {\n",
       "        vertical-align: middle;\n",
       "    }\n",
       "\n",
       "    .dataframe tbody tr th {\n",
       "        vertical-align: top;\n",
       "    }\n",
       "\n",
       "    .dataframe thead th {\n",
       "        text-align: right;\n",
       "    }\n",
       "</style>\n",
       "<table border=\"1\" class=\"dataframe\">\n",
       "  <thead>\n",
       "    <tr style=\"text-align: right;\">\n",
       "      <th></th>\n",
       "      <th>rating</th>\n",
       "      <th>na_sales</th>\n",
       "      <th>eu_sales</th>\n",
       "      <th>jp_sales</th>\n",
       "      <th>other_sales</th>\n",
       "      <th>eu_sales_shares</th>\n",
       "      <th>jp_sales_shares</th>\n",
       "      <th>na_sales_shares</th>\n",
       "      <th>other_sales_shares</th>\n",
       "    </tr>\n",
       "  </thead>\n",
       "  <tbody>\n",
       "    <tr>\n",
       "      <th>0</th>\n",
       "      <td>E</td>\n",
       "      <td>796.98</td>\n",
       "      <td>461.09</td>\n",
       "      <td>120.36</td>\n",
       "      <td>162.54</td>\n",
       "      <td>36.340350</td>\n",
       "      <td>42.287963</td>\n",
       "      <td>37.732758</td>\n",
       "      <td>34.097632</td>\n",
       "    </tr>\n",
       "    <tr>\n",
       "      <th>1</th>\n",
       "      <td>E10+</td>\n",
       "      <td>315.40</td>\n",
       "      <td>173.35</td>\n",
       "      <td>36.57</td>\n",
       "      <td>67.51</td>\n",
       "      <td>13.662408</td>\n",
       "      <td>12.848711</td>\n",
       "      <td>14.932510</td>\n",
       "      <td>14.162244</td>\n",
       "    </tr>\n",
       "    <tr>\n",
       "      <th>2</th>\n",
       "      <td>EC</td>\n",
       "      <td>1.32</td>\n",
       "      <td>0.00</td>\n",
       "      <td>0.00</td>\n",
       "      <td>0.08</td>\n",
       "      <td>0.000000</td>\n",
       "      <td>0.000000</td>\n",
       "      <td>0.062495</td>\n",
       "      <td>0.016782</td>\n",
       "    </tr>\n",
       "    <tr>\n",
       "      <th>3</th>\n",
       "      <td>M</td>\n",
       "      <td>574.33</td>\n",
       "      <td>398.90</td>\n",
       "      <td>43.79</td>\n",
       "      <td>140.70</td>\n",
       "      <td>31.438907</td>\n",
       "      <td>15.385426</td>\n",
       "      <td>27.191467</td>\n",
       "      <td>29.516038</td>\n",
       "    </tr>\n",
       "    <tr>\n",
       "      <th>4</th>\n",
       "      <td>RP</td>\n",
       "      <td>0.00</td>\n",
       "      <td>0.03</td>\n",
       "      <td>0.00</td>\n",
       "      <td>0.01</td>\n",
       "      <td>0.002364</td>\n",
       "      <td>0.000000</td>\n",
       "      <td>0.000000</td>\n",
       "      <td>0.002098</td>\n",
       "    </tr>\n",
       "    <tr>\n",
       "      <th>5</th>\n",
       "      <td>T</td>\n",
       "      <td>424.14</td>\n",
       "      <td>235.44</td>\n",
       "      <td>83.90</td>\n",
       "      <td>105.85</td>\n",
       "      <td>18.555970</td>\n",
       "      <td>29.477900</td>\n",
       "      <td>20.080770</td>\n",
       "      <td>22.205207</td>\n",
       "    </tr>\n",
       "  </tbody>\n",
       "</table>\n",
       "</div>"
      ],
      "text/plain": [
       "  rating  na_sales  eu_sales  jp_sales  other_sales  eu_sales_shares  \\\n",
       "0      E    796.98    461.09    120.36       162.54        36.340350   \n",
       "1   E10+    315.40    173.35     36.57        67.51        13.662408   \n",
       "2     EC      1.32      0.00      0.00         0.08         0.000000   \n",
       "3      M    574.33    398.90     43.79       140.70        31.438907   \n",
       "4     RP      0.00      0.03      0.00         0.01         0.002364   \n",
       "5      T    424.14    235.44     83.90       105.85        18.555970   \n",
       "\n",
       "   jp_sales_shares  na_sales_shares  other_sales_shares  \n",
       "0        42.287963        37.732758           34.097632  \n",
       "1        12.848711        14.932510           14.162244  \n",
       "2         0.000000         0.062495            0.016782  \n",
       "3        15.385426        27.191467           29.516038  \n",
       "4         0.000000         0.000000            0.002098  \n",
       "5        29.477900        20.080770           22.205207  "
      ]
     },
     "execution_count": 44,
     "metadata": {},
     "output_type": "execute_result"
    }
   ],
   "source": [
    "esrb = sales_by_region(df.query(\"rating!=101\"), 'rating')\n",
    "esrb"
   ]
  },
  {
   "cell_type": "markdown",
   "metadata": {},
   "source": [
    "Now we can plot the data."
   ]
  },
  {
   "cell_type": "code",
   "execution_count": 45,
   "metadata": {},
   "outputs": [
    {
     "data": {
      "image/png": "[encoded data removed]",
      "text/plain": [
       "<Figure size 1296x288 with 4 Axes>"
      ]
     },
     "metadata": {},
     "output_type": "display_data"
    }
   ],
   "source": [
    "sales_by_region_plot(esrb, 'rating')"
   ]
  },
  {
   "cell_type": "markdown",
   "metadata": {},
   "source": [
    "In all the regions the best selling games have \"E\" rating meaning they are good for any audience. \"M\" and \"T\" categories share the 2nd and 3d places. We can conclude that ESRB rating influences the sales."
   ]
  },
  {
   "cell_type": "markdown",
   "metadata": {},
   "source": [
    "## Hypotheses testing. "
   ]
  },
  {
   "cell_type": "markdown",
   "metadata": {},
   "source": [
    "   As part of our project we should test 2 hypotheses: \n",
    "Average user ratings of the Xbox One and PC platforms are the same;\n",
    "Average user ratings of the Action and Sports genres are different.\n",
    "   For this purpose we will use stats.ttest_ind method from scipy library. We'll use α=5%,which means that only in 5% of the case will we reject the null hypothesis when it is true. We use a t-test to test the hypothesis because it is used to compare the means of two groups in order to determine whether two groups are different from one another. "
   ]
  },
  {
   "cell_type": "markdown",
   "metadata": {},
   "source": [
    "### Test 1: Average user ratings of the Xbox One and PC platforms are the same."
   ]
  },
  {
   "cell_type": "markdown",
   "metadata": {},
   "source": [
    "Let's formulate the hypotheses.\n",
    "\n",
    "H0: Average user ratings of the Xbox One and PC platforms are the same.\n",
    "\n",
    "Н1 (alternative hypothesis) - Average user ratings of the Xbox One and PC platforms are different. "
   ]
  },
  {
   "cell_type": "markdown",
   "metadata": {},
   "source": [
    "To perform this test we need to drop tbd and 101 values. "
   ]
  },
  {
   "cell_type": "code",
   "execution_count": 46,
   "metadata": {},
   "outputs": [
    {
     "data": {
      "text/html": [
       "<div>\n",
       "<style scoped>\n",
       "    .dataframe tbody tr th:only-of-type {\n",
       "        vertical-align: middle;\n",
       "    }\n",
       "\n",
       "    .dataframe tbody tr th {\n",
       "        vertical-align: top;\n",
       "    }\n",
       "\n",
       "    .dataframe thead th {\n",
       "        text-align: right;\n",
       "    }\n",
       "</style>\n",
       "<table border=\"1\" class=\"dataframe\">\n",
       "  <thead>\n",
       "    <tr style=\"text-align: right;\">\n",
       "      <th></th>\n",
       "      <th>name</th>\n",
       "      <th>platform</th>\n",
       "      <th>year_of_release</th>\n",
       "      <th>genre</th>\n",
       "      <th>na_sales</th>\n",
       "      <th>eu_sales</th>\n",
       "      <th>jp_sales</th>\n",
       "      <th>other_sales</th>\n",
       "      <th>critic_score</th>\n",
       "      <th>user_score</th>\n",
       "      <th>rating</th>\n",
       "      <th>total_sales</th>\n",
       "    </tr>\n",
       "  </thead>\n",
       "  <tbody>\n",
       "    <tr>\n",
       "      <th>85</th>\n",
       "      <td>The Sims 3</td>\n",
       "      <td>PC</td>\n",
       "      <td>2009</td>\n",
       "      <td>Simulation</td>\n",
       "      <td>0.99</td>\n",
       "      <td>6.42</td>\n",
       "      <td>0.00</td>\n",
       "      <td>0.60</td>\n",
       "      <td>86.0</td>\n",
       "      <td>7.6</td>\n",
       "      <td>T</td>\n",
       "      <td>8.01</td>\n",
       "    </tr>\n",
       "    <tr>\n",
       "      <th>138</th>\n",
       "      <td>World of Warcraft</td>\n",
       "      <td>PC</td>\n",
       "      <td>2004</td>\n",
       "      <td>Role-Playing</td>\n",
       "      <td>0.08</td>\n",
       "      <td>6.21</td>\n",
       "      <td>0.00</td>\n",
       "      <td>0.00</td>\n",
       "      <td>93.0</td>\n",
       "      <td>7.3</td>\n",
       "      <td>T</td>\n",
       "      <td>6.29</td>\n",
       "    </tr>\n",
       "    <tr>\n",
       "      <th>192</th>\n",
       "      <td>Diablo III</td>\n",
       "      <td>PC</td>\n",
       "      <td>2012</td>\n",
       "      <td>Role-Playing</td>\n",
       "      <td>2.44</td>\n",
       "      <td>2.16</td>\n",
       "      <td>0.00</td>\n",
       "      <td>0.54</td>\n",
       "      <td>88.0</td>\n",
       "      <td>4.0</td>\n",
       "      <td>M</td>\n",
       "      <td>5.14</td>\n",
       "    </tr>\n",
       "    <tr>\n",
       "      <th>218</th>\n",
       "      <td>StarCraft II: Wings of Liberty</td>\n",
       "      <td>PC</td>\n",
       "      <td>2010</td>\n",
       "      <td>Strategy</td>\n",
       "      <td>2.57</td>\n",
       "      <td>1.68</td>\n",
       "      <td>0.00</td>\n",
       "      <td>0.58</td>\n",
       "      <td>93.0</td>\n",
       "      <td>8.2</td>\n",
       "      <td>T</td>\n",
       "      <td>4.83</td>\n",
       "    </tr>\n",
       "    <tr>\n",
       "      <th>284</th>\n",
       "      <td>Half-Life</td>\n",
       "      <td>PC</td>\n",
       "      <td>1997</td>\n",
       "      <td>Shooter</td>\n",
       "      <td>4.03</td>\n",
       "      <td>0.00</td>\n",
       "      <td>0.09</td>\n",
       "      <td>0.00</td>\n",
       "      <td>96.0</td>\n",
       "      <td>9.1</td>\n",
       "      <td>M</td>\n",
       "      <td>4.12</td>\n",
       "    </tr>\n",
       "  </tbody>\n",
       "</table>\n",
       "</div>"
      ],
      "text/plain": [
       "                               name platform  year_of_release         genre  \\\n",
       "85                       The Sims 3       PC             2009    Simulation   \n",
       "138               World of Warcraft       PC             2004  Role-Playing   \n",
       "192                      Diablo III       PC             2012  Role-Playing   \n",
       "218  StarCraft II: Wings of Liberty       PC             2010      Strategy   \n",
       "284                       Half-Life       PC             1997       Shooter   \n",
       "\n",
       "     na_sales  eu_sales  jp_sales  other_sales  critic_score  user_score  \\\n",
       "85       0.99      6.42      0.00         0.60          86.0         7.6   \n",
       "138      0.08      6.21      0.00         0.00          93.0         7.3   \n",
       "192      2.44      2.16      0.00         0.54          88.0         4.0   \n",
       "218      2.57      1.68      0.00         0.58          93.0         8.2   \n",
       "284      4.03      0.00      0.09         0.00          96.0         9.1   \n",
       "\n",
       "    rating  total_sales  \n",
       "85       T         8.01  \n",
       "138      T         6.29  \n",
       "192      M         5.14  \n",
       "218      T         4.83  \n",
       "284      M         4.12  "
      ]
     },
     "execution_count": 46,
     "metadata": {},
     "output_type": "execute_result"
    }
   ],
   "source": [
    "x_one = df.query('platform==\"XOne\" and user_score!=\"tbd\" and user_score!=101')\n",
    "pc = df.query('platform==\"PC\" and user_score!=\"tbd\" and user_score!=101')\n",
    "x_one['user_score']=x_one['user_score'].astype('float64')\n",
    "pc['user_score']=pc['user_score'].astype('float64')\n",
    "pc.head()"
   ]
  },
  {
   "cell_type": "code",
   "execution_count": 47,
   "metadata": {},
   "outputs": [
    {
     "name": "stdout",
     "output_type": "stream",
     "text": [
      "p-value: 4.935072360183565e-06\n",
      "We reject the null hypothesis\n"
     ]
    }
   ],
   "source": [
    "from scipy import stats as st\n",
    "\n",
    "x_one = x_one['user_score']\n",
    "pc = pc['user_score']\n",
    "\n",
    "alpha = 0.05\n",
    "\n",
    "results = st.ttest_ind(\n",
    "    x_one, \n",
    "    pc, \n",
    "    equal_var=False)\n",
    "\n",
    "print('p-value:', results.pvalue)\n",
    "\n",
    "if (results.pvalue < alpha):\n",
    "    print(\"We reject the null hypothesis\")\n",
    "else:\n",
    "    print(\"We fail to reject the null hypothesis\")"
   ]
  },
  {
   "cell_type": "markdown",
   "metadata": {},
   "source": [
    "Since the p-value is greater than 0.05, we reject the null hypothesis. The evidence suggests that there is a statistically significant difference between the average user ratings of the Xbox One and PC platforms."
   ]
  },
  {
   "cell_type": "markdown",
   "metadata": {},
   "source": [
    "### Test 2: Average user ratings of the Action and Sports genres are different. "
   ]
  },
  {
   "cell_type": "markdown",
   "metadata": {},
   "source": [
    "H0 (null hypothesis): average user ratings for the Action genre and Sports genre are the same;\n",
    "\n",
    "H1 (alternative hypothesis): average user ratings for the Action genre Sports genre are different. To test the hypothesis we'll arrange the data into 2 datasets: action and sports. "
   ]
  },
  {
   "cell_type": "code",
   "execution_count": 49,
   "metadata": {},
   "outputs": [
    {
     "name": "stdout",
     "output_type": "stream",
     "text": [
      "p-value: 0.11483818791498286\n",
      "We fail to reject the null hypothesis\n"
     ]
    }
   ],
   "source": [
    "action = df.query('genre==\"Action\" and user_score!=\"tbd\" and user_score!=101')\n",
    "sports = df.query('genre==\"Sports\" and user_score!=\"tbd\" and user_score!=101')\n",
    "action['user_score']=action['user_score'].astype('float64')\n",
    "sports['user_score']=sports['user_score'].astype('float64')\n",
    "action = action['user_score']\n",
    "sports = sports['user_score']\n",
    "\n",
    "alpha = 0.05\n",
    "\n",
    "results = st.ttest_ind(\n",
    "    action, \n",
    "    sports, \n",
    "    equal_var=False)\n",
    "\n",
    "print('p-value:', results.pvalue)\n",
    "\n",
    "if (results.pvalue < alpha):\n",
    "    print(\"We reject the null hypothesis\")\n",
    "else:\n",
    "    print(\"We fail to reject the null hypothesis\")"
   ]
  },
  {
   "cell_type": "markdown",
   "metadata": {},
   "source": [
    "Since the p-value is greater than 0.05, we fail to reject the null hypothesis. Our analysis suggest that there is no statistically significant difference between the average user ratings for the Action and Sports genres. "
   ]
  },
  {
   "cell_type": "markdown",
   "metadata": {},
   "source": [
    "## General conclusion."
   ]
  },
  {
   "cell_type": "markdown",
   "metadata": {},
   "source": [
    "we have been provided with the data on video games sales for the period 1985-20016. In the course of our analysis we came to the following conclusins:\n",
    "1. We determined that the average lifespan of the video game platform is 10 years;\n",
    "2. 2 most profitable platforms are XOne и PS4.\n",
    "3. We looked at how user and professional reviews affect sales and didn't find direct relationship between user and professional reviews and total sales\n",
    "4. The most popular genres are action, sports, shooters and role-playing.  \n",
    "5. We observe that the leading platforms are the same from region to region but market shares differ. The PS3 platform is #1 in Europe and Others whereas in Japan this platform is in the 3d place in term of sales. \n",
    "6. The most popular genres in Europe, North America and Other regions are action, sports and shooters genres. Japanese gamers prefer role-playing, action and miscellaneous. \n",
    "7. We discovered that ESRB rating does affect sales in individual regions. In each of the three regions, rating E, T, M, and E10+ got the highest sales. In all three regions, rating RP, AO and EC got the lowest sales. \n",
    "8. In the course of our analysis we tested 2 hypotheses. We have to reject the hypothesis stating that Average user ratings of the Xbox One and PC platforms are the same. \n",
    "9. We confirm that there is no statistically significant difference between the average user ratings for the Action and Sports genres. "
   ]
  },
  {
   "cell_type": "code",
   "execution_count": null,
   "metadata": {},
   "outputs": [],
   "source": []
  }
 ],
 "metadata": {
  "ExecuteTimeLog": [
   {
    "duration": 89,
    "start_time": "2021-09-09T17:47:51.147Z"
   },
   {
    "duration": 635,
    "start_time": "2021-09-09T17:48:03.801Z"
   },
   {
    "duration": 252,
    "start_time": "2021-09-09T17:48:34.519Z"
   },
   {
    "duration": 1375,
    "start_time": "2021-09-09T17:49:06.660Z"
   },
   {
    "duration": 62,
    "start_time": "2021-09-09T17:49:10.809Z"
   },
   {
    "duration": 13,
    "start_time": "2021-09-09T17:49:31.959Z"
   },
   {
    "duration": 11,
    "start_time": "2021-09-09T17:50:04.856Z"
   },
   {
    "duration": 5,
    "start_time": "2021-09-09T17:56:57.969Z"
   },
   {
    "duration": 382,
    "start_time": "2021-09-09T17:57:08.981Z"
   },
   {
    "duration": 224,
    "start_time": "2021-09-09T17:57:33.599Z"
   },
   {
    "duration": 5,
    "start_time": "2021-09-09T18:02:18.303Z"
   },
   {
    "duration": 261,
    "start_time": "2021-09-09T18:02:55.061Z"
   },
   {
    "duration": 252,
    "start_time": "2021-09-09T18:03:57.225Z"
   },
   {
    "duration": 1451,
    "start_time": "2021-09-09T18:04:05.975Z"
   },
   {
    "duration": 66,
    "start_time": "2021-09-09T18:04:07.428Z"
   },
   {
    "duration": 14,
    "start_time": "2021-09-09T18:04:07.497Z"
   },
   {
    "duration": 11,
    "start_time": "2021-09-09T18:04:07.513Z"
   },
   {
    "duration": 4,
    "start_time": "2021-09-09T18:04:07.526Z"
   },
   {
    "duration": 28,
    "start_time": "2021-09-09T18:04:14.806Z"
   },
   {
    "duration": 19,
    "start_time": "2021-09-09T18:04:25.935Z"
   },
   {
    "duration": 1493,
    "start_time": "2021-09-09T18:14:53.404Z"
   },
   {
    "duration": 247,
    "start_time": "2021-09-09T18:15:11.298Z"
   },
   {
    "duration": 5776,
    "start_time": "2021-09-09T18:15:36.406Z"
   },
   {
    "duration": 5761,
    "start_time": "2021-09-09T18:16:10.354Z"
   },
   {
    "duration": 1453,
    "start_time": "2021-09-09T18:16:24.343Z"
   },
   {
    "duration": 65,
    "start_time": "2021-09-09T18:16:25.799Z"
   },
   {
    "duration": 14,
    "start_time": "2021-09-09T18:16:25.867Z"
   },
   {
    "duration": 6607,
    "start_time": "2021-09-09T18:16:25.884Z"
   },
   {
    "duration": -163,
    "start_time": "2021-09-09T18:16:32.656Z"
   },
   {
    "duration": -163,
    "start_time": "2021-09-09T18:16:32.658Z"
   },
   {
    "duration": 14,
    "start_time": "2021-09-09T18:17:52.784Z"
   },
   {
    "duration": 6073,
    "start_time": "2021-09-09T18:25:45.661Z"
   },
   {
    "duration": 8,
    "start_time": "2021-09-09T18:26:05.071Z"
   },
   {
    "duration": 8,
    "start_time": "2021-09-09T18:27:10.384Z"
   },
   {
    "duration": 10,
    "start_time": "2021-09-09T18:27:34.111Z"
   },
   {
    "duration": 10,
    "start_time": "2021-09-09T18:34:08.633Z"
   },
   {
    "duration": 8,
    "start_time": "2021-09-09T18:35:41.591Z"
   },
   {
    "duration": 11,
    "start_time": "2021-09-09T18:36:23.422Z"
   },
   {
    "duration": 20,
    "start_time": "2021-09-09T18:36:55.622Z"
   },
   {
    "duration": 25,
    "start_time": "2021-09-09T18:37:28.947Z"
   },
   {
    "duration": 73,
    "start_time": "2021-09-09T18:46:14.650Z"
   },
   {
    "duration": 1437,
    "start_time": "2021-09-09T18:46:27.105Z"
   },
   {
    "duration": 65,
    "start_time": "2021-09-09T18:46:28.545Z"
   },
   {
    "duration": 15,
    "start_time": "2021-09-09T18:46:28.613Z"
   },
   {
    "duration": 36,
    "start_time": "2021-09-09T18:46:28.630Z"
   },
   {
    "duration": 6,
    "start_time": "2021-09-09T18:46:28.669Z"
   },
   {
    "duration": 21,
    "start_time": "2021-09-09T18:46:28.678Z"
   },
   {
    "duration": 13,
    "start_time": "2021-09-09T18:46:28.702Z"
   },
   {
    "duration": 19,
    "start_time": "2021-09-09T18:46:28.718Z"
   },
   {
    "duration": 23,
    "start_time": "2021-09-09T18:46:28.740Z"
   },
   {
    "duration": 16,
    "start_time": "2021-09-09T18:46:28.765Z"
   },
   {
    "duration": 30,
    "start_time": "2021-09-09T18:46:28.784Z"
   },
   {
    "duration": 34,
    "start_time": "2021-09-09T18:46:28.817Z"
   },
   {
    "duration": 72,
    "start_time": "2021-09-09T18:46:28.854Z"
   },
   {
    "duration": 68,
    "start_time": "2021-09-09T18:46:52.850Z"
   },
   {
    "duration": 29,
    "start_time": "2021-09-09T18:46:58.876Z"
   },
   {
    "duration": 677,
    "start_time": "2021-09-09T18:56:36.340Z"
   },
   {
    "duration": 644,
    "start_time": "2021-09-09T18:56:51.698Z"
   },
   {
    "duration": 656,
    "start_time": "2021-09-09T18:57:34.505Z"
   },
   {
    "duration": 307,
    "start_time": "2021-09-09T22:59:51.875Z"
   },
   {
    "duration": 318,
    "start_time": "2021-09-09T23:00:35.042Z"
   },
   {
    "duration": 1074,
    "start_time": "2021-09-09T23:00:48.120Z"
   },
   {
    "duration": 48,
    "start_time": "2021-09-09T23:00:49.195Z"
   },
   {
    "duration": 9,
    "start_time": "2021-09-09T23:00:49.246Z"
   },
   {
    "duration": 10,
    "start_time": "2021-09-09T23:00:49.257Z"
   },
   {
    "duration": 17,
    "start_time": "2021-09-09T23:00:49.269Z"
   },
   {
    "duration": 11,
    "start_time": "2021-09-09T23:00:49.288Z"
   },
   {
    "duration": 4,
    "start_time": "2021-09-09T23:00:49.300Z"
   },
   {
    "duration": 8,
    "start_time": "2021-09-09T23:00:49.306Z"
   },
   {
    "duration": 4,
    "start_time": "2021-09-09T23:00:49.317Z"
   },
   {
    "duration": 9,
    "start_time": "2021-09-09T23:00:49.323Z"
   },
   {
    "duration": 12,
    "start_time": "2021-09-09T23:00:49.333Z"
   },
   {
    "duration": 47,
    "start_time": "2021-09-09T23:00:49.347Z"
   },
   {
    "duration": 15,
    "start_time": "2021-09-09T23:00:49.396Z"
   },
   {
    "duration": 444,
    "start_time": "2021-09-09T23:00:49.413Z"
   },
   {
    "duration": 344,
    "start_time": "2021-09-09T23:00:49.859Z"
   },
   {
    "duration": 3,
    "start_time": "2021-09-09T23:01:19.980Z"
   },
   {
    "duration": 5,
    "start_time": "2021-09-09T23:02:07.369Z"
   },
   {
    "duration": 7,
    "start_time": "2021-09-09T23:02:19.082Z"
   },
   {
    "duration": 279,
    "start_time": "2021-09-09T23:04:08.108Z"
   },
   {
    "duration": 277,
    "start_time": "2021-09-09T23:04:39.972Z"
   },
   {
    "duration": 279,
    "start_time": "2021-09-09T23:05:09.408Z"
   },
   {
    "duration": 11,
    "start_time": "2021-09-09T23:05:26.989Z"
   },
   {
    "duration": 12,
    "start_time": "2021-09-09T23:06:32.390Z"
   },
   {
    "duration": 1128,
    "start_time": "2021-09-09T23:07:00.309Z"
   },
   {
    "duration": 51,
    "start_time": "2021-09-09T23:07:01.439Z"
   },
   {
    "duration": 10,
    "start_time": "2021-09-09T23:07:01.492Z"
   },
   {
    "duration": 17,
    "start_time": "2021-09-09T23:07:01.504Z"
   },
   {
    "duration": 20,
    "start_time": "2021-09-09T23:07:01.523Z"
   },
   {
    "duration": 18,
    "start_time": "2021-09-09T23:07:01.545Z"
   },
   {
    "duration": 9,
    "start_time": "2021-09-09T23:07:01.565Z"
   },
   {
    "duration": 23,
    "start_time": "2021-09-09T23:07:01.575Z"
   },
   {
    "duration": 13,
    "start_time": "2021-09-09T23:07:01.601Z"
   },
   {
    "duration": 22,
    "start_time": "2021-09-09T23:07:01.616Z"
   },
   {
    "duration": 36,
    "start_time": "2021-09-09T23:07:01.640Z"
   },
   {
    "duration": 33,
    "start_time": "2021-09-09T23:07:01.678Z"
   },
   {
    "duration": 25,
    "start_time": "2021-09-09T23:07:01.712Z"
   },
   {
    "duration": 432,
    "start_time": "2021-09-09T23:07:01.738Z"
   },
   {
    "duration": 16,
    "start_time": "2021-09-09T23:07:02.172Z"
   },
   {
    "duration": 381,
    "start_time": "2021-09-09T23:08:22.563Z"
   },
   {
    "duration": 13,
    "start_time": "2021-09-09T23:08:33.437Z"
   },
   {
    "duration": 14,
    "start_time": "2021-09-09T23:09:26.134Z"
   },
   {
    "duration": 9,
    "start_time": "2021-09-09T23:10:49.913Z"
   },
   {
    "duration": 11,
    "start_time": "2021-09-09T23:11:11.808Z"
   },
   {
    "duration": 8,
    "start_time": "2021-09-09T23:11:32.867Z"
   },
   {
    "duration": 1102,
    "start_time": "2021-09-09T23:18:42.916Z"
   },
   {
    "duration": 49,
    "start_time": "2021-09-09T23:18:44.019Z"
   },
   {
    "duration": 10,
    "start_time": "2021-09-09T23:18:44.069Z"
   },
   {
    "duration": 8,
    "start_time": "2021-09-09T23:18:44.084Z"
   },
   {
    "duration": 4,
    "start_time": "2021-09-09T23:18:44.094Z"
   },
   {
    "duration": 8,
    "start_time": "2021-09-09T23:18:44.100Z"
   },
   {
    "duration": 4,
    "start_time": "2021-09-09T23:18:44.109Z"
   },
   {
    "duration": 7,
    "start_time": "2021-09-09T23:18:44.115Z"
   },
   {
    "duration": 8,
    "start_time": "2021-09-09T23:18:44.123Z"
   },
   {
    "duration": 6,
    "start_time": "2021-09-09T23:18:44.132Z"
   },
   {
    "duration": 46,
    "start_time": "2021-09-09T23:18:44.139Z"
   },
   {
    "duration": 15,
    "start_time": "2021-09-09T23:18:44.187Z"
   },
   {
    "duration": 15,
    "start_time": "2021-09-09T23:18:44.204Z"
   },
   {
    "duration": 445,
    "start_time": "2021-09-09T23:18:44.221Z"
   },
   {
    "duration": 9,
    "start_time": "2021-09-09T23:18:44.668Z"
   },
   {
    "duration": 302,
    "start_time": "2021-09-09T23:23:47.913Z"
   },
   {
    "duration": 1132,
    "start_time": "2021-09-09T23:24:18.389Z"
   },
   {
    "duration": 49,
    "start_time": "2021-09-09T23:24:19.523Z"
   },
   {
    "duration": 14,
    "start_time": "2021-09-09T23:24:19.575Z"
   },
   {
    "duration": 9,
    "start_time": "2021-09-09T23:24:19.591Z"
   },
   {
    "duration": 6,
    "start_time": "2021-09-09T23:24:19.602Z"
   },
   {
    "duration": 6,
    "start_time": "2021-09-09T23:24:19.610Z"
   },
   {
    "duration": 5,
    "start_time": "2021-09-09T23:24:19.618Z"
   },
   {
    "duration": 7,
    "start_time": "2021-09-09T23:24:19.626Z"
   },
   {
    "duration": 51,
    "start_time": "2021-09-09T23:24:19.635Z"
   },
   {
    "duration": 8,
    "start_time": "2021-09-09T23:24:19.687Z"
   },
   {
    "duration": 13,
    "start_time": "2021-09-09T23:24:19.697Z"
   },
   {
    "duration": 17,
    "start_time": "2021-09-09T23:24:19.712Z"
   },
   {
    "duration": 15,
    "start_time": "2021-09-09T23:24:19.731Z"
   },
   {
    "duration": 467,
    "start_time": "2021-09-09T23:24:19.748Z"
   },
   {
    "duration": 13,
    "start_time": "2021-09-09T23:24:20.216Z"
   },
   {
    "duration": 916,
    "start_time": "2021-09-09T23:35:30.178Z"
   },
   {
    "duration": 264,
    "start_time": "2021-09-09T23:36:50.964Z"
   },
   {
    "duration": 1100,
    "start_time": "2021-09-09T23:37:20.121Z"
   },
   {
    "duration": 50,
    "start_time": "2021-09-09T23:37:21.223Z"
   },
   {
    "duration": 9,
    "start_time": "2021-09-09T23:37:21.275Z"
   },
   {
    "duration": 9,
    "start_time": "2021-09-09T23:37:21.286Z"
   },
   {
    "duration": 7,
    "start_time": "2021-09-09T23:37:21.296Z"
   },
   {
    "duration": 7,
    "start_time": "2021-09-09T23:37:21.305Z"
   },
   {
    "duration": 5,
    "start_time": "2021-09-09T23:37:21.313Z"
   },
   {
    "duration": 11,
    "start_time": "2021-09-09T23:37:21.320Z"
   },
   {
    "duration": 7,
    "start_time": "2021-09-09T23:37:21.332Z"
   },
   {
    "duration": 6,
    "start_time": "2021-09-09T23:37:21.340Z"
   },
   {
    "duration": 39,
    "start_time": "2021-09-09T23:37:21.347Z"
   },
   {
    "duration": 17,
    "start_time": "2021-09-09T23:37:21.387Z"
   },
   {
    "duration": 15,
    "start_time": "2021-09-09T23:37:21.406Z"
   },
   {
    "duration": 447,
    "start_time": "2021-09-09T23:37:21.423Z"
   },
   {
    "duration": 350,
    "start_time": "2021-09-09T23:37:21.872Z"
   },
   {
    "duration": 589,
    "start_time": "2021-09-09T23:37:21.636Z"
   },
   {
    "duration": 9,
    "start_time": "2021-09-09T23:37:38.008Z"
   },
   {
    "duration": 402,
    "start_time": "2021-09-09T23:38:17.117Z"
   },
   {
    "duration": 7684,
    "start_time": "2021-09-09T23:41:11.719Z"
   },
   {
    "duration": 264,
    "start_time": "2021-09-09T23:41:27.193Z"
   },
   {
    "duration": 1155,
    "start_time": "2021-09-09T23:46:00.158Z"
   },
   {
    "duration": 49,
    "start_time": "2021-09-09T23:46:01.315Z"
   },
   {
    "duration": 9,
    "start_time": "2021-09-09T23:46:01.366Z"
   },
   {
    "duration": 13,
    "start_time": "2021-09-09T23:46:01.377Z"
   },
   {
    "duration": 7,
    "start_time": "2021-09-09T23:46:01.392Z"
   },
   {
    "duration": 17,
    "start_time": "2021-09-09T23:46:01.400Z"
   },
   {
    "duration": 14,
    "start_time": "2021-09-09T23:46:01.419Z"
   },
   {
    "duration": 35,
    "start_time": "2021-09-09T23:46:01.435Z"
   },
   {
    "duration": 15,
    "start_time": "2021-09-09T23:46:01.472Z"
   },
   {
    "duration": 8,
    "start_time": "2021-09-09T23:46:01.489Z"
   },
   {
    "duration": 19,
    "start_time": "2021-09-09T23:46:01.498Z"
   },
   {
    "duration": 22,
    "start_time": "2021-09-09T23:46:01.518Z"
   },
   {
    "duration": 31,
    "start_time": "2021-09-09T23:46:01.542Z"
   },
   {
    "duration": 433,
    "start_time": "2021-09-09T23:46:01.575Z"
   },
   {
    "duration": 10,
    "start_time": "2021-09-09T23:46:02.009Z"
   },
   {
    "duration": 372,
    "start_time": "2021-09-09T23:46:02.021Z"
   },
   {
    "duration": 316,
    "start_time": "2021-09-09T23:51:23.896Z"
   },
   {
    "duration": 1109,
    "start_time": "2021-09-09T23:51:35.621Z"
   },
   {
    "duration": 49,
    "start_time": "2021-09-09T23:51:36.732Z"
   },
   {
    "duration": 10,
    "start_time": "2021-09-09T23:51:36.783Z"
   },
   {
    "duration": 30,
    "start_time": "2021-09-09T23:51:36.794Z"
   },
   {
    "duration": 13,
    "start_time": "2021-09-09T23:51:36.825Z"
   },
   {
    "duration": 16,
    "start_time": "2021-09-09T23:51:36.840Z"
   },
   {
    "duration": 26,
    "start_time": "2021-09-09T23:51:36.858Z"
   },
   {
    "duration": 17,
    "start_time": "2021-09-09T23:51:36.885Z"
   },
   {
    "duration": 26,
    "start_time": "2021-09-09T23:51:36.904Z"
   },
   {
    "duration": 19,
    "start_time": "2021-09-09T23:51:36.932Z"
   },
   {
    "duration": 29,
    "start_time": "2021-09-09T23:51:36.952Z"
   },
   {
    "duration": 41,
    "start_time": "2021-09-09T23:51:36.982Z"
   },
   {
    "duration": 32,
    "start_time": "2021-09-09T23:51:37.025Z"
   },
   {
    "duration": 438,
    "start_time": "2021-09-09T23:51:37.058Z"
   },
   {
    "duration": 347,
    "start_time": "2021-09-09T23:51:37.498Z"
   },
   {
    "duration": 599,
    "start_time": "2021-09-09T23:51:37.248Z"
   },
   {
    "duration": 8,
    "start_time": "2021-09-09T23:51:54.674Z"
   },
   {
    "duration": 278,
    "start_time": "2021-09-09T23:52:25.711Z"
   },
   {
    "duration": 9,
    "start_time": "2021-09-09T23:52:29.890Z"
   },
   {
    "duration": 368,
    "start_time": "2021-09-09T23:52:49.302Z"
   },
   {
    "duration": 7,
    "start_time": "2021-09-09T23:53:18.189Z"
   },
   {
    "duration": 375,
    "start_time": "2021-09-09T23:53:23.957Z"
   },
   {
    "duration": 432,
    "start_time": "2021-09-10T18:45:09.026Z"
   },
   {
    "duration": 1498,
    "start_time": "2021-09-10T18:45:26.782Z"
   },
   {
    "duration": 74,
    "start_time": "2021-09-10T18:45:28.283Z"
   },
   {
    "duration": 14,
    "start_time": "2021-09-10T18:45:28.361Z"
   },
   {
    "duration": 11,
    "start_time": "2021-09-10T18:45:28.378Z"
   },
   {
    "duration": 31,
    "start_time": "2021-09-10T18:45:28.392Z"
   },
   {
    "duration": 8,
    "start_time": "2021-09-10T18:45:28.425Z"
   },
   {
    "duration": 8,
    "start_time": "2021-09-10T18:45:28.435Z"
   },
   {
    "duration": 10,
    "start_time": "2021-09-10T18:45:28.447Z"
   },
   {
    "duration": 8,
    "start_time": "2021-09-10T18:45:28.459Z"
   },
   {
    "duration": 11,
    "start_time": "2021-09-10T18:45:28.518Z"
   },
   {
    "duration": 22,
    "start_time": "2021-09-10T18:45:28.532Z"
   },
   {
    "duration": 64,
    "start_time": "2021-09-10T18:45:28.556Z"
   },
   {
    "duration": 30,
    "start_time": "2021-09-10T18:45:28.623Z"
   },
   {
    "duration": 694,
    "start_time": "2021-09-10T18:45:28.656Z"
   },
   {
    "duration": 12,
    "start_time": "2021-09-10T18:45:29.353Z"
   },
   {
    "duration": 732,
    "start_time": "2021-09-10T18:45:29.368Z"
   },
   {
    "duration": 10503,
    "start_time": "2021-09-10T18:45:30.115Z"
   },
   {
    "duration": 10427,
    "start_time": "2021-09-10T18:46:58.120Z"
   },
   {
    "duration": 371,
    "start_time": "2021-09-10T18:47:37.393Z"
   },
   {
    "duration": 5,
    "start_time": "2021-09-10T18:47:50.239Z"
   },
   {
    "duration": 7,
    "start_time": "2021-09-10T18:48:06.913Z"
   },
   {
    "duration": 10557,
    "start_time": "2021-09-10T18:48:41.781Z"
   },
   {
    "duration": 388,
    "start_time": "2021-09-10T18:52:44.875Z"
   },
   {
    "duration": 392,
    "start_time": "2021-09-10T18:52:55.432Z"
   },
   {
    "duration": 9,
    "start_time": "2021-09-10T18:53:21.073Z"
   },
   {
    "duration": 17,
    "start_time": "2021-09-10T18:53:32.988Z"
   },
   {
    "duration": 468,
    "start_time": "2021-09-10T18:59:55.921Z"
   },
   {
    "duration": 50,
    "start_time": "2021-09-10T19:00:24.375Z"
   },
   {
    "duration": 50,
    "start_time": "2021-09-10T19:01:41.288Z"
   },
   {
    "duration": 380,
    "start_time": "2021-09-10T19:02:18.102Z"
   },
   {
    "duration": 391,
    "start_time": "2021-09-10T19:03:14.445Z"
   },
   {
    "duration": 6,
    "start_time": "2021-09-10T19:03:21.348Z"
   },
   {
    "duration": 7,
    "start_time": "2021-09-10T19:03:26.587Z"
   },
   {
    "duration": 389,
    "start_time": "2021-09-10T19:04:11.646Z"
   },
   {
    "duration": 374,
    "start_time": "2021-09-10T19:04:25.230Z"
   },
   {
    "duration": 1481,
    "start_time": "2021-09-10T19:04:43.012Z"
   },
   {
    "duration": 87,
    "start_time": "2021-09-10T19:04:44.495Z"
   },
   {
    "duration": 14,
    "start_time": "2021-09-10T19:04:44.585Z"
   },
   {
    "duration": 25,
    "start_time": "2021-09-10T19:04:44.602Z"
   },
   {
    "duration": 14,
    "start_time": "2021-09-10T19:04:44.630Z"
   },
   {
    "duration": 22,
    "start_time": "2021-09-10T19:04:44.647Z"
   },
   {
    "duration": 9,
    "start_time": "2021-09-10T19:04:44.672Z"
   },
   {
    "duration": 46,
    "start_time": "2021-09-10T19:04:44.684Z"
   },
   {
    "duration": 17,
    "start_time": "2021-09-10T19:04:44.736Z"
   },
   {
    "duration": 11,
    "start_time": "2021-09-10T19:04:44.756Z"
   },
   {
    "duration": 36,
    "start_time": "2021-09-10T19:04:44.770Z"
   },
   {
    "duration": 32,
    "start_time": "2021-09-10T19:04:44.808Z"
   },
   {
    "duration": 28,
    "start_time": "2021-09-10T19:04:44.842Z"
   },
   {
    "duration": 702,
    "start_time": "2021-09-10T19:04:44.872Z"
   },
   {
    "duration": 9,
    "start_time": "2021-09-10T19:04:45.577Z"
   },
   {
    "duration": 635,
    "start_time": "2021-09-10T19:04:45.589Z"
   },
   {
    "duration": 497,
    "start_time": "2021-09-10T19:04:46.226Z"
   },
   {
    "duration": -62,
    "start_time": "2021-09-10T19:04:46.787Z"
   },
   {
    "duration": 369,
    "start_time": "2021-09-10T19:04:58.072Z"
   },
   {
    "duration": 379,
    "start_time": "2021-09-10T19:05:10.592Z"
   },
   {
    "duration": 382,
    "start_time": "2021-09-10T19:05:51.986Z"
   },
   {
    "duration": 18,
    "start_time": "2021-09-10T19:06:42.665Z"
   },
   {
    "duration": 376,
    "start_time": "2021-09-10T19:08:48.590Z"
   },
   {
    "duration": 382,
    "start_time": "2021-09-10T19:09:22.980Z"
   },
   {
    "duration": 404,
    "start_time": "2021-09-10T19:10:01.070Z"
   },
   {
    "duration": 6,
    "start_time": "2021-09-10T19:10:26.253Z"
   },
   {
    "duration": 6,
    "start_time": "2021-09-10T19:15:13.949Z"
   },
   {
    "duration": 90,
    "start_time": "2021-09-10T19:15:34.514Z"
   },
   {
    "duration": 6,
    "start_time": "2021-09-10T19:16:24.336Z"
   },
   {
    "duration": 389,
    "start_time": "2021-09-10T19:25:30.383Z"
   },
   {
    "duration": 384,
    "start_time": "2021-09-10T19:26:08.210Z"
   },
   {
    "duration": 347,
    "start_time": "2021-09-10T19:27:05.589Z"
   },
   {
    "duration": 287,
    "start_time": "2021-09-10T19:27:56.634Z"
   },
   {
    "duration": 392,
    "start_time": "2021-09-10T19:29:38.480Z"
   },
   {
    "duration": 354,
    "start_time": "2021-09-10T19:29:46.529Z"
   },
   {
    "duration": 386,
    "start_time": "2021-09-10T19:33:12.386Z"
   },
   {
    "duration": 410,
    "start_time": "2021-09-10T19:33:19.304Z"
   },
   {
    "duration": 296,
    "start_time": "2021-09-10T19:35:26.441Z"
   },
   {
    "duration": 315,
    "start_time": "2021-09-10T19:35:38.082Z"
   },
   {
    "duration": 395,
    "start_time": "2021-09-10T19:39:07.072Z"
   },
   {
    "duration": 9,
    "start_time": "2021-09-10T19:39:25.577Z"
   },
   {
    "duration": 11,
    "start_time": "2021-09-10T19:39:42.257Z"
   },
   {
    "duration": 324,
    "start_time": "2021-09-10T19:40:50.633Z"
   },
   {
    "duration": 344,
    "start_time": "2021-09-10T19:41:49.702Z"
   },
   {
    "duration": 368,
    "start_time": "2021-09-10T19:42:42.489Z"
   },
   {
    "duration": 393,
    "start_time": "2021-09-10T19:43:56.912Z"
   },
   {
    "duration": 346,
    "start_time": "2021-09-10T19:46:47.796Z"
   },
   {
    "duration": 287,
    "start_time": "2021-09-10T19:47:11.233Z"
   },
   {
    "duration": 562,
    "start_time": "2021-09-10T19:48:06.246Z"
   },
   {
    "duration": 542,
    "start_time": "2021-09-10T19:48:18.247Z"
   },
   {
    "duration": 564,
    "start_time": "2021-09-10T19:50:35.791Z"
   },
   {
    "duration": 312,
    "start_time": "2021-09-10T19:51:06.537Z"
   },
   {
    "duration": 360,
    "start_time": "2021-09-10T19:51:33.700Z"
   },
   {
    "duration": 292,
    "start_time": "2021-09-10T19:53:08.483Z"
   },
   {
    "duration": 8629,
    "start_time": "2021-09-10T19:55:03.014Z"
   },
   {
    "duration": 322,
    "start_time": "2021-09-10T19:55:16.522Z"
   },
   {
    "duration": 137,
    "start_time": "2021-09-10T19:56:39.530Z"
   },
   {
    "duration": 202,
    "start_time": "2021-09-10T19:56:52.269Z"
   },
   {
    "duration": 301,
    "start_time": "2021-09-10T19:57:22.853Z"
   },
   {
    "duration": 1426,
    "start_time": "2021-09-10T19:59:23.455Z"
   },
   {
    "duration": 70,
    "start_time": "2021-09-10T19:59:24.883Z"
   },
   {
    "duration": 15,
    "start_time": "2021-09-10T19:59:24.957Z"
   },
   {
    "duration": 40,
    "start_time": "2021-09-10T19:59:24.976Z"
   },
   {
    "duration": 8,
    "start_time": "2021-09-10T19:59:25.019Z"
   },
   {
    "duration": 15,
    "start_time": "2021-09-10T19:59:25.030Z"
   },
   {
    "duration": 14,
    "start_time": "2021-09-10T19:59:25.048Z"
   },
   {
    "duration": 18,
    "start_time": "2021-09-10T19:59:25.066Z"
   },
   {
    "duration": 32,
    "start_time": "2021-09-10T19:59:25.088Z"
   },
   {
    "duration": 10,
    "start_time": "2021-09-10T19:59:25.122Z"
   },
   {
    "duration": 29,
    "start_time": "2021-09-10T19:59:25.134Z"
   },
   {
    "duration": 31,
    "start_time": "2021-09-10T19:59:25.166Z"
   },
   {
    "duration": 29,
    "start_time": "2021-09-10T19:59:25.216Z"
   },
   {
    "duration": 707,
    "start_time": "2021-09-10T19:59:25.248Z"
   },
   {
    "duration": 11,
    "start_time": "2021-09-10T19:59:25.957Z"
   },
   {
    "duration": 629,
    "start_time": "2021-09-10T19:59:25.971Z"
   },
   {
    "duration": 15,
    "start_time": "2021-09-10T19:59:26.603Z"
   },
   {
    "duration": 106,
    "start_time": "2021-09-10T19:59:26.620Z"
   },
   {
    "duration": 3264,
    "start_time": "2021-09-10T19:59:26.728Z"
   },
   {
    "duration": 402,
    "start_time": "2021-09-10T19:59:29.994Z"
   },
   {
    "duration": 3221,
    "start_time": "2021-09-10T19:59:48.090Z"
   },
   {
    "duration": 407,
    "start_time": "2021-09-10T19:59:53.630Z"
   },
   {
    "duration": 3217,
    "start_time": "2021-09-10T20:00:59.280Z"
   },
   {
    "duration": 484,
    "start_time": "2021-09-10T20:01:03.624Z"
   },
   {
    "duration": 396,
    "start_time": "2021-09-10T20:01:24.569Z"
   },
   {
    "duration": 422,
    "start_time": "2021-09-10T20:02:24.181Z"
   },
   {
    "duration": 423,
    "start_time": "2021-09-10T20:02:58.980Z"
   },
   {
    "duration": 865,
    "start_time": "2021-09-10T20:03:24.512Z"
   },
   {
    "duration": 422,
    "start_time": "2021-09-10T20:03:33.064Z"
   },
   {
    "duration": 486,
    "start_time": "2021-09-10T20:12:15.170Z"
   },
   {
    "duration": 427,
    "start_time": "2021-09-10T20:12:49.574Z"
   },
   {
    "duration": 434,
    "start_time": "2021-09-10T20:15:13.630Z"
   },
   {
    "duration": 407,
    "start_time": "2021-09-10T20:15:33.079Z"
   },
   {
    "duration": 415,
    "start_time": "2021-09-10T20:15:45.607Z"
   },
   {
    "duration": 554,
    "start_time": "2021-09-10T20:15:59.510Z"
   },
   {
    "duration": 461,
    "start_time": "2021-09-10T20:18:40.044Z"
   },
   {
    "duration": 17,
    "start_time": "2021-09-10T20:19:27.663Z"
   },
   {
    "duration": 425,
    "start_time": "2021-09-10T20:21:38.208Z"
   },
   {
    "duration": 603,
    "start_time": "2021-09-10T20:22:07.962Z"
   },
   {
    "duration": 585,
    "start_time": "2021-09-10T20:22:39.907Z"
   },
   {
    "duration": 376,
    "start_time": "2021-09-10T21:02:37.606Z"
   },
   {
    "duration": 17,
    "start_time": "2021-09-10T21:03:27.234Z"
   },
   {
    "duration": 18,
    "start_time": "2021-09-10T21:03:50.019Z"
   },
   {
    "duration": 966,
    "start_time": "2021-09-10T21:06:08.824Z"
   },
   {
    "duration": 526,
    "start_time": "2021-09-10T21:06:21.590Z"
   },
   {
    "duration": 551,
    "start_time": "2021-09-10T21:07:03.493Z"
   },
   {
    "duration": 543,
    "start_time": "2021-09-10T21:07:13.907Z"
   },
   {
    "duration": 568,
    "start_time": "2021-09-10T21:07:49.525Z"
   },
   {
    "duration": 576,
    "start_time": "2021-09-10T21:07:58.078Z"
   },
   {
    "duration": 390,
    "start_time": "2021-09-10T21:12:08.909Z"
   },
   {
    "duration": 21,
    "start_time": "2021-09-10T21:12:37.388Z"
   },
   {
    "duration": 51,
    "start_time": "2021-09-10T21:13:26.827Z"
   },
   {
    "duration": 376,
    "start_time": "2021-09-10T21:14:27.231Z"
   },
   {
    "duration": 52,
    "start_time": "2021-09-10T21:14:40.283Z"
   },
   {
    "duration": 8696,
    "start_time": "2021-09-10T21:27:46.545Z"
   },
   {
    "duration": 371,
    "start_time": "2021-09-10T21:30:09.342Z"
   },
   {
    "duration": 20,
    "start_time": "2021-09-10T21:30:28.975Z"
   },
   {
    "duration": 17,
    "start_time": "2021-09-10T21:30:50.501Z"
   },
   {
    "duration": 1796,
    "start_time": "2021-09-10T21:34:37.439Z"
   },
   {
    "duration": 1136,
    "start_time": "2021-09-10T21:35:00.402Z"
   },
   {
    "duration": 1815,
    "start_time": "2021-09-10T21:35:23.034Z"
   },
   {
    "duration": 2698,
    "start_time": "2021-09-10T21:36:18.775Z"
   },
   {
    "duration": 2646,
    "start_time": "2021-09-10T21:36:42.786Z"
   },
   {
    "duration": 405,
    "start_time": "2021-09-10T21:37:47.118Z"
   },
   {
    "duration": 407,
    "start_time": "2021-09-10T21:38:17.593Z"
   },
   {
    "duration": 845,
    "start_time": "2021-09-10T21:38:29.443Z"
   },
   {
    "duration": 2856,
    "start_time": "2021-09-10T21:38:49.014Z"
   },
   {
    "duration": 2611,
    "start_time": "2021-09-10T21:39:07.982Z"
   },
   {
    "duration": 404,
    "start_time": "2021-09-10T21:44:17.223Z"
   },
   {
    "duration": 417,
    "start_time": "2021-09-10T21:47:40.827Z"
   },
   {
    "duration": 408,
    "start_time": "2021-09-10T21:47:55.997Z"
   },
   {
    "duration": 1478,
    "start_time": "2021-09-10T21:48:38.807Z"
   },
   {
    "duration": 65,
    "start_time": "2021-09-10T21:48:40.287Z"
   },
   {
    "duration": 12,
    "start_time": "2021-09-10T21:48:40.355Z"
   },
   {
    "duration": 11,
    "start_time": "2021-09-10T21:48:40.370Z"
   },
   {
    "duration": 6,
    "start_time": "2021-09-10T21:48:40.384Z"
   },
   {
    "duration": 7,
    "start_time": "2021-09-10T21:48:40.417Z"
   },
   {
    "duration": 8,
    "start_time": "2021-09-10T21:48:40.426Z"
   },
   {
    "duration": 10,
    "start_time": "2021-09-10T21:48:40.436Z"
   },
   {
    "duration": 7,
    "start_time": "2021-09-10T21:48:40.450Z"
   },
   {
    "duration": 59,
    "start_time": "2021-09-10T21:48:40.460Z"
   },
   {
    "duration": 20,
    "start_time": "2021-09-10T21:48:40.522Z"
   },
   {
    "duration": 26,
    "start_time": "2021-09-10T21:48:40.544Z"
   },
   {
    "duration": 53,
    "start_time": "2021-09-10T21:48:40.572Z"
   },
   {
    "duration": 682,
    "start_time": "2021-09-10T21:48:40.627Z"
   },
   {
    "duration": 11,
    "start_time": "2021-09-10T21:48:41.312Z"
   },
   {
    "duration": 616,
    "start_time": "2021-09-10T21:48:41.325Z"
   },
   {
    "duration": 17,
    "start_time": "2021-09-10T21:48:41.944Z"
   },
   {
    "duration": 539,
    "start_time": "2021-09-10T21:48:41.963Z"
   },
   {
    "duration": -36,
    "start_time": "2021-09-10T21:48:42.541Z"
   },
   {
    "duration": 3608,
    "start_time": "2021-09-10T21:49:29.940Z"
   },
   {
    "duration": 19,
    "start_time": "2021-09-10T21:50:31.351Z"
   },
   {
    "duration": 37,
    "start_time": "2021-09-10T21:50:58.397Z"
   },
   {
    "duration": 587,
    "start_time": "2021-09-10T21:51:26.117Z"
   },
   {
    "duration": 401,
    "start_time": "2021-09-10T21:52:36.993Z"
   },
   {
    "duration": 642,
    "start_time": "2021-09-10T21:52:49.730Z"
   },
   {
    "duration": 596,
    "start_time": "2021-09-10T21:54:49.756Z"
   },
   {
    "duration": 596,
    "start_time": "2021-09-10T21:55:04.404Z"
   },
   {
    "duration": 536,
    "start_time": "2021-09-10T21:56:47.611Z"
   },
   {
    "duration": 998,
    "start_time": "2021-09-10T21:58:42.772Z"
   },
   {
    "duration": 591,
    "start_time": "2021-09-10T21:58:57.616Z"
   },
   {
    "duration": 1149,
    "start_time": "2021-09-10T21:59:12.786Z"
   },
   {
    "duration": 990,
    "start_time": "2021-09-10T21:59:23.478Z"
   },
   {
    "duration": 1070,
    "start_time": "2021-09-10T21:59:34.139Z"
   },
   {
    "duration": 594,
    "start_time": "2021-09-10T21:59:44.350Z"
   },
   {
    "duration": 592,
    "start_time": "2021-09-10T22:05:18.054Z"
   },
   {
    "duration": 678,
    "start_time": "2021-09-10T22:05:45.462Z"
   },
   {
    "duration": 604,
    "start_time": "2021-09-10T22:06:12.191Z"
   },
   {
    "duration": 744,
    "start_time": "2021-09-10T22:06:56.745Z"
   },
   {
    "duration": 400,
    "start_time": "2021-09-10T22:07:57.484Z"
   },
   {
    "duration": 776,
    "start_time": "2021-09-10T22:08:09.320Z"
   },
   {
    "duration": 742,
    "start_time": "2021-09-10T22:08:44.297Z"
   },
   {
    "duration": 823,
    "start_time": "2021-09-10T22:09:04.678Z"
   },
   {
    "duration": 748,
    "start_time": "2021-09-10T22:11:04.122Z"
   },
   {
    "duration": 435,
    "start_time": "2021-09-10T22:12:17.659Z"
   },
   {
    "duration": 773,
    "start_time": "2021-09-10T22:12:28.504Z"
   },
   {
    "duration": 273,
    "start_time": "2021-09-10T22:21:14.524Z"
   },
   {
    "duration": 791,
    "start_time": "2021-09-10T22:21:33.413Z"
   },
   {
    "duration": 11,
    "start_time": "2021-09-10T22:25:43.772Z"
   },
   {
    "duration": 3083,
    "start_time": "2021-09-10T22:26:57.218Z"
   },
   {
    "duration": 776,
    "start_time": "2021-09-10T22:27:18.798Z"
   },
   {
    "duration": 31,
    "start_time": "2021-09-10T22:27:30.465Z"
   },
   {
    "duration": 3962,
    "start_time": "2021-09-10T22:27:42.637Z"
   },
   {
    "duration": 14,
    "start_time": "2021-09-10T22:29:00.450Z"
   },
   {
    "duration": 133,
    "start_time": "2021-09-10T22:29:15.977Z"
   },
   {
    "duration": 9,
    "start_time": "2021-09-10T22:29:21.495Z"
   },
   {
    "duration": 8,
    "start_time": "2021-09-10T22:29:38.592Z"
   },
   {
    "duration": 15,
    "start_time": "2021-09-10T22:31:04.288Z"
   },
   {
    "duration": 43,
    "start_time": "2021-09-10T22:31:30.198Z"
   },
   {
    "duration": 15,
    "start_time": "2021-09-10T22:32:48.375Z"
   },
   {
    "duration": 9,
    "start_time": "2021-09-10T22:33:42.265Z"
   },
   {
    "duration": 13,
    "start_time": "2021-09-10T22:33:52.210Z"
   },
   {
    "duration": 386,
    "start_time": "2021-09-10T22:34:12.546Z"
   },
   {
    "duration": 13,
    "start_time": "2021-09-10T22:34:25.800Z"
   },
   {
    "duration": 6,
    "start_time": "2021-09-10T22:35:22.348Z"
   },
   {
    "duration": 13,
    "start_time": "2021-09-10T22:35:51.047Z"
   },
   {
    "duration": 6,
    "start_time": "2021-09-10T22:39:36.776Z"
   },
   {
    "duration": 13,
    "start_time": "2021-09-10T22:39:46.821Z"
   },
   {
    "duration": 8,
    "start_time": "2021-09-10T22:40:56.957Z"
   },
   {
    "duration": 16,
    "start_time": "2021-09-10T22:41:50.377Z"
   },
   {
    "duration": 395,
    "start_time": "2021-09-10T22:42:00.578Z"
   },
   {
    "duration": 382,
    "start_time": "2021-09-10T22:42:17.001Z"
   },
   {
    "duration": 368,
    "start_time": "2021-09-10T22:42:28.978Z"
   },
   {
    "duration": 390,
    "start_time": "2021-09-10T22:42:31.970Z"
   },
   {
    "duration": 1452,
    "start_time": "2021-09-10T22:42:45.219Z"
   },
   {
    "duration": 69,
    "start_time": "2021-09-10T22:42:46.674Z"
   },
   {
    "duration": 16,
    "start_time": "2021-09-10T22:42:46.747Z"
   },
   {
    "duration": 13,
    "start_time": "2021-09-10T22:42:46.767Z"
   },
   {
    "duration": 8,
    "start_time": "2021-09-10T22:42:46.816Z"
   },
   {
    "duration": 10,
    "start_time": "2021-09-10T22:42:46.827Z"
   },
   {
    "duration": 8,
    "start_time": "2021-09-10T22:42:46.840Z"
   },
   {
    "duration": 12,
    "start_time": "2021-09-10T22:42:46.853Z"
   },
   {
    "duration": 56,
    "start_time": "2021-09-10T22:42:46.868Z"
   },
   {
    "duration": 12,
    "start_time": "2021-09-10T22:42:46.927Z"
   },
   {
    "duration": 21,
    "start_time": "2021-09-10T22:42:46.941Z"
   },
   {
    "duration": 73,
    "start_time": "2021-09-10T22:42:46.965Z"
   },
   {
    "duration": 29,
    "start_time": "2021-09-10T22:42:47.041Z"
   },
   {
    "duration": 709,
    "start_time": "2021-09-10T22:42:47.072Z"
   },
   {
    "duration": 11,
    "start_time": "2021-09-10T22:42:47.784Z"
   },
   {
    "duration": 624,
    "start_time": "2021-09-10T22:42:47.797Z"
   },
   {
    "duration": 16,
    "start_time": "2021-09-10T22:42:48.424Z"
   },
   {
    "duration": 902,
    "start_time": "2021-09-10T22:42:48.442Z"
   },
   {
    "duration": 13,
    "start_time": "2021-09-10T22:42:49.346Z"
   },
   {
    "duration": 743,
    "start_time": "2021-09-10T22:42:49.362Z"
   },
   {
    "duration": 12,
    "start_time": "2021-09-10T23:26:18.205Z"
   },
   {
    "duration": 9,
    "start_time": "2021-09-10T23:28:37.750Z"
   },
   {
    "duration": 10023,
    "start_time": "2021-09-10T23:28:50.583Z"
   },
   {
    "duration": 17,
    "start_time": "2021-09-10T23:29:40.557Z"
   },
   {
    "duration": 9461,
    "start_time": "2021-09-10T23:29:52.580Z"
   },
   {
    "duration": 1422,
    "start_time": "2021-09-10T23:30:46.047Z"
   },
   {
    "duration": 65,
    "start_time": "2021-09-10T23:30:47.472Z"
   },
   {
    "duration": 13,
    "start_time": "2021-09-10T23:30:47.540Z"
   },
   {
    "duration": 12,
    "start_time": "2021-09-10T23:30:47.556Z"
   },
   {
    "duration": 7,
    "start_time": "2021-09-10T23:30:47.571Z"
   },
   {
    "duration": 40,
    "start_time": "2021-09-10T23:30:47.580Z"
   },
   {
    "duration": 20,
    "start_time": "2021-09-10T23:30:47.623Z"
   },
   {
    "duration": 11,
    "start_time": "2021-09-10T23:30:47.647Z"
   },
   {
    "duration": 7,
    "start_time": "2021-09-10T23:30:47.661Z"
   },
   {
    "duration": 46,
    "start_time": "2021-09-10T23:30:47.670Z"
   },
   {
    "duration": 19,
    "start_time": "2021-09-10T23:30:47.718Z"
   },
   {
    "duration": 23,
    "start_time": "2021-09-10T23:30:47.739Z"
   },
   {
    "duration": 22,
    "start_time": "2021-09-10T23:30:47.764Z"
   },
   {
    "duration": 669,
    "start_time": "2021-09-10T23:30:47.818Z"
   },
   {
    "duration": 10,
    "start_time": "2021-09-10T23:30:48.490Z"
   },
   {
    "duration": 574,
    "start_time": "2021-09-10T23:30:48.516Z"
   },
   {
    "duration": 32,
    "start_time": "2021-09-10T23:30:49.093Z"
   },
   {
    "duration": 905,
    "start_time": "2021-09-10T23:30:49.127Z"
   },
   {
    "duration": 12,
    "start_time": "2021-09-10T23:30:50.035Z"
   },
   {
    "duration": 667,
    "start_time": "2021-09-10T23:30:50.049Z"
   },
   {
    "duration": 11,
    "start_time": "2021-09-10T23:30:50.718Z"
   },
   {
    "duration": 33,
    "start_time": "2021-09-10T23:30:50.731Z"
   },
   {
    "duration": 1488,
    "start_time": "2021-09-10T23:30:50.768Z"
   },
   {
    "duration": 10026,
    "start_time": "2021-09-10T23:32:00.169Z"
   },
   {
    "duration": 385,
    "start_time": "2021-09-10T23:32:16.323Z"
   },
   {
    "duration": 1151,
    "start_time": "2021-09-10T23:35:07.195Z"
   },
   {
    "duration": 600,
    "start_time": "2021-09-10T23:35:15.195Z"
   },
   {
    "duration": 397,
    "start_time": "2021-09-10T23:35:49.942Z"
   },
   {
    "duration": 9218,
    "start_time": "2021-09-10T23:37:25.740Z"
   },
   {
    "duration": 1559,
    "start_time": "2021-09-10T23:37:43.892Z"
   },
   {
    "duration": 65,
    "start_time": "2021-09-10T23:37:45.454Z"
   },
   {
    "duration": 15,
    "start_time": "2021-09-10T23:37:45.522Z"
   },
   {
    "duration": 10,
    "start_time": "2021-09-10T23:37:45.540Z"
   },
   {
    "duration": 7,
    "start_time": "2021-09-10T23:37:45.553Z"
   },
   {
    "duration": 15,
    "start_time": "2021-09-10T23:37:45.562Z"
   },
   {
    "duration": 38,
    "start_time": "2021-09-10T23:37:45.579Z"
   },
   {
    "duration": 9,
    "start_time": "2021-09-10T23:37:45.623Z"
   },
   {
    "duration": 10,
    "start_time": "2021-09-10T23:37:45.636Z"
   },
   {
    "duration": 12,
    "start_time": "2021-09-10T23:37:45.649Z"
   },
   {
    "duration": 65,
    "start_time": "2021-09-10T23:37:45.664Z"
   },
   {
    "duration": 30,
    "start_time": "2021-09-10T23:37:45.732Z"
   },
   {
    "duration": 517,
    "start_time": "2021-09-10T23:37:45.765Z"
   },
   {
    "duration": -14,
    "start_time": "2021-09-10T23:37:46.299Z"
   },
   {
    "duration": -17,
    "start_time": "2021-09-10T23:37:46.303Z"
   },
   {
    "duration": -17,
    "start_time": "2021-09-10T23:37:46.305Z"
   },
   {
    "duration": -18,
    "start_time": "2021-09-10T23:37:46.307Z"
   },
   {
    "duration": -20,
    "start_time": "2021-09-10T23:37:46.310Z"
   },
   {
    "duration": -21,
    "start_time": "2021-09-10T23:37:46.313Z"
   },
   {
    "duration": -23,
    "start_time": "2021-09-10T23:37:46.316Z"
   },
   {
    "duration": -29,
    "start_time": "2021-09-10T23:37:46.323Z"
   },
   {
    "duration": -32,
    "start_time": "2021-09-10T23:37:46.327Z"
   },
   {
    "duration": -32,
    "start_time": "2021-09-10T23:37:46.329Z"
   },
   {
    "duration": -33,
    "start_time": "2021-09-10T23:37:46.331Z"
   },
   {
    "duration": 4,
    "start_time": "2021-09-10T23:37:59.787Z"
   },
   {
    "duration": 1479,
    "start_time": "2021-09-10T23:38:09.383Z"
   },
   {
    "duration": 66,
    "start_time": "2021-09-10T23:38:10.865Z"
   },
   {
    "duration": 13,
    "start_time": "2021-09-10T23:38:10.934Z"
   },
   {
    "duration": 11,
    "start_time": "2021-09-10T23:38:10.950Z"
   },
   {
    "duration": 11,
    "start_time": "2021-09-10T23:38:10.963Z"
   },
   {
    "duration": 40,
    "start_time": "2021-09-10T23:38:10.977Z"
   },
   {
    "duration": 7,
    "start_time": "2021-09-10T23:38:11.020Z"
   },
   {
    "duration": 13,
    "start_time": "2021-09-10T23:38:11.030Z"
   },
   {
    "duration": 9,
    "start_time": "2021-09-10T23:38:11.046Z"
   },
   {
    "duration": 9,
    "start_time": "2021-09-10T23:38:11.057Z"
   },
   {
    "duration": 55,
    "start_time": "2021-09-10T23:38:11.068Z"
   },
   {
    "duration": 25,
    "start_time": "2021-09-10T23:38:11.125Z"
   },
   {
    "duration": 2,
    "start_time": "2021-09-10T23:38:11.153Z"
   },
   {
    "duration": 25,
    "start_time": "2021-09-10T23:38:11.157Z"
   },
   {
    "duration": 686,
    "start_time": "2021-09-10T23:38:11.184Z"
   },
   {
    "duration": 10,
    "start_time": "2021-09-10T23:38:11.873Z"
   },
   {
    "duration": 617,
    "start_time": "2021-09-10T23:38:11.886Z"
   },
   {
    "duration": 23,
    "start_time": "2021-09-10T23:38:12.505Z"
   },
   {
    "duration": 786,
    "start_time": "2021-09-10T23:38:12.530Z"
   },
   {
    "duration": 13,
    "start_time": "2021-09-10T23:38:13.318Z"
   },
   {
    "duration": 671,
    "start_time": "2021-09-10T23:38:13.334Z"
   },
   {
    "duration": 17,
    "start_time": "2021-09-10T23:38:14.007Z"
   },
   {
    "duration": 23,
    "start_time": "2021-09-10T23:38:14.029Z"
   },
   {
    "duration": 1487,
    "start_time": "2021-09-10T23:38:14.055Z"
   },
   {
    "duration": 9549,
    "start_time": "2021-09-10T23:47:15.772Z"
   },
   {
    "duration": 1473,
    "start_time": "2021-09-10T23:47:34.998Z"
   },
   {
    "duration": 69,
    "start_time": "2021-09-10T23:47:36.474Z"
   },
   {
    "duration": 17,
    "start_time": "2021-09-10T23:47:36.547Z"
   },
   {
    "duration": 13,
    "start_time": "2021-09-10T23:47:36.568Z"
   },
   {
    "duration": 39,
    "start_time": "2021-09-10T23:47:36.584Z"
   },
   {
    "duration": 8,
    "start_time": "2021-09-10T23:47:36.625Z"
   },
   {
    "duration": 6,
    "start_time": "2021-09-10T23:47:36.636Z"
   },
   {
    "duration": 9,
    "start_time": "2021-09-10T23:47:36.645Z"
   },
   {
    "duration": 8,
    "start_time": "2021-09-10T23:47:36.657Z"
   },
   {
    "duration": 54,
    "start_time": "2021-09-10T23:47:36.667Z"
   },
   {
    "duration": 18,
    "start_time": "2021-09-10T23:47:36.724Z"
   },
   {
    "duration": 24,
    "start_time": "2021-09-10T23:47:36.744Z"
   },
   {
    "duration": 2,
    "start_time": "2021-09-10T23:47:36.770Z"
   },
   {
    "duration": 56,
    "start_time": "2021-09-10T23:47:36.775Z"
   },
   {
    "duration": 675,
    "start_time": "2021-09-10T23:47:36.833Z"
   },
   {
    "duration": 14,
    "start_time": "2021-09-10T23:47:37.511Z"
   },
   {
    "duration": 621,
    "start_time": "2021-09-10T23:47:37.527Z"
   },
   {
    "duration": 16,
    "start_time": "2021-09-10T23:47:38.151Z"
   },
   {
    "duration": 792,
    "start_time": "2021-09-10T23:47:38.170Z"
   },
   {
    "duration": 16,
    "start_time": "2021-09-10T23:47:38.965Z"
   },
   {
    "duration": 732,
    "start_time": "2021-09-10T23:47:38.984Z"
   },
   {
    "duration": 12,
    "start_time": "2021-09-10T23:47:39.719Z"
   },
   {
    "duration": 22,
    "start_time": "2021-09-10T23:47:39.738Z"
   },
   {
    "duration": 517,
    "start_time": "2021-09-10T23:47:39.764Z"
   },
   {
    "duration": -5,
    "start_time": "2021-09-10T23:47:40.288Z"
   },
   {
    "duration": 569,
    "start_time": "2021-09-10T23:48:17.036Z"
   },
   {
    "duration": 24,
    "start_time": "2021-09-10T23:49:06.942Z"
   },
   {
    "duration": 580,
    "start_time": "2021-09-10T23:51:51.092Z"
   },
   {
    "duration": 451,
    "start_time": "2021-09-10T23:52:12.343Z"
   },
   {
    "duration": 466,
    "start_time": "2021-09-10T23:52:24.440Z"
   },
   {
    "duration": 131,
    "start_time": "2021-09-11T00:12:18.661Z"
   },
   {
    "duration": 1195,
    "start_time": "2021-09-11T00:13:45.820Z"
   },
   {
    "duration": 993,
    "start_time": "2021-09-11T02:29:57.838Z"
   },
   {
    "duration": 961,
    "start_time": "2021-09-11T02:30:23.473Z"
   },
   {
    "duration": 779,
    "start_time": "2021-09-11T02:30:32.037Z"
   },
   {
    "duration": 499,
    "start_time": "2021-09-11T02:37:45.942Z"
   },
   {
    "duration": 625,
    "start_time": "2021-09-11T02:46:17.499Z"
   },
   {
    "duration": 641,
    "start_time": "2021-09-11T02:47:28.254Z"
   },
   {
    "duration": 131,
    "start_time": "2021-09-11T02:49:08.776Z"
   },
   {
    "duration": 905,
    "start_time": "2021-09-11T02:49:15.419Z"
   },
   {
    "duration": 22411,
    "start_time": "2021-09-11T02:51:56.430Z"
   },
   {
    "duration": 2205,
    "start_time": "2021-09-11T02:53:17.246Z"
   },
   {
    "duration": 1843,
    "start_time": "2021-09-11T02:54:50.073Z"
   },
   {
    "duration": 1739,
    "start_time": "2021-09-11T02:59:07.927Z"
   },
   {
    "duration": 2392,
    "start_time": "2021-09-11T02:59:15.850Z"
   },
   {
    "duration": 937,
    "start_time": "2021-09-11T03:00:13.209Z"
   },
   {
    "duration": 918,
    "start_time": "2021-09-11T03:00:26.836Z"
   },
   {
    "duration": 973,
    "start_time": "2021-09-11T03:08:13.706Z"
   },
   {
    "duration": 2198,
    "start_time": "2021-09-11T03:08:26.735Z"
   },
   {
    "duration": 1916,
    "start_time": "2021-09-11T03:09:24.489Z"
   },
   {
    "duration": 972,
    "start_time": "2021-09-11T03:10:09.304Z"
   },
   {
    "duration": 1948,
    "start_time": "2021-09-11T03:14:27.328Z"
   },
   {
    "duration": 1837,
    "start_time": "2021-09-11T03:14:37.933Z"
   },
   {
    "duration": 12,
    "start_time": "2021-09-11T03:16:00.310Z"
   },
   {
    "duration": 8,
    "start_time": "2021-09-11T03:16:16.973Z"
   },
   {
    "duration": 1849,
    "start_time": "2021-09-11T03:16:27.155Z"
   },
   {
    "duration": 1955,
    "start_time": "2021-09-11T03:16:34.828Z"
   },
   {
    "duration": 467,
    "start_time": "2021-09-11T17:41:07.977Z"
   },
   {
    "duration": 1481,
    "start_time": "2021-09-11T17:41:20.269Z"
   },
   {
    "duration": 66,
    "start_time": "2021-09-11T17:41:21.753Z"
   },
   {
    "duration": 15,
    "start_time": "2021-09-11T17:41:21.822Z"
   },
   {
    "duration": 34,
    "start_time": "2021-09-11T17:41:21.839Z"
   },
   {
    "duration": 9,
    "start_time": "2021-09-11T17:41:21.876Z"
   },
   {
    "duration": 12,
    "start_time": "2021-09-11T17:41:21.887Z"
   },
   {
    "duration": 10,
    "start_time": "2021-09-11T17:41:21.901Z"
   },
   {
    "duration": 20,
    "start_time": "2021-09-11T17:41:21.915Z"
   },
   {
    "duration": 8,
    "start_time": "2021-09-11T17:41:21.966Z"
   },
   {
    "duration": 11,
    "start_time": "2021-09-11T17:41:21.977Z"
   },
   {
    "duration": 21,
    "start_time": "2021-09-11T17:41:21.990Z"
   },
   {
    "duration": 59,
    "start_time": "2021-09-11T17:41:22.013Z"
   },
   {
    "duration": 3,
    "start_time": "2021-09-11T17:41:22.075Z"
   },
   {
    "duration": 40,
    "start_time": "2021-09-11T17:41:22.081Z"
   },
   {
    "duration": 721,
    "start_time": "2021-09-11T17:41:22.123Z"
   },
   {
    "duration": 22,
    "start_time": "2021-09-11T17:41:22.846Z"
   },
   {
    "duration": 622,
    "start_time": "2021-09-11T17:41:22.871Z"
   },
   {
    "duration": 18,
    "start_time": "2021-09-11T17:41:23.495Z"
   },
   {
    "duration": 833,
    "start_time": "2021-09-11T17:41:23.515Z"
   },
   {
    "duration": 21,
    "start_time": "2021-09-11T17:41:24.351Z"
   },
   {
    "duration": 686,
    "start_time": "2021-09-11T17:41:24.375Z"
   },
   {
    "duration": 12,
    "start_time": "2021-09-11T17:41:25.068Z"
   },
   {
    "duration": 23,
    "start_time": "2021-09-11T17:41:25.084Z"
   },
   {
    "duration": 465,
    "start_time": "2021-09-11T17:41:25.110Z"
   },
   {
    "duration": 909,
    "start_time": "2021-09-11T17:41:25.577Z"
   },
   {
    "duration": 2295,
    "start_time": "2021-09-11T17:41:26.489Z"
   },
   {
    "duration": 433,
    "start_time": "2021-09-11T17:41:28.787Z"
   },
   {
    "duration": -1261,
    "start_time": "2021-09-11T17:41:30.483Z"
   },
   {
    "duration": -1262,
    "start_time": "2021-09-11T17:41:30.486Z"
   },
   {
    "duration": 2098,
    "start_time": "2021-09-11T17:43:01.472Z"
   },
   {
    "duration": 2062,
    "start_time": "2021-09-11T17:43:22.811Z"
   },
   {
    "duration": 3061,
    "start_time": "2021-09-11T17:44:06.873Z"
   },
   {
    "duration": 3268,
    "start_time": "2021-09-11T17:44:28.877Z"
   },
   {
    "duration": 2627,
    "start_time": "2021-09-11T17:45:19.371Z"
   },
   {
    "duration": 2440,
    "start_time": "2021-09-11T17:45:42.916Z"
   },
   {
    "duration": 2003,
    "start_time": "2021-09-11T17:46:07.768Z"
   },
   {
    "duration": 2884,
    "start_time": "2021-09-11T17:46:32.189Z"
   },
   {
    "duration": 1947,
    "start_time": "2021-09-11T17:47:25.668Z"
   },
   {
    "duration": 1107,
    "start_time": "2021-09-11T17:47:32.733Z"
   },
   {
    "duration": 409,
    "start_time": "2021-09-11T17:54:34.235Z"
   },
   {
    "duration": 31,
    "start_time": "2021-09-11T17:55:01.493Z"
   },
   {
    "duration": 297,
    "start_time": "2021-09-11T17:55:18.080Z"
   },
   {
    "duration": 6,
    "start_time": "2021-09-11T17:56:00.801Z"
   },
   {
    "duration": 292,
    "start_time": "2021-09-11T17:57:02.981Z"
   },
   {
    "duration": 19,
    "start_time": "2021-09-11T17:57:21.592Z"
   },
   {
    "duration": 315,
    "start_time": "2021-09-11T17:58:42.054Z"
   },
   {
    "duration": 97,
    "start_time": "2021-09-11T18:00:53.150Z"
   },
   {
    "duration": 361,
    "start_time": "2021-09-11T18:01:05.768Z"
   },
   {
    "duration": 1454,
    "start_time": "2021-09-11T18:03:02.790Z"
   },
   {
    "duration": 67,
    "start_time": "2021-09-11T18:03:04.246Z"
   },
   {
    "duration": 14,
    "start_time": "2021-09-11T18:03:04.316Z"
   },
   {
    "duration": 16,
    "start_time": "2021-09-11T18:03:04.332Z"
   },
   {
    "duration": 8,
    "start_time": "2021-09-11T18:03:04.367Z"
   },
   {
    "duration": 10,
    "start_time": "2021-09-11T18:03:04.378Z"
   },
   {
    "duration": 7,
    "start_time": "2021-09-11T18:03:04.390Z"
   },
   {
    "duration": 9,
    "start_time": "2021-09-11T18:03:04.401Z"
   },
   {
    "duration": 7,
    "start_time": "2021-09-11T18:03:04.412Z"
   },
   {
    "duration": 10,
    "start_time": "2021-09-11T18:03:04.468Z"
   },
   {
    "duration": 22,
    "start_time": "2021-09-11T18:03:04.480Z"
   },
   {
    "duration": 36,
    "start_time": "2021-09-11T18:03:04.504Z"
   },
   {
    "duration": 27,
    "start_time": "2021-09-11T18:03:04.542Z"
   },
   {
    "duration": 37,
    "start_time": "2021-09-11T18:03:04.572Z"
   },
   {
    "duration": 728,
    "start_time": "2021-09-11T18:03:04.611Z"
   },
   {
    "duration": 26,
    "start_time": "2021-09-11T18:03:05.341Z"
   },
   {
    "duration": 626,
    "start_time": "2021-09-11T18:03:05.369Z"
   },
   {
    "duration": 16,
    "start_time": "2021-09-11T18:03:05.997Z"
   },
   {
    "duration": 847,
    "start_time": "2021-09-11T18:03:06.016Z"
   },
   {
    "duration": 15,
    "start_time": "2021-09-11T18:03:06.868Z"
   },
   {
    "duration": 698,
    "start_time": "2021-09-11T18:03:06.885Z"
   },
   {
    "duration": 10,
    "start_time": "2021-09-11T18:03:07.586Z"
   },
   {
    "duration": 23,
    "start_time": "2021-09-11T18:03:07.600Z"
   },
   {
    "duration": 492,
    "start_time": "2021-09-11T18:03:07.625Z"
   },
   {
    "duration": 973,
    "start_time": "2021-09-11T18:03:08.120Z"
   },
   {
    "duration": 2158,
    "start_time": "2021-09-11T18:03:09.097Z"
   },
   {
    "duration": 3154,
    "start_time": "2021-09-11T18:03:11.258Z"
   },
   {
    "duration": 1883,
    "start_time": "2021-09-11T18:03:14.414Z"
   },
   {
    "duration": -1538,
    "start_time": "2021-09-11T18:03:17.838Z"
   },
   {
    "duration": 1107,
    "start_time": "2021-09-11T18:07:02.773Z"
   },
   {
    "duration": 1390,
    "start_time": "2021-09-11T18:07:20.820Z"
   },
   {
    "duration": 350,
    "start_time": "2021-09-11T18:09:39.723Z"
   },
   {
    "duration": 1074,
    "start_time": "2021-09-11T18:10:01.878Z"
   },
   {
    "duration": 1087,
    "start_time": "2021-09-11T18:12:07.120Z"
   },
   {
    "duration": 1143,
    "start_time": "2021-09-11T18:12:37.305Z"
   },
   {
    "duration": 1077,
    "start_time": "2021-09-11T18:13:00.493Z"
   },
   {
    "duration": 1957,
    "start_time": "2021-09-11T18:14:59.382Z"
   },
   {
    "duration": 2523,
    "start_time": "2021-09-11T18:15:35.598Z"
   },
   {
    "duration": 6601,
    "start_time": "2021-09-11T18:16:37.895Z"
   },
   {
    "duration": 2682,
    "start_time": "2021-09-11T18:17:29.034Z"
   },
   {
    "duration": 2114,
    "start_time": "2021-09-11T18:17:56.690Z"
   },
   {
    "duration": 2354,
    "start_time": "2021-09-11T18:18:13.313Z"
   },
   {
    "duration": 2299,
    "start_time": "2021-09-11T18:20:23.609Z"
   },
   {
    "duration": 2439,
    "start_time": "2021-09-11T18:21:34.232Z"
   },
   {
    "duration": 16,
    "start_time": "2021-09-11T18:22:33.457Z"
   },
   {
    "duration": 285,
    "start_time": "2021-09-11T18:23:49.167Z"
   },
   {
    "duration": 990,
    "start_time": "2021-09-11T18:24:07.414Z"
   },
   {
    "duration": 579,
    "start_time": "2021-09-11T18:25:02.173Z"
   },
   {
    "duration": 1189,
    "start_time": "2021-09-11T18:32:22.609Z"
   },
   {
    "duration": 27,
    "start_time": "2021-09-11T18:32:37.077Z"
   },
   {
    "duration": 2820,
    "start_time": "2021-09-11T18:33:10.558Z"
   },
   {
    "duration": 3127,
    "start_time": "2021-09-11T18:33:30.558Z"
   },
   {
    "duration": 2772,
    "start_time": "2021-09-11T18:34:14.058Z"
   },
   {
    "duration": 1551,
    "start_time": "2021-09-11T18:34:49.793Z"
   },
   {
    "duration": 18,
    "start_time": "2021-09-11T18:43:06.931Z"
   },
   {
    "duration": 21,
    "start_time": "2021-09-11T18:44:21.865Z"
   },
   {
    "duration": 18,
    "start_time": "2021-09-11T18:45:57.015Z"
   },
   {
    "duration": 93,
    "start_time": "2021-09-11T18:52:54.327Z"
   },
   {
    "duration": 94,
    "start_time": "2021-09-11T18:54:10.512Z"
   },
   {
    "duration": 490,
    "start_time": "2021-09-11T18:54:45.564Z"
   },
   {
    "duration": 312,
    "start_time": "2021-09-11T19:09:13.842Z"
   },
   {
    "duration": 290,
    "start_time": "2021-09-11T19:09:51.753Z"
   },
   {
    "duration": 1434,
    "start_time": "2021-09-11T19:11:27.020Z"
   },
   {
    "duration": 77,
    "start_time": "2021-09-11T19:11:28.457Z"
   },
   {
    "duration": 31,
    "start_time": "2021-09-11T19:11:28.538Z"
   },
   {
    "duration": 13,
    "start_time": "2021-09-11T19:11:28.571Z"
   },
   {
    "duration": 7,
    "start_time": "2021-09-11T19:11:28.587Z"
   },
   {
    "duration": 9,
    "start_time": "2021-09-11T19:11:28.596Z"
   },
   {
    "duration": 7,
    "start_time": "2021-09-11T19:11:28.608Z"
   },
   {
    "duration": 56,
    "start_time": "2021-09-11T19:11:28.617Z"
   },
   {
    "duration": 7,
    "start_time": "2021-09-11T19:11:28.676Z"
   },
   {
    "duration": 11,
    "start_time": "2021-09-11T19:11:28.686Z"
   },
   {
    "duration": 24,
    "start_time": "2021-09-11T19:11:28.700Z"
   },
   {
    "duration": 67,
    "start_time": "2021-09-11T19:11:28.726Z"
   },
   {
    "duration": 5,
    "start_time": "2021-09-11T19:11:28.795Z"
   },
   {
    "duration": 28,
    "start_time": "2021-09-11T19:11:28.802Z"
   },
   {
    "duration": 737,
    "start_time": "2021-09-11T19:11:28.833Z"
   },
   {
    "duration": 10,
    "start_time": "2021-09-11T19:11:29.573Z"
   },
   {
    "duration": 640,
    "start_time": "2021-09-11T19:11:29.586Z"
   },
   {
    "duration": 17,
    "start_time": "2021-09-11T19:11:30.229Z"
   },
   {
    "duration": 961,
    "start_time": "2021-09-11T19:11:30.248Z"
   },
   {
    "duration": 420,
    "start_time": "2021-09-11T19:11:31.212Z"
   },
   {
    "duration": -1507,
    "start_time": "2021-09-11T19:11:33.142Z"
   },
   {
    "duration": -1547,
    "start_time": "2021-09-11T19:11:33.183Z"
   },
   {
    "duration": -1551,
    "start_time": "2021-09-11T19:11:33.188Z"
   },
   {
    "duration": -1560,
    "start_time": "2021-09-11T19:11:33.199Z"
   },
   {
    "duration": -1488,
    "start_time": "2021-09-11T19:11:33.203Z"
   },
   {
    "duration": -1492,
    "start_time": "2021-09-11T19:11:33.209Z"
   },
   {
    "duration": -1501,
    "start_time": "2021-09-11T19:11:33.219Z"
   },
   {
    "duration": -1504,
    "start_time": "2021-09-11T19:11:33.223Z"
   },
   {
    "duration": -1515,
    "start_time": "2021-09-11T19:11:33.236Z"
   },
   {
    "duration": 23,
    "start_time": "2021-09-11T19:12:08.522Z"
   },
   {
    "duration": 302,
    "start_time": "2021-09-11T19:13:20.089Z"
   },
   {
    "duration": 243,
    "start_time": "2021-09-11T19:13:37.867Z"
   },
   {
    "duration": 1462,
    "start_time": "2021-09-11T19:13:59.691Z"
   },
   {
    "duration": 66,
    "start_time": "2021-09-11T19:14:01.155Z"
   },
   {
    "duration": 14,
    "start_time": "2021-09-11T19:14:01.224Z"
   },
   {
    "duration": 34,
    "start_time": "2021-09-11T19:14:01.240Z"
   },
   {
    "duration": 10,
    "start_time": "2021-09-11T19:14:01.276Z"
   },
   {
    "duration": 15,
    "start_time": "2021-09-11T19:14:01.289Z"
   },
   {
    "duration": 7,
    "start_time": "2021-09-11T19:14:01.307Z"
   },
   {
    "duration": 15,
    "start_time": "2021-09-11T19:14:01.317Z"
   },
   {
    "duration": 54,
    "start_time": "2021-09-11T19:14:01.335Z"
   },
   {
    "duration": 21,
    "start_time": "2021-09-11T19:14:01.391Z"
   },
   {
    "duration": 29,
    "start_time": "2021-09-11T19:14:01.415Z"
   },
   {
    "duration": 53,
    "start_time": "2021-09-11T19:14:01.446Z"
   },
   {
    "duration": 19,
    "start_time": "2021-09-11T19:14:01.502Z"
   },
   {
    "duration": 56,
    "start_time": "2021-09-11T19:14:01.523Z"
   },
   {
    "duration": 747,
    "start_time": "2021-09-11T19:14:01.582Z"
   },
   {
    "duration": 10,
    "start_time": "2021-09-11T19:14:02.331Z"
   },
   {
    "duration": 628,
    "start_time": "2021-09-11T19:14:02.343Z"
   },
   {
    "duration": 18,
    "start_time": "2021-09-11T19:14:02.974Z"
   },
   {
    "duration": 864,
    "start_time": "2021-09-11T19:14:02.995Z"
   },
   {
    "duration": 26,
    "start_time": "2021-09-11T19:14:03.866Z"
   },
   {
    "duration": 590,
    "start_time": "2021-09-11T19:14:03.894Z"
   },
   {
    "duration": 12,
    "start_time": "2021-09-11T19:14:04.486Z"
   },
   {
    "duration": 62,
    "start_time": "2021-09-11T19:14:04.503Z"
   },
   {
    "duration": 438,
    "start_time": "2021-09-11T19:14:04.569Z"
   },
   {
    "duration": 1143,
    "start_time": "2021-09-11T19:14:05.010Z"
   },
   {
    "duration": 1983,
    "start_time": "2021-09-11T19:14:06.155Z"
   },
   {
    "duration": 3404,
    "start_time": "2021-09-11T19:14:08.140Z"
   },
   {
    "duration": 1963,
    "start_time": "2021-09-11T19:14:11.547Z"
   },
   {
    "duration": 1255,
    "start_time": "2021-09-11T19:14:13.512Z"
   },
   {
    "duration": 433,
    "start_time": "2021-09-11T19:14:19.341Z"
   },
   {
    "duration": 1430,
    "start_time": "2021-09-11T19:14:28.113Z"
   },
   {
    "duration": 68,
    "start_time": "2021-09-11T19:14:29.545Z"
   },
   {
    "duration": 15,
    "start_time": "2021-09-11T19:14:29.616Z"
   },
   {
    "duration": 34,
    "start_time": "2021-09-11T19:14:29.634Z"
   },
   {
    "duration": 7,
    "start_time": "2021-09-11T19:14:29.671Z"
   },
   {
    "duration": 10,
    "start_time": "2021-09-11T19:14:29.681Z"
   },
   {
    "duration": 7,
    "start_time": "2021-09-11T19:14:29.693Z"
   },
   {
    "duration": 10,
    "start_time": "2021-09-11T19:14:29.704Z"
   },
   {
    "duration": 52,
    "start_time": "2021-09-11T19:14:29.717Z"
   },
   {
    "duration": 10,
    "start_time": "2021-09-11T19:14:29.771Z"
   },
   {
    "duration": 21,
    "start_time": "2021-09-11T19:14:29.783Z"
   },
   {
    "duration": 61,
    "start_time": "2021-09-11T19:14:29.806Z"
   },
   {
    "duration": 6,
    "start_time": "2021-09-11T19:14:29.869Z"
   },
   {
    "duration": 28,
    "start_time": "2021-09-11T19:14:29.877Z"
   },
   {
    "duration": 743,
    "start_time": "2021-09-11T19:14:29.908Z"
   },
   {
    "duration": 19,
    "start_time": "2021-09-11T19:14:30.653Z"
   },
   {
    "duration": 656,
    "start_time": "2021-09-11T19:14:30.674Z"
   },
   {
    "duration": 18,
    "start_time": "2021-09-11T19:14:31.332Z"
   },
   {
    "duration": 876,
    "start_time": "2021-09-11T19:14:31.367Z"
   },
   {
    "duration": 469,
    "start_time": "2021-09-11T19:14:32.245Z"
   },
   {
    "duration": -1251,
    "start_time": "2021-09-11T19:14:33.968Z"
   },
   {
    "duration": -1261,
    "start_time": "2021-09-11T19:14:33.979Z"
   },
   {
    "duration": -1275,
    "start_time": "2021-09-11T19:14:33.995Z"
   },
   {
    "duration": -1278,
    "start_time": "2021-09-11T19:14:33.999Z"
   },
   {
    "duration": -1282,
    "start_time": "2021-09-11T19:14:34.004Z"
   },
   {
    "duration": -1286,
    "start_time": "2021-09-11T19:14:34.010Z"
   },
   {
    "duration": -1288,
    "start_time": "2021-09-11T19:14:34.013Z"
   },
   {
    "duration": -1290,
    "start_time": "2021-09-11T19:14:34.016Z"
   },
   {
    "duration": -1296,
    "start_time": "2021-09-11T19:14:34.023Z"
   },
   {
    "duration": 282,
    "start_time": "2021-09-11T19:15:12.558Z"
   },
   {
    "duration": 1500,
    "start_time": "2021-09-11T19:15:22.942Z"
   },
   {
    "duration": 65,
    "start_time": "2021-09-11T19:15:24.445Z"
   },
   {
    "duration": 14,
    "start_time": "2021-09-11T19:15:24.513Z"
   },
   {
    "duration": 36,
    "start_time": "2021-09-11T19:15:24.530Z"
   },
   {
    "duration": 7,
    "start_time": "2021-09-11T19:15:24.569Z"
   },
   {
    "duration": 17,
    "start_time": "2021-09-11T19:15:24.579Z"
   },
   {
    "duration": 10,
    "start_time": "2021-09-11T19:15:24.598Z"
   },
   {
    "duration": 14,
    "start_time": "2021-09-11T19:15:24.612Z"
   },
   {
    "duration": 8,
    "start_time": "2021-09-11T19:15:24.629Z"
   },
   {
    "duration": 9,
    "start_time": "2021-09-11T19:15:24.667Z"
   },
   {
    "duration": 22,
    "start_time": "2021-09-11T19:15:24.679Z"
   },
   {
    "duration": 34,
    "start_time": "2021-09-11T19:15:24.703Z"
   },
   {
    "duration": 31,
    "start_time": "2021-09-11T19:15:24.739Z"
   },
   {
    "duration": 26,
    "start_time": "2021-09-11T19:15:24.773Z"
   },
   {
    "duration": 754,
    "start_time": "2021-09-11T19:15:24.801Z"
   },
   {
    "duration": 10,
    "start_time": "2021-09-11T19:15:25.557Z"
   },
   {
    "duration": 611,
    "start_time": "2021-09-11T19:15:25.570Z"
   },
   {
    "duration": 19,
    "start_time": "2021-09-11T19:15:26.183Z"
   },
   {
    "duration": 844,
    "start_time": "2021-09-11T19:15:26.204Z"
   },
   {
    "duration": 36,
    "start_time": "2021-09-11T19:15:27.052Z"
   },
   {
    "duration": 579,
    "start_time": "2021-09-11T19:15:27.091Z"
   },
   {
    "duration": 10,
    "start_time": "2021-09-11T19:15:27.672Z"
   },
   {
    "duration": 26,
    "start_time": "2021-09-11T19:15:27.686Z"
   },
   {
    "duration": 482,
    "start_time": "2021-09-11T19:15:27.715Z"
   },
   {
    "duration": 1112,
    "start_time": "2021-09-11T19:15:28.200Z"
   },
   {
    "duration": 2006,
    "start_time": "2021-09-11T19:15:29.314Z"
   },
   {
    "duration": 3325,
    "start_time": "2021-09-11T19:15:31.323Z"
   },
   {
    "duration": 2077,
    "start_time": "2021-09-11T19:15:34.650Z"
   },
   {
    "duration": 1184,
    "start_time": "2021-09-11T19:15:36.730Z"
   },
   {
    "duration": 6,
    "start_time": "2021-09-11T19:16:46.293Z"
   },
   {
    "duration": 66,
    "start_time": "2021-09-11T19:16:46.302Z"
   },
   {
    "duration": 15,
    "start_time": "2021-09-11T19:16:46.371Z"
   },
   {
    "duration": 11,
    "start_time": "2021-09-11T19:16:46.389Z"
   },
   {
    "duration": 210,
    "start_time": "2021-09-11T19:16:46.402Z"
   },
   {
    "duration": 10,
    "start_time": "2021-09-11T19:16:46.615Z"
   },
   {
    "duration": 7,
    "start_time": "2021-09-11T19:16:46.628Z"
   },
   {
    "duration": 11,
    "start_time": "2021-09-11T19:16:46.638Z"
   },
   {
    "duration": 8,
    "start_time": "2021-09-11T19:16:46.651Z"
   },
   {
    "duration": 20,
    "start_time": "2021-09-11T19:16:46.661Z"
   },
   {
    "duration": 20,
    "start_time": "2021-09-11T19:16:46.684Z"
   },
   {
    "duration": 63,
    "start_time": "2021-09-11T19:16:46.706Z"
   },
   {
    "duration": 5,
    "start_time": "2021-09-11T19:16:46.772Z"
   },
   {
    "duration": 28,
    "start_time": "2021-09-11T19:16:46.780Z"
   },
   {
    "duration": 894,
    "start_time": "2021-09-11T19:16:46.810Z"
   },
   {
    "duration": 10,
    "start_time": "2021-09-11T19:16:47.707Z"
   },
   {
    "duration": 814,
    "start_time": "2021-09-11T19:16:47.720Z"
   },
   {
    "duration": 31,
    "start_time": "2021-09-11T19:16:48.536Z"
   },
   {
    "duration": 806,
    "start_time": "2021-09-11T19:16:48.571Z"
   },
   {
    "duration": 818,
    "start_time": "2021-09-11T19:16:51.810Z"
   },
   {
    "duration": 443,
    "start_time": "2021-09-11T19:16:53.694Z"
   },
   {
    "duration": 299,
    "start_time": "2021-09-11T19:17:10.856Z"
   },
   {
    "duration": 7,
    "start_time": "2021-09-11T19:17:21.160Z"
   },
   {
    "duration": 67,
    "start_time": "2021-09-11T19:17:21.170Z"
   },
   {
    "duration": 30,
    "start_time": "2021-09-11T19:17:21.240Z"
   },
   {
    "duration": 12,
    "start_time": "2021-09-11T19:17:21.272Z"
   },
   {
    "duration": 7,
    "start_time": "2021-09-11T19:17:21.287Z"
   },
   {
    "duration": 8,
    "start_time": "2021-09-11T19:17:21.297Z"
   },
   {
    "duration": 7,
    "start_time": "2021-09-11T19:17:21.309Z"
   },
   {
    "duration": 54,
    "start_time": "2021-09-11T19:17:21.319Z"
   },
   {
    "duration": 15,
    "start_time": "2021-09-11T19:17:21.376Z"
   },
   {
    "duration": 23,
    "start_time": "2021-09-11T19:17:21.394Z"
   },
   {
    "duration": 24,
    "start_time": "2021-09-11T19:17:21.419Z"
   },
   {
    "duration": 46,
    "start_time": "2021-09-11T19:17:21.445Z"
   },
   {
    "duration": 6,
    "start_time": "2021-09-11T19:17:21.493Z"
   },
   {
    "duration": 28,
    "start_time": "2021-09-11T19:17:21.501Z"
   },
   {
    "duration": 898,
    "start_time": "2021-09-11T19:17:21.531Z"
   },
   {
    "duration": 10,
    "start_time": "2021-09-11T19:17:22.432Z"
   },
   {
    "duration": 826,
    "start_time": "2021-09-11T19:17:22.444Z"
   },
   {
    "duration": 19,
    "start_time": "2021-09-11T19:17:23.273Z"
   },
   {
    "duration": 963,
    "start_time": "2021-09-11T19:17:23.296Z"
   },
   {
    "duration": 839,
    "start_time": "2021-09-11T19:17:26.462Z"
   },
   {
    "duration": 28,
    "start_time": "2021-09-11T19:17:28.009Z"
   },
   {
    "duration": 35,
    "start_time": "2021-09-11T20:11:29.432Z"
   },
   {
    "duration": 23,
    "start_time": "2021-09-11T20:12:48.234Z"
   },
   {
    "duration": 34,
    "start_time": "2021-09-11T20:13:28.560Z"
   },
   {
    "duration": 25,
    "start_time": "2021-09-11T20:13:40.844Z"
   },
   {
    "duration": 327,
    "start_time": "2021-09-11T20:15:42.818Z"
   },
   {
    "duration": 26,
    "start_time": "2021-09-11T20:15:49.840Z"
   },
   {
    "duration": 33,
    "start_time": "2021-09-11T20:15:54.930Z"
   },
   {
    "duration": 7,
    "start_time": "2021-09-11T20:16:08.144Z"
   },
   {
    "duration": 73,
    "start_time": "2021-09-11T20:16:08.154Z"
   },
   {
    "duration": 14,
    "start_time": "2021-09-11T20:16:08.230Z"
   },
   {
    "duration": 28,
    "start_time": "2021-09-11T20:16:08.247Z"
   },
   {
    "duration": 12,
    "start_time": "2021-09-11T20:16:08.277Z"
   },
   {
    "duration": 15,
    "start_time": "2021-09-11T20:16:08.291Z"
   },
   {
    "duration": 15,
    "start_time": "2021-09-11T20:16:08.308Z"
   },
   {
    "duration": 28,
    "start_time": "2021-09-11T20:16:08.326Z"
   },
   {
    "duration": 15,
    "start_time": "2021-09-11T20:16:08.368Z"
   },
   {
    "duration": 18,
    "start_time": "2021-09-11T20:16:08.386Z"
   },
   {
    "duration": 32,
    "start_time": "2021-09-11T20:16:08.407Z"
   },
   {
    "duration": 47,
    "start_time": "2021-09-11T20:16:08.441Z"
   },
   {
    "duration": 6,
    "start_time": "2021-09-11T20:16:08.490Z"
   },
   {
    "duration": 35,
    "start_time": "2021-09-11T20:16:08.498Z"
   },
   {
    "duration": 893,
    "start_time": "2021-09-11T20:16:08.535Z"
   },
   {
    "duration": 10,
    "start_time": "2021-09-11T20:16:09.431Z"
   },
   {
    "duration": 836,
    "start_time": "2021-09-11T20:16:09.443Z"
   },
   {
    "duration": 19,
    "start_time": "2021-09-11T20:16:10.282Z"
   },
   {
    "duration": 845,
    "start_time": "2021-09-11T20:16:10.304Z"
   },
   {
    "duration": 35,
    "start_time": "2021-09-11T20:16:11.151Z"
   },
   {
    "duration": 504,
    "start_time": "2021-09-11T20:16:11.189Z"
   },
   {
    "duration": 12,
    "start_time": "2021-09-11T20:16:11.695Z"
   },
   {
    "duration": 35,
    "start_time": "2021-09-11T20:16:11.709Z"
   },
   {
    "duration": 459,
    "start_time": "2021-09-11T20:16:11.747Z"
   },
   {
    "duration": 1093,
    "start_time": "2021-09-11T20:16:12.209Z"
   },
   {
    "duration": 2333,
    "start_time": "2021-09-11T20:16:13.305Z"
   },
   {
    "duration": 3419,
    "start_time": "2021-09-11T20:16:15.642Z"
   },
   {
    "duration": 2057,
    "start_time": "2021-09-11T20:16:19.068Z"
   },
   {
    "duration": 1125,
    "start_time": "2021-09-11T20:16:21.127Z"
   },
   {
    "duration": 25,
    "start_time": "2021-09-11T20:16:22.290Z"
   },
   {
    "duration": 33,
    "start_time": "2021-09-11T20:16:23.468Z"
   },
   {
    "duration": 25,
    "start_time": "2021-09-11T20:18:51.727Z"
   },
   {
    "duration": 31,
    "start_time": "2021-09-11T20:18:57.512Z"
   },
   {
    "duration": 859,
    "start_time": "2021-09-11T20:21:59.724Z"
   },
   {
    "duration": 105,
    "start_time": "2021-09-11T20:23:20.907Z"
   },
   {
    "duration": 91,
    "start_time": "2021-09-11T20:23:28.424Z"
   },
   {
    "duration": 6,
    "start_time": "2021-09-11T20:23:47.860Z"
   },
   {
    "duration": 65,
    "start_time": "2021-09-11T20:23:47.869Z"
   },
   {
    "duration": 34,
    "start_time": "2021-09-11T20:23:47.937Z"
   },
   {
    "duration": 14,
    "start_time": "2021-09-11T20:23:47.974Z"
   },
   {
    "duration": 7,
    "start_time": "2021-09-11T20:23:47.990Z"
   },
   {
    "duration": 7,
    "start_time": "2021-09-11T20:23:47.999Z"
   },
   {
    "duration": 6,
    "start_time": "2021-09-11T20:23:48.010Z"
   },
   {
    "duration": 54,
    "start_time": "2021-09-11T20:23:48.019Z"
   },
   {
    "duration": 6,
    "start_time": "2021-09-11T20:23:48.076Z"
   },
   {
    "duration": 10,
    "start_time": "2021-09-11T20:23:48.085Z"
   },
   {
    "duration": 19,
    "start_time": "2021-09-11T20:23:48.098Z"
   },
   {
    "duration": 73,
    "start_time": "2021-09-11T20:23:48.120Z"
   },
   {
    "duration": 5,
    "start_time": "2021-09-11T20:23:48.196Z"
   },
   {
    "duration": 24,
    "start_time": "2021-09-11T20:23:48.203Z"
   },
   {
    "duration": 888,
    "start_time": "2021-09-11T20:23:48.229Z"
   },
   {
    "duration": 11,
    "start_time": "2021-09-11T20:23:49.119Z"
   },
   {
    "duration": 960,
    "start_time": "2021-09-11T20:23:49.132Z"
   },
   {
    "duration": 18,
    "start_time": "2021-09-11T20:23:50.095Z"
   },
   {
    "duration": 860,
    "start_time": "2021-09-11T20:23:50.117Z"
   },
   {
    "duration": 25,
    "start_time": "2021-09-11T20:23:50.980Z"
   },
   {
    "duration": 501,
    "start_time": "2021-09-11T20:23:51.008Z"
   },
   {
    "duration": 12,
    "start_time": "2021-09-11T20:23:51.511Z"
   },
   {
    "duration": 45,
    "start_time": "2021-09-11T20:23:51.525Z"
   },
   {
    "duration": 447,
    "start_time": "2021-09-11T20:23:51.573Z"
   },
   {
    "duration": 1112,
    "start_time": "2021-09-11T20:23:52.023Z"
   },
   {
    "duration": 2008,
    "start_time": "2021-09-11T20:23:53.137Z"
   },
   {
    "duration": 3165,
    "start_time": "2021-09-11T20:23:55.148Z"
   },
   {
    "duration": 2003,
    "start_time": "2021-09-11T20:23:58.317Z"
   },
   {
    "duration": 1260,
    "start_time": "2021-09-11T20:24:00.323Z"
   },
   {
    "duration": 30,
    "start_time": "2021-09-11T20:24:01.586Z"
   },
   {
    "duration": 71,
    "start_time": "2021-09-11T20:24:01.618Z"
   },
   {
    "duration": 33,
    "start_time": "2021-09-11T20:24:04.816Z"
   },
   {
    "duration": 128,
    "start_time": "2021-09-11T20:24:07.110Z"
   },
   {
    "duration": 1002,
    "start_time": "2021-09-11T20:24:20.839Z"
   },
   {
    "duration": 1120,
    "start_time": "2021-09-11T20:27:20.369Z"
   },
   {
    "duration": 2103,
    "start_time": "2021-09-11T20:32:15.840Z"
   },
   {
    "duration": 3019,
    "start_time": "2021-09-11T20:32:34.618Z"
   },
   {
    "duration": 66,
    "start_time": "2021-09-11T20:32:37.640Z"
   },
   {
    "duration": 16,
    "start_time": "2021-09-11T20:32:37.710Z"
   },
   {
    "duration": 37,
    "start_time": "2021-09-11T20:32:37.730Z"
   },
   {
    "duration": 8,
    "start_time": "2021-09-11T20:32:37.770Z"
   },
   {
    "duration": 9,
    "start_time": "2021-09-11T20:32:37.781Z"
   },
   {
    "duration": 7,
    "start_time": "2021-09-11T20:32:37.793Z"
   },
   {
    "duration": 13,
    "start_time": "2021-09-11T20:32:37.806Z"
   },
   {
    "duration": 8,
    "start_time": "2021-09-11T20:32:37.869Z"
   },
   {
    "duration": 10,
    "start_time": "2021-09-11T20:32:37.880Z"
   },
   {
    "duration": 21,
    "start_time": "2021-09-11T20:32:37.892Z"
   },
   {
    "duration": 74,
    "start_time": "2021-09-11T20:32:37.915Z"
   },
   {
    "duration": 6,
    "start_time": "2021-09-11T20:32:37.991Z"
   },
   {
    "duration": 32,
    "start_time": "2021-09-11T20:32:38.000Z"
   },
   {
    "duration": 744,
    "start_time": "2021-09-11T20:32:38.035Z"
   },
   {
    "duration": 10,
    "start_time": "2021-09-11T20:32:38.781Z"
   },
   {
    "duration": 634,
    "start_time": "2021-09-11T20:32:38.794Z"
   },
   {
    "duration": 17,
    "start_time": "2021-09-11T20:32:39.431Z"
   },
   {
    "duration": 845,
    "start_time": "2021-09-11T20:32:39.467Z"
   },
   {
    "duration": 30,
    "start_time": "2021-09-11T20:32:40.315Z"
   },
   {
    "duration": 578,
    "start_time": "2021-09-11T20:32:40.347Z"
   },
   {
    "duration": 10,
    "start_time": "2021-09-11T20:32:40.928Z"
   },
   {
    "duration": 40,
    "start_time": "2021-09-11T20:32:40.943Z"
   },
   {
    "duration": 477,
    "start_time": "2021-09-11T20:32:40.985Z"
   },
   {
    "duration": 1075,
    "start_time": "2021-09-11T20:32:41.467Z"
   },
   {
    "duration": 1978,
    "start_time": "2021-09-11T20:32:42.544Z"
   },
   {
    "duration": 3275,
    "start_time": "2021-09-11T20:32:44.524Z"
   },
   {
    "duration": 2010,
    "start_time": "2021-09-11T20:32:47.801Z"
   },
   {
    "duration": 1182,
    "start_time": "2021-09-11T20:32:49.813Z"
   },
   {
    "duration": 26,
    "start_time": "2021-09-11T20:32:50.998Z"
   },
   {
    "duration": 52,
    "start_time": "2021-09-11T20:32:51.026Z"
   },
   {
    "duration": 990,
    "start_time": "2021-09-11T20:32:51.082Z"
   },
   {
    "duration": 1130,
    "start_time": "2021-09-11T20:32:52.075Z"
   },
   {
    "duration": 417,
    "start_time": "2021-09-11T20:51:56.467Z"
   },
   {
    "duration": 287,
    "start_time": "2021-09-11T20:52:10.570Z"
   },
   {
    "duration": 295,
    "start_time": "2021-09-11T20:52:41.862Z"
   },
   {
    "duration": 758,
    "start_time": "2021-09-11T20:52:54.194Z"
   },
   {
    "duration": 9,
    "start_time": "2021-09-11T20:55:06.332Z"
   },
   {
    "duration": 12,
    "start_time": "2021-09-11T20:55:32.871Z"
   },
   {
    "duration": 10,
    "start_time": "2021-09-11T20:56:38.488Z"
   },
   {
    "duration": 324,
    "start_time": "2021-09-11T20:57:21.730Z"
   },
   {
    "duration": 11,
    "start_time": "2021-09-11T20:57:54.890Z"
   },
   {
    "duration": 746,
    "start_time": "2021-09-11T20:58:07.094Z"
   },
   {
    "duration": 19,
    "start_time": "2021-09-11T20:58:38.797Z"
   },
   {
    "duration": 20,
    "start_time": "2021-09-11T21:00:18.015Z"
   },
   {
    "duration": 114,
    "start_time": "2021-09-11T21:01:08.994Z"
   },
   {
    "duration": 20,
    "start_time": "2021-09-11T21:01:23.900Z"
   },
   {
    "duration": 6,
    "start_time": "2021-09-11T21:02:03.297Z"
   },
   {
    "duration": 79,
    "start_time": "2021-09-11T21:02:03.306Z"
   },
   {
    "duration": 14,
    "start_time": "2021-09-11T21:02:03.388Z"
   },
   {
    "duration": 12,
    "start_time": "2021-09-11T21:02:03.405Z"
   },
   {
    "duration": 48,
    "start_time": "2021-09-11T21:02:03.419Z"
   },
   {
    "duration": 8,
    "start_time": "2021-09-11T21:02:03.469Z"
   },
   {
    "duration": 13,
    "start_time": "2021-09-11T21:02:03.480Z"
   },
   {
    "duration": 14,
    "start_time": "2021-09-11T21:02:03.495Z"
   },
   {
    "duration": 13,
    "start_time": "2021-09-11T21:02:03.512Z"
   },
   {
    "duration": 40,
    "start_time": "2021-09-11T21:02:03.527Z"
   },
   {
    "duration": 20,
    "start_time": "2021-09-11T21:02:03.570Z"
   },
   {
    "duration": 40,
    "start_time": "2021-09-11T21:02:03.592Z"
   },
   {
    "duration": 6,
    "start_time": "2021-09-11T21:02:03.634Z"
   },
   {
    "duration": 44,
    "start_time": "2021-09-11T21:02:03.643Z"
   },
   {
    "duration": 1111,
    "start_time": "2021-09-11T21:02:03.689Z"
   },
   {
    "duration": 10,
    "start_time": "2021-09-11T21:02:04.803Z"
   },
   {
    "duration": 866,
    "start_time": "2021-09-11T21:02:04.815Z"
   },
   {
    "duration": 17,
    "start_time": "2021-09-11T21:02:05.684Z"
   },
   {
    "duration": 850,
    "start_time": "2021-09-11T21:02:05.705Z"
   },
   {
    "duration": 35,
    "start_time": "2021-09-11T21:02:06.558Z"
   },
   {
    "duration": 11,
    "start_time": "2021-09-11T21:02:06.596Z"
   },
   {
    "duration": 58,
    "start_time": "2021-09-11T21:02:06.609Z"
   },
   {
    "duration": 445,
    "start_time": "2021-09-11T21:02:06.670Z"
   },
   {
    "duration": 1113,
    "start_time": "2021-09-11T21:02:07.118Z"
   },
   {
    "duration": 2013,
    "start_time": "2021-09-11T21:02:08.234Z"
   },
   {
    "duration": 3190,
    "start_time": "2021-09-11T21:02:10.249Z"
   },
   {
    "duration": 2076,
    "start_time": "2021-09-11T21:02:13.441Z"
   },
   {
    "duration": 1099,
    "start_time": "2021-09-11T21:02:15.519Z"
   },
   {
    "duration": 26,
    "start_time": "2021-09-11T21:02:16.621Z"
   },
   {
    "duration": 53,
    "start_time": "2021-09-11T21:02:16.650Z"
   },
   {
    "duration": 21,
    "start_time": "2021-09-11T21:02:35.456Z"
   },
   {
    "duration": 755,
    "start_time": "2021-09-11T21:02:53.213Z"
   },
   {
    "duration": 895,
    "start_time": "2021-09-11T21:25:52.234Z"
   },
   {
    "duration": 8502,
    "start_time": "2021-09-11T21:30:16.358Z"
   },
   {
    "duration": 288,
    "start_time": "2021-09-11T21:33:22.465Z"
   },
   {
    "duration": 4069,
    "start_time": "2021-09-11T21:34:22.037Z"
   },
   {
    "duration": 317,
    "start_time": "2021-09-11T21:41:44.555Z"
   },
   {
    "duration": 5636,
    "start_time": "2021-09-11T21:44:56.864Z"
   },
   {
    "duration": 128,
    "start_time": "2021-09-11T22:19:57.765Z"
   },
   {
    "duration": 82,
    "start_time": "2021-09-11T22:20:40.993Z"
   },
   {
    "duration": 115,
    "start_time": "2021-09-11T22:22:08.100Z"
   },
   {
    "duration": 100,
    "start_time": "2021-09-11T22:22:30.892Z"
   },
   {
    "duration": 112,
    "start_time": "2021-09-11T22:22:57.099Z"
   },
   {
    "duration": 93,
    "start_time": "2021-09-11T22:23:09.135Z"
   },
   {
    "duration": 1463,
    "start_time": "2021-09-11T22:23:28.276Z"
   },
   {
    "duration": 79,
    "start_time": "2021-09-11T22:23:29.742Z"
   },
   {
    "duration": 17,
    "start_time": "2021-09-11T22:23:29.825Z"
   },
   {
    "duration": 15,
    "start_time": "2021-09-11T22:23:29.866Z"
   },
   {
    "duration": 9,
    "start_time": "2021-09-11T22:23:29.884Z"
   },
   {
    "duration": 10,
    "start_time": "2021-09-11T22:23:29.897Z"
   },
   {
    "duration": 8,
    "start_time": "2021-09-11T22:23:29.910Z"
   },
   {
    "duration": 10,
    "start_time": "2021-09-11T22:23:29.971Z"
   },
   {
    "duration": 10,
    "start_time": "2021-09-11T22:23:29.985Z"
   },
   {
    "duration": 11,
    "start_time": "2021-09-11T22:23:29.997Z"
   },
   {
    "duration": 64,
    "start_time": "2021-09-11T22:23:30.011Z"
   },
   {
    "duration": 35,
    "start_time": "2021-09-11T22:23:30.078Z"
   },
   {
    "duration": 7,
    "start_time": "2021-09-11T22:23:30.116Z"
   },
   {
    "duration": 55,
    "start_time": "2021-09-11T22:23:30.126Z"
   },
   {
    "duration": 831,
    "start_time": "2021-09-11T22:23:30.184Z"
   },
   {
    "duration": 11,
    "start_time": "2021-09-11T22:23:31.018Z"
   },
   {
    "duration": 635,
    "start_time": "2021-09-11T22:23:31.032Z"
   },
   {
    "duration": 23,
    "start_time": "2021-09-11T22:23:31.670Z"
   },
   {
    "duration": 867,
    "start_time": "2021-09-11T22:23:31.695Z"
   },
   {
    "duration": 30,
    "start_time": "2021-09-11T22:23:32.567Z"
   },
   {
    "duration": 10,
    "start_time": "2021-09-11T22:23:32.599Z"
   },
   {
    "duration": 56,
    "start_time": "2021-09-11T22:23:32.611Z"
   },
   {
    "duration": 513,
    "start_time": "2021-09-11T22:23:32.672Z"
   },
   {
    "duration": 1063,
    "start_time": "2021-09-11T22:23:33.188Z"
   },
   {
    "duration": 2065,
    "start_time": "2021-09-11T22:23:34.254Z"
   },
   {
    "duration": 3180,
    "start_time": "2021-09-11T22:23:36.321Z"
   },
   {
    "duration": 1986,
    "start_time": "2021-09-11T22:23:39.503Z"
   },
   {
    "duration": 1180,
    "start_time": "2021-09-11T22:23:41.492Z"
   },
   {
    "duration": 26,
    "start_time": "2021-09-11T22:23:42.674Z"
   },
   {
    "duration": 32,
    "start_time": "2021-09-11T22:23:42.702Z"
   },
   {
    "duration": 804,
    "start_time": "2021-09-11T22:23:42.737Z"
   },
   {
    "duration": 890,
    "start_time": "2021-09-11T22:23:43.543Z"
   },
   {
    "duration": 5365,
    "start_time": "2021-09-11T22:23:44.435Z"
   },
   {
    "duration": 91,
    "start_time": "2021-09-11T22:23:49.803Z"
   },
   {
    "duration": 95,
    "start_time": "2021-09-11T22:24:20.322Z"
   },
   {
    "duration": 488,
    "start_time": "2021-09-11T22:24:29.308Z"
   },
   {
    "duration": 1506,
    "start_time": "2021-09-11T22:25:02.438Z"
   },
   {
    "duration": 73,
    "start_time": "2021-09-11T22:25:03.946Z"
   },
   {
    "duration": 16,
    "start_time": "2021-09-11T22:25:04.024Z"
   },
   {
    "duration": 30,
    "start_time": "2021-09-11T22:25:04.044Z"
   },
   {
    "duration": 9,
    "start_time": "2021-09-11T22:25:04.077Z"
   },
   {
    "duration": 11,
    "start_time": "2021-09-11T22:25:04.089Z"
   },
   {
    "duration": 9,
    "start_time": "2021-09-11T22:25:04.103Z"
   },
   {
    "duration": 11,
    "start_time": "2021-09-11T22:25:04.166Z"
   },
   {
    "duration": 9,
    "start_time": "2021-09-11T22:25:04.181Z"
   },
   {
    "duration": 29,
    "start_time": "2021-09-11T22:25:04.193Z"
   },
   {
    "duration": 45,
    "start_time": "2021-09-11T22:25:04.224Z"
   },
   {
    "duration": 39,
    "start_time": "2021-09-11T22:25:04.271Z"
   },
   {
    "duration": 5,
    "start_time": "2021-09-11T22:25:04.312Z"
   },
   {
    "duration": 36,
    "start_time": "2021-09-11T22:25:04.320Z"
   },
   {
    "duration": 734,
    "start_time": "2021-09-11T22:25:04.368Z"
   },
   {
    "duration": 10,
    "start_time": "2021-09-11T22:25:05.105Z"
   },
   {
    "duration": 651,
    "start_time": "2021-09-11T22:25:05.118Z"
   },
   {
    "duration": 18,
    "start_time": "2021-09-11T22:25:05.771Z"
   },
   {
    "duration": 857,
    "start_time": "2021-09-11T22:25:05.791Z"
   },
   {
    "duration": 42,
    "start_time": "2021-09-11T22:25:06.650Z"
   },
   {
    "duration": 11,
    "start_time": "2021-09-11T22:25:06.695Z"
   },
   {
    "duration": 36,
    "start_time": "2021-09-11T22:25:06.709Z"
   },
   {
    "duration": 514,
    "start_time": "2021-09-11T22:25:06.772Z"
   },
   {
    "duration": 1155,
    "start_time": "2021-09-11T22:25:07.290Z"
   },
   {
    "duration": 2048,
    "start_time": "2021-09-11T22:25:08.448Z"
   },
   {
    "duration": 3224,
    "start_time": "2021-09-11T22:25:10.499Z"
   },
   {
    "duration": 1985,
    "start_time": "2021-09-11T22:25:13.725Z"
   },
   {
    "duration": 1227,
    "start_time": "2021-09-11T22:25:15.712Z"
   },
   {
    "duration": 35,
    "start_time": "2021-09-11T22:25:16.941Z"
   },
   {
    "duration": 33,
    "start_time": "2021-09-11T22:25:16.978Z"
   },
   {
    "duration": 788,
    "start_time": "2021-09-11T22:25:17.014Z"
   },
   {
    "duration": 918,
    "start_time": "2021-09-11T22:25:17.804Z"
   },
   {
    "duration": 5393,
    "start_time": "2021-09-11T22:25:18.725Z"
   },
   {
    "duration": 461,
    "start_time": "2021-09-11T22:25:24.120Z"
   },
   {
    "duration": 242,
    "start_time": "2021-09-11T22:26:14.194Z"
   },
   {
    "duration": 96,
    "start_time": "2021-09-11T22:26:25.678Z"
   },
   {
    "duration": 323,
    "start_time": "2021-09-11T22:26:42.970Z"
   },
   {
    "duration": 135,
    "start_time": "2021-09-11T22:27:02.627Z"
   },
   {
    "duration": 11,
    "start_time": "2021-09-11T22:40:06.662Z"
   },
   {
    "duration": 1513,
    "start_time": "2021-09-11T22:41:22.125Z"
   },
   {
    "duration": 1361,
    "start_time": "2021-09-11T22:46:18.352Z"
   },
   {
    "duration": 1326,
    "start_time": "2021-09-11T22:46:46.272Z"
   },
   {
    "duration": 1596,
    "start_time": "2021-09-11T22:47:08.923Z"
   },
   {
    "duration": 392,
    "start_time": "2021-09-11T22:48:55.207Z"
   },
   {
    "duration": 1412,
    "start_time": "2021-09-11T22:49:19.862Z"
   },
   {
    "duration": 1578,
    "start_time": "2021-09-11T22:49:30.481Z"
   },
   {
    "duration": 1557,
    "start_time": "2021-09-11T22:49:42.415Z"
   },
   {
    "duration": 1563,
    "start_time": "2021-09-11T22:51:12.464Z"
   },
   {
    "duration": 1535,
    "start_time": "2021-09-11T22:52:51.762Z"
   },
   {
    "duration": 7,
    "start_time": "2021-09-11T22:54:02.255Z"
   },
   {
    "duration": 1593,
    "start_time": "2021-09-11T22:55:09.970Z"
   },
   {
    "duration": 1110,
    "start_time": "2021-09-11T22:56:37.143Z"
   },
   {
    "duration": 1141,
    "start_time": "2021-09-11T23:01:11.219Z"
   },
   {
    "duration": 292,
    "start_time": "2021-09-11T23:01:53.459Z"
   },
   {
    "duration": 1080,
    "start_time": "2021-09-11T23:02:13.468Z"
   },
   {
    "duration": 7,
    "start_time": "2021-09-11T23:05:24.098Z"
   },
   {
    "duration": 297,
    "start_time": "2021-09-11T23:05:53.158Z"
   },
   {
    "duration": 264,
    "start_time": "2021-09-11T23:06:03.277Z"
   },
   {
    "duration": 7,
    "start_time": "2021-09-11T23:06:14.328Z"
   },
   {
    "duration": 1634,
    "start_time": "2021-09-11T23:07:22.172Z"
   },
   {
    "duration": 1478,
    "start_time": "2021-09-11T23:07:50.140Z"
   },
   {
    "duration": 1084,
    "start_time": "2021-09-11T23:08:01.386Z"
   },
   {
    "duration": 1093,
    "start_time": "2021-09-11T23:08:59.741Z"
   },
   {
    "duration": 1112,
    "start_time": "2021-09-11T23:09:28.610Z"
   },
   {
    "duration": 1283,
    "start_time": "2021-09-11T23:16:17.693Z"
   },
   {
    "duration": 1377,
    "start_time": "2021-09-11T23:17:13.396Z"
   },
   {
    "duration": 1305,
    "start_time": "2021-09-11T23:17:41.166Z"
   },
   {
    "duration": 15,
    "start_time": "2021-09-11T23:19:14.617Z"
   },
   {
    "duration": 15,
    "start_time": "2021-09-11T23:19:24.090Z"
   },
   {
    "duration": 1902,
    "start_time": "2021-09-11T23:20:06.469Z"
   },
   {
    "duration": 282,
    "start_time": "2021-09-11T23:22:12.034Z"
   },
   {
    "duration": 268,
    "start_time": "2021-09-11T23:22:18.350Z"
   },
   {
    "duration": 1941,
    "start_time": "2021-09-11T23:22:35.009Z"
   },
   {
    "duration": 2075,
    "start_time": "2021-09-11T23:23:33.592Z"
   },
   {
    "duration": 33,
    "start_time": "2021-09-11T23:32:37.533Z"
   },
   {
    "duration": 1193,
    "start_time": "2021-09-11T23:33:56.510Z"
   },
   {
    "duration": 1228,
    "start_time": "2021-09-11T23:34:24.568Z"
   },
   {
    "duration": 1316,
    "start_time": "2021-09-11T23:34:47.269Z"
   },
   {
    "duration": 1336,
    "start_time": "2021-09-11T23:35:02.093Z"
   },
   {
    "duration": 222,
    "start_time": "2021-09-11T23:35:57.563Z"
   },
   {
    "duration": 1823,
    "start_time": "2021-09-11T23:36:37.920Z"
   },
   {
    "duration": 33,
    "start_time": "2021-09-11T23:37:29.623Z"
   },
   {
    "duration": 28,
    "start_time": "2021-09-11T23:38:57.093Z"
   },
   {
    "duration": 1554,
    "start_time": "2021-09-12T00:07:39.889Z"
   },
   {
    "duration": 1940,
    "start_time": "2021-09-12T00:08:54.042Z"
   },
   {
    "duration": 2011,
    "start_time": "2021-09-12T00:09:29.191Z"
   },
   {
    "duration": 496,
    "start_time": "2021-09-12T02:57:57.437Z"
   },
   {
    "duration": 1190,
    "start_time": "2021-09-12T02:58:19.850Z"
   },
   {
    "duration": 49,
    "start_time": "2021-09-12T02:58:21.042Z"
   },
   {
    "duration": 9,
    "start_time": "2021-09-12T02:58:21.093Z"
   },
   {
    "duration": 9,
    "start_time": "2021-09-12T02:58:21.105Z"
   },
   {
    "duration": 4,
    "start_time": "2021-09-12T02:58:21.116Z"
   },
   {
    "duration": 7,
    "start_time": "2021-09-12T02:58:21.122Z"
   },
   {
    "duration": 5,
    "start_time": "2021-09-12T02:58:21.130Z"
   },
   {
    "duration": 9,
    "start_time": "2021-09-12T02:58:21.138Z"
   },
   {
    "duration": 6,
    "start_time": "2021-09-12T02:58:21.176Z"
   },
   {
    "duration": 7,
    "start_time": "2021-09-12T02:58:21.184Z"
   },
   {
    "duration": 12,
    "start_time": "2021-09-12T02:58:21.193Z"
   },
   {
    "duration": 21,
    "start_time": "2021-09-12T02:58:21.207Z"
   },
   {
    "duration": 4,
    "start_time": "2021-09-12T02:58:21.230Z"
   },
   {
    "duration": 50,
    "start_time": "2021-09-12T02:58:21.235Z"
   },
   {
    "duration": 416,
    "start_time": "2021-09-12T02:58:21.287Z"
   },
   {
    "duration": 7,
    "start_time": "2021-09-12T02:58:21.705Z"
   },
   {
    "duration": 368,
    "start_time": "2021-09-12T02:58:21.714Z"
   },
   {
    "duration": 12,
    "start_time": "2021-09-12T02:58:22.084Z"
   },
   {
    "duration": 575,
    "start_time": "2021-09-12T02:58:22.098Z"
   },
   {
    "duration": 20,
    "start_time": "2021-09-12T02:58:22.674Z"
   },
   {
    "duration": 7,
    "start_time": "2021-09-12T02:58:22.696Z"
   },
   {
    "duration": 18,
    "start_time": "2021-09-12T02:58:22.704Z"
   },
   {
    "duration": 337,
    "start_time": "2021-09-12T02:58:22.725Z"
   },
   {
    "duration": 712,
    "start_time": "2021-09-12T02:58:23.064Z"
   },
   {
    "duration": 1248,
    "start_time": "2021-09-12T02:58:23.778Z"
   },
   {
    "duration": 2082,
    "start_time": "2021-09-12T02:58:25.028Z"
   },
   {
    "duration": 1322,
    "start_time": "2021-09-12T02:58:27.111Z"
   },
   {
    "duration": 19,
    "start_time": "2021-09-12T02:58:28.435Z"
   },
   {
    "duration": 33,
    "start_time": "2021-09-12T02:58:28.455Z"
   },
   {
    "duration": 450,
    "start_time": "2021-09-12T02:58:28.490Z"
   },
   {
    "duration": 603,
    "start_time": "2021-09-12T02:58:28.941Z"
   },
   {
    "duration": 3320,
    "start_time": "2021-09-12T02:58:29.546Z"
   },
   {
    "duration": 20,
    "start_time": "2021-09-12T02:58:32.876Z"
   },
   {
    "duration": 1263,
    "start_time": "2021-09-12T02:58:32.898Z"
   },
   {
    "duration": 1296,
    "start_time": "2021-09-12T02:58:34.163Z"
   },
   {
    "duration": 1499,
    "start_time": "2021-09-12T02:58:35.461Z"
   },
   {
    "duration": 15,
    "start_time": "2021-09-12T02:58:36.961Z"
   },
   {
    "duration": 8,
    "start_time": "2021-09-12T02:59:53.076Z"
   },
   {
    "duration": 9,
    "start_time": "2021-09-12T03:01:30.405Z"
   },
   {
    "duration": 14,
    "start_time": "2021-09-12T03:02:38.554Z"
   },
   {
    "duration": 414,
    "start_time": "2021-09-12T03:36:23.392Z"
   },
   {
    "duration": 356,
    "start_time": "2021-09-12T03:36:57.113Z"
   },
   {
    "duration": 336,
    "start_time": "2021-09-12T03:40:13.242Z"
   },
   {
    "duration": 5,
    "start_time": "2021-09-12T03:40:30.506Z"
   },
   {
    "duration": 7,
    "start_time": "2021-09-12T03:41:11.225Z"
   },
   {
    "duration": 12,
    "start_time": "2021-09-12T03:41:33.906Z"
   },
   {
    "duration": 344,
    "start_time": "2021-09-12T03:43:03.458Z"
   },
   {
    "duration": 11,
    "start_time": "2021-09-12T03:43:40.175Z"
   },
   {
    "duration": 343,
    "start_time": "2021-09-12T03:45:43.559Z"
   },
   {
    "duration": 344,
    "start_time": "2021-09-12T03:46:25.894Z"
   },
   {
    "duration": 17,
    "start_time": "2021-09-12T03:47:43.748Z"
   },
   {
    "duration": 350,
    "start_time": "2021-09-12T03:48:50.176Z"
   },
   {
    "duration": 18,
    "start_time": "2021-09-12T03:49:10.533Z"
   },
   {
    "duration": 19,
    "start_time": "2021-09-12T03:49:20.611Z"
   },
   {
    "duration": 337,
    "start_time": "2021-09-12T04:00:01.853Z"
   },
   {
    "duration": 1163,
    "start_time": "2021-09-12T04:01:28.776Z"
   },
   {
    "duration": 50,
    "start_time": "2021-09-12T04:01:29.941Z"
   },
   {
    "duration": 10,
    "start_time": "2021-09-12T04:01:29.993Z"
   },
   {
    "duration": 23,
    "start_time": "2021-09-12T04:01:30.005Z"
   },
   {
    "duration": 15,
    "start_time": "2021-09-12T04:01:30.030Z"
   },
   {
    "duration": 13,
    "start_time": "2021-09-12T04:01:30.047Z"
   },
   {
    "duration": 16,
    "start_time": "2021-09-12T04:01:30.061Z"
   },
   {
    "duration": 17,
    "start_time": "2021-09-12T04:01:30.080Z"
   },
   {
    "duration": 8,
    "start_time": "2021-09-12T04:01:30.099Z"
   },
   {
    "duration": 9,
    "start_time": "2021-09-12T04:01:30.109Z"
   },
   {
    "duration": 23,
    "start_time": "2021-09-12T04:01:30.119Z"
   },
   {
    "duration": 28,
    "start_time": "2021-09-12T04:01:30.143Z"
   },
   {
    "duration": 3,
    "start_time": "2021-09-12T04:01:30.173Z"
   },
   {
    "duration": 19,
    "start_time": "2021-09-12T04:01:30.178Z"
   },
   {
    "duration": 415,
    "start_time": "2021-09-12T04:01:30.198Z"
   },
   {
    "duration": 7,
    "start_time": "2021-09-12T04:01:30.615Z"
   },
   {
    "duration": 372,
    "start_time": "2021-09-12T04:01:30.623Z"
   },
   {
    "duration": 13,
    "start_time": "2021-09-12T04:01:30.997Z"
   },
   {
    "duration": 528,
    "start_time": "2021-09-12T04:01:31.012Z"
   },
   {
    "duration": 19,
    "start_time": "2021-09-12T04:01:31.542Z"
   },
   {
    "duration": 20,
    "start_time": "2021-09-12T04:01:31.563Z"
   },
   {
    "duration": 28,
    "start_time": "2021-09-12T04:01:31.585Z"
   },
   {
    "duration": 335,
    "start_time": "2021-09-12T04:01:31.617Z"
   },
   {
    "duration": 793,
    "start_time": "2021-09-12T04:01:31.954Z"
   },
   {
    "duration": 1466,
    "start_time": "2021-09-12T04:01:32.749Z"
   },
   {
    "duration": 2264,
    "start_time": "2021-09-12T04:01:34.217Z"
   },
   {
    "duration": 1436,
    "start_time": "2021-09-12T04:01:36.483Z"
   },
   {
    "duration": 18,
    "start_time": "2021-09-12T04:01:37.921Z"
   },
   {
    "duration": 23,
    "start_time": "2021-09-12T04:01:37.941Z"
   },
   {
    "duration": 447,
    "start_time": "2021-09-12T04:01:37.977Z"
   },
   {
    "duration": 606,
    "start_time": "2021-09-12T04:01:38.426Z"
   },
   {
    "duration": 3467,
    "start_time": "2021-09-12T04:01:39.034Z"
   },
   {
    "duration": 19,
    "start_time": "2021-09-12T04:01:42.503Z"
   },
   {
    "duration": 967,
    "start_time": "2021-09-12T04:01:42.523Z"
   },
   {
    "duration": 1091,
    "start_time": "2021-09-12T04:01:43.491Z"
   },
   {
    "duration": 1281,
    "start_time": "2021-09-12T04:01:44.584Z"
   },
   {
    "duration": 13,
    "start_time": "2021-09-12T04:01:45.867Z"
   },
   {
    "duration": 10,
    "start_time": "2021-09-12T04:01:45.882Z"
   },
   {
    "duration": 16,
    "start_time": "2021-09-12T04:01:45.894Z"
   },
   {
    "duration": 8,
    "start_time": "2021-09-12T04:01:45.912Z"
   },
   {
    "duration": 19,
    "start_time": "2021-09-12T04:01:45.922Z"
   },
   {
    "duration": 460,
    "start_time": "2021-09-12T04:01:45.942Z"
   },
   {
    "duration": 368,
    "start_time": "2021-09-12T04:04:07.951Z"
   },
   {
    "duration": 1120,
    "start_time": "2021-09-12T04:04:25.107Z"
   },
   {
    "duration": 50,
    "start_time": "2021-09-12T04:04:26.228Z"
   },
   {
    "duration": 10,
    "start_time": "2021-09-12T04:04:26.279Z"
   },
   {
    "duration": 9,
    "start_time": "2021-09-12T04:04:26.291Z"
   },
   {
    "duration": 4,
    "start_time": "2021-09-12T04:04:26.302Z"
   },
   {
    "duration": 6,
    "start_time": "2021-09-12T04:04:26.308Z"
   },
   {
    "duration": 4,
    "start_time": "2021-09-12T04:04:26.315Z"
   },
   {
    "duration": 7,
    "start_time": "2021-09-12T04:04:26.322Z"
   },
   {
    "duration": 7,
    "start_time": "2021-09-12T04:04:26.331Z"
   },
   {
    "duration": 40,
    "start_time": "2021-09-12T04:04:26.339Z"
   },
   {
    "duration": 12,
    "start_time": "2021-09-12T04:04:26.380Z"
   },
   {
    "duration": 23,
    "start_time": "2021-09-12T04:04:26.394Z"
   },
   {
    "duration": 3,
    "start_time": "2021-09-12T04:04:26.419Z"
   },
   {
    "duration": 15,
    "start_time": "2021-09-12T04:04:26.424Z"
   },
   {
    "duration": 435,
    "start_time": "2021-09-12T04:04:26.441Z"
   },
   {
    "duration": 7,
    "start_time": "2021-09-12T04:04:26.878Z"
   },
   {
    "duration": 373,
    "start_time": "2021-09-12T04:04:26.887Z"
   },
   {
    "duration": 23,
    "start_time": "2021-09-12T04:04:27.262Z"
   },
   {
    "duration": 501,
    "start_time": "2021-09-12T04:04:27.287Z"
   },
   {
    "duration": 20,
    "start_time": "2021-09-12T04:04:27.790Z"
   },
   {
    "duration": 7,
    "start_time": "2021-09-12T04:04:27.812Z"
   },
   {
    "duration": 17,
    "start_time": "2021-09-12T04:04:27.820Z"
   },
   {
    "duration": 350,
    "start_time": "2021-09-12T04:04:27.840Z"
   },
   {
    "duration": 688,
    "start_time": "2021-09-12T04:04:28.193Z"
   },
   {
    "duration": 1263,
    "start_time": "2021-09-12T04:04:28.883Z"
   },
   {
    "duration": 2070,
    "start_time": "2021-09-12T04:04:30.148Z"
   },
   {
    "duration": 1356,
    "start_time": "2021-09-12T04:04:32.220Z"
   },
   {
    "duration": 19,
    "start_time": "2021-09-12T04:04:33.578Z"
   },
   {
    "duration": 20,
    "start_time": "2021-09-12T04:04:33.599Z"
   },
   {
    "duration": 501,
    "start_time": "2021-09-12T04:04:33.620Z"
   },
   {
    "duration": 695,
    "start_time": "2021-09-12T04:04:34.123Z"
   },
   {
    "duration": 3507,
    "start_time": "2021-09-12T04:04:34.820Z"
   },
   {
    "duration": 18,
    "start_time": "2021-09-12T04:04:38.329Z"
   },
   {
    "duration": 1032,
    "start_time": "2021-09-12T04:04:38.350Z"
   },
   {
    "duration": 1119,
    "start_time": "2021-09-12T04:04:39.384Z"
   },
   {
    "duration": 1192,
    "start_time": "2021-09-12T04:04:40.505Z"
   },
   {
    "duration": 10,
    "start_time": "2021-09-12T04:04:41.699Z"
   },
   {
    "duration": 8,
    "start_time": "2021-09-12T04:04:41.711Z"
   },
   {
    "duration": 8,
    "start_time": "2021-09-12T04:04:41.721Z"
   },
   {
    "duration": 8,
    "start_time": "2021-09-12T04:04:41.731Z"
   },
   {
    "duration": 52,
    "start_time": "2021-09-12T04:04:41.741Z"
   },
   {
    "duration": 448,
    "start_time": "2021-09-12T04:04:41.795Z"
   },
   {
    "duration": 453,
    "start_time": "2021-09-12T05:15:47.547Z"
   },
   {
    "duration": 413,
    "start_time": "2021-09-12T05:16:05.788Z"
   },
   {
    "duration": 437,
    "start_time": "2021-09-12T05:16:32.560Z"
   },
   {
    "duration": 372,
    "start_time": "2021-09-12T05:16:49.975Z"
   },
   {
    "duration": 375,
    "start_time": "2021-09-12T05:17:28.875Z"
   },
   {
    "duration": 361,
    "start_time": "2021-09-12T05:19:30.847Z"
   },
   {
    "duration": 23,
    "start_time": "2021-09-12T05:23:14.652Z"
   },
   {
    "duration": 23,
    "start_time": "2021-09-12T05:24:18.313Z"
   },
   {
    "duration": 366,
    "start_time": "2021-09-12T05:36:02.924Z"
   },
   {
    "duration": 360,
    "start_time": "2021-09-12T05:36:20.825Z"
   },
   {
    "duration": 15,
    "start_time": "2021-09-12T05:37:21.852Z"
   },
   {
    "duration": 3,
    "start_time": "2021-09-12T05:37:42.848Z"
   },
   {
    "duration": 17796,
    "start_time": "2021-09-12T05:37:51.407Z"
   },
   {
    "duration": 28,
    "start_time": "2021-09-12T05:38:15.386Z"
   },
   {
    "duration": 34,
    "start_time": "2021-09-12T05:39:56.045Z"
   },
   {
    "duration": 37,
    "start_time": "2021-09-12T05:42:34.808Z"
   },
   {
    "duration": 176,
    "start_time": "2021-09-12T05:45:38.780Z"
   },
   {
    "duration": 174,
    "start_time": "2021-09-12T05:46:32.918Z"
   },
   {
    "duration": 38,
    "start_time": "2021-09-12T05:49:11.202Z"
   },
   {
    "duration": 37,
    "start_time": "2021-09-12T05:49:26.615Z"
   },
   {
    "duration": 48,
    "start_time": "2021-09-12T05:49:59.901Z"
   },
   {
    "duration": 54,
    "start_time": "2021-09-12T05:51:27.740Z"
   },
   {
    "duration": 372,
    "start_time": "2021-09-12T05:52:33.577Z"
   },
   {
    "duration": 58,
    "start_time": "2021-09-12T05:53:36.893Z"
   },
   {
    "duration": 393,
    "start_time": "2021-09-12T05:58:16.886Z"
   },
   {
    "duration": 57,
    "start_time": "2021-09-12T05:59:18.926Z"
   },
   {
    "duration": 49,
    "start_time": "2021-09-12T06:02:28.529Z"
   },
   {
    "duration": 133,
    "start_time": "2021-09-12T06:11:38.476Z"
   },
   {
    "duration": 353,
    "start_time": "2021-09-12T06:11:52.907Z"
   },
   {
    "duration": 344,
    "start_time": "2021-09-12T06:12:26.423Z"
   },
   {
    "duration": 350,
    "start_time": "2021-09-12T06:13:38.703Z"
   },
   {
    "duration": 416,
    "start_time": "2021-09-12T06:14:03.098Z"
   },
   {
    "duration": 32,
    "start_time": "2021-09-12T06:21:19.831Z"
   },
   {
    "duration": 448,
    "start_time": "2021-09-12T06:22:59.790Z"
   },
   {
    "duration": 1201,
    "start_time": "2021-09-12T06:33:51.627Z"
   },
   {
    "duration": 1035,
    "start_time": "2021-09-12T06:34:56.374Z"
   },
   {
    "duration": 408,
    "start_time": "2021-09-12T06:35:31.354Z"
   },
   {
    "duration": 181,
    "start_time": "2021-09-12T06:35:54.458Z"
   },
   {
    "duration": 407,
    "start_time": "2021-09-12T06:36:10.047Z"
   },
   {
    "duration": 462,
    "start_time": "2021-09-12T06:36:38.926Z"
   },
   {
    "duration": 10979,
    "start_time": "2021-09-12T06:36:54.386Z"
   },
   {
    "duration": 124,
    "start_time": "2021-09-12T06:45:56.874Z"
   },
   {
    "duration": 23,
    "start_time": "2021-09-12T06:46:06.373Z"
   },
   {
    "duration": 1096,
    "start_time": "2021-09-12T06:46:51.800Z"
   },
   {
    "duration": 121,
    "start_time": "2021-09-12T06:46:58.362Z"
   },
   {
    "duration": 116,
    "start_time": "2021-09-12T06:47:06.254Z"
   },
   {
    "duration": 31,
    "start_time": "2021-09-12T06:47:19.115Z"
   },
   {
    "duration": 279,
    "start_time": "2021-09-12T18:47:43.245Z"
   },
   {
    "duration": 1183,
    "start_time": "2021-09-12T18:48:03.274Z"
   },
   {
    "duration": 49,
    "start_time": "2021-09-12T18:48:04.459Z"
   },
   {
    "duration": 9,
    "start_time": "2021-09-12T18:48:04.510Z"
   },
   {
    "duration": 8,
    "start_time": "2021-09-12T18:48:04.521Z"
   },
   {
    "duration": 5,
    "start_time": "2021-09-12T18:48:04.531Z"
   },
   {
    "duration": 6,
    "start_time": "2021-09-12T18:48:04.537Z"
   },
   {
    "duration": 4,
    "start_time": "2021-09-12T18:48:04.545Z"
   },
   {
    "duration": 8,
    "start_time": "2021-09-12T18:48:04.551Z"
   },
   {
    "duration": 6,
    "start_time": "2021-09-12T18:48:04.592Z"
   },
   {
    "duration": 6,
    "start_time": "2021-09-12T18:48:04.600Z"
   },
   {
    "duration": 14,
    "start_time": "2021-09-12T18:48:04.608Z"
   },
   {
    "duration": 22,
    "start_time": "2021-09-12T18:48:04.624Z"
   },
   {
    "duration": 4,
    "start_time": "2021-09-12T18:48:04.648Z"
   },
   {
    "duration": 49,
    "start_time": "2021-09-12T18:48:04.654Z"
   },
   {
    "duration": 404,
    "start_time": "2021-09-12T18:48:04.705Z"
   },
   {
    "duration": 7,
    "start_time": "2021-09-12T18:48:05.111Z"
   },
   {
    "duration": 355,
    "start_time": "2021-09-12T18:48:05.120Z"
   },
   {
    "duration": 23,
    "start_time": "2021-09-12T18:48:05.477Z"
   },
   {
    "duration": 480,
    "start_time": "2021-09-12T18:48:05.502Z"
   },
   {
    "duration": 25,
    "start_time": "2021-09-12T18:48:05.984Z"
   },
   {
    "duration": 7,
    "start_time": "2021-09-12T18:48:06.011Z"
   },
   {
    "duration": 15,
    "start_time": "2021-09-12T18:48:06.020Z"
   },
   {
    "duration": 344,
    "start_time": "2021-09-12T18:48:06.039Z"
   },
   {
    "duration": 687,
    "start_time": "2021-09-12T18:48:06.386Z"
   },
   {
    "duration": 1241,
    "start_time": "2021-09-12T18:48:07.075Z"
   },
   {
    "duration": 2059,
    "start_time": "2021-09-12T18:48:08.317Z"
   },
   {
    "duration": 1235,
    "start_time": "2021-09-12T18:48:10.378Z"
   },
   {
    "duration": 19,
    "start_time": "2021-09-12T18:48:11.615Z"
   },
   {
    "duration": 20,
    "start_time": "2021-09-12T18:48:11.636Z"
   },
   {
    "duration": 452,
    "start_time": "2021-09-12T18:48:11.658Z"
   },
   {
    "duration": 600,
    "start_time": "2021-09-12T18:48:12.112Z"
   },
   {
    "duration": 3136,
    "start_time": "2021-09-12T18:48:12.713Z"
   },
   {
    "duration": 20,
    "start_time": "2021-09-12T18:48:15.851Z"
   },
   {
    "duration": 1018,
    "start_time": "2021-09-12T18:48:15.873Z"
   },
   {
    "duration": 1096,
    "start_time": "2021-09-12T18:48:16.893Z"
   },
   {
    "duration": 1142,
    "start_time": "2021-09-12T18:48:17.991Z"
   },
   {
    "duration": 9,
    "start_time": "2021-09-12T18:48:19.135Z"
   },
   {
    "duration": 11,
    "start_time": "2021-09-12T18:48:19.145Z"
   },
   {
    "duration": 9,
    "start_time": "2021-09-12T18:48:19.158Z"
   },
   {
    "duration": 26,
    "start_time": "2021-09-12T18:48:19.168Z"
   },
   {
    "duration": 21,
    "start_time": "2021-09-12T18:48:19.196Z"
   },
   {
    "duration": 341,
    "start_time": "2021-09-12T18:48:19.219Z"
   },
   {
    "duration": 13,
    "start_time": "2021-09-12T18:48:19.562Z"
   },
   {
    "duration": 33,
    "start_time": "2021-09-12T18:48:19.577Z"
   },
   {
    "duration": 40,
    "start_time": "2021-09-12T18:48:19.612Z"
   },
   {
    "duration": 300,
    "start_time": "2021-09-12T18:49:07.715Z"
   },
   {
    "duration": 7,
    "start_time": "2021-09-12T18:49:31.886Z"
   },
   {
    "duration": 1134,
    "start_time": "2021-09-12T18:50:33.235Z"
   },
   {
    "duration": 1008,
    "start_time": "2021-09-12T18:50:49.634Z"
   },
   {
    "duration": 81,
    "start_time": "2021-09-12T18:55:11.696Z"
   },
   {
    "duration": 84,
    "start_time": "2021-09-12T18:55:40.058Z"
   },
   {
    "duration": 113,
    "start_time": "2021-09-12T18:56:26.033Z"
   },
   {
    "duration": 80,
    "start_time": "2021-09-12T18:56:46.166Z"
   },
   {
    "duration": 997,
    "start_time": "2021-09-12T18:57:36.580Z"
   },
   {
    "duration": 1120,
    "start_time": "2021-09-12T18:59:06.390Z"
   },
   {
    "duration": 873,
    "start_time": "2021-09-12T19:01:39.276Z"
   },
   {
    "duration": 879,
    "start_time": "2021-09-12T19:02:05.233Z"
   },
   {
    "duration": 674,
    "start_time": "2021-09-12T19:02:24.347Z"
   },
   {
    "duration": 442,
    "start_time": "2021-09-12T19:06:28.084Z"
   },
   {
    "duration": 275,
    "start_time": "2021-09-12T19:10:17.998Z"
   },
   {
    "duration": 5,
    "start_time": "2021-09-12T19:19:58.483Z"
   },
   {
    "duration": 14,
    "start_time": "2021-09-12T19:20:59.166Z"
   },
   {
    "duration": 649,
    "start_time": "2021-09-12T19:22:01.538Z"
   },
   {
    "duration": 327,
    "start_time": "2021-09-12T19:25:09.252Z"
   },
   {
    "duration": 245,
    "start_time": "2021-09-12T19:25:31.876Z"
   },
   {
    "duration": 241,
    "start_time": "2021-09-12T19:25:44.934Z"
   },
   {
    "duration": 14,
    "start_time": "2021-09-12T19:26:26.451Z"
   },
   {
    "duration": 305,
    "start_time": "2021-09-12T19:29:04.489Z"
   },
   {
    "duration": 1627,
    "start_time": "2021-09-12T19:29:57.525Z"
   },
   {
    "duration": 53,
    "start_time": "2021-09-12T19:29:59.154Z"
   },
   {
    "duration": 9,
    "start_time": "2021-09-12T19:29:59.209Z"
   },
   {
    "duration": 8,
    "start_time": "2021-09-12T19:29:59.220Z"
   },
   {
    "duration": 6,
    "start_time": "2021-09-12T19:29:59.230Z"
   },
   {
    "duration": 8,
    "start_time": "2021-09-12T19:29:59.237Z"
   },
   {
    "duration": 5,
    "start_time": "2021-09-12T19:29:59.247Z"
   },
   {
    "duration": 39,
    "start_time": "2021-09-12T19:29:59.254Z"
   },
   {
    "duration": 6,
    "start_time": "2021-09-12T19:29:59.295Z"
   },
   {
    "duration": 11,
    "start_time": "2021-09-12T19:29:59.302Z"
   },
   {
    "duration": 15,
    "start_time": "2021-09-12T19:29:59.315Z"
   },
   {
    "duration": 28,
    "start_time": "2021-09-12T19:29:59.332Z"
   },
   {
    "duration": 4,
    "start_time": "2021-09-12T19:29:59.361Z"
   },
   {
    "duration": 33,
    "start_time": "2021-09-12T19:29:59.367Z"
   },
   {
    "duration": 406,
    "start_time": "2021-09-12T19:29:59.401Z"
   },
   {
    "duration": 8,
    "start_time": "2021-09-12T19:29:59.808Z"
   },
   {
    "duration": 357,
    "start_time": "2021-09-12T19:29:59.818Z"
   },
   {
    "duration": 22,
    "start_time": "2021-09-12T19:30:00.177Z"
   },
   {
    "duration": 488,
    "start_time": "2021-09-12T19:30:00.200Z"
   },
   {
    "duration": 19,
    "start_time": "2021-09-12T19:30:00.692Z"
   },
   {
    "duration": 9,
    "start_time": "2021-09-12T19:30:00.712Z"
   },
   {
    "duration": 25,
    "start_time": "2021-09-12T19:30:00.723Z"
   },
   {
    "duration": 349,
    "start_time": "2021-09-12T19:30:00.752Z"
   },
   {
    "duration": 722,
    "start_time": "2021-09-12T19:30:01.104Z"
   },
   {
    "duration": 1209,
    "start_time": "2021-09-12T19:30:01.828Z"
   },
   {
    "duration": 2043,
    "start_time": "2021-09-12T19:30:03.038Z"
   },
   {
    "duration": 1357,
    "start_time": "2021-09-12T19:30:05.091Z"
   },
   {
    "duration": 17,
    "start_time": "2021-09-12T19:30:06.450Z"
   },
   {
    "duration": 30,
    "start_time": "2021-09-12T19:30:06.469Z"
   },
   {
    "duration": 444,
    "start_time": "2021-09-12T19:30:06.501Z"
   },
   {
    "duration": 637,
    "start_time": "2021-09-12T19:30:06.947Z"
   },
   {
    "duration": 3646,
    "start_time": "2021-09-12T19:30:07.586Z"
   },
   {
    "duration": 19,
    "start_time": "2021-09-12T19:30:11.233Z"
   },
   {
    "duration": 1040,
    "start_time": "2021-09-12T19:30:11.253Z"
   },
   {
    "duration": 1120,
    "start_time": "2021-09-12T19:30:12.295Z"
   },
   {
    "duration": 1204,
    "start_time": "2021-09-12T19:30:13.417Z"
   },
   {
    "duration": 8,
    "start_time": "2021-09-12T19:30:14.622Z"
   },
   {
    "duration": 11,
    "start_time": "2021-09-12T19:30:14.632Z"
   },
   {
    "duration": 10,
    "start_time": "2021-09-12T19:30:14.644Z"
   },
   {
    "duration": 37,
    "start_time": "2021-09-12T19:30:14.655Z"
   },
   {
    "duration": 21,
    "start_time": "2021-09-12T19:30:14.694Z"
   },
   {
    "duration": 348,
    "start_time": "2021-09-12T19:30:14.717Z"
   },
   {
    "duration": 13,
    "start_time": "2021-09-12T19:30:15.067Z"
   },
   {
    "duration": 33,
    "start_time": "2021-09-12T19:30:15.083Z"
   },
   {
    "duration": 17,
    "start_time": "2021-09-12T19:30:15.118Z"
   },
   {
    "duration": 728,
    "start_time": "2021-09-12T19:30:15.136Z"
   },
   {
    "duration": 353,
    "start_time": "2021-09-12T19:30:15.866Z"
   },
   {
    "duration": 285,
    "start_time": "2021-09-12T19:33:30.509Z"
   },
   {
    "duration": 271,
    "start_time": "2021-09-12T19:35:27.105Z"
   },
   {
    "duration": 302,
    "start_time": "2021-09-12T19:35:53.400Z"
   },
   {
    "duration": 5,
    "start_time": "2021-09-12T19:36:32.285Z"
   },
   {
    "duration": 6,
    "start_time": "2021-09-12T19:37:12.273Z"
   },
   {
    "duration": 9841,
    "start_time": "2021-09-12T19:38:18.206Z"
   },
   {
    "duration": 8,
    "start_time": "2021-09-12T19:38:35.329Z"
   },
   {
    "duration": 52,
    "start_time": "2021-09-12T19:38:35.339Z"
   },
   {
    "duration": 9,
    "start_time": "2021-09-12T19:38:35.393Z"
   },
   {
    "duration": 8,
    "start_time": "2021-09-12T19:38:35.404Z"
   },
   {
    "duration": 8,
    "start_time": "2021-09-12T19:38:35.413Z"
   },
   {
    "duration": 6,
    "start_time": "2021-09-12T19:38:35.423Z"
   },
   {
    "duration": 4,
    "start_time": "2021-09-12T19:38:35.430Z"
   },
   {
    "duration": 5,
    "start_time": "2021-09-12T19:38:38.451Z"
   },
   {
    "duration": 5,
    "start_time": "2021-09-12T19:38:45.897Z"
   },
   {
    "duration": 86,
    "start_time": "2021-09-12T19:39:05.949Z"
   },
   {
    "duration": 6,
    "start_time": "2021-09-12T19:39:13.314Z"
   },
   {
    "duration": 241,
    "start_time": "2021-09-12T19:40:53.755Z"
   },
   {
    "duration": 8,
    "start_time": "2021-09-12T19:41:06.866Z"
   },
   {
    "duration": 12,
    "start_time": "2021-09-12T19:41:23.252Z"
   },
   {
    "duration": 6,
    "start_time": "2021-09-12T19:41:55.254Z"
   },
   {
    "duration": 5,
    "start_time": "2021-09-12T19:42:24.012Z"
   },
   {
    "duration": 1158,
    "start_time": "2021-09-12T19:43:28.849Z"
   },
   {
    "duration": 53,
    "start_time": "2021-09-12T19:43:30.010Z"
   },
   {
    "duration": 10,
    "start_time": "2021-09-12T19:43:30.065Z"
   },
   {
    "duration": 11,
    "start_time": "2021-09-12T19:43:30.077Z"
   },
   {
    "duration": 4,
    "start_time": "2021-09-12T19:43:30.092Z"
   },
   {
    "duration": 17,
    "start_time": "2021-09-12T19:43:30.098Z"
   },
   {
    "duration": 11,
    "start_time": "2021-09-12T19:43:30.116Z"
   },
   {
    "duration": 18,
    "start_time": "2021-09-12T19:43:30.128Z"
   },
   {
    "duration": 8,
    "start_time": "2021-09-12T19:43:30.149Z"
   },
   {
    "duration": 18,
    "start_time": "2021-09-12T19:43:30.158Z"
   },
   {
    "duration": 10,
    "start_time": "2021-09-12T19:43:30.177Z"
   },
   {
    "duration": 9,
    "start_time": "2021-09-12T19:43:30.191Z"
   },
   {
    "duration": 18,
    "start_time": "2021-09-12T19:43:30.201Z"
   },
   {
    "duration": 13,
    "start_time": "2021-09-12T19:43:30.220Z"
   },
   {
    "duration": 20,
    "start_time": "2021-09-12T19:43:30.235Z"
   },
   {
    "duration": 23,
    "start_time": "2021-09-12T19:43:30.257Z"
   },
   {
    "duration": 34,
    "start_time": "2021-09-12T19:43:30.282Z"
   },
   {
    "duration": 4,
    "start_time": "2021-09-12T19:43:30.317Z"
   },
   {
    "duration": 26,
    "start_time": "2021-09-12T19:43:30.323Z"
   },
   {
    "duration": 405,
    "start_time": "2021-09-12T19:43:30.350Z"
   },
   {
    "duration": 7,
    "start_time": "2021-09-12T19:43:30.757Z"
   },
   {
    "duration": 365,
    "start_time": "2021-09-12T19:43:30.766Z"
   },
   {
    "duration": 13,
    "start_time": "2021-09-12T19:43:31.133Z"
   },
   {
    "duration": 509,
    "start_time": "2021-09-12T19:43:31.148Z"
   },
   {
    "duration": 19,
    "start_time": "2021-09-12T19:43:31.659Z"
   },
   {
    "duration": 7,
    "start_time": "2021-09-12T19:43:31.691Z"
   },
   {
    "duration": 25,
    "start_time": "2021-09-12T19:43:31.702Z"
   },
   {
    "duration": 334,
    "start_time": "2021-09-12T19:43:31.729Z"
   },
   {
    "duration": 705,
    "start_time": "2021-09-12T19:43:32.065Z"
   },
   {
    "duration": 1243,
    "start_time": "2021-09-12T19:43:32.772Z"
   },
   {
    "duration": 2190,
    "start_time": "2021-09-12T19:43:34.017Z"
   },
   {
    "duration": 1314,
    "start_time": "2021-09-12T19:43:36.209Z"
   },
   {
    "duration": 20,
    "start_time": "2021-09-12T19:43:37.525Z"
   },
   {
    "duration": 18,
    "start_time": "2021-09-12T19:43:37.547Z"
   },
   {
    "duration": 447,
    "start_time": "2021-09-12T19:43:37.567Z"
   },
   {
    "duration": 713,
    "start_time": "2021-09-12T19:43:38.016Z"
   },
   {
    "duration": 3184,
    "start_time": "2021-09-12T19:43:38.731Z"
   },
   {
    "duration": 19,
    "start_time": "2021-09-12T19:43:41.917Z"
   },
   {
    "duration": 956,
    "start_time": "2021-09-12T19:43:41.937Z"
   },
   {
    "duration": 1099,
    "start_time": "2021-09-12T19:43:42.895Z"
   },
   {
    "duration": 1154,
    "start_time": "2021-09-12T19:43:43.996Z"
   },
   {
    "duration": 8,
    "start_time": "2021-09-12T19:43:45.152Z"
   },
   {
    "duration": 8,
    "start_time": "2021-09-12T19:43:45.162Z"
   },
   {
    "duration": 26,
    "start_time": "2021-09-12T19:43:45.172Z"
   },
   {
    "duration": 12,
    "start_time": "2021-09-12T19:43:45.199Z"
   },
   {
    "duration": 22,
    "start_time": "2021-09-12T19:43:45.213Z"
   },
   {
    "duration": 342,
    "start_time": "2021-09-12T19:43:45.237Z"
   },
   {
    "duration": 21,
    "start_time": "2021-09-12T19:43:45.580Z"
   },
   {
    "duration": 21,
    "start_time": "2021-09-12T19:43:45.603Z"
   },
   {
    "duration": 15,
    "start_time": "2021-09-12T19:43:45.626Z"
   },
   {
    "duration": 695,
    "start_time": "2021-09-12T19:43:45.643Z"
   },
   {
    "duration": 345,
    "start_time": "2021-09-12T19:43:46.340Z"
   },
   {
    "duration": -885,
    "start_time": "2021-09-12T19:43:47.573Z"
   },
   {
    "duration": 263,
    "start_time": "2021-09-12T19:44:22.224Z"
   },
   {
    "duration": 10,
    "start_time": "2021-09-12T19:44:52.287Z"
   },
   {
    "duration": 301,
    "start_time": "2021-09-12T19:49:20.381Z"
   },
   {
    "duration": 5,
    "start_time": "2021-09-12T19:51:42.760Z"
   },
   {
    "duration": 51,
    "start_time": "2021-09-12T19:51:42.767Z"
   },
   {
    "duration": 11,
    "start_time": "2021-09-12T19:51:42.821Z"
   },
   {
    "duration": 12,
    "start_time": "2021-09-12T19:51:42.834Z"
   },
   {
    "duration": 8,
    "start_time": "2021-09-12T19:51:42.848Z"
   },
   {
    "duration": 34,
    "start_time": "2021-09-12T19:51:42.858Z"
   },
   {
    "duration": 5,
    "start_time": "2021-09-12T19:51:42.894Z"
   },
   {
    "duration": 6,
    "start_time": "2021-09-12T19:51:42.900Z"
   },
   {
    "duration": 7,
    "start_time": "2021-09-12T19:51:42.908Z"
   },
   {
    "duration": 10,
    "start_time": "2021-09-12T19:51:42.917Z"
   },
   {
    "duration": 5,
    "start_time": "2021-09-12T19:51:42.928Z"
   },
   {
    "duration": 10,
    "start_time": "2021-09-12T19:51:42.935Z"
   },
   {
    "duration": 47,
    "start_time": "2021-09-12T19:51:42.947Z"
   },
   {
    "duration": 5,
    "start_time": "2021-09-12T19:51:42.996Z"
   },
   {
    "duration": 11,
    "start_time": "2021-09-12T19:51:43.003Z"
   },
   {
    "duration": 18,
    "start_time": "2021-09-12T19:51:43.016Z"
   },
   {
    "duration": 23,
    "start_time": "2021-09-12T19:51:43.036Z"
   },
   {
    "duration": 4,
    "start_time": "2021-09-12T19:51:43.061Z"
   },
   {
    "duration": 39,
    "start_time": "2021-09-12T19:51:43.068Z"
   },
   {
    "duration": 520,
    "start_time": "2021-09-12T19:51:43.109Z"
   },
   {
    "duration": 8,
    "start_time": "2021-09-12T19:51:43.631Z"
   },
   {
    "duration": 565,
    "start_time": "2021-09-12T19:51:43.641Z"
   },
   {
    "duration": 11,
    "start_time": "2021-09-12T19:51:44.208Z"
   },
   {
    "duration": 582,
    "start_time": "2021-09-12T19:51:44.221Z"
   },
   {
    "duration": 20,
    "start_time": "2021-09-12T19:51:44.805Z"
   },
   {
    "duration": 6,
    "start_time": "2021-09-12T19:51:44.826Z"
   },
   {
    "duration": 17,
    "start_time": "2021-09-12T19:51:44.834Z"
   },
   {
    "duration": 270,
    "start_time": "2021-09-12T19:51:44.852Z"
   },
   {
    "duration": 667,
    "start_time": "2021-09-12T19:51:45.124Z"
   },
   {
    "duration": 1251,
    "start_time": "2021-09-12T19:51:45.793Z"
   },
   {
    "duration": 2165,
    "start_time": "2021-09-12T19:51:47.046Z"
   },
   {
    "duration": 1341,
    "start_time": "2021-09-12T19:51:49.213Z"
   },
   {
    "duration": 18,
    "start_time": "2021-09-12T19:51:50.556Z"
   },
   {
    "duration": 33,
    "start_time": "2021-09-12T19:51:50.576Z"
   },
   {
    "duration": 431,
    "start_time": "2021-09-12T19:51:50.611Z"
   },
   {
    "duration": 506,
    "start_time": "2021-09-12T19:51:51.044Z"
   },
   {
    "duration": 3422,
    "start_time": "2021-09-12T19:51:51.553Z"
   },
   {
    "duration": 30,
    "start_time": "2021-09-12T19:51:54.977Z"
   },
   {
    "duration": 996,
    "start_time": "2021-09-12T19:51:55.009Z"
   },
   {
    "duration": 1016,
    "start_time": "2021-09-12T19:51:56.007Z"
   },
   {
    "duration": 1321,
    "start_time": "2021-09-12T19:51:57.025Z"
   },
   {
    "duration": 8,
    "start_time": "2021-09-12T19:51:58.347Z"
   },
   {
    "duration": 12,
    "start_time": "2021-09-12T19:51:58.356Z"
   },
   {
    "duration": 25,
    "start_time": "2021-09-12T19:51:58.370Z"
   },
   {
    "duration": 7,
    "start_time": "2021-09-12T19:51:58.396Z"
   },
   {
    "duration": 27,
    "start_time": "2021-09-12T19:51:58.405Z"
   },
   {
    "duration": 441,
    "start_time": "2021-09-12T19:51:58.434Z"
   },
   {
    "duration": 21,
    "start_time": "2021-09-12T19:51:58.877Z"
   },
   {
    "duration": 302,
    "start_time": "2021-09-12T19:51:58.900Z"
   },
   {
    "duration": -1211,
    "start_time": "2021-09-12T19:52:00.415Z"
   },
   {
    "duration": -1216,
    "start_time": "2021-09-12T19:52:00.421Z"
   },
   {
    "duration": -1220,
    "start_time": "2021-09-12T19:52:00.426Z"
   },
   {
    "duration": 273,
    "start_time": "2021-09-12T19:52:57.008Z"
   },
   {
    "duration": 1179,
    "start_time": "2021-09-12T19:53:13.489Z"
   },
   {
    "duration": 54,
    "start_time": "2021-09-12T19:53:14.670Z"
   },
   {
    "duration": 10,
    "start_time": "2021-09-12T19:53:14.726Z"
   },
   {
    "duration": 11,
    "start_time": "2021-09-12T19:53:14.738Z"
   },
   {
    "duration": 7,
    "start_time": "2021-09-12T19:53:14.751Z"
   },
   {
    "duration": 8,
    "start_time": "2021-09-12T19:53:14.760Z"
   },
   {
    "duration": 24,
    "start_time": "2021-09-12T19:53:14.770Z"
   },
   {
    "duration": 23,
    "start_time": "2021-09-12T19:53:14.797Z"
   },
   {
    "duration": 17,
    "start_time": "2021-09-12T19:53:14.822Z"
   },
   {
    "duration": 11,
    "start_time": "2021-09-12T19:53:14.841Z"
   },
   {
    "duration": 9,
    "start_time": "2021-09-12T19:53:14.853Z"
   },
   {
    "duration": 16,
    "start_time": "2021-09-12T19:53:14.863Z"
   },
   {
    "duration": 15,
    "start_time": "2021-09-12T19:53:14.881Z"
   },
   {
    "duration": 10,
    "start_time": "2021-09-12T19:53:14.898Z"
   },
   {
    "duration": 10,
    "start_time": "2021-09-12T19:53:14.910Z"
   },
   {
    "duration": 20,
    "start_time": "2021-09-12T19:53:14.922Z"
   },
   {
    "duration": 31,
    "start_time": "2021-09-12T19:53:14.944Z"
   },
   {
    "duration": 5,
    "start_time": "2021-09-12T19:53:14.992Z"
   },
   {
    "duration": 19,
    "start_time": "2021-09-12T19:53:14.998Z"
   },
   {
    "duration": 435,
    "start_time": "2021-09-12T19:53:15.019Z"
   },
   {
    "duration": 9,
    "start_time": "2021-09-12T19:53:15.455Z"
   },
   {
    "duration": 393,
    "start_time": "2021-09-12T19:53:15.465Z"
   },
   {
    "duration": 12,
    "start_time": "2021-09-12T19:53:15.862Z"
   },
   {
    "duration": 576,
    "start_time": "2021-09-12T19:53:15.876Z"
   },
   {
    "duration": 20,
    "start_time": "2021-09-12T19:53:16.454Z"
   },
   {
    "duration": 20,
    "start_time": "2021-09-12T19:53:16.475Z"
   },
   {
    "duration": 18,
    "start_time": "2021-09-12T19:53:16.496Z"
   },
   {
    "duration": 271,
    "start_time": "2021-09-12T19:53:16.516Z"
   },
   {
    "duration": 804,
    "start_time": "2021-09-12T19:53:16.791Z"
   },
   {
    "duration": 1257,
    "start_time": "2021-09-12T19:53:17.596Z"
   },
   {
    "duration": 2057,
    "start_time": "2021-09-12T19:53:18.856Z"
   },
   {
    "duration": 1207,
    "start_time": "2021-09-12T19:53:20.914Z"
   },
   {
    "duration": 20,
    "start_time": "2021-09-12T19:53:22.123Z"
   },
   {
    "duration": 21,
    "start_time": "2021-09-12T19:53:22.144Z"
   },
   {
    "duration": 458,
    "start_time": "2021-09-12T19:53:22.167Z"
   },
   {
    "duration": 511,
    "start_time": "2021-09-12T19:53:22.627Z"
   },
   {
    "duration": 3524,
    "start_time": "2021-09-12T19:53:23.141Z"
   },
   {
    "duration": 32,
    "start_time": "2021-09-12T19:53:26.668Z"
   },
   {
    "duration": 986,
    "start_time": "2021-09-12T19:53:26.702Z"
   },
   {
    "duration": 1002,
    "start_time": "2021-09-12T19:53:27.691Z"
   },
   {
    "duration": 1574,
    "start_time": "2021-09-12T19:53:28.695Z"
   },
   {
    "duration": 8,
    "start_time": "2021-09-12T19:53:30.271Z"
   },
   {
    "duration": 7,
    "start_time": "2021-09-12T19:53:30.292Z"
   },
   {
    "duration": 20,
    "start_time": "2021-09-12T19:53:30.301Z"
   },
   {
    "duration": 12,
    "start_time": "2021-09-12T19:53:30.323Z"
   },
   {
    "duration": 32,
    "start_time": "2021-09-12T19:53:30.336Z"
   },
   {
    "duration": 335,
    "start_time": "2021-09-12T19:53:30.370Z"
   },
   {
    "duration": 14,
    "start_time": "2021-09-12T19:53:30.707Z"
   },
   {
    "duration": 25,
    "start_time": "2021-09-12T19:53:30.723Z"
   },
   {
    "duration": 16,
    "start_time": "2021-09-12T19:53:30.750Z"
   },
   {
    "duration": 692,
    "start_time": "2021-09-12T19:53:30.768Z"
   },
   {
    "duration": 11,
    "start_time": "2021-09-12T19:53:31.462Z"
   },
   {
    "duration": 360,
    "start_time": "2021-09-12T19:53:31.475Z"
   },
   {
    "duration": -1426,
    "start_time": "2021-09-12T19:53:33.263Z"
   },
   {
    "duration": 26,
    "start_time": "2021-09-12T19:54:41.743Z"
   },
   {
    "duration": 37,
    "start_time": "2021-09-12T19:55:04.228Z"
   },
   {
    "duration": 346,
    "start_time": "2021-09-12T19:56:12.547Z"
   },
   {
    "duration": 18,
    "start_time": "2021-09-12T19:57:05.027Z"
   },
   {
    "duration": 255,
    "start_time": "2021-09-12T19:58:25.138Z"
   },
   {
    "duration": 269,
    "start_time": "2021-09-12T20:00:15.515Z"
   },
   {
    "duration": 329,
    "start_time": "2021-09-12T20:00:35.427Z"
   },
   {
    "duration": 12,
    "start_time": "2021-09-12T20:02:03.151Z"
   },
   {
    "duration": 14,
    "start_time": "2021-09-12T20:02:25.501Z"
   },
   {
    "duration": 250,
    "start_time": "2021-09-12T20:02:46.056Z"
   },
   {
    "duration": 1157,
    "start_time": "2021-09-12T20:06:33.086Z"
   },
   {
    "duration": 48,
    "start_time": "2021-09-12T20:06:34.245Z"
   },
   {
    "duration": 9,
    "start_time": "2021-09-12T20:06:34.295Z"
   },
   {
    "duration": 9,
    "start_time": "2021-09-12T20:06:34.306Z"
   },
   {
    "duration": 6,
    "start_time": "2021-09-12T20:06:34.316Z"
   },
   {
    "duration": 6,
    "start_time": "2021-09-12T20:06:34.324Z"
   },
   {
    "duration": 5,
    "start_time": "2021-09-12T20:06:34.332Z"
   },
   {
    "duration": 5,
    "start_time": "2021-09-12T20:06:34.340Z"
   },
   {
    "duration": 7,
    "start_time": "2021-09-12T20:06:34.347Z"
   },
   {
    "duration": 44,
    "start_time": "2021-09-12T20:06:34.356Z"
   },
   {
    "duration": 5,
    "start_time": "2021-09-12T20:06:34.402Z"
   },
   {
    "duration": 7,
    "start_time": "2021-09-12T20:06:34.409Z"
   },
   {
    "duration": 10,
    "start_time": "2021-09-12T20:06:34.417Z"
   },
   {
    "duration": 8,
    "start_time": "2021-09-12T20:06:34.429Z"
   },
   {
    "duration": 9,
    "start_time": "2021-09-12T20:06:34.439Z"
   },
   {
    "duration": 42,
    "start_time": "2021-09-12T20:06:34.450Z"
   },
   {
    "duration": 22,
    "start_time": "2021-09-12T20:06:34.494Z"
   },
   {
    "duration": 5,
    "start_time": "2021-09-12T20:06:34.517Z"
   },
   {
    "duration": 20,
    "start_time": "2021-09-12T20:06:34.524Z"
   },
   {
    "duration": 559,
    "start_time": "2021-09-12T20:06:34.545Z"
   },
   {
    "duration": 7,
    "start_time": "2021-09-12T20:06:35.106Z"
   },
   {
    "duration": 346,
    "start_time": "2021-09-12T20:06:35.115Z"
   },
   {
    "duration": 11,
    "start_time": "2021-09-12T20:06:35.465Z"
   },
   {
    "duration": 483,
    "start_time": "2021-09-12T20:06:35.478Z"
   },
   {
    "duration": 30,
    "start_time": "2021-09-12T20:06:35.962Z"
   },
   {
    "duration": 7,
    "start_time": "2021-09-12T20:06:35.994Z"
   },
   {
    "duration": 16,
    "start_time": "2021-09-12T20:06:36.003Z"
   },
   {
    "duration": 264,
    "start_time": "2021-09-12T20:06:36.021Z"
   },
   {
    "duration": 771,
    "start_time": "2021-09-12T20:06:36.291Z"
   },
   {
    "duration": 1158,
    "start_time": "2021-09-12T20:06:37.064Z"
   },
   {
    "duration": 1980,
    "start_time": "2021-09-12T20:06:38.223Z"
   },
   {
    "duration": 1232,
    "start_time": "2021-09-12T20:06:40.205Z"
   },
   {
    "duration": 20,
    "start_time": "2021-09-12T20:06:41.439Z"
   },
   {
    "duration": 36,
    "start_time": "2021-09-12T20:06:41.461Z"
   },
   {
    "duration": 426,
    "start_time": "2021-09-12T20:06:41.499Z"
   },
   {
    "duration": 498,
    "start_time": "2021-09-12T20:06:41.927Z"
   },
   {
    "duration": 3346,
    "start_time": "2021-09-12T20:06:42.428Z"
   },
   {
    "duration": 28,
    "start_time": "2021-09-12T20:06:45.775Z"
   },
   {
    "duration": 964,
    "start_time": "2021-09-12T20:06:45.805Z"
   },
   {
    "duration": 926,
    "start_time": "2021-09-12T20:06:46.770Z"
   },
   {
    "duration": 1231,
    "start_time": "2021-09-12T20:06:47.698Z"
   },
   {
    "duration": 7,
    "start_time": "2021-09-12T20:06:48.931Z"
   },
   {
    "duration": 9,
    "start_time": "2021-09-12T20:06:48.940Z"
   },
   {
    "duration": 6,
    "start_time": "2021-09-12T20:06:48.951Z"
   },
   {
    "duration": 9,
    "start_time": "2021-09-12T20:06:48.958Z"
   },
   {
    "duration": 21,
    "start_time": "2021-09-12T20:06:48.991Z"
   },
   {
    "duration": 345,
    "start_time": "2021-09-12T20:06:49.014Z"
   },
   {
    "duration": 14,
    "start_time": "2021-09-12T20:06:49.361Z"
   },
   {
    "duration": 33,
    "start_time": "2021-09-12T20:06:49.377Z"
   },
   {
    "duration": 14,
    "start_time": "2021-09-12T20:06:49.412Z"
   },
   {
    "duration": 677,
    "start_time": "2021-09-12T20:06:49.428Z"
   },
   {
    "duration": 10,
    "start_time": "2021-09-12T20:06:50.107Z"
   },
   {
    "duration": 24,
    "start_time": "2021-09-12T20:06:50.118Z"
   },
   {
    "duration": 22,
    "start_time": "2021-09-12T20:06:50.144Z"
   },
   {
    "duration": 5,
    "start_time": "2021-09-12T20:10:20.050Z"
   },
   {
    "duration": 29,
    "start_time": "2021-09-12T20:11:34.952Z"
   },
   {
    "duration": 5,
    "start_time": "2021-09-12T20:13:09.165Z"
   },
   {
    "duration": 640,
    "start_time": "2021-09-12T20:14:09.453Z"
   },
   {
    "duration": 28,
    "start_time": "2021-09-12T20:15:34.278Z"
   },
   {
    "duration": 661,
    "start_time": "2021-09-12T20:15:37.026Z"
   },
   {
    "duration": 31,
    "start_time": "2021-09-12T20:17:24.272Z"
   },
   {
    "duration": 642,
    "start_time": "2021-09-12T20:17:36.831Z"
   },
   {
    "duration": 120,
    "start_time": "2021-09-12T20:19:23.149Z"
   },
   {
    "duration": 30,
    "start_time": "2021-09-12T20:19:25.608Z"
   },
   {
    "duration": 1422,
    "start_time": "2021-09-12T20:19:26.957Z"
   },
   {
    "duration": 6,
    "start_time": "2021-09-12T20:20:06.281Z"
   },
   {
    "duration": 30,
    "start_time": "2021-09-12T20:20:07.392Z"
   },
   {
    "duration": 695,
    "start_time": "2021-09-12T20:20:08.767Z"
   },
   {
    "duration": 30,
    "start_time": "2021-09-12T20:20:29.728Z"
   },
   {
    "duration": 641,
    "start_time": "2021-09-12T20:20:32.583Z"
   },
   {
    "duration": 31,
    "start_time": "2021-09-12T20:20:39.994Z"
   },
   {
    "duration": 651,
    "start_time": "2021-09-12T20:20:41.168Z"
   },
   {
    "duration": 33,
    "start_time": "2021-09-12T20:43:17.084Z"
   },
   {
    "duration": 666,
    "start_time": "2021-09-12T20:43:21.798Z"
   },
   {
    "duration": 34,
    "start_time": "2021-09-12T20:43:39.506Z"
   },
   {
    "duration": 765,
    "start_time": "2021-09-12T20:43:42.353Z"
   },
   {
    "duration": 33,
    "start_time": "2021-09-12T20:43:52.446Z"
   },
   {
    "duration": 696,
    "start_time": "2021-09-12T20:43:56.315Z"
   },
   {
    "duration": 5,
    "start_time": "2021-09-12T20:59:33.024Z"
   },
   {
    "duration": 12,
    "start_time": "2021-09-12T21:00:38.505Z"
   },
   {
    "duration": 16,
    "start_time": "2021-09-12T21:00:59.398Z"
   },
   {
    "duration": 270,
    "start_time": "2021-09-12T21:03:17.320Z"
   },
   {
    "duration": 296,
    "start_time": "2021-09-12T21:03:30.229Z"
   },
   {
    "duration": 284,
    "start_time": "2021-09-12T21:03:40.900Z"
   },
   {
    "duration": 20,
    "start_time": "2021-09-12T21:04:17.657Z"
   },
   {
    "duration": 7,
    "start_time": "2021-09-12T21:05:25.696Z"
   },
   {
    "duration": 971,
    "start_time": "2021-09-12T21:06:09.623Z"
   },
   {
    "duration": 1432,
    "start_time": "2021-09-12T21:07:34.865Z"
   },
   {
    "duration": 1056,
    "start_time": "2021-09-12T21:08:09.058Z"
   },
   {
    "duration": 20,
    "start_time": "2021-09-12T21:10:48.544Z"
   },
   {
    "duration": 17,
    "start_time": "2021-09-12T21:12:12.394Z"
   },
   {
    "duration": 19,
    "start_time": "2021-09-12T21:12:25.039Z"
   },
   {
    "duration": 13,
    "start_time": "2021-09-12T21:37:36.356Z"
   },
   {
    "duration": 1021,
    "start_time": "2021-09-12T21:39:30.473Z"
   },
   {
    "duration": 13,
    "start_time": "2021-09-12T21:39:42.960Z"
   },
   {
    "duration": 251,
    "start_time": "2021-09-12T21:39:48.323Z"
   },
   {
    "duration": 3280,
    "start_time": "2021-09-12T21:40:21.101Z"
   },
   {
    "duration": 1180,
    "start_time": "2021-09-12T21:44:55.062Z"
   },
   {
    "duration": 51,
    "start_time": "2021-09-12T21:44:56.244Z"
   },
   {
    "duration": 10,
    "start_time": "2021-09-12T21:44:56.298Z"
   },
   {
    "duration": 10,
    "start_time": "2021-09-12T21:44:56.310Z"
   },
   {
    "duration": 9,
    "start_time": "2021-09-12T21:44:56.322Z"
   },
   {
    "duration": 11,
    "start_time": "2021-09-12T21:44:56.332Z"
   },
   {
    "duration": 15,
    "start_time": "2021-09-12T21:44:56.345Z"
   },
   {
    "duration": 15,
    "start_time": "2021-09-12T21:44:56.362Z"
   },
   {
    "duration": 14,
    "start_time": "2021-09-12T21:44:56.378Z"
   },
   {
    "duration": 12,
    "start_time": "2021-09-12T21:44:56.394Z"
   },
   {
    "duration": 8,
    "start_time": "2021-09-12T21:44:56.407Z"
   },
   {
    "duration": 6,
    "start_time": "2021-09-12T21:44:56.417Z"
   },
   {
    "duration": 14,
    "start_time": "2021-09-12T21:44:56.424Z"
   },
   {
    "duration": 16,
    "start_time": "2021-09-12T21:44:56.439Z"
   },
   {
    "duration": 21,
    "start_time": "2021-09-12T21:44:56.456Z"
   },
   {
    "duration": 21,
    "start_time": "2021-09-12T21:44:56.479Z"
   },
   {
    "duration": 27,
    "start_time": "2021-09-12T21:44:56.501Z"
   },
   {
    "duration": 4,
    "start_time": "2021-09-12T21:44:56.530Z"
   },
   {
    "duration": 31,
    "start_time": "2021-09-12T21:44:56.535Z"
   },
   {
    "duration": 410,
    "start_time": "2021-09-12T21:44:56.567Z"
   },
   {
    "duration": 7,
    "start_time": "2021-09-12T21:44:56.979Z"
   },
   {
    "duration": 350,
    "start_time": "2021-09-12T21:44:56.992Z"
   },
   {
    "duration": 11,
    "start_time": "2021-09-12T21:44:57.346Z"
   },
   {
    "duration": 469,
    "start_time": "2021-09-12T21:44:57.359Z"
   },
   {
    "duration": 19,
    "start_time": "2021-09-12T21:44:57.830Z"
   },
   {
    "duration": 6,
    "start_time": "2021-09-12T21:44:57.851Z"
   },
   {
    "duration": 34,
    "start_time": "2021-09-12T21:44:57.858Z"
   },
   {
    "duration": 247,
    "start_time": "2021-09-12T21:44:57.894Z"
   },
   {
    "duration": 748,
    "start_time": "2021-09-12T21:44:58.143Z"
   },
   {
    "duration": 1239,
    "start_time": "2021-09-12T21:44:58.893Z"
   },
   {
    "duration": 2037,
    "start_time": "2021-09-12T21:45:00.134Z"
   },
   {
    "duration": 1224,
    "start_time": "2021-09-12T21:45:02.173Z"
   },
   {
    "duration": 18,
    "start_time": "2021-09-12T21:45:03.399Z"
   },
   {
    "duration": 17,
    "start_time": "2021-09-12T21:45:03.419Z"
   },
   {
    "duration": 432,
    "start_time": "2021-09-12T21:45:03.437Z"
   },
   {
    "duration": 500,
    "start_time": "2021-09-12T21:45:03.871Z"
   },
   {
    "duration": 3242,
    "start_time": "2021-09-12T21:45:04.373Z"
   },
   {
    "duration": 18,
    "start_time": "2021-09-12T21:45:07.617Z"
   },
   {
    "duration": 951,
    "start_time": "2021-09-12T21:45:07.637Z"
   },
   {
    "duration": 1011,
    "start_time": "2021-09-12T21:45:08.591Z"
   },
   {
    "duration": 1236,
    "start_time": "2021-09-12T21:45:09.604Z"
   },
   {
    "duration": 7,
    "start_time": "2021-09-12T21:45:10.842Z"
   },
   {
    "duration": 12,
    "start_time": "2021-09-12T21:45:10.851Z"
   },
   {
    "duration": 19,
    "start_time": "2021-09-12T21:45:10.864Z"
   },
   {
    "duration": 7,
    "start_time": "2021-09-12T21:45:10.891Z"
   },
   {
    "duration": 29,
    "start_time": "2021-09-12T21:45:10.899Z"
   },
   {
    "duration": 322,
    "start_time": "2021-09-12T21:45:10.930Z"
   },
   {
    "duration": 12,
    "start_time": "2021-09-12T21:45:11.254Z"
   },
   {
    "duration": 10,
    "start_time": "2021-09-12T21:45:11.267Z"
   },
   {
    "duration": 41,
    "start_time": "2021-09-12T21:45:11.279Z"
   },
   {
    "duration": 676,
    "start_time": "2021-09-12T21:45:11.322Z"
   },
   {
    "duration": 29,
    "start_time": "2021-09-12T21:45:11.999Z"
   },
   {
    "duration": 669,
    "start_time": "2021-09-12T21:45:12.030Z"
   },
   {
    "duration": 32,
    "start_time": "2021-09-12T21:45:12.700Z"
   },
   {
    "duration": 682,
    "start_time": "2021-09-12T21:45:12.733Z"
   },
   {
    "duration": 6,
    "start_time": "2021-09-12T21:45:13.416Z"
   },
   {
    "duration": 19,
    "start_time": "2021-09-12T21:45:13.423Z"
   },
   {
    "duration": 496,
    "start_time": "2021-09-12T21:45:13.444Z"
   },
   {
    "duration": 7727,
    "start_time": "2021-09-12T21:45:52.688Z"
   },
   {
    "duration": 242,
    "start_time": "2021-09-12T21:47:26.628Z"
   },
   {
    "duration": 999,
    "start_time": "2021-09-12T21:48:03.466Z"
   },
   {
    "duration": 25,
    "start_time": "2021-09-12T21:48:36.400Z"
   },
   {
    "duration": 1163,
    "start_time": "2021-09-12T21:48:54.881Z"
   },
   {
    "duration": 49,
    "start_time": "2021-09-12T21:48:56.046Z"
   },
   {
    "duration": 9,
    "start_time": "2021-09-12T21:48:56.097Z"
   },
   {
    "duration": 8,
    "start_time": "2021-09-12T21:48:56.108Z"
   },
   {
    "duration": 5,
    "start_time": "2021-09-12T21:48:56.118Z"
   },
   {
    "duration": 7,
    "start_time": "2021-09-12T21:48:56.125Z"
   },
   {
    "duration": 5,
    "start_time": "2021-09-12T21:48:56.133Z"
   },
   {
    "duration": 11,
    "start_time": "2021-09-12T21:48:56.141Z"
   },
   {
    "duration": 7,
    "start_time": "2021-09-12T21:48:56.153Z"
   },
   {
    "duration": 37,
    "start_time": "2021-09-12T21:48:56.161Z"
   },
   {
    "duration": 5,
    "start_time": "2021-09-12T21:48:56.199Z"
   },
   {
    "duration": 9,
    "start_time": "2021-09-12T21:48:56.205Z"
   },
   {
    "duration": 15,
    "start_time": "2021-09-12T21:48:56.215Z"
   },
   {
    "duration": 8,
    "start_time": "2021-09-12T21:48:56.232Z"
   },
   {
    "duration": 9,
    "start_time": "2021-09-12T21:48:56.241Z"
   },
   {
    "duration": 16,
    "start_time": "2021-09-12T21:48:56.252Z"
   },
   {
    "duration": 43,
    "start_time": "2021-09-12T21:48:56.270Z"
   },
   {
    "duration": 5,
    "start_time": "2021-09-12T21:48:56.316Z"
   },
   {
    "duration": 25,
    "start_time": "2021-09-12T21:48:56.323Z"
   },
   {
    "duration": 418,
    "start_time": "2021-09-12T21:48:56.350Z"
   },
   {
    "duration": 6,
    "start_time": "2021-09-12T21:48:56.770Z"
   },
   {
    "duration": 356,
    "start_time": "2021-09-12T21:48:56.778Z"
   },
   {
    "duration": 12,
    "start_time": "2021-09-12T21:48:57.138Z"
   },
   {
    "duration": 486,
    "start_time": "2021-09-12T21:48:57.152Z"
   },
   {
    "duration": 19,
    "start_time": "2021-09-12T21:48:57.639Z"
   },
   {
    "duration": 7,
    "start_time": "2021-09-12T21:48:57.659Z"
   },
   {
    "duration": 36,
    "start_time": "2021-09-12T21:48:57.668Z"
   },
   {
    "duration": 386,
    "start_time": "2021-09-12T21:48:57.706Z"
   },
   {
    "duration": 1101,
    "start_time": "2021-09-12T21:48:58.094Z"
   },
   {
    "duration": 1763,
    "start_time": "2021-09-12T21:48:59.197Z"
   },
   {
    "duration": 2274,
    "start_time": "2021-09-12T21:49:00.962Z"
   },
   {
    "duration": 1288,
    "start_time": "2021-09-12T21:49:03.237Z"
   },
   {
    "duration": 21,
    "start_time": "2021-09-12T21:49:04.527Z"
   },
   {
    "duration": 18,
    "start_time": "2021-09-12T21:49:04.550Z"
   },
   {
    "duration": 443,
    "start_time": "2021-09-12T21:49:04.569Z"
   },
   {
    "duration": 503,
    "start_time": "2021-09-12T21:49:05.014Z"
   },
   {
    "duration": 3177,
    "start_time": "2021-09-12T21:49:05.519Z"
   },
   {
    "duration": 19,
    "start_time": "2021-09-12T21:49:08.698Z"
   },
   {
    "duration": 1077,
    "start_time": "2021-09-12T21:49:08.719Z"
   },
   {
    "duration": 1095,
    "start_time": "2021-09-12T21:49:09.799Z"
   },
   {
    "duration": 1286,
    "start_time": "2021-09-12T21:49:10.896Z"
   },
   {
    "duration": 8,
    "start_time": "2021-09-12T21:49:12.191Z"
   },
   {
    "duration": 9,
    "start_time": "2021-09-12T21:49:12.201Z"
   },
   {
    "duration": 12,
    "start_time": "2021-09-12T21:49:12.211Z"
   },
   {
    "duration": 14,
    "start_time": "2021-09-12T21:49:12.225Z"
   },
   {
    "duration": 28,
    "start_time": "2021-09-12T21:49:12.241Z"
   },
   {
    "duration": 330,
    "start_time": "2021-09-12T21:49:12.271Z"
   },
   {
    "duration": 13,
    "start_time": "2021-09-12T21:49:12.603Z"
   },
   {
    "duration": 8,
    "start_time": "2021-09-12T21:49:12.617Z"
   },
   {
    "duration": 36,
    "start_time": "2021-09-12T21:49:12.627Z"
   },
   {
    "duration": 656,
    "start_time": "2021-09-12T21:49:12.665Z"
   },
   {
    "duration": 29,
    "start_time": "2021-09-12T21:49:13.323Z"
   },
   {
    "duration": 684,
    "start_time": "2021-09-12T21:49:13.353Z"
   },
   {
    "duration": 32,
    "start_time": "2021-09-12T21:49:14.039Z"
   },
   {
    "duration": 683,
    "start_time": "2021-09-12T21:49:14.073Z"
   },
   {
    "duration": 5,
    "start_time": "2021-09-12T21:49:14.758Z"
   },
   {
    "duration": 36,
    "start_time": "2021-09-12T21:49:14.764Z"
   },
   {
    "duration": 527,
    "start_time": "2021-09-12T21:49:14.802Z"
   },
   {
    "duration": 1307,
    "start_time": "2021-09-12T21:50:18.140Z"
   },
   {
    "duration": 1167,
    "start_time": "2021-09-12T21:50:33.286Z"
   },
   {
    "duration": 48,
    "start_time": "2021-09-12T21:50:34.455Z"
   },
   {
    "duration": 10,
    "start_time": "2021-09-12T21:50:34.505Z"
   },
   {
    "duration": 9,
    "start_time": "2021-09-12T21:50:34.517Z"
   },
   {
    "duration": 6,
    "start_time": "2021-09-12T21:50:34.529Z"
   },
   {
    "duration": 7,
    "start_time": "2021-09-12T21:50:34.537Z"
   },
   {
    "duration": 6,
    "start_time": "2021-09-12T21:50:34.546Z"
   },
   {
    "duration": 40,
    "start_time": "2021-09-12T21:50:34.555Z"
   },
   {
    "duration": 9,
    "start_time": "2021-09-12T21:50:34.597Z"
   },
   {
    "duration": 11,
    "start_time": "2021-09-12T21:50:34.608Z"
   },
   {
    "duration": 7,
    "start_time": "2021-09-12T21:50:34.621Z"
   },
   {
    "duration": 13,
    "start_time": "2021-09-12T21:50:34.629Z"
   },
   {
    "duration": 9,
    "start_time": "2021-09-12T21:50:34.645Z"
   },
   {
    "duration": 10,
    "start_time": "2021-09-12T21:50:34.656Z"
   },
   {
    "duration": 28,
    "start_time": "2021-09-12T21:50:34.668Z"
   },
   {
    "duration": 17,
    "start_time": "2021-09-12T21:50:34.697Z"
   },
   {
    "duration": 25,
    "start_time": "2021-09-12T21:50:34.715Z"
   },
   {
    "duration": 4,
    "start_time": "2021-09-12T21:50:34.741Z"
   },
   {
    "duration": 20,
    "start_time": "2021-09-12T21:50:34.747Z"
   },
   {
    "duration": 427,
    "start_time": "2021-09-12T21:50:34.768Z"
   },
   {
    "duration": 7,
    "start_time": "2021-09-12T21:50:35.197Z"
   },
   {
    "duration": 350,
    "start_time": "2021-09-12T21:50:35.205Z"
   },
   {
    "duration": 17,
    "start_time": "2021-09-12T21:50:35.560Z"
   },
   {
    "duration": 731,
    "start_time": "2021-09-12T21:50:35.592Z"
   },
   {
    "duration": 27,
    "start_time": "2021-09-12T21:50:36.325Z"
   },
   {
    "duration": 7,
    "start_time": "2021-09-12T21:50:36.354Z"
   },
   {
    "duration": 35,
    "start_time": "2021-09-12T21:50:36.362Z"
   },
   {
    "duration": 267,
    "start_time": "2021-09-12T21:50:36.399Z"
   },
   {
    "duration": 808,
    "start_time": "2021-09-12T21:50:36.668Z"
   },
   {
    "duration": 1358,
    "start_time": "2021-09-12T21:50:37.478Z"
   },
   {
    "duration": 2182,
    "start_time": "2021-09-12T21:50:38.838Z"
   },
   {
    "duration": 1027,
    "start_time": "2021-09-12T21:50:41.021Z"
   },
   {
    "duration": -973,
    "start_time": "2021-09-12T21:50:43.023Z"
   },
   {
    "duration": -979,
    "start_time": "2021-09-12T21:50:43.030Z"
   },
   {
    "duration": -985,
    "start_time": "2021-09-12T21:50:43.037Z"
   },
   {
    "duration": -990,
    "start_time": "2021-09-12T21:50:43.043Z"
   },
   {
    "duration": -994,
    "start_time": "2021-09-12T21:50:43.048Z"
   },
   {
    "duration": -1000,
    "start_time": "2021-09-12T21:50:43.055Z"
   },
   {
    "duration": -1004,
    "start_time": "2021-09-12T21:50:43.060Z"
   },
   {
    "duration": -1009,
    "start_time": "2021-09-12T21:50:43.066Z"
   },
   {
    "duration": -1014,
    "start_time": "2021-09-12T21:50:43.072Z"
   },
   {
    "duration": -1018,
    "start_time": "2021-09-12T21:50:43.077Z"
   },
   {
    "duration": -1023,
    "start_time": "2021-09-12T21:50:43.083Z"
   },
   {
    "duration": -1028,
    "start_time": "2021-09-12T21:50:43.089Z"
   },
   {
    "duration": -1042,
    "start_time": "2021-09-12T21:50:43.104Z"
   },
   {
    "duration": -1047,
    "start_time": "2021-09-12T21:50:43.110Z"
   },
   {
    "duration": -1052,
    "start_time": "2021-09-12T21:50:43.116Z"
   },
   {
    "duration": -1056,
    "start_time": "2021-09-12T21:50:43.121Z"
   },
   {
    "duration": -1061,
    "start_time": "2021-09-12T21:50:43.127Z"
   },
   {
    "duration": -1066,
    "start_time": "2021-09-12T21:50:43.133Z"
   },
   {
    "duration": -1070,
    "start_time": "2021-09-12T21:50:43.138Z"
   },
   {
    "duration": -1254,
    "start_time": "2021-09-12T21:50:43.323Z"
   },
   {
    "duration": -1259,
    "start_time": "2021-09-12T21:50:43.329Z"
   },
   {
    "duration": -1265,
    "start_time": "2021-09-12T21:50:43.336Z"
   },
   {
    "duration": -1269,
    "start_time": "2021-09-12T21:50:43.341Z"
   },
   {
    "duration": -1276,
    "start_time": "2021-09-12T21:50:43.348Z"
   },
   {
    "duration": -1280,
    "start_time": "2021-09-12T21:50:43.353Z"
   },
   {
    "duration": -1284,
    "start_time": "2021-09-12T21:50:43.359Z"
   },
   {
    "duration": 1205,
    "start_time": "2021-09-12T21:52:42.211Z"
   },
   {
    "duration": 1148,
    "start_time": "2021-09-12T21:52:58.497Z"
   },
   {
    "duration": 47,
    "start_time": "2021-09-12T21:52:59.647Z"
   },
   {
    "duration": 9,
    "start_time": "2021-09-12T21:52:59.696Z"
   },
   {
    "duration": 8,
    "start_time": "2021-09-12T21:52:59.707Z"
   },
   {
    "duration": 5,
    "start_time": "2021-09-12T21:52:59.717Z"
   },
   {
    "duration": 7,
    "start_time": "2021-09-12T21:52:59.723Z"
   },
   {
    "duration": 4,
    "start_time": "2021-09-12T21:52:59.732Z"
   },
   {
    "duration": 4,
    "start_time": "2021-09-12T21:52:59.738Z"
   },
   {
    "duration": 8,
    "start_time": "2021-09-12T21:52:59.744Z"
   },
   {
    "duration": 42,
    "start_time": "2021-09-12T21:52:59.754Z"
   },
   {
    "duration": 4,
    "start_time": "2021-09-12T21:52:59.797Z"
   },
   {
    "duration": 5,
    "start_time": "2021-09-12T21:52:59.803Z"
   },
   {
    "duration": 10,
    "start_time": "2021-09-12T21:52:59.809Z"
   },
   {
    "duration": 9,
    "start_time": "2021-09-12T21:52:59.820Z"
   },
   {
    "duration": 11,
    "start_time": "2021-09-12T21:52:59.830Z"
   },
   {
    "duration": 15,
    "start_time": "2021-09-12T21:52:59.842Z"
   },
   {
    "duration": 40,
    "start_time": "2021-09-12T21:52:59.858Z"
   },
   {
    "duration": 4,
    "start_time": "2021-09-12T21:52:59.899Z"
   },
   {
    "duration": 18,
    "start_time": "2021-09-12T21:52:59.905Z"
   },
   {
    "duration": 405,
    "start_time": "2021-09-12T21:52:59.924Z"
   },
   {
    "duration": 8,
    "start_time": "2021-09-12T21:53:00.331Z"
   },
   {
    "duration": 343,
    "start_time": "2021-09-12T21:53:00.340Z"
   },
   {
    "duration": 11,
    "start_time": "2021-09-12T21:53:00.692Z"
   },
   {
    "duration": 485,
    "start_time": "2021-09-12T21:53:00.706Z"
   },
   {
    "duration": 18,
    "start_time": "2021-09-12T21:53:01.194Z"
   },
   {
    "duration": 7,
    "start_time": "2021-09-12T21:53:01.214Z"
   },
   {
    "duration": 24,
    "start_time": "2021-09-12T21:53:01.222Z"
   },
   {
    "duration": 277,
    "start_time": "2021-09-12T21:53:01.247Z"
   },
   {
    "duration": 746,
    "start_time": "2021-09-12T21:53:01.526Z"
   },
   {
    "duration": 1223,
    "start_time": "2021-09-12T21:53:02.274Z"
   },
   {
    "duration": 2054,
    "start_time": "2021-09-12T21:53:03.499Z"
   },
   {
    "duration": 1228,
    "start_time": "2021-09-12T21:53:05.555Z"
   },
   {
    "duration": 24,
    "start_time": "2021-09-12T21:53:06.785Z"
   },
   {
    "duration": 23,
    "start_time": "2021-09-12T21:53:06.811Z"
   },
   {
    "duration": 447,
    "start_time": "2021-09-12T21:53:06.836Z"
   },
   {
    "duration": 515,
    "start_time": "2021-09-12T21:53:07.284Z"
   },
   {
    "duration": 3192,
    "start_time": "2021-09-12T21:53:07.801Z"
   },
   {
    "duration": 18,
    "start_time": "2021-09-12T21:53:10.995Z"
   },
   {
    "duration": 981,
    "start_time": "2021-09-12T21:53:11.014Z"
   },
   {
    "duration": 982,
    "start_time": "2021-09-12T21:53:11.996Z"
   },
   {
    "duration": 1247,
    "start_time": "2021-09-12T21:53:12.980Z"
   },
   {
    "duration": 10,
    "start_time": "2021-09-12T21:53:14.229Z"
   },
   {
    "duration": 11,
    "start_time": "2021-09-12T21:53:14.240Z"
   },
   {
    "duration": 8,
    "start_time": "2021-09-12T21:53:14.252Z"
   },
   {
    "duration": 6,
    "start_time": "2021-09-12T21:53:14.262Z"
   },
   {
    "duration": 41,
    "start_time": "2021-09-12T21:53:14.270Z"
   },
   {
    "duration": 336,
    "start_time": "2021-09-12T21:53:14.313Z"
   },
   {
    "duration": 12,
    "start_time": "2021-09-12T21:53:14.651Z"
   },
   {
    "duration": 6,
    "start_time": "2021-09-12T21:53:14.665Z"
   },
   {
    "duration": 41,
    "start_time": "2021-09-12T21:53:14.672Z"
   },
   {
    "duration": 763,
    "start_time": "2021-09-12T21:53:14.715Z"
   },
   {
    "duration": 36,
    "start_time": "2021-09-12T21:53:15.480Z"
   },
   {
    "duration": 704,
    "start_time": "2021-09-12T21:53:15.517Z"
   },
   {
    "duration": 33,
    "start_time": "2021-09-12T21:53:16.223Z"
   },
   {
    "duration": 701,
    "start_time": "2021-09-12T21:53:16.257Z"
   },
   {
    "duration": 5,
    "start_time": "2021-09-12T21:53:16.960Z"
   },
   {
    "duration": 38,
    "start_time": "2021-09-12T21:53:16.967Z"
   },
   {
    "duration": 871,
    "start_time": "2021-09-12T21:53:17.006Z"
   },
   {
    "duration": 3527,
    "start_time": "2021-09-12T21:54:38.806Z"
   },
   {
    "duration": 3045,
    "start_time": "2021-09-12T21:54:47.946Z"
   },
   {
    "duration": 1163,
    "start_time": "2021-09-12T21:55:22.978Z"
   },
   {
    "duration": 53,
    "start_time": "2021-09-12T21:55:24.143Z"
   },
   {
    "duration": 12,
    "start_time": "2021-09-12T21:55:24.198Z"
   },
   {
    "duration": 10,
    "start_time": "2021-09-12T21:55:24.212Z"
   },
   {
    "duration": 6,
    "start_time": "2021-09-12T21:55:24.224Z"
   },
   {
    "duration": 6,
    "start_time": "2021-09-12T21:55:24.232Z"
   },
   {
    "duration": 6,
    "start_time": "2021-09-12T21:55:24.240Z"
   },
   {
    "duration": 10,
    "start_time": "2021-09-12T21:55:24.248Z"
   },
   {
    "duration": 35,
    "start_time": "2021-09-12T21:55:24.260Z"
   },
   {
    "duration": 13,
    "start_time": "2021-09-12T21:55:24.296Z"
   },
   {
    "duration": 7,
    "start_time": "2021-09-12T21:55:24.310Z"
   },
   {
    "duration": 14,
    "start_time": "2021-09-12T21:55:24.318Z"
   },
   {
    "duration": 13,
    "start_time": "2021-09-12T21:55:24.333Z"
   },
   {
    "duration": 8,
    "start_time": "2021-09-12T21:55:24.348Z"
   },
   {
    "duration": 9,
    "start_time": "2021-09-12T21:55:24.358Z"
   },
   {
    "duration": 31,
    "start_time": "2021-09-12T21:55:24.369Z"
   },
   {
    "duration": 20,
    "start_time": "2021-09-12T21:55:24.402Z"
   },
   {
    "duration": 4,
    "start_time": "2021-09-12T21:55:24.424Z"
   },
   {
    "duration": 21,
    "start_time": "2021-09-12T21:55:24.429Z"
   },
   {
    "duration": 414,
    "start_time": "2021-09-12T21:55:24.452Z"
   },
   {
    "duration": 7,
    "start_time": "2021-09-12T21:55:24.868Z"
   },
   {
    "duration": 347,
    "start_time": "2021-09-12T21:55:24.877Z"
   },
   {
    "duration": 12,
    "start_time": "2021-09-12T21:55:25.228Z"
   },
   {
    "duration": 484,
    "start_time": "2021-09-12T21:55:25.242Z"
   },
   {
    "duration": 18,
    "start_time": "2021-09-12T21:55:25.727Z"
   },
   {
    "duration": 6,
    "start_time": "2021-09-12T21:55:25.747Z"
   },
   {
    "duration": 36,
    "start_time": "2021-09-12T21:55:25.755Z"
   },
   {
    "duration": 252,
    "start_time": "2021-09-12T21:55:25.793Z"
   },
   {
    "duration": 775,
    "start_time": "2021-09-12T21:55:26.047Z"
   },
   {
    "duration": 1200,
    "start_time": "2021-09-12T21:55:26.824Z"
   },
   {
    "duration": 1990,
    "start_time": "2021-09-12T21:55:28.026Z"
   },
   {
    "duration": 1194,
    "start_time": "2021-09-12T21:55:30.018Z"
   },
   {
    "duration": 18,
    "start_time": "2021-09-12T21:55:31.214Z"
   },
   {
    "duration": 20,
    "start_time": "2021-09-12T21:55:31.234Z"
   },
   {
    "duration": 435,
    "start_time": "2021-09-12T21:55:31.256Z"
   },
   {
    "duration": 503,
    "start_time": "2021-09-12T21:55:31.693Z"
   },
   {
    "duration": 3193,
    "start_time": "2021-09-12T21:55:32.198Z"
   },
   {
    "duration": 18,
    "start_time": "2021-09-12T21:55:35.393Z"
   },
   {
    "duration": 1117,
    "start_time": "2021-09-12T21:55:35.413Z"
   },
   {
    "duration": 1108,
    "start_time": "2021-09-12T21:55:36.531Z"
   },
   {
    "duration": 1294,
    "start_time": "2021-09-12T21:55:37.640Z"
   },
   {
    "duration": 8,
    "start_time": "2021-09-12T21:55:38.936Z"
   },
   {
    "duration": 21,
    "start_time": "2021-09-12T21:55:38.946Z"
   },
   {
    "duration": 18,
    "start_time": "2021-09-12T21:55:38.969Z"
   },
   {
    "duration": 21,
    "start_time": "2021-09-12T21:55:38.989Z"
   },
   {
    "duration": 28,
    "start_time": "2021-09-12T21:55:39.011Z"
   },
   {
    "duration": 324,
    "start_time": "2021-09-12T21:55:39.041Z"
   },
   {
    "duration": 13,
    "start_time": "2021-09-12T21:55:39.367Z"
   },
   {
    "duration": 7,
    "start_time": "2021-09-12T21:55:39.391Z"
   },
   {
    "duration": 29,
    "start_time": "2021-09-12T21:55:39.399Z"
   },
   {
    "duration": 681,
    "start_time": "2021-09-12T21:55:39.430Z"
   },
   {
    "duration": 29,
    "start_time": "2021-09-12T21:55:40.114Z"
   },
   {
    "duration": 667,
    "start_time": "2021-09-12T21:55:40.144Z"
   },
   {
    "duration": 33,
    "start_time": "2021-09-12T21:55:40.813Z"
   },
   {
    "duration": 703,
    "start_time": "2021-09-12T21:55:40.848Z"
   },
   {
    "duration": 5,
    "start_time": "2021-09-12T21:55:41.552Z"
   },
   {
    "duration": 39,
    "start_time": "2021-09-12T21:55:41.559Z"
   },
   {
    "duration": 5,
    "start_time": "2021-09-12T21:55:41.599Z"
   },
   {
    "duration": 487,
    "start_time": "2021-09-12T21:55:41.605Z"
   },
   {
    "duration": 23,
    "start_time": "2021-09-12T21:58:05.728Z"
   },
   {
    "duration": 5,
    "start_time": "2021-09-12T21:58:13.562Z"
   },
   {
    "duration": 24,
    "start_time": "2021-09-12T21:58:22.743Z"
   },
   {
    "duration": 5,
    "start_time": "2021-09-12T21:58:26.236Z"
   },
   {
    "duration": 423,
    "start_time": "2021-09-12T21:58:36.056Z"
   },
   {
    "duration": 3731,
    "start_time": "2021-09-12T21:59:43.923Z"
   },
   {
    "duration": 230,
    "start_time": "2021-09-12T21:59:55.238Z"
   },
   {
    "duration": 1101,
    "start_time": "2021-09-12T22:00:07.749Z"
   },
   {
    "duration": 50,
    "start_time": "2021-09-12T22:00:08.852Z"
   },
   {
    "duration": 9,
    "start_time": "2021-09-12T22:00:08.904Z"
   },
   {
    "duration": 8,
    "start_time": "2021-09-12T22:00:08.915Z"
   },
   {
    "duration": 8,
    "start_time": "2021-09-12T22:00:08.924Z"
   },
   {
    "duration": 6,
    "start_time": "2021-09-12T22:00:08.934Z"
   },
   {
    "duration": 7,
    "start_time": "2021-09-12T22:00:08.942Z"
   },
   {
    "duration": 11,
    "start_time": "2021-09-12T22:00:08.951Z"
   },
   {
    "duration": 22,
    "start_time": "2021-09-12T22:00:08.964Z"
   },
   {
    "duration": 26,
    "start_time": "2021-09-12T22:00:08.988Z"
   },
   {
    "duration": 8,
    "start_time": "2021-09-12T22:00:09.016Z"
   },
   {
    "duration": 16,
    "start_time": "2021-09-12T22:00:09.026Z"
   },
   {
    "duration": 11,
    "start_time": "2021-09-12T22:00:09.043Z"
   },
   {
    "duration": 10,
    "start_time": "2021-09-12T22:00:09.056Z"
   },
   {
    "duration": 16,
    "start_time": "2021-09-12T22:00:09.067Z"
   },
   {
    "duration": 23,
    "start_time": "2021-09-12T22:00:09.084Z"
   },
   {
    "duration": 29,
    "start_time": "2021-09-12T22:00:09.108Z"
   },
   {
    "duration": 3,
    "start_time": "2021-09-12T22:00:09.139Z"
   },
   {
    "duration": 22,
    "start_time": "2021-09-12T22:00:09.144Z"
   },
   {
    "duration": 397,
    "start_time": "2021-09-12T22:00:09.167Z"
   },
   {
    "duration": 8,
    "start_time": "2021-09-12T22:00:09.567Z"
   },
   {
    "duration": 355,
    "start_time": "2021-09-12T22:00:09.577Z"
   },
   {
    "duration": 12,
    "start_time": "2021-09-12T22:00:09.937Z"
   },
   {
    "duration": 474,
    "start_time": "2021-09-12T22:00:09.952Z"
   },
   {
    "duration": 20,
    "start_time": "2021-09-12T22:00:10.428Z"
   },
   {
    "duration": 8,
    "start_time": "2021-09-12T22:00:10.450Z"
   },
   {
    "duration": 39,
    "start_time": "2021-09-12T22:00:10.460Z"
   },
   {
    "duration": 251,
    "start_time": "2021-09-12T22:00:10.502Z"
   },
   {
    "duration": 816,
    "start_time": "2021-09-12T22:00:10.755Z"
   },
   {
    "duration": 1351,
    "start_time": "2021-09-12T22:00:11.572Z"
   },
   {
    "duration": 2177,
    "start_time": "2021-09-12T22:00:12.925Z"
   },
   {
    "duration": 1328,
    "start_time": "2021-09-12T22:00:15.104Z"
   },
   {
    "duration": 20,
    "start_time": "2021-09-12T22:00:16.435Z"
   },
   {
    "duration": 38,
    "start_time": "2021-09-12T22:00:16.457Z"
   },
   {
    "duration": 430,
    "start_time": "2021-09-12T22:00:16.497Z"
   },
   {
    "duration": 574,
    "start_time": "2021-09-12T22:00:16.930Z"
   },
   {
    "duration": 3268,
    "start_time": "2021-09-12T22:00:17.507Z"
   },
   {
    "duration": 26,
    "start_time": "2021-09-12T22:00:20.777Z"
   },
   {
    "duration": 998,
    "start_time": "2021-09-12T22:00:20.804Z"
   },
   {
    "duration": 1007,
    "start_time": "2021-09-12T22:00:21.804Z"
   },
   {
    "duration": 1278,
    "start_time": "2021-09-12T22:00:22.813Z"
   },
   {
    "duration": 9,
    "start_time": "2021-09-12T22:00:24.093Z"
   },
   {
    "duration": 11,
    "start_time": "2021-09-12T22:00:24.104Z"
   },
   {
    "duration": 8,
    "start_time": "2021-09-12T22:00:24.117Z"
   },
   {
    "duration": 10,
    "start_time": "2021-09-12T22:00:24.126Z"
   },
   {
    "duration": 20,
    "start_time": "2021-09-12T22:00:24.138Z"
   },
   {
    "duration": 336,
    "start_time": "2021-09-12T22:00:24.192Z"
   },
   {
    "duration": 13,
    "start_time": "2021-09-12T22:00:24.530Z"
   },
   {
    "duration": 9,
    "start_time": "2021-09-12T22:00:24.545Z"
   },
   {
    "duration": 45,
    "start_time": "2021-09-12T22:00:24.556Z"
   },
   {
    "duration": 659,
    "start_time": "2021-09-12T22:00:24.603Z"
   },
   {
    "duration": 38,
    "start_time": "2021-09-12T22:00:25.264Z"
   },
   {
    "duration": 687,
    "start_time": "2021-09-12T22:00:25.304Z"
   },
   {
    "duration": 35,
    "start_time": "2021-09-12T22:00:25.993Z"
   },
   {
    "duration": 705,
    "start_time": "2021-09-12T22:00:26.030Z"
   },
   {
    "duration": 5,
    "start_time": "2021-09-12T22:00:26.736Z"
   },
   {
    "duration": 26,
    "start_time": "2021-09-12T22:00:26.742Z"
   },
   {
    "duration": 6,
    "start_time": "2021-09-12T22:00:26.769Z"
   },
   {
    "duration": 897,
    "start_time": "2021-09-12T22:00:26.791Z"
   },
   {
    "duration": 261,
    "start_time": "2021-09-12T22:01:52.915Z"
   },
   {
    "duration": 263,
    "start_time": "2021-09-12T22:02:42.330Z"
   },
   {
    "duration": 1105,
    "start_time": "2021-09-12T22:02:51.040Z"
   },
   {
    "duration": 51,
    "start_time": "2021-09-12T22:02:52.147Z"
   },
   {
    "duration": 9,
    "start_time": "2021-09-12T22:02:52.200Z"
   },
   {
    "duration": 11,
    "start_time": "2021-09-12T22:02:52.211Z"
   },
   {
    "duration": 6,
    "start_time": "2021-09-12T22:02:52.224Z"
   },
   {
    "duration": 7,
    "start_time": "2021-09-12T22:02:52.232Z"
   },
   {
    "duration": 5,
    "start_time": "2021-09-12T22:02:52.240Z"
   },
   {
    "duration": 5,
    "start_time": "2021-09-12T22:02:52.247Z"
   },
   {
    "duration": 8,
    "start_time": "2021-09-12T22:02:52.254Z"
   },
   {
    "duration": 37,
    "start_time": "2021-09-12T22:02:52.263Z"
   },
   {
    "duration": 5,
    "start_time": "2021-09-12T22:02:52.301Z"
   },
   {
    "duration": 10,
    "start_time": "2021-09-12T22:02:52.309Z"
   },
   {
    "duration": 9,
    "start_time": "2021-09-12T22:02:52.321Z"
   },
   {
    "duration": 8,
    "start_time": "2021-09-12T22:02:52.332Z"
   },
   {
    "duration": 10,
    "start_time": "2021-09-12T22:02:52.342Z"
   },
   {
    "duration": 45,
    "start_time": "2021-09-12T22:02:52.354Z"
   },
   {
    "duration": 22,
    "start_time": "2021-09-12T22:02:52.401Z"
   },
   {
    "duration": 6,
    "start_time": "2021-09-12T22:02:52.425Z"
   },
   {
    "duration": 20,
    "start_time": "2021-09-12T22:02:52.432Z"
   },
   {
    "duration": 419,
    "start_time": "2021-09-12T22:02:52.454Z"
   },
   {
    "duration": 16,
    "start_time": "2021-09-12T22:02:52.875Z"
   },
   {
    "duration": 356,
    "start_time": "2021-09-12T22:02:52.893Z"
   },
   {
    "duration": 12,
    "start_time": "2021-09-12T22:02:53.254Z"
   },
   {
    "duration": 489,
    "start_time": "2021-09-12T22:02:53.269Z"
   },
   {
    "duration": 19,
    "start_time": "2021-09-12T22:02:53.759Z"
   },
   {
    "duration": 6,
    "start_time": "2021-09-12T22:02:53.792Z"
   },
   {
    "duration": 16,
    "start_time": "2021-09-12T22:02:53.800Z"
   },
   {
    "duration": 261,
    "start_time": "2021-09-12T22:02:53.818Z"
   },
   {
    "duration": 779,
    "start_time": "2021-09-12T22:02:54.081Z"
   },
   {
    "duration": 1232,
    "start_time": "2021-09-12T22:02:54.861Z"
   },
   {
    "duration": 2004,
    "start_time": "2021-09-12T22:02:56.095Z"
   },
   {
    "duration": 1208,
    "start_time": "2021-09-12T22:02:58.101Z"
   },
   {
    "duration": 17,
    "start_time": "2021-09-12T22:02:59.311Z"
   },
   {
    "duration": 16,
    "start_time": "2021-09-12T22:02:59.330Z"
   },
   {
    "duration": 427,
    "start_time": "2021-09-12T22:02:59.348Z"
   },
   {
    "duration": 499,
    "start_time": "2021-09-12T22:02:59.777Z"
   },
   {
    "duration": 3250,
    "start_time": "2021-09-12T22:03:00.278Z"
   },
   {
    "duration": 17,
    "start_time": "2021-09-12T22:03:03.530Z"
   },
   {
    "duration": 946,
    "start_time": "2021-09-12T22:03:03.548Z"
   },
   {
    "duration": 1106,
    "start_time": "2021-09-12T22:03:04.496Z"
   },
   {
    "duration": 1243,
    "start_time": "2021-09-12T22:03:05.604Z"
   },
   {
    "duration": 9,
    "start_time": "2021-09-12T22:03:06.849Z"
   },
   {
    "duration": 9,
    "start_time": "2021-09-12T22:03:06.860Z"
   },
   {
    "duration": 21,
    "start_time": "2021-09-12T22:03:06.871Z"
   },
   {
    "duration": 8,
    "start_time": "2021-09-12T22:03:06.894Z"
   },
   {
    "duration": 21,
    "start_time": "2021-09-12T22:03:06.904Z"
   },
   {
    "duration": 342,
    "start_time": "2021-09-12T22:03:06.928Z"
   },
   {
    "duration": 23,
    "start_time": "2021-09-12T22:03:07.273Z"
   },
   {
    "duration": 6,
    "start_time": "2021-09-12T22:03:07.298Z"
   },
   {
    "duration": 34,
    "start_time": "2021-09-12T22:03:07.306Z"
   },
   {
    "duration": 763,
    "start_time": "2021-09-12T22:03:07.342Z"
   },
   {
    "duration": 30,
    "start_time": "2021-09-12T22:03:08.107Z"
   },
   {
    "duration": 656,
    "start_time": "2021-09-12T22:03:08.138Z"
   },
   {
    "duration": 31,
    "start_time": "2021-09-12T22:03:08.795Z"
   },
   {
    "duration": 763,
    "start_time": "2021-09-12T22:03:08.828Z"
   },
   {
    "duration": 4,
    "start_time": "2021-09-12T22:03:09.593Z"
   },
   {
    "duration": 338,
    "start_time": "2021-09-12T22:03:09.599Z"
   },
   {
    "duration": -768,
    "start_time": "2021-09-12T22:03:10.707Z"
   },
   {
    "duration": -777,
    "start_time": "2021-09-12T22:03:10.717Z"
   },
   {
    "duration": 26,
    "start_time": "2021-09-12T22:03:47.594Z"
   },
   {
    "duration": 8,
    "start_time": "2021-09-12T22:03:50.837Z"
   },
   {
    "duration": 6,
    "start_time": "2021-09-12T22:03:57.680Z"
   },
   {
    "duration": 416,
    "start_time": "2021-09-12T22:07:47.329Z"
   },
   {
    "duration": 1131,
    "start_time": "2021-09-12T22:08:20.913Z"
   },
   {
    "duration": 49,
    "start_time": "2021-09-12T22:08:22.045Z"
   },
   {
    "duration": 9,
    "start_time": "2021-09-12T22:08:22.096Z"
   },
   {
    "duration": 16,
    "start_time": "2021-09-12T22:08:22.107Z"
   },
   {
    "duration": 6,
    "start_time": "2021-09-12T22:08:22.125Z"
   },
   {
    "duration": 8,
    "start_time": "2021-09-12T22:08:22.132Z"
   },
   {
    "duration": 7,
    "start_time": "2021-09-12T22:08:22.142Z"
   },
   {
    "duration": 5,
    "start_time": "2021-09-12T22:08:22.152Z"
   },
   {
    "duration": 11,
    "start_time": "2021-09-12T22:08:22.159Z"
   },
   {
    "duration": 10,
    "start_time": "2021-09-12T22:08:22.191Z"
   },
   {
    "duration": 4,
    "start_time": "2021-09-12T22:08:22.203Z"
   },
   {
    "duration": 8,
    "start_time": "2021-09-12T22:08:22.209Z"
   },
   {
    "duration": 11,
    "start_time": "2021-09-12T22:08:22.219Z"
   },
   {
    "duration": 12,
    "start_time": "2021-09-12T22:08:22.231Z"
   },
   {
    "duration": 8,
    "start_time": "2021-09-12T22:08:22.244Z"
   },
   {
    "duration": 17,
    "start_time": "2021-09-12T22:08:22.254Z"
   },
   {
    "duration": 43,
    "start_time": "2021-09-12T22:08:22.272Z"
   },
   {
    "duration": 4,
    "start_time": "2021-09-12T22:08:22.317Z"
   },
   {
    "duration": 21,
    "start_time": "2021-09-12T22:08:22.323Z"
   },
   {
    "duration": 407,
    "start_time": "2021-09-12T22:08:22.346Z"
   },
   {
    "duration": 8,
    "start_time": "2021-09-12T22:08:22.755Z"
   },
   {
    "duration": 349,
    "start_time": "2021-09-12T22:08:22.765Z"
   },
   {
    "duration": 12,
    "start_time": "2021-09-12T22:08:23.118Z"
   },
   {
    "duration": 471,
    "start_time": "2021-09-12T22:08:23.132Z"
   },
   {
    "duration": 19,
    "start_time": "2021-09-12T22:08:23.604Z"
   },
   {
    "duration": 6,
    "start_time": "2021-09-12T22:08:23.625Z"
   },
   {
    "duration": 16,
    "start_time": "2021-09-12T22:08:23.633Z"
   },
   {
    "duration": 260,
    "start_time": "2021-09-12T22:08:23.651Z"
   },
   {
    "duration": 757,
    "start_time": "2021-09-12T22:08:23.913Z"
   },
   {
    "duration": 1214,
    "start_time": "2021-09-12T22:08:24.672Z"
   },
   {
    "duration": 1990,
    "start_time": "2021-09-12T22:08:25.888Z"
   },
   {
    "duration": 1199,
    "start_time": "2021-09-12T22:08:27.880Z"
   },
   {
    "duration": 25,
    "start_time": "2021-09-12T22:08:29.080Z"
   },
   {
    "duration": 19,
    "start_time": "2021-09-12T22:08:29.107Z"
   },
   {
    "duration": 428,
    "start_time": "2021-09-12T22:08:29.128Z"
   },
   {
    "duration": 502,
    "start_time": "2021-09-12T22:08:29.558Z"
   },
   {
    "duration": 3446,
    "start_time": "2021-09-12T22:08:30.062Z"
   },
   {
    "duration": 17,
    "start_time": "2021-09-12T22:08:33.509Z"
   },
   {
    "duration": 1091,
    "start_time": "2021-09-12T22:08:33.528Z"
   },
   {
    "duration": 1087,
    "start_time": "2021-09-12T22:08:34.621Z"
   },
   {
    "duration": 1267,
    "start_time": "2021-09-12T22:08:35.709Z"
   },
   {
    "duration": 13,
    "start_time": "2021-09-12T22:08:36.978Z"
   },
   {
    "duration": 7,
    "start_time": "2021-09-12T22:08:36.993Z"
   },
   {
    "duration": 12,
    "start_time": "2021-09-12T22:08:37.002Z"
   },
   {
    "duration": 14,
    "start_time": "2021-09-12T22:08:37.016Z"
   },
   {
    "duration": 23,
    "start_time": "2021-09-12T22:08:37.032Z"
   },
   {
    "duration": 335,
    "start_time": "2021-09-12T22:08:37.056Z"
   },
   {
    "duration": 13,
    "start_time": "2021-09-12T22:08:37.393Z"
   },
   {
    "duration": 8,
    "start_time": "2021-09-12T22:08:37.408Z"
   },
   {
    "duration": 34,
    "start_time": "2021-09-12T22:08:37.417Z"
   },
   {
    "duration": 653,
    "start_time": "2021-09-12T22:08:37.453Z"
   },
   {
    "duration": 30,
    "start_time": "2021-09-12T22:08:38.108Z"
   },
   {
    "duration": 660,
    "start_time": "2021-09-12T22:08:38.139Z"
   },
   {
    "duration": 31,
    "start_time": "2021-09-12T22:08:38.800Z"
   },
   {
    "duration": 672,
    "start_time": "2021-09-12T22:08:38.832Z"
   },
   {
    "duration": 6,
    "start_time": "2021-09-12T22:08:39.506Z"
   },
   {
    "duration": 28,
    "start_time": "2021-09-12T22:08:39.514Z"
   },
   {
    "duration": 8,
    "start_time": "2021-09-12T22:08:39.544Z"
   },
   {
    "duration": 37,
    "start_time": "2021-09-12T22:08:39.554Z"
   },
   {
    "duration": 520,
    "start_time": "2021-09-12T22:08:39.593Z"
   },
   {
    "duration": 20,
    "start_time": "2021-09-12T22:09:56.618Z"
   },
   {
    "duration": 279,
    "start_time": "2021-09-13T05:21:15.637Z"
   },
   {
    "duration": 318,
    "start_time": "2021-09-13T05:23:30.281Z"
   },
   {
    "duration": 1127,
    "start_time": "2021-09-13T05:23:57.922Z"
   },
   {
    "duration": 49,
    "start_time": "2021-09-13T05:23:59.050Z"
   },
   {
    "duration": 9,
    "start_time": "2021-09-13T05:23:59.100Z"
   },
   {
    "duration": 7,
    "start_time": "2021-09-13T05:23:59.111Z"
   },
   {
    "duration": 5,
    "start_time": "2021-09-13T05:23:59.120Z"
   },
   {
    "duration": 6,
    "start_time": "2021-09-13T05:23:59.126Z"
   },
   {
    "duration": 5,
    "start_time": "2021-09-13T05:23:59.134Z"
   },
   {
    "duration": 10,
    "start_time": "2021-09-13T05:23:59.140Z"
   },
   {
    "duration": 4,
    "start_time": "2021-09-13T05:23:59.152Z"
   },
   {
    "duration": 38,
    "start_time": "2021-09-13T05:23:59.158Z"
   },
   {
    "duration": 5,
    "start_time": "2021-09-13T05:23:59.197Z"
   },
   {
    "duration": 8,
    "start_time": "2021-09-13T05:23:59.204Z"
   },
   {
    "duration": 13,
    "start_time": "2021-09-13T05:23:59.214Z"
   },
   {
    "duration": 23,
    "start_time": "2021-09-13T05:23:59.228Z"
   },
   {
    "duration": 3,
    "start_time": "2021-09-13T05:23:59.252Z"
   },
   {
    "duration": 42,
    "start_time": "2021-09-13T05:23:59.257Z"
   },
   {
    "duration": 363,
    "start_time": "2021-09-13T05:23:59.300Z"
   },
   {
    "duration": 7,
    "start_time": "2021-09-13T05:23:59.665Z"
   },
   {
    "duration": 9,
    "start_time": "2021-09-13T05:23:59.674Z"
   },
   {
    "duration": 12,
    "start_time": "2021-09-13T05:23:59.691Z"
   },
   {
    "duration": 468,
    "start_time": "2021-09-13T05:23:59.704Z"
   },
   {
    "duration": 30,
    "start_time": "2021-09-13T05:24:00.174Z"
   },
   {
    "duration": 8,
    "start_time": "2021-09-13T05:24:00.206Z"
   },
   {
    "duration": 18,
    "start_time": "2021-09-13T05:24:00.216Z"
   },
   {
    "duration": 274,
    "start_time": "2021-09-13T05:24:00.236Z"
   },
   {
    "duration": 321,
    "start_time": "2021-09-13T05:24:00.512Z"
   },
   {
    "duration": -1197,
    "start_time": "2021-09-13T05:24:02.034Z"
   },
   {
    "duration": -1208,
    "start_time": "2021-09-13T05:24:02.046Z"
   },
   {
    "duration": -1359,
    "start_time": "2021-09-13T05:24:02.198Z"
   },
   {
    "duration": -1365,
    "start_time": "2021-09-13T05:24:02.206Z"
   },
   {
    "duration": -1368,
    "start_time": "2021-09-13T05:24:02.210Z"
   },
   {
    "duration": -1370,
    "start_time": "2021-09-13T05:24:02.214Z"
   },
   {
    "duration": -1372,
    "start_time": "2021-09-13T05:24:02.217Z"
   },
   {
    "duration": -1374,
    "start_time": "2021-09-13T05:24:02.220Z"
   },
   {
    "duration": -1376,
    "start_time": "2021-09-13T05:24:02.223Z"
   },
   {
    "duration": -1377,
    "start_time": "2021-09-13T05:24:02.226Z"
   },
   {
    "duration": -1379,
    "start_time": "2021-09-13T05:24:02.229Z"
   },
   {
    "duration": -1381,
    "start_time": "2021-09-13T05:24:02.232Z"
   },
   {
    "duration": -1383,
    "start_time": "2021-09-13T05:24:02.236Z"
   },
   {
    "duration": -1386,
    "start_time": "2021-09-13T05:24:02.240Z"
   },
   {
    "duration": -1387,
    "start_time": "2021-09-13T05:24:02.243Z"
   },
   {
    "duration": -1389,
    "start_time": "2021-09-13T05:24:02.246Z"
   },
   {
    "duration": -1391,
    "start_time": "2021-09-13T05:24:02.249Z"
   },
   {
    "duration": -1394,
    "start_time": "2021-09-13T05:24:02.254Z"
   },
   {
    "duration": -1396,
    "start_time": "2021-09-13T05:24:02.257Z"
   },
   {
    "duration": -1399,
    "start_time": "2021-09-13T05:24:02.261Z"
   },
   {
    "duration": -1400,
    "start_time": "2021-09-13T05:24:02.263Z"
   },
   {
    "duration": -1402,
    "start_time": "2021-09-13T05:24:02.267Z"
   },
   {
    "duration": -1404,
    "start_time": "2021-09-13T05:24:02.270Z"
   },
   {
    "duration": -1406,
    "start_time": "2021-09-13T05:24:02.273Z"
   },
   {
    "duration": -1408,
    "start_time": "2021-09-13T05:24:02.276Z"
   },
   {
    "duration": -1409,
    "start_time": "2021-09-13T05:24:02.279Z"
   },
   {
    "duration": -1411,
    "start_time": "2021-09-13T05:24:02.282Z"
   },
   {
    "duration": -1412,
    "start_time": "2021-09-13T05:24:02.285Z"
   },
   {
    "duration": 628,
    "start_time": "2021-09-13T05:43:49.833Z"
   },
   {
    "duration": 236,
    "start_time": "2021-09-13T05:43:54.925Z"
   },
   {
    "duration": 19,
    "start_time": "2021-09-13T05:44:02.612Z"
   },
   {
    "duration": 21,
    "start_time": "2021-09-13T05:44:05.014Z"
   },
   {
    "duration": 493,
    "start_time": "2021-09-13T05:44:10.694Z"
   },
   {
    "duration": 499,
    "start_time": "2021-09-13T05:44:17.443Z"
   },
   {
    "duration": 3365,
    "start_time": "2021-09-13T05:44:25.338Z"
   },
   {
    "duration": 19,
    "start_time": "2021-09-13T05:44:36.763Z"
   },
   {
    "duration": 437,
    "start_time": "2021-09-13T05:46:07.941Z"
   },
   {
    "duration": 80,
    "start_time": "2021-09-13T05:48:20.155Z"
   },
   {
    "duration": 272,
    "start_time": "2021-09-13T05:48:43.302Z"
   },
   {
    "duration": 1560,
    "start_time": "2021-09-13T05:49:06.004Z"
   },
   {
    "duration": 2149,
    "start_time": "2021-09-13T05:49:26.991Z"
   },
   {
    "duration": 1320,
    "start_time": "2021-09-13T05:49:34.619Z"
   },
   {
    "duration": 15,
    "start_time": "2021-09-13T06:07:46.144Z"
   },
   {
    "duration": 938,
    "start_time": "2021-09-13T06:21:07.466Z"
   },
   {
    "duration": 1042,
    "start_time": "2021-09-13T06:21:14.775Z"
   },
   {
    "duration": 1172,
    "start_time": "2021-09-13T06:21:21.836Z"
   },
   {
    "duration": 11,
    "start_time": "2021-09-13T06:21:28.261Z"
   },
   {
    "duration": 8,
    "start_time": "2021-09-13T06:21:34.744Z"
   },
   {
    "duration": 9,
    "start_time": "2021-09-13T06:21:36.719Z"
   },
   {
    "duration": 11,
    "start_time": "2021-09-13T06:21:38.703Z"
   },
   {
    "duration": 21,
    "start_time": "2021-09-13T06:21:48.513Z"
   },
   {
    "duration": 313,
    "start_time": "2021-09-13T06:21:54.346Z"
   },
   {
    "duration": 14,
    "start_time": "2021-09-13T06:22:01.326Z"
   },
   {
    "duration": 19,
    "start_time": "2021-09-13T06:26:43.202Z"
   },
   {
    "duration": 6,
    "start_time": "2021-09-13T06:44:28.376Z"
   },
   {
    "duration": 30,
    "start_time": "2021-09-13T06:44:33.724Z"
   },
   {
    "duration": 655,
    "start_time": "2021-09-13T06:44:41.823Z"
   },
   {
    "duration": 29,
    "start_time": "2021-09-13T06:44:48.545Z"
   },
   {
    "duration": 668,
    "start_time": "2021-09-13T06:44:51.091Z"
   },
   {
    "duration": 32,
    "start_time": "2021-09-13T06:44:57.027Z"
   },
   {
    "duration": 693,
    "start_time": "2021-09-13T06:44:59.513Z"
   },
   {
    "duration": 1122,
    "start_time": "2021-09-13T07:14:49.529Z"
   },
   {
    "duration": 52,
    "start_time": "2021-09-13T07:14:50.653Z"
   },
   {
    "duration": 9,
    "start_time": "2021-09-13T07:14:50.708Z"
   },
   {
    "duration": 9,
    "start_time": "2021-09-13T07:14:50.719Z"
   },
   {
    "duration": 8,
    "start_time": "2021-09-13T07:14:50.730Z"
   },
   {
    "duration": 12,
    "start_time": "2021-09-13T07:14:50.739Z"
   },
   {
    "duration": 5,
    "start_time": "2021-09-13T07:14:50.753Z"
   },
   {
    "duration": 30,
    "start_time": "2021-09-13T07:14:50.761Z"
   },
   {
    "duration": 6,
    "start_time": "2021-09-13T07:14:50.793Z"
   },
   {
    "duration": 9,
    "start_time": "2021-09-13T07:14:50.800Z"
   },
   {
    "duration": 8,
    "start_time": "2021-09-13T07:14:50.811Z"
   },
   {
    "duration": 10,
    "start_time": "2021-09-13T07:14:50.820Z"
   },
   {
    "duration": 19,
    "start_time": "2021-09-13T07:14:50.831Z"
   },
   {
    "duration": 28,
    "start_time": "2021-09-13T07:14:50.852Z"
   },
   {
    "duration": 4,
    "start_time": "2021-09-13T07:14:50.892Z"
   },
   {
    "duration": 17,
    "start_time": "2021-09-13T07:14:50.897Z"
   },
   {
    "duration": 367,
    "start_time": "2021-09-13T07:14:50.916Z"
   },
   {
    "duration": 8,
    "start_time": "2021-09-13T07:14:51.291Z"
   },
   {
    "duration": 348,
    "start_time": "2021-09-13T07:14:51.300Z"
   },
   {
    "duration": 12,
    "start_time": "2021-09-13T07:14:51.650Z"
   },
   {
    "duration": 531,
    "start_time": "2021-09-13T07:14:51.664Z"
   },
   {
    "duration": 26,
    "start_time": "2021-09-13T07:14:52.198Z"
   },
   {
    "duration": 13,
    "start_time": "2021-09-13T07:14:52.227Z"
   },
   {
    "duration": 352,
    "start_time": "2021-09-13T07:14:52.242Z"
   },
   {
    "duration": 1361,
    "start_time": "2021-09-13T07:14:52.597Z"
   },
   {
    "duration": 2117,
    "start_time": "2021-09-13T07:14:53.959Z"
   },
   {
    "duration": 1243,
    "start_time": "2021-09-13T07:14:56.078Z"
   },
   {
    "duration": 14,
    "start_time": "2021-09-13T07:14:57.323Z"
   },
   {
    "duration": 20,
    "start_time": "2021-09-13T07:14:57.338Z"
   },
   {
    "duration": 460,
    "start_time": "2021-09-13T07:14:57.360Z"
   },
   {
    "duration": 3663,
    "start_time": "2021-09-13T07:14:57.821Z"
   },
   {
    "duration": 23,
    "start_time": "2021-09-13T07:15:01.485Z"
   },
   {
    "duration": 1098,
    "start_time": "2021-09-13T07:15:01.510Z"
   },
   {
    "duration": 909,
    "start_time": "2021-09-13T07:15:02.610Z"
   },
   {
    "duration": 1329,
    "start_time": "2021-09-13T07:15:03.528Z"
   },
   {
    "duration": 8,
    "start_time": "2021-09-13T07:15:04.859Z"
   },
   {
    "duration": 25,
    "start_time": "2021-09-13T07:15:04.868Z"
   },
   {
    "duration": 7,
    "start_time": "2021-09-13T07:15:04.895Z"
   },
   {
    "duration": 18,
    "start_time": "2021-09-13T07:15:04.903Z"
   },
   {
    "duration": 25,
    "start_time": "2021-09-13T07:15:04.922Z"
   },
   {
    "duration": 333,
    "start_time": "2021-09-13T07:15:04.949Z"
   },
   {
    "duration": 14,
    "start_time": "2021-09-13T07:15:05.284Z"
   },
   {
    "duration": 50,
    "start_time": "2021-09-13T07:15:05.302Z"
   },
   {
    "duration": 1098,
    "start_time": "2021-09-13T07:15:05.354Z"
   },
   {
    "duration": 53,
    "start_time": "2021-09-13T07:15:06.454Z"
   },
   {
    "duration": 1106,
    "start_time": "2021-09-13T07:15:06.509Z"
   },
   {
    "duration": 51,
    "start_time": "2021-09-13T07:15:07.618Z"
   },
   {
    "duration": 1103,
    "start_time": "2021-09-13T07:15:07.671Z"
   },
   {
    "duration": 48,
    "start_time": "2021-09-13T07:15:08.776Z"
   },
   {
    "duration": 7,
    "start_time": "2021-09-13T07:15:08.826Z"
   },
   {
    "duration": 29,
    "start_time": "2021-09-13T07:15:08.835Z"
   },
   {
    "duration": 1118,
    "start_time": "2021-09-13T07:30:36.017Z"
   },
   {
    "duration": 52,
    "start_time": "2021-09-13T07:30:37.137Z"
   },
   {
    "duration": 10,
    "start_time": "2021-09-13T07:30:37.191Z"
   },
   {
    "duration": 8,
    "start_time": "2021-09-13T07:30:37.202Z"
   },
   {
    "duration": 5,
    "start_time": "2021-09-13T07:30:37.212Z"
   },
   {
    "duration": 7,
    "start_time": "2021-09-13T07:30:37.219Z"
   },
   {
    "duration": 6,
    "start_time": "2021-09-13T07:30:37.227Z"
   },
   {
    "duration": 14,
    "start_time": "2021-09-13T07:30:37.235Z"
   },
   {
    "duration": 5,
    "start_time": "2021-09-13T07:30:37.251Z"
   },
   {
    "duration": 39,
    "start_time": "2021-09-13T07:30:37.257Z"
   },
   {
    "duration": 6,
    "start_time": "2021-09-13T07:30:37.297Z"
   },
   {
    "duration": 9,
    "start_time": "2021-09-13T07:30:37.304Z"
   },
   {
    "duration": 19,
    "start_time": "2021-09-13T07:30:37.315Z"
   },
   {
    "duration": 25,
    "start_time": "2021-09-13T07:30:37.336Z"
   },
   {
    "duration": 4,
    "start_time": "2021-09-13T07:30:37.363Z"
   },
   {
    "duration": 37,
    "start_time": "2021-09-13T07:30:37.368Z"
   },
   {
    "duration": 456,
    "start_time": "2021-09-13T07:30:37.407Z"
   },
   {
    "duration": 7,
    "start_time": "2021-09-13T07:30:37.864Z"
   },
   {
    "duration": 352,
    "start_time": "2021-09-13T07:30:37.873Z"
   },
   {
    "duration": 12,
    "start_time": "2021-09-13T07:30:38.227Z"
   },
   {
    "duration": 482,
    "start_time": "2021-09-13T07:30:38.241Z"
   },
   {
    "duration": 19,
    "start_time": "2021-09-13T07:30:38.725Z"
   },
   {
    "duration": 14,
    "start_time": "2021-09-13T07:30:38.747Z"
   },
   {
    "duration": 328,
    "start_time": "2021-09-13T07:30:38.763Z"
   },
   {
    "duration": 1264,
    "start_time": "2021-09-13T07:30:39.094Z"
   },
   {
    "duration": 2007,
    "start_time": "2021-09-13T07:30:40.360Z"
   },
   {
    "duration": 1233,
    "start_time": "2021-09-13T07:30:42.369Z"
   },
   {
    "duration": 13,
    "start_time": "2021-09-13T07:30:43.604Z"
   },
   {
    "duration": 19,
    "start_time": "2021-09-13T07:30:43.619Z"
   },
   {
    "duration": 440,
    "start_time": "2021-09-13T07:30:43.639Z"
   },
   {
    "duration": 3239,
    "start_time": "2021-09-13T07:30:44.081Z"
   },
   {
    "duration": 20,
    "start_time": "2021-09-13T07:30:47.322Z"
   },
   {
    "duration": 1055,
    "start_time": "2021-09-13T07:30:47.344Z"
   },
   {
    "duration": 996,
    "start_time": "2021-09-13T07:30:48.400Z"
   },
   {
    "duration": 1368,
    "start_time": "2021-09-13T07:30:49.398Z"
   },
   {
    "duration": 7,
    "start_time": "2021-09-13T07:30:50.768Z"
   },
   {
    "duration": 22,
    "start_time": "2021-09-13T07:30:50.777Z"
   },
   {
    "duration": 8,
    "start_time": "2021-09-13T07:30:50.801Z"
   },
   {
    "duration": 12,
    "start_time": "2021-09-13T07:30:50.811Z"
   },
   {
    "duration": 22,
    "start_time": "2021-09-13T07:30:50.825Z"
   },
   {
    "duration": 342,
    "start_time": "2021-09-13T07:30:50.849Z"
   },
   {
    "duration": 6,
    "start_time": "2021-09-13T07:30:51.193Z"
   },
   {
    "duration": 38,
    "start_time": "2021-09-13T07:30:51.201Z"
   },
   {
    "duration": 686,
    "start_time": "2021-09-13T07:30:51.241Z"
   },
   {
    "duration": 31,
    "start_time": "2021-09-13T07:30:51.929Z"
   },
   {
    "duration": 708,
    "start_time": "2021-09-13T07:30:51.962Z"
   },
   {
    "duration": 40,
    "start_time": "2021-09-13T07:30:52.672Z"
   },
   {
    "duration": 699,
    "start_time": "2021-09-13T07:30:52.714Z"
   },
   {
    "duration": 28,
    "start_time": "2021-09-13T07:30:53.415Z"
   },
   {
    "duration": 5,
    "start_time": "2021-09-13T07:30:53.445Z"
   },
   {
    "duration": 40,
    "start_time": "2021-09-13T07:30:53.452Z"
   },
   {
    "duration": 1178,
    "start_time": "2021-09-13T07:31:59.369Z"
   },
   {
    "duration": 51,
    "start_time": "2021-09-13T07:32:00.549Z"
   },
   {
    "duration": 9,
    "start_time": "2021-09-13T07:32:00.602Z"
   },
   {
    "duration": 16,
    "start_time": "2021-09-13T07:32:00.613Z"
   },
   {
    "duration": 13,
    "start_time": "2021-09-13T07:32:00.631Z"
   },
   {
    "duration": 14,
    "start_time": "2021-09-13T07:32:00.646Z"
   },
   {
    "duration": 21,
    "start_time": "2021-09-13T07:32:00.661Z"
   },
   {
    "duration": 14,
    "start_time": "2021-09-13T07:32:00.684Z"
   },
   {
    "duration": 6,
    "start_time": "2021-09-13T07:32:00.700Z"
   },
   {
    "duration": 10,
    "start_time": "2021-09-13T07:32:00.708Z"
   },
   {
    "duration": 27,
    "start_time": "2021-09-13T07:32:00.720Z"
   },
   {
    "duration": 19,
    "start_time": "2021-09-13T07:32:00.748Z"
   },
   {
    "duration": 25,
    "start_time": "2021-09-13T07:32:00.769Z"
   },
   {
    "duration": 37,
    "start_time": "2021-09-13T07:32:00.796Z"
   },
   {
    "duration": 5,
    "start_time": "2021-09-13T07:32:00.834Z"
   },
   {
    "duration": 21,
    "start_time": "2021-09-13T07:32:00.840Z"
   },
   {
    "duration": 348,
    "start_time": "2021-09-13T07:32:00.863Z"
   },
   {
    "duration": 9,
    "start_time": "2021-09-13T07:32:01.213Z"
   },
   {
    "duration": 359,
    "start_time": "2021-09-13T07:32:01.223Z"
   },
   {
    "duration": 18,
    "start_time": "2021-09-13T07:32:01.584Z"
   },
   {
    "duration": 477,
    "start_time": "2021-09-13T07:32:01.604Z"
   },
   {
    "duration": 26,
    "start_time": "2021-09-13T07:32:02.083Z"
   },
   {
    "duration": 18,
    "start_time": "2021-09-13T07:32:02.114Z"
   },
   {
    "duration": 334,
    "start_time": "2021-09-13T07:32:02.134Z"
   },
   {
    "duration": 1235,
    "start_time": "2021-09-13T07:32:02.469Z"
   },
   {
    "duration": 2213,
    "start_time": "2021-09-13T07:32:03.706Z"
   },
   {
    "duration": 1185,
    "start_time": "2021-09-13T07:32:05.921Z"
   },
   {
    "duration": 14,
    "start_time": "2021-09-13T07:32:07.108Z"
   },
   {
    "duration": 18,
    "start_time": "2021-09-13T07:32:07.123Z"
   },
   {
    "duration": 432,
    "start_time": "2021-09-13T07:32:07.143Z"
   },
   {
    "duration": 3187,
    "start_time": "2021-09-13T07:32:07.577Z"
   },
   {
    "duration": 28,
    "start_time": "2021-09-13T07:32:10.766Z"
   },
   {
    "duration": 1014,
    "start_time": "2021-09-13T07:32:10.796Z"
   },
   {
    "duration": 988,
    "start_time": "2021-09-13T07:32:11.811Z"
   },
   {
    "duration": 1742,
    "start_time": "2021-09-13T07:32:12.800Z"
   },
   {
    "duration": 8,
    "start_time": "2021-09-13T07:32:14.543Z"
   },
   {
    "duration": 10,
    "start_time": "2021-09-13T07:32:14.553Z"
   },
   {
    "duration": 33,
    "start_time": "2021-09-13T07:32:14.564Z"
   },
   {
    "duration": 8,
    "start_time": "2021-09-13T07:32:14.599Z"
   },
   {
    "duration": 26,
    "start_time": "2021-09-13T07:32:14.609Z"
   },
   {
    "duration": 342,
    "start_time": "2021-09-13T07:32:14.636Z"
   },
   {
    "duration": 15,
    "start_time": "2021-09-13T07:32:14.981Z"
   },
   {
    "duration": 36,
    "start_time": "2021-09-13T07:32:14.998Z"
   },
   {
    "duration": 715,
    "start_time": "2021-09-13T07:32:15.036Z"
   },
   {
    "duration": 40,
    "start_time": "2021-09-13T07:32:15.752Z"
   },
   {
    "duration": 705,
    "start_time": "2021-09-13T07:32:15.794Z"
   },
   {
    "duration": 37,
    "start_time": "2021-09-13T07:32:16.502Z"
   },
   {
    "duration": 706,
    "start_time": "2021-09-13T07:32:16.541Z"
   },
   {
    "duration": 25,
    "start_time": "2021-09-13T07:32:17.249Z"
   },
   {
    "duration": 18,
    "start_time": "2021-09-13T07:32:17.275Z"
   },
   {
    "duration": 19,
    "start_time": "2021-09-13T07:32:17.295Z"
   },
   {
    "duration": 1107,
    "start_time": "2021-09-13T07:34:36.041Z"
   },
   {
    "duration": 51,
    "start_time": "2021-09-13T07:34:37.150Z"
   },
   {
    "duration": 10,
    "start_time": "2021-09-13T07:34:37.203Z"
   },
   {
    "duration": 11,
    "start_time": "2021-09-13T07:34:37.215Z"
   },
   {
    "duration": 25,
    "start_time": "2021-09-13T07:34:37.227Z"
   },
   {
    "duration": 14,
    "start_time": "2021-09-13T07:34:37.254Z"
   },
   {
    "duration": 25,
    "start_time": "2021-09-13T07:34:37.270Z"
   },
   {
    "duration": 26,
    "start_time": "2021-09-13T07:34:37.298Z"
   },
   {
    "duration": 9,
    "start_time": "2021-09-13T07:34:37.326Z"
   },
   {
    "duration": 22,
    "start_time": "2021-09-13T07:34:37.336Z"
   },
   {
    "duration": 21,
    "start_time": "2021-09-13T07:34:37.359Z"
   },
   {
    "duration": 17,
    "start_time": "2021-09-13T07:34:37.381Z"
   },
   {
    "duration": 33,
    "start_time": "2021-09-13T07:34:37.399Z"
   },
   {
    "duration": 39,
    "start_time": "2021-09-13T07:34:37.433Z"
   },
   {
    "duration": 4,
    "start_time": "2021-09-13T07:34:37.474Z"
   },
   {
    "duration": 32,
    "start_time": "2021-09-13T07:34:37.479Z"
   },
   {
    "duration": 356,
    "start_time": "2021-09-13T07:34:37.512Z"
   },
   {
    "duration": 7,
    "start_time": "2021-09-13T07:34:37.870Z"
   },
   {
    "duration": 352,
    "start_time": "2021-09-13T07:34:37.878Z"
   },
   {
    "duration": 12,
    "start_time": "2021-09-13T07:34:38.231Z"
   },
   {
    "duration": 478,
    "start_time": "2021-09-13T07:34:38.244Z"
   },
   {
    "duration": 18,
    "start_time": "2021-09-13T07:34:38.724Z"
   },
   {
    "duration": 18,
    "start_time": "2021-09-13T07:34:38.745Z"
   },
   {
    "duration": 321,
    "start_time": "2021-09-13T07:34:38.765Z"
   },
   {
    "duration": 12,
    "start_time": "2021-09-13T07:34:39.091Z"
   },
   {
    "duration": 30,
    "start_time": "2021-09-13T07:34:39.104Z"
   },
   {
    "duration": 428,
    "start_time": "2021-09-13T07:34:39.136Z"
   },
   {
    "duration": 3385,
    "start_time": "2021-09-13T07:34:39.566Z"
   },
   {
    "duration": 18,
    "start_time": "2021-09-13T07:34:42.953Z"
   },
   {
    "duration": 1120,
    "start_time": "2021-09-13T07:34:42.973Z"
   },
   {
    "duration": 1021,
    "start_time": "2021-09-13T07:34:44.095Z"
   },
   {
    "duration": 1156,
    "start_time": "2021-09-13T07:34:45.118Z"
   },
   {
    "duration": 16,
    "start_time": "2021-09-13T07:34:46.275Z"
   },
   {
    "duration": 6,
    "start_time": "2021-09-13T07:34:46.293Z"
   },
   {
    "duration": 8,
    "start_time": "2021-09-13T07:34:46.300Z"
   },
   {
    "duration": 17,
    "start_time": "2021-09-13T07:34:46.310Z"
   },
   {
    "duration": 29,
    "start_time": "2021-09-13T07:34:46.329Z"
   },
   {
    "duration": 340,
    "start_time": "2021-09-13T07:34:46.360Z"
   },
   {
    "duration": 6,
    "start_time": "2021-09-13T07:34:46.701Z"
   },
   {
    "duration": 47,
    "start_time": "2021-09-13T07:34:46.708Z"
   },
   {
    "duration": 648,
    "start_time": "2021-09-13T07:34:46.757Z"
   },
   {
    "duration": 28,
    "start_time": "2021-09-13T07:34:47.407Z"
   },
   {
    "duration": 675,
    "start_time": "2021-09-13T07:34:47.437Z"
   },
   {
    "duration": 32,
    "start_time": "2021-09-13T07:34:48.114Z"
   },
   {
    "duration": 775,
    "start_time": "2021-09-13T07:34:48.148Z"
   },
   {
    "duration": 27,
    "start_time": "2021-09-13T07:34:48.925Z"
   },
   {
    "duration": 20,
    "start_time": "2021-09-13T07:34:48.953Z"
   },
   {
    "duration": 44,
    "start_time": "2021-09-13T07:34:48.975Z"
   },
   {
    "duration": 60,
    "start_time": "2021-09-13T08:47:03.799Z"
   },
   {
    "duration": 55,
    "start_time": "2021-09-13T08:47:42.895Z"
   },
   {
    "duration": 61,
    "start_time": "2021-09-13T08:48:19.026Z"
   },
   {
    "duration": 66,
    "start_time": "2021-09-13T08:52:03.973Z"
   },
   {
    "duration": 78,
    "start_time": "2021-09-13T08:52:37.108Z"
   },
   {
    "duration": 92,
    "start_time": "2021-09-13T09:03:21.275Z"
   },
   {
    "duration": 239,
    "start_time": "2021-09-13T09:04:41.101Z"
   }
  ],
  "kernelspec": {
   "display_name": "Python 3",
   "language": "python",
   "name": "python3"
  },
  "language_info": {
   "codemirror_mode": {
    "name": "ipython",
    "version": 3
   },
   "file_extension": ".py",
   "mimetype": "text/x-python",
   "name": "python",
   "nbconvert_exporter": "python",
   "pygments_lexer": "ipython3",
   "version": "3.8.8"
  },
  "toc": {
   "base_numbering": 1,
   "nav_menu": {},
   "number_sections": true,
   "sideBar": true,
   "skip_h1_title": true,
   "title_cell": "Table of Contents",
   "title_sidebar": "Contents",
   "toc_cell": true,
   "toc_position": {},
   "toc_section_display": true,
   "toc_window_display": true
  }
 },
 "nbformat": 4,
 "nbformat_minor": 2
}
